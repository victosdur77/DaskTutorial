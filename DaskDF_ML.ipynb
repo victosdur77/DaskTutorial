








<!DOCTYPE html>
<html lang="en">

<head>
  <meta charset="utf-8">
  <title>Jupyter Notebook Viewer</title>
  <meta name="viewport" content="width=device-width, initial-scale=1.0">
  <meta name="description" content="">
  <meta name="author" content="">
  
  <meta name="robots" content="noindex,nofollow">
  

  <!--NEW RELIC Start Perf Measurement-->
  
  <!--NREND-->

  <!-- Le styles -->
  <link href="/static/build/styles.css" rel="stylesheet">

  <!-- Le HTML5 shim, for IE6-8 support of HTML5 elements -->
  <!--[if lt IE 9]>
    <script src="http://html5shim.googlecode.com/svn/trunk/html5.js"></script>
  <![endif]-->

  <!-- Le fav and touch icons -->
  <link rel="shortcut icon" href="/static/ico/ipynb_icon_16x16.png">
  <link rel="apple-touch-icon-precomposed" sizes="144x144"
        href="/static/ico/apple-touch-icon-144-precomposed.png">
  <link rel="apple-touch-icon-precomposed" sizes="114x114"
        href="/static/ico/apple-touch-icon-114-precomposed.png">
  <link rel="apple-touch-icon-precomposed" sizes="72x72"
        href="/static/ico/apple-touch-icon-72-precomposed.png">
  <link rel="apple-touch-icon-precomposed"
        href="/static/ico/apple-touch-icon-57-precomposed.png">
  <!--block extra head layout.html-->
  
  

  

  
  <meta name="twitter:card" content="summary">
  <meta name="twitter:title" content="Notebook on nbviewer">
  <meta name="twitter:description" content="Check out this Jupyter notebook!">

  
  <meta name="twitter:domain" content="nbviewer.jupyter.org">
  <meta name="twitter:image:src" content="http://ipython.org/ipython-doc/dev/_images/ipynb_icon_128x128.png">

  
    <link href="/static/build/notebook.css" rel="stylesheet">
  

  

  
    <script src="https://cdnjs.cloudflare.com/ajax/libs/mathjax/2.7.1/MathJax.js?config=TeX-AMS_HTML" type="text/javascript">
    </script>
    <script type="text/javascript">
      init_mathjax = function() {
        if (window.MathJax) {
          // MathJax loaded
          MathJax.Hub.Config({
            TeX: {
              equationNumbers: {
                autoNumber: "AMS",
                useLabelIds: true
              }
            },
            tex2jax: {
              inlineMath: [ ['$','$'], ["\\(","\\)"] ],
              displayMath: [ ['$$','$$'], ["\\[","\\]"] ],
              processEscapes: true,
              processEnvironments: true
            },
            displayAlign: 'center',
            "HTML-CSS": {
              styles: {'.MathJax_Display': {"margin": 0}},
              linebreaks: { automatic: true }
            }
          });
          MathJax.Hub.Queue(["Typeset", MathJax.Hub]);
        }
      }
      init_mathjax();
    </script>
  

  
    <!-- block ipywidgets notebook.html -->
    <script>
      (function() {
        function addWidgetsRenderer() {
          var mimeElement = document.querySelector('script[type="application/vnd.jupyter.widget-view+json"]');
          var scriptElement = document.createElement('script');
          var widgetRendererSrc = 'https://unpkg.com/@jupyter-widgets/html-manager@0.15/dist/embed-amd.js';
          var widgetState;

          try {
            widgetState = mimeElement && JSON.parse(mimeElement.innerHTML);

            if (widgetState && (widgetState.version_major < 2 || !widgetState.version_major)) {
              widgetRendererSrc = 'https://unpkg.com/jupyter-js-widgets@2.1/dist/embed.js';
            }
          } catch(e) {}

          scriptElement.src = widgetRendererSrc;

          document.body.appendChild(scriptElement);
        }

        document.addEventListener('DOMContentLoaded', addWidgetsRenderer);
      }());
    </script>
    <!-- end block ipywidgets notebook.html -->
  

  <!--end block extra head layout.html-->
  <link rel="stylesheet" href="https://cdn.jsdelivr.net/npm/@fortawesome/fontawesome-free@^5/css/all.min.css" type="text/css" />
  <link rel="stylesheet" href="https://cdn.jsdelivr.net/npm/@fortawesome/fontawesome-free@^5/css/v4-shims.min.css" type="text/css" />
</head>

<body class="nbviewer">

  <!-- These are loaded at the top of the body so they are available to
       notebook cells when they are loaded below. -->
  <script src="/static/components/jquery/dist/jquery.min.js"></script>
  <script src="/static/components/requirejs/require.js"></script>
  <script src="/static/components/moment/min/moment.min.js"></script>
<!-- Navbar
================================================== -->
  <nav id="menubar" class="navbar navbar-default navbar-fixed-top" data-spy="affix">
    <div class="container">
      <div class="navbar-header">
        <button type="button" class="navbar-toggle collapsed" data-toggle="collapse" data-target=".navbar-collapse">
          <span class="sr-only">Toggle navigation</span>
          <i class="fa fa-bars"></i>
        </button>
        <a class="navbar-brand" href="/">
          <img src="/static/img/nav_logo.svg" width="159"/>
        </a>
      </div>

      <div class="collapse navbar-collapse">
        <ul class="nav navbar-nav navbar-right">
          <li>
            <a class="active" href="http://jupyter.org">JUPYTER</a>
          </li>
          <li>
    <a href="/faq" title="FAQ" >
      
        <span>FAQ</span>
      
    </a>
  </li>

          
  
    
  
    
      
        <li>
    <a href="/format/script/github/danbochman/Open-Source-Spotlight/blob/master/Dask/Dask.ipynb" title="View as Code" >
      <span class="fa fa-code fa-2x menu-icon"></span>
      <span class="menu-text">View as Code</span>
    </a>
  </li>
      
    
  

  
    <li>
    <a href="#" title="Python 3 Kernel" >
      <span class="fa fa-server fa-2x menu-icon"></span>
      <span class="menu-text">Python 3 Kernel</span>
    </a>
  </li>
  

  
    <li>
    <a href="https://github.com/danbochman/Open-Source-Spotlight/blob/master/Dask/Dask.ipynb" title="View on GitHub" >
      <span class="fa fa-github fa-2x menu-icon"></span>
      <span class="menu-text">View on GitHub</span>
    </a>
  </li>
  

  
    <li>
    <a href="https://mybinder.org/v2/gh/danbochman/Open-Source-Spotlight/master?filepath=Dask/Dask.ipynb" title="Execute on Binder" >
      <span class="fa fa-icon-binder fa-2x menu-icon"></span>
      <span class="menu-text">Execute on Binder</span>
    </a>
  </li>
  

  <li>
    <a href="https://raw.githubusercontent.com/danbochman/Open-Source-Spotlight/master/Dask/Dask.ipynb" title="Download Notebook" download>
      <span class="fa fa-download fa-2x menu-icon"></span>
      <span class="menu-text">Download Notebook</span>
    </a>
  </li>

        </ul>
      </div><!-- /.navbar-collapse -->
      
      
    </div>
  </nav>

  <div class="container container-main">
    
  <!-- block body safe notebook.html -->
  
  <ol class="breadcrumb">
    
      <li>
        <a href="/github/danbochman/Open-Source-Spotlight/tree/master">Open-Source-Spotlight</a>
      </li>
    
      <li>
        <a href="/github/danbochman/Open-Source-Spotlight/tree/master/Dask">Dask</a>
      </li>
    
  </ol>
  
  <!DOCTYPE html>
<html>
<head><meta charset="utf-8" />
<meta name="viewport" content="width=device-width, initial-scale=1.0">

<title>Notebook</title><script src="https://cdnjs.cloudflare.com/ajax/libs/require.js/2.1.10/require.min.js"></script>




<style type="text/css">
    pre { line-height: 125%; }
td.linenos .normal { color: inherit; background-color: transparent; padding-left: 5px; padding-right: 5px; }
span.linenos { color: inherit; background-color: transparent; padding-left: 5px; padding-right: 5px; }
td.linenos .special { color: #000000; background-color: #ffffc0; padding-left: 5px; padding-right: 5px; }
span.linenos.special { color: #000000; background-color: #ffffc0; padding-left: 5px; padding-right: 5px; }
.highlight .hll { background-color: var(--jp-cell-editor-active-background) }
.highlight { background: var(--jp-cell-editor-background); color: var(--jp-mirror-editor-variable-color) }
.highlight .c { color: var(--jp-mirror-editor-comment-color); font-style: italic } /* Comment */
.highlight .err { color: var(--jp-mirror-editor-error-color) } /* Error */
.highlight .k { color: var(--jp-mirror-editor-keyword-color); font-weight: bold } /* Keyword */
.highlight .o { color: var(--jp-mirror-editor-operator-color); font-weight: bold } /* Operator */
.highlight .p { color: var(--jp-mirror-editor-punctuation-color) } /* Punctuation */
.highlight .ch { color: var(--jp-mirror-editor-comment-color); font-style: italic } /* Comment.Hashbang */
.highlight .cm { color: var(--jp-mirror-editor-comment-color); font-style: italic } /* Comment.Multiline */
.highlight .cp { color: var(--jp-mirror-editor-comment-color); font-style: italic } /* Comment.Preproc */
.highlight .cpf { color: var(--jp-mirror-editor-comment-color); font-style: italic } /* Comment.PreprocFile */
.highlight .c1 { color: var(--jp-mirror-editor-comment-color); font-style: italic } /* Comment.Single */
.highlight .cs { color: var(--jp-mirror-editor-comment-color); font-style: italic } /* Comment.Special */
.highlight .kc { color: var(--jp-mirror-editor-keyword-color); font-weight: bold } /* Keyword.Constant */
.highlight .kd { color: var(--jp-mirror-editor-keyword-color); font-weight: bold } /* Keyword.Declaration */
.highlight .kn { color: var(--jp-mirror-editor-keyword-color); font-weight: bold } /* Keyword.Namespace */
.highlight .kp { color: var(--jp-mirror-editor-keyword-color); font-weight: bold } /* Keyword.Pseudo */
.highlight .kr { color: var(--jp-mirror-editor-keyword-color); font-weight: bold } /* Keyword.Reserved */
.highlight .kt { color: var(--jp-mirror-editor-keyword-color); font-weight: bold } /* Keyword.Type */
.highlight .m { color: var(--jp-mirror-editor-number-color) } /* Literal.Number */
.highlight .s { color: var(--jp-mirror-editor-string-color) } /* Literal.String */
.highlight .ow { color: var(--jp-mirror-editor-operator-color); font-weight: bold } /* Operator.Word */
.highlight .pm { color: var(--jp-mirror-editor-punctuation-color) } /* Punctuation.Marker */
.highlight .w { color: var(--jp-mirror-editor-variable-color) } /* Text.Whitespace */
.highlight .mb { color: var(--jp-mirror-editor-number-color) } /* Literal.Number.Bin */
.highlight .mf { color: var(--jp-mirror-editor-number-color) } /* Literal.Number.Float */
.highlight .mh { color: var(--jp-mirror-editor-number-color) } /* Literal.Number.Hex */
.highlight .mi { color: var(--jp-mirror-editor-number-color) } /* Literal.Number.Integer */
.highlight .mo { color: var(--jp-mirror-editor-number-color) } /* Literal.Number.Oct */
.highlight .sa { color: var(--jp-mirror-editor-string-color) } /* Literal.String.Affix */
.highlight .sb { color: var(--jp-mirror-editor-string-color) } /* Literal.String.Backtick */
.highlight .sc { color: var(--jp-mirror-editor-string-color) } /* Literal.String.Char */
.highlight .dl { color: var(--jp-mirror-editor-string-color) } /* Literal.String.Delimiter */
.highlight .sd { color: var(--jp-mirror-editor-string-color) } /* Literal.String.Doc */
.highlight .s2 { color: var(--jp-mirror-editor-string-color) } /* Literal.String.Double */
.highlight .se { color: var(--jp-mirror-editor-string-color) } /* Literal.String.Escape */
.highlight .sh { color: var(--jp-mirror-editor-string-color) } /* Literal.String.Heredoc */
.highlight .si { color: var(--jp-mirror-editor-string-color) } /* Literal.String.Interpol */
.highlight .sx { color: var(--jp-mirror-editor-string-color) } /* Literal.String.Other */
.highlight .sr { color: var(--jp-mirror-editor-string-color) } /* Literal.String.Regex */
.highlight .s1 { color: var(--jp-mirror-editor-string-color) } /* Literal.String.Single */
.highlight .ss { color: var(--jp-mirror-editor-string-color) } /* Literal.String.Symbol */
.highlight .il { color: var(--jp-mirror-editor-number-color) } /* Literal.Number.Integer.Long */
  </style>



<style type="text/css">
/*-----------------------------------------------------------------------------
| Copyright (c) Jupyter Development Team.
| Distributed under the terms of the Modified BSD License.
|----------------------------------------------------------------------------*/

/*
 * Mozilla scrollbar styling
 */

/* use standard opaque scrollbars for most nodes */
[data-jp-theme-scrollbars='true'] {
  scrollbar-color: rgb(var(--jp-scrollbar-thumb-color))
    var(--jp-scrollbar-background-color);
}

/* for code nodes, use a transparent style of scrollbar. These selectors
 * will match lower in the tree, and so will override the above */
[data-jp-theme-scrollbars='true'] .CodeMirror-hscrollbar,
[data-jp-theme-scrollbars='true'] .CodeMirror-vscrollbar {
  scrollbar-color: rgba(var(--jp-scrollbar-thumb-color), 0.5) transparent;
}

/* tiny scrollbar */

.jp-scrollbar-tiny {
  scrollbar-color: rgba(var(--jp-scrollbar-thumb-color), 0.5) transparent;
  scrollbar-width: thin;
}

/*
 * Webkit scrollbar styling
 */

/* use standard opaque scrollbars for most nodes */

[data-jp-theme-scrollbars='true'] ::-webkit-scrollbar,
[data-jp-theme-scrollbars='true'] ::-webkit-scrollbar-corner {
  background: var(--jp-scrollbar-background-color);
}

[data-jp-theme-scrollbars='true'] ::-webkit-scrollbar-thumb {
  background: rgb(var(--jp-scrollbar-thumb-color));
  border: var(--jp-scrollbar-thumb-margin) solid transparent;
  background-clip: content-box;
  border-radius: var(--jp-scrollbar-thumb-radius);
}

[data-jp-theme-scrollbars='true'] ::-webkit-scrollbar-track:horizontal {
  border-left: var(--jp-scrollbar-endpad) solid
    var(--jp-scrollbar-background-color);
  border-right: var(--jp-scrollbar-endpad) solid
    var(--jp-scrollbar-background-color);
}

[data-jp-theme-scrollbars='true'] ::-webkit-scrollbar-track:vertical {
  border-top: var(--jp-scrollbar-endpad) solid
    var(--jp-scrollbar-background-color);
  border-bottom: var(--jp-scrollbar-endpad) solid
    var(--jp-scrollbar-background-color);
}

/* for code nodes, use a transparent style of scrollbar */

[data-jp-theme-scrollbars='true'] .CodeMirror-hscrollbar::-webkit-scrollbar,
[data-jp-theme-scrollbars='true'] .CodeMirror-vscrollbar::-webkit-scrollbar,
[data-jp-theme-scrollbars='true']
  .CodeMirror-hscrollbar::-webkit-scrollbar-corner,
[data-jp-theme-scrollbars='true']
  .CodeMirror-vscrollbar::-webkit-scrollbar-corner {
  background-color: transparent;
}

[data-jp-theme-scrollbars='true']
  .CodeMirror-hscrollbar::-webkit-scrollbar-thumb,
[data-jp-theme-scrollbars='true']
  .CodeMirror-vscrollbar::-webkit-scrollbar-thumb {
  background: rgba(var(--jp-scrollbar-thumb-color), 0.5);
  border: var(--jp-scrollbar-thumb-margin) solid transparent;
  background-clip: content-box;
  border-radius: var(--jp-scrollbar-thumb-radius);
}

[data-jp-theme-scrollbars='true']
  .CodeMirror-hscrollbar::-webkit-scrollbar-track:horizontal {
  border-left: var(--jp-scrollbar-endpad) solid transparent;
  border-right: var(--jp-scrollbar-endpad) solid transparent;
}

[data-jp-theme-scrollbars='true']
  .CodeMirror-vscrollbar::-webkit-scrollbar-track:vertical {
  border-top: var(--jp-scrollbar-endpad) solid transparent;
  border-bottom: var(--jp-scrollbar-endpad) solid transparent;
}

/* tiny scrollbar */

.jp-scrollbar-tiny::-webkit-scrollbar,
.jp-scrollbar-tiny::-webkit-scrollbar-corner {
  background-color: transparent;
  height: 4px;
  width: 4px;
}

.jp-scrollbar-tiny::-webkit-scrollbar-thumb {
  background: rgba(var(--jp-scrollbar-thumb-color), 0.5);
}

.jp-scrollbar-tiny::-webkit-scrollbar-track:horizontal {
  border-left: 0px solid transparent;
  border-right: 0px solid transparent;
}

.jp-scrollbar-tiny::-webkit-scrollbar-track:vertical {
  border-top: 0px solid transparent;
  border-bottom: 0px solid transparent;
}

/*
 * Phosphor
 */

.lm-ScrollBar[data-orientation='horizontal'] {
  min-height: 16px;
  max-height: 16px;
  min-width: 45px;
  border-top: 1px solid #a0a0a0;
}

.lm-ScrollBar[data-orientation='vertical'] {
  min-width: 16px;
  max-width: 16px;
  min-height: 45px;
  border-left: 1px solid #a0a0a0;
}

.lm-ScrollBar-button {
  background-color: #f0f0f0;
  background-position: center center;
  min-height: 15px;
  max-height: 15px;
  min-width: 15px;
  max-width: 15px;
}

.lm-ScrollBar-button:hover {
  background-color: #dadada;
}

.lm-ScrollBar-button.lm-mod-active {
  background-color: #cdcdcd;
}

.lm-ScrollBar-track {
  background: #f0f0f0;
}

.lm-ScrollBar-thumb {
  background: #cdcdcd;
}

.lm-ScrollBar-thumb:hover {
  background: #bababa;
}

.lm-ScrollBar-thumb.lm-mod-active {
  background: #a0a0a0;
}

.lm-ScrollBar[data-orientation='horizontal'] .lm-ScrollBar-thumb {
  height: 100%;
  min-width: 15px;
  border-left: 1px solid #a0a0a0;
  border-right: 1px solid #a0a0a0;
}

.lm-ScrollBar[data-orientation='vertical'] .lm-ScrollBar-thumb {
  width: 100%;
  min-height: 15px;
  border-top: 1px solid #a0a0a0;
  border-bottom: 1px solid #a0a0a0;
}

.lm-ScrollBar[data-orientation='horizontal']
  .lm-ScrollBar-button[data-action='decrement'] {
  background-image: var(--jp-icon-caret-left);
  background-size: 17px;
}

.lm-ScrollBar[data-orientation='horizontal']
  .lm-ScrollBar-button[data-action='increment'] {
  background-image: var(--jp-icon-caret-right);
  background-size: 17px;
}

.lm-ScrollBar[data-orientation='vertical']
  .lm-ScrollBar-button[data-action='decrement'] {
  background-image: var(--jp-icon-caret-up);
  background-size: 17px;
}

.lm-ScrollBar[data-orientation='vertical']
  .lm-ScrollBar-button[data-action='increment'] {
  background-image: var(--jp-icon-caret-down);
  background-size: 17px;
}

/*-----------------------------------------------------------------------------
| Copyright (c) Jupyter Development Team.
| Copyright (c) 2014-2017, PhosphorJS Contributors
|
| Distributed under the terms of the BSD 3-Clause License.
|
| The full license is in the file LICENSE, distributed with this software.
|----------------------------------------------------------------------------*/


/* <DEPRECATED> */ .p-Widget, /* </DEPRECATED> */
.lm-Widget {
  box-sizing: border-box;
  position: relative;
  overflow: hidden;
  cursor: default;
}


/* <DEPRECATED> */ .p-Widget.p-mod-hidden, /* </DEPRECATED> */
.lm-Widget.lm-mod-hidden {
  display: none !important;
}

/*-----------------------------------------------------------------------------
| Copyright (c) Jupyter Development Team.
| Copyright (c) 2014-2017, PhosphorJS Contributors
|
| Distributed under the terms of the BSD 3-Clause License.
|
| The full license is in the file LICENSE, distributed with this software.
|----------------------------------------------------------------------------*/


/* <DEPRECATED> */ .p-CommandPalette, /* </DEPRECATED> */
.lm-CommandPalette {
  display: flex;
  flex-direction: column;
  -webkit-user-select: none;
  -moz-user-select: none;
  -ms-user-select: none;
  user-select: none;
}


/* <DEPRECATED> */ .p-CommandPalette-search, /* </DEPRECATED> */
.lm-CommandPalette-search {
  flex: 0 0 auto;
}


/* <DEPRECATED> */ .p-CommandPalette-content, /* </DEPRECATED> */
.lm-CommandPalette-content {
  flex: 1 1 auto;
  margin: 0;
  padding: 0;
  min-height: 0;
  overflow: auto;
  list-style-type: none;
}


/* <DEPRECATED> */ .p-CommandPalette-header, /* </DEPRECATED> */
.lm-CommandPalette-header {
  overflow: hidden;
  white-space: nowrap;
  text-overflow: ellipsis;
}


/* <DEPRECATED> */ .p-CommandPalette-item, /* </DEPRECATED> */
.lm-CommandPalette-item {
  display: flex;
  flex-direction: row;
}


/* <DEPRECATED> */ .p-CommandPalette-itemIcon, /* </DEPRECATED> */
.lm-CommandPalette-itemIcon {
  flex: 0 0 auto;
}


/* <DEPRECATED> */ .p-CommandPalette-itemContent, /* </DEPRECATED> */
.lm-CommandPalette-itemContent {
  flex: 1 1 auto;
  overflow: hidden;
}


/* <DEPRECATED> */ .p-CommandPalette-itemShortcut, /* </DEPRECATED> */
.lm-CommandPalette-itemShortcut {
  flex: 0 0 auto;
}


/* <DEPRECATED> */ .p-CommandPalette-itemLabel, /* </DEPRECATED> */
.lm-CommandPalette-itemLabel {
  overflow: hidden;
  white-space: nowrap;
  text-overflow: ellipsis;
}

.lm-close-icon {
	border:1px solid transparent;
  background-color: transparent;
  position: absolute;
	z-index:1;
	right:3%;
	top: 0;
	bottom: 0;
	margin: auto;
	padding: 7px 0;
	display: none;
	vertical-align: middle;
  outline: 0;
  cursor: pointer;
}
.lm-close-icon:after {
	content: "X";
	display: block;
	width: 15px;
	height: 15px;
	text-align: center;
	color:#000;
	font-weight: normal;
	font-size: 12px;
	cursor: pointer;
}

/*-----------------------------------------------------------------------------
| Copyright (c) Jupyter Development Team.
| Copyright (c) 2014-2017, PhosphorJS Contributors
|
| Distributed under the terms of the BSD 3-Clause License.
|
| The full license is in the file LICENSE, distributed with this software.
|----------------------------------------------------------------------------*/


/* <DEPRECATED> */ .p-DockPanel, /* </DEPRECATED> */
.lm-DockPanel {
  z-index: 0;
}


/* <DEPRECATED> */ .p-DockPanel-widget, /* </DEPRECATED> */
.lm-DockPanel-widget {
  z-index: 0;
}


/* <DEPRECATED> */ .p-DockPanel-tabBar, /* </DEPRECATED> */
.lm-DockPanel-tabBar {
  z-index: 1;
}


/* <DEPRECATED> */ .p-DockPanel-handle, /* </DEPRECATED> */
.lm-DockPanel-handle {
  z-index: 2;
}


/* <DEPRECATED> */ .p-DockPanel-handle.p-mod-hidden, /* </DEPRECATED> */
.lm-DockPanel-handle.lm-mod-hidden {
  display: none !important;
}


/* <DEPRECATED> */ .p-DockPanel-handle:after, /* </DEPRECATED> */
.lm-DockPanel-handle:after {
  position: absolute;
  top: 0;
  left: 0;
  width: 100%;
  height: 100%;
  content: '';
}


/* <DEPRECATED> */
.p-DockPanel-handle[data-orientation='horizontal'],
/* </DEPRECATED> */
.lm-DockPanel-handle[data-orientation='horizontal'] {
  cursor: ew-resize;
}


/* <DEPRECATED> */
.p-DockPanel-handle[data-orientation='vertical'],
/* </DEPRECATED> */
.lm-DockPanel-handle[data-orientation='vertical'] {
  cursor: ns-resize;
}


/* <DEPRECATED> */
.p-DockPanel-handle[data-orientation='horizontal']:after,
/* </DEPRECATED> */
.lm-DockPanel-handle[data-orientation='horizontal']:after {
  left: 50%;
  min-width: 8px;
  transform: translateX(-50%);
}


/* <DEPRECATED> */
.p-DockPanel-handle[data-orientation='vertical']:after,
/* </DEPRECATED> */
.lm-DockPanel-handle[data-orientation='vertical']:after {
  top: 50%;
  min-height: 8px;
  transform: translateY(-50%);
}


/* <DEPRECATED> */ .p-DockPanel-overlay, /* </DEPRECATED> */
.lm-DockPanel-overlay {
  z-index: 3;
  box-sizing: border-box;
  pointer-events: none;
}


/* <DEPRECATED> */ .p-DockPanel-overlay.p-mod-hidden, /* </DEPRECATED> */
.lm-DockPanel-overlay.lm-mod-hidden {
  display: none !important;
}

/*-----------------------------------------------------------------------------
| Copyright (c) Jupyter Development Team.
| Copyright (c) 2014-2017, PhosphorJS Contributors
|
| Distributed under the terms of the BSD 3-Clause License.
|
| The full license is in the file LICENSE, distributed with this software.
|----------------------------------------------------------------------------*/


/* <DEPRECATED> */ .p-Menu, /* </DEPRECATED> */
.lm-Menu {
  z-index: 10000;
  position: absolute;
  white-space: nowrap;
  overflow-x: hidden;
  overflow-y: auto;
  outline: none;
  -webkit-user-select: none;
  -moz-user-select: none;
  -ms-user-select: none;
  user-select: none;
}


/* <DEPRECATED> */ .p-Menu-content, /* </DEPRECATED> */
.lm-Menu-content {
  margin: 0;
  padding: 0;
  display: table;
  list-style-type: none;
}


/* <DEPRECATED> */ .p-Menu-item, /* </DEPRECATED> */
.lm-Menu-item {
  display: table-row;
}


/* <DEPRECATED> */
.p-Menu-item.p-mod-hidden,
.p-Menu-item.p-mod-collapsed,
/* </DEPRECATED> */
.lm-Menu-item.lm-mod-hidden,
.lm-Menu-item.lm-mod-collapsed {
  display: none !important;
}


/* <DEPRECATED> */
.p-Menu-itemIcon,
.p-Menu-itemSubmenuIcon,
/* </DEPRECATED> */
.lm-Menu-itemIcon,
.lm-Menu-itemSubmenuIcon {
  display: table-cell;
  text-align: center;
}


/* <DEPRECATED> */ .p-Menu-itemLabel, /* </DEPRECATED> */
.lm-Menu-itemLabel {
  display: table-cell;
  text-align: left;
}


/* <DEPRECATED> */ .p-Menu-itemShortcut, /* </DEPRECATED> */
.lm-Menu-itemShortcut {
  display: table-cell;
  text-align: right;
}

/*-----------------------------------------------------------------------------
| Copyright (c) Jupyter Development Team.
| Copyright (c) 2014-2017, PhosphorJS Contributors
|
| Distributed under the terms of the BSD 3-Clause License.
|
| The full license is in the file LICENSE, distributed with this software.
|----------------------------------------------------------------------------*/


/* <DEPRECATED> */ .p-MenuBar, /* </DEPRECATED> */
.lm-MenuBar {
  outline: none;
  -webkit-user-select: none;
  -moz-user-select: none;
  -ms-user-select: none;
  user-select: none;
}


/* <DEPRECATED> */ .p-MenuBar-content, /* </DEPRECATED> */
.lm-MenuBar-content {
  margin: 0;
  padding: 0;
  display: flex;
  flex-direction: row;
  list-style-type: none;
}


/* <DEPRECATED> */ .p--MenuBar-item, /* </DEPRECATED> */
.lm-MenuBar-item {
  box-sizing: border-box;
}


/* <DEPRECATED> */
.p-MenuBar-itemIcon,
.p-MenuBar-itemLabel,
/* </DEPRECATED> */
.lm-MenuBar-itemIcon,
.lm-MenuBar-itemLabel {
  display: inline-block;
}

/*-----------------------------------------------------------------------------
| Copyright (c) Jupyter Development Team.
| Copyright (c) 2014-2017, PhosphorJS Contributors
|
| Distributed under the terms of the BSD 3-Clause License.
|
| The full license is in the file LICENSE, distributed with this software.
|----------------------------------------------------------------------------*/


/* <DEPRECATED> */ .p-ScrollBar, /* </DEPRECATED> */
.lm-ScrollBar {
  display: flex;
  -webkit-user-select: none;
  -moz-user-select: none;
  -ms-user-select: none;
  user-select: none;
}


/* <DEPRECATED> */
.p-ScrollBar[data-orientation='horizontal'],
/* </DEPRECATED> */
.lm-ScrollBar[data-orientation='horizontal'] {
  flex-direction: row;
}


/* <DEPRECATED> */
.p-ScrollBar[data-orientation='vertical'],
/* </DEPRECATED> */
.lm-ScrollBar[data-orientation='vertical'] {
  flex-direction: column;
}


/* <DEPRECATED> */ .p-ScrollBar-button, /* </DEPRECATED> */
.lm-ScrollBar-button {
  box-sizing: border-box;
  flex: 0 0 auto;
}


/* <DEPRECATED> */ .p-ScrollBar-track, /* </DEPRECATED> */
.lm-ScrollBar-track {
  box-sizing: border-box;
  position: relative;
  overflow: hidden;
  flex: 1 1 auto;
}


/* <DEPRECATED> */ .p-ScrollBar-thumb, /* </DEPRECATED> */
.lm-ScrollBar-thumb {
  box-sizing: border-box;
  position: absolute;
}

/*-----------------------------------------------------------------------------
| Copyright (c) Jupyter Development Team.
| Copyright (c) 2014-2017, PhosphorJS Contributors
|
| Distributed under the terms of the BSD 3-Clause License.
|
| The full license is in the file LICENSE, distributed with this software.
|----------------------------------------------------------------------------*/


/* <DEPRECATED> */ .p-SplitPanel-child, /* </DEPRECATED> */
.lm-SplitPanel-child {
  z-index: 0;
}


/* <DEPRECATED> */ .p-SplitPanel-handle, /* </DEPRECATED> */
.lm-SplitPanel-handle {
  z-index: 1;
}


/* <DEPRECATED> */ .p-SplitPanel-handle.p-mod-hidden, /* </DEPRECATED> */
.lm-SplitPanel-handle.lm-mod-hidden {
  display: none !important;
}


/* <DEPRECATED> */ .p-SplitPanel-handle:after, /* </DEPRECATED> */
.lm-SplitPanel-handle:after {
  position: absolute;
  top: 0;
  left: 0;
  width: 100%;
  height: 100%;
  content: '';
}


/* <DEPRECATED> */
.p-SplitPanel[data-orientation='horizontal'] > .p-SplitPanel-handle,
/* </DEPRECATED> */
.lm-SplitPanel[data-orientation='horizontal'] > .lm-SplitPanel-handle {
  cursor: ew-resize;
}


/* <DEPRECATED> */
.p-SplitPanel[data-orientation='vertical'] > .p-SplitPanel-handle,
/* </DEPRECATED> */
.lm-SplitPanel[data-orientation='vertical'] > .lm-SplitPanel-handle {
  cursor: ns-resize;
}


/* <DEPRECATED> */
.p-SplitPanel[data-orientation='horizontal'] > .p-SplitPanel-handle:after,
/* </DEPRECATED> */
.lm-SplitPanel[data-orientation='horizontal'] > .lm-SplitPanel-handle:after {
  left: 50%;
  min-width: 8px;
  transform: translateX(-50%);
}


/* <DEPRECATED> */
.p-SplitPanel[data-orientation='vertical'] > .p-SplitPanel-handle:after,
/* </DEPRECATED> */
.lm-SplitPanel[data-orientation='vertical'] > .lm-SplitPanel-handle:after {
  top: 50%;
  min-height: 8px;
  transform: translateY(-50%);
}

/*-----------------------------------------------------------------------------
| Copyright (c) Jupyter Development Team.
| Copyright (c) 2014-2017, PhosphorJS Contributors
|
| Distributed under the terms of the BSD 3-Clause License.
|
| The full license is in the file LICENSE, distributed with this software.
|----------------------------------------------------------------------------*/


/* <DEPRECATED> */ .p-TabBar, /* </DEPRECATED> */
.lm-TabBar {
  display: flex;
  -webkit-user-select: none;
  -moz-user-select: none;
  -ms-user-select: none;
  user-select: none;
}


/* <DEPRECATED> */ .p-TabBar[data-orientation='horizontal'], /* </DEPRECATED> */
.lm-TabBar[data-orientation='horizontal'] {
  flex-direction: row;
  align-items: flex-end;
}


/* <DEPRECATED> */ .p-TabBar[data-orientation='vertical'], /* </DEPRECATED> */
.lm-TabBar[data-orientation='vertical'] {
  flex-direction: column;
  align-items: flex-end;
}


/* <DEPRECATED> */ .p-TabBar-content, /* </DEPRECATED> */
.lm-TabBar-content {
  margin: 0;
  padding: 0;
  display: flex;
  flex: 1 1 auto;
  list-style-type: none;
}


/* <DEPRECATED> */
.p-TabBar[data-orientation='horizontal'] > .p-TabBar-content,
/* </DEPRECATED> */
.lm-TabBar[data-orientation='horizontal'] > .lm-TabBar-content {
  flex-direction: row;
}


/* <DEPRECATED> */
.p-TabBar[data-orientation='vertical'] > .p-TabBar-content,
/* </DEPRECATED> */
.lm-TabBar[data-orientation='vertical'] > .lm-TabBar-content {
  flex-direction: column;
}


/* <DEPRECATED> */ .p-TabBar-tab, /* </DEPRECATED> */
.lm-TabBar-tab {
  display: flex;
  flex-direction: row;
  box-sizing: border-box;
  overflow: hidden;
}


/* <DEPRECATED> */
.p-TabBar-tabIcon,
.p-TabBar-tabCloseIcon,
/* </DEPRECATED> */
.lm-TabBar-tabIcon,
.lm-TabBar-tabCloseIcon {
  flex: 0 0 auto;
}


/* <DEPRECATED> */ .p-TabBar-tabLabel, /* </DEPRECATED> */
.lm-TabBar-tabLabel {
  flex: 1 1 auto;
  overflow: hidden;
  white-space: nowrap;
}


.lm-TabBar-tabInput {
  user-select: all;
  width: 100%;
  box-sizing : border-box;
}


/* <DEPRECATED> */ .p-TabBar-tab.p-mod-hidden, /* </DEPRECATED> */
.lm-TabBar-tab.lm-mod-hidden {
  display: none !important;
}


.lm-TabBar-addButton.lm-mod-hidden {
  display: none !important;
}


/* <DEPRECATED> */ .p-TabBar.p-mod-dragging .p-TabBar-tab, /* </DEPRECATED> */
.lm-TabBar.lm-mod-dragging .lm-TabBar-tab {
  position: relative;
}


/* <DEPRECATED> */
.p-TabBar.p-mod-dragging[data-orientation='horizontal'] .p-TabBar-tab,
/* </DEPRECATED> */
.lm-TabBar.lm-mod-dragging[data-orientation='horizontal'] .lm-TabBar-tab {
  left: 0;
  transition: left 150ms ease;
}


/* <DEPRECATED> */
.p-TabBar.p-mod-dragging[data-orientation='vertical'] .p-TabBar-tab,
/* </DEPRECATED> */
.lm-TabBar.lm-mod-dragging[data-orientation='vertical'] .lm-TabBar-tab {
  top: 0;
  transition: top 150ms ease;
}


/* <DEPRECATED> */
.p-TabBar.p-mod-dragging .p-TabBar-tab.p-mod-dragging,
/* </DEPRECATED> */
.lm-TabBar.lm-mod-dragging .lm-TabBar-tab.lm-mod-dragging {
  transition: none;
}

.lm-TabBar-tabLabel .lm-TabBar-tabInput {
  user-select: all;
  width: 100%;
  box-sizing : border-box;
  background: inherit;
}

/*-----------------------------------------------------------------------------
| Copyright (c) Jupyter Development Team.
| Copyright (c) 2014-2017, PhosphorJS Contributors
|
| Distributed under the terms of the BSD 3-Clause License.
|
| The full license is in the file LICENSE, distributed with this software.
|----------------------------------------------------------------------------*/


/* <DEPRECATED> */ .p-TabPanel-tabBar, /* </DEPRECATED> */
.lm-TabPanel-tabBar {
  z-index: 1;
}


/* <DEPRECATED> */ .p-TabPanel-stackedPanel, /* </DEPRECATED> */
.lm-TabPanel-stackedPanel {
  z-index: 0;
}

/*-----------------------------------------------------------------------------
| Copyright (c) Jupyter Development Team.
| Copyright (c) 2014-2017, PhosphorJS Contributors
|
| Distributed under the terms of the BSD 3-Clause License.
|
| The full license is in the file LICENSE, distributed with this software.
|----------------------------------------------------------------------------*/

@charset "UTF-8";
html{
  -webkit-box-sizing:border-box;
          box-sizing:border-box; }

*,
*::before,
*::after{
  -webkit-box-sizing:inherit;
          box-sizing:inherit; }

body{
  font-size:14px;
  font-weight:400;
  letter-spacing:0;
  line-height:1.28581;
  text-transform:none;
  color:#182026;
  font-family:-apple-system, "BlinkMacSystemFont", "Segoe UI", "Roboto", "Oxygen", "Ubuntu", "Cantarell", "Open Sans", "Helvetica Neue", "Icons16", sans-serif; }

p{
  margin-bottom:10px;
  margin-top:0; }

small{
  font-size:12px; }

strong{
  font-weight:600; }

::-moz-selection{
  background:rgba(125, 188, 255, 0.6); }

::selection{
  background:rgba(125, 188, 255, 0.6); }
.bp3-heading{
  color:#182026;
  font-weight:600;
  margin:0 0 10px;
  padding:0; }
  .bp3-dark .bp3-heading{
    color:#f5f8fa; }

h1.bp3-heading, .bp3-running-text h1{
  font-size:36px;
  line-height:40px; }

h2.bp3-heading, .bp3-running-text h2{
  font-size:28px;
  line-height:32px; }

h3.bp3-heading, .bp3-running-text h3{
  font-size:22px;
  line-height:25px; }

h4.bp3-heading, .bp3-running-text h4{
  font-size:18px;
  line-height:21px; }

h5.bp3-heading, .bp3-running-text h5{
  font-size:16px;
  line-height:19px; }

h6.bp3-heading, .bp3-running-text h6{
  font-size:14px;
  line-height:16px; }
.bp3-ui-text{
  font-size:14px;
  font-weight:400;
  letter-spacing:0;
  line-height:1.28581;
  text-transform:none; }

.bp3-monospace-text{
  font-family:monospace;
  text-transform:none; }

.bp3-text-muted{
  color:#5c7080; }
  .bp3-dark .bp3-text-muted{
    color:#a7b6c2; }

.bp3-text-disabled{
  color:rgba(92, 112, 128, 0.6); }
  .bp3-dark .bp3-text-disabled{
    color:rgba(167, 182, 194, 0.6); }

.bp3-text-overflow-ellipsis{
  overflow:hidden;
  text-overflow:ellipsis;
  white-space:nowrap;
  word-wrap:normal; }
.bp3-running-text{
  font-size:14px;
  line-height:1.5; }
  .bp3-running-text h1{
    color:#182026;
    font-weight:600;
    margin-bottom:20px;
    margin-top:40px; }
    .bp3-dark .bp3-running-text h1{
      color:#f5f8fa; }
  .bp3-running-text h2{
    color:#182026;
    font-weight:600;
    margin-bottom:20px;
    margin-top:40px; }
    .bp3-dark .bp3-running-text h2{
      color:#f5f8fa; }
  .bp3-running-text h3{
    color:#182026;
    font-weight:600;
    margin-bottom:20px;
    margin-top:40px; }
    .bp3-dark .bp3-running-text h3{
      color:#f5f8fa; }
  .bp3-running-text h4{
    color:#182026;
    font-weight:600;
    margin-bottom:20px;
    margin-top:40px; }
    .bp3-dark .bp3-running-text h4{
      color:#f5f8fa; }
  .bp3-running-text h5{
    color:#182026;
    font-weight:600;
    margin-bottom:20px;
    margin-top:40px; }
    .bp3-dark .bp3-running-text h5{
      color:#f5f8fa; }
  .bp3-running-text h6{
    color:#182026;
    font-weight:600;
    margin-bottom:20px;
    margin-top:40px; }
    .bp3-dark .bp3-running-text h6{
      color:#f5f8fa; }
  .bp3-running-text hr{
    border:none;
    border-bottom:1px solid rgba(16, 22, 26, 0.15);
    margin:20px 0; }
    .bp3-dark .bp3-running-text hr{
      border-color:rgba(255, 255, 255, 0.15); }
  .bp3-running-text p{
    margin:0 0 10px;
    padding:0; }

.bp3-text-large{
  font-size:16px; }

.bp3-text-small{
  font-size:12px; }
a{
  color:#106ba3;
  text-decoration:none; }
  a:hover{
    color:#106ba3;
    cursor:pointer;
    text-decoration:underline; }
  a .bp3-icon, a .bp3-icon-standard, a .bp3-icon-large{
    color:inherit; }
  a code,
  .bp3-dark a code{
    color:inherit; }
  .bp3-dark a,
  .bp3-dark a:hover{
    color:#48aff0; }
    .bp3-dark a .bp3-icon, .bp3-dark a .bp3-icon-standard, .bp3-dark a .bp3-icon-large,
    .bp3-dark a:hover .bp3-icon,
    .bp3-dark a:hover .bp3-icon-standard,
    .bp3-dark a:hover .bp3-icon-large{
      color:inherit; }
.bp3-running-text code, .bp3-code{
  font-family:monospace;
  text-transform:none;
  background:rgba(255, 255, 255, 0.7);
  border-radius:3px;
  -webkit-box-shadow:inset 0 0 0 1px rgba(16, 22, 26, 0.2);
          box-shadow:inset 0 0 0 1px rgba(16, 22, 26, 0.2);
  color:#5c7080;
  font-size:smaller;
  padding:2px 5px; }
  .bp3-dark .bp3-running-text code, .bp3-running-text .bp3-dark code, .bp3-dark .bp3-code{
    background:rgba(16, 22, 26, 0.3);
    -webkit-box-shadow:inset 0 0 0 1px rgba(16, 22, 26, 0.4);
            box-shadow:inset 0 0 0 1px rgba(16, 22, 26, 0.4);
    color:#a7b6c2; }
  .bp3-running-text a > code, a > .bp3-code{
    color:#137cbd; }
    .bp3-dark .bp3-running-text a > code, .bp3-running-text .bp3-dark a > code, .bp3-dark a > .bp3-code{
      color:inherit; }

.bp3-running-text pre, .bp3-code-block{
  font-family:monospace;
  text-transform:none;
  background:rgba(255, 255, 255, 0.7);
  border-radius:3px;
  -webkit-box-shadow:inset 0 0 0 1px rgba(16, 22, 26, 0.15);
          box-shadow:inset 0 0 0 1px rgba(16, 22, 26, 0.15);
  color:#182026;
  display:block;
  font-size:13px;
  line-height:1.4;
  margin:10px 0;
  padding:13px 15px 12px;
  word-break:break-all;
  word-wrap:break-word; }
  .bp3-dark .bp3-running-text pre, .bp3-running-text .bp3-dark pre, .bp3-dark .bp3-code-block{
    background:rgba(16, 22, 26, 0.3);
    -webkit-box-shadow:inset 0 0 0 1px rgba(16, 22, 26, 0.4);
            box-shadow:inset 0 0 0 1px rgba(16, 22, 26, 0.4);
    color:#f5f8fa; }
  .bp3-running-text pre > code, .bp3-code-block > code{
    background:none;
    -webkit-box-shadow:none;
            box-shadow:none;
    color:inherit;
    font-size:inherit;
    padding:0; }

.bp3-running-text kbd, .bp3-key{
  -webkit-box-align:center;
      -ms-flex-align:center;
          align-items:center;
  background:#ffffff;
  border-radius:3px;
  -webkit-box-shadow:0 0 0 1px rgba(16, 22, 26, 0.1), 0 0 0 rgba(16, 22, 26, 0), 0 1px 1px rgba(16, 22, 26, 0.2);
          box-shadow:0 0 0 1px rgba(16, 22, 26, 0.1), 0 0 0 rgba(16, 22, 26, 0), 0 1px 1px rgba(16, 22, 26, 0.2);
  color:#5c7080;
  display:-webkit-inline-box;
  display:-ms-inline-flexbox;
  display:inline-flex;
  font-family:inherit;
  font-size:12px;
  height:24px;
  -webkit-box-pack:center;
      -ms-flex-pack:center;
          justify-content:center;
  line-height:24px;
  min-width:24px;
  padding:3px 6px;
  vertical-align:middle; }
  .bp3-running-text kbd .bp3-icon, .bp3-key .bp3-icon, .bp3-running-text kbd .bp3-icon-standard, .bp3-key .bp3-icon-standard, .bp3-running-text kbd .bp3-icon-large, .bp3-key .bp3-icon-large{
    margin-right:5px; }
  .bp3-dark .bp3-running-text kbd, .bp3-running-text .bp3-dark kbd, .bp3-dark .bp3-key{
    background:#394b59;
    -webkit-box-shadow:0 0 0 1px rgba(16, 22, 26, 0.2), 0 0 0 rgba(16, 22, 26, 0), 0 1px 1px rgba(16, 22, 26, 0.4);
            box-shadow:0 0 0 1px rgba(16, 22, 26, 0.2), 0 0 0 rgba(16, 22, 26, 0), 0 1px 1px rgba(16, 22, 26, 0.4);
    color:#a7b6c2; }
.bp3-running-text blockquote, .bp3-blockquote{
  border-left:solid 4px rgba(167, 182, 194, 0.5);
  margin:0 0 10px;
  padding:0 20px; }
  .bp3-dark .bp3-running-text blockquote, .bp3-running-text .bp3-dark blockquote, .bp3-dark .bp3-blockquote{
    border-color:rgba(115, 134, 148, 0.5); }
.bp3-running-text ul,
.bp3-running-text ol, .bp3-list{
  margin:10px 0;
  padding-left:30px; }
  .bp3-running-text ul li:not(:last-child), .bp3-running-text ol li:not(:last-child), .bp3-list li:not(:last-child){
    margin-bottom:5px; }
  .bp3-running-text ul ol, .bp3-running-text ol ol, .bp3-list ol,
  .bp3-running-text ul ul,
  .bp3-running-text ol ul,
  .bp3-list ul{
    margin-top:5px; }

.bp3-list-unstyled{
  list-style:none;
  margin:0;
  padding:0; }
  .bp3-list-unstyled li{
    padding:0; }
.bp3-rtl{
  text-align:right; }

.bp3-dark{
  color:#f5f8fa; }

:focus{
  outline:rgba(19, 124, 189, 0.6) auto 2px;
  outline-offset:2px;
  -moz-outline-radius:6px; }

.bp3-focus-disabled :focus{
  outline:none !important; }
  .bp3-focus-disabled :focus ~ .bp3-control-indicator{
    outline:none !important; }

.bp3-alert{
  max-width:400px;
  padding:20px; }

.bp3-alert-body{
  display:-webkit-box;
  display:-ms-flexbox;
  display:flex; }
  .bp3-alert-body .bp3-icon{
    font-size:40px;
    margin-right:20px;
    margin-top:0; }

.bp3-alert-contents{
  word-break:break-word; }

.bp3-alert-footer{
  display:-webkit-box;
  display:-ms-flexbox;
  display:flex;
  -webkit-box-orient:horizontal;
  -webkit-box-direction:reverse;
      -ms-flex-direction:row-reverse;
          flex-direction:row-reverse;
  margin-top:10px; }
  .bp3-alert-footer .bp3-button{
    margin-left:10px; }
.bp3-breadcrumbs{
  -webkit-box-align:center;
      -ms-flex-align:center;
          align-items:center;
  cursor:default;
  display:-webkit-box;
  display:-ms-flexbox;
  display:flex;
  -ms-flex-wrap:wrap;
      flex-wrap:wrap;
  height:30px;
  list-style:none;
  margin:0;
  padding:0; }
  .bp3-breadcrumbs > li{
    -webkit-box-align:center;
        -ms-flex-align:center;
            align-items:center;
    display:-webkit-box;
    display:-ms-flexbox;
    display:flex; }
    .bp3-breadcrumbs > li::after{
      background:url("data:image/svg+xml,%3csvg xmlns='http://www.w3.org/2000/svg' viewBox='0 0 16 16'%3e%3cpath fill-rule='evenodd' clip-rule='evenodd' d='M10.71 7.29l-4-4a1.003 1.003 0 00-1.42 1.42L8.59 8 5.3 11.29c-.19.18-.3.43-.3.71a1.003 1.003 0 001.71.71l4-4c.18-.18.29-.43.29-.71 0-.28-.11-.53-.29-.71z' fill='%235C7080'/%3e%3c/svg%3e");
      content:"";
      display:block;
      height:16px;
      margin:0 5px;
      width:16px; }
    .bp3-breadcrumbs > li:last-of-type::after{
      display:none; }

.bp3-breadcrumb,
.bp3-breadcrumb-current,
.bp3-breadcrumbs-collapsed{
  -webkit-box-align:center;
      -ms-flex-align:center;
          align-items:center;
  display:-webkit-inline-box;
  display:-ms-inline-flexbox;
  display:inline-flex;
  font-size:16px; }

.bp3-breadcrumb,
.bp3-breadcrumbs-collapsed{
  color:#5c7080; }

.bp3-breadcrumb:hover{
  text-decoration:none; }

.bp3-breadcrumb.bp3-disabled{
  color:rgba(92, 112, 128, 0.6);
  cursor:not-allowed; }

.bp3-breadcrumb .bp3-icon{
  margin-right:5px; }

.bp3-breadcrumb-current{
  color:inherit;
  font-weight:600; }
  .bp3-breadcrumb-current .bp3-input{
    font-size:inherit;
    font-weight:inherit;
    vertical-align:baseline; }

.bp3-breadcrumbs-collapsed{
  background:#ced9e0;
  border:none;
  border-radius:3px;
  cursor:pointer;
  margin-right:2px;
  padding:1px 5px;
  vertical-align:text-bottom; }
  .bp3-breadcrumbs-collapsed::before{
    background:url("data:image/svg+xml,%3csvg xmlns='http://www.w3.org/2000/svg' viewBox='0 0 16 16'%3e%3cg fill='%235C7080'%3e%3ccircle cx='2' cy='8.03' r='2'/%3e%3ccircle cx='14' cy='8.03' r='2'/%3e%3ccircle cx='8' cy='8.03' r='2'/%3e%3c/g%3e%3c/svg%3e") center no-repeat;
    content:"";
    display:block;
    height:16px;
    width:16px; }
  .bp3-breadcrumbs-collapsed:hover{
    background:#bfccd6;
    color:#182026;
    text-decoration:none; }

.bp3-dark .bp3-breadcrumb,
.bp3-dark .bp3-breadcrumbs-collapsed{
  color:#a7b6c2; }

.bp3-dark .bp3-breadcrumbs > li::after{
  color:#a7b6c2; }

.bp3-dark .bp3-breadcrumb.bp3-disabled{
  color:rgba(167, 182, 194, 0.6); }

.bp3-dark .bp3-breadcrumb-current{
  color:#f5f8fa; }

.bp3-dark .bp3-breadcrumbs-collapsed{
  background:rgba(16, 22, 26, 0.4); }
  .bp3-dark .bp3-breadcrumbs-collapsed:hover{
    background:rgba(16, 22, 26, 0.6);
    color:#f5f8fa; }
.bp3-button{
  display:-webkit-inline-box;
  display:-ms-inline-flexbox;
  display:inline-flex;
  -webkit-box-orient:horizontal;
  -webkit-box-direction:normal;
      -ms-flex-direction:row;
          flex-direction:row;
  -webkit-box-align:center;
      -ms-flex-align:center;
          align-items:center;
  border:none;
  border-radius:3px;
  cursor:pointer;
  font-size:14px;
  -webkit-box-pack:center;
      -ms-flex-pack:center;
          justify-content:center;
  padding:5px 10px;
  text-align:left;
  vertical-align:middle;
  min-height:30px;
  min-width:30px; }
  .bp3-button > *{
    -webkit-box-flex:0;
        -ms-flex-positive:0;
            flex-grow:0;
    -ms-flex-negative:0;
        flex-shrink:0; }
  .bp3-button > .bp3-fill{
    -webkit-box-flex:1;
        -ms-flex-positive:1;
            flex-grow:1;
    -ms-flex-negative:1;
        flex-shrink:1; }
  .bp3-button::before,
  .bp3-button > *{
    margin-right:7px; }
  .bp3-button:empty::before,
  .bp3-button > :last-child{
    margin-right:0; }
  .bp3-button:empty{
    padding:0 !important; }
  .bp3-button:disabled, .bp3-button.bp3-disabled{
    cursor:not-allowed; }
  .bp3-button.bp3-fill{
    display:-webkit-box;
    display:-ms-flexbox;
    display:flex;
    width:100%; }
  .bp3-button.bp3-align-right,
  .bp3-align-right .bp3-button{
    text-align:right; }
  .bp3-button.bp3-align-left,
  .bp3-align-left .bp3-button{
    text-align:left; }
  .bp3-button:not([class*="bp3-intent-"]){
    background-color:#f5f8fa;
    background-image:-webkit-gradient(linear, left top, left bottom, from(rgba(255, 255, 255, 0.8)), to(rgba(255, 255, 255, 0)));
    background-image:linear-gradient(to bottom, rgba(255, 255, 255, 0.8), rgba(255, 255, 255, 0));
    -webkit-box-shadow:inset 0 0 0 1px rgba(16, 22, 26, 0.2), inset 0 -1px 0 rgba(16, 22, 26, 0.1);
            box-shadow:inset 0 0 0 1px rgba(16, 22, 26, 0.2), inset 0 -1px 0 rgba(16, 22, 26, 0.1);
    color:#182026; }
    .bp3-button:not([class*="bp3-intent-"]):hover{
      background-clip:padding-box;
      background-color:#ebf1f5;
      -webkit-box-shadow:inset 0 0 0 1px rgba(16, 22, 26, 0.2), inset 0 -1px 0 rgba(16, 22, 26, 0.1);
              box-shadow:inset 0 0 0 1px rgba(16, 22, 26, 0.2), inset 0 -1px 0 rgba(16, 22, 26, 0.1); }
    .bp3-button:not([class*="bp3-intent-"]):active, .bp3-button:not([class*="bp3-intent-"]).bp3-active{
      background-color:#d8e1e8;
      background-image:none;
      -webkit-box-shadow:inset 0 0 0 1px rgba(16, 22, 26, 0.2), inset 0 1px 2px rgba(16, 22, 26, 0.2);
              box-shadow:inset 0 0 0 1px rgba(16, 22, 26, 0.2), inset 0 1px 2px rgba(16, 22, 26, 0.2); }
    .bp3-button:not([class*="bp3-intent-"]):disabled, .bp3-button:not([class*="bp3-intent-"]).bp3-disabled{
      background-color:rgba(206, 217, 224, 0.5);
      background-image:none;
      -webkit-box-shadow:none;
              box-shadow:none;
      color:rgba(92, 112, 128, 0.6);
      cursor:not-allowed;
      outline:none; }
      .bp3-button:not([class*="bp3-intent-"]):disabled.bp3-active, .bp3-button:not([class*="bp3-intent-"]):disabled.bp3-active:hover, .bp3-button:not([class*="bp3-intent-"]).bp3-disabled.bp3-active, .bp3-button:not([class*="bp3-intent-"]).bp3-disabled.bp3-active:hover{
        background:rgba(206, 217, 224, 0.7); }
  .bp3-button.bp3-intent-primary{
    background-color:#137cbd;
    background-image:-webkit-gradient(linear, left top, left bottom, from(rgba(255, 255, 255, 0.1)), to(rgba(255, 255, 255, 0)));
    background-image:linear-gradient(to bottom, rgba(255, 255, 255, 0.1), rgba(255, 255, 255, 0));
    -webkit-box-shadow:inset 0 0 0 1px rgba(16, 22, 26, 0.4), inset 0 -1px 0 rgba(16, 22, 26, 0.2);
            box-shadow:inset 0 0 0 1px rgba(16, 22, 26, 0.4), inset 0 -1px 0 rgba(16, 22, 26, 0.2);
    color:#ffffff; }
    .bp3-button.bp3-intent-primary:hover, .bp3-button.bp3-intent-primary:active, .bp3-button.bp3-intent-primary.bp3-active{
      color:#ffffff; }
    .bp3-button.bp3-intent-primary:hover{
      background-color:#106ba3;
      -webkit-box-shadow:inset 0 0 0 1px rgba(16, 22, 26, 0.4), inset 0 -1px 0 rgba(16, 22, 26, 0.2);
              box-shadow:inset 0 0 0 1px rgba(16, 22, 26, 0.4), inset 0 -1px 0 rgba(16, 22, 26, 0.2); }
    .bp3-button.bp3-intent-primary:active, .bp3-button.bp3-intent-primary.bp3-active{
      background-color:#0e5a8a;
      background-image:none;
      -webkit-box-shadow:inset 0 0 0 1px rgba(16, 22, 26, 0.4), inset 0 1px 2px rgba(16, 22, 26, 0.2);
              box-shadow:inset 0 0 0 1px rgba(16, 22, 26, 0.4), inset 0 1px 2px rgba(16, 22, 26, 0.2); }
    .bp3-button.bp3-intent-primary:disabled, .bp3-button.bp3-intent-primary.bp3-disabled{
      background-color:rgba(19, 124, 189, 0.5);
      background-image:none;
      border-color:transparent;
      -webkit-box-shadow:none;
              box-shadow:none;
      color:rgba(255, 255, 255, 0.6); }
  .bp3-button.bp3-intent-success{
    background-color:#0f9960;
    background-image:-webkit-gradient(linear, left top, left bottom, from(rgba(255, 255, 255, 0.1)), to(rgba(255, 255, 255, 0)));
    background-image:linear-gradient(to bottom, rgba(255, 255, 255, 0.1), rgba(255, 255, 255, 0));
    -webkit-box-shadow:inset 0 0 0 1px rgba(16, 22, 26, 0.4), inset 0 -1px 0 rgba(16, 22, 26, 0.2);
            box-shadow:inset 0 0 0 1px rgba(16, 22, 26, 0.4), inset 0 -1px 0 rgba(16, 22, 26, 0.2);
    color:#ffffff; }
    .bp3-button.bp3-intent-success:hover, .bp3-button.bp3-intent-success:active, .bp3-button.bp3-intent-success.bp3-active{
      color:#ffffff; }
    .bp3-button.bp3-intent-success:hover{
      background-color:#0d8050;
      -webkit-box-shadow:inset 0 0 0 1px rgba(16, 22, 26, 0.4), inset 0 -1px 0 rgba(16, 22, 26, 0.2);
              box-shadow:inset 0 0 0 1px rgba(16, 22, 26, 0.4), inset 0 -1px 0 rgba(16, 22, 26, 0.2); }
    .bp3-button.bp3-intent-success:active, .bp3-button.bp3-intent-success.bp3-active{
      background-color:#0a6640;
      background-image:none;
      -webkit-box-shadow:inset 0 0 0 1px rgba(16, 22, 26, 0.4), inset 0 1px 2px rgba(16, 22, 26, 0.2);
              box-shadow:inset 0 0 0 1px rgba(16, 22, 26, 0.4), inset 0 1px 2px rgba(16, 22, 26, 0.2); }
    .bp3-button.bp3-intent-success:disabled, .bp3-button.bp3-intent-success.bp3-disabled{
      background-color:rgba(15, 153, 96, 0.5);
      background-image:none;
      border-color:transparent;
      -webkit-box-shadow:none;
              box-shadow:none;
      color:rgba(255, 255, 255, 0.6); }
  .bp3-button.bp3-intent-warning{
    background-color:#d9822b;
    background-image:-webkit-gradient(linear, left top, left bottom, from(rgba(255, 255, 255, 0.1)), to(rgba(255, 255, 255, 0)));
    background-image:linear-gradient(to bottom, rgba(255, 255, 255, 0.1), rgba(255, 255, 255, 0));
    -webkit-box-shadow:inset 0 0 0 1px rgba(16, 22, 26, 0.4), inset 0 -1px 0 rgba(16, 22, 26, 0.2);
            box-shadow:inset 0 0 0 1px rgba(16, 22, 26, 0.4), inset 0 -1px 0 rgba(16, 22, 26, 0.2);
    color:#ffffff; }
    .bp3-button.bp3-intent-warning:hover, .bp3-button.bp3-intent-warning:active, .bp3-button.bp3-intent-warning.bp3-active{
      color:#ffffff; }
    .bp3-button.bp3-intent-warning:hover{
      background-color:#bf7326;
      -webkit-box-shadow:inset 0 0 0 1px rgba(16, 22, 26, 0.4), inset 0 -1px 0 rgba(16, 22, 26, 0.2);
              box-shadow:inset 0 0 0 1px rgba(16, 22, 26, 0.4), inset 0 -1px 0 rgba(16, 22, 26, 0.2); }
    .bp3-button.bp3-intent-warning:active, .bp3-button.bp3-intent-warning.bp3-active{
      background-color:#a66321;
      background-image:none;
      -webkit-box-shadow:inset 0 0 0 1px rgba(16, 22, 26, 0.4), inset 0 1px 2px rgba(16, 22, 26, 0.2);
              box-shadow:inset 0 0 0 1px rgba(16, 22, 26, 0.4), inset 0 1px 2px rgba(16, 22, 26, 0.2); }
    .bp3-button.bp3-intent-warning:disabled, .bp3-button.bp3-intent-warning.bp3-disabled{
      background-color:rgba(217, 130, 43, 0.5);
      background-image:none;
      border-color:transparent;
      -webkit-box-shadow:none;
              box-shadow:none;
      color:rgba(255, 255, 255, 0.6); }
  .bp3-button.bp3-intent-danger{
    background-color:#db3737;
    background-image:-webkit-gradient(linear, left top, left bottom, from(rgba(255, 255, 255, 0.1)), to(rgba(255, 255, 255, 0)));
    background-image:linear-gradient(to bottom, rgba(255, 255, 255, 0.1), rgba(255, 255, 255, 0));
    -webkit-box-shadow:inset 0 0 0 1px rgba(16, 22, 26, 0.4), inset 0 -1px 0 rgba(16, 22, 26, 0.2);
            box-shadow:inset 0 0 0 1px rgba(16, 22, 26, 0.4), inset 0 -1px 0 rgba(16, 22, 26, 0.2);
    color:#ffffff; }
    .bp3-button.bp3-intent-danger:hover, .bp3-button.bp3-intent-danger:active, .bp3-button.bp3-intent-danger.bp3-active{
      color:#ffffff; }
    .bp3-button.bp3-intent-danger:hover{
      background-color:#c23030;
      -webkit-box-shadow:inset 0 0 0 1px rgba(16, 22, 26, 0.4), inset 0 -1px 0 rgba(16, 22, 26, 0.2);
              box-shadow:inset 0 0 0 1px rgba(16, 22, 26, 0.4), inset 0 -1px 0 rgba(16, 22, 26, 0.2); }
    .bp3-button.bp3-intent-danger:active, .bp3-button.bp3-intent-danger.bp3-active{
      background-color:#a82a2a;
      background-image:none;
      -webkit-box-shadow:inset 0 0 0 1px rgba(16, 22, 26, 0.4), inset 0 1px 2px rgba(16, 22, 26, 0.2);
              box-shadow:inset 0 0 0 1px rgba(16, 22, 26, 0.4), inset 0 1px 2px rgba(16, 22, 26, 0.2); }
    .bp3-button.bp3-intent-danger:disabled, .bp3-button.bp3-intent-danger.bp3-disabled{
      background-color:rgba(219, 55, 55, 0.5);
      background-image:none;
      border-color:transparent;
      -webkit-box-shadow:none;
              box-shadow:none;
      color:rgba(255, 255, 255, 0.6); }
  .bp3-button[class*="bp3-intent-"] .bp3-button-spinner .bp3-spinner-head{
    stroke:#ffffff; }
  .bp3-button.bp3-large,
  .bp3-large .bp3-button{
    min-height:40px;
    min-width:40px;
    font-size:16px;
    padding:5px 15px; }
    .bp3-button.bp3-large::before,
    .bp3-button.bp3-large > *,
    .bp3-large .bp3-button::before,
    .bp3-large .bp3-button > *{
      margin-right:10px; }
    .bp3-button.bp3-large:empty::before,
    .bp3-button.bp3-large > :last-child,
    .bp3-large .bp3-button:empty::before,
    .bp3-large .bp3-button > :last-child{
      margin-right:0; }
  .bp3-button.bp3-small,
  .bp3-small .bp3-button{
    min-height:24px;
    min-width:24px;
    padding:0 7px; }
  .bp3-button.bp3-loading{
    position:relative; }
    .bp3-button.bp3-loading[class*="bp3-icon-"]::before{
      visibility:hidden; }
    .bp3-button.bp3-loading .bp3-button-spinner{
      margin:0;
      position:absolute; }
    .bp3-button.bp3-loading > :not(.bp3-button-spinner){
      visibility:hidden; }
  .bp3-button[class*="bp3-icon-"]::before{
    font-family:"Icons16", sans-serif;
    font-size:16px;
    font-style:normal;
    font-weight:400;
    line-height:1;
    -moz-osx-font-smoothing:grayscale;
    -webkit-font-smoothing:antialiased;
    color:#5c7080; }
  .bp3-button .bp3-icon, .bp3-button .bp3-icon-standard, .bp3-button .bp3-icon-large{
    color:#5c7080; }
    .bp3-button .bp3-icon.bp3-align-right, .bp3-button .bp3-icon-standard.bp3-align-right, .bp3-button .bp3-icon-large.bp3-align-right{
      margin-left:7px; }
  .bp3-button .bp3-icon:first-child:last-child,
  .bp3-button .bp3-spinner + .bp3-icon:last-child{
    margin:0 -7px; }
  .bp3-dark .bp3-button:not([class*="bp3-intent-"]){
    background-color:#394b59;
    background-image:-webkit-gradient(linear, left top, left bottom, from(rgba(255, 255, 255, 0.05)), to(rgba(255, 255, 255, 0)));
    background-image:linear-gradient(to bottom, rgba(255, 255, 255, 0.05), rgba(255, 255, 255, 0));
    -webkit-box-shadow:0 0 0 1px rgba(16, 22, 26, 0.4);
            box-shadow:0 0 0 1px rgba(16, 22, 26, 0.4);
    color:#f5f8fa; }
    .bp3-dark .bp3-button:not([class*="bp3-intent-"]):hover, .bp3-dark .bp3-button:not([class*="bp3-intent-"]):active, .bp3-dark .bp3-button:not([class*="bp3-intent-"]).bp3-active{
      color:#f5f8fa; }
    .bp3-dark .bp3-button:not([class*="bp3-intent-"]):hover{
      background-color:#30404d;
      -webkit-box-shadow:0 0 0 1px rgba(16, 22, 26, 0.4);
              box-shadow:0 0 0 1px rgba(16, 22, 26, 0.4); }
    .bp3-dark .bp3-button:not([class*="bp3-intent-"]):active, .bp3-dark .bp3-button:not([class*="bp3-intent-"]).bp3-active{
      background-color:#202b33;
      background-image:none;
      -webkit-box-shadow:0 0 0 1px rgba(16, 22, 26, 0.6), inset 0 1px 2px rgba(16, 22, 26, 0.2);
              box-shadow:0 0 0 1px rgba(16, 22, 26, 0.6), inset 0 1px 2px rgba(16, 22, 26, 0.2); }
    .bp3-dark .bp3-button:not([class*="bp3-intent-"]):disabled, .bp3-dark .bp3-button:not([class*="bp3-intent-"]).bp3-disabled{
      background-color:rgba(57, 75, 89, 0.5);
      background-image:none;
      -webkit-box-shadow:none;
              box-shadow:none;
      color:rgba(167, 182, 194, 0.6); }
      .bp3-dark .bp3-button:not([class*="bp3-intent-"]):disabled.bp3-active, .bp3-dark .bp3-button:not([class*="bp3-intent-"]).bp3-disabled.bp3-active{
        background:rgba(57, 75, 89, 0.7); }
    .bp3-dark .bp3-button:not([class*="bp3-intent-"]) .bp3-button-spinner .bp3-spinner-head{
      background:rgba(16, 22, 26, 0.5);
      stroke:#8a9ba8; }
    .bp3-dark .bp3-button:not([class*="bp3-intent-"])[class*="bp3-icon-"]::before{
      color:#a7b6c2; }
    .bp3-dark .bp3-button:not([class*="bp3-intent-"]) .bp3-icon, .bp3-dark .bp3-button:not([class*="bp3-intent-"]) .bp3-icon-standard, .bp3-dark .bp3-button:not([class*="bp3-intent-"]) .bp3-icon-large{
      color:#a7b6c2; }
  .bp3-dark .bp3-button[class*="bp3-intent-"]{
    -webkit-box-shadow:0 0 0 1px rgba(16, 22, 26, 0.4);
            box-shadow:0 0 0 1px rgba(16, 22, 26, 0.4); }
    .bp3-dark .bp3-button[class*="bp3-intent-"]:hover{
      -webkit-box-shadow:0 0 0 1px rgba(16, 22, 26, 0.4);
              box-shadow:0 0 0 1px rgba(16, 22, 26, 0.4); }
    .bp3-dark .bp3-button[class*="bp3-intent-"]:active, .bp3-dark .bp3-button[class*="bp3-intent-"].bp3-active{
      -webkit-box-shadow:0 0 0 1px rgba(16, 22, 26, 0.4), inset 0 1px 2px rgba(16, 22, 26, 0.2);
              box-shadow:0 0 0 1px rgba(16, 22, 26, 0.4), inset 0 1px 2px rgba(16, 22, 26, 0.2); }
    .bp3-dark .bp3-button[class*="bp3-intent-"]:disabled, .bp3-dark .bp3-button[class*="bp3-intent-"].bp3-disabled{
      background-image:none;
      -webkit-box-shadow:none;
              box-shadow:none;
      color:rgba(255, 255, 255, 0.3); }
    .bp3-dark .bp3-button[class*="bp3-intent-"] .bp3-button-spinner .bp3-spinner-head{
      stroke:#8a9ba8; }
  .bp3-button:disabled::before,
  .bp3-button:disabled .bp3-icon, .bp3-button:disabled .bp3-icon-standard, .bp3-button:disabled .bp3-icon-large, .bp3-button.bp3-disabled::before,
  .bp3-button.bp3-disabled .bp3-icon, .bp3-button.bp3-disabled .bp3-icon-standard, .bp3-button.bp3-disabled .bp3-icon-large, .bp3-button[class*="bp3-intent-"]::before,
  .bp3-button[class*="bp3-intent-"] .bp3-icon, .bp3-button[class*="bp3-intent-"] .bp3-icon-standard, .bp3-button[class*="bp3-intent-"] .bp3-icon-large{
    color:inherit !important; }
  .bp3-button.bp3-minimal{
    background:none;
    -webkit-box-shadow:none;
            box-shadow:none; }
    .bp3-button.bp3-minimal:hover{
      background:rgba(167, 182, 194, 0.3);
      -webkit-box-shadow:none;
              box-shadow:none;
      color:#182026;
      text-decoration:none; }
    .bp3-button.bp3-minimal:active, .bp3-button.bp3-minimal.bp3-active{
      background:rgba(115, 134, 148, 0.3);
      -webkit-box-shadow:none;
              box-shadow:none;
      color:#182026; }
    .bp3-button.bp3-minimal:disabled, .bp3-button.bp3-minimal:disabled:hover, .bp3-button.bp3-minimal.bp3-disabled, .bp3-button.bp3-minimal.bp3-disabled:hover{
      background:none;
      color:rgba(92, 112, 128, 0.6);
      cursor:not-allowed; }
      .bp3-button.bp3-minimal:disabled.bp3-active, .bp3-button.bp3-minimal:disabled:hover.bp3-active, .bp3-button.bp3-minimal.bp3-disabled.bp3-active, .bp3-button.bp3-minimal.bp3-disabled:hover.bp3-active{
        background:rgba(115, 134, 148, 0.3); }
    .bp3-dark .bp3-button.bp3-minimal{
      background:none;
      -webkit-box-shadow:none;
              box-shadow:none;
      color:inherit; }
      .bp3-dark .bp3-button.bp3-minimal:hover, .bp3-dark .bp3-button.bp3-minimal:active, .bp3-dark .bp3-button.bp3-minimal.bp3-active{
        background:none;
        -webkit-box-shadow:none;
                box-shadow:none; }
      .bp3-dark .bp3-button.bp3-minimal:hover{
        background:rgba(138, 155, 168, 0.15); }
      .bp3-dark .bp3-button.bp3-minimal:active, .bp3-dark .bp3-button.bp3-minimal.bp3-active{
        background:rgba(138, 155, 168, 0.3);
        color:#f5f8fa; }
      .bp3-dark .bp3-button.bp3-minimal:disabled, .bp3-dark .bp3-button.bp3-minimal:disabled:hover, .bp3-dark .bp3-button.bp3-minimal.bp3-disabled, .bp3-dark .bp3-button.bp3-minimal.bp3-disabled:hover{
        background:none;
        color:rgba(167, 182, 194, 0.6);
        cursor:not-allowed; }
        .bp3-dark .bp3-button.bp3-minimal:disabled.bp3-active, .bp3-dark .bp3-button.bp3-minimal:disabled:hover.bp3-active, .bp3-dark .bp3-button.bp3-minimal.bp3-disabled.bp3-active, .bp3-dark .bp3-button.bp3-minimal.bp3-disabled:hover.bp3-active{
          background:rgba(138, 155, 168, 0.3); }
    .bp3-button.bp3-minimal.bp3-intent-primary{
      color:#106ba3; }
      .bp3-button.bp3-minimal.bp3-intent-primary:hover, .bp3-button.bp3-minimal.bp3-intent-primary:active, .bp3-button.bp3-minimal.bp3-intent-primary.bp3-active{
        background:none;
        -webkit-box-shadow:none;
                box-shadow:none;
        color:#106ba3; }
      .bp3-button.bp3-minimal.bp3-intent-primary:hover{
        background:rgba(19, 124, 189, 0.15);
        color:#106ba3; }
      .bp3-button.bp3-minimal.bp3-intent-primary:active, .bp3-button.bp3-minimal.bp3-intent-primary.bp3-active{
        background:rgba(19, 124, 189, 0.3);
        color:#106ba3; }
      .bp3-button.bp3-minimal.bp3-intent-primary:disabled, .bp3-button.bp3-minimal.bp3-intent-primary.bp3-disabled{
        background:none;
        color:rgba(16, 107, 163, 0.5); }
        .bp3-button.bp3-minimal.bp3-intent-primary:disabled.bp3-active, .bp3-button.bp3-minimal.bp3-intent-primary.bp3-disabled.bp3-active{
          background:rgba(19, 124, 189, 0.3); }
      .bp3-button.bp3-minimal.bp3-intent-primary .bp3-button-spinner .bp3-spinner-head{
        stroke:#106ba3; }
      .bp3-dark .bp3-button.bp3-minimal.bp3-intent-primary{
        color:#48aff0; }
        .bp3-dark .bp3-button.bp3-minimal.bp3-intent-primary:hover{
          background:rgba(19, 124, 189, 0.2);
          color:#48aff0; }
        .bp3-dark .bp3-button.bp3-minimal.bp3-intent-primary:active, .bp3-dark .bp3-button.bp3-minimal.bp3-intent-primary.bp3-active{
          background:rgba(19, 124, 189, 0.3);
          color:#48aff0; }
        .bp3-dark .bp3-button.bp3-minimal.bp3-intent-primary:disabled, .bp3-dark .bp3-button.bp3-minimal.bp3-intent-primary.bp3-disabled{
          background:none;
          color:rgba(72, 175, 240, 0.5); }
          .bp3-dark .bp3-button.bp3-minimal.bp3-intent-primary:disabled.bp3-active, .bp3-dark .bp3-button.bp3-minimal.bp3-intent-primary.bp3-disabled.bp3-active{
            background:rgba(19, 124, 189, 0.3); }
    .bp3-button.bp3-minimal.bp3-intent-success{
      color:#0d8050; }
      .bp3-button.bp3-minimal.bp3-intent-success:hover, .bp3-button.bp3-minimal.bp3-intent-success:active, .bp3-button.bp3-minimal.bp3-intent-success.bp3-active{
        background:none;
        -webkit-box-shadow:none;
                box-shadow:none;
        color:#0d8050; }
      .bp3-button.bp3-minimal.bp3-intent-success:hover{
        background:rgba(15, 153, 96, 0.15);
        color:#0d8050; }
      .bp3-button.bp3-minimal.bp3-intent-success:active, .bp3-button.bp3-minimal.bp3-intent-success.bp3-active{
        background:rgba(15, 153, 96, 0.3);
        color:#0d8050; }
      .bp3-button.bp3-minimal.bp3-intent-success:disabled, .bp3-button.bp3-minimal.bp3-intent-success.bp3-disabled{
        background:none;
        color:rgba(13, 128, 80, 0.5); }
        .bp3-button.bp3-minimal.bp3-intent-success:disabled.bp3-active, .bp3-button.bp3-minimal.bp3-intent-success.bp3-disabled.bp3-active{
          background:rgba(15, 153, 96, 0.3); }
      .bp3-button.bp3-minimal.bp3-intent-success .bp3-button-spinner .bp3-spinner-head{
        stroke:#0d8050; }
      .bp3-dark .bp3-button.bp3-minimal.bp3-intent-success{
        color:#3dcc91; }
        .bp3-dark .bp3-button.bp3-minimal.bp3-intent-success:hover{
          background:rgba(15, 153, 96, 0.2);
          color:#3dcc91; }
        .bp3-dark .bp3-button.bp3-minimal.bp3-intent-success:active, .bp3-dark .bp3-button.bp3-minimal.bp3-intent-success.bp3-active{
          background:rgba(15, 153, 96, 0.3);
          color:#3dcc91; }
        .bp3-dark .bp3-button.bp3-minimal.bp3-intent-success:disabled, .bp3-dark .bp3-button.bp3-minimal.bp3-intent-success.bp3-disabled{
          background:none;
          color:rgba(61, 204, 145, 0.5); }
          .bp3-dark .bp3-button.bp3-minimal.bp3-intent-success:disabled.bp3-active, .bp3-dark .bp3-button.bp3-minimal.bp3-intent-success.bp3-disabled.bp3-active{
            background:rgba(15, 153, 96, 0.3); }
    .bp3-button.bp3-minimal.bp3-intent-warning{
      color:#bf7326; }
      .bp3-button.bp3-minimal.bp3-intent-warning:hover, .bp3-button.bp3-minimal.bp3-intent-warning:active, .bp3-button.bp3-minimal.bp3-intent-warning.bp3-active{
        background:none;
        -webkit-box-shadow:none;
                box-shadow:none;
        color:#bf7326; }
      .bp3-button.bp3-minimal.bp3-intent-warning:hover{
        background:rgba(217, 130, 43, 0.15);
        color:#bf7326; }
      .bp3-button.bp3-minimal.bp3-intent-warning:active, .bp3-button.bp3-minimal.bp3-intent-warning.bp3-active{
        background:rgba(217, 130, 43, 0.3);
        color:#bf7326; }
      .bp3-button.bp3-minimal.bp3-intent-warning:disabled, .bp3-button.bp3-minimal.bp3-intent-warning.bp3-disabled{
        background:none;
        color:rgba(191, 115, 38, 0.5); }
        .bp3-button.bp3-minimal.bp3-intent-warning:disabled.bp3-active, .bp3-button.bp3-minimal.bp3-intent-warning.bp3-disabled.bp3-active{
          background:rgba(217, 130, 43, 0.3); }
      .bp3-button.bp3-minimal.bp3-intent-warning .bp3-button-spinner .bp3-spinner-head{
        stroke:#bf7326; }
      .bp3-dark .bp3-button.bp3-minimal.bp3-intent-warning{
        color:#ffb366; }
        .bp3-dark .bp3-button.bp3-minimal.bp3-intent-warning:hover{
          background:rgba(217, 130, 43, 0.2);
          color:#ffb366; }
        .bp3-dark .bp3-button.bp3-minimal.bp3-intent-warning:active, .bp3-dark .bp3-button.bp3-minimal.bp3-intent-warning.bp3-active{
          background:rgba(217, 130, 43, 0.3);
          color:#ffb366; }
        .bp3-dark .bp3-button.bp3-minimal.bp3-intent-warning:disabled, .bp3-dark .bp3-button.bp3-minimal.bp3-intent-warning.bp3-disabled{
          background:none;
          color:rgba(255, 179, 102, 0.5); }
          .bp3-dark .bp3-button.bp3-minimal.bp3-intent-warning:disabled.bp3-active, .bp3-dark .bp3-button.bp3-minimal.bp3-intent-warning.bp3-disabled.bp3-active{
            background:rgba(217, 130, 43, 0.3); }
    .bp3-button.bp3-minimal.bp3-intent-danger{
      color:#c23030; }
      .bp3-button.bp3-minimal.bp3-intent-danger:hover, .bp3-button.bp3-minimal.bp3-intent-danger:active, .bp3-button.bp3-minimal.bp3-intent-danger.bp3-active{
        background:none;
        -webkit-box-shadow:none;
                box-shadow:none;
        color:#c23030; }
      .bp3-button.bp3-minimal.bp3-intent-danger:hover{
        background:rgba(219, 55, 55, 0.15);
        color:#c23030; }
      .bp3-button.bp3-minimal.bp3-intent-danger:active, .bp3-button.bp3-minimal.bp3-intent-danger.bp3-active{
        background:rgba(219, 55, 55, 0.3);
        color:#c23030; }
      .bp3-button.bp3-minimal.bp3-intent-danger:disabled, .bp3-button.bp3-minimal.bp3-intent-danger.bp3-disabled{
        background:none;
        color:rgba(194, 48, 48, 0.5); }
        .bp3-button.bp3-minimal.bp3-intent-danger:disabled.bp3-active, .bp3-button.bp3-minimal.bp3-intent-danger.bp3-disabled.bp3-active{
          background:rgba(219, 55, 55, 0.3); }
      .bp3-button.bp3-minimal.bp3-intent-danger .bp3-button-spinner .bp3-spinner-head{
        stroke:#c23030; }
      .bp3-dark .bp3-button.bp3-minimal.bp3-intent-danger{
        color:#ff7373; }
        .bp3-dark .bp3-button.bp3-minimal.bp3-intent-danger:hover{
          background:rgba(219, 55, 55, 0.2);
          color:#ff7373; }
        .bp3-dark .bp3-button.bp3-minimal.bp3-intent-danger:active, .bp3-dark .bp3-button.bp3-minimal.bp3-intent-danger.bp3-active{
          background:rgba(219, 55, 55, 0.3);
          color:#ff7373; }
        .bp3-dark .bp3-button.bp3-minimal.bp3-intent-danger:disabled, .bp3-dark .bp3-button.bp3-minimal.bp3-intent-danger.bp3-disabled{
          background:none;
          color:rgba(255, 115, 115, 0.5); }
          .bp3-dark .bp3-button.bp3-minimal.bp3-intent-danger:disabled.bp3-active, .bp3-dark .bp3-button.bp3-minimal.bp3-intent-danger.bp3-disabled.bp3-active{
            background:rgba(219, 55, 55, 0.3); }
  .bp3-button.bp3-outlined{
    background:none;
    -webkit-box-shadow:none;
            box-shadow:none;
    border:1px solid rgba(24, 32, 38, 0.2);
    -webkit-box-sizing:border-box;
            box-sizing:border-box; }
    .bp3-button.bp3-outlined:hover{
      background:rgba(167, 182, 194, 0.3);
      -webkit-box-shadow:none;
              box-shadow:none;
      color:#182026;
      text-decoration:none; }
    .bp3-button.bp3-outlined:active, .bp3-button.bp3-outlined.bp3-active{
      background:rgba(115, 134, 148, 0.3);
      -webkit-box-shadow:none;
              box-shadow:none;
      color:#182026; }
    .bp3-button.bp3-outlined:disabled, .bp3-button.bp3-outlined:disabled:hover, .bp3-button.bp3-outlined.bp3-disabled, .bp3-button.bp3-outlined.bp3-disabled:hover{
      background:none;
      color:rgba(92, 112, 128, 0.6);
      cursor:not-allowed; }
      .bp3-button.bp3-outlined:disabled.bp3-active, .bp3-button.bp3-outlined:disabled:hover.bp3-active, .bp3-button.bp3-outlined.bp3-disabled.bp3-active, .bp3-button.bp3-outlined.bp3-disabled:hover.bp3-active{
        background:rgba(115, 134, 148, 0.3); }
    .bp3-dark .bp3-button.bp3-outlined{
      background:none;
      -webkit-box-shadow:none;
              box-shadow:none;
      color:inherit; }
      .bp3-dark .bp3-button.bp3-outlined:hover, .bp3-dark .bp3-button.bp3-outlined:active, .bp3-dark .bp3-button.bp3-outlined.bp3-active{
        background:none;
        -webkit-box-shadow:none;
                box-shadow:none; }
      .bp3-dark .bp3-button.bp3-outlined:hover{
        background:rgba(138, 155, 168, 0.15); }
      .bp3-dark .bp3-button.bp3-outlined:active, .bp3-dark .bp3-button.bp3-outlined.bp3-active{
        background:rgba(138, 155, 168, 0.3);
        color:#f5f8fa; }
      .bp3-dark .bp3-button.bp3-outlined:disabled, .bp3-dark .bp3-button.bp3-outlined:disabled:hover, .bp3-dark .bp3-button.bp3-outlined.bp3-disabled, .bp3-dark .bp3-button.bp3-outlined.bp3-disabled:hover{
        background:none;
        color:rgba(167, 182, 194, 0.6);
        cursor:not-allowed; }
        .bp3-dark .bp3-button.bp3-outlined:disabled.bp3-active, .bp3-dark .bp3-button.bp3-outlined:disabled:hover.bp3-active, .bp3-dark .bp3-button.bp3-outlined.bp3-disabled.bp3-active, .bp3-dark .bp3-button.bp3-outlined.bp3-disabled:hover.bp3-active{
          background:rgba(138, 155, 168, 0.3); }
    .bp3-button.bp3-outlined.bp3-intent-primary{
      color:#106ba3; }
      .bp3-button.bp3-outlined.bp3-intent-primary:hover, .bp3-button.bp3-outlined.bp3-intent-primary:active, .bp3-button.bp3-outlined.bp3-intent-primary.bp3-active{
        background:none;
        -webkit-box-shadow:none;
                box-shadow:none;
        color:#106ba3; }
      .bp3-button.bp3-outlined.bp3-intent-primary:hover{
        background:rgba(19, 124, 189, 0.15);
        color:#106ba3; }
      .bp3-button.bp3-outlined.bp3-intent-primary:active, .bp3-button.bp3-outlined.bp3-intent-primary.bp3-active{
        background:rgba(19, 124, 189, 0.3);
        color:#106ba3; }
      .bp3-button.bp3-outlined.bp3-intent-primary:disabled, .bp3-button.bp3-outlined.bp3-intent-primary.bp3-disabled{
        background:none;
        color:rgba(16, 107, 163, 0.5); }
        .bp3-button.bp3-outlined.bp3-intent-primary:disabled.bp3-active, .bp3-button.bp3-outlined.bp3-intent-primary.bp3-disabled.bp3-active{
          background:rgba(19, 124, 189, 0.3); }
      .bp3-button.bp3-outlined.bp3-intent-primary .bp3-button-spinner .bp3-spinner-head{
        stroke:#106ba3; }
      .bp3-dark .bp3-button.bp3-outlined.bp3-intent-primary{
        color:#48aff0; }
        .bp3-dark .bp3-button.bp3-outlined.bp3-intent-primary:hover{
          background:rgba(19, 124, 189, 0.2);
          color:#48aff0; }
        .bp3-dark .bp3-button.bp3-outlined.bp3-intent-primary:active, .bp3-dark .bp3-button.bp3-outlined.bp3-intent-primary.bp3-active{
          background:rgba(19, 124, 189, 0.3);
          color:#48aff0; }
        .bp3-dark .bp3-button.bp3-outlined.bp3-intent-primary:disabled, .bp3-dark .bp3-button.bp3-outlined.bp3-intent-primary.bp3-disabled{
          background:none;
          color:rgba(72, 175, 240, 0.5); }
          .bp3-dark .bp3-button.bp3-outlined.bp3-intent-primary:disabled.bp3-active, .bp3-dark .bp3-button.bp3-outlined.bp3-intent-primary.bp3-disabled.bp3-active{
            background:rgba(19, 124, 189, 0.3); }
    .bp3-button.bp3-outlined.bp3-intent-success{
      color:#0d8050; }
      .bp3-button.bp3-outlined.bp3-intent-success:hover, .bp3-button.bp3-outlined.bp3-intent-success:active, .bp3-button.bp3-outlined.bp3-intent-success.bp3-active{
        background:none;
        -webkit-box-shadow:none;
                box-shadow:none;
        color:#0d8050; }
      .bp3-button.bp3-outlined.bp3-intent-success:hover{
        background:rgba(15, 153, 96, 0.15);
        color:#0d8050; }
      .bp3-button.bp3-outlined.bp3-intent-success:active, .bp3-button.bp3-outlined.bp3-intent-success.bp3-active{
        background:rgba(15, 153, 96, 0.3);
        color:#0d8050; }
      .bp3-button.bp3-outlined.bp3-intent-success:disabled, .bp3-button.bp3-outlined.bp3-intent-success.bp3-disabled{
        background:none;
        color:rgba(13, 128, 80, 0.5); }
        .bp3-button.bp3-outlined.bp3-intent-success:disabled.bp3-active, .bp3-button.bp3-outlined.bp3-intent-success.bp3-disabled.bp3-active{
          background:rgba(15, 153, 96, 0.3); }
      .bp3-button.bp3-outlined.bp3-intent-success .bp3-button-spinner .bp3-spinner-head{
        stroke:#0d8050; }
      .bp3-dark .bp3-button.bp3-outlined.bp3-intent-success{
        color:#3dcc91; }
        .bp3-dark .bp3-button.bp3-outlined.bp3-intent-success:hover{
          background:rgba(15, 153, 96, 0.2);
          color:#3dcc91; }
        .bp3-dark .bp3-button.bp3-outlined.bp3-intent-success:active, .bp3-dark .bp3-button.bp3-outlined.bp3-intent-success.bp3-active{
          background:rgba(15, 153, 96, 0.3);
          color:#3dcc91; }
        .bp3-dark .bp3-button.bp3-outlined.bp3-intent-success:disabled, .bp3-dark .bp3-button.bp3-outlined.bp3-intent-success.bp3-disabled{
          background:none;
          color:rgba(61, 204, 145, 0.5); }
          .bp3-dark .bp3-button.bp3-outlined.bp3-intent-success:disabled.bp3-active, .bp3-dark .bp3-button.bp3-outlined.bp3-intent-success.bp3-disabled.bp3-active{
            background:rgba(15, 153, 96, 0.3); }
    .bp3-button.bp3-outlined.bp3-intent-warning{
      color:#bf7326; }
      .bp3-button.bp3-outlined.bp3-intent-warning:hover, .bp3-button.bp3-outlined.bp3-intent-warning:active, .bp3-button.bp3-outlined.bp3-intent-warning.bp3-active{
        background:none;
        -webkit-box-shadow:none;
                box-shadow:none;
        color:#bf7326; }
      .bp3-button.bp3-outlined.bp3-intent-warning:hover{
        background:rgba(217, 130, 43, 0.15);
        color:#bf7326; }
      .bp3-button.bp3-outlined.bp3-intent-warning:active, .bp3-button.bp3-outlined.bp3-intent-warning.bp3-active{
        background:rgba(217, 130, 43, 0.3);
        color:#bf7326; }
      .bp3-button.bp3-outlined.bp3-intent-warning:disabled, .bp3-button.bp3-outlined.bp3-intent-warning.bp3-disabled{
        background:none;
        color:rgba(191, 115, 38, 0.5); }
        .bp3-button.bp3-outlined.bp3-intent-warning:disabled.bp3-active, .bp3-button.bp3-outlined.bp3-intent-warning.bp3-disabled.bp3-active{
          background:rgba(217, 130, 43, 0.3); }
      .bp3-button.bp3-outlined.bp3-intent-warning .bp3-button-spinner .bp3-spinner-head{
        stroke:#bf7326; }
      .bp3-dark .bp3-button.bp3-outlined.bp3-intent-warning{
        color:#ffb366; }
        .bp3-dark .bp3-button.bp3-outlined.bp3-intent-warning:hover{
          background:rgba(217, 130, 43, 0.2);
          color:#ffb366; }
        .bp3-dark .bp3-button.bp3-outlined.bp3-intent-warning:active, .bp3-dark .bp3-button.bp3-outlined.bp3-intent-warning.bp3-active{
          background:rgba(217, 130, 43, 0.3);
          color:#ffb366; }
        .bp3-dark .bp3-button.bp3-outlined.bp3-intent-warning:disabled, .bp3-dark .bp3-button.bp3-outlined.bp3-intent-warning.bp3-disabled{
          background:none;
          color:rgba(255, 179, 102, 0.5); }
          .bp3-dark .bp3-button.bp3-outlined.bp3-intent-warning:disabled.bp3-active, .bp3-dark .bp3-button.bp3-outlined.bp3-intent-warning.bp3-disabled.bp3-active{
            background:rgba(217, 130, 43, 0.3); }
    .bp3-button.bp3-outlined.bp3-intent-danger{
      color:#c23030; }
      .bp3-button.bp3-outlined.bp3-intent-danger:hover, .bp3-button.bp3-outlined.bp3-intent-danger:active, .bp3-button.bp3-outlined.bp3-intent-danger.bp3-active{
        background:none;
        -webkit-box-shadow:none;
                box-shadow:none;
        color:#c23030; }
      .bp3-button.bp3-outlined.bp3-intent-danger:hover{
        background:rgba(219, 55, 55, 0.15);
        color:#c23030; }
      .bp3-button.bp3-outlined.bp3-intent-danger:active, .bp3-button.bp3-outlined.bp3-intent-danger.bp3-active{
        background:rgba(219, 55, 55, 0.3);
        color:#c23030; }
      .bp3-button.bp3-outlined.bp3-intent-danger:disabled, .bp3-button.bp3-outlined.bp3-intent-danger.bp3-disabled{
        background:none;
        color:rgba(194, 48, 48, 0.5); }
        .bp3-button.bp3-outlined.bp3-intent-danger:disabled.bp3-active, .bp3-button.bp3-outlined.bp3-intent-danger.bp3-disabled.bp3-active{
          background:rgba(219, 55, 55, 0.3); }
      .bp3-button.bp3-outlined.bp3-intent-danger .bp3-button-spinner .bp3-spinner-head{
        stroke:#c23030; }
      .bp3-dark .bp3-button.bp3-outlined.bp3-intent-danger{
        color:#ff7373; }
        .bp3-dark .bp3-button.bp3-outlined.bp3-intent-danger:hover{
          background:rgba(219, 55, 55, 0.2);
          color:#ff7373; }
        .bp3-dark .bp3-button.bp3-outlined.bp3-intent-danger:active, .bp3-dark .bp3-button.bp3-outlined.bp3-intent-danger.bp3-active{
          background:rgba(219, 55, 55, 0.3);
          color:#ff7373; }
        .bp3-dark .bp3-button.bp3-outlined.bp3-intent-danger:disabled, .bp3-dark .bp3-button.bp3-outlined.bp3-intent-danger.bp3-disabled{
          background:none;
          color:rgba(255, 115, 115, 0.5); }
          .bp3-dark .bp3-button.bp3-outlined.bp3-intent-danger:disabled.bp3-active, .bp3-dark .bp3-button.bp3-outlined.bp3-intent-danger.bp3-disabled.bp3-active{
            background:rgba(219, 55, 55, 0.3); }
    .bp3-button.bp3-outlined:disabled, .bp3-button.bp3-outlined.bp3-disabled, .bp3-button.bp3-outlined:disabled:hover, .bp3-button.bp3-outlined.bp3-disabled:hover{
      border-color:rgba(92, 112, 128, 0.1); }
    .bp3-dark .bp3-button.bp3-outlined{
      border-color:rgba(255, 255, 255, 0.4); }
      .bp3-dark .bp3-button.bp3-outlined:disabled, .bp3-dark .bp3-button.bp3-outlined:disabled:hover, .bp3-dark .bp3-button.bp3-outlined.bp3-disabled, .bp3-dark .bp3-button.bp3-outlined.bp3-disabled:hover{
        border-color:rgba(255, 255, 255, 0.2); }
    .bp3-button.bp3-outlined.bp3-intent-primary{
      border-color:rgba(16, 107, 163, 0.6); }
      .bp3-button.bp3-outlined.bp3-intent-primary:disabled, .bp3-button.bp3-outlined.bp3-intent-primary.bp3-disabled{
        border-color:rgba(16, 107, 163, 0.2); }
      .bp3-dark .bp3-button.bp3-outlined.bp3-intent-primary{
        border-color:rgba(72, 175, 240, 0.6); }
        .bp3-dark .bp3-button.bp3-outlined.bp3-intent-primary:disabled, .bp3-dark .bp3-button.bp3-outlined.bp3-intent-primary.bp3-disabled{
          border-color:rgba(72, 175, 240, 0.2); }
    .bp3-button.bp3-outlined.bp3-intent-success{
      border-color:rgba(13, 128, 80, 0.6); }
      .bp3-button.bp3-outlined.bp3-intent-success:disabled, .bp3-button.bp3-outlined.bp3-intent-success.bp3-disabled{
        border-color:rgba(13, 128, 80, 0.2); }
      .bp3-dark .bp3-button.bp3-outlined.bp3-intent-success{
        border-color:rgba(61, 204, 145, 0.6); }
        .bp3-dark .bp3-button.bp3-outlined.bp3-intent-success:disabled, .bp3-dark .bp3-button.bp3-outlined.bp3-intent-success.bp3-disabled{
          border-color:rgba(61, 204, 145, 0.2); }
    .bp3-button.bp3-outlined.bp3-intent-warning{
      border-color:rgba(191, 115, 38, 0.6); }
      .bp3-button.bp3-outlined.bp3-intent-warning:disabled, .bp3-button.bp3-outlined.bp3-intent-warning.bp3-disabled{
        border-color:rgba(191, 115, 38, 0.2); }
      .bp3-dark .bp3-button.bp3-outlined.bp3-intent-warning{
        border-color:rgba(255, 179, 102, 0.6); }
        .bp3-dark .bp3-button.bp3-outlined.bp3-intent-warning:disabled, .bp3-dark .bp3-button.bp3-outlined.bp3-intent-warning.bp3-disabled{
          border-color:rgba(255, 179, 102, 0.2); }
    .bp3-button.bp3-outlined.bp3-intent-danger{
      border-color:rgba(194, 48, 48, 0.6); }
      .bp3-button.bp3-outlined.bp3-intent-danger:disabled, .bp3-button.bp3-outlined.bp3-intent-danger.bp3-disabled{
        border-color:rgba(194, 48, 48, 0.2); }
      .bp3-dark .bp3-button.bp3-outlined.bp3-intent-danger{
        border-color:rgba(255, 115, 115, 0.6); }
        .bp3-dark .bp3-button.bp3-outlined.bp3-intent-danger:disabled, .bp3-dark .bp3-button.bp3-outlined.bp3-intent-danger.bp3-disabled{
          border-color:rgba(255, 115, 115, 0.2); }

a.bp3-button{
  text-align:center;
  text-decoration:none;
  -webkit-transition:none;
  transition:none; }
  a.bp3-button, a.bp3-button:hover, a.bp3-button:active{
    color:#182026; }
  a.bp3-button.bp3-disabled{
    color:rgba(92, 112, 128, 0.6); }

.bp3-button-text{
  -webkit-box-flex:0;
      -ms-flex:0 1 auto;
          flex:0 1 auto; }

.bp3-button.bp3-align-left .bp3-button-text, .bp3-button.bp3-align-right .bp3-button-text,
.bp3-button-group.bp3-align-left .bp3-button-text,
.bp3-button-group.bp3-align-right .bp3-button-text{
  -webkit-box-flex:1;
      -ms-flex:1 1 auto;
          flex:1 1 auto; }
.bp3-button-group{
  display:-webkit-inline-box;
  display:-ms-inline-flexbox;
  display:inline-flex; }
  .bp3-button-group .bp3-button{
    -webkit-box-flex:0;
        -ms-flex:0 0 auto;
            flex:0 0 auto;
    position:relative;
    z-index:4; }
    .bp3-button-group .bp3-button:focus{
      z-index:5; }
    .bp3-button-group .bp3-button:hover{
      z-index:6; }
    .bp3-button-group .bp3-button:active, .bp3-button-group .bp3-button.bp3-active{
      z-index:7; }
    .bp3-button-group .bp3-button:disabled, .bp3-button-group .bp3-button.bp3-disabled{
      z-index:3; }
    .bp3-button-group .bp3-button[class*="bp3-intent-"]{
      z-index:9; }
      .bp3-button-group .bp3-button[class*="bp3-intent-"]:focus{
        z-index:10; }
      .bp3-button-group .bp3-button[class*="bp3-intent-"]:hover{
        z-index:11; }
      .bp3-button-group .bp3-button[class*="bp3-intent-"]:active, .bp3-button-group .bp3-button[class*="bp3-intent-"].bp3-active{
        z-index:12; }
      .bp3-button-group .bp3-button[class*="bp3-intent-"]:disabled, .bp3-button-group .bp3-button[class*="bp3-intent-"].bp3-disabled{
        z-index:8; }
  .bp3-button-group:not(.bp3-minimal) > .bp3-popover-wrapper:not(:first-child) .bp3-button,
  .bp3-button-group:not(.bp3-minimal) > .bp3-button:not(:first-child){
    border-bottom-left-radius:0;
    border-top-left-radius:0; }
  .bp3-button-group:not(.bp3-minimal) > .bp3-popover-wrapper:not(:last-child) .bp3-button,
  .bp3-button-group:not(.bp3-minimal) > .bp3-button:not(:last-child){
    border-bottom-right-radius:0;
    border-top-right-radius:0;
    margin-right:-1px; }
  .bp3-button-group.bp3-minimal .bp3-button{
    background:none;
    -webkit-box-shadow:none;
            box-shadow:none; }
    .bp3-button-group.bp3-minimal .bp3-button:hover{
      background:rgba(167, 182, 194, 0.3);
      -webkit-box-shadow:none;
              box-shadow:none;
      color:#182026;
      text-decoration:none; }
    .bp3-button-group.bp3-minimal .bp3-button:active, .bp3-button-group.bp3-minimal .bp3-button.bp3-active{
      background:rgba(115, 134, 148, 0.3);
      -webkit-box-shadow:none;
              box-shadow:none;
      color:#182026; }
    .bp3-button-group.bp3-minimal .bp3-button:disabled, .bp3-button-group.bp3-minimal .bp3-button:disabled:hover, .bp3-button-group.bp3-minimal .bp3-button.bp3-disabled, .bp3-button-group.bp3-minimal .bp3-button.bp3-disabled:hover{
      background:none;
      color:rgba(92, 112, 128, 0.6);
      cursor:not-allowed; }
      .bp3-button-group.bp3-minimal .bp3-button:disabled.bp3-active, .bp3-button-group.bp3-minimal .bp3-button:disabled:hover.bp3-active, .bp3-button-group.bp3-minimal .bp3-button.bp3-disabled.bp3-active, .bp3-button-group.bp3-minimal .bp3-button.bp3-disabled:hover.bp3-active{
        background:rgba(115, 134, 148, 0.3); }
    .bp3-dark .bp3-button-group.bp3-minimal .bp3-button{
      background:none;
      -webkit-box-shadow:none;
              box-shadow:none;
      color:inherit; }
      .bp3-dark .bp3-button-group.bp3-minimal .bp3-button:hover, .bp3-dark .bp3-button-group.bp3-minimal .bp3-button:active, .bp3-dark .bp3-button-group.bp3-minimal .bp3-button.bp3-active{
        background:none;
        -webkit-box-shadow:none;
                box-shadow:none; }
      .bp3-dark .bp3-button-group.bp3-minimal .bp3-button:hover{
        background:rgba(138, 155, 168, 0.15); }
      .bp3-dark .bp3-button-group.bp3-minimal .bp3-button:active, .bp3-dark .bp3-button-group.bp3-minimal .bp3-button.bp3-active{
        background:rgba(138, 155, 168, 0.3);
        color:#f5f8fa; }
      .bp3-dark .bp3-button-group.bp3-minimal .bp3-button:disabled, .bp3-dark .bp3-button-group.bp3-minimal .bp3-button:disabled:hover, .bp3-dark .bp3-button-group.bp3-minimal .bp3-button.bp3-disabled, .bp3-dark .bp3-button-group.bp3-minimal .bp3-button.bp3-disabled:hover{
        background:none;
        color:rgba(167, 182, 194, 0.6);
        cursor:not-allowed; }
        .bp3-dark .bp3-button-group.bp3-minimal .bp3-button:disabled.bp3-active, .bp3-dark .bp3-button-group.bp3-minimal .bp3-button:disabled:hover.bp3-active, .bp3-dark .bp3-button-group.bp3-minimal .bp3-button.bp3-disabled.bp3-active, .bp3-dark .bp3-button-group.bp3-minimal .bp3-button.bp3-disabled:hover.bp3-active{
          background:rgba(138, 155, 168, 0.3); }
    .bp3-button-group.bp3-minimal .bp3-button.bp3-intent-primary{
      color:#106ba3; }
      .bp3-button-group.bp3-minimal .bp3-button.bp3-intent-primary:hover, .bp3-button-group.bp3-minimal .bp3-button.bp3-intent-primary:active, .bp3-button-group.bp3-minimal .bp3-button.bp3-intent-primary.bp3-active{
        background:none;
        -webkit-box-shadow:none;
                box-shadow:none;
        color:#106ba3; }
      .bp3-button-group.bp3-minimal .bp3-button.bp3-intent-primary:hover{
        background:rgba(19, 124, 189, 0.15);
        color:#106ba3; }
      .bp3-button-group.bp3-minimal .bp3-button.bp3-intent-primary:active, .bp3-button-group.bp3-minimal .bp3-button.bp3-intent-primary.bp3-active{
        background:rgba(19, 124, 189, 0.3);
        color:#106ba3; }
      .bp3-button-group.bp3-minimal .bp3-button.bp3-intent-primary:disabled, .bp3-button-group.bp3-minimal .bp3-button.bp3-intent-primary.bp3-disabled{
        background:none;
        color:rgba(16, 107, 163, 0.5); }
        .bp3-button-group.bp3-minimal .bp3-button.bp3-intent-primary:disabled.bp3-active, .bp3-button-group.bp3-minimal .bp3-button.bp3-intent-primary.bp3-disabled.bp3-active{
          background:rgba(19, 124, 189, 0.3); }
      .bp3-button-group.bp3-minimal .bp3-button.bp3-intent-primary .bp3-button-spinner .bp3-spinner-head{
        stroke:#106ba3; }
      .bp3-dark .bp3-button-group.bp3-minimal .bp3-button.bp3-intent-primary{
        color:#48aff0; }
        .bp3-dark .bp3-button-group.bp3-minimal .bp3-button.bp3-intent-primary:hover{
          background:rgba(19, 124, 189, 0.2);
          color:#48aff0; }
        .bp3-dark .bp3-button-group.bp3-minimal .bp3-button.bp3-intent-primary:active, .bp3-dark .bp3-button-group.bp3-minimal .bp3-button.bp3-intent-primary.bp3-active{
          background:rgba(19, 124, 189, 0.3);
          color:#48aff0; }
        .bp3-dark .bp3-button-group.bp3-minimal .bp3-button.bp3-intent-primary:disabled, .bp3-dark .bp3-button-group.bp3-minimal .bp3-button.bp3-intent-primary.bp3-disabled{
          background:none;
          color:rgba(72, 175, 240, 0.5); }
          .bp3-dark .bp3-button-group.bp3-minimal .bp3-button.bp3-intent-primary:disabled.bp3-active, .bp3-dark .bp3-button-group.bp3-minimal .bp3-button.bp3-intent-primary.bp3-disabled.bp3-active{
            background:rgba(19, 124, 189, 0.3); }
    .bp3-button-group.bp3-minimal .bp3-button.bp3-intent-success{
      color:#0d8050; }
      .bp3-button-group.bp3-minimal .bp3-button.bp3-intent-success:hover, .bp3-button-group.bp3-minimal .bp3-button.bp3-intent-success:active, .bp3-button-group.bp3-minimal .bp3-button.bp3-intent-success.bp3-active{
        background:none;
        -webkit-box-shadow:none;
                box-shadow:none;
        color:#0d8050; }
      .bp3-button-group.bp3-minimal .bp3-button.bp3-intent-success:hover{
        background:rgba(15, 153, 96, 0.15);
        color:#0d8050; }
      .bp3-button-group.bp3-minimal .bp3-button.bp3-intent-success:active, .bp3-button-group.bp3-minimal .bp3-button.bp3-intent-success.bp3-active{
        background:rgba(15, 153, 96, 0.3);
        color:#0d8050; }
      .bp3-button-group.bp3-minimal .bp3-button.bp3-intent-success:disabled, .bp3-button-group.bp3-minimal .bp3-button.bp3-intent-success.bp3-disabled{
        background:none;
        color:rgba(13, 128, 80, 0.5); }
        .bp3-button-group.bp3-minimal .bp3-button.bp3-intent-success:disabled.bp3-active, .bp3-button-group.bp3-minimal .bp3-button.bp3-intent-success.bp3-disabled.bp3-active{
          background:rgba(15, 153, 96, 0.3); }
      .bp3-button-group.bp3-minimal .bp3-button.bp3-intent-success .bp3-button-spinner .bp3-spinner-head{
        stroke:#0d8050; }
      .bp3-dark .bp3-button-group.bp3-minimal .bp3-button.bp3-intent-success{
        color:#3dcc91; }
        .bp3-dark .bp3-button-group.bp3-minimal .bp3-button.bp3-intent-success:hover{
          background:rgba(15, 153, 96, 0.2);
          color:#3dcc91; }
        .bp3-dark .bp3-button-group.bp3-minimal .bp3-button.bp3-intent-success:active, .bp3-dark .bp3-button-group.bp3-minimal .bp3-button.bp3-intent-success.bp3-active{
          background:rgba(15, 153, 96, 0.3);
          color:#3dcc91; }
        .bp3-dark .bp3-button-group.bp3-minimal .bp3-button.bp3-intent-success:disabled, .bp3-dark .bp3-button-group.bp3-minimal .bp3-button.bp3-intent-success.bp3-disabled{
          background:none;
          color:rgba(61, 204, 145, 0.5); }
          .bp3-dark .bp3-button-group.bp3-minimal .bp3-button.bp3-intent-success:disabled.bp3-active, .bp3-dark .bp3-button-group.bp3-minimal .bp3-button.bp3-intent-success.bp3-disabled.bp3-active{
            background:rgba(15, 153, 96, 0.3); }
    .bp3-button-group.bp3-minimal .bp3-button.bp3-intent-warning{
      color:#bf7326; }
      .bp3-button-group.bp3-minimal .bp3-button.bp3-intent-warning:hover, .bp3-button-group.bp3-minimal .bp3-button.bp3-intent-warning:active, .bp3-button-group.bp3-minimal .bp3-button.bp3-intent-warning.bp3-active{
        background:none;
        -webkit-box-shadow:none;
                box-shadow:none;
        color:#bf7326; }
      .bp3-button-group.bp3-minimal .bp3-button.bp3-intent-warning:hover{
        background:rgba(217, 130, 43, 0.15);
        color:#bf7326; }
      .bp3-button-group.bp3-minimal .bp3-button.bp3-intent-warning:active, .bp3-button-group.bp3-minimal .bp3-button.bp3-intent-warning.bp3-active{
        background:rgba(217, 130, 43, 0.3);
        color:#bf7326; }
      .bp3-button-group.bp3-minimal .bp3-button.bp3-intent-warning:disabled, .bp3-button-group.bp3-minimal .bp3-button.bp3-intent-warning.bp3-disabled{
        background:none;
        color:rgba(191, 115, 38, 0.5); }
        .bp3-button-group.bp3-minimal .bp3-button.bp3-intent-warning:disabled.bp3-active, .bp3-button-group.bp3-minimal .bp3-button.bp3-intent-warning.bp3-disabled.bp3-active{
          background:rgba(217, 130, 43, 0.3); }
      .bp3-button-group.bp3-minimal .bp3-button.bp3-intent-warning .bp3-button-spinner .bp3-spinner-head{
        stroke:#bf7326; }
      .bp3-dark .bp3-button-group.bp3-minimal .bp3-button.bp3-intent-warning{
        color:#ffb366; }
        .bp3-dark .bp3-button-group.bp3-minimal .bp3-button.bp3-intent-warning:hover{
          background:rgba(217, 130, 43, 0.2);
          color:#ffb366; }
        .bp3-dark .bp3-button-group.bp3-minimal .bp3-button.bp3-intent-warning:active, .bp3-dark .bp3-button-group.bp3-minimal .bp3-button.bp3-intent-warning.bp3-active{
          background:rgba(217, 130, 43, 0.3);
          color:#ffb366; }
        .bp3-dark .bp3-button-group.bp3-minimal .bp3-button.bp3-intent-warning:disabled, .bp3-dark .bp3-button-group.bp3-minimal .bp3-button.bp3-intent-warning.bp3-disabled{
          background:none;
          color:rgba(255, 179, 102, 0.5); }
          .bp3-dark .bp3-button-group.bp3-minimal .bp3-button.bp3-intent-warning:disabled.bp3-active, .bp3-dark .bp3-button-group.bp3-minimal .bp3-button.bp3-intent-warning.bp3-disabled.bp3-active{
            background:rgba(217, 130, 43, 0.3); }
    .bp3-button-group.bp3-minimal .bp3-button.bp3-intent-danger{
      color:#c23030; }
      .bp3-button-group.bp3-minimal .bp3-button.bp3-intent-danger:hover, .bp3-button-group.bp3-minimal .bp3-button.bp3-intent-danger:active, .bp3-button-group.bp3-minimal .bp3-button.bp3-intent-danger.bp3-active{
        background:none;
        -webkit-box-shadow:none;
                box-shadow:none;
        color:#c23030; }
      .bp3-button-group.bp3-minimal .bp3-button.bp3-intent-danger:hover{
        background:rgba(219, 55, 55, 0.15);
        color:#c23030; }
      .bp3-button-group.bp3-minimal .bp3-button.bp3-intent-danger:active, .bp3-button-group.bp3-minimal .bp3-button.bp3-intent-danger.bp3-active{
        background:rgba(219, 55, 55, 0.3);
        color:#c23030; }
      .bp3-button-group.bp3-minimal .bp3-button.bp3-intent-danger:disabled, .bp3-button-group.bp3-minimal .bp3-button.bp3-intent-danger.bp3-disabled{
        background:none;
        color:rgba(194, 48, 48, 0.5); }
        .bp3-button-group.bp3-minimal .bp3-button.bp3-intent-danger:disabled.bp3-active, .bp3-button-group.bp3-minimal .bp3-button.bp3-intent-danger.bp3-disabled.bp3-active{
          background:rgba(219, 55, 55, 0.3); }
      .bp3-button-group.bp3-minimal .bp3-button.bp3-intent-danger .bp3-button-spinner .bp3-spinner-head{
        stroke:#c23030; }
      .bp3-dark .bp3-button-group.bp3-minimal .bp3-button.bp3-intent-danger{
        color:#ff7373; }
        .bp3-dark .bp3-button-group.bp3-minimal .bp3-button.bp3-intent-danger:hover{
          background:rgba(219, 55, 55, 0.2);
          color:#ff7373; }
        .bp3-dark .bp3-button-group.bp3-minimal .bp3-button.bp3-intent-danger:active, .bp3-dark .bp3-button-group.bp3-minimal .bp3-button.bp3-intent-danger.bp3-active{
          background:rgba(219, 55, 55, 0.3);
          color:#ff7373; }
        .bp3-dark .bp3-button-group.bp3-minimal .bp3-button.bp3-intent-danger:disabled, .bp3-dark .bp3-button-group.bp3-minimal .bp3-button.bp3-intent-danger.bp3-disabled{
          background:none;
          color:rgba(255, 115, 115, 0.5); }
          .bp3-dark .bp3-button-group.bp3-minimal .bp3-button.bp3-intent-danger:disabled.bp3-active, .bp3-dark .bp3-button-group.bp3-minimal .bp3-button.bp3-intent-danger.bp3-disabled.bp3-active{
            background:rgba(219, 55, 55, 0.3); }
  .bp3-button-group .bp3-popover-wrapper,
  .bp3-button-group .bp3-popover-target{
    display:-webkit-box;
    display:-ms-flexbox;
    display:flex;
    -webkit-box-flex:1;
        -ms-flex:1 1 auto;
            flex:1 1 auto; }
  .bp3-button-group.bp3-fill{
    display:-webkit-box;
    display:-ms-flexbox;
    display:flex;
    width:100%; }
  .bp3-button-group .bp3-button.bp3-fill,
  .bp3-button-group.bp3-fill .bp3-button:not(.bp3-fixed){
    -webkit-box-flex:1;
        -ms-flex:1 1 auto;
            flex:1 1 auto; }
  .bp3-button-group.bp3-vertical{
    -webkit-box-align:stretch;
        -ms-flex-align:stretch;
            align-items:stretch;
    -webkit-box-orient:vertical;
    -webkit-box-direction:normal;
        -ms-flex-direction:column;
            flex-direction:column;
    vertical-align:top; }
    .bp3-button-group.bp3-vertical.bp3-fill{
      height:100%;
      width:unset; }
    .bp3-button-group.bp3-vertical .bp3-button{
      margin-right:0 !important;
      width:100%; }
    .bp3-button-group.bp3-vertical:not(.bp3-minimal) > .bp3-popover-wrapper:first-child .bp3-button,
    .bp3-button-group.bp3-vertical:not(.bp3-minimal) > .bp3-button:first-child{
      border-radius:3px 3px 0 0; }
    .bp3-button-group.bp3-vertical:not(.bp3-minimal) > .bp3-popover-wrapper:last-child .bp3-button,
    .bp3-button-group.bp3-vertical:not(.bp3-minimal) > .bp3-button:last-child{
      border-radius:0 0 3px 3px; }
    .bp3-button-group.bp3-vertical:not(.bp3-minimal) > .bp3-popover-wrapper:not(:last-child) .bp3-button,
    .bp3-button-group.bp3-vertical:not(.bp3-minimal) > .bp3-button:not(:last-child){
      margin-bottom:-1px; }
  .bp3-button-group.bp3-align-left .bp3-button{
    text-align:left; }
  .bp3-dark .bp3-button-group:not(.bp3-minimal) > .bp3-popover-wrapper:not(:last-child) .bp3-button,
  .bp3-dark .bp3-button-group:not(.bp3-minimal) > .bp3-button:not(:last-child){
    margin-right:1px; }
  .bp3-dark .bp3-button-group.bp3-vertical > .bp3-popover-wrapper:not(:last-child) .bp3-button,
  .bp3-dark .bp3-button-group.bp3-vertical > .bp3-button:not(:last-child){
    margin-bottom:1px; }
.bp3-callout{
  font-size:14px;
  line-height:1.5;
  background-color:rgba(138, 155, 168, 0.15);
  border-radius:3px;
  padding:10px 12px 9px;
  position:relative;
  width:100%; }
  .bp3-callout[class*="bp3-icon-"]{
    padding-left:40px; }
    .bp3-callout[class*="bp3-icon-"]::before{
      font-family:"Icons20", sans-serif;
      font-size:20px;
      font-style:normal;
      font-weight:400;
      line-height:1;
      -moz-osx-font-smoothing:grayscale;
      -webkit-font-smoothing:antialiased;
      color:#5c7080;
      left:10px;
      position:absolute;
      top:10px; }
  .bp3-callout.bp3-callout-icon{
    padding-left:40px; }
    .bp3-callout.bp3-callout-icon > .bp3-icon:first-child{
      color:#5c7080;
      left:10px;
      position:absolute;
      top:10px; }
  .bp3-callout .bp3-heading{
    line-height:20px;
    margin-bottom:5px;
    margin-top:0; }
    .bp3-callout .bp3-heading:last-child{
      margin-bottom:0; }
  .bp3-dark .bp3-callout{
    background-color:rgba(138, 155, 168, 0.2); }
    .bp3-dark .bp3-callout[class*="bp3-icon-"]::before{
      color:#a7b6c2; }
  .bp3-callout.bp3-intent-primary{
    background-color:rgba(19, 124, 189, 0.15); }
    .bp3-callout.bp3-intent-primary[class*="bp3-icon-"]::before,
    .bp3-callout.bp3-intent-primary > .bp3-icon:first-child,
    .bp3-callout.bp3-intent-primary .bp3-heading{
      color:#106ba3; }
    .bp3-dark .bp3-callout.bp3-intent-primary{
      background-color:rgba(19, 124, 189, 0.25); }
      .bp3-dark .bp3-callout.bp3-intent-primary[class*="bp3-icon-"]::before,
      .bp3-dark .bp3-callout.bp3-intent-primary > .bp3-icon:first-child,
      .bp3-dark .bp3-callout.bp3-intent-primary .bp3-heading{
        color:#48aff0; }
  .bp3-callout.bp3-intent-success{
    background-color:rgba(15, 153, 96, 0.15); }
    .bp3-callout.bp3-intent-success[class*="bp3-icon-"]::before,
    .bp3-callout.bp3-intent-success > .bp3-icon:first-child,
    .bp3-callout.bp3-intent-success .bp3-heading{
      color:#0d8050; }
    .bp3-dark .bp3-callout.bp3-intent-success{
      background-color:rgba(15, 153, 96, 0.25); }
      .bp3-dark .bp3-callout.bp3-intent-success[class*="bp3-icon-"]::before,
      .bp3-dark .bp3-callout.bp3-intent-success > .bp3-icon:first-child,
      .bp3-dark .bp3-callout.bp3-intent-success .bp3-heading{
        color:#3dcc91; }
  .bp3-callout.bp3-intent-warning{
    background-color:rgba(217, 130, 43, 0.15); }
    .bp3-callout.bp3-intent-warning[class*="bp3-icon-"]::before,
    .bp3-callout.bp3-intent-warning > .bp3-icon:first-child,
    .bp3-callout.bp3-intent-warning .bp3-heading{
      color:#bf7326; }
    .bp3-dark .bp3-callout.bp3-intent-warning{
      background-color:rgba(217, 130, 43, 0.25); }
      .bp3-dark .bp3-callout.bp3-intent-warning[class*="bp3-icon-"]::before,
      .bp3-dark .bp3-callout.bp3-intent-warning > .bp3-icon:first-child,
      .bp3-dark .bp3-callout.bp3-intent-warning .bp3-heading{
        color:#ffb366; }
  .bp3-callout.bp3-intent-danger{
    background-color:rgba(219, 55, 55, 0.15); }
    .bp3-callout.bp3-intent-danger[class*="bp3-icon-"]::before,
    .bp3-callout.bp3-intent-danger > .bp3-icon:first-child,
    .bp3-callout.bp3-intent-danger .bp3-heading{
      color:#c23030; }
    .bp3-dark .bp3-callout.bp3-intent-danger{
      background-color:rgba(219, 55, 55, 0.25); }
      .bp3-dark .bp3-callout.bp3-intent-danger[class*="bp3-icon-"]::before,
      .bp3-dark .bp3-callout.bp3-intent-danger > .bp3-icon:first-child,
      .bp3-dark .bp3-callout.bp3-intent-danger .bp3-heading{
        color:#ff7373; }
  .bp3-running-text .bp3-callout{
    margin:20px 0; }
.bp3-card{
  background-color:#ffffff;
  border-radius:3px;
  -webkit-box-shadow:0 0 0 1px rgba(16, 22, 26, 0.15), 0 0 0 rgba(16, 22, 26, 0), 0 0 0 rgba(16, 22, 26, 0);
          box-shadow:0 0 0 1px rgba(16, 22, 26, 0.15), 0 0 0 rgba(16, 22, 26, 0), 0 0 0 rgba(16, 22, 26, 0);
  padding:20px;
  -webkit-transition:-webkit-transform 200ms cubic-bezier(0.4, 1, 0.75, 0.9), -webkit-box-shadow 200ms cubic-bezier(0.4, 1, 0.75, 0.9);
  transition:-webkit-transform 200ms cubic-bezier(0.4, 1, 0.75, 0.9), -webkit-box-shadow 200ms cubic-bezier(0.4, 1, 0.75, 0.9);
  transition:transform 200ms cubic-bezier(0.4, 1, 0.75, 0.9), box-shadow 200ms cubic-bezier(0.4, 1, 0.75, 0.9);
  transition:transform 200ms cubic-bezier(0.4, 1, 0.75, 0.9), box-shadow 200ms cubic-bezier(0.4, 1, 0.75, 0.9), -webkit-transform 200ms cubic-bezier(0.4, 1, 0.75, 0.9), -webkit-box-shadow 200ms cubic-bezier(0.4, 1, 0.75, 0.9); }
  .bp3-card.bp3-dark,
  .bp3-dark .bp3-card{
    background-color:#30404d;
    -webkit-box-shadow:0 0 0 1px rgba(16, 22, 26, 0.4), 0 0 0 rgba(16, 22, 26, 0), 0 0 0 rgba(16, 22, 26, 0);
            box-shadow:0 0 0 1px rgba(16, 22, 26, 0.4), 0 0 0 rgba(16, 22, 26, 0), 0 0 0 rgba(16, 22, 26, 0); }

.bp3-elevation-0{
  -webkit-box-shadow:0 0 0 1px rgba(16, 22, 26, 0.15), 0 0 0 rgba(16, 22, 26, 0), 0 0 0 rgba(16, 22, 26, 0);
          box-shadow:0 0 0 1px rgba(16, 22, 26, 0.15), 0 0 0 rgba(16, 22, 26, 0), 0 0 0 rgba(16, 22, 26, 0); }
  .bp3-elevation-0.bp3-dark,
  .bp3-dark .bp3-elevation-0{
    -webkit-box-shadow:0 0 0 1px rgba(16, 22, 26, 0.4), 0 0 0 rgba(16, 22, 26, 0), 0 0 0 rgba(16, 22, 26, 0);
            box-shadow:0 0 0 1px rgba(16, 22, 26, 0.4), 0 0 0 rgba(16, 22, 26, 0), 0 0 0 rgba(16, 22, 26, 0); }

.bp3-elevation-1{
  -webkit-box-shadow:0 0 0 1px rgba(16, 22, 26, 0.1), 0 0 0 rgba(16, 22, 26, 0), 0 1px 1px rgba(16, 22, 26, 0.2);
          box-shadow:0 0 0 1px rgba(16, 22, 26, 0.1), 0 0 0 rgba(16, 22, 26, 0), 0 1px 1px rgba(16, 22, 26, 0.2); }
  .bp3-elevation-1.bp3-dark,
  .bp3-dark .bp3-elevation-1{
    -webkit-box-shadow:0 0 0 1px rgba(16, 22, 26, 0.2), 0 0 0 rgba(16, 22, 26, 0), 0 1px 1px rgba(16, 22, 26, 0.4);
            box-shadow:0 0 0 1px rgba(16, 22, 26, 0.2), 0 0 0 rgba(16, 22, 26, 0), 0 1px 1px rgba(16, 22, 26, 0.4); }

.bp3-elevation-2{
  -webkit-box-shadow:0 0 0 1px rgba(16, 22, 26, 0.1), 0 1px 1px rgba(16, 22, 26, 0.2), 0 2px 6px rgba(16, 22, 26, 0.2);
          box-shadow:0 0 0 1px rgba(16, 22, 26, 0.1), 0 1px 1px rgba(16, 22, 26, 0.2), 0 2px 6px rgba(16, 22, 26, 0.2); }
  .bp3-elevation-2.bp3-dark,
  .bp3-dark .bp3-elevation-2{
    -webkit-box-shadow:0 0 0 1px rgba(16, 22, 26, 0.2), 0 1px 1px rgba(16, 22, 26, 0.4), 0 2px 6px rgba(16, 22, 26, 0.4);
            box-shadow:0 0 0 1px rgba(16, 22, 26, 0.2), 0 1px 1px rgba(16, 22, 26, 0.4), 0 2px 6px rgba(16, 22, 26, 0.4); }

.bp3-elevation-3{
  -webkit-box-shadow:0 0 0 1px rgba(16, 22, 26, 0.1), 0 2px 4px rgba(16, 22, 26, 0.2), 0 8px 24px rgba(16, 22, 26, 0.2);
          box-shadow:0 0 0 1px rgba(16, 22, 26, 0.1), 0 2px 4px rgba(16, 22, 26, 0.2), 0 8px 24px rgba(16, 22, 26, 0.2); }
  .bp3-elevation-3.bp3-dark,
  .bp3-dark .bp3-elevation-3{
    -webkit-box-shadow:0 0 0 1px rgba(16, 22, 26, 0.2), 0 2px 4px rgba(16, 22, 26, 0.4), 0 8px 24px rgba(16, 22, 26, 0.4);
            box-shadow:0 0 0 1px rgba(16, 22, 26, 0.2), 0 2px 4px rgba(16, 22, 26, 0.4), 0 8px 24px rgba(16, 22, 26, 0.4); }

.bp3-elevation-4{
  -webkit-box-shadow:0 0 0 1px rgba(16, 22, 26, 0.1), 0 4px 8px rgba(16, 22, 26, 0.2), 0 18px 46px 6px rgba(16, 22, 26, 0.2);
          box-shadow:0 0 0 1px rgba(16, 22, 26, 0.1), 0 4px 8px rgba(16, 22, 26, 0.2), 0 18px 46px 6px rgba(16, 22, 26, 0.2); }
  .bp3-elevation-4.bp3-dark,
  .bp3-dark .bp3-elevation-4{
    -webkit-box-shadow:0 0 0 1px rgba(16, 22, 26, 0.2), 0 4px 8px rgba(16, 22, 26, 0.4), 0 18px 46px 6px rgba(16, 22, 26, 0.4);
            box-shadow:0 0 0 1px rgba(16, 22, 26, 0.2), 0 4px 8px rgba(16, 22, 26, 0.4), 0 18px 46px 6px rgba(16, 22, 26, 0.4); }

.bp3-card.bp3-interactive:hover{
  -webkit-box-shadow:0 0 0 1px rgba(16, 22, 26, 0.1), 0 2px 4px rgba(16, 22, 26, 0.2), 0 8px 24px rgba(16, 22, 26, 0.2);
          box-shadow:0 0 0 1px rgba(16, 22, 26, 0.1), 0 2px 4px rgba(16, 22, 26, 0.2), 0 8px 24px rgba(16, 22, 26, 0.2);
  cursor:pointer; }
  .bp3-card.bp3-interactive:hover.bp3-dark,
  .bp3-dark .bp3-card.bp3-interactive:hover{
    -webkit-box-shadow:0 0 0 1px rgba(16, 22, 26, 0.2), 0 2px 4px rgba(16, 22, 26, 0.4), 0 8px 24px rgba(16, 22, 26, 0.4);
            box-shadow:0 0 0 1px rgba(16, 22, 26, 0.2), 0 2px 4px rgba(16, 22, 26, 0.4), 0 8px 24px rgba(16, 22, 26, 0.4); }

.bp3-card.bp3-interactive:active{
  -webkit-box-shadow:0 0 0 1px rgba(16, 22, 26, 0.1), 0 0 0 rgba(16, 22, 26, 0), 0 1px 1px rgba(16, 22, 26, 0.2);
          box-shadow:0 0 0 1px rgba(16, 22, 26, 0.1), 0 0 0 rgba(16, 22, 26, 0), 0 1px 1px rgba(16, 22, 26, 0.2);
  opacity:0.9;
  -webkit-transition-duration:0;
          transition-duration:0; }
  .bp3-card.bp3-interactive:active.bp3-dark,
  .bp3-dark .bp3-card.bp3-interactive:active{
    -webkit-box-shadow:0 0 0 1px rgba(16, 22, 26, 0.2), 0 0 0 rgba(16, 22, 26, 0), 0 1px 1px rgba(16, 22, 26, 0.4);
            box-shadow:0 0 0 1px rgba(16, 22, 26, 0.2), 0 0 0 rgba(16, 22, 26, 0), 0 1px 1px rgba(16, 22, 26, 0.4); }

.bp3-collapse{
  height:0;
  overflow-y:hidden;
  -webkit-transition:height 200ms cubic-bezier(0.4, 1, 0.75, 0.9);
  transition:height 200ms cubic-bezier(0.4, 1, 0.75, 0.9); }
  .bp3-collapse .bp3-collapse-body{
    -webkit-transition:-webkit-transform 200ms cubic-bezier(0.4, 1, 0.75, 0.9);
    transition:-webkit-transform 200ms cubic-bezier(0.4, 1, 0.75, 0.9);
    transition:transform 200ms cubic-bezier(0.4, 1, 0.75, 0.9);
    transition:transform 200ms cubic-bezier(0.4, 1, 0.75, 0.9), -webkit-transform 200ms cubic-bezier(0.4, 1, 0.75, 0.9); }
    .bp3-collapse .bp3-collapse-body[aria-hidden="true"]{
      display:none; }

.bp3-context-menu .bp3-popover-target{
  display:block; }

.bp3-context-menu-popover-target{
  position:fixed; }

.bp3-divider{
  border-bottom:1px solid rgba(16, 22, 26, 0.15);
  border-right:1px solid rgba(16, 22, 26, 0.15);
  margin:5px; }
  .bp3-dark .bp3-divider{
    border-color:rgba(16, 22, 26, 0.4); }
.bp3-dialog-container{
  opacity:1;
  -webkit-transform:scale(1);
          transform:scale(1);
  -webkit-box-align:center;
      -ms-flex-align:center;
          align-items:center;
  display:-webkit-box;
  display:-ms-flexbox;
  display:flex;
  -webkit-box-pack:center;
      -ms-flex-pack:center;
          justify-content:center;
  min-height:100%;
  pointer-events:none;
  -webkit-user-select:none;
     -moz-user-select:none;
      -ms-user-select:none;
          user-select:none;
  width:100%; }
  .bp3-dialog-container.bp3-overlay-enter > .bp3-dialog, .bp3-dialog-container.bp3-overlay-appear > .bp3-dialog{
    opacity:0;
    -webkit-transform:scale(0.5);
            transform:scale(0.5); }
  .bp3-dialog-container.bp3-overlay-enter-active > .bp3-dialog, .bp3-dialog-container.bp3-overlay-appear-active > .bp3-dialog{
    opacity:1;
    -webkit-transform:scale(1);
            transform:scale(1);
    -webkit-transition-delay:0;
            transition-delay:0;
    -webkit-transition-duration:300ms;
            transition-duration:300ms;
    -webkit-transition-property:opacity, -webkit-transform;
    transition-property:opacity, -webkit-transform;
    transition-property:opacity, transform;
    transition-property:opacity, transform, -webkit-transform;
    -webkit-transition-timing-function:cubic-bezier(0.54, 1.12, 0.38, 1.11);
            transition-timing-function:cubic-bezier(0.54, 1.12, 0.38, 1.11); }
  .bp3-dialog-container.bp3-overlay-exit > .bp3-dialog{
    opacity:1;
    -webkit-transform:scale(1);
            transform:scale(1); }
  .bp3-dialog-container.bp3-overlay-exit-active > .bp3-dialog{
    opacity:0;
    -webkit-transform:scale(0.5);
            transform:scale(0.5);
    -webkit-transition-delay:0;
            transition-delay:0;
    -webkit-transition-duration:300ms;
            transition-duration:300ms;
    -webkit-transition-property:opacity, -webkit-transform;
    transition-property:opacity, -webkit-transform;
    transition-property:opacity, transform;
    transition-property:opacity, transform, -webkit-transform;
    -webkit-transition-timing-function:cubic-bezier(0.54, 1.12, 0.38, 1.11);
            transition-timing-function:cubic-bezier(0.54, 1.12, 0.38, 1.11); }

.bp3-dialog{
  background:#ebf1f5;
  border-radius:6px;
  -webkit-box-shadow:0 0 0 1px rgba(16, 22, 26, 0.1), 0 4px 8px rgba(16, 22, 26, 0.2), 0 18px 46px 6px rgba(16, 22, 26, 0.2);
          box-shadow:0 0 0 1px rgba(16, 22, 26, 0.1), 0 4px 8px rgba(16, 22, 26, 0.2), 0 18px 46px 6px rgba(16, 22, 26, 0.2);
  display:-webkit-box;
  display:-ms-flexbox;
  display:flex;
  -webkit-box-orient:vertical;
  -webkit-box-direction:normal;
      -ms-flex-direction:column;
          flex-direction:column;
  margin:30px 0;
  padding-bottom:20px;
  pointer-events:all;
  -webkit-user-select:text;
     -moz-user-select:text;
      -ms-user-select:text;
          user-select:text;
  width:500px; }
  .bp3-dialog:focus{
    outline:0; }
  .bp3-dialog.bp3-dark,
  .bp3-dark .bp3-dialog{
    background:#293742;
    -webkit-box-shadow:0 0 0 1px rgba(16, 22, 26, 0.2), 0 4px 8px rgba(16, 22, 26, 0.4), 0 18px 46px 6px rgba(16, 22, 26, 0.4);
            box-shadow:0 0 0 1px rgba(16, 22, 26, 0.2), 0 4px 8px rgba(16, 22, 26, 0.4), 0 18px 46px 6px rgba(16, 22, 26, 0.4);
    color:#f5f8fa; }

.bp3-dialog-header{
  -webkit-box-align:center;
      -ms-flex-align:center;
          align-items:center;
  background:#ffffff;
  border-radius:6px 6px 0 0;
  -webkit-box-shadow:0 1px 0 rgba(16, 22, 26, 0.15);
          box-shadow:0 1px 0 rgba(16, 22, 26, 0.15);
  display:-webkit-box;
  display:-ms-flexbox;
  display:flex;
  -webkit-box-flex:0;
      -ms-flex:0 0 auto;
          flex:0 0 auto;
  min-height:40px;
  padding-left:20px;
  padding-right:5px;
  z-index:30; }
  .bp3-dialog-header .bp3-icon-large,
  .bp3-dialog-header .bp3-icon{
    color:#5c7080;
    -webkit-box-flex:0;
        -ms-flex:0 0 auto;
            flex:0 0 auto;
    margin-right:10px; }
  .bp3-dialog-header .bp3-heading{
    overflow:hidden;
    text-overflow:ellipsis;
    white-space:nowrap;
    word-wrap:normal;
    -webkit-box-flex:1;
        -ms-flex:1 1 auto;
            flex:1 1 auto;
    line-height:inherit;
    margin:0; }
    .bp3-dialog-header .bp3-heading:last-child{
      margin-right:20px; }
  .bp3-dark .bp3-dialog-header{
    background:#30404d;
    -webkit-box-shadow:0 1px 0 rgba(16, 22, 26, 0.4);
            box-shadow:0 1px 0 rgba(16, 22, 26, 0.4); }
    .bp3-dark .bp3-dialog-header .bp3-icon-large,
    .bp3-dark .bp3-dialog-header .bp3-icon{
      color:#a7b6c2; }

.bp3-dialog-body{
  -webkit-box-flex:1;
      -ms-flex:1 1 auto;
          flex:1 1 auto;
  line-height:18px;
  margin:20px; }

.bp3-dialog-footer{
  -webkit-box-flex:0;
      -ms-flex:0 0 auto;
          flex:0 0 auto;
  margin:0 20px; }

.bp3-dialog-footer-actions{
  display:-webkit-box;
  display:-ms-flexbox;
  display:flex;
  -webkit-box-pack:end;
      -ms-flex-pack:end;
          justify-content:flex-end; }
  .bp3-dialog-footer-actions .bp3-button{
    margin-left:10px; }
.bp3-multistep-dialog-panels{
  display:-webkit-box;
  display:-ms-flexbox;
  display:flex; }

.bp3-multistep-dialog-left-panel{
  display:-webkit-box;
  display:-ms-flexbox;
  display:flex;
  -webkit-box-flex:1;
      -ms-flex:1;
          flex:1;
  -webkit-box-orient:vertical;
  -webkit-box-direction:normal;
      -ms-flex-direction:column;
          flex-direction:column; }
  .bp3-dark .bp3-multistep-dialog-left-panel{
    background:#202b33; }

.bp3-multistep-dialog-right-panel{
  background-color:#f5f8fa;
  border-left:1px solid rgba(16, 22, 26, 0.15);
  border-radius:0 0 6px 0;
  -webkit-box-flex:3;
      -ms-flex:3;
          flex:3;
  min-width:0; }
  .bp3-dark .bp3-multistep-dialog-right-panel{
    background-color:#293742;
    border-left:1px solid rgba(16, 22, 26, 0.4); }

.bp3-multistep-dialog-footer{
  background-color:#ffffff;
  border-radius:0 0 6px 0;
  border-top:1px solid rgba(16, 22, 26, 0.15);
  padding:10px; }
  .bp3-dark .bp3-multistep-dialog-footer{
    background:#30404d;
    border-top:1px solid rgba(16, 22, 26, 0.4); }

.bp3-dialog-step-container{
  background-color:#f5f8fa;
  border-bottom:1px solid rgba(16, 22, 26, 0.15); }
  .bp3-dark .bp3-dialog-step-container{
    background:#293742;
    border-bottom:1px solid rgba(16, 22, 26, 0.4); }
  .bp3-dialog-step-container.bp3-dialog-step-viewed{
    background-color:#ffffff; }
    .bp3-dark .bp3-dialog-step-container.bp3-dialog-step-viewed{
      background:#30404d; }

.bp3-dialog-step{
  -webkit-box-align:center;
      -ms-flex-align:center;
          align-items:center;
  background-color:#f5f8fa;
  border-radius:6px;
  cursor:not-allowed;
  display:-webkit-box;
  display:-ms-flexbox;
  display:flex;
  margin:4px;
  padding:6px 14px; }
  .bp3-dark .bp3-dialog-step{
    background:#293742; }
  .bp3-dialog-step-viewed .bp3-dialog-step{
    background-color:#ffffff;
    cursor:pointer; }
    .bp3-dark .bp3-dialog-step-viewed .bp3-dialog-step{
      background:#30404d; }
  .bp3-dialog-step:hover{
    background-color:#f5f8fa; }
    .bp3-dark .bp3-dialog-step:hover{
      background:#293742; }

.bp3-dialog-step-icon{
  -webkit-box-align:center;
      -ms-flex-align:center;
          align-items:center;
  background-color:rgba(92, 112, 128, 0.6);
  border-radius:50%;
  color:#ffffff;
  display:-webkit-box;
  display:-ms-flexbox;
  display:flex;
  height:25px;
  -webkit-box-pack:center;
      -ms-flex-pack:center;
          justify-content:center;
  width:25px; }
  .bp3-dark .bp3-dialog-step-icon{
    background-color:rgba(167, 182, 194, 0.6); }
  .bp3-active.bp3-dialog-step-viewed .bp3-dialog-step-icon{
    background-color:#2b95d6; }
  .bp3-dialog-step-viewed .bp3-dialog-step-icon{
    background-color:#8a9ba8; }

.bp3-dialog-step-title{
  color:rgba(92, 112, 128, 0.6);
  -webkit-box-flex:1;
      -ms-flex:1;
          flex:1;
  padding-left:10px; }
  .bp3-dark .bp3-dialog-step-title{
    color:rgba(167, 182, 194, 0.6); }
  .bp3-active.bp3-dialog-step-viewed .bp3-dialog-step-title{
    color:#2b95d6; }
  .bp3-dialog-step-viewed:not(.bp3-active) .bp3-dialog-step-title{
    color:#182026; }
    .bp3-dark .bp3-dialog-step-viewed:not(.bp3-active) .bp3-dialog-step-title{
      color:#f5f8fa; }
.bp3-drawer{
  background:#ffffff;
  -webkit-box-shadow:0 0 0 1px rgba(16, 22, 26, 0.1), 0 4px 8px rgba(16, 22, 26, 0.2), 0 18px 46px 6px rgba(16, 22, 26, 0.2);
          box-shadow:0 0 0 1px rgba(16, 22, 26, 0.1), 0 4px 8px rgba(16, 22, 26, 0.2), 0 18px 46px 6px rgba(16, 22, 26, 0.2);
  display:-webkit-box;
  display:-ms-flexbox;
  display:flex;
  -webkit-box-orient:vertical;
  -webkit-box-direction:normal;
      -ms-flex-direction:column;
          flex-direction:column;
  margin:0;
  padding:0; }
  .bp3-drawer:focus{
    outline:0; }
  .bp3-drawer.bp3-position-top{
    height:50%;
    left:0;
    right:0;
    top:0; }
    .bp3-drawer.bp3-position-top.bp3-overlay-enter, .bp3-drawer.bp3-position-top.bp3-overlay-appear{
      -webkit-transform:translateY(-100%);
              transform:translateY(-100%); }
    .bp3-drawer.bp3-position-top.bp3-overlay-enter-active, .bp3-drawer.bp3-position-top.bp3-overlay-appear-active{
      -webkit-transform:translateY(0);
              transform:translateY(0);
      -webkit-transition-delay:0;
              transition-delay:0;
      -webkit-transition-duration:200ms;
              transition-duration:200ms;
      -webkit-transition-property:-webkit-transform;
      transition-property:-webkit-transform;
      transition-property:transform;
      transition-property:transform, -webkit-transform;
      -webkit-transition-timing-function:cubic-bezier(0.4, 1, 0.75, 0.9);
              transition-timing-function:cubic-bezier(0.4, 1, 0.75, 0.9); }
    .bp3-drawer.bp3-position-top.bp3-overlay-exit{
      -webkit-transform:translateY(0);
              transform:translateY(0); }
    .bp3-drawer.bp3-position-top.bp3-overlay-exit-active{
      -webkit-transform:translateY(-100%);
              transform:translateY(-100%);
      -webkit-transition-delay:0;
              transition-delay:0;
      -webkit-transition-duration:100ms;
              transition-duration:100ms;
      -webkit-transition-property:-webkit-transform;
      transition-property:-webkit-transform;
      transition-property:transform;
      transition-property:transform, -webkit-transform;
      -webkit-transition-timing-function:cubic-bezier(0.4, 1, 0.75, 0.9);
              transition-timing-function:cubic-bezier(0.4, 1, 0.75, 0.9); }
  .bp3-drawer.bp3-position-bottom{
    bottom:0;
    height:50%;
    left:0;
    right:0; }
    .bp3-drawer.bp3-position-bottom.bp3-overlay-enter, .bp3-drawer.bp3-position-bottom.bp3-overlay-appear{
      -webkit-transform:translateY(100%);
              transform:translateY(100%); }
    .bp3-drawer.bp3-position-bottom.bp3-overlay-enter-active, .bp3-drawer.bp3-position-bottom.bp3-overlay-appear-active{
      -webkit-transform:translateY(0);
              transform:translateY(0);
      -webkit-transition-delay:0;
              transition-delay:0;
      -webkit-transition-duration:200ms;
              transition-duration:200ms;
      -webkit-transition-property:-webkit-transform;
      transition-property:-webkit-transform;
      transition-property:transform;
      transition-property:transform, -webkit-transform;
      -webkit-transition-timing-function:cubic-bezier(0.4, 1, 0.75, 0.9);
              transition-timing-function:cubic-bezier(0.4, 1, 0.75, 0.9); }
    .bp3-drawer.bp3-position-bottom.bp3-overlay-exit{
      -webkit-transform:translateY(0);
              transform:translateY(0); }
    .bp3-drawer.bp3-position-bottom.bp3-overlay-exit-active{
      -webkit-transform:translateY(100%);
              transform:translateY(100%);
      -webkit-transition-delay:0;
              transition-delay:0;
      -webkit-transition-duration:100ms;
              transition-duration:100ms;
      -webkit-transition-property:-webkit-transform;
      transition-property:-webkit-transform;
      transition-property:transform;
      transition-property:transform, -webkit-transform;
      -webkit-transition-timing-function:cubic-bezier(0.4, 1, 0.75, 0.9);
              transition-timing-function:cubic-bezier(0.4, 1, 0.75, 0.9); }
  .bp3-drawer.bp3-position-left{
    bottom:0;
    left:0;
    top:0;
    width:50%; }
    .bp3-drawer.bp3-position-left.bp3-overlay-enter, .bp3-drawer.bp3-position-left.bp3-overlay-appear{
      -webkit-transform:translateX(-100%);
              transform:translateX(-100%); }
    .bp3-drawer.bp3-position-left.bp3-overlay-enter-active, .bp3-drawer.bp3-position-left.bp3-overlay-appear-active{
      -webkit-transform:translateX(0);
              transform:translateX(0);
      -webkit-transition-delay:0;
              transition-delay:0;
      -webkit-transition-duration:200ms;
              transition-duration:200ms;
      -webkit-transition-property:-webkit-transform;
      transition-property:-webkit-transform;
      transition-property:transform;
      transition-property:transform, -webkit-transform;
      -webkit-transition-timing-function:cubic-bezier(0.4, 1, 0.75, 0.9);
              transition-timing-function:cubic-bezier(0.4, 1, 0.75, 0.9); }
    .bp3-drawer.bp3-position-left.bp3-overlay-exit{
      -webkit-transform:translateX(0);
              transform:translateX(0); }
    .bp3-drawer.bp3-position-left.bp3-overlay-exit-active{
      -webkit-transform:translateX(-100%);
              transform:translateX(-100%);
      -webkit-transition-delay:0;
              transition-delay:0;
      -webkit-transition-duration:100ms;
              transition-duration:100ms;
      -webkit-transition-property:-webkit-transform;
      transition-property:-webkit-transform;
      transition-property:transform;
      transition-property:transform, -webkit-transform;
      -webkit-transition-timing-function:cubic-bezier(0.4, 1, 0.75, 0.9);
              transition-timing-function:cubic-bezier(0.4, 1, 0.75, 0.9); }
  .bp3-drawer.bp3-position-right{
    bottom:0;
    right:0;
    top:0;
    width:50%; }
    .bp3-drawer.bp3-position-right.bp3-overlay-enter, .bp3-drawer.bp3-position-right.bp3-overlay-appear{
      -webkit-transform:translateX(100%);
              transform:translateX(100%); }
    .bp3-drawer.bp3-position-right.bp3-overlay-enter-active, .bp3-drawer.bp3-position-right.bp3-overlay-appear-active{
      -webkit-transform:translateX(0);
              transform:translateX(0);
      -webkit-transition-delay:0;
              transition-delay:0;
      -webkit-transition-duration:200ms;
              transition-duration:200ms;
      -webkit-transition-property:-webkit-transform;
      transition-property:-webkit-transform;
      transition-property:transform;
      transition-property:transform, -webkit-transform;
      -webkit-transition-timing-function:cubic-bezier(0.4, 1, 0.75, 0.9);
              transition-timing-function:cubic-bezier(0.4, 1, 0.75, 0.9); }
    .bp3-drawer.bp3-position-right.bp3-overlay-exit{
      -webkit-transform:translateX(0);
              transform:translateX(0); }
    .bp3-drawer.bp3-position-right.bp3-overlay-exit-active{
      -webkit-transform:translateX(100%);
              transform:translateX(100%);
      -webkit-transition-delay:0;
              transition-delay:0;
      -webkit-transition-duration:100ms;
              transition-duration:100ms;
      -webkit-transition-property:-webkit-transform;
      transition-property:-webkit-transform;
      transition-property:transform;
      transition-property:transform, -webkit-transform;
      -webkit-transition-timing-function:cubic-bezier(0.4, 1, 0.75, 0.9);
              transition-timing-function:cubic-bezier(0.4, 1, 0.75, 0.9); }
  .bp3-drawer:not(.bp3-position-top):not(.bp3-position-bottom):not(.bp3-position-left):not(
  .bp3-position-right):not(.bp3-vertical){
    bottom:0;
    right:0;
    top:0;
    width:50%; }
    .bp3-drawer:not(.bp3-position-top):not(.bp3-position-bottom):not(.bp3-position-left):not(
    .bp3-position-right):not(.bp3-vertical).bp3-overlay-enter, .bp3-drawer:not(.bp3-position-top):not(.bp3-position-bottom):not(.bp3-position-left):not(
    .bp3-position-right):not(.bp3-vertical).bp3-overlay-appear{
      -webkit-transform:translateX(100%);
              transform:translateX(100%); }
    .bp3-drawer:not(.bp3-position-top):not(.bp3-position-bottom):not(.bp3-position-left):not(
    .bp3-position-right):not(.bp3-vertical).bp3-overlay-enter-active, .bp3-drawer:not(.bp3-position-top):not(.bp3-position-bottom):not(.bp3-position-left):not(
    .bp3-position-right):not(.bp3-vertical).bp3-overlay-appear-active{
      -webkit-transform:translateX(0);
              transform:translateX(0);
      -webkit-transition-delay:0;
              transition-delay:0;
      -webkit-transition-duration:200ms;
              transition-duration:200ms;
      -webkit-transition-property:-webkit-transform;
      transition-property:-webkit-transform;
      transition-property:transform;
      transition-property:transform, -webkit-transform;
      -webkit-transition-timing-function:cubic-bezier(0.4, 1, 0.75, 0.9);
              transition-timing-function:cubic-bezier(0.4, 1, 0.75, 0.9); }
    .bp3-drawer:not(.bp3-position-top):not(.bp3-position-bottom):not(.bp3-position-left):not(
    .bp3-position-right):not(.bp3-vertical).bp3-overlay-exit{
      -webkit-transform:translateX(0);
              transform:translateX(0); }
    .bp3-drawer:not(.bp3-position-top):not(.bp3-position-bottom):not(.bp3-position-left):not(
    .bp3-position-right):not(.bp3-vertical).bp3-overlay-exit-active{
      -webkit-transform:translateX(100%);
              transform:translateX(100%);
      -webkit-transition-delay:0;
              transition-delay:0;
      -webkit-transition-duration:100ms;
              transition-duration:100ms;
      -webkit-transition-property:-webkit-transform;
      transition-property:-webkit-transform;
      transition-property:transform;
      transition-property:transform, -webkit-transform;
      -webkit-transition-timing-function:cubic-bezier(0.4, 1, 0.75, 0.9);
              transition-timing-function:cubic-bezier(0.4, 1, 0.75, 0.9); }
  .bp3-drawer:not(.bp3-position-top):not(.bp3-position-bottom):not(.bp3-position-left):not(
  .bp3-position-right).bp3-vertical{
    bottom:0;
    height:50%;
    left:0;
    right:0; }
    .bp3-drawer:not(.bp3-position-top):not(.bp3-position-bottom):not(.bp3-position-left):not(
    .bp3-position-right).bp3-vertical.bp3-overlay-enter, .bp3-drawer:not(.bp3-position-top):not(.bp3-position-bottom):not(.bp3-position-left):not(
    .bp3-position-right).bp3-vertical.bp3-overlay-appear{
      -webkit-transform:translateY(100%);
              transform:translateY(100%); }
    .bp3-drawer:not(.bp3-position-top):not(.bp3-position-bottom):not(.bp3-position-left):not(
    .bp3-position-right).bp3-vertical.bp3-overlay-enter-active, .bp3-drawer:not(.bp3-position-top):not(.bp3-position-bottom):not(.bp3-position-left):not(
    .bp3-position-right).bp3-vertical.bp3-overlay-appear-active{
      -webkit-transform:translateY(0);
              transform:translateY(0);
      -webkit-transition-delay:0;
              transition-delay:0;
      -webkit-transition-duration:200ms;
              transition-duration:200ms;
      -webkit-transition-property:-webkit-transform;
      transition-property:-webkit-transform;
      transition-property:transform;
      transition-property:transform, -webkit-transform;
      -webkit-transition-timing-function:cubic-bezier(0.4, 1, 0.75, 0.9);
              transition-timing-function:cubic-bezier(0.4, 1, 0.75, 0.9); }
    .bp3-drawer:not(.bp3-position-top):not(.bp3-position-bottom):not(.bp3-position-left):not(
    .bp3-position-right).bp3-vertical.bp3-overlay-exit{
      -webkit-transform:translateY(0);
              transform:translateY(0); }
    .bp3-drawer:not(.bp3-position-top):not(.bp3-position-bottom):not(.bp3-position-left):not(
    .bp3-position-right).bp3-vertical.bp3-overlay-exit-active{
      -webkit-transform:translateY(100%);
              transform:translateY(100%);
      -webkit-transition-delay:0;
              transition-delay:0;
      -webkit-transition-duration:100ms;
              transition-duration:100ms;
      -webkit-transition-property:-webkit-transform;
      transition-property:-webkit-transform;
      transition-property:transform;
      transition-property:transform, -webkit-transform;
      -webkit-transition-timing-function:cubic-bezier(0.4, 1, 0.75, 0.9);
              transition-timing-function:cubic-bezier(0.4, 1, 0.75, 0.9); }
  .bp3-drawer.bp3-dark,
  .bp3-dark .bp3-drawer{
    background:#30404d;
    -webkit-box-shadow:0 0 0 1px rgba(16, 22, 26, 0.2), 0 4px 8px rgba(16, 22, 26, 0.4), 0 18px 46px 6px rgba(16, 22, 26, 0.4);
            box-shadow:0 0 0 1px rgba(16, 22, 26, 0.2), 0 4px 8px rgba(16, 22, 26, 0.4), 0 18px 46px 6px rgba(16, 22, 26, 0.4);
    color:#f5f8fa; }

.bp3-drawer-header{
  -webkit-box-align:center;
      -ms-flex-align:center;
          align-items:center;
  border-radius:0;
  -webkit-box-shadow:0 1px 0 rgba(16, 22, 26, 0.15);
          box-shadow:0 1px 0 rgba(16, 22, 26, 0.15);
  display:-webkit-box;
  display:-ms-flexbox;
  display:flex;
  -webkit-box-flex:0;
      -ms-flex:0 0 auto;
          flex:0 0 auto;
  min-height:40px;
  padding:5px;
  padding-left:20px;
  position:relative; }
  .bp3-drawer-header .bp3-icon-large,
  .bp3-drawer-header .bp3-icon{
    color:#5c7080;
    -webkit-box-flex:0;
        -ms-flex:0 0 auto;
            flex:0 0 auto;
    margin-right:10px; }
  .bp3-drawer-header .bp3-heading{
    overflow:hidden;
    text-overflow:ellipsis;
    white-space:nowrap;
    word-wrap:normal;
    -webkit-box-flex:1;
        -ms-flex:1 1 auto;
            flex:1 1 auto;
    line-height:inherit;
    margin:0; }
    .bp3-drawer-header .bp3-heading:last-child{
      margin-right:20px; }
  .bp3-dark .bp3-drawer-header{
    -webkit-box-shadow:0 1px 0 rgba(16, 22, 26, 0.4);
            box-shadow:0 1px 0 rgba(16, 22, 26, 0.4); }
    .bp3-dark .bp3-drawer-header .bp3-icon-large,
    .bp3-dark .bp3-drawer-header .bp3-icon{
      color:#a7b6c2; }

.bp3-drawer-body{
  -webkit-box-flex:1;
      -ms-flex:1 1 auto;
          flex:1 1 auto;
  line-height:18px;
  overflow:auto; }

.bp3-drawer-footer{
  -webkit-box-shadow:inset 0 1px 0 rgba(16, 22, 26, 0.15);
          box-shadow:inset 0 1px 0 rgba(16, 22, 26, 0.15);
  -webkit-box-flex:0;
      -ms-flex:0 0 auto;
          flex:0 0 auto;
  padding:10px 20px;
  position:relative; }
  .bp3-dark .bp3-drawer-footer{
    -webkit-box-shadow:inset 0 1px 0 rgba(16, 22, 26, 0.4);
            box-shadow:inset 0 1px 0 rgba(16, 22, 26, 0.4); }
.bp3-editable-text{
  cursor:text;
  display:inline-block;
  max-width:100%;
  position:relative;
  vertical-align:top;
  white-space:nowrap; }
  .bp3-editable-text::before{
    bottom:-3px;
    left:-3px;
    position:absolute;
    right:-3px;
    top:-3px;
    border-radius:3px;
    content:"";
    -webkit-transition:background-color 100ms cubic-bezier(0.4, 1, 0.75, 0.9), -webkit-box-shadow 100ms cubic-bezier(0.4, 1, 0.75, 0.9);
    transition:background-color 100ms cubic-bezier(0.4, 1, 0.75, 0.9), -webkit-box-shadow 100ms cubic-bezier(0.4, 1, 0.75, 0.9);
    transition:background-color 100ms cubic-bezier(0.4, 1, 0.75, 0.9), box-shadow 100ms cubic-bezier(0.4, 1, 0.75, 0.9);
    transition:background-color 100ms cubic-bezier(0.4, 1, 0.75, 0.9), box-shadow 100ms cubic-bezier(0.4, 1, 0.75, 0.9), -webkit-box-shadow 100ms cubic-bezier(0.4, 1, 0.75, 0.9); }
  .bp3-editable-text:hover::before{
    -webkit-box-shadow:0 0 0 0 rgba(19, 124, 189, 0), 0 0 0 0 rgba(19, 124, 189, 0), inset 0 0 0 1px rgba(16, 22, 26, 0.15);
            box-shadow:0 0 0 0 rgba(19, 124, 189, 0), 0 0 0 0 rgba(19, 124, 189, 0), inset 0 0 0 1px rgba(16, 22, 26, 0.15); }
  .bp3-editable-text.bp3-editable-text-editing::before{
    background-color:#ffffff;
    -webkit-box-shadow:0 0 0 1px #137cbd, 0 0 0 3px rgba(19, 124, 189, 0.3), inset 0 1px 1px rgba(16, 22, 26, 0.2);
            box-shadow:0 0 0 1px #137cbd, 0 0 0 3px rgba(19, 124, 189, 0.3), inset 0 1px 1px rgba(16, 22, 26, 0.2); }
  .bp3-editable-text.bp3-disabled::before{
    -webkit-box-shadow:none;
            box-shadow:none; }
  .bp3-editable-text.bp3-intent-primary .bp3-editable-text-input,
  .bp3-editable-text.bp3-intent-primary .bp3-editable-text-content{
    color:#137cbd; }
  .bp3-editable-text.bp3-intent-primary:hover::before{
    -webkit-box-shadow:0 0 0 0 rgba(19, 124, 189, 0), 0 0 0 0 rgba(19, 124, 189, 0), inset 0 0 0 1px rgba(19, 124, 189, 0.4);
            box-shadow:0 0 0 0 rgba(19, 124, 189, 0), 0 0 0 0 rgba(19, 124, 189, 0), inset 0 0 0 1px rgba(19, 124, 189, 0.4); }
  .bp3-editable-text.bp3-intent-primary.bp3-editable-text-editing::before{
    -webkit-box-shadow:0 0 0 1px #137cbd, 0 0 0 3px rgba(19, 124, 189, 0.3), inset 0 1px 1px rgba(16, 22, 26, 0.2);
            box-shadow:0 0 0 1px #137cbd, 0 0 0 3px rgba(19, 124, 189, 0.3), inset 0 1px 1px rgba(16, 22, 26, 0.2); }
  .bp3-editable-text.bp3-intent-success .bp3-editable-text-input,
  .bp3-editable-text.bp3-intent-success .bp3-editable-text-content{
    color:#0f9960; }
  .bp3-editable-text.bp3-intent-success:hover::before{
    -webkit-box-shadow:0 0 0 0 rgba(15, 153, 96, 0), 0 0 0 0 rgba(15, 153, 96, 0), inset 0 0 0 1px rgba(15, 153, 96, 0.4);
            box-shadow:0 0 0 0 rgba(15, 153, 96, 0), 0 0 0 0 rgba(15, 153, 96, 0), inset 0 0 0 1px rgba(15, 153, 96, 0.4); }
  .bp3-editable-text.bp3-intent-success.bp3-editable-text-editing::before{
    -webkit-box-shadow:0 0 0 1px #0f9960, 0 0 0 3px rgba(15, 153, 96, 0.3), inset 0 1px 1px rgba(16, 22, 26, 0.2);
            box-shadow:0 0 0 1px #0f9960, 0 0 0 3px rgba(15, 153, 96, 0.3), inset 0 1px 1px rgba(16, 22, 26, 0.2); }
  .bp3-editable-text.bp3-intent-warning .bp3-editable-text-input,
  .bp3-editable-text.bp3-intent-warning .bp3-editable-text-content{
    color:#d9822b; }
  .bp3-editable-text.bp3-intent-warning:hover::before{
    -webkit-box-shadow:0 0 0 0 rgba(217, 130, 43, 0), 0 0 0 0 rgba(217, 130, 43, 0), inset 0 0 0 1px rgba(217, 130, 43, 0.4);
            box-shadow:0 0 0 0 rgba(217, 130, 43, 0), 0 0 0 0 rgba(217, 130, 43, 0), inset 0 0 0 1px rgba(217, 130, 43, 0.4); }
  .bp3-editable-text.bp3-intent-warning.bp3-editable-text-editing::before{
    -webkit-box-shadow:0 0 0 1px #d9822b, 0 0 0 3px rgba(217, 130, 43, 0.3), inset 0 1px 1px rgba(16, 22, 26, 0.2);
            box-shadow:0 0 0 1px #d9822b, 0 0 0 3px rgba(217, 130, 43, 0.3), inset 0 1px 1px rgba(16, 22, 26, 0.2); }
  .bp3-editable-text.bp3-intent-danger .bp3-editable-text-input,
  .bp3-editable-text.bp3-intent-danger .bp3-editable-text-content{
    color:#db3737; }
  .bp3-editable-text.bp3-intent-danger:hover::before{
    -webkit-box-shadow:0 0 0 0 rgba(219, 55, 55, 0), 0 0 0 0 rgba(219, 55, 55, 0), inset 0 0 0 1px rgba(219, 55, 55, 0.4);
            box-shadow:0 0 0 0 rgba(219, 55, 55, 0), 0 0 0 0 rgba(219, 55, 55, 0), inset 0 0 0 1px rgba(219, 55, 55, 0.4); }
  .bp3-editable-text.bp3-intent-danger.bp3-editable-text-editing::before{
    -webkit-box-shadow:0 0 0 1px #db3737, 0 0 0 3px rgba(219, 55, 55, 0.3), inset 0 1px 1px rgba(16, 22, 26, 0.2);
            box-shadow:0 0 0 1px #db3737, 0 0 0 3px rgba(219, 55, 55, 0.3), inset 0 1px 1px rgba(16, 22, 26, 0.2); }
  .bp3-dark .bp3-editable-text:hover::before{
    -webkit-box-shadow:0 0 0 0 rgba(19, 124, 189, 0), 0 0 0 0 rgba(19, 124, 189, 0), inset 0 0 0 1px rgba(255, 255, 255, 0.15);
            box-shadow:0 0 0 0 rgba(19, 124, 189, 0), 0 0 0 0 rgba(19, 124, 189, 0), inset 0 0 0 1px rgba(255, 255, 255, 0.15); }
  .bp3-dark .bp3-editable-text.bp3-editable-text-editing::before{
    background-color:rgba(16, 22, 26, 0.3);
    -webkit-box-shadow:0 0 0 1px #137cbd, 0 0 0 3px rgba(19, 124, 189, 0.3), inset 0 0 0 1px rgba(16, 22, 26, 0.3), inset 0 1px 1px rgba(16, 22, 26, 0.4);
            box-shadow:0 0 0 1px #137cbd, 0 0 0 3px rgba(19, 124, 189, 0.3), inset 0 0 0 1px rgba(16, 22, 26, 0.3), inset 0 1px 1px rgba(16, 22, 26, 0.4); }
  .bp3-dark .bp3-editable-text.bp3-disabled::before{
    -webkit-box-shadow:none;
            box-shadow:none; }
  .bp3-dark .bp3-editable-text.bp3-intent-primary .bp3-editable-text-content{
    color:#48aff0; }
  .bp3-dark .bp3-editable-text.bp3-intent-primary:hover::before{
    -webkit-box-shadow:0 0 0 0 rgba(72, 175, 240, 0), 0 0 0 0 rgba(72, 175, 240, 0), inset 0 0 0 1px rgba(72, 175, 240, 0.4);
            box-shadow:0 0 0 0 rgba(72, 175, 240, 0), 0 0 0 0 rgba(72, 175, 240, 0), inset 0 0 0 1px rgba(72, 175, 240, 0.4); }
  .bp3-dark .bp3-editable-text.bp3-intent-primary.bp3-editable-text-editing::before{
    -webkit-box-shadow:0 0 0 1px #48aff0, 0 0 0 3px rgba(72, 175, 240, 0.3), inset 0 0 0 1px rgba(16, 22, 26, 0.3), inset 0 1px 1px rgba(16, 22, 26, 0.4);
            box-shadow:0 0 0 1px #48aff0, 0 0 0 3px rgba(72, 175, 240, 0.3), inset 0 0 0 1px rgba(16, 22, 26, 0.3), inset 0 1px 1px rgba(16, 22, 26, 0.4); }
  .bp3-dark .bp3-editable-text.bp3-intent-success .bp3-editable-text-content{
    color:#3dcc91; }
  .bp3-dark .bp3-editable-text.bp3-intent-success:hover::before{
    -webkit-box-shadow:0 0 0 0 rgba(61, 204, 145, 0), 0 0 0 0 rgba(61, 204, 145, 0), inset 0 0 0 1px rgba(61, 204, 145, 0.4);
            box-shadow:0 0 0 0 rgba(61, 204, 145, 0), 0 0 0 0 rgba(61, 204, 145, 0), inset 0 0 0 1px rgba(61, 204, 145, 0.4); }
  .bp3-dark .bp3-editable-text.bp3-intent-success.bp3-editable-text-editing::before{
    -webkit-box-shadow:0 0 0 1px #3dcc91, 0 0 0 3px rgba(61, 204, 145, 0.3), inset 0 0 0 1px rgba(16, 22, 26, 0.3), inset 0 1px 1px rgba(16, 22, 26, 0.4);
            box-shadow:0 0 0 1px #3dcc91, 0 0 0 3px rgba(61, 204, 145, 0.3), inset 0 0 0 1px rgba(16, 22, 26, 0.3), inset 0 1px 1px rgba(16, 22, 26, 0.4); }
  .bp3-dark .bp3-editable-text.bp3-intent-warning .bp3-editable-text-content{
    color:#ffb366; }
  .bp3-dark .bp3-editable-text.bp3-intent-warning:hover::before{
    -webkit-box-shadow:0 0 0 0 rgba(255, 179, 102, 0), 0 0 0 0 rgba(255, 179, 102, 0), inset 0 0 0 1px rgba(255, 179, 102, 0.4);
            box-shadow:0 0 0 0 rgba(255, 179, 102, 0), 0 0 0 0 rgba(255, 179, 102, 0), inset 0 0 0 1px rgba(255, 179, 102, 0.4); }
  .bp3-dark .bp3-editable-text.bp3-intent-warning.bp3-editable-text-editing::before{
    -webkit-box-shadow:0 0 0 1px #ffb366, 0 0 0 3px rgba(255, 179, 102, 0.3), inset 0 0 0 1px rgba(16, 22, 26, 0.3), inset 0 1px 1px rgba(16, 22, 26, 0.4);
            box-shadow:0 0 0 1px #ffb366, 0 0 0 3px rgba(255, 179, 102, 0.3), inset 0 0 0 1px rgba(16, 22, 26, 0.3), inset 0 1px 1px rgba(16, 22, 26, 0.4); }
  .bp3-dark .bp3-editable-text.bp3-intent-danger .bp3-editable-text-content{
    color:#ff7373; }
  .bp3-dark .bp3-editable-text.bp3-intent-danger:hover::before{
    -webkit-box-shadow:0 0 0 0 rgba(255, 115, 115, 0), 0 0 0 0 rgba(255, 115, 115, 0), inset 0 0 0 1px rgba(255, 115, 115, 0.4);
            box-shadow:0 0 0 0 rgba(255, 115, 115, 0), 0 0 0 0 rgba(255, 115, 115, 0), inset 0 0 0 1px rgba(255, 115, 115, 0.4); }
  .bp3-dark .bp3-editable-text.bp3-intent-danger.bp3-editable-text-editing::before{
    -webkit-box-shadow:0 0 0 1px #ff7373, 0 0 0 3px rgba(255, 115, 115, 0.3), inset 0 0 0 1px rgba(16, 22, 26, 0.3), inset 0 1px 1px rgba(16, 22, 26, 0.4);
            box-shadow:0 0 0 1px #ff7373, 0 0 0 3px rgba(255, 115, 115, 0.3), inset 0 0 0 1px rgba(16, 22, 26, 0.3), inset 0 1px 1px rgba(16, 22, 26, 0.4); }

.bp3-editable-text-input,
.bp3-editable-text-content{
  color:inherit;
  display:inherit;
  font:inherit;
  letter-spacing:inherit;
  max-width:inherit;
  min-width:inherit;
  position:relative;
  resize:none;
  text-transform:inherit;
  vertical-align:top; }

.bp3-editable-text-input{
  background:none;
  border:none;
  -webkit-box-shadow:none;
          box-shadow:none;
  padding:0;
  white-space:pre-wrap;
  width:100%; }
  .bp3-editable-text-input::-webkit-input-placeholder{
    color:rgba(92, 112, 128, 0.6);
    opacity:1; }
  .bp3-editable-text-input::-moz-placeholder{
    color:rgba(92, 112, 128, 0.6);
    opacity:1; }
  .bp3-editable-text-input:-ms-input-placeholder{
    color:rgba(92, 112, 128, 0.6);
    opacity:1; }
  .bp3-editable-text-input::-ms-input-placeholder{
    color:rgba(92, 112, 128, 0.6);
    opacity:1; }
  .bp3-editable-text-input::placeholder{
    color:rgba(92, 112, 128, 0.6);
    opacity:1; }
  .bp3-editable-text-input:focus{
    outline:none; }
  .bp3-editable-text-input::-ms-clear{
    display:none; }

.bp3-editable-text-content{
  overflow:hidden;
  padding-right:2px;
  text-overflow:ellipsis;
  white-space:pre; }
  .bp3-editable-text-editing > .bp3-editable-text-content{
    left:0;
    position:absolute;
    visibility:hidden; }
  .bp3-editable-text-placeholder > .bp3-editable-text-content{
    color:rgba(92, 112, 128, 0.6); }
    .bp3-dark .bp3-editable-text-placeholder > .bp3-editable-text-content{
      color:rgba(167, 182, 194, 0.6); }

.bp3-editable-text.bp3-multiline{
  display:block; }
  .bp3-editable-text.bp3-multiline .bp3-editable-text-content{
    overflow:auto;
    white-space:pre-wrap;
    word-wrap:break-word; }
.bp3-divider{
  border-bottom:1px solid rgba(16, 22, 26, 0.15);
  border-right:1px solid rgba(16, 22, 26, 0.15);
  margin:5px; }
  .bp3-dark .bp3-divider{
    border-color:rgba(16, 22, 26, 0.4); }
.bp3-control-group{
  -webkit-transform:translateZ(0);
          transform:translateZ(0);
  display:-webkit-box;
  display:-ms-flexbox;
  display:flex;
  -webkit-box-orient:horizontal;
  -webkit-box-direction:normal;
      -ms-flex-direction:row;
          flex-direction:row;
  -webkit-box-align:stretch;
      -ms-flex-align:stretch;
          align-items:stretch; }
  .bp3-control-group > *{
    -webkit-box-flex:0;
        -ms-flex-positive:0;
            flex-grow:0;
    -ms-flex-negative:0;
        flex-shrink:0; }
  .bp3-control-group > .bp3-fill{
    -webkit-box-flex:1;
        -ms-flex-positive:1;
            flex-grow:1;
    -ms-flex-negative:1;
        flex-shrink:1; }
  .bp3-control-group .bp3-button,
  .bp3-control-group .bp3-html-select,
  .bp3-control-group .bp3-input,
  .bp3-control-group .bp3-select{
    position:relative; }
  .bp3-control-group .bp3-input{
    border-radius:inherit;
    z-index:2; }
    .bp3-control-group .bp3-input:focus{
      border-radius:3px;
      z-index:14; }
    .bp3-control-group .bp3-input[class*="bp3-intent"]{
      z-index:13; }
      .bp3-control-group .bp3-input[class*="bp3-intent"]:focus{
        z-index:15; }
    .bp3-control-group .bp3-input[readonly], .bp3-control-group .bp3-input:disabled, .bp3-control-group .bp3-input.bp3-disabled{
      z-index:1; }
  .bp3-control-group .bp3-input-group[class*="bp3-intent"] .bp3-input{
    z-index:13; }
    .bp3-control-group .bp3-input-group[class*="bp3-intent"] .bp3-input:focus{
      z-index:15; }
  .bp3-control-group .bp3-button,
  .bp3-control-group .bp3-html-select select,
  .bp3-control-group .bp3-select select{
    -webkit-transform:translateZ(0);
            transform:translateZ(0);
    border-radius:inherit;
    z-index:4; }
    .bp3-control-group .bp3-button:focus,
    .bp3-control-group .bp3-html-select select:focus,
    .bp3-control-group .bp3-select select:focus{
      z-index:5; }
    .bp3-control-group .bp3-button:hover,
    .bp3-control-group .bp3-html-select select:hover,
    .bp3-control-group .bp3-select select:hover{
      z-index:6; }
    .bp3-control-group .bp3-button:active,
    .bp3-control-group .bp3-html-select select:active,
    .bp3-control-group .bp3-select select:active{
      z-index:7; }
    .bp3-control-group .bp3-button[readonly], .bp3-control-group .bp3-button:disabled, .bp3-control-group .bp3-button.bp3-disabled,
    .bp3-control-group .bp3-html-select select[readonly],
    .bp3-control-group .bp3-html-select select:disabled,
    .bp3-control-group .bp3-html-select select.bp3-disabled,
    .bp3-control-group .bp3-select select[readonly],
    .bp3-control-group .bp3-select select:disabled,
    .bp3-control-group .bp3-select select.bp3-disabled{
      z-index:3; }
    .bp3-control-group .bp3-button[class*="bp3-intent"],
    .bp3-control-group .bp3-html-select select[class*="bp3-intent"],
    .bp3-control-group .bp3-select select[class*="bp3-intent"]{
      z-index:9; }
      .bp3-control-group .bp3-button[class*="bp3-intent"]:focus,
      .bp3-control-group .bp3-html-select select[class*="bp3-intent"]:focus,
      .bp3-control-group .bp3-select select[class*="bp3-intent"]:focus{
        z-index:10; }
      .bp3-control-group .bp3-button[class*="bp3-intent"]:hover,
      .bp3-control-group .bp3-html-select select[class*="bp3-intent"]:hover,
      .bp3-control-group .bp3-select select[class*="bp3-intent"]:hover{
        z-index:11; }
      .bp3-control-group .bp3-button[class*="bp3-intent"]:active,
      .bp3-control-group .bp3-html-select select[class*="bp3-intent"]:active,
      .bp3-control-group .bp3-select select[class*="bp3-intent"]:active{
        z-index:12; }
      .bp3-control-group .bp3-button[class*="bp3-intent"][readonly], .bp3-control-group .bp3-button[class*="bp3-intent"]:disabled, .bp3-control-group .bp3-button[class*="bp3-intent"].bp3-disabled,
      .bp3-control-group .bp3-html-select select[class*="bp3-intent"][readonly],
      .bp3-control-group .bp3-html-select select[class*="bp3-intent"]:disabled,
      .bp3-control-group .bp3-html-select select[class*="bp3-intent"].bp3-disabled,
      .bp3-control-group .bp3-select select[class*="bp3-intent"][readonly],
      .bp3-control-group .bp3-select select[class*="bp3-intent"]:disabled,
      .bp3-control-group .bp3-select select[class*="bp3-intent"].bp3-disabled{
        z-index:8; }
  .bp3-control-group .bp3-input-group > .bp3-icon,
  .bp3-control-group .bp3-input-group > .bp3-button,
  .bp3-control-group .bp3-input-group > .bp3-input-left-container,
  .bp3-control-group .bp3-input-group > .bp3-input-action{
    z-index:16; }
  .bp3-control-group .bp3-select::after,
  .bp3-control-group .bp3-html-select::after,
  .bp3-control-group .bp3-select > .bp3-icon,
  .bp3-control-group .bp3-html-select > .bp3-icon{
    z-index:17; }
  .bp3-control-group .bp3-select:focus-within{
    z-index:5; }
  .bp3-control-group:not(.bp3-vertical) > *:not(.bp3-divider){
    margin-right:-1px; }
  .bp3-control-group:not(.bp3-vertical) > .bp3-divider:not(:first-child){
    margin-left:6px; }
  .bp3-dark .bp3-control-group:not(.bp3-vertical) > *:not(.bp3-divider){
    margin-right:0; }
  .bp3-dark .bp3-control-group:not(.bp3-vertical) > .bp3-button + .bp3-button{
    margin-left:1px; }
  .bp3-control-group .bp3-popover-wrapper,
  .bp3-control-group .bp3-popover-target{
    border-radius:inherit; }
  .bp3-control-group > :first-child{
    border-radius:3px 0 0 3px; }
  .bp3-control-group > :last-child{
    border-radius:0 3px 3px 0;
    margin-right:0; }
  .bp3-control-group > :only-child{
    border-radius:3px;
    margin-right:0; }
  .bp3-control-group .bp3-input-group .bp3-button{
    border-radius:3px; }
  .bp3-control-group .bp3-numeric-input:not(:first-child) .bp3-input-group{
    border-bottom-left-radius:0;
    border-top-left-radius:0; }
  .bp3-control-group.bp3-fill{
    width:100%; }
  .bp3-control-group > .bp3-fill{
    -webkit-box-flex:1;
        -ms-flex:1 1 auto;
            flex:1 1 auto; }
  .bp3-control-group.bp3-fill > *:not(.bp3-fixed){
    -webkit-box-flex:1;
        -ms-flex:1 1 auto;
            flex:1 1 auto; }
  .bp3-control-group.bp3-vertical{
    -webkit-box-orient:vertical;
    -webkit-box-direction:normal;
        -ms-flex-direction:column;
            flex-direction:column; }
    .bp3-control-group.bp3-vertical > *{
      margin-top:-1px; }
    .bp3-control-group.bp3-vertical > :first-child{
      border-radius:3px 3px 0 0;
      margin-top:0; }
    .bp3-control-group.bp3-vertical > :last-child{
      border-radius:0 0 3px 3px; }
.bp3-control{
  cursor:pointer;
  display:block;
  margin-bottom:10px;
  position:relative;
  text-transform:none; }
  .bp3-control input:checked ~ .bp3-control-indicator{
    background-color:#137cbd;
    background-image:-webkit-gradient(linear, left top, left bottom, from(rgba(255, 255, 255, 0.1)), to(rgba(255, 255, 255, 0)));
    background-image:linear-gradient(to bottom, rgba(255, 255, 255, 0.1), rgba(255, 255, 255, 0));
    -webkit-box-shadow:inset 0 0 0 1px rgba(16, 22, 26, 0.4), inset 0 -1px 0 rgba(16, 22, 26, 0.2);
            box-shadow:inset 0 0 0 1px rgba(16, 22, 26, 0.4), inset 0 -1px 0 rgba(16, 22, 26, 0.2);
    color:#ffffff; }
  .bp3-control:hover input:checked ~ .bp3-control-indicator{
    background-color:#106ba3;
    -webkit-box-shadow:inset 0 0 0 1px rgba(16, 22, 26, 0.4), inset 0 -1px 0 rgba(16, 22, 26, 0.2);
            box-shadow:inset 0 0 0 1px rgba(16, 22, 26, 0.4), inset 0 -1px 0 rgba(16, 22, 26, 0.2); }
  .bp3-control input:not(:disabled):active:checked ~ .bp3-control-indicator{
    background:#0e5a8a;
    -webkit-box-shadow:inset 0 0 0 1px rgba(16, 22, 26, 0.4), inset 0 1px 2px rgba(16, 22, 26, 0.2);
            box-shadow:inset 0 0 0 1px rgba(16, 22, 26, 0.4), inset 0 1px 2px rgba(16, 22, 26, 0.2); }
  .bp3-control input:disabled:checked ~ .bp3-control-indicator{
    background:rgba(19, 124, 189, 0.5);
    -webkit-box-shadow:none;
            box-shadow:none; }
  .bp3-dark .bp3-control input:checked ~ .bp3-control-indicator{
    -webkit-box-shadow:0 0 0 1px rgba(16, 22, 26, 0.4);
            box-shadow:0 0 0 1px rgba(16, 22, 26, 0.4); }
  .bp3-dark .bp3-control:hover input:checked ~ .bp3-control-indicator{
    background-color:#106ba3;
    -webkit-box-shadow:0 0 0 1px rgba(16, 22, 26, 0.4);
            box-shadow:0 0 0 1px rgba(16, 22, 26, 0.4); }
  .bp3-dark .bp3-control input:not(:disabled):active:checked ~ .bp3-control-indicator{
    background-color:#0e5a8a;
    -webkit-box-shadow:0 0 0 1px rgba(16, 22, 26, 0.4), inset 0 1px 2px rgba(16, 22, 26, 0.2);
            box-shadow:0 0 0 1px rgba(16, 22, 26, 0.4), inset 0 1px 2px rgba(16, 22, 26, 0.2); }
  .bp3-dark .bp3-control input:disabled:checked ~ .bp3-control-indicator{
    background:rgba(14, 90, 138, 0.5);
    -webkit-box-shadow:none;
            box-shadow:none; }
  .bp3-control:not(.bp3-align-right){
    padding-left:26px; }
    .bp3-control:not(.bp3-align-right) .bp3-control-indicator{
      margin-left:-26px; }
  .bp3-control.bp3-align-right{
    padding-right:26px; }
    .bp3-control.bp3-align-right .bp3-control-indicator{
      margin-right:-26px; }
  .bp3-control.bp3-disabled{
    color:rgba(92, 112, 128, 0.6);
    cursor:not-allowed; }
  .bp3-control.bp3-inline{
    display:inline-block;
    margin-right:20px; }
  .bp3-control input{
    left:0;
    opacity:0;
    position:absolute;
    top:0;
    z-index:-1; }
  .bp3-control .bp3-control-indicator{
    background-clip:padding-box;
    background-color:#f5f8fa;
    background-image:-webkit-gradient(linear, left top, left bottom, from(rgba(255, 255, 255, 0.8)), to(rgba(255, 255, 255, 0)));
    background-image:linear-gradient(to bottom, rgba(255, 255, 255, 0.8), rgba(255, 255, 255, 0));
    border:none;
    -webkit-box-shadow:inset 0 0 0 1px rgba(16, 22, 26, 0.2), inset 0 -1px 0 rgba(16, 22, 26, 0.1);
            box-shadow:inset 0 0 0 1px rgba(16, 22, 26, 0.2), inset 0 -1px 0 rgba(16, 22, 26, 0.1);
    cursor:pointer;
    display:inline-block;
    font-size:16px;
    height:1em;
    margin-right:10px;
    margin-top:-3px;
    position:relative;
    -webkit-user-select:none;
       -moz-user-select:none;
        -ms-user-select:none;
            user-select:none;
    vertical-align:middle;
    width:1em; }
    .bp3-control .bp3-control-indicator::before{
      content:"";
      display:block;
      height:1em;
      width:1em; }
  .bp3-control:hover .bp3-control-indicator{
    background-color:#ebf1f5; }
  .bp3-control input:not(:disabled):active ~ .bp3-control-indicator{
    background:#d8e1e8;
    -webkit-box-shadow:inset 0 0 0 1px rgba(16, 22, 26, 0.2), inset 0 1px 2px rgba(16, 22, 26, 0.2);
            box-shadow:inset 0 0 0 1px rgba(16, 22, 26, 0.2), inset 0 1px 2px rgba(16, 22, 26, 0.2); }
  .bp3-control input:disabled ~ .bp3-control-indicator{
    background:rgba(206, 217, 224, 0.5);
    -webkit-box-shadow:none;
            box-shadow:none;
    cursor:not-allowed; }
  .bp3-control input:focus ~ .bp3-control-indicator{
    outline:rgba(19, 124, 189, 0.6) auto 2px;
    outline-offset:2px;
    -moz-outline-radius:6px; }
  .bp3-control.bp3-align-right .bp3-control-indicator{
    float:right;
    margin-left:10px;
    margin-top:1px; }
  .bp3-control.bp3-large{
    font-size:16px; }
    .bp3-control.bp3-large:not(.bp3-align-right){
      padding-left:30px; }
      .bp3-control.bp3-large:not(.bp3-align-right) .bp3-control-indicator{
        margin-left:-30px; }
    .bp3-control.bp3-large.bp3-align-right{
      padding-right:30px; }
      .bp3-control.bp3-large.bp3-align-right .bp3-control-indicator{
        margin-right:-30px; }
    .bp3-control.bp3-large .bp3-control-indicator{
      font-size:20px; }
    .bp3-control.bp3-large.bp3-align-right .bp3-control-indicator{
      margin-top:0; }
  .bp3-control.bp3-checkbox input:indeterminate ~ .bp3-control-indicator{
    background-color:#137cbd;
    background-image:-webkit-gradient(linear, left top, left bottom, from(rgba(255, 255, 255, 0.1)), to(rgba(255, 255, 255, 0)));
    background-image:linear-gradient(to bottom, rgba(255, 255, 255, 0.1), rgba(255, 255, 255, 0));
    -webkit-box-shadow:inset 0 0 0 1px rgba(16, 22, 26, 0.4), inset 0 -1px 0 rgba(16, 22, 26, 0.2);
            box-shadow:inset 0 0 0 1px rgba(16, 22, 26, 0.4), inset 0 -1px 0 rgba(16, 22, 26, 0.2);
    color:#ffffff; }
  .bp3-control.bp3-checkbox:hover input:indeterminate ~ .bp3-control-indicator{
    background-color:#106ba3;
    -webkit-box-shadow:inset 0 0 0 1px rgba(16, 22, 26, 0.4), inset 0 -1px 0 rgba(16, 22, 26, 0.2);
            box-shadow:inset 0 0 0 1px rgba(16, 22, 26, 0.4), inset 0 -1px 0 rgba(16, 22, 26, 0.2); }
  .bp3-control.bp3-checkbox input:not(:disabled):active:indeterminate ~ .bp3-control-indicator{
    background:#0e5a8a;
    -webkit-box-shadow:inset 0 0 0 1px rgba(16, 22, 26, 0.4), inset 0 1px 2px rgba(16, 22, 26, 0.2);
            box-shadow:inset 0 0 0 1px rgba(16, 22, 26, 0.4), inset 0 1px 2px rgba(16, 22, 26, 0.2); }
  .bp3-control.bp3-checkbox input:disabled:indeterminate ~ .bp3-control-indicator{
    background:rgba(19, 124, 189, 0.5);
    -webkit-box-shadow:none;
            box-shadow:none; }
  .bp3-dark .bp3-control.bp3-checkbox input:indeterminate ~ .bp3-control-indicator{
    -webkit-box-shadow:0 0 0 1px rgba(16, 22, 26, 0.4);
            box-shadow:0 0 0 1px rgba(16, 22, 26, 0.4); }
  .bp3-dark .bp3-control.bp3-checkbox:hover input:indeterminate ~ .bp3-control-indicator{
    background-color:#106ba3;
    -webkit-box-shadow:0 0 0 1px rgba(16, 22, 26, 0.4);
            box-shadow:0 0 0 1px rgba(16, 22, 26, 0.4); }
  .bp3-dark .bp3-control.bp3-checkbox input:not(:disabled):active:indeterminate ~ .bp3-control-indicator{
    background-color:#0e5a8a;
    -webkit-box-shadow:0 0 0 1px rgba(16, 22, 26, 0.4), inset 0 1px 2px rgba(16, 22, 26, 0.2);
            box-shadow:0 0 0 1px rgba(16, 22, 26, 0.4), inset 0 1px 2px rgba(16, 22, 26, 0.2); }
  .bp3-dark .bp3-control.bp3-checkbox input:disabled:indeterminate ~ .bp3-control-indicator{
    background:rgba(14, 90, 138, 0.5);
    -webkit-box-shadow:none;
            box-shadow:none; }
  .bp3-control.bp3-checkbox .bp3-control-indicator{
    border-radius:3px; }
  .bp3-control.bp3-checkbox input:checked ~ .bp3-control-indicator::before{
    background-image:url("data:image/svg+xml,%3csvg xmlns='http://www.w3.org/2000/svg' viewBox='0 0 16 16'%3e%3cpath fill-rule='evenodd' clip-rule='evenodd' d='M12 5c-.28 0-.53.11-.71.29L7 9.59l-2.29-2.3a1.003 1.003 0 00-1.42 1.42l3 3c.18.18.43.29.71.29s.53-.11.71-.29l5-5A1.003 1.003 0 0012 5z' fill='white'/%3e%3c/svg%3e"); }
  .bp3-control.bp3-checkbox input:indeterminate ~ .bp3-control-indicator::before{
    background-image:url("data:image/svg+xml,%3csvg xmlns='http://www.w3.org/2000/svg' viewBox='0 0 16 16'%3e%3cpath fill-rule='evenodd' clip-rule='evenodd' d='M11 7H5c-.55 0-1 .45-1 1s.45 1 1 1h6c.55 0 1-.45 1-1s-.45-1-1-1z' fill='white'/%3e%3c/svg%3e"); }
  .bp3-control.bp3-radio .bp3-control-indicator{
    border-radius:50%; }
  .bp3-control.bp3-radio input:checked ~ .bp3-control-indicator::before{
    background-image:radial-gradient(#ffffff, #ffffff 28%, transparent 32%); }
  .bp3-control.bp3-radio input:checked:disabled ~ .bp3-control-indicator::before{
    opacity:0.5; }
  .bp3-control.bp3-radio input:focus ~ .bp3-control-indicator{
    -moz-outline-radius:16px; }
  .bp3-control.bp3-switch input ~ .bp3-control-indicator{
    background:rgba(167, 182, 194, 0.5); }
  .bp3-control.bp3-switch:hover input ~ .bp3-control-indicator{
    background:rgba(115, 134, 148, 0.5); }
  .bp3-control.bp3-switch input:not(:disabled):active ~ .bp3-control-indicator{
    background:rgba(92, 112, 128, 0.5); }
  .bp3-control.bp3-switch input:disabled ~ .bp3-control-indicator{
    background:rgba(206, 217, 224, 0.5); }
    .bp3-control.bp3-switch input:disabled ~ .bp3-control-indicator::before{
      background:rgba(255, 255, 255, 0.8); }
  .bp3-control.bp3-switch input:checked ~ .bp3-control-indicator{
    background:#137cbd; }
  .bp3-control.bp3-switch:hover input:checked ~ .bp3-control-indicator{
    background:#106ba3; }
  .bp3-control.bp3-switch input:checked:not(:disabled):active ~ .bp3-control-indicator{
    background:#0e5a8a; }
  .bp3-control.bp3-switch input:checked:disabled ~ .bp3-control-indicator{
    background:rgba(19, 124, 189, 0.5); }
    .bp3-control.bp3-switch input:checked:disabled ~ .bp3-control-indicator::before{
      background:rgba(255, 255, 255, 0.8); }
  .bp3-control.bp3-switch:not(.bp3-align-right){
    padding-left:38px; }
    .bp3-control.bp3-switch:not(.bp3-align-right) .bp3-control-indicator{
      margin-left:-38px; }
  .bp3-control.bp3-switch.bp3-align-right{
    padding-right:38px; }
    .bp3-control.bp3-switch.bp3-align-right .bp3-control-indicator{
      margin-right:-38px; }
  .bp3-control.bp3-switch .bp3-control-indicator{
    border:none;
    border-radius:1.75em;
    -webkit-box-shadow:none !important;
            box-shadow:none !important;
    min-width:1.75em;
    -webkit-transition:background-color 100ms cubic-bezier(0.4, 1, 0.75, 0.9);
    transition:background-color 100ms cubic-bezier(0.4, 1, 0.75, 0.9);
    width:auto; }
    .bp3-control.bp3-switch .bp3-control-indicator::before{
      background:#ffffff;
      border-radius:50%;
      -webkit-box-shadow:0 0 0 1px rgba(16, 22, 26, 0.2), 0 1px 1px rgba(16, 22, 26, 0.2);
              box-shadow:0 0 0 1px rgba(16, 22, 26, 0.2), 0 1px 1px rgba(16, 22, 26, 0.2);
      height:calc(1em - 4px);
      left:0;
      margin:2px;
      position:absolute;
      -webkit-transition:left 100ms cubic-bezier(0.4, 1, 0.75, 0.9);
      transition:left 100ms cubic-bezier(0.4, 1, 0.75, 0.9);
      width:calc(1em - 4px); }
  .bp3-control.bp3-switch input:checked ~ .bp3-control-indicator::before{
    left:calc(100% - 1em); }
  .bp3-control.bp3-switch.bp3-large:not(.bp3-align-right){
    padding-left:45px; }
    .bp3-control.bp3-switch.bp3-large:not(.bp3-align-right) .bp3-control-indicator{
      margin-left:-45px; }
  .bp3-control.bp3-switch.bp3-large.bp3-align-right{
    padding-right:45px; }
    .bp3-control.bp3-switch.bp3-large.bp3-align-right .bp3-control-indicator{
      margin-right:-45px; }
  .bp3-dark .bp3-control.bp3-switch input ~ .bp3-control-indicator{
    background:rgba(16, 22, 26, 0.5); }
  .bp3-dark .bp3-control.bp3-switch:hover input ~ .bp3-control-indicator{
    background:rgba(16, 22, 26, 0.7); }
  .bp3-dark .bp3-control.bp3-switch input:not(:disabled):active ~ .bp3-control-indicator{
    background:rgba(16, 22, 26, 0.9); }
  .bp3-dark .bp3-control.bp3-switch input:disabled ~ .bp3-control-indicator{
    background:rgba(57, 75, 89, 0.5); }
    .bp3-dark .bp3-control.bp3-switch input:disabled ~ .bp3-control-indicator::before{
      background:rgba(16, 22, 26, 0.4); }
  .bp3-dark .bp3-control.bp3-switch input:checked ~ .bp3-control-indicator{
    background:#137cbd; }
  .bp3-dark .bp3-control.bp3-switch:hover input:checked ~ .bp3-control-indicator{
    background:#106ba3; }
  .bp3-dark .bp3-control.bp3-switch input:checked:not(:disabled):active ~ .bp3-control-indicator{
    background:#0e5a8a; }
  .bp3-dark .bp3-control.bp3-switch input:checked:disabled ~ .bp3-control-indicator{
    background:rgba(14, 90, 138, 0.5); }
    .bp3-dark .bp3-control.bp3-switch input:checked:disabled ~ .bp3-control-indicator::before{
      background:rgba(16, 22, 26, 0.4); }
  .bp3-dark .bp3-control.bp3-switch .bp3-control-indicator::before{
    background:#394b59;
    -webkit-box-shadow:0 0 0 1px rgba(16, 22, 26, 0.4);
            box-shadow:0 0 0 1px rgba(16, 22, 26, 0.4); }
  .bp3-dark .bp3-control.bp3-switch input:checked ~ .bp3-control-indicator::before{
    -webkit-box-shadow:inset 0 0 0 1px rgba(16, 22, 26, 0.4);
            box-shadow:inset 0 0 0 1px rgba(16, 22, 26, 0.4); }
  .bp3-control.bp3-switch .bp3-switch-inner-text{
    font-size:0.7em;
    text-align:center; }
  .bp3-control.bp3-switch .bp3-control-indicator-child:first-child{
    line-height:0;
    margin-left:0.5em;
    margin-right:1.2em;
    visibility:hidden; }
  .bp3-control.bp3-switch .bp3-control-indicator-child:last-child{
    line-height:1em;
    margin-left:1.2em;
    margin-right:0.5em;
    visibility:visible; }
  .bp3-control.bp3-switch input:checked ~ .bp3-control-indicator .bp3-control-indicator-child:first-child{
    line-height:1em;
    visibility:visible; }
  .bp3-control.bp3-switch input:checked ~ .bp3-control-indicator .bp3-control-indicator-child:last-child{
    line-height:0;
    visibility:hidden; }
  .bp3-dark .bp3-control{
    color:#f5f8fa; }
    .bp3-dark .bp3-control.bp3-disabled{
      color:rgba(167, 182, 194, 0.6); }
    .bp3-dark .bp3-control .bp3-control-indicator{
      background-color:#394b59;
      background-image:-webkit-gradient(linear, left top, left bottom, from(rgba(255, 255, 255, 0.05)), to(rgba(255, 255, 255, 0)));
      background-image:linear-gradient(to bottom, rgba(255, 255, 255, 0.05), rgba(255, 255, 255, 0));
      -webkit-box-shadow:0 0 0 1px rgba(16, 22, 26, 0.4);
              box-shadow:0 0 0 1px rgba(16, 22, 26, 0.4); }
    .bp3-dark .bp3-control:hover .bp3-control-indicator{
      background-color:#30404d; }
    .bp3-dark .bp3-control input:not(:disabled):active ~ .bp3-control-indicator{
      background:#202b33;
      -webkit-box-shadow:0 0 0 1px rgba(16, 22, 26, 0.6), inset 0 1px 2px rgba(16, 22, 26, 0.2);
              box-shadow:0 0 0 1px rgba(16, 22, 26, 0.6), inset 0 1px 2px rgba(16, 22, 26, 0.2); }
    .bp3-dark .bp3-control input:disabled ~ .bp3-control-indicator{
      background:rgba(57, 75, 89, 0.5);
      -webkit-box-shadow:none;
              box-shadow:none;
      cursor:not-allowed; }
    .bp3-dark .bp3-control.bp3-checkbox input:disabled:checked ~ .bp3-control-indicator, .bp3-dark .bp3-control.bp3-checkbox input:disabled:indeterminate ~ .bp3-control-indicator{
      color:rgba(167, 182, 194, 0.6); }
.bp3-file-input{
  cursor:pointer;
  display:inline-block;
  height:30px;
  position:relative; }
  .bp3-file-input input{
    margin:0;
    min-width:200px;
    opacity:0; }
    .bp3-file-input input:disabled + .bp3-file-upload-input,
    .bp3-file-input input.bp3-disabled + .bp3-file-upload-input{
      background:rgba(206, 217, 224, 0.5);
      -webkit-box-shadow:none;
              box-shadow:none;
      color:rgba(92, 112, 128, 0.6);
      cursor:not-allowed;
      resize:none; }
      .bp3-file-input input:disabled + .bp3-file-upload-input::after,
      .bp3-file-input input.bp3-disabled + .bp3-file-upload-input::after{
        background-color:rgba(206, 217, 224, 0.5);
        background-image:none;
        -webkit-box-shadow:none;
                box-shadow:none;
        color:rgba(92, 112, 128, 0.6);
        cursor:not-allowed;
        outline:none; }
        .bp3-file-input input:disabled + .bp3-file-upload-input::after.bp3-active, .bp3-file-input input:disabled + .bp3-file-upload-input::after.bp3-active:hover,
        .bp3-file-input input.bp3-disabled + .bp3-file-upload-input::after.bp3-active,
        .bp3-file-input input.bp3-disabled + .bp3-file-upload-input::after.bp3-active:hover{
          background:rgba(206, 217, 224, 0.7); }
      .bp3-dark .bp3-file-input input:disabled + .bp3-file-upload-input, .bp3-dark
      .bp3-file-input input.bp3-disabled + .bp3-file-upload-input{
        background:rgba(57, 75, 89, 0.5);
        -webkit-box-shadow:none;
                box-shadow:none;
        color:rgba(167, 182, 194, 0.6); }
        .bp3-dark .bp3-file-input input:disabled + .bp3-file-upload-input::after, .bp3-dark
        .bp3-file-input input.bp3-disabled + .bp3-file-upload-input::after{
          background-color:rgba(57, 75, 89, 0.5);
          background-image:none;
          -webkit-box-shadow:none;
                  box-shadow:none;
          color:rgba(167, 182, 194, 0.6); }
          .bp3-dark .bp3-file-input input:disabled + .bp3-file-upload-input::after.bp3-active, .bp3-dark
          .bp3-file-input input.bp3-disabled + .bp3-file-upload-input::after.bp3-active{
            background:rgba(57, 75, 89, 0.7); }
  .bp3-file-input.bp3-file-input-has-selection .bp3-file-upload-input{
    color:#182026; }
  .bp3-dark .bp3-file-input.bp3-file-input-has-selection .bp3-file-upload-input{
    color:#f5f8fa; }
  .bp3-file-input.bp3-fill{
    width:100%; }
  .bp3-file-input.bp3-large,
  .bp3-large .bp3-file-input{
    height:40px; }
  .bp3-file-input .bp3-file-upload-input-custom-text::after{
    content:attr(bp3-button-text); }

.bp3-file-upload-input{
  -webkit-appearance:none;
     -moz-appearance:none;
          appearance:none;
  background:#ffffff;
  border:none;
  border-radius:3px;
  -webkit-box-shadow:0 0 0 0 rgba(19, 124, 189, 0), 0 0 0 0 rgba(19, 124, 189, 0), inset 0 0 0 1px rgba(16, 22, 26, 0.15), inset 0 1px 1px rgba(16, 22, 26, 0.2);
          box-shadow:0 0 0 0 rgba(19, 124, 189, 0), 0 0 0 0 rgba(19, 124, 189, 0), inset 0 0 0 1px rgba(16, 22, 26, 0.15), inset 0 1px 1px rgba(16, 22, 26, 0.2);
  color:#182026;
  font-size:14px;
  font-weight:400;
  height:30px;
  line-height:30px;
  outline:none;
  padding:0 10px;
  -webkit-transition:-webkit-box-shadow 100ms cubic-bezier(0.4, 1, 0.75, 0.9);
  transition:-webkit-box-shadow 100ms cubic-bezier(0.4, 1, 0.75, 0.9);
  transition:box-shadow 100ms cubic-bezier(0.4, 1, 0.75, 0.9);
  transition:box-shadow 100ms cubic-bezier(0.4, 1, 0.75, 0.9), -webkit-box-shadow 100ms cubic-bezier(0.4, 1, 0.75, 0.9);
  vertical-align:middle;
  overflow:hidden;
  text-overflow:ellipsis;
  white-space:nowrap;
  word-wrap:normal;
  color:rgba(92, 112, 128, 0.6);
  left:0;
  padding-right:80px;
  position:absolute;
  right:0;
  top:0;
  -webkit-user-select:none;
     -moz-user-select:none;
      -ms-user-select:none;
          user-select:none; }
  .bp3-file-upload-input::-webkit-input-placeholder{
    color:rgba(92, 112, 128, 0.6);
    opacity:1; }
  .bp3-file-upload-input::-moz-placeholder{
    color:rgba(92, 112, 128, 0.6);
    opacity:1; }
  .bp3-file-upload-input:-ms-input-placeholder{
    color:rgba(92, 112, 128, 0.6);
    opacity:1; }
  .bp3-file-upload-input::-ms-input-placeholder{
    color:rgba(92, 112, 128, 0.6);
    opacity:1; }
  .bp3-file-upload-input::placeholder{
    color:rgba(92, 112, 128, 0.6);
    opacity:1; }
  .bp3-file-upload-input:focus, .bp3-file-upload-input.bp3-active{
    -webkit-box-shadow:0 0 0 1px #137cbd, 0 0 0 3px rgba(19, 124, 189, 0.3), inset 0 1px 1px rgba(16, 22, 26, 0.2);
            box-shadow:0 0 0 1px #137cbd, 0 0 0 3px rgba(19, 124, 189, 0.3), inset 0 1px 1px rgba(16, 22, 26, 0.2); }
  .bp3-file-upload-input[type="search"], .bp3-file-upload-input.bp3-round{
    border-radius:30px;
    -webkit-box-sizing:border-box;
            box-sizing:border-box;
    padding-left:10px; }
  .bp3-file-upload-input[readonly]{
    -webkit-box-shadow:inset 0 0 0 1px rgba(16, 22, 26, 0.15);
            box-shadow:inset 0 0 0 1px rgba(16, 22, 26, 0.15); }
  .bp3-file-upload-input:disabled, .bp3-file-upload-input.bp3-disabled{
    background:rgba(206, 217, 224, 0.5);
    -webkit-box-shadow:none;
            box-shadow:none;
    color:rgba(92, 112, 128, 0.6);
    cursor:not-allowed;
    resize:none; }
  .bp3-file-upload-input::after{
    background-color:#f5f8fa;
    background-image:-webkit-gradient(linear, left top, left bottom, from(rgba(255, 255, 255, 0.8)), to(rgba(255, 255, 255, 0)));
    background-image:linear-gradient(to bottom, rgba(255, 255, 255, 0.8), rgba(255, 255, 255, 0));
    -webkit-box-shadow:inset 0 0 0 1px rgba(16, 22, 26, 0.2), inset 0 -1px 0 rgba(16, 22, 26, 0.1);
            box-shadow:inset 0 0 0 1px rgba(16, 22, 26, 0.2), inset 0 -1px 0 rgba(16, 22, 26, 0.1);
    color:#182026;
    min-height:24px;
    min-width:24px;
    overflow:hidden;
    text-overflow:ellipsis;
    white-space:nowrap;
    word-wrap:normal;
    border-radius:3px;
    content:"Browse";
    line-height:24px;
    margin:3px;
    position:absolute;
    right:0;
    text-align:center;
    top:0;
    width:70px; }
    .bp3-file-upload-input::after:hover{
      background-clip:padding-box;
      background-color:#ebf1f5;
      -webkit-box-shadow:inset 0 0 0 1px rgba(16, 22, 26, 0.2), inset 0 -1px 0 rgba(16, 22, 26, 0.1);
              box-shadow:inset 0 0 0 1px rgba(16, 22, 26, 0.2), inset 0 -1px 0 rgba(16, 22, 26, 0.1); }
    .bp3-file-upload-input::after:active, .bp3-file-upload-input::after.bp3-active{
      background-color:#d8e1e8;
      background-image:none;
      -webkit-box-shadow:inset 0 0 0 1px rgba(16, 22, 26, 0.2), inset 0 1px 2px rgba(16, 22, 26, 0.2);
              box-shadow:inset 0 0 0 1px rgba(16, 22, 26, 0.2), inset 0 1px 2px rgba(16, 22, 26, 0.2); }
    .bp3-file-upload-input::after:disabled, .bp3-file-upload-input::after.bp3-disabled{
      background-color:rgba(206, 217, 224, 0.5);
      background-image:none;
      -webkit-box-shadow:none;
              box-shadow:none;
      color:rgba(92, 112, 128, 0.6);
      cursor:not-allowed;
      outline:none; }
      .bp3-file-upload-input::after:disabled.bp3-active, .bp3-file-upload-input::after:disabled.bp3-active:hover, .bp3-file-upload-input::after.bp3-disabled.bp3-active, .bp3-file-upload-input::after.bp3-disabled.bp3-active:hover{
        background:rgba(206, 217, 224, 0.7); }
  .bp3-file-upload-input:hover::after{
    background-clip:padding-box;
    background-color:#ebf1f5;
    -webkit-box-shadow:inset 0 0 0 1px rgba(16, 22, 26, 0.2), inset 0 -1px 0 rgba(16, 22, 26, 0.1);
            box-shadow:inset 0 0 0 1px rgba(16, 22, 26, 0.2), inset 0 -1px 0 rgba(16, 22, 26, 0.1); }
  .bp3-file-upload-input:active::after{
    background-color:#d8e1e8;
    background-image:none;
    -webkit-box-shadow:inset 0 0 0 1px rgba(16, 22, 26, 0.2), inset 0 1px 2px rgba(16, 22, 26, 0.2);
            box-shadow:inset 0 0 0 1px rgba(16, 22, 26, 0.2), inset 0 1px 2px rgba(16, 22, 26, 0.2); }
  .bp3-large .bp3-file-upload-input{
    font-size:16px;
    height:40px;
    line-height:40px;
    padding-right:95px; }
    .bp3-large .bp3-file-upload-input[type="search"], .bp3-large .bp3-file-upload-input.bp3-round{
      padding:0 15px; }
    .bp3-large .bp3-file-upload-input::after{
      min-height:30px;
      min-width:30px;
      line-height:30px;
      margin:5px;
      width:85px; }
  .bp3-dark .bp3-file-upload-input{
    background:rgba(16, 22, 26, 0.3);
    -webkit-box-shadow:0 0 0 0 rgba(19, 124, 189, 0), 0 0 0 0 rgba(19, 124, 189, 0), 0 0 0 0 rgba(19, 124, 189, 0), inset 0 0 0 1px rgba(16, 22, 26, 0.3), inset 0 1px 1px rgba(16, 22, 26, 0.4);
            box-shadow:0 0 0 0 rgba(19, 124, 189, 0), 0 0 0 0 rgba(19, 124, 189, 0), 0 0 0 0 rgba(19, 124, 189, 0), inset 0 0 0 1px rgba(16, 22, 26, 0.3), inset 0 1px 1px rgba(16, 22, 26, 0.4);
    color:#f5f8fa;
    color:rgba(167, 182, 194, 0.6); }
    .bp3-dark .bp3-file-upload-input::-webkit-input-placeholder{
      color:rgba(167, 182, 194, 0.6); }
    .bp3-dark .bp3-file-upload-input::-moz-placeholder{
      color:rgba(167, 182, 194, 0.6); }
    .bp3-dark .bp3-file-upload-input:-ms-input-placeholder{
      color:rgba(167, 182, 194, 0.6); }
    .bp3-dark .bp3-file-upload-input::-ms-input-placeholder{
      color:rgba(167, 182, 194, 0.6); }
    .bp3-dark .bp3-file-upload-input::placeholder{
      color:rgba(167, 182, 194, 0.6); }
    .bp3-dark .bp3-file-upload-input:focus{
      -webkit-box-shadow:0 0 0 1px #137cbd, 0 0 0 1px #137cbd, 0 0 0 3px rgba(19, 124, 189, 0.3), inset 0 0 0 1px rgba(16, 22, 26, 0.3), inset 0 1px 1px rgba(16, 22, 26, 0.4);
              box-shadow:0 0 0 1px #137cbd, 0 0 0 1px #137cbd, 0 0 0 3px rgba(19, 124, 189, 0.3), inset 0 0 0 1px rgba(16, 22, 26, 0.3), inset 0 1px 1px rgba(16, 22, 26, 0.4); }
    .bp3-dark .bp3-file-upload-input[readonly]{
      -webkit-box-shadow:inset 0 0 0 1px rgba(16, 22, 26, 0.4);
              box-shadow:inset 0 0 0 1px rgba(16, 22, 26, 0.4); }
    .bp3-dark .bp3-file-upload-input:disabled, .bp3-dark .bp3-file-upload-input.bp3-disabled{
      background:rgba(57, 75, 89, 0.5);
      -webkit-box-shadow:none;
              box-shadow:none;
      color:rgba(167, 182, 194, 0.6); }
    .bp3-dark .bp3-file-upload-input::after{
      background-color:#394b59;
      background-image:-webkit-gradient(linear, left top, left bottom, from(rgba(255, 255, 255, 0.05)), to(rgba(255, 255, 255, 0)));
      background-image:linear-gradient(to bottom, rgba(255, 255, 255, 0.05), rgba(255, 255, 255, 0));
      -webkit-box-shadow:0 0 0 1px rgba(16, 22, 26, 0.4);
              box-shadow:0 0 0 1px rgba(16, 22, 26, 0.4);
      color:#f5f8fa; }
      .bp3-dark .bp3-file-upload-input::after:hover, .bp3-dark .bp3-file-upload-input::after:active, .bp3-dark .bp3-file-upload-input::after.bp3-active{
        color:#f5f8fa; }
      .bp3-dark .bp3-file-upload-input::after:hover{
        background-color:#30404d;
        -webkit-box-shadow:0 0 0 1px rgba(16, 22, 26, 0.4);
                box-shadow:0 0 0 1px rgba(16, 22, 26, 0.4); }
      .bp3-dark .bp3-file-upload-input::after:active, .bp3-dark .bp3-file-upload-input::after.bp3-active{
        background-color:#202b33;
        background-image:none;
        -webkit-box-shadow:0 0 0 1px rgba(16, 22, 26, 0.6), inset 0 1px 2px rgba(16, 22, 26, 0.2);
                box-shadow:0 0 0 1px rgba(16, 22, 26, 0.6), inset 0 1px 2px rgba(16, 22, 26, 0.2); }
      .bp3-dark .bp3-file-upload-input::after:disabled, .bp3-dark .bp3-file-upload-input::after.bp3-disabled{
        background-color:rgba(57, 75, 89, 0.5);
        background-image:none;
        -webkit-box-shadow:none;
                box-shadow:none;
        color:rgba(167, 182, 194, 0.6); }
        .bp3-dark .bp3-file-upload-input::after:disabled.bp3-active, .bp3-dark .bp3-file-upload-input::after.bp3-disabled.bp3-active{
          background:rgba(57, 75, 89, 0.7); }
      .bp3-dark .bp3-file-upload-input::after .bp3-button-spinner .bp3-spinner-head{
        background:rgba(16, 22, 26, 0.5);
        stroke:#8a9ba8; }
    .bp3-dark .bp3-file-upload-input:hover::after{
      background-color:#30404d;
      -webkit-box-shadow:0 0 0 1px rgba(16, 22, 26, 0.4);
              box-shadow:0 0 0 1px rgba(16, 22, 26, 0.4); }
    .bp3-dark .bp3-file-upload-input:active::after{
      background-color:#202b33;
      background-image:none;
      -webkit-box-shadow:0 0 0 1px rgba(16, 22, 26, 0.6), inset 0 1px 2px rgba(16, 22, 26, 0.2);
              box-shadow:0 0 0 1px rgba(16, 22, 26, 0.6), inset 0 1px 2px rgba(16, 22, 26, 0.2); }
.bp3-file-upload-input::after{
  -webkit-box-shadow:inset 0 0 0 1px rgba(16, 22, 26, 0.2), inset 0 -1px 0 rgba(16, 22, 26, 0.1);
          box-shadow:inset 0 0 0 1px rgba(16, 22, 26, 0.2), inset 0 -1px 0 rgba(16, 22, 26, 0.1); }
.bp3-form-group{
  display:-webkit-box;
  display:-ms-flexbox;
  display:flex;
  -webkit-box-orient:vertical;
  -webkit-box-direction:normal;
      -ms-flex-direction:column;
          flex-direction:column;
  margin:0 0 15px; }
  .bp3-form-group label.bp3-label{
    margin-bottom:5px; }
  .bp3-form-group .bp3-control{
    margin-top:7px; }
  .bp3-form-group .bp3-form-helper-text{
    color:#5c7080;
    font-size:12px;
    margin-top:5px; }
  .bp3-form-group.bp3-intent-primary .bp3-form-helper-text{
    color:#106ba3; }
  .bp3-form-group.bp3-intent-success .bp3-form-helper-text{
    color:#0d8050; }
  .bp3-form-group.bp3-intent-warning .bp3-form-helper-text{
    color:#bf7326; }
  .bp3-form-group.bp3-intent-danger .bp3-form-helper-text{
    color:#c23030; }
  .bp3-form-group.bp3-inline{
    -webkit-box-align:start;
        -ms-flex-align:start;
            align-items:flex-start;
    -webkit-box-orient:horizontal;
    -webkit-box-direction:normal;
        -ms-flex-direction:row;
            flex-direction:row; }
    .bp3-form-group.bp3-inline.bp3-large label.bp3-label{
      line-height:40px;
      margin:0 10px 0 0; }
    .bp3-form-group.bp3-inline label.bp3-label{
      line-height:30px;
      margin:0 10px 0 0; }
  .bp3-form-group.bp3-disabled .bp3-label,
  .bp3-form-group.bp3-disabled .bp3-text-muted,
  .bp3-form-group.bp3-disabled .bp3-form-helper-text{
    color:rgba(92, 112, 128, 0.6) !important; }
  .bp3-dark .bp3-form-group.bp3-intent-primary .bp3-form-helper-text{
    color:#48aff0; }
  .bp3-dark .bp3-form-group.bp3-intent-success .bp3-form-helper-text{
    color:#3dcc91; }
  .bp3-dark .bp3-form-group.bp3-intent-warning .bp3-form-helper-text{
    color:#ffb366; }
  .bp3-dark .bp3-form-group.bp3-intent-danger .bp3-form-helper-text{
    color:#ff7373; }
  .bp3-dark .bp3-form-group .bp3-form-helper-text{
    color:#a7b6c2; }
  .bp3-dark .bp3-form-group.bp3-disabled .bp3-label,
  .bp3-dark .bp3-form-group.bp3-disabled .bp3-text-muted,
  .bp3-dark .bp3-form-group.bp3-disabled .bp3-form-helper-text{
    color:rgba(167, 182, 194, 0.6) !important; }
.bp3-input-group{
  display:block;
  position:relative; }
  .bp3-input-group .bp3-input{
    position:relative;
    width:100%; }
    .bp3-input-group .bp3-input:not(:first-child){
      padding-left:30px; }
    .bp3-input-group .bp3-input:not(:last-child){
      padding-right:30px; }
  .bp3-input-group .bp3-input-action,
  .bp3-input-group > .bp3-input-left-container,
  .bp3-input-group > .bp3-button,
  .bp3-input-group > .bp3-icon{
    position:absolute;
    top:0; }
    .bp3-input-group .bp3-input-action:first-child,
    .bp3-input-group > .bp3-input-left-container:first-child,
    .bp3-input-group > .bp3-button:first-child,
    .bp3-input-group > .bp3-icon:first-child{
      left:0; }
    .bp3-input-group .bp3-input-action:last-child,
    .bp3-input-group > .bp3-input-left-container:last-child,
    .bp3-input-group > .bp3-button:last-child,
    .bp3-input-group > .bp3-icon:last-child{
      right:0; }
  .bp3-input-group .bp3-button{
    min-height:24px;
    min-width:24px;
    margin:3px;
    padding:0 7px; }
    .bp3-input-group .bp3-button:empty{
      padding:0; }
  .bp3-input-group > .bp3-input-left-container,
  .bp3-input-group > .bp3-icon{
    z-index:1; }
  .bp3-input-group > .bp3-input-left-container > .bp3-icon,
  .bp3-input-group > .bp3-icon{
    color:#5c7080; }
    .bp3-input-group > .bp3-input-left-container > .bp3-icon:empty,
    .bp3-input-group > .bp3-icon:empty{
      font-family:"Icons16", sans-serif;
      font-size:16px;
      font-style:normal;
      font-weight:400;
      line-height:1;
      -moz-osx-font-smoothing:grayscale;
      -webkit-font-smoothing:antialiased; }
  .bp3-input-group > .bp3-input-left-container > .bp3-icon,
  .bp3-input-group > .bp3-icon,
  .bp3-input-group .bp3-input-action > .bp3-spinner{
    margin:7px; }
  .bp3-input-group .bp3-tag{
    margin:5px; }
  .bp3-input-group .bp3-input:not(:focus) + .bp3-button.bp3-minimal:not(:hover):not(:focus),
  .bp3-input-group .bp3-input:not(:focus) + .bp3-input-action .bp3-button.bp3-minimal:not(:hover):not(:focus){
    color:#5c7080; }
    .bp3-dark .bp3-input-group .bp3-input:not(:focus) + .bp3-button.bp3-minimal:not(:hover):not(:focus), .bp3-dark
    .bp3-input-group .bp3-input:not(:focus) + .bp3-input-action .bp3-button.bp3-minimal:not(:hover):not(:focus){
      color:#a7b6c2; }
    .bp3-input-group .bp3-input:not(:focus) + .bp3-button.bp3-minimal:not(:hover):not(:focus) .bp3-icon, .bp3-input-group .bp3-input:not(:focus) + .bp3-button.bp3-minimal:not(:hover):not(:focus) .bp3-icon-standard, .bp3-input-group .bp3-input:not(:focus) + .bp3-button.bp3-minimal:not(:hover):not(:focus) .bp3-icon-large,
    .bp3-input-group .bp3-input:not(:focus) + .bp3-input-action .bp3-button.bp3-minimal:not(:hover):not(:focus) .bp3-icon,
    .bp3-input-group .bp3-input:not(:focus) + .bp3-input-action .bp3-button.bp3-minimal:not(:hover):not(:focus) .bp3-icon-standard,
    .bp3-input-group .bp3-input:not(:focus) + .bp3-input-action .bp3-button.bp3-minimal:not(:hover):not(:focus) .bp3-icon-large{
      color:#5c7080; }
  .bp3-input-group .bp3-input:not(:focus) + .bp3-button.bp3-minimal:disabled,
  .bp3-input-group .bp3-input:not(:focus) + .bp3-input-action .bp3-button.bp3-minimal:disabled{
    color:rgba(92, 112, 128, 0.6) !important; }
    .bp3-input-group .bp3-input:not(:focus) + .bp3-button.bp3-minimal:disabled .bp3-icon, .bp3-input-group .bp3-input:not(:focus) + .bp3-button.bp3-minimal:disabled .bp3-icon-standard, .bp3-input-group .bp3-input:not(:focus) + .bp3-button.bp3-minimal:disabled .bp3-icon-large,
    .bp3-input-group .bp3-input:not(:focus) + .bp3-input-action .bp3-button.bp3-minimal:disabled .bp3-icon,
    .bp3-input-group .bp3-input:not(:focus) + .bp3-input-action .bp3-button.bp3-minimal:disabled .bp3-icon-standard,
    .bp3-input-group .bp3-input:not(:focus) + .bp3-input-action .bp3-button.bp3-minimal:disabled .bp3-icon-large{
      color:rgba(92, 112, 128, 0.6) !important; }
  .bp3-input-group.bp3-disabled{
    cursor:not-allowed; }
    .bp3-input-group.bp3-disabled .bp3-icon{
      color:rgba(92, 112, 128, 0.6); }
  .bp3-input-group.bp3-large .bp3-button{
    min-height:30px;
    min-width:30px;
    margin:5px; }
  .bp3-input-group.bp3-large > .bp3-input-left-container > .bp3-icon,
  .bp3-input-group.bp3-large > .bp3-icon,
  .bp3-input-group.bp3-large .bp3-input-action > .bp3-spinner{
    margin:12px; }
  .bp3-input-group.bp3-large .bp3-input{
    font-size:16px;
    height:40px;
    line-height:40px; }
    .bp3-input-group.bp3-large .bp3-input[type="search"], .bp3-input-group.bp3-large .bp3-input.bp3-round{
      padding:0 15px; }
    .bp3-input-group.bp3-large .bp3-input:not(:first-child){
      padding-left:40px; }
    .bp3-input-group.bp3-large .bp3-input:not(:last-child){
      padding-right:40px; }
  .bp3-input-group.bp3-small .bp3-button{
    min-height:20px;
    min-width:20px;
    margin:2px; }
  .bp3-input-group.bp3-small .bp3-tag{
    min-height:20px;
    min-width:20px;
    margin:2px; }
  .bp3-input-group.bp3-small > .bp3-input-left-container > .bp3-icon,
  .bp3-input-group.bp3-small > .bp3-icon,
  .bp3-input-group.bp3-small .bp3-input-action > .bp3-spinner{
    margin:4px; }
  .bp3-input-group.bp3-small .bp3-input{
    font-size:12px;
    height:24px;
    line-height:24px;
    padding-left:8px;
    padding-right:8px; }
    .bp3-input-group.bp3-small .bp3-input[type="search"], .bp3-input-group.bp3-small .bp3-input.bp3-round{
      padding:0 12px; }
    .bp3-input-group.bp3-small .bp3-input:not(:first-child){
      padding-left:24px; }
    .bp3-input-group.bp3-small .bp3-input:not(:last-child){
      padding-right:24px; }
  .bp3-input-group.bp3-fill{
    -webkit-box-flex:1;
        -ms-flex:1 1 auto;
            flex:1 1 auto;
    width:100%; }
  .bp3-input-group.bp3-round .bp3-button,
  .bp3-input-group.bp3-round .bp3-input,
  .bp3-input-group.bp3-round .bp3-tag{
    border-radius:30px; }
  .bp3-dark .bp3-input-group .bp3-icon{
    color:#a7b6c2; }
  .bp3-dark .bp3-input-group.bp3-disabled .bp3-icon{
    color:rgba(167, 182, 194, 0.6); }
  .bp3-input-group.bp3-intent-primary .bp3-input{
    -webkit-box-shadow:0 0 0 0 rgba(19, 124, 189, 0), 0 0 0 0 rgba(19, 124, 189, 0), inset 0 0 0 1px #137cbd, inset 0 0 0 1px rgba(16, 22, 26, 0.15), inset 0 1px 1px rgba(16, 22, 26, 0.2);
            box-shadow:0 0 0 0 rgba(19, 124, 189, 0), 0 0 0 0 rgba(19, 124, 189, 0), inset 0 0 0 1px #137cbd, inset 0 0 0 1px rgba(16, 22, 26, 0.15), inset 0 1px 1px rgba(16, 22, 26, 0.2); }
    .bp3-input-group.bp3-intent-primary .bp3-input:focus{
      -webkit-box-shadow:0 0 0 1px #137cbd, 0 0 0 3px rgba(19, 124, 189, 0.3), inset 0 1px 1px rgba(16, 22, 26, 0.2);
              box-shadow:0 0 0 1px #137cbd, 0 0 0 3px rgba(19, 124, 189, 0.3), inset 0 1px 1px rgba(16, 22, 26, 0.2); }
    .bp3-input-group.bp3-intent-primary .bp3-input[readonly]{
      -webkit-box-shadow:inset 0 0 0 1px #137cbd;
              box-shadow:inset 0 0 0 1px #137cbd; }
    .bp3-input-group.bp3-intent-primary .bp3-input:disabled, .bp3-input-group.bp3-intent-primary .bp3-input.bp3-disabled{
      -webkit-box-shadow:none;
              box-shadow:none; }
  .bp3-input-group.bp3-intent-primary > .bp3-icon{
    color:#106ba3; }
    .bp3-dark .bp3-input-group.bp3-intent-primary > .bp3-icon{
      color:#48aff0; }
  .bp3-input-group.bp3-intent-success .bp3-input{
    -webkit-box-shadow:0 0 0 0 rgba(15, 153, 96, 0), 0 0 0 0 rgba(15, 153, 96, 0), inset 0 0 0 1px #0f9960, inset 0 0 0 1px rgba(16, 22, 26, 0.15), inset 0 1px 1px rgba(16, 22, 26, 0.2);
            box-shadow:0 0 0 0 rgba(15, 153, 96, 0), 0 0 0 0 rgba(15, 153, 96, 0), inset 0 0 0 1px #0f9960, inset 0 0 0 1px rgba(16, 22, 26, 0.15), inset 0 1px 1px rgba(16, 22, 26, 0.2); }
    .bp3-input-group.bp3-intent-success .bp3-input:focus{
      -webkit-box-shadow:0 0 0 1px #0f9960, 0 0 0 3px rgba(15, 153, 96, 0.3), inset 0 1px 1px rgba(16, 22, 26, 0.2);
              box-shadow:0 0 0 1px #0f9960, 0 0 0 3px rgba(15, 153, 96, 0.3), inset 0 1px 1px rgba(16, 22, 26, 0.2); }
    .bp3-input-group.bp3-intent-success .bp3-input[readonly]{
      -webkit-box-shadow:inset 0 0 0 1px #0f9960;
              box-shadow:inset 0 0 0 1px #0f9960; }
    .bp3-input-group.bp3-intent-success .bp3-input:disabled, .bp3-input-group.bp3-intent-success .bp3-input.bp3-disabled{
      -webkit-box-shadow:none;
              box-shadow:none; }
  .bp3-input-group.bp3-intent-success > .bp3-icon{
    color:#0d8050; }
    .bp3-dark .bp3-input-group.bp3-intent-success > .bp3-icon{
      color:#3dcc91; }
  .bp3-input-group.bp3-intent-warning .bp3-input{
    -webkit-box-shadow:0 0 0 0 rgba(217, 130, 43, 0), 0 0 0 0 rgba(217, 130, 43, 0), inset 0 0 0 1px #d9822b, inset 0 0 0 1px rgba(16, 22, 26, 0.15), inset 0 1px 1px rgba(16, 22, 26, 0.2);
            box-shadow:0 0 0 0 rgba(217, 130, 43, 0), 0 0 0 0 rgba(217, 130, 43, 0), inset 0 0 0 1px #d9822b, inset 0 0 0 1px rgba(16, 22, 26, 0.15), inset 0 1px 1px rgba(16, 22, 26, 0.2); }
    .bp3-input-group.bp3-intent-warning .bp3-input:focus{
      -webkit-box-shadow:0 0 0 1px #d9822b, 0 0 0 3px rgba(217, 130, 43, 0.3), inset 0 1px 1px rgba(16, 22, 26, 0.2);
              box-shadow:0 0 0 1px #d9822b, 0 0 0 3px rgba(217, 130, 43, 0.3), inset 0 1px 1px rgba(16, 22, 26, 0.2); }
    .bp3-input-group.bp3-intent-warning .bp3-input[readonly]{
      -webkit-box-shadow:inset 0 0 0 1px #d9822b;
              box-shadow:inset 0 0 0 1px #d9822b; }
    .bp3-input-group.bp3-intent-warning .bp3-input:disabled, .bp3-input-group.bp3-intent-warning .bp3-input.bp3-disabled{
      -webkit-box-shadow:none;
              box-shadow:none; }
  .bp3-input-group.bp3-intent-warning > .bp3-icon{
    color:#bf7326; }
    .bp3-dark .bp3-input-group.bp3-intent-warning > .bp3-icon{
      color:#ffb366; }
  .bp3-input-group.bp3-intent-danger .bp3-input{
    -webkit-box-shadow:0 0 0 0 rgba(219, 55, 55, 0), 0 0 0 0 rgba(219, 55, 55, 0), inset 0 0 0 1px #db3737, inset 0 0 0 1px rgba(16, 22, 26, 0.15), inset 0 1px 1px rgba(16, 22, 26, 0.2);
            box-shadow:0 0 0 0 rgba(219, 55, 55, 0), 0 0 0 0 rgba(219, 55, 55, 0), inset 0 0 0 1px #db3737, inset 0 0 0 1px rgba(16, 22, 26, 0.15), inset 0 1px 1px rgba(16, 22, 26, 0.2); }
    .bp3-input-group.bp3-intent-danger .bp3-input:focus{
      -webkit-box-shadow:0 0 0 1px #db3737, 0 0 0 3px rgba(219, 55, 55, 0.3), inset 0 1px 1px rgba(16, 22, 26, 0.2);
              box-shadow:0 0 0 1px #db3737, 0 0 0 3px rgba(219, 55, 55, 0.3), inset 0 1px 1px rgba(16, 22, 26, 0.2); }
    .bp3-input-group.bp3-intent-danger .bp3-input[readonly]{
      -webkit-box-shadow:inset 0 0 0 1px #db3737;
              box-shadow:inset 0 0 0 1px #db3737; }
    .bp3-input-group.bp3-intent-danger .bp3-input:disabled, .bp3-input-group.bp3-intent-danger .bp3-input.bp3-disabled{
      -webkit-box-shadow:none;
              box-shadow:none; }
  .bp3-input-group.bp3-intent-danger > .bp3-icon{
    color:#c23030; }
    .bp3-dark .bp3-input-group.bp3-intent-danger > .bp3-icon{
      color:#ff7373; }
.bp3-input{
  -webkit-appearance:none;
     -moz-appearance:none;
          appearance:none;
  background:#ffffff;
  border:none;
  border-radius:3px;
  -webkit-box-shadow:0 0 0 0 rgba(19, 124, 189, 0), 0 0 0 0 rgba(19, 124, 189, 0), inset 0 0 0 1px rgba(16, 22, 26, 0.15), inset 0 1px 1px rgba(16, 22, 26, 0.2);
          box-shadow:0 0 0 0 rgba(19, 124, 189, 0), 0 0 0 0 rgba(19, 124, 189, 0), inset 0 0 0 1px rgba(16, 22, 26, 0.15), inset 0 1px 1px rgba(16, 22, 26, 0.2);
  color:#182026;
  font-size:14px;
  font-weight:400;
  height:30px;
  line-height:30px;
  outline:none;
  padding:0 10px;
  -webkit-transition:-webkit-box-shadow 100ms cubic-bezier(0.4, 1, 0.75, 0.9);
  transition:-webkit-box-shadow 100ms cubic-bezier(0.4, 1, 0.75, 0.9);
  transition:box-shadow 100ms cubic-bezier(0.4, 1, 0.75, 0.9);
  transition:box-shadow 100ms cubic-bezier(0.4, 1, 0.75, 0.9), -webkit-box-shadow 100ms cubic-bezier(0.4, 1, 0.75, 0.9);
  vertical-align:middle; }
  .bp3-input::-webkit-input-placeholder{
    color:rgba(92, 112, 128, 0.6);
    opacity:1; }
  .bp3-input::-moz-placeholder{
    color:rgba(92, 112, 128, 0.6);
    opacity:1; }
  .bp3-input:-ms-input-placeholder{
    color:rgba(92, 112, 128, 0.6);
    opacity:1; }
  .bp3-input::-ms-input-placeholder{
    color:rgba(92, 112, 128, 0.6);
    opacity:1; }
  .bp3-input::placeholder{
    color:rgba(92, 112, 128, 0.6);
    opacity:1; }
  .bp3-input:focus, .bp3-input.bp3-active{
    -webkit-box-shadow:0 0 0 1px #137cbd, 0 0 0 3px rgba(19, 124, 189, 0.3), inset 0 1px 1px rgba(16, 22, 26, 0.2);
            box-shadow:0 0 0 1px #137cbd, 0 0 0 3px rgba(19, 124, 189, 0.3), inset 0 1px 1px rgba(16, 22, 26, 0.2); }
  .bp3-input[type="search"], .bp3-input.bp3-round{
    border-radius:30px;
    -webkit-box-sizing:border-box;
            box-sizing:border-box;
    padding-left:10px; }
  .bp3-input[readonly]{
    -webkit-box-shadow:inset 0 0 0 1px rgba(16, 22, 26, 0.15);
            box-shadow:inset 0 0 0 1px rgba(16, 22, 26, 0.15); }
  .bp3-input:disabled, .bp3-input.bp3-disabled{
    background:rgba(206, 217, 224, 0.5);
    -webkit-box-shadow:none;
            box-shadow:none;
    color:rgba(92, 112, 128, 0.6);
    cursor:not-allowed;
    resize:none; }
  .bp3-input.bp3-large{
    font-size:16px;
    height:40px;
    line-height:40px; }
    .bp3-input.bp3-large[type="search"], .bp3-input.bp3-large.bp3-round{
      padding:0 15px; }
  .bp3-input.bp3-small{
    font-size:12px;
    height:24px;
    line-height:24px;
    padding-left:8px;
    padding-right:8px; }
    .bp3-input.bp3-small[type="search"], .bp3-input.bp3-small.bp3-round{
      padding:0 12px; }
  .bp3-input.bp3-fill{
    -webkit-box-flex:1;
        -ms-flex:1 1 auto;
            flex:1 1 auto;
    width:100%; }
  .bp3-dark .bp3-input{
    background:rgba(16, 22, 26, 0.3);
    -webkit-box-shadow:0 0 0 0 rgba(19, 124, 189, 0), 0 0 0 0 rgba(19, 124, 189, 0), 0 0 0 0 rgba(19, 124, 189, 0), inset 0 0 0 1px rgba(16, 22, 26, 0.3), inset 0 1px 1px rgba(16, 22, 26, 0.4);
            box-shadow:0 0 0 0 rgba(19, 124, 189, 0), 0 0 0 0 rgba(19, 124, 189, 0), 0 0 0 0 rgba(19, 124, 189, 0), inset 0 0 0 1px rgba(16, 22, 26, 0.3), inset 0 1px 1px rgba(16, 22, 26, 0.4);
    color:#f5f8fa; }
    .bp3-dark .bp3-input::-webkit-input-placeholder{
      color:rgba(167, 182, 194, 0.6); }
    .bp3-dark .bp3-input::-moz-placeholder{
      color:rgba(167, 182, 194, 0.6); }
    .bp3-dark .bp3-input:-ms-input-placeholder{
      color:rgba(167, 182, 194, 0.6); }
    .bp3-dark .bp3-input::-ms-input-placeholder{
      color:rgba(167, 182, 194, 0.6); }
    .bp3-dark .bp3-input::placeholder{
      color:rgba(167, 182, 194, 0.6); }
    .bp3-dark .bp3-input:focus{
      -webkit-box-shadow:0 0 0 1px #137cbd, 0 0 0 1px #137cbd, 0 0 0 3px rgba(19, 124, 189, 0.3), inset 0 0 0 1px rgba(16, 22, 26, 0.3), inset 0 1px 1px rgba(16, 22, 26, 0.4);
              box-shadow:0 0 0 1px #137cbd, 0 0 0 1px #137cbd, 0 0 0 3px rgba(19, 124, 189, 0.3), inset 0 0 0 1px rgba(16, 22, 26, 0.3), inset 0 1px 1px rgba(16, 22, 26, 0.4); }
    .bp3-dark .bp3-input[readonly]{
      -webkit-box-shadow:inset 0 0 0 1px rgba(16, 22, 26, 0.4);
              box-shadow:inset 0 0 0 1px rgba(16, 22, 26, 0.4); }
    .bp3-dark .bp3-input:disabled, .bp3-dark .bp3-input.bp3-disabled{
      background:rgba(57, 75, 89, 0.5);
      -webkit-box-shadow:none;
              box-shadow:none;
      color:rgba(167, 182, 194, 0.6); }
  .bp3-input.bp3-intent-primary{
    -webkit-box-shadow:0 0 0 0 rgba(19, 124, 189, 0), 0 0 0 0 rgba(19, 124, 189, 0), inset 0 0 0 1px #137cbd, inset 0 0 0 1px rgba(16, 22, 26, 0.15), inset 0 1px 1px rgba(16, 22, 26, 0.2);
            box-shadow:0 0 0 0 rgba(19, 124, 189, 0), 0 0 0 0 rgba(19, 124, 189, 0), inset 0 0 0 1px #137cbd, inset 0 0 0 1px rgba(16, 22, 26, 0.15), inset 0 1px 1px rgba(16, 22, 26, 0.2); }
    .bp3-input.bp3-intent-primary:focus{
      -webkit-box-shadow:0 0 0 1px #137cbd, 0 0 0 3px rgba(19, 124, 189, 0.3), inset 0 1px 1px rgba(16, 22, 26, 0.2);
              box-shadow:0 0 0 1px #137cbd, 0 0 0 3px rgba(19, 124, 189, 0.3), inset 0 1px 1px rgba(16, 22, 26, 0.2); }
    .bp3-input.bp3-intent-primary[readonly]{
      -webkit-box-shadow:inset 0 0 0 1px #137cbd;
              box-shadow:inset 0 0 0 1px #137cbd; }
    .bp3-input.bp3-intent-primary:disabled, .bp3-input.bp3-intent-primary.bp3-disabled{
      -webkit-box-shadow:none;
              box-shadow:none; }
    .bp3-dark .bp3-input.bp3-intent-primary{
      -webkit-box-shadow:0 0 0 0 rgba(19, 124, 189, 0), 0 0 0 0 rgba(19, 124, 189, 0), 0 0 0 0 rgba(19, 124, 189, 0), inset 0 0 0 1px #137cbd, inset 0 0 0 1px rgba(16, 22, 26, 0.3), inset 0 1px 1px rgba(16, 22, 26, 0.4);
              box-shadow:0 0 0 0 rgba(19, 124, 189, 0), 0 0 0 0 rgba(19, 124, 189, 0), 0 0 0 0 rgba(19, 124, 189, 0), inset 0 0 0 1px #137cbd, inset 0 0 0 1px rgba(16, 22, 26, 0.3), inset 0 1px 1px rgba(16, 22, 26, 0.4); }
      .bp3-dark .bp3-input.bp3-intent-primary:focus{
        -webkit-box-shadow:0 0 0 1px #137cbd, 0 0 0 1px #137cbd, 0 0 0 3px rgba(19, 124, 189, 0.3), inset 0 0 0 1px rgba(16, 22, 26, 0.3), inset 0 1px 1px rgba(16, 22, 26, 0.4);
                box-shadow:0 0 0 1px #137cbd, 0 0 0 1px #137cbd, 0 0 0 3px rgba(19, 124, 189, 0.3), inset 0 0 0 1px rgba(16, 22, 26, 0.3), inset 0 1px 1px rgba(16, 22, 26, 0.4); }
      .bp3-dark .bp3-input.bp3-intent-primary[readonly]{
        -webkit-box-shadow:inset 0 0 0 1px #137cbd;
                box-shadow:inset 0 0 0 1px #137cbd; }
      .bp3-dark .bp3-input.bp3-intent-primary:disabled, .bp3-dark .bp3-input.bp3-intent-primary.bp3-disabled{
        -webkit-box-shadow:none;
                box-shadow:none; }
  .bp3-input.bp3-intent-success{
    -webkit-box-shadow:0 0 0 0 rgba(15, 153, 96, 0), 0 0 0 0 rgba(15, 153, 96, 0), inset 0 0 0 1px #0f9960, inset 0 0 0 1px rgba(16, 22, 26, 0.15), inset 0 1px 1px rgba(16, 22, 26, 0.2);
            box-shadow:0 0 0 0 rgba(15, 153, 96, 0), 0 0 0 0 rgba(15, 153, 96, 0), inset 0 0 0 1px #0f9960, inset 0 0 0 1px rgba(16, 22, 26, 0.15), inset 0 1px 1px rgba(16, 22, 26, 0.2); }
    .bp3-input.bp3-intent-success:focus{
      -webkit-box-shadow:0 0 0 1px #0f9960, 0 0 0 3px rgba(15, 153, 96, 0.3), inset 0 1px 1px rgba(16, 22, 26, 0.2);
              box-shadow:0 0 0 1px #0f9960, 0 0 0 3px rgba(15, 153, 96, 0.3), inset 0 1px 1px rgba(16, 22, 26, 0.2); }
    .bp3-input.bp3-intent-success[readonly]{
      -webkit-box-shadow:inset 0 0 0 1px #0f9960;
              box-shadow:inset 0 0 0 1px #0f9960; }
    .bp3-input.bp3-intent-success:disabled, .bp3-input.bp3-intent-success.bp3-disabled{
      -webkit-box-shadow:none;
              box-shadow:none; }
    .bp3-dark .bp3-input.bp3-intent-success{
      -webkit-box-shadow:0 0 0 0 rgba(15, 153, 96, 0), 0 0 0 0 rgba(15, 153, 96, 0), 0 0 0 0 rgba(15, 153, 96, 0), inset 0 0 0 1px #0f9960, inset 0 0 0 1px rgba(16, 22, 26, 0.3), inset 0 1px 1px rgba(16, 22, 26, 0.4);
              box-shadow:0 0 0 0 rgba(15, 153, 96, 0), 0 0 0 0 rgba(15, 153, 96, 0), 0 0 0 0 rgba(15, 153, 96, 0), inset 0 0 0 1px #0f9960, inset 0 0 0 1px rgba(16, 22, 26, 0.3), inset 0 1px 1px rgba(16, 22, 26, 0.4); }
      .bp3-dark .bp3-input.bp3-intent-success:focus{
        -webkit-box-shadow:0 0 0 1px #0f9960, 0 0 0 1px #0f9960, 0 0 0 3px rgba(15, 153, 96, 0.3), inset 0 0 0 1px rgba(16, 22, 26, 0.3), inset 0 1px 1px rgba(16, 22, 26, 0.4);
                box-shadow:0 0 0 1px #0f9960, 0 0 0 1px #0f9960, 0 0 0 3px rgba(15, 153, 96, 0.3), inset 0 0 0 1px rgba(16, 22, 26, 0.3), inset 0 1px 1px rgba(16, 22, 26, 0.4); }
      .bp3-dark .bp3-input.bp3-intent-success[readonly]{
        -webkit-box-shadow:inset 0 0 0 1px #0f9960;
                box-shadow:inset 0 0 0 1px #0f9960; }
      .bp3-dark .bp3-input.bp3-intent-success:disabled, .bp3-dark .bp3-input.bp3-intent-success.bp3-disabled{
        -webkit-box-shadow:none;
                box-shadow:none; }
  .bp3-input.bp3-intent-warning{
    -webkit-box-shadow:0 0 0 0 rgba(217, 130, 43, 0), 0 0 0 0 rgba(217, 130, 43, 0), inset 0 0 0 1px #d9822b, inset 0 0 0 1px rgba(16, 22, 26, 0.15), inset 0 1px 1px rgba(16, 22, 26, 0.2);
            box-shadow:0 0 0 0 rgba(217, 130, 43, 0), 0 0 0 0 rgba(217, 130, 43, 0), inset 0 0 0 1px #d9822b, inset 0 0 0 1px rgba(16, 22, 26, 0.15), inset 0 1px 1px rgba(16, 22, 26, 0.2); }
    .bp3-input.bp3-intent-warning:focus{
      -webkit-box-shadow:0 0 0 1px #d9822b, 0 0 0 3px rgba(217, 130, 43, 0.3), inset 0 1px 1px rgba(16, 22, 26, 0.2);
              box-shadow:0 0 0 1px #d9822b, 0 0 0 3px rgba(217, 130, 43, 0.3), inset 0 1px 1px rgba(16, 22, 26, 0.2); }
    .bp3-input.bp3-intent-warning[readonly]{
      -webkit-box-shadow:inset 0 0 0 1px #d9822b;
              box-shadow:inset 0 0 0 1px #d9822b; }
    .bp3-input.bp3-intent-warning:disabled, .bp3-input.bp3-intent-warning.bp3-disabled{
      -webkit-box-shadow:none;
              box-shadow:none; }
    .bp3-dark .bp3-input.bp3-intent-warning{
      -webkit-box-shadow:0 0 0 0 rgba(217, 130, 43, 0), 0 0 0 0 rgba(217, 130, 43, 0), 0 0 0 0 rgba(217, 130, 43, 0), inset 0 0 0 1px #d9822b, inset 0 0 0 1px rgba(16, 22, 26, 0.3), inset 0 1px 1px rgba(16, 22, 26, 0.4);
              box-shadow:0 0 0 0 rgba(217, 130, 43, 0), 0 0 0 0 rgba(217, 130, 43, 0), 0 0 0 0 rgba(217, 130, 43, 0), inset 0 0 0 1px #d9822b, inset 0 0 0 1px rgba(16, 22, 26, 0.3), inset 0 1px 1px rgba(16, 22, 26, 0.4); }
      .bp3-dark .bp3-input.bp3-intent-warning:focus{
        -webkit-box-shadow:0 0 0 1px #d9822b, 0 0 0 1px #d9822b, 0 0 0 3px rgba(217, 130, 43, 0.3), inset 0 0 0 1px rgba(16, 22, 26, 0.3), inset 0 1px 1px rgba(16, 22, 26, 0.4);
                box-shadow:0 0 0 1px #d9822b, 0 0 0 1px #d9822b, 0 0 0 3px rgba(217, 130, 43, 0.3), inset 0 0 0 1px rgba(16, 22, 26, 0.3), inset 0 1px 1px rgba(16, 22, 26, 0.4); }
      .bp3-dark .bp3-input.bp3-intent-warning[readonly]{
        -webkit-box-shadow:inset 0 0 0 1px #d9822b;
                box-shadow:inset 0 0 0 1px #d9822b; }
      .bp3-dark .bp3-input.bp3-intent-warning:disabled, .bp3-dark .bp3-input.bp3-intent-warning.bp3-disabled{
        -webkit-box-shadow:none;
                box-shadow:none; }
  .bp3-input.bp3-intent-danger{
    -webkit-box-shadow:0 0 0 0 rgba(219, 55, 55, 0), 0 0 0 0 rgba(219, 55, 55, 0), inset 0 0 0 1px #db3737, inset 0 0 0 1px rgba(16, 22, 26, 0.15), inset 0 1px 1px rgba(16, 22, 26, 0.2);
            box-shadow:0 0 0 0 rgba(219, 55, 55, 0), 0 0 0 0 rgba(219, 55, 55, 0), inset 0 0 0 1px #db3737, inset 0 0 0 1px rgba(16, 22, 26, 0.15), inset 0 1px 1px rgba(16, 22, 26, 0.2); }
    .bp3-input.bp3-intent-danger:focus{
      -webkit-box-shadow:0 0 0 1px #db3737, 0 0 0 3px rgba(219, 55, 55, 0.3), inset 0 1px 1px rgba(16, 22, 26, 0.2);
              box-shadow:0 0 0 1px #db3737, 0 0 0 3px rgba(219, 55, 55, 0.3), inset 0 1px 1px rgba(16, 22, 26, 0.2); }
    .bp3-input.bp3-intent-danger[readonly]{
      -webkit-box-shadow:inset 0 0 0 1px #db3737;
              box-shadow:inset 0 0 0 1px #db3737; }
    .bp3-input.bp3-intent-danger:disabled, .bp3-input.bp3-intent-danger.bp3-disabled{
      -webkit-box-shadow:none;
              box-shadow:none; }
    .bp3-dark .bp3-input.bp3-intent-danger{
      -webkit-box-shadow:0 0 0 0 rgba(219, 55, 55, 0), 0 0 0 0 rgba(219, 55, 55, 0), 0 0 0 0 rgba(219, 55, 55, 0), inset 0 0 0 1px #db3737, inset 0 0 0 1px rgba(16, 22, 26, 0.3), inset 0 1px 1px rgba(16, 22, 26, 0.4);
              box-shadow:0 0 0 0 rgba(219, 55, 55, 0), 0 0 0 0 rgba(219, 55, 55, 0), 0 0 0 0 rgba(219, 55, 55, 0), inset 0 0 0 1px #db3737, inset 0 0 0 1px rgba(16, 22, 26, 0.3), inset 0 1px 1px rgba(16, 22, 26, 0.4); }
      .bp3-dark .bp3-input.bp3-intent-danger:focus{
        -webkit-box-shadow:0 0 0 1px #db3737, 0 0 0 1px #db3737, 0 0 0 3px rgba(219, 55, 55, 0.3), inset 0 0 0 1px rgba(16, 22, 26, 0.3), inset 0 1px 1px rgba(16, 22, 26, 0.4);
                box-shadow:0 0 0 1px #db3737, 0 0 0 1px #db3737, 0 0 0 3px rgba(219, 55, 55, 0.3), inset 0 0 0 1px rgba(16, 22, 26, 0.3), inset 0 1px 1px rgba(16, 22, 26, 0.4); }
      .bp3-dark .bp3-input.bp3-intent-danger[readonly]{
        -webkit-box-shadow:inset 0 0 0 1px #db3737;
                box-shadow:inset 0 0 0 1px #db3737; }
      .bp3-dark .bp3-input.bp3-intent-danger:disabled, .bp3-dark .bp3-input.bp3-intent-danger.bp3-disabled{
        -webkit-box-shadow:none;
                box-shadow:none; }
  .bp3-input::-ms-clear{
    display:none; }
textarea.bp3-input{
  max-width:100%;
  padding:10px; }
  textarea.bp3-input, textarea.bp3-input.bp3-large, textarea.bp3-input.bp3-small{
    height:auto;
    line-height:inherit; }
  textarea.bp3-input.bp3-small{
    padding:8px; }
  .bp3-dark textarea.bp3-input{
    background:rgba(16, 22, 26, 0.3);
    -webkit-box-shadow:0 0 0 0 rgba(19, 124, 189, 0), 0 0 0 0 rgba(19, 124, 189, 0), 0 0 0 0 rgba(19, 124, 189, 0), inset 0 0 0 1px rgba(16, 22, 26, 0.3), inset 0 1px 1px rgba(16, 22, 26, 0.4);
            box-shadow:0 0 0 0 rgba(19, 124, 189, 0), 0 0 0 0 rgba(19, 124, 189, 0), 0 0 0 0 rgba(19, 124, 189, 0), inset 0 0 0 1px rgba(16, 22, 26, 0.3), inset 0 1px 1px rgba(16, 22, 26, 0.4);
    color:#f5f8fa; }
    .bp3-dark textarea.bp3-input::-webkit-input-placeholder{
      color:rgba(167, 182, 194, 0.6); }
    .bp3-dark textarea.bp3-input::-moz-placeholder{
      color:rgba(167, 182, 194, 0.6); }
    .bp3-dark textarea.bp3-input:-ms-input-placeholder{
      color:rgba(167, 182, 194, 0.6); }
    .bp3-dark textarea.bp3-input::-ms-input-placeholder{
      color:rgba(167, 182, 194, 0.6); }
    .bp3-dark textarea.bp3-input::placeholder{
      color:rgba(167, 182, 194, 0.6); }
    .bp3-dark textarea.bp3-input:focus{
      -webkit-box-shadow:0 0 0 1px #137cbd, 0 0 0 1px #137cbd, 0 0 0 3px rgba(19, 124, 189, 0.3), inset 0 0 0 1px rgba(16, 22, 26, 0.3), inset 0 1px 1px rgba(16, 22, 26, 0.4);
              box-shadow:0 0 0 1px #137cbd, 0 0 0 1px #137cbd, 0 0 0 3px rgba(19, 124, 189, 0.3), inset 0 0 0 1px rgba(16, 22, 26, 0.3), inset 0 1px 1px rgba(16, 22, 26, 0.4); }
    .bp3-dark textarea.bp3-input[readonly]{
      -webkit-box-shadow:inset 0 0 0 1px rgba(16, 22, 26, 0.4);
              box-shadow:inset 0 0 0 1px rgba(16, 22, 26, 0.4); }
    .bp3-dark textarea.bp3-input:disabled, .bp3-dark textarea.bp3-input.bp3-disabled{
      background:rgba(57, 75, 89, 0.5);
      -webkit-box-shadow:none;
              box-shadow:none;
      color:rgba(167, 182, 194, 0.6); }
label.bp3-label{
  display:block;
  margin-bottom:15px;
  margin-top:0; }
  label.bp3-label .bp3-html-select,
  label.bp3-label .bp3-input,
  label.bp3-label .bp3-select,
  label.bp3-label .bp3-slider,
  label.bp3-label .bp3-popover-wrapper{
    display:block;
    margin-top:5px;
    text-transform:none; }
  label.bp3-label .bp3-button-group{
    margin-top:5px; }
  label.bp3-label .bp3-select select,
  label.bp3-label .bp3-html-select select{
    font-weight:400;
    vertical-align:top;
    width:100%; }
  label.bp3-label.bp3-disabled,
  label.bp3-label.bp3-disabled .bp3-text-muted{
    color:rgba(92, 112, 128, 0.6); }
  label.bp3-label.bp3-inline{
    line-height:30px; }
    label.bp3-label.bp3-inline .bp3-html-select,
    label.bp3-label.bp3-inline .bp3-input,
    label.bp3-label.bp3-inline .bp3-input-group,
    label.bp3-label.bp3-inline .bp3-select,
    label.bp3-label.bp3-inline .bp3-popover-wrapper{
      display:inline-block;
      margin:0 0 0 5px;
      vertical-align:top; }
    label.bp3-label.bp3-inline .bp3-button-group{
      margin:0 0 0 5px; }
    label.bp3-label.bp3-inline .bp3-input-group .bp3-input{
      margin-left:0; }
    label.bp3-label.bp3-inline.bp3-large{
      line-height:40px; }
  label.bp3-label:not(.bp3-inline) .bp3-popover-target{
    display:block; }
  .bp3-dark label.bp3-label{
    color:#f5f8fa; }
    .bp3-dark label.bp3-label.bp3-disabled,
    .bp3-dark label.bp3-label.bp3-disabled .bp3-text-muted{
      color:rgba(167, 182, 194, 0.6); }
.bp3-numeric-input .bp3-button-group.bp3-vertical > .bp3-button{
  -webkit-box-flex:1;
      -ms-flex:1 1 14px;
          flex:1 1 14px;
  min-height:0;
  padding:0;
  width:30px; }
  .bp3-numeric-input .bp3-button-group.bp3-vertical > .bp3-button:first-child{
    border-radius:0 3px 0 0; }
  .bp3-numeric-input .bp3-button-group.bp3-vertical > .bp3-button:last-child{
    border-radius:0 0 3px 0; }

.bp3-numeric-input .bp3-button-group.bp3-vertical:first-child > .bp3-button:first-child{
  border-radius:3px 0 0 0; }

.bp3-numeric-input .bp3-button-group.bp3-vertical:first-child > .bp3-button:last-child{
  border-radius:0 0 0 3px; }

.bp3-numeric-input.bp3-large .bp3-button-group.bp3-vertical > .bp3-button{
  width:40px; }

form{
  display:block; }
.bp3-html-select select,
.bp3-select select{
  display:-webkit-inline-box;
  display:-ms-inline-flexbox;
  display:inline-flex;
  -webkit-box-orient:horizontal;
  -webkit-box-direction:normal;
      -ms-flex-direction:row;
          flex-direction:row;
  -webkit-box-align:center;
      -ms-flex-align:center;
          align-items:center;
  border:none;
  border-radius:3px;
  cursor:pointer;
  font-size:14px;
  -webkit-box-pack:center;
      -ms-flex-pack:center;
          justify-content:center;
  padding:5px 10px;
  text-align:left;
  vertical-align:middle;
  background-color:#f5f8fa;
  background-image:-webkit-gradient(linear, left top, left bottom, from(rgba(255, 255, 255, 0.8)), to(rgba(255, 255, 255, 0)));
  background-image:linear-gradient(to bottom, rgba(255, 255, 255, 0.8), rgba(255, 255, 255, 0));
  -webkit-box-shadow:inset 0 0 0 1px rgba(16, 22, 26, 0.2), inset 0 -1px 0 rgba(16, 22, 26, 0.1);
          box-shadow:inset 0 0 0 1px rgba(16, 22, 26, 0.2), inset 0 -1px 0 rgba(16, 22, 26, 0.1);
  color:#182026;
  -moz-appearance:none;
  -webkit-appearance:none;
  border-radius:3px;
  height:30px;
  padding:0 25px 0 10px;
  width:100%; }
  .bp3-html-select select > *, .bp3-select select > *{
    -webkit-box-flex:0;
        -ms-flex-positive:0;
            flex-grow:0;
    -ms-flex-negative:0;
        flex-shrink:0; }
  .bp3-html-select select > .bp3-fill, .bp3-select select > .bp3-fill{
    -webkit-box-flex:1;
        -ms-flex-positive:1;
            flex-grow:1;
    -ms-flex-negative:1;
        flex-shrink:1; }
  .bp3-html-select select::before,
  .bp3-select select::before, .bp3-html-select select > *, .bp3-select select > *{
    margin-right:7px; }
  .bp3-html-select select:empty::before,
  .bp3-select select:empty::before,
  .bp3-html-select select > :last-child,
  .bp3-select select > :last-child{
    margin-right:0; }
  .bp3-html-select select:hover,
  .bp3-select select:hover{
    background-clip:padding-box;
    background-color:#ebf1f5;
    -webkit-box-shadow:inset 0 0 0 1px rgba(16, 22, 26, 0.2), inset 0 -1px 0 rgba(16, 22, 26, 0.1);
            box-shadow:inset 0 0 0 1px rgba(16, 22, 26, 0.2), inset 0 -1px 0 rgba(16, 22, 26, 0.1); }
  .bp3-html-select select:active,
  .bp3-select select:active, .bp3-html-select select.bp3-active,
  .bp3-select select.bp3-active{
    background-color:#d8e1e8;
    background-image:none;
    -webkit-box-shadow:inset 0 0 0 1px rgba(16, 22, 26, 0.2), inset 0 1px 2px rgba(16, 22, 26, 0.2);
            box-shadow:inset 0 0 0 1px rgba(16, 22, 26, 0.2), inset 0 1px 2px rgba(16, 22, 26, 0.2); }
  .bp3-html-select select:disabled,
  .bp3-select select:disabled, .bp3-html-select select.bp3-disabled,
  .bp3-select select.bp3-disabled{
    background-color:rgba(206, 217, 224, 0.5);
    background-image:none;
    -webkit-box-shadow:none;
            box-shadow:none;
    color:rgba(92, 112, 128, 0.6);
    cursor:not-allowed;
    outline:none; }
    .bp3-html-select select:disabled.bp3-active,
    .bp3-select select:disabled.bp3-active, .bp3-html-select select:disabled.bp3-active:hover,
    .bp3-select select:disabled.bp3-active:hover, .bp3-html-select select.bp3-disabled.bp3-active,
    .bp3-select select.bp3-disabled.bp3-active, .bp3-html-select select.bp3-disabled.bp3-active:hover,
    .bp3-select select.bp3-disabled.bp3-active:hover{
      background:rgba(206, 217, 224, 0.7); }

.bp3-html-select.bp3-minimal select,
.bp3-select.bp3-minimal select{
  background:none;
  -webkit-box-shadow:none;
          box-shadow:none; }
  .bp3-html-select.bp3-minimal select:hover,
  .bp3-select.bp3-minimal select:hover{
    background:rgba(167, 182, 194, 0.3);
    -webkit-box-shadow:none;
            box-shadow:none;
    color:#182026;
    text-decoration:none; }
  .bp3-html-select.bp3-minimal select:active,
  .bp3-select.bp3-minimal select:active, .bp3-html-select.bp3-minimal select.bp3-active,
  .bp3-select.bp3-minimal select.bp3-active{
    background:rgba(115, 134, 148, 0.3);
    -webkit-box-shadow:none;
            box-shadow:none;
    color:#182026; }
  .bp3-html-select.bp3-minimal select:disabled,
  .bp3-select.bp3-minimal select:disabled, .bp3-html-select.bp3-minimal select:disabled:hover,
  .bp3-select.bp3-minimal select:disabled:hover, .bp3-html-select.bp3-minimal select.bp3-disabled,
  .bp3-select.bp3-minimal select.bp3-disabled, .bp3-html-select.bp3-minimal select.bp3-disabled:hover,
  .bp3-select.bp3-minimal select.bp3-disabled:hover{
    background:none;
    color:rgba(92, 112, 128, 0.6);
    cursor:not-allowed; }
    .bp3-html-select.bp3-minimal select:disabled.bp3-active,
    .bp3-select.bp3-minimal select:disabled.bp3-active, .bp3-html-select.bp3-minimal select:disabled:hover.bp3-active,
    .bp3-select.bp3-minimal select:disabled:hover.bp3-active, .bp3-html-select.bp3-minimal select.bp3-disabled.bp3-active,
    .bp3-select.bp3-minimal select.bp3-disabled.bp3-active, .bp3-html-select.bp3-minimal select.bp3-disabled:hover.bp3-active,
    .bp3-select.bp3-minimal select.bp3-disabled:hover.bp3-active{
      background:rgba(115, 134, 148, 0.3); }
  .bp3-dark .bp3-html-select.bp3-minimal select, .bp3-html-select.bp3-minimal .bp3-dark select,
  .bp3-dark .bp3-select.bp3-minimal select, .bp3-select.bp3-minimal .bp3-dark select{
    background:none;
    -webkit-box-shadow:none;
            box-shadow:none;
    color:inherit; }
    .bp3-dark .bp3-html-select.bp3-minimal select:hover, .bp3-html-select.bp3-minimal .bp3-dark select:hover,
    .bp3-dark .bp3-select.bp3-minimal select:hover, .bp3-select.bp3-minimal .bp3-dark select:hover, .bp3-dark .bp3-html-select.bp3-minimal select:active, .bp3-html-select.bp3-minimal .bp3-dark select:active,
    .bp3-dark .bp3-select.bp3-minimal select:active, .bp3-select.bp3-minimal .bp3-dark select:active, .bp3-dark .bp3-html-select.bp3-minimal select.bp3-active, .bp3-html-select.bp3-minimal .bp3-dark select.bp3-active,
    .bp3-dark .bp3-select.bp3-minimal select.bp3-active, .bp3-select.bp3-minimal .bp3-dark select.bp3-active{
      background:none;
      -webkit-box-shadow:none;
              box-shadow:none; }
    .bp3-dark .bp3-html-select.bp3-minimal select:hover, .bp3-html-select.bp3-minimal .bp3-dark select:hover,
    .bp3-dark .bp3-select.bp3-minimal select:hover, .bp3-select.bp3-minimal .bp3-dark select:hover{
      background:rgba(138, 155, 168, 0.15); }
    .bp3-dark .bp3-html-select.bp3-minimal select:active, .bp3-html-select.bp3-minimal .bp3-dark select:active,
    .bp3-dark .bp3-select.bp3-minimal select:active, .bp3-select.bp3-minimal .bp3-dark select:active, .bp3-dark .bp3-html-select.bp3-minimal select.bp3-active, .bp3-html-select.bp3-minimal .bp3-dark select.bp3-active,
    .bp3-dark .bp3-select.bp3-minimal select.bp3-active, .bp3-select.bp3-minimal .bp3-dark select.bp3-active{
      background:rgba(138, 155, 168, 0.3);
      color:#f5f8fa; }
    .bp3-dark .bp3-html-select.bp3-minimal select:disabled, .bp3-html-select.bp3-minimal .bp3-dark select:disabled,
    .bp3-dark .bp3-select.bp3-minimal select:disabled, .bp3-select.bp3-minimal .bp3-dark select:disabled, .bp3-dark .bp3-html-select.bp3-minimal select:disabled:hover, .bp3-html-select.bp3-minimal .bp3-dark select:disabled:hover,
    .bp3-dark .bp3-select.bp3-minimal select:disabled:hover, .bp3-select.bp3-minimal .bp3-dark select:disabled:hover, .bp3-dark .bp3-html-select.bp3-minimal select.bp3-disabled, .bp3-html-select.bp3-minimal .bp3-dark select.bp3-disabled,
    .bp3-dark .bp3-select.bp3-minimal select.bp3-disabled, .bp3-select.bp3-minimal .bp3-dark select.bp3-disabled, .bp3-dark .bp3-html-select.bp3-minimal select.bp3-disabled:hover, .bp3-html-select.bp3-minimal .bp3-dark select.bp3-disabled:hover,
    .bp3-dark .bp3-select.bp3-minimal select.bp3-disabled:hover, .bp3-select.bp3-minimal .bp3-dark select.bp3-disabled:hover{
      background:none;
      color:rgba(167, 182, 194, 0.6);
      cursor:not-allowed; }
      .bp3-dark .bp3-html-select.bp3-minimal select:disabled.bp3-active, .bp3-html-select.bp3-minimal .bp3-dark select:disabled.bp3-active,
      .bp3-dark .bp3-select.bp3-minimal select:disabled.bp3-active, .bp3-select.bp3-minimal .bp3-dark select:disabled.bp3-active, .bp3-dark .bp3-html-select.bp3-minimal select:disabled:hover.bp3-active, .bp3-html-select.bp3-minimal .bp3-dark select:disabled:hover.bp3-active,
      .bp3-dark .bp3-select.bp3-minimal select:disabled:hover.bp3-active, .bp3-select.bp3-minimal .bp3-dark select:disabled:hover.bp3-active, .bp3-dark .bp3-html-select.bp3-minimal select.bp3-disabled.bp3-active, .bp3-html-select.bp3-minimal .bp3-dark select.bp3-disabled.bp3-active,
      .bp3-dark .bp3-select.bp3-minimal select.bp3-disabled.bp3-active, .bp3-select.bp3-minimal .bp3-dark select.bp3-disabled.bp3-active, .bp3-dark .bp3-html-select.bp3-minimal select.bp3-disabled:hover.bp3-active, .bp3-html-select.bp3-minimal .bp3-dark select.bp3-disabled:hover.bp3-active,
      .bp3-dark .bp3-select.bp3-minimal select.bp3-disabled:hover.bp3-active, .bp3-select.bp3-minimal .bp3-dark select.bp3-disabled:hover.bp3-active{
        background:rgba(138, 155, 168, 0.3); }
  .bp3-html-select.bp3-minimal select.bp3-intent-primary,
  .bp3-select.bp3-minimal select.bp3-intent-primary{
    color:#106ba3; }
    .bp3-html-select.bp3-minimal select.bp3-intent-primary:hover,
    .bp3-select.bp3-minimal select.bp3-intent-primary:hover, .bp3-html-select.bp3-minimal select.bp3-intent-primary:active,
    .bp3-select.bp3-minimal select.bp3-intent-primary:active, .bp3-html-select.bp3-minimal select.bp3-intent-primary.bp3-active,
    .bp3-select.bp3-minimal select.bp3-intent-primary.bp3-active{
      background:none;
      -webkit-box-shadow:none;
              box-shadow:none;
      color:#106ba3; }
    .bp3-html-select.bp3-minimal select.bp3-intent-primary:hover,
    .bp3-select.bp3-minimal select.bp3-intent-primary:hover{
      background:rgba(19, 124, 189, 0.15);
      color:#106ba3; }
    .bp3-html-select.bp3-minimal select.bp3-intent-primary:active,
    .bp3-select.bp3-minimal select.bp3-intent-primary:active, .bp3-html-select.bp3-minimal select.bp3-intent-primary.bp3-active,
    .bp3-select.bp3-minimal select.bp3-intent-primary.bp3-active{
      background:rgba(19, 124, 189, 0.3);
      color:#106ba3; }
    .bp3-html-select.bp3-minimal select.bp3-intent-primary:disabled,
    .bp3-select.bp3-minimal select.bp3-intent-primary:disabled, .bp3-html-select.bp3-minimal select.bp3-intent-primary.bp3-disabled,
    .bp3-select.bp3-minimal select.bp3-intent-primary.bp3-disabled{
      background:none;
      color:rgba(16, 107, 163, 0.5); }
      .bp3-html-select.bp3-minimal select.bp3-intent-primary:disabled.bp3-active,
      .bp3-select.bp3-minimal select.bp3-intent-primary:disabled.bp3-active, .bp3-html-select.bp3-minimal select.bp3-intent-primary.bp3-disabled.bp3-active,
      .bp3-select.bp3-minimal select.bp3-intent-primary.bp3-disabled.bp3-active{
        background:rgba(19, 124, 189, 0.3); }
    .bp3-html-select.bp3-minimal select.bp3-intent-primary .bp3-button-spinner .bp3-spinner-head, .bp3-select.bp3-minimal select.bp3-intent-primary .bp3-button-spinner .bp3-spinner-head{
      stroke:#106ba3; }
    .bp3-dark .bp3-html-select.bp3-minimal select.bp3-intent-primary, .bp3-html-select.bp3-minimal .bp3-dark select.bp3-intent-primary,
    .bp3-dark .bp3-select.bp3-minimal select.bp3-intent-primary, .bp3-select.bp3-minimal .bp3-dark select.bp3-intent-primary{
      color:#48aff0; }
      .bp3-dark .bp3-html-select.bp3-minimal select.bp3-intent-primary:hover, .bp3-html-select.bp3-minimal .bp3-dark select.bp3-intent-primary:hover,
      .bp3-dark .bp3-select.bp3-minimal select.bp3-intent-primary:hover, .bp3-select.bp3-minimal .bp3-dark select.bp3-intent-primary:hover{
        background:rgba(19, 124, 189, 0.2);
        color:#48aff0; }
      .bp3-dark .bp3-html-select.bp3-minimal select.bp3-intent-primary:active, .bp3-html-select.bp3-minimal .bp3-dark select.bp3-intent-primary:active,
      .bp3-dark .bp3-select.bp3-minimal select.bp3-intent-primary:active, .bp3-select.bp3-minimal .bp3-dark select.bp3-intent-primary:active, .bp3-dark .bp3-html-select.bp3-minimal select.bp3-intent-primary.bp3-active, .bp3-html-select.bp3-minimal .bp3-dark select.bp3-intent-primary.bp3-active,
      .bp3-dark .bp3-select.bp3-minimal select.bp3-intent-primary.bp3-active, .bp3-select.bp3-minimal .bp3-dark select.bp3-intent-primary.bp3-active{
        background:rgba(19, 124, 189, 0.3);
        color:#48aff0; }
      .bp3-dark .bp3-html-select.bp3-minimal select.bp3-intent-primary:disabled, .bp3-html-select.bp3-minimal .bp3-dark select.bp3-intent-primary:disabled,
      .bp3-dark .bp3-select.bp3-minimal select.bp3-intent-primary:disabled, .bp3-select.bp3-minimal .bp3-dark select.bp3-intent-primary:disabled, .bp3-dark .bp3-html-select.bp3-minimal select.bp3-intent-primary.bp3-disabled, .bp3-html-select.bp3-minimal .bp3-dark select.bp3-intent-primary.bp3-disabled,
      .bp3-dark .bp3-select.bp3-minimal select.bp3-intent-primary.bp3-disabled, .bp3-select.bp3-minimal .bp3-dark select.bp3-intent-primary.bp3-disabled{
        background:none;
        color:rgba(72, 175, 240, 0.5); }
        .bp3-dark .bp3-html-select.bp3-minimal select.bp3-intent-primary:disabled.bp3-active, .bp3-html-select.bp3-minimal .bp3-dark select.bp3-intent-primary:disabled.bp3-active,
        .bp3-dark .bp3-select.bp3-minimal select.bp3-intent-primary:disabled.bp3-active, .bp3-select.bp3-minimal .bp3-dark select.bp3-intent-primary:disabled.bp3-active, .bp3-dark .bp3-html-select.bp3-minimal select.bp3-intent-primary.bp3-disabled.bp3-active, .bp3-html-select.bp3-minimal .bp3-dark select.bp3-intent-primary.bp3-disabled.bp3-active,
        .bp3-dark .bp3-select.bp3-minimal select.bp3-intent-primary.bp3-disabled.bp3-active, .bp3-select.bp3-minimal .bp3-dark select.bp3-intent-primary.bp3-disabled.bp3-active{
          background:rgba(19, 124, 189, 0.3); }
  .bp3-html-select.bp3-minimal select.bp3-intent-success,
  .bp3-select.bp3-minimal select.bp3-intent-success{
    color:#0d8050; }
    .bp3-html-select.bp3-minimal select.bp3-intent-success:hover,
    .bp3-select.bp3-minimal select.bp3-intent-success:hover, .bp3-html-select.bp3-minimal select.bp3-intent-success:active,
    .bp3-select.bp3-minimal select.bp3-intent-success:active, .bp3-html-select.bp3-minimal select.bp3-intent-success.bp3-active,
    .bp3-select.bp3-minimal select.bp3-intent-success.bp3-active{
      background:none;
      -webkit-box-shadow:none;
              box-shadow:none;
      color:#0d8050; }
    .bp3-html-select.bp3-minimal select.bp3-intent-success:hover,
    .bp3-select.bp3-minimal select.bp3-intent-success:hover{
      background:rgba(15, 153, 96, 0.15);
      color:#0d8050; }
    .bp3-html-select.bp3-minimal select.bp3-intent-success:active,
    .bp3-select.bp3-minimal select.bp3-intent-success:active, .bp3-html-select.bp3-minimal select.bp3-intent-success.bp3-active,
    .bp3-select.bp3-minimal select.bp3-intent-success.bp3-active{
      background:rgba(15, 153, 96, 0.3);
      color:#0d8050; }
    .bp3-html-select.bp3-minimal select.bp3-intent-success:disabled,
    .bp3-select.bp3-minimal select.bp3-intent-success:disabled, .bp3-html-select.bp3-minimal select.bp3-intent-success.bp3-disabled,
    .bp3-select.bp3-minimal select.bp3-intent-success.bp3-disabled{
      background:none;
      color:rgba(13, 128, 80, 0.5); }
      .bp3-html-select.bp3-minimal select.bp3-intent-success:disabled.bp3-active,
      .bp3-select.bp3-minimal select.bp3-intent-success:disabled.bp3-active, .bp3-html-select.bp3-minimal select.bp3-intent-success.bp3-disabled.bp3-active,
      .bp3-select.bp3-minimal select.bp3-intent-success.bp3-disabled.bp3-active{
        background:rgba(15, 153, 96, 0.3); }
    .bp3-html-select.bp3-minimal select.bp3-intent-success .bp3-button-spinner .bp3-spinner-head, .bp3-select.bp3-minimal select.bp3-intent-success .bp3-button-spinner .bp3-spinner-head{
      stroke:#0d8050; }
    .bp3-dark .bp3-html-select.bp3-minimal select.bp3-intent-success, .bp3-html-select.bp3-minimal .bp3-dark select.bp3-intent-success,
    .bp3-dark .bp3-select.bp3-minimal select.bp3-intent-success, .bp3-select.bp3-minimal .bp3-dark select.bp3-intent-success{
      color:#3dcc91; }
      .bp3-dark .bp3-html-select.bp3-minimal select.bp3-intent-success:hover, .bp3-html-select.bp3-minimal .bp3-dark select.bp3-intent-success:hover,
      .bp3-dark .bp3-select.bp3-minimal select.bp3-intent-success:hover, .bp3-select.bp3-minimal .bp3-dark select.bp3-intent-success:hover{
        background:rgba(15, 153, 96, 0.2);
        color:#3dcc91; }
      .bp3-dark .bp3-html-select.bp3-minimal select.bp3-intent-success:active, .bp3-html-select.bp3-minimal .bp3-dark select.bp3-intent-success:active,
      .bp3-dark .bp3-select.bp3-minimal select.bp3-intent-success:active, .bp3-select.bp3-minimal .bp3-dark select.bp3-intent-success:active, .bp3-dark .bp3-html-select.bp3-minimal select.bp3-intent-success.bp3-active, .bp3-html-select.bp3-minimal .bp3-dark select.bp3-intent-success.bp3-active,
      .bp3-dark .bp3-select.bp3-minimal select.bp3-intent-success.bp3-active, .bp3-select.bp3-minimal .bp3-dark select.bp3-intent-success.bp3-active{
        background:rgba(15, 153, 96, 0.3);
        color:#3dcc91; }
      .bp3-dark .bp3-html-select.bp3-minimal select.bp3-intent-success:disabled, .bp3-html-select.bp3-minimal .bp3-dark select.bp3-intent-success:disabled,
      .bp3-dark .bp3-select.bp3-minimal select.bp3-intent-success:disabled, .bp3-select.bp3-minimal .bp3-dark select.bp3-intent-success:disabled, .bp3-dark .bp3-html-select.bp3-minimal select.bp3-intent-success.bp3-disabled, .bp3-html-select.bp3-minimal .bp3-dark select.bp3-intent-success.bp3-disabled,
      .bp3-dark .bp3-select.bp3-minimal select.bp3-intent-success.bp3-disabled, .bp3-select.bp3-minimal .bp3-dark select.bp3-intent-success.bp3-disabled{
        background:none;
        color:rgba(61, 204, 145, 0.5); }
        .bp3-dark .bp3-html-select.bp3-minimal select.bp3-intent-success:disabled.bp3-active, .bp3-html-select.bp3-minimal .bp3-dark select.bp3-intent-success:disabled.bp3-active,
        .bp3-dark .bp3-select.bp3-minimal select.bp3-intent-success:disabled.bp3-active, .bp3-select.bp3-minimal .bp3-dark select.bp3-intent-success:disabled.bp3-active, .bp3-dark .bp3-html-select.bp3-minimal select.bp3-intent-success.bp3-disabled.bp3-active, .bp3-html-select.bp3-minimal .bp3-dark select.bp3-intent-success.bp3-disabled.bp3-active,
        .bp3-dark .bp3-select.bp3-minimal select.bp3-intent-success.bp3-disabled.bp3-active, .bp3-select.bp3-minimal .bp3-dark select.bp3-intent-success.bp3-disabled.bp3-active{
          background:rgba(15, 153, 96, 0.3); }
  .bp3-html-select.bp3-minimal select.bp3-intent-warning,
  .bp3-select.bp3-minimal select.bp3-intent-warning{
    color:#bf7326; }
    .bp3-html-select.bp3-minimal select.bp3-intent-warning:hover,
    .bp3-select.bp3-minimal select.bp3-intent-warning:hover, .bp3-html-select.bp3-minimal select.bp3-intent-warning:active,
    .bp3-select.bp3-minimal select.bp3-intent-warning:active, .bp3-html-select.bp3-minimal select.bp3-intent-warning.bp3-active,
    .bp3-select.bp3-minimal select.bp3-intent-warning.bp3-active{
      background:none;
      -webkit-box-shadow:none;
              box-shadow:none;
      color:#bf7326; }
    .bp3-html-select.bp3-minimal select.bp3-intent-warning:hover,
    .bp3-select.bp3-minimal select.bp3-intent-warning:hover{
      background:rgba(217, 130, 43, 0.15);
      color:#bf7326; }
    .bp3-html-select.bp3-minimal select.bp3-intent-warning:active,
    .bp3-select.bp3-minimal select.bp3-intent-warning:active, .bp3-html-select.bp3-minimal select.bp3-intent-warning.bp3-active,
    .bp3-select.bp3-minimal select.bp3-intent-warning.bp3-active{
      background:rgba(217, 130, 43, 0.3);
      color:#bf7326; }
    .bp3-html-select.bp3-minimal select.bp3-intent-warning:disabled,
    .bp3-select.bp3-minimal select.bp3-intent-warning:disabled, .bp3-html-select.bp3-minimal select.bp3-intent-warning.bp3-disabled,
    .bp3-select.bp3-minimal select.bp3-intent-warning.bp3-disabled{
      background:none;
      color:rgba(191, 115, 38, 0.5); }
      .bp3-html-select.bp3-minimal select.bp3-intent-warning:disabled.bp3-active,
      .bp3-select.bp3-minimal select.bp3-intent-warning:disabled.bp3-active, .bp3-html-select.bp3-minimal select.bp3-intent-warning.bp3-disabled.bp3-active,
      .bp3-select.bp3-minimal select.bp3-intent-warning.bp3-disabled.bp3-active{
        background:rgba(217, 130, 43, 0.3); }
    .bp3-html-select.bp3-minimal select.bp3-intent-warning .bp3-button-spinner .bp3-spinner-head, .bp3-select.bp3-minimal select.bp3-intent-warning .bp3-button-spinner .bp3-spinner-head{
      stroke:#bf7326; }
    .bp3-dark .bp3-html-select.bp3-minimal select.bp3-intent-warning, .bp3-html-select.bp3-minimal .bp3-dark select.bp3-intent-warning,
    .bp3-dark .bp3-select.bp3-minimal select.bp3-intent-warning, .bp3-select.bp3-minimal .bp3-dark select.bp3-intent-warning{
      color:#ffb366; }
      .bp3-dark .bp3-html-select.bp3-minimal select.bp3-intent-warning:hover, .bp3-html-select.bp3-minimal .bp3-dark select.bp3-intent-warning:hover,
      .bp3-dark .bp3-select.bp3-minimal select.bp3-intent-warning:hover, .bp3-select.bp3-minimal .bp3-dark select.bp3-intent-warning:hover{
        background:rgba(217, 130, 43, 0.2);
        color:#ffb366; }
      .bp3-dark .bp3-html-select.bp3-minimal select.bp3-intent-warning:active, .bp3-html-select.bp3-minimal .bp3-dark select.bp3-intent-warning:active,
      .bp3-dark .bp3-select.bp3-minimal select.bp3-intent-warning:active, .bp3-select.bp3-minimal .bp3-dark select.bp3-intent-warning:active, .bp3-dark .bp3-html-select.bp3-minimal select.bp3-intent-warning.bp3-active, .bp3-html-select.bp3-minimal .bp3-dark select.bp3-intent-warning.bp3-active,
      .bp3-dark .bp3-select.bp3-minimal select.bp3-intent-warning.bp3-active, .bp3-select.bp3-minimal .bp3-dark select.bp3-intent-warning.bp3-active{
        background:rgba(217, 130, 43, 0.3);
        color:#ffb366; }
      .bp3-dark .bp3-html-select.bp3-minimal select.bp3-intent-warning:disabled, .bp3-html-select.bp3-minimal .bp3-dark select.bp3-intent-warning:disabled,
      .bp3-dark .bp3-select.bp3-minimal select.bp3-intent-warning:disabled, .bp3-select.bp3-minimal .bp3-dark select.bp3-intent-warning:disabled, .bp3-dark .bp3-html-select.bp3-minimal select.bp3-intent-warning.bp3-disabled, .bp3-html-select.bp3-minimal .bp3-dark select.bp3-intent-warning.bp3-disabled,
      .bp3-dark .bp3-select.bp3-minimal select.bp3-intent-warning.bp3-disabled, .bp3-select.bp3-minimal .bp3-dark select.bp3-intent-warning.bp3-disabled{
        background:none;
        color:rgba(255, 179, 102, 0.5); }
        .bp3-dark .bp3-html-select.bp3-minimal select.bp3-intent-warning:disabled.bp3-active, .bp3-html-select.bp3-minimal .bp3-dark select.bp3-intent-warning:disabled.bp3-active,
        .bp3-dark .bp3-select.bp3-minimal select.bp3-intent-warning:disabled.bp3-active, .bp3-select.bp3-minimal .bp3-dark select.bp3-intent-warning:disabled.bp3-active, .bp3-dark .bp3-html-select.bp3-minimal select.bp3-intent-warning.bp3-disabled.bp3-active, .bp3-html-select.bp3-minimal .bp3-dark select.bp3-intent-warning.bp3-disabled.bp3-active,
        .bp3-dark .bp3-select.bp3-minimal select.bp3-intent-warning.bp3-disabled.bp3-active, .bp3-select.bp3-minimal .bp3-dark select.bp3-intent-warning.bp3-disabled.bp3-active{
          background:rgba(217, 130, 43, 0.3); }
  .bp3-html-select.bp3-minimal select.bp3-intent-danger,
  .bp3-select.bp3-minimal select.bp3-intent-danger{
    color:#c23030; }
    .bp3-html-select.bp3-minimal select.bp3-intent-danger:hover,
    .bp3-select.bp3-minimal select.bp3-intent-danger:hover, .bp3-html-select.bp3-minimal select.bp3-intent-danger:active,
    .bp3-select.bp3-minimal select.bp3-intent-danger:active, .bp3-html-select.bp3-minimal select.bp3-intent-danger.bp3-active,
    .bp3-select.bp3-minimal select.bp3-intent-danger.bp3-active{
      background:none;
      -webkit-box-shadow:none;
              box-shadow:none;
      color:#c23030; }
    .bp3-html-select.bp3-minimal select.bp3-intent-danger:hover,
    .bp3-select.bp3-minimal select.bp3-intent-danger:hover{
      background:rgba(219, 55, 55, 0.15);
      color:#c23030; }
    .bp3-html-select.bp3-minimal select.bp3-intent-danger:active,
    .bp3-select.bp3-minimal select.bp3-intent-danger:active, .bp3-html-select.bp3-minimal select.bp3-intent-danger.bp3-active,
    .bp3-select.bp3-minimal select.bp3-intent-danger.bp3-active{
      background:rgba(219, 55, 55, 0.3);
      color:#c23030; }
    .bp3-html-select.bp3-minimal select.bp3-intent-danger:disabled,
    .bp3-select.bp3-minimal select.bp3-intent-danger:disabled, .bp3-html-select.bp3-minimal select.bp3-intent-danger.bp3-disabled,
    .bp3-select.bp3-minimal select.bp3-intent-danger.bp3-disabled{
      background:none;
      color:rgba(194, 48, 48, 0.5); }
      .bp3-html-select.bp3-minimal select.bp3-intent-danger:disabled.bp3-active,
      .bp3-select.bp3-minimal select.bp3-intent-danger:disabled.bp3-active, .bp3-html-select.bp3-minimal select.bp3-intent-danger.bp3-disabled.bp3-active,
      .bp3-select.bp3-minimal select.bp3-intent-danger.bp3-disabled.bp3-active{
        background:rgba(219, 55, 55, 0.3); }
    .bp3-html-select.bp3-minimal select.bp3-intent-danger .bp3-button-spinner .bp3-spinner-head, .bp3-select.bp3-minimal select.bp3-intent-danger .bp3-button-spinner .bp3-spinner-head{
      stroke:#c23030; }
    .bp3-dark .bp3-html-select.bp3-minimal select.bp3-intent-danger, .bp3-html-select.bp3-minimal .bp3-dark select.bp3-intent-danger,
    .bp3-dark .bp3-select.bp3-minimal select.bp3-intent-danger, .bp3-select.bp3-minimal .bp3-dark select.bp3-intent-danger{
      color:#ff7373; }
      .bp3-dark .bp3-html-select.bp3-minimal select.bp3-intent-danger:hover, .bp3-html-select.bp3-minimal .bp3-dark select.bp3-intent-danger:hover,
      .bp3-dark .bp3-select.bp3-minimal select.bp3-intent-danger:hover, .bp3-select.bp3-minimal .bp3-dark select.bp3-intent-danger:hover{
        background:rgba(219, 55, 55, 0.2);
        color:#ff7373; }
      .bp3-dark .bp3-html-select.bp3-minimal select.bp3-intent-danger:active, .bp3-html-select.bp3-minimal .bp3-dark select.bp3-intent-danger:active,
      .bp3-dark .bp3-select.bp3-minimal select.bp3-intent-danger:active, .bp3-select.bp3-minimal .bp3-dark select.bp3-intent-danger:active, .bp3-dark .bp3-html-select.bp3-minimal select.bp3-intent-danger.bp3-active, .bp3-html-select.bp3-minimal .bp3-dark select.bp3-intent-danger.bp3-active,
      .bp3-dark .bp3-select.bp3-minimal select.bp3-intent-danger.bp3-active, .bp3-select.bp3-minimal .bp3-dark select.bp3-intent-danger.bp3-active{
        background:rgba(219, 55, 55, 0.3);
        color:#ff7373; }
      .bp3-dark .bp3-html-select.bp3-minimal select.bp3-intent-danger:disabled, .bp3-html-select.bp3-minimal .bp3-dark select.bp3-intent-danger:disabled,
      .bp3-dark .bp3-select.bp3-minimal select.bp3-intent-danger:disabled, .bp3-select.bp3-minimal .bp3-dark select.bp3-intent-danger:disabled, .bp3-dark .bp3-html-select.bp3-minimal select.bp3-intent-danger.bp3-disabled, .bp3-html-select.bp3-minimal .bp3-dark select.bp3-intent-danger.bp3-disabled,
      .bp3-dark .bp3-select.bp3-minimal select.bp3-intent-danger.bp3-disabled, .bp3-select.bp3-minimal .bp3-dark select.bp3-intent-danger.bp3-disabled{
        background:none;
        color:rgba(255, 115, 115, 0.5); }
        .bp3-dark .bp3-html-select.bp3-minimal select.bp3-intent-danger:disabled.bp3-active, .bp3-html-select.bp3-minimal .bp3-dark select.bp3-intent-danger:disabled.bp3-active,
        .bp3-dark .bp3-select.bp3-minimal select.bp3-intent-danger:disabled.bp3-active, .bp3-select.bp3-minimal .bp3-dark select.bp3-intent-danger:disabled.bp3-active, .bp3-dark .bp3-html-select.bp3-minimal select.bp3-intent-danger.bp3-disabled.bp3-active, .bp3-html-select.bp3-minimal .bp3-dark select.bp3-intent-danger.bp3-disabled.bp3-active,
        .bp3-dark .bp3-select.bp3-minimal select.bp3-intent-danger.bp3-disabled.bp3-active, .bp3-select.bp3-minimal .bp3-dark select.bp3-intent-danger.bp3-disabled.bp3-active{
          background:rgba(219, 55, 55, 0.3); }

.bp3-html-select.bp3-large select,
.bp3-select.bp3-large select{
  font-size:16px;
  height:40px;
  padding-right:35px; }

.bp3-dark .bp3-html-select select, .bp3-dark .bp3-select select{
  background-color:#394b59;
  background-image:-webkit-gradient(linear, left top, left bottom, from(rgba(255, 255, 255, 0.05)), to(rgba(255, 255, 255, 0)));
  background-image:linear-gradient(to bottom, rgba(255, 255, 255, 0.05), rgba(255, 255, 255, 0));
  -webkit-box-shadow:0 0 0 1px rgba(16, 22, 26, 0.4);
          box-shadow:0 0 0 1px rgba(16, 22, 26, 0.4);
  color:#f5f8fa; }
  .bp3-dark .bp3-html-select select:hover, .bp3-dark .bp3-select select:hover, .bp3-dark .bp3-html-select select:active, .bp3-dark .bp3-select select:active, .bp3-dark .bp3-html-select select.bp3-active, .bp3-dark .bp3-select select.bp3-active{
    color:#f5f8fa; }
  .bp3-dark .bp3-html-select select:hover, .bp3-dark .bp3-select select:hover{
    background-color:#30404d;
    -webkit-box-shadow:0 0 0 1px rgba(16, 22, 26, 0.4);
            box-shadow:0 0 0 1px rgba(16, 22, 26, 0.4); }
  .bp3-dark .bp3-html-select select:active, .bp3-dark .bp3-select select:active, .bp3-dark .bp3-html-select select.bp3-active, .bp3-dark .bp3-select select.bp3-active{
    background-color:#202b33;
    background-image:none;
    -webkit-box-shadow:0 0 0 1px rgba(16, 22, 26, 0.6), inset 0 1px 2px rgba(16, 22, 26, 0.2);
            box-shadow:0 0 0 1px rgba(16, 22, 26, 0.6), inset 0 1px 2px rgba(16, 22, 26, 0.2); }
  .bp3-dark .bp3-html-select select:disabled, .bp3-dark .bp3-select select:disabled, .bp3-dark .bp3-html-select select.bp3-disabled, .bp3-dark .bp3-select select.bp3-disabled{
    background-color:rgba(57, 75, 89, 0.5);
    background-image:none;
    -webkit-box-shadow:none;
            box-shadow:none;
    color:rgba(167, 182, 194, 0.6); }
    .bp3-dark .bp3-html-select select:disabled.bp3-active, .bp3-dark .bp3-select select:disabled.bp3-active, .bp3-dark .bp3-html-select select.bp3-disabled.bp3-active, .bp3-dark .bp3-select select.bp3-disabled.bp3-active{
      background:rgba(57, 75, 89, 0.7); }
  .bp3-dark .bp3-html-select select .bp3-button-spinner .bp3-spinner-head, .bp3-dark .bp3-select select .bp3-button-spinner .bp3-spinner-head{
    background:rgba(16, 22, 26, 0.5);
    stroke:#8a9ba8; }

.bp3-html-select select:disabled,
.bp3-select select:disabled{
  background-color:rgba(206, 217, 224, 0.5);
  -webkit-box-shadow:none;
          box-shadow:none;
  color:rgba(92, 112, 128, 0.6);
  cursor:not-allowed; }

.bp3-html-select .bp3-icon,
.bp3-select .bp3-icon, .bp3-select::after{
  color:#5c7080;
  pointer-events:none;
  position:absolute;
  right:7px;
  top:7px; }
  .bp3-html-select .bp3-disabled.bp3-icon,
  .bp3-select .bp3-disabled.bp3-icon, .bp3-disabled.bp3-select::after{
    color:rgba(92, 112, 128, 0.6); }
.bp3-html-select,
.bp3-select{
  display:inline-block;
  letter-spacing:normal;
  position:relative;
  vertical-align:middle; }
  .bp3-html-select select::-ms-expand,
  .bp3-select select::-ms-expand{
    display:none; }
  .bp3-html-select .bp3-icon,
  .bp3-select .bp3-icon{
    color:#5c7080; }
    .bp3-html-select .bp3-icon:hover,
    .bp3-select .bp3-icon:hover{
      color:#182026; }
    .bp3-dark .bp3-html-select .bp3-icon, .bp3-dark
    .bp3-select .bp3-icon{
      color:#a7b6c2; }
      .bp3-dark .bp3-html-select .bp3-icon:hover, .bp3-dark
      .bp3-select .bp3-icon:hover{
        color:#f5f8fa; }
  .bp3-html-select.bp3-large::after,
  .bp3-html-select.bp3-large .bp3-icon,
  .bp3-select.bp3-large::after,
  .bp3-select.bp3-large .bp3-icon{
    right:12px;
    top:12px; }
  .bp3-html-select.bp3-fill,
  .bp3-html-select.bp3-fill select,
  .bp3-select.bp3-fill,
  .bp3-select.bp3-fill select{
    width:100%; }
  .bp3-dark .bp3-html-select option, .bp3-dark
  .bp3-select option{
    background-color:#30404d;
    color:#f5f8fa; }
  .bp3-dark .bp3-html-select option:disabled, .bp3-dark
  .bp3-select option:disabled{
    color:rgba(167, 182, 194, 0.6); }
  .bp3-dark .bp3-html-select::after, .bp3-dark
  .bp3-select::after{
    color:#a7b6c2; }

.bp3-select::after{
  font-family:"Icons16", sans-serif;
  font-size:16px;
  font-style:normal;
  font-weight:400;
  line-height:1;
  -moz-osx-font-smoothing:grayscale;
  -webkit-font-smoothing:antialiased;
  content:""; }
.bp3-running-text table, table.bp3-html-table{
  border-spacing:0;
  font-size:14px; }
  .bp3-running-text table th, table.bp3-html-table th,
  .bp3-running-text table td,
  table.bp3-html-table td{
    padding:11px;
    text-align:left;
    vertical-align:top; }
  .bp3-running-text table th, table.bp3-html-table th{
    color:#182026;
    font-weight:600; }
  
  .bp3-running-text table td,
  table.bp3-html-table td{
    color:#182026; }
  .bp3-running-text table tbody tr:first-child th, table.bp3-html-table tbody tr:first-child th,
  .bp3-running-text table tbody tr:first-child td,
  table.bp3-html-table tbody tr:first-child td,
  .bp3-running-text table tfoot tr:first-child th,
  table.bp3-html-table tfoot tr:first-child th,
  .bp3-running-text table tfoot tr:first-child td,
  table.bp3-html-table tfoot tr:first-child td{
    -webkit-box-shadow:inset 0 1px 0 0 rgba(16, 22, 26, 0.15);
            box-shadow:inset 0 1px 0 0 rgba(16, 22, 26, 0.15); }
  .bp3-dark .bp3-running-text table th, .bp3-running-text .bp3-dark table th, .bp3-dark table.bp3-html-table th{
    color:#f5f8fa; }
  .bp3-dark .bp3-running-text table td, .bp3-running-text .bp3-dark table td, .bp3-dark table.bp3-html-table td{
    color:#f5f8fa; }
  .bp3-dark .bp3-running-text table tbody tr:first-child th, .bp3-running-text .bp3-dark table tbody tr:first-child th, .bp3-dark table.bp3-html-table tbody tr:first-child th,
  .bp3-dark .bp3-running-text table tbody tr:first-child td,
  .bp3-running-text .bp3-dark table tbody tr:first-child td,
  .bp3-dark table.bp3-html-table tbody tr:first-child td,
  .bp3-dark .bp3-running-text table tfoot tr:first-child th,
  .bp3-running-text .bp3-dark table tfoot tr:first-child th,
  .bp3-dark table.bp3-html-table tfoot tr:first-child th,
  .bp3-dark .bp3-running-text table tfoot tr:first-child td,
  .bp3-running-text .bp3-dark table tfoot tr:first-child td,
  .bp3-dark table.bp3-html-table tfoot tr:first-child td{
    -webkit-box-shadow:inset 0 1px 0 0 rgba(255, 255, 255, 0.15);
            box-shadow:inset 0 1px 0 0 rgba(255, 255, 255, 0.15); }

table.bp3-html-table.bp3-html-table-condensed th,
table.bp3-html-table.bp3-html-table-condensed td, table.bp3-html-table.bp3-small th,
table.bp3-html-table.bp3-small td{
  padding-bottom:6px;
  padding-top:6px; }

table.bp3-html-table.bp3-html-table-striped tbody tr:nth-child(odd) td{
  background:rgba(191, 204, 214, 0.15); }

table.bp3-html-table.bp3-html-table-bordered th:not(:first-child){
  -webkit-box-shadow:inset 1px 0 0 0 rgba(16, 22, 26, 0.15);
          box-shadow:inset 1px 0 0 0 rgba(16, 22, 26, 0.15); }

table.bp3-html-table.bp3-html-table-bordered tbody tr td,
table.bp3-html-table.bp3-html-table-bordered tfoot tr td{
  -webkit-box-shadow:inset 0 1px 0 0 rgba(16, 22, 26, 0.15);
          box-shadow:inset 0 1px 0 0 rgba(16, 22, 26, 0.15); }
  table.bp3-html-table.bp3-html-table-bordered tbody tr td:not(:first-child),
  table.bp3-html-table.bp3-html-table-bordered tfoot tr td:not(:first-child){
    -webkit-box-shadow:inset 1px 1px 0 0 rgba(16, 22, 26, 0.15);
            box-shadow:inset 1px 1px 0 0 rgba(16, 22, 26, 0.15); }

table.bp3-html-table.bp3-html-table-bordered.bp3-html-table-striped tbody tr:not(:first-child) td{
  -webkit-box-shadow:none;
          box-shadow:none; }
  table.bp3-html-table.bp3-html-table-bordered.bp3-html-table-striped tbody tr:not(:first-child) td:not(:first-child){
    -webkit-box-shadow:inset 1px 0 0 0 rgba(16, 22, 26, 0.15);
            box-shadow:inset 1px 0 0 0 rgba(16, 22, 26, 0.15); }

table.bp3-html-table.bp3-interactive tbody tr:hover td{
  background-color:rgba(191, 204, 214, 0.3);
  cursor:pointer; }

table.bp3-html-table.bp3-interactive tbody tr:active td{
  background-color:rgba(191, 204, 214, 0.4); }

.bp3-dark table.bp3-html-table{ }
  .bp3-dark table.bp3-html-table.bp3-html-table-striped tbody tr:nth-child(odd) td{
    background:rgba(92, 112, 128, 0.15); }
  .bp3-dark table.bp3-html-table.bp3-html-table-bordered th:not(:first-child){
    -webkit-box-shadow:inset 1px 0 0 0 rgba(255, 255, 255, 0.15);
            box-shadow:inset 1px 0 0 0 rgba(255, 255, 255, 0.15); }
  .bp3-dark table.bp3-html-table.bp3-html-table-bordered tbody tr td,
  .bp3-dark table.bp3-html-table.bp3-html-table-bordered tfoot tr td{
    -webkit-box-shadow:inset 0 1px 0 0 rgba(255, 255, 255, 0.15);
            box-shadow:inset 0 1px 0 0 rgba(255, 255, 255, 0.15); }
    .bp3-dark table.bp3-html-table.bp3-html-table-bordered tbody tr td:not(:first-child),
    .bp3-dark table.bp3-html-table.bp3-html-table-bordered tfoot tr td:not(:first-child){
      -webkit-box-shadow:inset 1px 1px 0 0 rgba(255, 255, 255, 0.15);
              box-shadow:inset 1px 1px 0 0 rgba(255, 255, 255, 0.15); }
  .bp3-dark table.bp3-html-table.bp3-html-table-bordered.bp3-html-table-striped tbody tr:not(:first-child) td{
    -webkit-box-shadow:inset 1px 0 0 0 rgba(255, 255, 255, 0.15);
            box-shadow:inset 1px 0 0 0 rgba(255, 255, 255, 0.15); }
    .bp3-dark table.bp3-html-table.bp3-html-table-bordered.bp3-html-table-striped tbody tr:not(:first-child) td:first-child{
      -webkit-box-shadow:none;
              box-shadow:none; }
  .bp3-dark table.bp3-html-table.bp3-interactive tbody tr:hover td{
    background-color:rgba(92, 112, 128, 0.3);
    cursor:pointer; }
  .bp3-dark table.bp3-html-table.bp3-interactive tbody tr:active td{
    background-color:rgba(92, 112, 128, 0.4); }

.bp3-key-combo{
  display:-webkit-box;
  display:-ms-flexbox;
  display:flex;
  -webkit-box-orient:horizontal;
  -webkit-box-direction:normal;
      -ms-flex-direction:row;
          flex-direction:row;
  -webkit-box-align:center;
      -ms-flex-align:center;
          align-items:center; }
  .bp3-key-combo > *{
    -webkit-box-flex:0;
        -ms-flex-positive:0;
            flex-grow:0;
    -ms-flex-negative:0;
        flex-shrink:0; }
  .bp3-key-combo > .bp3-fill{
    -webkit-box-flex:1;
        -ms-flex-positive:1;
            flex-grow:1;
    -ms-flex-negative:1;
        flex-shrink:1; }
  .bp3-key-combo::before,
  .bp3-key-combo > *{
    margin-right:5px; }
  .bp3-key-combo:empty::before,
  .bp3-key-combo > :last-child{
    margin-right:0; }

.bp3-hotkey-dialog{
  padding-bottom:0;
  top:40px; }
  .bp3-hotkey-dialog .bp3-dialog-body{
    margin:0;
    padding:0; }
  .bp3-hotkey-dialog .bp3-hotkey-label{
    -webkit-box-flex:1;
        -ms-flex-positive:1;
            flex-grow:1; }

.bp3-hotkey-column{
  margin:auto;
  max-height:80vh;
  overflow-y:auto;
  padding:30px; }
  .bp3-hotkey-column .bp3-heading{
    margin-bottom:20px; }
    .bp3-hotkey-column .bp3-heading:not(:first-child){
      margin-top:40px; }

.bp3-hotkey{
  -webkit-box-align:center;
      -ms-flex-align:center;
          align-items:center;
  display:-webkit-box;
  display:-ms-flexbox;
  display:flex;
  -webkit-box-pack:justify;
      -ms-flex-pack:justify;
          justify-content:space-between;
  margin-left:0;
  margin-right:0; }
  .bp3-hotkey:not(:last-child){
    margin-bottom:10px; }
.bp3-icon{
  display:inline-block;
  -webkit-box-flex:0;
      -ms-flex:0 0 auto;
          flex:0 0 auto;
  vertical-align:text-bottom; }
  .bp3-icon:not(:empty)::before{
    content:"" !important;
    content:unset !important; }
  .bp3-icon > svg{
    display:block; }
    .bp3-icon > svg:not([fill]){
      fill:currentColor; }

.bp3-icon.bp3-intent-primary, .bp3-icon-standard.bp3-intent-primary, .bp3-icon-large.bp3-intent-primary{
  color:#106ba3; }
  .bp3-dark .bp3-icon.bp3-intent-primary, .bp3-dark .bp3-icon-standard.bp3-intent-primary, .bp3-dark .bp3-icon-large.bp3-intent-primary{
    color:#48aff0; }

.bp3-icon.bp3-intent-success, .bp3-icon-standard.bp3-intent-success, .bp3-icon-large.bp3-intent-success{
  color:#0d8050; }
  .bp3-dark .bp3-icon.bp3-intent-success, .bp3-dark .bp3-icon-standard.bp3-intent-success, .bp3-dark .bp3-icon-large.bp3-intent-success{
    color:#3dcc91; }

.bp3-icon.bp3-intent-warning, .bp3-icon-standard.bp3-intent-warning, .bp3-icon-large.bp3-intent-warning{
  color:#bf7326; }
  .bp3-dark .bp3-icon.bp3-intent-warning, .bp3-dark .bp3-icon-standard.bp3-intent-warning, .bp3-dark .bp3-icon-large.bp3-intent-warning{
    color:#ffb366; }

.bp3-icon.bp3-intent-danger, .bp3-icon-standard.bp3-intent-danger, .bp3-icon-large.bp3-intent-danger{
  color:#c23030; }
  .bp3-dark .bp3-icon.bp3-intent-danger, .bp3-dark .bp3-icon-standard.bp3-intent-danger, .bp3-dark .bp3-icon-large.bp3-intent-danger{
    color:#ff7373; }

span.bp3-icon-standard{
  font-family:"Icons16", sans-serif;
  font-size:16px;
  font-style:normal;
  font-weight:400;
  line-height:1;
  -moz-osx-font-smoothing:grayscale;
  -webkit-font-smoothing:antialiased;
  display:inline-block; }

span.bp3-icon-large{
  font-family:"Icons20", sans-serif;
  font-size:20px;
  font-style:normal;
  font-weight:400;
  line-height:1;
  -moz-osx-font-smoothing:grayscale;
  -webkit-font-smoothing:antialiased;
  display:inline-block; }

span.bp3-icon:empty{
  font-family:"Icons20";
  font-size:inherit;
  font-style:normal;
  font-weight:400;
  line-height:1; }
  span.bp3-icon:empty::before{
    -moz-osx-font-smoothing:grayscale;
    -webkit-font-smoothing:antialiased; }

.bp3-icon-add::before{
  content:""; }

.bp3-icon-add-column-left::before{
  content:""; }

.bp3-icon-add-column-right::before{
  content:""; }

.bp3-icon-add-row-bottom::before{
  content:""; }

.bp3-icon-add-row-top::before{
  content:""; }

.bp3-icon-add-to-artifact::before{
  content:""; }

.bp3-icon-add-to-folder::before{
  content:""; }

.bp3-icon-airplane::before{
  content:""; }

.bp3-icon-align-center::before{
  content:""; }

.bp3-icon-align-justify::before{
  content:""; }

.bp3-icon-align-left::before{
  content:""; }

.bp3-icon-align-right::before{
  content:""; }

.bp3-icon-alignment-bottom::before{
  content:""; }

.bp3-icon-alignment-horizontal-center::before{
  content:""; }

.bp3-icon-alignment-left::before{
  content:""; }

.bp3-icon-alignment-right::before{
  content:""; }

.bp3-icon-alignment-top::before{
  content:""; }

.bp3-icon-alignment-vertical-center::before{
  content:""; }

.bp3-icon-annotation::before{
  content:""; }

.bp3-icon-application::before{
  content:""; }

.bp3-icon-applications::before{
  content:""; }

.bp3-icon-archive::before{
  content:""; }

.bp3-icon-arrow-bottom-left::before{
  content:"↙"; }

.bp3-icon-arrow-bottom-right::before{
  content:"↘"; }

.bp3-icon-arrow-down::before{
  content:"↓"; }

.bp3-icon-arrow-left::before{
  content:"←"; }

.bp3-icon-arrow-right::before{
  content:"→"; }

.bp3-icon-arrow-top-left::before{
  content:"↖"; }

.bp3-icon-arrow-top-right::before{
  content:"↗"; }

.bp3-icon-arrow-up::before{
  content:"↑"; }

.bp3-icon-arrows-horizontal::before{
  content:"↔"; }

.bp3-icon-arrows-vertical::before{
  content:"↕"; }

.bp3-icon-asterisk::before{
  content:"*"; }

.bp3-icon-automatic-updates::before{
  content:""; }

.bp3-icon-badge::before{
  content:""; }

.bp3-icon-ban-circle::before{
  content:""; }

.bp3-icon-bank-account::before{
  content:""; }

.bp3-icon-barcode::before{
  content:""; }

.bp3-icon-blank::before{
  content:""; }

.bp3-icon-blocked-person::before{
  content:""; }

.bp3-icon-bold::before{
  content:""; }

.bp3-icon-book::before{
  content:""; }

.bp3-icon-bookmark::before{
  content:""; }

.bp3-icon-box::before{
  content:""; }

.bp3-icon-briefcase::before{
  content:""; }

.bp3-icon-bring-data::before{
  content:""; }

.bp3-icon-build::before{
  content:""; }

.bp3-icon-calculator::before{
  content:""; }

.bp3-icon-calendar::before{
  content:""; }

.bp3-icon-camera::before{
  content:""; }

.bp3-icon-caret-down::before{
  content:"⌄"; }

.bp3-icon-caret-left::before{
  content:"〈"; }

.bp3-icon-caret-right::before{
  content:"〉"; }

.bp3-icon-caret-up::before{
  content:"⌃"; }

.bp3-icon-cell-tower::before{
  content:""; }

.bp3-icon-changes::before{
  content:""; }

.bp3-icon-chart::before{
  content:""; }

.bp3-icon-chat::before{
  content:""; }

.bp3-icon-chevron-backward::before{
  content:""; }

.bp3-icon-chevron-down::before{
  content:""; }

.bp3-icon-chevron-forward::before{
  content:""; }

.bp3-icon-chevron-left::before{
  content:""; }

.bp3-icon-chevron-right::before{
  content:""; }

.bp3-icon-chevron-up::before{
  content:""; }

.bp3-icon-circle::before{
  content:""; }

.bp3-icon-circle-arrow-down::before{
  content:""; }

.bp3-icon-circle-arrow-left::before{
  content:""; }

.bp3-icon-circle-arrow-right::before{
  content:""; }

.bp3-icon-circle-arrow-up::before{
  content:""; }

.bp3-icon-citation::before{
  content:""; }

.bp3-icon-clean::before{
  content:""; }

.bp3-icon-clipboard::before{
  content:""; }

.bp3-icon-cloud::before{
  content:"☁"; }

.bp3-icon-cloud-download::before{
  content:""; }

.bp3-icon-cloud-upload::before{
  content:""; }

.bp3-icon-code::before{
  content:""; }

.bp3-icon-code-block::before{
  content:""; }

.bp3-icon-cog::before{
  content:""; }

.bp3-icon-collapse-all::before{
  content:""; }

.bp3-icon-column-layout::before{
  content:""; }

.bp3-icon-comment::before{
  content:""; }

.bp3-icon-comparison::before{
  content:""; }

.bp3-icon-compass::before{
  content:""; }

.bp3-icon-compressed::before{
  content:""; }

.bp3-icon-confirm::before{
  content:""; }

.bp3-icon-console::before{
  content:""; }

.bp3-icon-contrast::before{
  content:""; }

.bp3-icon-control::before{
  content:""; }

.bp3-icon-credit-card::before{
  content:""; }

.bp3-icon-cross::before{
  content:"✗"; }

.bp3-icon-crown::before{
  content:""; }

.bp3-icon-cube::before{
  content:""; }

.bp3-icon-cube-add::before{
  content:""; }

.bp3-icon-cube-remove::before{
  content:""; }

.bp3-icon-curved-range-chart::before{
  content:""; }

.bp3-icon-cut::before{
  content:""; }

.bp3-icon-dashboard::before{
  content:""; }

.bp3-icon-data-lineage::before{
  content:""; }

.bp3-icon-database::before{
  content:""; }

.bp3-icon-delete::before{
  content:""; }

.bp3-icon-delta::before{
  content:"Δ"; }

.bp3-icon-derive-column::before{
  content:""; }

.bp3-icon-desktop::before{
  content:""; }

.bp3-icon-diagnosis::before{
  content:""; }

.bp3-icon-diagram-tree::before{
  content:""; }

.bp3-icon-direction-left::before{
  content:""; }

.bp3-icon-direction-right::before{
  content:""; }

.bp3-icon-disable::before{
  content:""; }

.bp3-icon-document::before{
  content:""; }

.bp3-icon-document-open::before{
  content:""; }

.bp3-icon-document-share::before{
  content:""; }

.bp3-icon-dollar::before{
  content:"$"; }

.bp3-icon-dot::before{
  content:"•"; }

.bp3-icon-double-caret-horizontal::before{
  content:""; }

.bp3-icon-double-caret-vertical::before{
  content:""; }

.bp3-icon-double-chevron-down::before{
  content:""; }

.bp3-icon-double-chevron-left::before{
  content:""; }

.bp3-icon-double-chevron-right::before{
  content:""; }

.bp3-icon-double-chevron-up::before{
  content:""; }

.bp3-icon-doughnut-chart::before{
  content:""; }

.bp3-icon-download::before{
  content:""; }

.bp3-icon-drag-handle-horizontal::before{
  content:""; }

.bp3-icon-drag-handle-vertical::before{
  content:""; }

.bp3-icon-draw::before{
  content:""; }

.bp3-icon-drive-time::before{
  content:""; }

.bp3-icon-duplicate::before{
  content:""; }

.bp3-icon-edit::before{
  content:"✎"; }

.bp3-icon-eject::before{
  content:"⏏"; }

.bp3-icon-endorsed::before{
  content:""; }

.bp3-icon-envelope::before{
  content:"✉"; }

.bp3-icon-equals::before{
  content:""; }

.bp3-icon-eraser::before{
  content:""; }

.bp3-icon-error::before{
  content:""; }

.bp3-icon-euro::before{
  content:"€"; }

.bp3-icon-exchange::before{
  content:""; }

.bp3-icon-exclude-row::before{
  content:""; }

.bp3-icon-expand-all::before{
  content:""; }

.bp3-icon-export::before{
  content:""; }

.bp3-icon-eye-off::before{
  content:""; }

.bp3-icon-eye-on::before{
  content:""; }

.bp3-icon-eye-open::before{
  content:""; }

.bp3-icon-fast-backward::before{
  content:""; }

.bp3-icon-fast-forward::before{
  content:""; }

.bp3-icon-feed::before{
  content:""; }

.bp3-icon-feed-subscribed::before{
  content:""; }

.bp3-icon-film::before{
  content:""; }

.bp3-icon-filter::before{
  content:""; }

.bp3-icon-filter-keep::before{
  content:""; }

.bp3-icon-filter-list::before{
  content:""; }

.bp3-icon-filter-open::before{
  content:""; }

.bp3-icon-filter-remove::before{
  content:""; }

.bp3-icon-flag::before{
  content:"⚑"; }

.bp3-icon-flame::before{
  content:""; }

.bp3-icon-flash::before{
  content:""; }

.bp3-icon-floppy-disk::before{
  content:""; }

.bp3-icon-flow-branch::before{
  content:""; }

.bp3-icon-flow-end::before{
  content:""; }

.bp3-icon-flow-linear::before{
  content:""; }

.bp3-icon-flow-review::before{
  content:""; }

.bp3-icon-flow-review-branch::before{
  content:""; }

.bp3-icon-flows::before{
  content:""; }

.bp3-icon-folder-close::before{
  content:""; }

.bp3-icon-folder-new::before{
  content:""; }

.bp3-icon-folder-open::before{
  content:""; }

.bp3-icon-folder-shared::before{
  content:""; }

.bp3-icon-folder-shared-open::before{
  content:""; }

.bp3-icon-follower::before{
  content:""; }

.bp3-icon-following::before{
  content:""; }

.bp3-icon-font::before{
  content:""; }

.bp3-icon-fork::before{
  content:""; }

.bp3-icon-form::before{
  content:""; }

.bp3-icon-full-circle::before{
  content:""; }

.bp3-icon-full-stacked-chart::before{
  content:""; }

.bp3-icon-fullscreen::before{
  content:""; }

.bp3-icon-function::before{
  content:""; }

.bp3-icon-gantt-chart::before{
  content:""; }

.bp3-icon-geolocation::before{
  content:""; }

.bp3-icon-geosearch::before{
  content:""; }

.bp3-icon-git-branch::before{
  content:""; }

.bp3-icon-git-commit::before{
  content:""; }

.bp3-icon-git-merge::before{
  content:""; }

.bp3-icon-git-new-branch::before{
  content:""; }

.bp3-icon-git-pull::before{
  content:""; }

.bp3-icon-git-push::before{
  content:""; }

.bp3-icon-git-repo::before{
  content:""; }

.bp3-icon-glass::before{
  content:""; }

.bp3-icon-globe::before{
  content:""; }

.bp3-icon-globe-network::before{
  content:""; }

.bp3-icon-graph::before{
  content:""; }

.bp3-icon-graph-remove::before{
  content:""; }

.bp3-icon-greater-than::before{
  content:""; }

.bp3-icon-greater-than-or-equal-to::before{
  content:""; }

.bp3-icon-grid::before{
  content:""; }

.bp3-icon-grid-view::before{
  content:""; }

.bp3-icon-group-objects::before{
  content:""; }

.bp3-icon-grouped-bar-chart::before{
  content:""; }

.bp3-icon-hand::before{
  content:""; }

.bp3-icon-hand-down::before{
  content:""; }

.bp3-icon-hand-left::before{
  content:""; }

.bp3-icon-hand-right::before{
  content:""; }

.bp3-icon-hand-up::before{
  content:""; }

.bp3-icon-header::before{
  content:""; }

.bp3-icon-header-one::before{
  content:""; }

.bp3-icon-header-two::before{
  content:""; }

.bp3-icon-headset::before{
  content:""; }

.bp3-icon-heart::before{
  content:"♥"; }

.bp3-icon-heart-broken::before{
  content:""; }

.bp3-icon-heat-grid::before{
  content:""; }

.bp3-icon-heatmap::before{
  content:""; }

.bp3-icon-help::before{
  content:"?"; }

.bp3-icon-helper-management::before{
  content:""; }

.bp3-icon-highlight::before{
  content:""; }

.bp3-icon-history::before{
  content:""; }

.bp3-icon-home::before{
  content:"⌂"; }

.bp3-icon-horizontal-bar-chart::before{
  content:""; }

.bp3-icon-horizontal-bar-chart-asc::before{
  content:""; }

.bp3-icon-horizontal-bar-chart-desc::before{
  content:""; }

.bp3-icon-horizontal-distribution::before{
  content:""; }

.bp3-icon-id-number::before{
  content:""; }

.bp3-icon-image-rotate-left::before{
  content:""; }

.bp3-icon-image-rotate-right::before{
  content:""; }

.bp3-icon-import::before{
  content:""; }

.bp3-icon-inbox::before{
  content:""; }

.bp3-icon-inbox-filtered::before{
  content:""; }

.bp3-icon-inbox-geo::before{
  content:""; }

.bp3-icon-inbox-search::before{
  content:""; }

.bp3-icon-inbox-update::before{
  content:""; }

.bp3-icon-info-sign::before{
  content:"ℹ"; }

.bp3-icon-inheritance::before{
  content:""; }

.bp3-icon-inner-join::before{
  content:""; }

.bp3-icon-insert::before{
  content:""; }

.bp3-icon-intersection::before{
  content:""; }

.bp3-icon-ip-address::before{
  content:""; }

.bp3-icon-issue::before{
  content:""; }

.bp3-icon-issue-closed::before{
  content:""; }

.bp3-icon-issue-new::before{
  content:""; }

.bp3-icon-italic::before{
  content:""; }

.bp3-icon-join-table::before{
  content:""; }

.bp3-icon-key::before{
  content:""; }

.bp3-icon-key-backspace::before{
  content:""; }

.bp3-icon-key-command::before{
  content:""; }

.bp3-icon-key-control::before{
  content:""; }

.bp3-icon-key-delete::before{
  content:""; }

.bp3-icon-key-enter::before{
  content:""; }

.bp3-icon-key-escape::before{
  content:""; }

.bp3-icon-key-option::before{
  content:""; }

.bp3-icon-key-shift::before{
  content:""; }

.bp3-icon-key-tab::before{
  content:""; }

.bp3-icon-known-vehicle::before{
  content:""; }

.bp3-icon-lab-test::before{
  content:""; }

.bp3-icon-label::before{
  content:""; }

.bp3-icon-layer::before{
  content:""; }

.bp3-icon-layers::before{
  content:""; }

.bp3-icon-layout::before{
  content:""; }

.bp3-icon-layout-auto::before{
  content:""; }

.bp3-icon-layout-balloon::before{
  content:""; }

.bp3-icon-layout-circle::before{
  content:""; }

.bp3-icon-layout-grid::before{
  content:""; }

.bp3-icon-layout-group-by::before{
  content:""; }

.bp3-icon-layout-hierarchy::before{
  content:""; }

.bp3-icon-layout-linear::before{
  content:""; }

.bp3-icon-layout-skew-grid::before{
  content:""; }

.bp3-icon-layout-sorted-clusters::before{
  content:""; }

.bp3-icon-learning::before{
  content:""; }

.bp3-icon-left-join::before{
  content:""; }

.bp3-icon-less-than::before{
  content:""; }

.bp3-icon-less-than-or-equal-to::before{
  content:""; }

.bp3-icon-lifesaver::before{
  content:""; }

.bp3-icon-lightbulb::before{
  content:""; }

.bp3-icon-link::before{
  content:""; }

.bp3-icon-list::before{
  content:"☰"; }

.bp3-icon-list-columns::before{
  content:""; }

.bp3-icon-list-detail-view::before{
  content:""; }

.bp3-icon-locate::before{
  content:""; }

.bp3-icon-lock::before{
  content:""; }

.bp3-icon-log-in::before{
  content:""; }

.bp3-icon-log-out::before{
  content:""; }

.bp3-icon-manual::before{
  content:""; }

.bp3-icon-manually-entered-data::before{
  content:""; }

.bp3-icon-map::before{
  content:""; }

.bp3-icon-map-create::before{
  content:""; }

.bp3-icon-map-marker::before{
  content:""; }

.bp3-icon-maximize::before{
  content:""; }

.bp3-icon-media::before{
  content:""; }

.bp3-icon-menu::before{
  content:""; }

.bp3-icon-menu-closed::before{
  content:""; }

.bp3-icon-menu-open::before{
  content:""; }

.bp3-icon-merge-columns::before{
  content:""; }

.bp3-icon-merge-links::before{
  content:""; }

.bp3-icon-minimize::before{
  content:""; }

.bp3-icon-minus::before{
  content:"−"; }

.bp3-icon-mobile-phone::before{
  content:""; }

.bp3-icon-mobile-video::before{
  content:""; }

.bp3-icon-moon::before{
  content:""; }

.bp3-icon-more::before{
  content:""; }

.bp3-icon-mountain::before{
  content:""; }

.bp3-icon-move::before{
  content:""; }

.bp3-icon-mugshot::before{
  content:""; }

.bp3-icon-multi-select::before{
  content:""; }

.bp3-icon-music::before{
  content:""; }

.bp3-icon-new-drawing::before{
  content:""; }

.bp3-icon-new-grid-item::before{
  content:""; }

.bp3-icon-new-layer::before{
  content:""; }

.bp3-icon-new-layers::before{
  content:""; }

.bp3-icon-new-link::before{
  content:""; }

.bp3-icon-new-object::before{
  content:""; }

.bp3-icon-new-person::before{
  content:""; }

.bp3-icon-new-prescription::before{
  content:""; }

.bp3-icon-new-text-box::before{
  content:""; }

.bp3-icon-ninja::before{
  content:""; }

.bp3-icon-not-equal-to::before{
  content:""; }

.bp3-icon-notifications::before{
  content:""; }

.bp3-icon-notifications-updated::before{
  content:""; }

.bp3-icon-numbered-list::before{
  content:""; }

.bp3-icon-numerical::before{
  content:""; }

.bp3-icon-office::before{
  content:""; }

.bp3-icon-offline::before{
  content:""; }

.bp3-icon-oil-field::before{
  content:""; }

.bp3-icon-one-column::before{
  content:""; }

.bp3-icon-outdated::before{
  content:""; }

.bp3-icon-page-layout::before{
  content:""; }

.bp3-icon-panel-stats::before{
  content:""; }

.bp3-icon-panel-table::before{
  content:""; }

.bp3-icon-paperclip::before{
  content:""; }

.bp3-icon-paragraph::before{
  content:""; }

.bp3-icon-path::before{
  content:""; }

.bp3-icon-path-search::before{
  content:""; }

.bp3-icon-pause::before{
  content:""; }

.bp3-icon-people::before{
  content:""; }

.bp3-icon-percentage::before{
  content:""; }

.bp3-icon-person::before{
  content:""; }

.bp3-icon-phone::before{
  content:"☎"; }

.bp3-icon-pie-chart::before{
  content:""; }

.bp3-icon-pin::before{
  content:""; }

.bp3-icon-pivot::before{
  content:""; }

.bp3-icon-pivot-table::before{
  content:""; }

.bp3-icon-play::before{
  content:""; }

.bp3-icon-plus::before{
  content:"+"; }

.bp3-icon-polygon-filter::before{
  content:""; }

.bp3-icon-power::before{
  content:""; }

.bp3-icon-predictive-analysis::before{
  content:""; }

.bp3-icon-prescription::before{
  content:""; }

.bp3-icon-presentation::before{
  content:""; }

.bp3-icon-print::before{
  content:"⎙"; }

.bp3-icon-projects::before{
  content:""; }

.bp3-icon-properties::before{
  content:""; }

.bp3-icon-property::before{
  content:""; }

.bp3-icon-publish-function::before{
  content:""; }

.bp3-icon-pulse::before{
  content:""; }

.bp3-icon-random::before{
  content:""; }

.bp3-icon-record::before{
  content:""; }

.bp3-icon-redo::before{
  content:""; }

.bp3-icon-refresh::before{
  content:""; }

.bp3-icon-regression-chart::before{
  content:""; }

.bp3-icon-remove::before{
  content:""; }

.bp3-icon-remove-column::before{
  content:""; }

.bp3-icon-remove-column-left::before{
  content:""; }

.bp3-icon-remove-column-right::before{
  content:""; }

.bp3-icon-remove-row-bottom::before{
  content:""; }

.bp3-icon-remove-row-top::before{
  content:""; }

.bp3-icon-repeat::before{
  content:""; }

.bp3-icon-reset::before{
  content:""; }

.bp3-icon-resolve::before{
  content:""; }

.bp3-icon-rig::before{
  content:""; }

.bp3-icon-right-join::before{
  content:""; }

.bp3-icon-ring::before{
  content:""; }

.bp3-icon-rotate-document::before{
  content:""; }

.bp3-icon-rotate-page::before{
  content:""; }

.bp3-icon-satellite::before{
  content:""; }

.bp3-icon-saved::before{
  content:""; }

.bp3-icon-scatter-plot::before{
  content:""; }

.bp3-icon-search::before{
  content:""; }

.bp3-icon-search-around::before{
  content:""; }

.bp3-icon-search-template::before{
  content:""; }

.bp3-icon-search-text::before{
  content:""; }

.bp3-icon-segmented-control::before{
  content:""; }

.bp3-icon-select::before{
  content:""; }

.bp3-icon-selection::before{
  content:"⦿"; }

.bp3-icon-send-to::before{
  content:""; }

.bp3-icon-send-to-graph::before{
  content:""; }

.bp3-icon-send-to-map::before{
  content:""; }

.bp3-icon-series-add::before{
  content:""; }

.bp3-icon-series-configuration::before{
  content:""; }

.bp3-icon-series-derived::before{
  content:""; }

.bp3-icon-series-filtered::before{
  content:""; }

.bp3-icon-series-search::before{
  content:""; }

.bp3-icon-settings::before{
  content:""; }

.bp3-icon-share::before{
  content:""; }

.bp3-icon-shield::before{
  content:""; }

.bp3-icon-shop::before{
  content:""; }

.bp3-icon-shopping-cart::before{
  content:""; }

.bp3-icon-signal-search::before{
  content:""; }

.bp3-icon-sim-card::before{
  content:""; }

.bp3-icon-slash::before{
  content:""; }

.bp3-icon-small-cross::before{
  content:""; }

.bp3-icon-small-minus::before{
  content:""; }

.bp3-icon-small-plus::before{
  content:""; }

.bp3-icon-small-tick::before{
  content:""; }

.bp3-icon-snowflake::before{
  content:""; }

.bp3-icon-social-media::before{
  content:""; }

.bp3-icon-sort::before{
  content:""; }

.bp3-icon-sort-alphabetical::before{
  content:""; }

.bp3-icon-sort-alphabetical-desc::before{
  content:""; }

.bp3-icon-sort-asc::before{
  content:""; }

.bp3-icon-sort-desc::before{
  content:""; }

.bp3-icon-sort-numerical::before{
  content:""; }

.bp3-icon-sort-numerical-desc::before{
  content:""; }

.bp3-icon-split-columns::before{
  content:""; }

.bp3-icon-square::before{
  content:""; }

.bp3-icon-stacked-chart::before{
  content:""; }

.bp3-icon-star::before{
  content:"★"; }

.bp3-icon-star-empty::before{
  content:"☆"; }

.bp3-icon-step-backward::before{
  content:""; }

.bp3-icon-step-chart::before{
  content:""; }

.bp3-icon-step-forward::before{
  content:""; }

.bp3-icon-stop::before{
  content:""; }

.bp3-icon-stopwatch::before{
  content:""; }

.bp3-icon-strikethrough::before{
  content:""; }

.bp3-icon-style::before{
  content:""; }

.bp3-icon-swap-horizontal::before{
  content:""; }

.bp3-icon-swap-vertical::before{
  content:""; }

.bp3-icon-symbol-circle::before{
  content:""; }

.bp3-icon-symbol-cross::before{
  content:""; }

.bp3-icon-symbol-diamond::before{
  content:""; }

.bp3-icon-symbol-square::before{
  content:""; }

.bp3-icon-symbol-triangle-down::before{
  content:""; }

.bp3-icon-symbol-triangle-up::before{
  content:""; }

.bp3-icon-tag::before{
  content:""; }

.bp3-icon-take-action::before{
  content:""; }

.bp3-icon-taxi::before{
  content:""; }

.bp3-icon-text-highlight::before{
  content:""; }

.bp3-icon-th::before{
  content:""; }

.bp3-icon-th-derived::before{
  content:""; }

.bp3-icon-th-disconnect::before{
  content:""; }

.bp3-icon-th-filtered::before{
  content:""; }

.bp3-icon-th-list::before{
  content:""; }

.bp3-icon-thumbs-down::before{
  content:""; }

.bp3-icon-thumbs-up::before{
  content:""; }

.bp3-icon-tick::before{
  content:"✓"; }

.bp3-icon-tick-circle::before{
  content:""; }

.bp3-icon-time::before{
  content:"⏲"; }

.bp3-icon-timeline-area-chart::before{
  content:""; }

.bp3-icon-timeline-bar-chart::before{
  content:""; }

.bp3-icon-timeline-events::before{
  content:""; }

.bp3-icon-timeline-line-chart::before{
  content:""; }

.bp3-icon-tint::before{
  content:""; }

.bp3-icon-torch::before{
  content:""; }

.bp3-icon-tractor::before{
  content:""; }

.bp3-icon-train::before{
  content:""; }

.bp3-icon-translate::before{
  content:""; }

.bp3-icon-trash::before{
  content:""; }

.bp3-icon-tree::before{
  content:""; }

.bp3-icon-trending-down::before{
  content:""; }

.bp3-icon-trending-up::before{
  content:""; }

.bp3-icon-truck::before{
  content:""; }

.bp3-icon-two-columns::before{
  content:""; }

.bp3-icon-unarchive::before{
  content:""; }

.bp3-icon-underline::before{
  content:"⎁"; }

.bp3-icon-undo::before{
  content:"⎌"; }

.bp3-icon-ungroup-objects::before{
  content:""; }

.bp3-icon-unknown-vehicle::before{
  content:""; }

.bp3-icon-unlock::before{
  content:""; }

.bp3-icon-unpin::before{
  content:""; }

.bp3-icon-unresolve::before{
  content:""; }

.bp3-icon-updated::before{
  content:""; }

.bp3-icon-upload::before{
  content:""; }

.bp3-icon-user::before{
  content:""; }

.bp3-icon-variable::before{
  content:""; }

.bp3-icon-vertical-bar-chart-asc::before{
  content:""; }

.bp3-icon-vertical-bar-chart-desc::before{
  content:""; }

.bp3-icon-vertical-distribution::before{
  content:""; }

.bp3-icon-video::before{
  content:""; }

.bp3-icon-volume-down::before{
  content:""; }

.bp3-icon-volume-off::before{
  content:""; }

.bp3-icon-volume-up::before{
  content:""; }

.bp3-icon-walk::before{
  content:""; }

.bp3-icon-warning-sign::before{
  content:""; }

.bp3-icon-waterfall-chart::before{
  content:""; }

.bp3-icon-widget::before{
  content:""; }

.bp3-icon-widget-button::before{
  content:""; }

.bp3-icon-widget-footer::before{
  content:""; }

.bp3-icon-widget-header::before{
  content:""; }

.bp3-icon-wrench::before{
  content:""; }

.bp3-icon-zoom-in::before{
  content:""; }

.bp3-icon-zoom-out::before{
  content:""; }

.bp3-icon-zoom-to-fit::before{
  content:""; }
.bp3-submenu > .bp3-popover-wrapper{
  display:block; }

.bp3-submenu .bp3-popover-target{
  display:block; }
  .bp3-submenu .bp3-popover-target.bp3-popover-open > .bp3-menu-item{ }

.bp3-submenu.bp3-popover{
  -webkit-box-shadow:none;
          box-shadow:none;
  padding:0 5px; }
  .bp3-submenu.bp3-popover > .bp3-popover-content{
    -webkit-box-shadow:0 0 0 1px rgba(16, 22, 26, 0.1), 0 2px 4px rgba(16, 22, 26, 0.2), 0 8px 24px rgba(16, 22, 26, 0.2);
            box-shadow:0 0 0 1px rgba(16, 22, 26, 0.1), 0 2px 4px rgba(16, 22, 26, 0.2), 0 8px 24px rgba(16, 22, 26, 0.2); }
  .bp3-dark .bp3-submenu.bp3-popover, .bp3-submenu.bp3-popover.bp3-dark{
    -webkit-box-shadow:none;
            box-shadow:none; }
    .bp3-dark .bp3-submenu.bp3-popover > .bp3-popover-content, .bp3-submenu.bp3-popover.bp3-dark > .bp3-popover-content{
      -webkit-box-shadow:0 0 0 1px rgba(16, 22, 26, 0.2), 0 2px 4px rgba(16, 22, 26, 0.4), 0 8px 24px rgba(16, 22, 26, 0.4);
              box-shadow:0 0 0 1px rgba(16, 22, 26, 0.2), 0 2px 4px rgba(16, 22, 26, 0.4), 0 8px 24px rgba(16, 22, 26, 0.4); }
.bp3-menu{
  background:#ffffff;
  border-radius:3px;
  color:#182026;
  list-style:none;
  margin:0;
  min-width:180px;
  padding:5px;
  text-align:left; }

.bp3-menu-divider{
  border-top:1px solid rgba(16, 22, 26, 0.15);
  display:block;
  margin:5px; }
  .bp3-dark .bp3-menu-divider{
    border-top-color:rgba(255, 255, 255, 0.15); }

.bp3-menu-item{
  display:-webkit-box;
  display:-ms-flexbox;
  display:flex;
  -webkit-box-orient:horizontal;
  -webkit-box-direction:normal;
      -ms-flex-direction:row;
          flex-direction:row;
  -webkit-box-align:start;
      -ms-flex-align:start;
          align-items:flex-start;
  border-radius:2px;
  color:inherit;
  line-height:20px;
  padding:5px 7px;
  text-decoration:none;
  -webkit-user-select:none;
     -moz-user-select:none;
      -ms-user-select:none;
          user-select:none; }
  .bp3-menu-item > *{
    -webkit-box-flex:0;
        -ms-flex-positive:0;
            flex-grow:0;
    -ms-flex-negative:0;
        flex-shrink:0; }
  .bp3-menu-item > .bp3-fill{
    -webkit-box-flex:1;
        -ms-flex-positive:1;
            flex-grow:1;
    -ms-flex-negative:1;
        flex-shrink:1; }
  .bp3-menu-item::before,
  .bp3-menu-item > *{
    margin-right:7px; }
  .bp3-menu-item:empty::before,
  .bp3-menu-item > :last-child{
    margin-right:0; }
  .bp3-menu-item > .bp3-fill{
    word-break:break-word; }
  .bp3-menu-item:hover, .bp3-submenu .bp3-popover-target.bp3-popover-open > .bp3-menu-item{
    background-color:rgba(167, 182, 194, 0.3);
    cursor:pointer;
    text-decoration:none; }
  .bp3-menu-item.bp3-disabled{
    background-color:inherit;
    color:rgba(92, 112, 128, 0.6);
    cursor:not-allowed; }
  .bp3-dark .bp3-menu-item{
    color:inherit; }
    .bp3-dark .bp3-menu-item:hover, .bp3-dark .bp3-submenu .bp3-popover-target.bp3-popover-open > .bp3-menu-item, .bp3-submenu .bp3-dark .bp3-popover-target.bp3-popover-open > .bp3-menu-item{
      background-color:rgba(138, 155, 168, 0.15);
      color:inherit; }
    .bp3-dark .bp3-menu-item.bp3-disabled{
      background-color:inherit;
      color:rgba(167, 182, 194, 0.6); }
  .bp3-menu-item.bp3-intent-primary{
    color:#106ba3; }
    .bp3-menu-item.bp3-intent-primary .bp3-icon{
      color:inherit; }
    .bp3-menu-item.bp3-intent-primary::before, .bp3-menu-item.bp3-intent-primary::after,
    .bp3-menu-item.bp3-intent-primary .bp3-menu-item-label{
      color:#106ba3; }
    .bp3-menu-item.bp3-intent-primary:hover, .bp3-submenu .bp3-popover-target.bp3-popover-open > .bp3-intent-primary.bp3-menu-item, .bp3-menu-item.bp3-intent-primary.bp3-active{
      background-color:#137cbd; }
    .bp3-menu-item.bp3-intent-primary:active{
      background-color:#106ba3; }
    .bp3-menu-item.bp3-intent-primary:hover, .bp3-submenu .bp3-popover-target.bp3-popover-open > .bp3-intent-primary.bp3-menu-item, .bp3-menu-item.bp3-intent-primary:hover::before, .bp3-submenu .bp3-popover-target.bp3-popover-open > .bp3-intent-primary.bp3-menu-item::before, .bp3-menu-item.bp3-intent-primary:hover::after, .bp3-submenu .bp3-popover-target.bp3-popover-open > .bp3-intent-primary.bp3-menu-item::after,
    .bp3-menu-item.bp3-intent-primary:hover .bp3-menu-item-label,
    .bp3-submenu .bp3-popover-target.bp3-popover-open > .bp3-intent-primary.bp3-menu-item .bp3-menu-item-label, .bp3-menu-item.bp3-intent-primary:active, .bp3-menu-item.bp3-intent-primary:active::before, .bp3-menu-item.bp3-intent-primary:active::after,
    .bp3-menu-item.bp3-intent-primary:active .bp3-menu-item-label, .bp3-menu-item.bp3-intent-primary.bp3-active, .bp3-menu-item.bp3-intent-primary.bp3-active::before, .bp3-menu-item.bp3-intent-primary.bp3-active::after,
    .bp3-menu-item.bp3-intent-primary.bp3-active .bp3-menu-item-label{
      color:#ffffff; }
  .bp3-menu-item.bp3-intent-success{
    color:#0d8050; }
    .bp3-menu-item.bp3-intent-success .bp3-icon{
      color:inherit; }
    .bp3-menu-item.bp3-intent-success::before, .bp3-menu-item.bp3-intent-success::after,
    .bp3-menu-item.bp3-intent-success .bp3-menu-item-label{
      color:#0d8050; }
    .bp3-menu-item.bp3-intent-success:hover, .bp3-submenu .bp3-popover-target.bp3-popover-open > .bp3-intent-success.bp3-menu-item, .bp3-menu-item.bp3-intent-success.bp3-active{
      background-color:#0f9960; }
    .bp3-menu-item.bp3-intent-success:active{
      background-color:#0d8050; }
    .bp3-menu-item.bp3-intent-success:hover, .bp3-submenu .bp3-popover-target.bp3-popover-open > .bp3-intent-success.bp3-menu-item, .bp3-menu-item.bp3-intent-success:hover::before, .bp3-submenu .bp3-popover-target.bp3-popover-open > .bp3-intent-success.bp3-menu-item::before, .bp3-menu-item.bp3-intent-success:hover::after, .bp3-submenu .bp3-popover-target.bp3-popover-open > .bp3-intent-success.bp3-menu-item::after,
    .bp3-menu-item.bp3-intent-success:hover .bp3-menu-item-label,
    .bp3-submenu .bp3-popover-target.bp3-popover-open > .bp3-intent-success.bp3-menu-item .bp3-menu-item-label, .bp3-menu-item.bp3-intent-success:active, .bp3-menu-item.bp3-intent-success:active::before, .bp3-menu-item.bp3-intent-success:active::after,
    .bp3-menu-item.bp3-intent-success:active .bp3-menu-item-label, .bp3-menu-item.bp3-intent-success.bp3-active, .bp3-menu-item.bp3-intent-success.bp3-active::before, .bp3-menu-item.bp3-intent-success.bp3-active::after,
    .bp3-menu-item.bp3-intent-success.bp3-active .bp3-menu-item-label{
      color:#ffffff; }
  .bp3-menu-item.bp3-intent-warning{
    color:#bf7326; }
    .bp3-menu-item.bp3-intent-warning .bp3-icon{
      color:inherit; }
    .bp3-menu-item.bp3-intent-warning::before, .bp3-menu-item.bp3-intent-warning::after,
    .bp3-menu-item.bp3-intent-warning .bp3-menu-item-label{
      color:#bf7326; }
    .bp3-menu-item.bp3-intent-warning:hover, .bp3-submenu .bp3-popover-target.bp3-popover-open > .bp3-intent-warning.bp3-menu-item, .bp3-menu-item.bp3-intent-warning.bp3-active{
      background-color:#d9822b; }
    .bp3-menu-item.bp3-intent-warning:active{
      background-color:#bf7326; }
    .bp3-menu-item.bp3-intent-warning:hover, .bp3-submenu .bp3-popover-target.bp3-popover-open > .bp3-intent-warning.bp3-menu-item, .bp3-menu-item.bp3-intent-warning:hover::before, .bp3-submenu .bp3-popover-target.bp3-popover-open > .bp3-intent-warning.bp3-menu-item::before, .bp3-menu-item.bp3-intent-warning:hover::after, .bp3-submenu .bp3-popover-target.bp3-popover-open > .bp3-intent-warning.bp3-menu-item::after,
    .bp3-menu-item.bp3-intent-warning:hover .bp3-menu-item-label,
    .bp3-submenu .bp3-popover-target.bp3-popover-open > .bp3-intent-warning.bp3-menu-item .bp3-menu-item-label, .bp3-menu-item.bp3-intent-warning:active, .bp3-menu-item.bp3-intent-warning:active::before, .bp3-menu-item.bp3-intent-warning:active::after,
    .bp3-menu-item.bp3-intent-warning:active .bp3-menu-item-label, .bp3-menu-item.bp3-intent-warning.bp3-active, .bp3-menu-item.bp3-intent-warning.bp3-active::before, .bp3-menu-item.bp3-intent-warning.bp3-active::after,
    .bp3-menu-item.bp3-intent-warning.bp3-active .bp3-menu-item-label{
      color:#ffffff; }
  .bp3-menu-item.bp3-intent-danger{
    color:#c23030; }
    .bp3-menu-item.bp3-intent-danger .bp3-icon{
      color:inherit; }
    .bp3-menu-item.bp3-intent-danger::before, .bp3-menu-item.bp3-intent-danger::after,
    .bp3-menu-item.bp3-intent-danger .bp3-menu-item-label{
      color:#c23030; }
    .bp3-menu-item.bp3-intent-danger:hover, .bp3-submenu .bp3-popover-target.bp3-popover-open > .bp3-intent-danger.bp3-menu-item, .bp3-menu-item.bp3-intent-danger.bp3-active{
      background-color:#db3737; }
    .bp3-menu-item.bp3-intent-danger:active{
      background-color:#c23030; }
    .bp3-menu-item.bp3-intent-danger:hover, .bp3-submenu .bp3-popover-target.bp3-popover-open > .bp3-intent-danger.bp3-menu-item, .bp3-menu-item.bp3-intent-danger:hover::before, .bp3-submenu .bp3-popover-target.bp3-popover-open > .bp3-intent-danger.bp3-menu-item::before, .bp3-menu-item.bp3-intent-danger:hover::after, .bp3-submenu .bp3-popover-target.bp3-popover-open > .bp3-intent-danger.bp3-menu-item::after,
    .bp3-menu-item.bp3-intent-danger:hover .bp3-menu-item-label,
    .bp3-submenu .bp3-popover-target.bp3-popover-open > .bp3-intent-danger.bp3-menu-item .bp3-menu-item-label, .bp3-menu-item.bp3-intent-danger:active, .bp3-menu-item.bp3-intent-danger:active::before, .bp3-menu-item.bp3-intent-danger:active::after,
    .bp3-menu-item.bp3-intent-danger:active .bp3-menu-item-label, .bp3-menu-item.bp3-intent-danger.bp3-active, .bp3-menu-item.bp3-intent-danger.bp3-active::before, .bp3-menu-item.bp3-intent-danger.bp3-active::after,
    .bp3-menu-item.bp3-intent-danger.bp3-active .bp3-menu-item-label{
      color:#ffffff; }
  .bp3-menu-item::before{
    font-family:"Icons16", sans-serif;
    font-size:16px;
    font-style:normal;
    font-weight:400;
    line-height:1;
    -moz-osx-font-smoothing:grayscale;
    -webkit-font-smoothing:antialiased;
    margin-right:7px; }
  .bp3-menu-item::before,
  .bp3-menu-item > .bp3-icon{
    color:#5c7080;
    margin-top:2px; }
  .bp3-menu-item .bp3-menu-item-label{
    color:#5c7080; }
  .bp3-menu-item:hover, .bp3-submenu .bp3-popover-target.bp3-popover-open > .bp3-menu-item{
    color:inherit; }
  .bp3-menu-item.bp3-active, .bp3-menu-item:active{
    background-color:rgba(115, 134, 148, 0.3); }
  .bp3-menu-item.bp3-disabled{
    background-color:inherit !important;
    color:rgba(92, 112, 128, 0.6) !important;
    cursor:not-allowed !important;
    outline:none !important; }
    .bp3-menu-item.bp3-disabled::before,
    .bp3-menu-item.bp3-disabled > .bp3-icon,
    .bp3-menu-item.bp3-disabled .bp3-menu-item-label{
      color:rgba(92, 112, 128, 0.6) !important; }
  .bp3-large .bp3-menu-item{
    font-size:16px;
    line-height:22px;
    padding:9px 7px; }
    .bp3-large .bp3-menu-item .bp3-icon{
      margin-top:3px; }
    .bp3-large .bp3-menu-item::before{
      font-family:"Icons20", sans-serif;
      font-size:20px;
      font-style:normal;
      font-weight:400;
      line-height:1;
      -moz-osx-font-smoothing:grayscale;
      -webkit-font-smoothing:antialiased;
      margin-right:10px;
      margin-top:1px; }

button.bp3-menu-item{
  background:none;
  border:none;
  text-align:left;
  width:100%; }
.bp3-menu-header{
  border-top:1px solid rgba(16, 22, 26, 0.15);
  display:block;
  margin:5px;
  cursor:default;
  padding-left:2px; }
  .bp3-dark .bp3-menu-header{
    border-top-color:rgba(255, 255, 255, 0.15); }
  .bp3-menu-header:first-of-type{
    border-top:none; }
  .bp3-menu-header > h6{
    color:#182026;
    font-weight:600;
    overflow:hidden;
    text-overflow:ellipsis;
    white-space:nowrap;
    word-wrap:normal;
    line-height:17px;
    margin:0;
    padding:10px 7px 0 1px; }
    .bp3-dark .bp3-menu-header > h6{
      color:#f5f8fa; }
  .bp3-menu-header:first-of-type > h6{
    padding-top:0; }
  .bp3-large .bp3-menu-header > h6{
    font-size:18px;
    padding-bottom:5px;
    padding-top:15px; }
  .bp3-large .bp3-menu-header:first-of-type > h6{
    padding-top:0; }

.bp3-dark .bp3-menu{
  background:#30404d;
  color:#f5f8fa; }

.bp3-dark .bp3-menu-item{ }
  .bp3-dark .bp3-menu-item.bp3-intent-primary{
    color:#48aff0; }
    .bp3-dark .bp3-menu-item.bp3-intent-primary .bp3-icon{
      color:inherit; }
    .bp3-dark .bp3-menu-item.bp3-intent-primary::before, .bp3-dark .bp3-menu-item.bp3-intent-primary::after,
    .bp3-dark .bp3-menu-item.bp3-intent-primary .bp3-menu-item-label{
      color:#48aff0; }
    .bp3-dark .bp3-menu-item.bp3-intent-primary:hover, .bp3-dark .bp3-submenu .bp3-popover-target.bp3-popover-open > .bp3-intent-primary.bp3-menu-item, .bp3-submenu .bp3-dark .bp3-popover-target.bp3-popover-open > .bp3-intent-primary.bp3-menu-item, .bp3-dark .bp3-menu-item.bp3-intent-primary.bp3-active{
      background-color:#137cbd; }
    .bp3-dark .bp3-menu-item.bp3-intent-primary:active{
      background-color:#106ba3; }
    .bp3-dark .bp3-menu-item.bp3-intent-primary:hover, .bp3-dark .bp3-submenu .bp3-popover-target.bp3-popover-open > .bp3-intent-primary.bp3-menu-item, .bp3-submenu .bp3-dark .bp3-popover-target.bp3-popover-open > .bp3-intent-primary.bp3-menu-item, .bp3-dark .bp3-menu-item.bp3-intent-primary:hover::before, .bp3-dark .bp3-submenu .bp3-popover-target.bp3-popover-open > .bp3-intent-primary.bp3-menu-item::before, .bp3-submenu .bp3-dark .bp3-popover-target.bp3-popover-open > .bp3-intent-primary.bp3-menu-item::before, .bp3-dark .bp3-menu-item.bp3-intent-primary:hover::after, .bp3-dark .bp3-submenu .bp3-popover-target.bp3-popover-open > .bp3-intent-primary.bp3-menu-item::after, .bp3-submenu .bp3-dark .bp3-popover-target.bp3-popover-open > .bp3-intent-primary.bp3-menu-item::after,
    .bp3-dark .bp3-menu-item.bp3-intent-primary:hover .bp3-menu-item-label,
    .bp3-dark .bp3-submenu .bp3-popover-target.bp3-popover-open > .bp3-intent-primary.bp3-menu-item .bp3-menu-item-label,
    .bp3-submenu .bp3-dark .bp3-popover-target.bp3-popover-open > .bp3-intent-primary.bp3-menu-item .bp3-menu-item-label, .bp3-dark .bp3-menu-item.bp3-intent-primary:active, .bp3-dark .bp3-menu-item.bp3-intent-primary:active::before, .bp3-dark .bp3-menu-item.bp3-intent-primary:active::after,
    .bp3-dark .bp3-menu-item.bp3-intent-primary:active .bp3-menu-item-label, .bp3-dark .bp3-menu-item.bp3-intent-primary.bp3-active, .bp3-dark .bp3-menu-item.bp3-intent-primary.bp3-active::before, .bp3-dark .bp3-menu-item.bp3-intent-primary.bp3-active::after,
    .bp3-dark .bp3-menu-item.bp3-intent-primary.bp3-active .bp3-menu-item-label{
      color:#ffffff; }
  .bp3-dark .bp3-menu-item.bp3-intent-success{
    color:#3dcc91; }
    .bp3-dark .bp3-menu-item.bp3-intent-success .bp3-icon{
      color:inherit; }
    .bp3-dark .bp3-menu-item.bp3-intent-success::before, .bp3-dark .bp3-menu-item.bp3-intent-success::after,
    .bp3-dark .bp3-menu-item.bp3-intent-success .bp3-menu-item-label{
      color:#3dcc91; }
    .bp3-dark .bp3-menu-item.bp3-intent-success:hover, .bp3-dark .bp3-submenu .bp3-popover-target.bp3-popover-open > .bp3-intent-success.bp3-menu-item, .bp3-submenu .bp3-dark .bp3-popover-target.bp3-popover-open > .bp3-intent-success.bp3-menu-item, .bp3-dark .bp3-menu-item.bp3-intent-success.bp3-active{
      background-color:#0f9960; }
    .bp3-dark .bp3-menu-item.bp3-intent-success:active{
      background-color:#0d8050; }
    .bp3-dark .bp3-menu-item.bp3-intent-success:hover, .bp3-dark .bp3-submenu .bp3-popover-target.bp3-popover-open > .bp3-intent-success.bp3-menu-item, .bp3-submenu .bp3-dark .bp3-popover-target.bp3-popover-open > .bp3-intent-success.bp3-menu-item, .bp3-dark .bp3-menu-item.bp3-intent-success:hover::before, .bp3-dark .bp3-submenu .bp3-popover-target.bp3-popover-open > .bp3-intent-success.bp3-menu-item::before, .bp3-submenu .bp3-dark .bp3-popover-target.bp3-popover-open > .bp3-intent-success.bp3-menu-item::before, .bp3-dark .bp3-menu-item.bp3-intent-success:hover::after, .bp3-dark .bp3-submenu .bp3-popover-target.bp3-popover-open > .bp3-intent-success.bp3-menu-item::after, .bp3-submenu .bp3-dark .bp3-popover-target.bp3-popover-open > .bp3-intent-success.bp3-menu-item::after,
    .bp3-dark .bp3-menu-item.bp3-intent-success:hover .bp3-menu-item-label,
    .bp3-dark .bp3-submenu .bp3-popover-target.bp3-popover-open > .bp3-intent-success.bp3-menu-item .bp3-menu-item-label,
    .bp3-submenu .bp3-dark .bp3-popover-target.bp3-popover-open > .bp3-intent-success.bp3-menu-item .bp3-menu-item-label, .bp3-dark .bp3-menu-item.bp3-intent-success:active, .bp3-dark .bp3-menu-item.bp3-intent-success:active::before, .bp3-dark .bp3-menu-item.bp3-intent-success:active::after,
    .bp3-dark .bp3-menu-item.bp3-intent-success:active .bp3-menu-item-label, .bp3-dark .bp3-menu-item.bp3-intent-success.bp3-active, .bp3-dark .bp3-menu-item.bp3-intent-success.bp3-active::before, .bp3-dark .bp3-menu-item.bp3-intent-success.bp3-active::after,
    .bp3-dark .bp3-menu-item.bp3-intent-success.bp3-active .bp3-menu-item-label{
      color:#ffffff; }
  .bp3-dark .bp3-menu-item.bp3-intent-warning{
    color:#ffb366; }
    .bp3-dark .bp3-menu-item.bp3-intent-warning .bp3-icon{
      color:inherit; }
    .bp3-dark .bp3-menu-item.bp3-intent-warning::before, .bp3-dark .bp3-menu-item.bp3-intent-warning::after,
    .bp3-dark .bp3-menu-item.bp3-intent-warning .bp3-menu-item-label{
      color:#ffb366; }
    .bp3-dark .bp3-menu-item.bp3-intent-warning:hover, .bp3-dark .bp3-submenu .bp3-popover-target.bp3-popover-open > .bp3-intent-warning.bp3-menu-item, .bp3-submenu .bp3-dark .bp3-popover-target.bp3-popover-open > .bp3-intent-warning.bp3-menu-item, .bp3-dark .bp3-menu-item.bp3-intent-warning.bp3-active{
      background-color:#d9822b; }
    .bp3-dark .bp3-menu-item.bp3-intent-warning:active{
      background-color:#bf7326; }
    .bp3-dark .bp3-menu-item.bp3-intent-warning:hover, .bp3-dark .bp3-submenu .bp3-popover-target.bp3-popover-open > .bp3-intent-warning.bp3-menu-item, .bp3-submenu .bp3-dark .bp3-popover-target.bp3-popover-open > .bp3-intent-warning.bp3-menu-item, .bp3-dark .bp3-menu-item.bp3-intent-warning:hover::before, .bp3-dark .bp3-submenu .bp3-popover-target.bp3-popover-open > .bp3-intent-warning.bp3-menu-item::before, .bp3-submenu .bp3-dark .bp3-popover-target.bp3-popover-open > .bp3-intent-warning.bp3-menu-item::before, .bp3-dark .bp3-menu-item.bp3-intent-warning:hover::after, .bp3-dark .bp3-submenu .bp3-popover-target.bp3-popover-open > .bp3-intent-warning.bp3-menu-item::after, .bp3-submenu .bp3-dark .bp3-popover-target.bp3-popover-open > .bp3-intent-warning.bp3-menu-item::after,
    .bp3-dark .bp3-menu-item.bp3-intent-warning:hover .bp3-menu-item-label,
    .bp3-dark .bp3-submenu .bp3-popover-target.bp3-popover-open > .bp3-intent-warning.bp3-menu-item .bp3-menu-item-label,
    .bp3-submenu .bp3-dark .bp3-popover-target.bp3-popover-open > .bp3-intent-warning.bp3-menu-item .bp3-menu-item-label, .bp3-dark .bp3-menu-item.bp3-intent-warning:active, .bp3-dark .bp3-menu-item.bp3-intent-warning:active::before, .bp3-dark .bp3-menu-item.bp3-intent-warning:active::after,
    .bp3-dark .bp3-menu-item.bp3-intent-warning:active .bp3-menu-item-label, .bp3-dark .bp3-menu-item.bp3-intent-warning.bp3-active, .bp3-dark .bp3-menu-item.bp3-intent-warning.bp3-active::before, .bp3-dark .bp3-menu-item.bp3-intent-warning.bp3-active::after,
    .bp3-dark .bp3-menu-item.bp3-intent-warning.bp3-active .bp3-menu-item-label{
      color:#ffffff; }
  .bp3-dark .bp3-menu-item.bp3-intent-danger{
    color:#ff7373; }
    .bp3-dark .bp3-menu-item.bp3-intent-danger .bp3-icon{
      color:inherit; }
    .bp3-dark .bp3-menu-item.bp3-intent-danger::before, .bp3-dark .bp3-menu-item.bp3-intent-danger::after,
    .bp3-dark .bp3-menu-item.bp3-intent-danger .bp3-menu-item-label{
      color:#ff7373; }
    .bp3-dark .bp3-menu-item.bp3-intent-danger:hover, .bp3-dark .bp3-submenu .bp3-popover-target.bp3-popover-open > .bp3-intent-danger.bp3-menu-item, .bp3-submenu .bp3-dark .bp3-popover-target.bp3-popover-open > .bp3-intent-danger.bp3-menu-item, .bp3-dark .bp3-menu-item.bp3-intent-danger.bp3-active{
      background-color:#db3737; }
    .bp3-dark .bp3-menu-item.bp3-intent-danger:active{
      background-color:#c23030; }
    .bp3-dark .bp3-menu-item.bp3-intent-danger:hover, .bp3-dark .bp3-submenu .bp3-popover-target.bp3-popover-open > .bp3-intent-danger.bp3-menu-item, .bp3-submenu .bp3-dark .bp3-popover-target.bp3-popover-open > .bp3-intent-danger.bp3-menu-item, .bp3-dark .bp3-menu-item.bp3-intent-danger:hover::before, .bp3-dark .bp3-submenu .bp3-popover-target.bp3-popover-open > .bp3-intent-danger.bp3-menu-item::before, .bp3-submenu .bp3-dark .bp3-popover-target.bp3-popover-open > .bp3-intent-danger.bp3-menu-item::before, .bp3-dark .bp3-menu-item.bp3-intent-danger:hover::after, .bp3-dark .bp3-submenu .bp3-popover-target.bp3-popover-open > .bp3-intent-danger.bp3-menu-item::after, .bp3-submenu .bp3-dark .bp3-popover-target.bp3-popover-open > .bp3-intent-danger.bp3-menu-item::after,
    .bp3-dark .bp3-menu-item.bp3-intent-danger:hover .bp3-menu-item-label,
    .bp3-dark .bp3-submenu .bp3-popover-target.bp3-popover-open > .bp3-intent-danger.bp3-menu-item .bp3-menu-item-label,
    .bp3-submenu .bp3-dark .bp3-popover-target.bp3-popover-open > .bp3-intent-danger.bp3-menu-item .bp3-menu-item-label, .bp3-dark .bp3-menu-item.bp3-intent-danger:active, .bp3-dark .bp3-menu-item.bp3-intent-danger:active::before, .bp3-dark .bp3-menu-item.bp3-intent-danger:active::after,
    .bp3-dark .bp3-menu-item.bp3-intent-danger:active .bp3-menu-item-label, .bp3-dark .bp3-menu-item.bp3-intent-danger.bp3-active, .bp3-dark .bp3-menu-item.bp3-intent-danger.bp3-active::before, .bp3-dark .bp3-menu-item.bp3-intent-danger.bp3-active::after,
    .bp3-dark .bp3-menu-item.bp3-intent-danger.bp3-active .bp3-menu-item-label{
      color:#ffffff; }
  .bp3-dark .bp3-menu-item::before,
  .bp3-dark .bp3-menu-item > .bp3-icon{
    color:#a7b6c2; }
  .bp3-dark .bp3-menu-item .bp3-menu-item-label{
    color:#a7b6c2; }
  .bp3-dark .bp3-menu-item.bp3-active, .bp3-dark .bp3-menu-item:active{
    background-color:rgba(138, 155, 168, 0.3); }
  .bp3-dark .bp3-menu-item.bp3-disabled{
    color:rgba(167, 182, 194, 0.6) !important; }
    .bp3-dark .bp3-menu-item.bp3-disabled::before,
    .bp3-dark .bp3-menu-item.bp3-disabled > .bp3-icon,
    .bp3-dark .bp3-menu-item.bp3-disabled .bp3-menu-item-label{
      color:rgba(167, 182, 194, 0.6) !important; }

.bp3-dark .bp3-menu-divider,
.bp3-dark .bp3-menu-header{
  border-color:rgba(255, 255, 255, 0.15); }

.bp3-dark .bp3-menu-header > h6{
  color:#f5f8fa; }

.bp3-label .bp3-menu{
  margin-top:5px; }
.bp3-navbar{
  background-color:#ffffff;
  -webkit-box-shadow:0 0 0 1px rgba(16, 22, 26, 0.1), 0 0 0 rgba(16, 22, 26, 0), 0 1px 1px rgba(16, 22, 26, 0.2);
          box-shadow:0 0 0 1px rgba(16, 22, 26, 0.1), 0 0 0 rgba(16, 22, 26, 0), 0 1px 1px rgba(16, 22, 26, 0.2);
  height:50px;
  padding:0 15px;
  position:relative;
  width:100%;
  z-index:10; }
  .bp3-navbar.bp3-dark,
  .bp3-dark .bp3-navbar{
    background-color:#394b59; }
  .bp3-navbar.bp3-dark{
    -webkit-box-shadow:inset 0 0 0 1px rgba(16, 22, 26, 0.2), 0 0 0 rgba(16, 22, 26, 0), 0 1px 1px rgba(16, 22, 26, 0.4);
            box-shadow:inset 0 0 0 1px rgba(16, 22, 26, 0.2), 0 0 0 rgba(16, 22, 26, 0), 0 1px 1px rgba(16, 22, 26, 0.4); }
  .bp3-dark .bp3-navbar{
    -webkit-box-shadow:0 0 0 1px rgba(16, 22, 26, 0.2), 0 0 0 rgba(16, 22, 26, 0), 0 1px 1px rgba(16, 22, 26, 0.4);
            box-shadow:0 0 0 1px rgba(16, 22, 26, 0.2), 0 0 0 rgba(16, 22, 26, 0), 0 1px 1px rgba(16, 22, 26, 0.4); }
  .bp3-navbar.bp3-fixed-top{
    left:0;
    position:fixed;
    right:0;
    top:0; }

.bp3-navbar-heading{
  font-size:16px;
  margin-right:15px; }

.bp3-navbar-group{
  -webkit-box-align:center;
      -ms-flex-align:center;
          align-items:center;
  display:-webkit-box;
  display:-ms-flexbox;
  display:flex;
  height:50px; }
  .bp3-navbar-group.bp3-align-left{
    float:left; }
  .bp3-navbar-group.bp3-align-right{
    float:right; }

.bp3-navbar-divider{
  border-left:1px solid rgba(16, 22, 26, 0.15);
  height:20px;
  margin:0 10px; }
  .bp3-dark .bp3-navbar-divider{
    border-left-color:rgba(255, 255, 255, 0.15); }
.bp3-non-ideal-state{
  display:-webkit-box;
  display:-ms-flexbox;
  display:flex;
  -webkit-box-orient:vertical;
  -webkit-box-direction:normal;
      -ms-flex-direction:column;
          flex-direction:column;
  -webkit-box-align:center;
      -ms-flex-align:center;
          align-items:center;
  height:100%;
  -webkit-box-pack:center;
      -ms-flex-pack:center;
          justify-content:center;
  text-align:center;
  width:100%; }
  .bp3-non-ideal-state > *{
    -webkit-box-flex:0;
        -ms-flex-positive:0;
            flex-grow:0;
    -ms-flex-negative:0;
        flex-shrink:0; }
  .bp3-non-ideal-state > .bp3-fill{
    -webkit-box-flex:1;
        -ms-flex-positive:1;
            flex-grow:1;
    -ms-flex-negative:1;
        flex-shrink:1; }
  .bp3-non-ideal-state::before,
  .bp3-non-ideal-state > *{
    margin-bottom:20px; }
  .bp3-non-ideal-state:empty::before,
  .bp3-non-ideal-state > :last-child{
    margin-bottom:0; }
  .bp3-non-ideal-state > *{
    max-width:400px; }

.bp3-non-ideal-state-visual{
  color:rgba(92, 112, 128, 0.6);
  font-size:60px; }
  .bp3-dark .bp3-non-ideal-state-visual{
    color:rgba(167, 182, 194, 0.6); }

.bp3-overflow-list{
  display:-webkit-box;
  display:-ms-flexbox;
  display:flex;
  -ms-flex-wrap:nowrap;
      flex-wrap:nowrap;
  min-width:0; }

.bp3-overflow-list-spacer{
  -ms-flex-negative:1;
      flex-shrink:1;
  width:1px; }

body.bp3-overlay-open{
  overflow:hidden; }

.bp3-overlay{
  bottom:0;
  left:0;
  position:static;
  right:0;
  top:0;
  z-index:20; }
  .bp3-overlay:not(.bp3-overlay-open){
    pointer-events:none; }
  .bp3-overlay.bp3-overlay-container{
    overflow:hidden;
    position:fixed; }
    .bp3-overlay.bp3-overlay-container.bp3-overlay-inline{
      position:absolute; }
  .bp3-overlay.bp3-overlay-scroll-container{
    overflow:auto;
    position:fixed; }
    .bp3-overlay.bp3-overlay-scroll-container.bp3-overlay-inline{
      position:absolute; }
  .bp3-overlay.bp3-overlay-inline{
    display:inline;
    overflow:visible; }

.bp3-overlay-content{
  position:fixed;
  z-index:20; }
  .bp3-overlay-inline .bp3-overlay-content,
  .bp3-overlay-scroll-container .bp3-overlay-content{
    position:absolute; }

.bp3-overlay-backdrop{
  bottom:0;
  left:0;
  position:fixed;
  right:0;
  top:0;
  opacity:1;
  background-color:rgba(16, 22, 26, 0.7);
  overflow:auto;
  -webkit-user-select:none;
     -moz-user-select:none;
      -ms-user-select:none;
          user-select:none;
  z-index:20; }
  .bp3-overlay-backdrop.bp3-overlay-enter, .bp3-overlay-backdrop.bp3-overlay-appear{
    opacity:0; }
  .bp3-overlay-backdrop.bp3-overlay-enter-active, .bp3-overlay-backdrop.bp3-overlay-appear-active{
    opacity:1;
    -webkit-transition-delay:0;
            transition-delay:0;
    -webkit-transition-duration:200ms;
            transition-duration:200ms;
    -webkit-transition-property:opacity;
    transition-property:opacity;
    -webkit-transition-timing-function:cubic-bezier(0.4, 1, 0.75, 0.9);
            transition-timing-function:cubic-bezier(0.4, 1, 0.75, 0.9); }
  .bp3-overlay-backdrop.bp3-overlay-exit{
    opacity:1; }
  .bp3-overlay-backdrop.bp3-overlay-exit-active{
    opacity:0;
    -webkit-transition-delay:0;
            transition-delay:0;
    -webkit-transition-duration:200ms;
            transition-duration:200ms;
    -webkit-transition-property:opacity;
    transition-property:opacity;
    -webkit-transition-timing-function:cubic-bezier(0.4, 1, 0.75, 0.9);
            transition-timing-function:cubic-bezier(0.4, 1, 0.75, 0.9); }
  .bp3-overlay-backdrop:focus{
    outline:none; }
  .bp3-overlay-inline .bp3-overlay-backdrop{
    position:absolute; }
.bp3-panel-stack{
  overflow:hidden;
  position:relative; }

.bp3-panel-stack-header{
  -webkit-box-align:center;
      -ms-flex-align:center;
          align-items:center;
  -webkit-box-shadow:0 1px rgba(16, 22, 26, 0.15);
          box-shadow:0 1px rgba(16, 22, 26, 0.15);
  display:-webkit-box;
  display:-ms-flexbox;
  display:flex;
  -ms-flex-negative:0;
      flex-shrink:0;
  height:30px;
  z-index:1; }
  .bp3-dark .bp3-panel-stack-header{
    -webkit-box-shadow:0 1px rgba(255, 255, 255, 0.15);
            box-shadow:0 1px rgba(255, 255, 255, 0.15); }
  .bp3-panel-stack-header > span{
    -webkit-box-align:stretch;
        -ms-flex-align:stretch;
            align-items:stretch;
    display:-webkit-box;
    display:-ms-flexbox;
    display:flex;
    -webkit-box-flex:1;
        -ms-flex:1;
            flex:1; }
  .bp3-panel-stack-header .bp3-heading{
    margin:0 5px; }

.bp3-button.bp3-panel-stack-header-back{
  margin-left:5px;
  padding-left:0;
  white-space:nowrap; }
  .bp3-button.bp3-panel-stack-header-back .bp3-icon{
    margin:0 2px; }

.bp3-panel-stack-view{
  bottom:0;
  left:0;
  position:absolute;
  right:0;
  top:0;
  background-color:#ffffff;
  border-right:1px solid rgba(16, 22, 26, 0.15);
  display:-webkit-box;
  display:-ms-flexbox;
  display:flex;
  -webkit-box-orient:vertical;
  -webkit-box-direction:normal;
      -ms-flex-direction:column;
          flex-direction:column;
  margin-right:-1px;
  overflow-y:auto;
  z-index:1; }
  .bp3-dark .bp3-panel-stack-view{
    background-color:#30404d; }
  .bp3-panel-stack-view:nth-last-child(n + 4){
    display:none; }

.bp3-panel-stack-push .bp3-panel-stack-enter, .bp3-panel-stack-push .bp3-panel-stack-appear{
  -webkit-transform:translateX(100%);
          transform:translateX(100%);
  opacity:0; }

.bp3-panel-stack-push .bp3-panel-stack-enter-active, .bp3-panel-stack-push .bp3-panel-stack-appear-active{
  -webkit-transform:translate(0%);
          transform:translate(0%);
  opacity:1;
  -webkit-transition-delay:0;
          transition-delay:0;
  -webkit-transition-duration:400ms;
          transition-duration:400ms;
  -webkit-transition-property:opacity, -webkit-transform;
  transition-property:opacity, -webkit-transform;
  transition-property:transform, opacity;
  transition-property:transform, opacity, -webkit-transform;
  -webkit-transition-timing-function:ease;
          transition-timing-function:ease; }

.bp3-panel-stack-push .bp3-panel-stack-exit{
  -webkit-transform:translate(0%);
          transform:translate(0%);
  opacity:1; }

.bp3-panel-stack-push .bp3-panel-stack-exit-active{
  -webkit-transform:translateX(-50%);
          transform:translateX(-50%);
  opacity:0;
  -webkit-transition-delay:0;
          transition-delay:0;
  -webkit-transition-duration:400ms;
          transition-duration:400ms;
  -webkit-transition-property:opacity, -webkit-transform;
  transition-property:opacity, -webkit-transform;
  transition-property:transform, opacity;
  transition-property:transform, opacity, -webkit-transform;
  -webkit-transition-timing-function:ease;
          transition-timing-function:ease; }

.bp3-panel-stack-pop .bp3-panel-stack-enter, .bp3-panel-stack-pop .bp3-panel-stack-appear{
  -webkit-transform:translateX(-50%);
          transform:translateX(-50%);
  opacity:0; }

.bp3-panel-stack-pop .bp3-panel-stack-enter-active, .bp3-panel-stack-pop .bp3-panel-stack-appear-active{
  -webkit-transform:translate(0%);
          transform:translate(0%);
  opacity:1;
  -webkit-transition-delay:0;
          transition-delay:0;
  -webkit-transition-duration:400ms;
          transition-duration:400ms;
  -webkit-transition-property:opacity, -webkit-transform;
  transition-property:opacity, -webkit-transform;
  transition-property:transform, opacity;
  transition-property:transform, opacity, -webkit-transform;
  -webkit-transition-timing-function:ease;
          transition-timing-function:ease; }

.bp3-panel-stack-pop .bp3-panel-stack-exit{
  -webkit-transform:translate(0%);
          transform:translate(0%);
  opacity:1; }

.bp3-panel-stack-pop .bp3-panel-stack-exit-active{
  -webkit-transform:translateX(100%);
          transform:translateX(100%);
  opacity:0;
  -webkit-transition-delay:0;
          transition-delay:0;
  -webkit-transition-duration:400ms;
          transition-duration:400ms;
  -webkit-transition-property:opacity, -webkit-transform;
  transition-property:opacity, -webkit-transform;
  transition-property:transform, opacity;
  transition-property:transform, opacity, -webkit-transform;
  -webkit-transition-timing-function:ease;
          transition-timing-function:ease; }
.bp3-panel-stack2{
  overflow:hidden;
  position:relative; }

.bp3-panel-stack2-header{
  -webkit-box-align:center;
      -ms-flex-align:center;
          align-items:center;
  -webkit-box-shadow:0 1px rgba(16, 22, 26, 0.15);
          box-shadow:0 1px rgba(16, 22, 26, 0.15);
  display:-webkit-box;
  display:-ms-flexbox;
  display:flex;
  -ms-flex-negative:0;
      flex-shrink:0;
  height:30px;
  z-index:1; }
  .bp3-dark .bp3-panel-stack2-header{
    -webkit-box-shadow:0 1px rgba(255, 255, 255, 0.15);
            box-shadow:0 1px rgba(255, 255, 255, 0.15); }
  .bp3-panel-stack2-header > span{
    -webkit-box-align:stretch;
        -ms-flex-align:stretch;
            align-items:stretch;
    display:-webkit-box;
    display:-ms-flexbox;
    display:flex;
    -webkit-box-flex:1;
        -ms-flex:1;
            flex:1; }
  .bp3-panel-stack2-header .bp3-heading{
    margin:0 5px; }

.bp3-button.bp3-panel-stack2-header-back{
  margin-left:5px;
  padding-left:0;
  white-space:nowrap; }
  .bp3-button.bp3-panel-stack2-header-back .bp3-icon{
    margin:0 2px; }

.bp3-panel-stack2-view{
  bottom:0;
  left:0;
  position:absolute;
  right:0;
  top:0;
  background-color:#ffffff;
  border-right:1px solid rgba(16, 22, 26, 0.15);
  display:-webkit-box;
  display:-ms-flexbox;
  display:flex;
  -webkit-box-orient:vertical;
  -webkit-box-direction:normal;
      -ms-flex-direction:column;
          flex-direction:column;
  margin-right:-1px;
  overflow-y:auto;
  z-index:1; }
  .bp3-dark .bp3-panel-stack2-view{
    background-color:#30404d; }
  .bp3-panel-stack2-view:nth-last-child(n + 4){
    display:none; }

.bp3-panel-stack2-push .bp3-panel-stack2-enter, .bp3-panel-stack2-push .bp3-panel-stack2-appear{
  -webkit-transform:translateX(100%);
          transform:translateX(100%);
  opacity:0; }

.bp3-panel-stack2-push .bp3-panel-stack2-enter-active, .bp3-panel-stack2-push .bp3-panel-stack2-appear-active{
  -webkit-transform:translate(0%);
          transform:translate(0%);
  opacity:1;
  -webkit-transition-delay:0;
          transition-delay:0;
  -webkit-transition-duration:400ms;
          transition-duration:400ms;
  -webkit-transition-property:opacity, -webkit-transform;
  transition-property:opacity, -webkit-transform;
  transition-property:transform, opacity;
  transition-property:transform, opacity, -webkit-transform;
  -webkit-transition-timing-function:ease;
          transition-timing-function:ease; }

.bp3-panel-stack2-push .bp3-panel-stack2-exit{
  -webkit-transform:translate(0%);
          transform:translate(0%);
  opacity:1; }

.bp3-panel-stack2-push .bp3-panel-stack2-exit-active{
  -webkit-transform:translateX(-50%);
          transform:translateX(-50%);
  opacity:0;
  -webkit-transition-delay:0;
          transition-delay:0;
  -webkit-transition-duration:400ms;
          transition-duration:400ms;
  -webkit-transition-property:opacity, -webkit-transform;
  transition-property:opacity, -webkit-transform;
  transition-property:transform, opacity;
  transition-property:transform, opacity, -webkit-transform;
  -webkit-transition-timing-function:ease;
          transition-timing-function:ease; }

.bp3-panel-stack2-pop .bp3-panel-stack2-enter, .bp3-panel-stack2-pop .bp3-panel-stack2-appear{
  -webkit-transform:translateX(-50%);
          transform:translateX(-50%);
  opacity:0; }

.bp3-panel-stack2-pop .bp3-panel-stack2-enter-active, .bp3-panel-stack2-pop .bp3-panel-stack2-appear-active{
  -webkit-transform:translate(0%);
          transform:translate(0%);
  opacity:1;
  -webkit-transition-delay:0;
          transition-delay:0;
  -webkit-transition-duration:400ms;
          transition-duration:400ms;
  -webkit-transition-property:opacity, -webkit-transform;
  transition-property:opacity, -webkit-transform;
  transition-property:transform, opacity;
  transition-property:transform, opacity, -webkit-transform;
  -webkit-transition-timing-function:ease;
          transition-timing-function:ease; }

.bp3-panel-stack2-pop .bp3-panel-stack2-exit{
  -webkit-transform:translate(0%);
          transform:translate(0%);
  opacity:1; }

.bp3-panel-stack2-pop .bp3-panel-stack2-exit-active{
  -webkit-transform:translateX(100%);
          transform:translateX(100%);
  opacity:0;
  -webkit-transition-delay:0;
          transition-delay:0;
  -webkit-transition-duration:400ms;
          transition-duration:400ms;
  -webkit-transition-property:opacity, -webkit-transform;
  transition-property:opacity, -webkit-transform;
  transition-property:transform, opacity;
  transition-property:transform, opacity, -webkit-transform;
  -webkit-transition-timing-function:ease;
          transition-timing-function:ease; }
.bp3-popover{
  -webkit-box-shadow:0 0 0 1px rgba(16, 22, 26, 0.1), 0 2px 4px rgba(16, 22, 26, 0.2), 0 8px 24px rgba(16, 22, 26, 0.2);
          box-shadow:0 0 0 1px rgba(16, 22, 26, 0.1), 0 2px 4px rgba(16, 22, 26, 0.2), 0 8px 24px rgba(16, 22, 26, 0.2);
  -webkit-transform:scale(1);
          transform:scale(1);
  border-radius:3px;
  display:inline-block;
  z-index:20; }
  .bp3-popover .bp3-popover-arrow{
    height:30px;
    position:absolute;
    width:30px; }
    .bp3-popover .bp3-popover-arrow::before{
      height:20px;
      margin:5px;
      width:20px; }
  .bp3-tether-element-attached-bottom.bp3-tether-target-attached-top > .bp3-popover{
    margin-bottom:17px;
    margin-top:-17px; }
    .bp3-tether-element-attached-bottom.bp3-tether-target-attached-top > .bp3-popover > .bp3-popover-arrow{
      bottom:-11px; }
      .bp3-tether-element-attached-bottom.bp3-tether-target-attached-top > .bp3-popover > .bp3-popover-arrow svg{
        -webkit-transform:rotate(-90deg);
                transform:rotate(-90deg); }
  .bp3-tether-element-attached-left.bp3-tether-target-attached-right > .bp3-popover{
    margin-left:17px; }
    .bp3-tether-element-attached-left.bp3-tether-target-attached-right > .bp3-popover > .bp3-popover-arrow{
      left:-11px; }
      .bp3-tether-element-attached-left.bp3-tether-target-attached-right > .bp3-popover > .bp3-popover-arrow svg{
        -webkit-transform:rotate(0);
                transform:rotate(0); }
  .bp3-tether-element-attached-top.bp3-tether-target-attached-bottom > .bp3-popover{
    margin-top:17px; }
    .bp3-tether-element-attached-top.bp3-tether-target-attached-bottom > .bp3-popover > .bp3-popover-arrow{
      top:-11px; }
      .bp3-tether-element-attached-top.bp3-tether-target-attached-bottom > .bp3-popover > .bp3-popover-arrow svg{
        -webkit-transform:rotate(90deg);
                transform:rotate(90deg); }
  .bp3-tether-element-attached-right.bp3-tether-target-attached-left > .bp3-popover{
    margin-left:-17px;
    margin-right:17px; }
    .bp3-tether-element-attached-right.bp3-tether-target-attached-left > .bp3-popover > .bp3-popover-arrow{
      right:-11px; }
      .bp3-tether-element-attached-right.bp3-tether-target-attached-left > .bp3-popover > .bp3-popover-arrow svg{
        -webkit-transform:rotate(180deg);
                transform:rotate(180deg); }
  .bp3-tether-element-attached-middle > .bp3-popover > .bp3-popover-arrow{
    top:50%;
    -webkit-transform:translateY(-50%);
            transform:translateY(-50%); }
  .bp3-tether-element-attached-center > .bp3-popover > .bp3-popover-arrow{
    right:50%;
    -webkit-transform:translateX(50%);
            transform:translateX(50%); }
  .bp3-tether-element-attached-top.bp3-tether-target-attached-top > .bp3-popover > .bp3-popover-arrow{
    top:-0.3934px; }
  .bp3-tether-element-attached-right.bp3-tether-target-attached-right > .bp3-popover > .bp3-popover-arrow{
    right:-0.3934px; }
  .bp3-tether-element-attached-left.bp3-tether-target-attached-left > .bp3-popover > .bp3-popover-arrow{
    left:-0.3934px; }
  .bp3-tether-element-attached-bottom.bp3-tether-target-attached-bottom > .bp3-popover > .bp3-popover-arrow{
    bottom:-0.3934px; }
  .bp3-tether-element-attached-top.bp3-tether-element-attached-left > .bp3-popover{
    -webkit-transform-origin:top left;
            transform-origin:top left; }
  .bp3-tether-element-attached-top.bp3-tether-element-attached-center > .bp3-popover{
    -webkit-transform-origin:top center;
            transform-origin:top center; }
  .bp3-tether-element-attached-top.bp3-tether-element-attached-right > .bp3-popover{
    -webkit-transform-origin:top right;
            transform-origin:top right; }
  .bp3-tether-element-attached-middle.bp3-tether-element-attached-left > .bp3-popover{
    -webkit-transform-origin:center left;
            transform-origin:center left; }
  .bp3-tether-element-attached-middle.bp3-tether-element-attached-center > .bp3-popover{
    -webkit-transform-origin:center center;
            transform-origin:center center; }
  .bp3-tether-element-attached-middle.bp3-tether-element-attached-right > .bp3-popover{
    -webkit-transform-origin:center right;
            transform-origin:center right; }
  .bp3-tether-element-attached-bottom.bp3-tether-element-attached-left > .bp3-popover{
    -webkit-transform-origin:bottom left;
            transform-origin:bottom left; }
  .bp3-tether-element-attached-bottom.bp3-tether-element-attached-center > .bp3-popover{
    -webkit-transform-origin:bottom center;
            transform-origin:bottom center; }
  .bp3-tether-element-attached-bottom.bp3-tether-element-attached-right > .bp3-popover{
    -webkit-transform-origin:bottom right;
            transform-origin:bottom right; }
  .bp3-popover .bp3-popover-content{
    background:#ffffff;
    color:inherit; }
  .bp3-popover .bp3-popover-arrow::before{
    -webkit-box-shadow:1px 1px 6px rgba(16, 22, 26, 0.2);
            box-shadow:1px 1px 6px rgba(16, 22, 26, 0.2); }
  .bp3-popover .bp3-popover-arrow-border{
    fill:#10161a;
    fill-opacity:0.1; }
  .bp3-popover .bp3-popover-arrow-fill{
    fill:#ffffff; }
  .bp3-popover-enter > .bp3-popover, .bp3-popover-appear > .bp3-popover{
    -webkit-transform:scale(0.3);
            transform:scale(0.3); }
  .bp3-popover-enter-active > .bp3-popover, .bp3-popover-appear-active > .bp3-popover{
    -webkit-transform:scale(1);
            transform:scale(1);
    -webkit-transition-delay:0;
            transition-delay:0;
    -webkit-transition-duration:300ms;
            transition-duration:300ms;
    -webkit-transition-property:-webkit-transform;
    transition-property:-webkit-transform;
    transition-property:transform;
    transition-property:transform, -webkit-transform;
    -webkit-transition-timing-function:cubic-bezier(0.54, 1.12, 0.38, 1.11);
            transition-timing-function:cubic-bezier(0.54, 1.12, 0.38, 1.11); }
  .bp3-popover-exit > .bp3-popover{
    -webkit-transform:scale(1);
            transform:scale(1); }
  .bp3-popover-exit-active > .bp3-popover{
    -webkit-transform:scale(0.3);
            transform:scale(0.3);
    -webkit-transition-delay:0;
            transition-delay:0;
    -webkit-transition-duration:300ms;
            transition-duration:300ms;
    -webkit-transition-property:-webkit-transform;
    transition-property:-webkit-transform;
    transition-property:transform;
    transition-property:transform, -webkit-transform;
    -webkit-transition-timing-function:cubic-bezier(0.54, 1.12, 0.38, 1.11);
            transition-timing-function:cubic-bezier(0.54, 1.12, 0.38, 1.11); }
  .bp3-popover .bp3-popover-content{
    border-radius:3px;
    position:relative; }
  .bp3-popover.bp3-popover-content-sizing .bp3-popover-content{
    max-width:350px;
    padding:20px; }
  .bp3-popover-target + .bp3-overlay .bp3-popover.bp3-popover-content-sizing{
    width:350px; }
  .bp3-popover.bp3-minimal{
    margin:0 !important; }
    .bp3-popover.bp3-minimal .bp3-popover-arrow{
      display:none; }
    .bp3-popover.bp3-minimal.bp3-popover{
      -webkit-transform:scale(1);
              transform:scale(1); }
      .bp3-popover-enter > .bp3-popover.bp3-minimal.bp3-popover, .bp3-popover-appear > .bp3-popover.bp3-minimal.bp3-popover{
        -webkit-transform:scale(1);
                transform:scale(1); }
      .bp3-popover-enter-active > .bp3-popover.bp3-minimal.bp3-popover, .bp3-popover-appear-active > .bp3-popover.bp3-minimal.bp3-popover{
        -webkit-transform:scale(1);
                transform:scale(1);
        -webkit-transition-delay:0;
                transition-delay:0;
        -webkit-transition-duration:100ms;
                transition-duration:100ms;
        -webkit-transition-property:-webkit-transform;
        transition-property:-webkit-transform;
        transition-property:transform;
        transition-property:transform, -webkit-transform;
        -webkit-transition-timing-function:cubic-bezier(0.4, 1, 0.75, 0.9);
                transition-timing-function:cubic-bezier(0.4, 1, 0.75, 0.9); }
      .bp3-popover-exit > .bp3-popover.bp3-minimal.bp3-popover{
        -webkit-transform:scale(1);
                transform:scale(1); }
      .bp3-popover-exit-active > .bp3-popover.bp3-minimal.bp3-popover{
        -webkit-transform:scale(1);
                transform:scale(1);
        -webkit-transition-delay:0;
                transition-delay:0;
        -webkit-transition-duration:100ms;
                transition-duration:100ms;
        -webkit-transition-property:-webkit-transform;
        transition-property:-webkit-transform;
        transition-property:transform;
        transition-property:transform, -webkit-transform;
        -webkit-transition-timing-function:cubic-bezier(0.4, 1, 0.75, 0.9);
                transition-timing-function:cubic-bezier(0.4, 1, 0.75, 0.9); }
  .bp3-popover.bp3-dark,
  .bp3-dark .bp3-popover{
    -webkit-box-shadow:0 0 0 1px rgba(16, 22, 26, 0.2), 0 2px 4px rgba(16, 22, 26, 0.4), 0 8px 24px rgba(16, 22, 26, 0.4);
            box-shadow:0 0 0 1px rgba(16, 22, 26, 0.2), 0 2px 4px rgba(16, 22, 26, 0.4), 0 8px 24px rgba(16, 22, 26, 0.4); }
    .bp3-popover.bp3-dark .bp3-popover-content,
    .bp3-dark .bp3-popover .bp3-popover-content{
      background:#30404d;
      color:inherit; }
    .bp3-popover.bp3-dark .bp3-popover-arrow::before,
    .bp3-dark .bp3-popover .bp3-popover-arrow::before{
      -webkit-box-shadow:1px 1px 6px rgba(16, 22, 26, 0.4);
              box-shadow:1px 1px 6px rgba(16, 22, 26, 0.4); }
    .bp3-popover.bp3-dark .bp3-popover-arrow-border,
    .bp3-dark .bp3-popover .bp3-popover-arrow-border{
      fill:#10161a;
      fill-opacity:0.2; }
    .bp3-popover.bp3-dark .bp3-popover-arrow-fill,
    .bp3-dark .bp3-popover .bp3-popover-arrow-fill{
      fill:#30404d; }

.bp3-popover-arrow::before{
  border-radius:2px;
  content:"";
  display:block;
  position:absolute;
  -webkit-transform:rotate(45deg);
          transform:rotate(45deg); }

.bp3-tether-pinned .bp3-popover-arrow{
  display:none; }

.bp3-popover-backdrop{
  background:rgba(255, 255, 255, 0); }

.bp3-transition-container{
  opacity:1;
  display:-webkit-box;
  display:-ms-flexbox;
  display:flex;
  z-index:20; }
  .bp3-transition-container.bp3-popover-enter, .bp3-transition-container.bp3-popover-appear{
    opacity:0; }
  .bp3-transition-container.bp3-popover-enter-active, .bp3-transition-container.bp3-popover-appear-active{
    opacity:1;
    -webkit-transition-delay:0;
            transition-delay:0;
    -webkit-transition-duration:100ms;
            transition-duration:100ms;
    -webkit-transition-property:opacity;
    transition-property:opacity;
    -webkit-transition-timing-function:cubic-bezier(0.4, 1, 0.75, 0.9);
            transition-timing-function:cubic-bezier(0.4, 1, 0.75, 0.9); }
  .bp3-transition-container.bp3-popover-exit{
    opacity:1; }
  .bp3-transition-container.bp3-popover-exit-active{
    opacity:0;
    -webkit-transition-delay:0;
            transition-delay:0;
    -webkit-transition-duration:100ms;
            transition-duration:100ms;
    -webkit-transition-property:opacity;
    transition-property:opacity;
    -webkit-transition-timing-function:cubic-bezier(0.4, 1, 0.75, 0.9);
            transition-timing-function:cubic-bezier(0.4, 1, 0.75, 0.9); }
  .bp3-transition-container:focus{
    outline:none; }
  .bp3-transition-container.bp3-popover-leave .bp3-popover-content{
    pointer-events:none; }
  .bp3-transition-container[data-x-out-of-boundaries]{
    display:none; }

span.bp3-popover-target{
  display:inline-block; }

.bp3-popover-wrapper.bp3-fill{
  width:100%; }

.bp3-portal{
  left:0;
  position:absolute;
  right:0;
  top:0; }
@-webkit-keyframes linear-progress-bar-stripes{
  from{
    background-position:0 0; }
  to{
    background-position:30px 0; } }
@keyframes linear-progress-bar-stripes{
  from{
    background-position:0 0; }
  to{
    background-position:30px 0; } }

.bp3-progress-bar{
  background:rgba(92, 112, 128, 0.2);
  border-radius:40px;
  display:block;
  height:8px;
  overflow:hidden;
  position:relative;
  width:100%; }
  .bp3-progress-bar .bp3-progress-meter{
    background:linear-gradient(-45deg, rgba(255, 255, 255, 0.2) 25%, transparent 25%, transparent 50%, rgba(255, 255, 255, 0.2) 50%, rgba(255, 255, 255, 0.2) 75%, transparent 75%);
    background-color:rgba(92, 112, 128, 0.8);
    background-size:30px 30px;
    border-radius:40px;
    height:100%;
    position:absolute;
    -webkit-transition:width 200ms cubic-bezier(0.4, 1, 0.75, 0.9);
    transition:width 200ms cubic-bezier(0.4, 1, 0.75, 0.9);
    width:100%; }
  .bp3-progress-bar:not(.bp3-no-animation):not(.bp3-no-stripes) .bp3-progress-meter{
    animation:linear-progress-bar-stripes 300ms linear infinite reverse; }
  .bp3-progress-bar.bp3-no-stripes .bp3-progress-meter{
    background-image:none; }

.bp3-dark .bp3-progress-bar{
  background:rgba(16, 22, 26, 0.5); }
  .bp3-dark .bp3-progress-bar .bp3-progress-meter{
    background-color:#8a9ba8; }

.bp3-progress-bar.bp3-intent-primary .bp3-progress-meter{
  background-color:#137cbd; }

.bp3-progress-bar.bp3-intent-success .bp3-progress-meter{
  background-color:#0f9960; }

.bp3-progress-bar.bp3-intent-warning .bp3-progress-meter{
  background-color:#d9822b; }

.bp3-progress-bar.bp3-intent-danger .bp3-progress-meter{
  background-color:#db3737; }
@-webkit-keyframes skeleton-glow{
  from{
    background:rgba(206, 217, 224, 0.2);
    border-color:rgba(206, 217, 224, 0.2); }
  to{
    background:rgba(92, 112, 128, 0.2);
    border-color:rgba(92, 112, 128, 0.2); } }
@keyframes skeleton-glow{
  from{
    background:rgba(206, 217, 224, 0.2);
    border-color:rgba(206, 217, 224, 0.2); }
  to{
    background:rgba(92, 112, 128, 0.2);
    border-color:rgba(92, 112, 128, 0.2); } }
.bp3-skeleton{
  -webkit-animation:1000ms linear infinite alternate skeleton-glow;
          animation:1000ms linear infinite alternate skeleton-glow;
  background:rgba(206, 217, 224, 0.2);
  background-clip:padding-box !important;
  border-color:rgba(206, 217, 224, 0.2) !important;
  border-radius:2px;
  -webkit-box-shadow:none !important;
          box-shadow:none !important;
  color:transparent !important;
  cursor:default;
  pointer-events:none;
  -webkit-user-select:none;
     -moz-user-select:none;
      -ms-user-select:none;
          user-select:none; }
  .bp3-skeleton::before, .bp3-skeleton::after,
  .bp3-skeleton *{
    visibility:hidden !important; }
.bp3-slider{
  height:40px;
  min-width:150px;
  width:100%;
  cursor:default;
  outline:none;
  position:relative;
  -webkit-user-select:none;
     -moz-user-select:none;
      -ms-user-select:none;
          user-select:none; }
  .bp3-slider:hover{
    cursor:pointer; }
  .bp3-slider:active{
    cursor:-webkit-grabbing;
    cursor:grabbing; }
  .bp3-slider.bp3-disabled{
    cursor:not-allowed;
    opacity:0.5; }
  .bp3-slider.bp3-slider-unlabeled{
    height:16px; }

.bp3-slider-track,
.bp3-slider-progress{
  height:6px;
  left:0;
  right:0;
  top:5px;
  position:absolute; }

.bp3-slider-track{
  border-radius:3px;
  overflow:hidden; }

.bp3-slider-progress{
  background:rgba(92, 112, 128, 0.2); }
  .bp3-dark .bp3-slider-progress{
    background:rgba(16, 22, 26, 0.5); }
  .bp3-slider-progress.bp3-intent-primary{
    background-color:#137cbd; }
  .bp3-slider-progress.bp3-intent-success{
    background-color:#0f9960; }
  .bp3-slider-progress.bp3-intent-warning{
    background-color:#d9822b; }
  .bp3-slider-progress.bp3-intent-danger{
    background-color:#db3737; }

.bp3-slider-handle{
  background-color:#f5f8fa;
  background-image:-webkit-gradient(linear, left top, left bottom, from(rgba(255, 255, 255, 0.8)), to(rgba(255, 255, 255, 0)));
  background-image:linear-gradient(to bottom, rgba(255, 255, 255, 0.8), rgba(255, 255, 255, 0));
  -webkit-box-shadow:inset 0 0 0 1px rgba(16, 22, 26, 0.2), inset 0 -1px 0 rgba(16, 22, 26, 0.1);
          box-shadow:inset 0 0 0 1px rgba(16, 22, 26, 0.2), inset 0 -1px 0 rgba(16, 22, 26, 0.1);
  color:#182026;
  border-radius:3px;
  -webkit-box-shadow:0 0 0 1px rgba(16, 22, 26, 0.2), 0 1px 1px rgba(16, 22, 26, 0.2);
          box-shadow:0 0 0 1px rgba(16, 22, 26, 0.2), 0 1px 1px rgba(16, 22, 26, 0.2);
  cursor:pointer;
  height:16px;
  left:0;
  position:absolute;
  top:0;
  width:16px; }
  .bp3-slider-handle:hover{
    background-clip:padding-box;
    background-color:#ebf1f5;
    -webkit-box-shadow:inset 0 0 0 1px rgba(16, 22, 26, 0.2), inset 0 -1px 0 rgba(16, 22, 26, 0.1);
            box-shadow:inset 0 0 0 1px rgba(16, 22, 26, 0.2), inset 0 -1px 0 rgba(16, 22, 26, 0.1); }
  .bp3-slider-handle:active, .bp3-slider-handle.bp3-active{
    background-color:#d8e1e8;
    background-image:none;
    -webkit-box-shadow:inset 0 0 0 1px rgba(16, 22, 26, 0.2), inset 0 1px 2px rgba(16, 22, 26, 0.2);
            box-shadow:inset 0 0 0 1px rgba(16, 22, 26, 0.2), inset 0 1px 2px rgba(16, 22, 26, 0.2); }
  .bp3-slider-handle:disabled, .bp3-slider-handle.bp3-disabled{
    background-color:rgba(206, 217, 224, 0.5);
    background-image:none;
    -webkit-box-shadow:none;
            box-shadow:none;
    color:rgba(92, 112, 128, 0.6);
    cursor:not-allowed;
    outline:none; }
    .bp3-slider-handle:disabled.bp3-active, .bp3-slider-handle:disabled.bp3-active:hover, .bp3-slider-handle.bp3-disabled.bp3-active, .bp3-slider-handle.bp3-disabled.bp3-active:hover{
      background:rgba(206, 217, 224, 0.7); }
  .bp3-slider-handle:focus{
    z-index:1; }
  .bp3-slider-handle:hover{
    background-clip:padding-box;
    background-color:#ebf1f5;
    -webkit-box-shadow:inset 0 0 0 1px rgba(16, 22, 26, 0.2), inset 0 -1px 0 rgba(16, 22, 26, 0.1);
            box-shadow:inset 0 0 0 1px rgba(16, 22, 26, 0.2), inset 0 -1px 0 rgba(16, 22, 26, 0.1);
    -webkit-box-shadow:0 0 0 1px rgba(16, 22, 26, 0.2), 0 1px 1px rgba(16, 22, 26, 0.2);
            box-shadow:0 0 0 1px rgba(16, 22, 26, 0.2), 0 1px 1px rgba(16, 22, 26, 0.2);
    cursor:-webkit-grab;
    cursor:grab;
    z-index:2; }
  .bp3-slider-handle.bp3-active{
    background-color:#d8e1e8;
    background-image:none;
    -webkit-box-shadow:inset 0 0 0 1px rgba(16, 22, 26, 0.2), inset 0 1px 2px rgba(16, 22, 26, 0.2);
            box-shadow:inset 0 0 0 1px rgba(16, 22, 26, 0.2), inset 0 1px 2px rgba(16, 22, 26, 0.2);
    -webkit-box-shadow:0 0 0 1px rgba(16, 22, 26, 0.2), inset 0 1px 1px rgba(16, 22, 26, 0.1);
            box-shadow:0 0 0 1px rgba(16, 22, 26, 0.2), inset 0 1px 1px rgba(16, 22, 26, 0.1);
    cursor:-webkit-grabbing;
    cursor:grabbing; }
  .bp3-disabled .bp3-slider-handle{
    background:#bfccd6;
    -webkit-box-shadow:none;
            box-shadow:none;
    pointer-events:none; }
  .bp3-dark .bp3-slider-handle{
    background-color:#394b59;
    background-image:-webkit-gradient(linear, left top, left bottom, from(rgba(255, 255, 255, 0.05)), to(rgba(255, 255, 255, 0)));
    background-image:linear-gradient(to bottom, rgba(255, 255, 255, 0.05), rgba(255, 255, 255, 0));
    -webkit-box-shadow:0 0 0 1px rgba(16, 22, 26, 0.4);
            box-shadow:0 0 0 1px rgba(16, 22, 26, 0.4);
    color:#f5f8fa; }
    .bp3-dark .bp3-slider-handle:hover, .bp3-dark .bp3-slider-handle:active, .bp3-dark .bp3-slider-handle.bp3-active{
      color:#f5f8fa; }
    .bp3-dark .bp3-slider-handle:hover{
      background-color:#30404d;
      -webkit-box-shadow:0 0 0 1px rgba(16, 22, 26, 0.4);
              box-shadow:0 0 0 1px rgba(16, 22, 26, 0.4); }
    .bp3-dark .bp3-slider-handle:active, .bp3-dark .bp3-slider-handle.bp3-active{
      background-color:#202b33;
      background-image:none;
      -webkit-box-shadow:0 0 0 1px rgba(16, 22, 26, 0.6), inset 0 1px 2px rgba(16, 22, 26, 0.2);
              box-shadow:0 0 0 1px rgba(16, 22, 26, 0.6), inset 0 1px 2px rgba(16, 22, 26, 0.2); }
    .bp3-dark .bp3-slider-handle:disabled, .bp3-dark .bp3-slider-handle.bp3-disabled{
      background-color:rgba(57, 75, 89, 0.5);
      background-image:none;
      -webkit-box-shadow:none;
              box-shadow:none;
      color:rgba(167, 182, 194, 0.6); }
      .bp3-dark .bp3-slider-handle:disabled.bp3-active, .bp3-dark .bp3-slider-handle.bp3-disabled.bp3-active{
        background:rgba(57, 75, 89, 0.7); }
    .bp3-dark .bp3-slider-handle .bp3-button-spinner .bp3-spinner-head{
      background:rgba(16, 22, 26, 0.5);
      stroke:#8a9ba8; }
    .bp3-dark .bp3-slider-handle, .bp3-dark .bp3-slider-handle:hover{
      background-color:#394b59; }
    .bp3-dark .bp3-slider-handle.bp3-active{
      background-color:#293742; }
  .bp3-dark .bp3-disabled .bp3-slider-handle{
    background:#5c7080;
    border-color:#5c7080;
    -webkit-box-shadow:none;
            box-shadow:none; }
  .bp3-slider-handle .bp3-slider-label{
    background:#394b59;
    border-radius:3px;
    -webkit-box-shadow:0 0 0 1px rgba(16, 22, 26, 0.1), 0 2px 4px rgba(16, 22, 26, 0.2), 0 8px 24px rgba(16, 22, 26, 0.2);
            box-shadow:0 0 0 1px rgba(16, 22, 26, 0.1), 0 2px 4px rgba(16, 22, 26, 0.2), 0 8px 24px rgba(16, 22, 26, 0.2);
    color:#f5f8fa;
    margin-left:8px; }
    .bp3-dark .bp3-slider-handle .bp3-slider-label{
      background:#e1e8ed;
      -webkit-box-shadow:0 0 0 1px rgba(16, 22, 26, 0.2), 0 2px 4px rgba(16, 22, 26, 0.4), 0 8px 24px rgba(16, 22, 26, 0.4);
              box-shadow:0 0 0 1px rgba(16, 22, 26, 0.2), 0 2px 4px rgba(16, 22, 26, 0.4), 0 8px 24px rgba(16, 22, 26, 0.4);
      color:#394b59; }
    .bp3-disabled .bp3-slider-handle .bp3-slider-label{
      -webkit-box-shadow:none;
              box-shadow:none; }
  .bp3-slider-handle.bp3-start, .bp3-slider-handle.bp3-end{
    width:8px; }
  .bp3-slider-handle.bp3-start{
    border-bottom-right-radius:0;
    border-top-right-radius:0; }
  .bp3-slider-handle.bp3-end{
    border-bottom-left-radius:0;
    border-top-left-radius:0;
    margin-left:8px; }
    .bp3-slider-handle.bp3-end .bp3-slider-label{
      margin-left:0; }

.bp3-slider-label{
  -webkit-transform:translate(-50%, 20px);
          transform:translate(-50%, 20px);
  display:inline-block;
  font-size:12px;
  line-height:1;
  padding:2px 5px;
  position:absolute;
  vertical-align:top; }

.bp3-slider.bp3-vertical{
  height:150px;
  min-width:40px;
  width:40px; }
  .bp3-slider.bp3-vertical .bp3-slider-track,
  .bp3-slider.bp3-vertical .bp3-slider-progress{
    bottom:0;
    height:auto;
    left:5px;
    top:0;
    width:6px; }
  .bp3-slider.bp3-vertical .bp3-slider-progress{
    top:auto; }
  .bp3-slider.bp3-vertical .bp3-slider-label{
    -webkit-transform:translate(20px, 50%);
            transform:translate(20px, 50%); }
  .bp3-slider.bp3-vertical .bp3-slider-handle{
    top:auto; }
    .bp3-slider.bp3-vertical .bp3-slider-handle .bp3-slider-label{
      margin-left:0;
      margin-top:-8px; }
    .bp3-slider.bp3-vertical .bp3-slider-handle.bp3-end, .bp3-slider.bp3-vertical .bp3-slider-handle.bp3-start{
      height:8px;
      margin-left:0;
      width:16px; }
    .bp3-slider.bp3-vertical .bp3-slider-handle.bp3-start{
      border-bottom-right-radius:3px;
      border-top-left-radius:0; }
      .bp3-slider.bp3-vertical .bp3-slider-handle.bp3-start .bp3-slider-label{
        -webkit-transform:translate(20px);
                transform:translate(20px); }
    .bp3-slider.bp3-vertical .bp3-slider-handle.bp3-end{
      border-bottom-left-radius:0;
      border-bottom-right-radius:0;
      border-top-left-radius:3px;
      margin-bottom:8px; }

@-webkit-keyframes pt-spinner-animation{
  from{
    -webkit-transform:rotate(0deg);
            transform:rotate(0deg); }
  to{
    -webkit-transform:rotate(360deg);
            transform:rotate(360deg); } }

@keyframes pt-spinner-animation{
  from{
    -webkit-transform:rotate(0deg);
            transform:rotate(0deg); }
  to{
    -webkit-transform:rotate(360deg);
            transform:rotate(360deg); } }

.bp3-spinner{
  -webkit-box-align:center;
      -ms-flex-align:center;
          align-items:center;
  display:-webkit-box;
  display:-ms-flexbox;
  display:flex;
  -webkit-box-pack:center;
      -ms-flex-pack:center;
          justify-content:center;
  overflow:visible;
  vertical-align:middle; }
  .bp3-spinner svg{
    display:block; }
  .bp3-spinner path{
    fill-opacity:0; }
  .bp3-spinner .bp3-spinner-head{
    stroke:rgba(92, 112, 128, 0.8);
    stroke-linecap:round;
    -webkit-transform-origin:center;
            transform-origin:center;
    -webkit-transition:stroke-dashoffset 200ms cubic-bezier(0.4, 1, 0.75, 0.9);
    transition:stroke-dashoffset 200ms cubic-bezier(0.4, 1, 0.75, 0.9); }
  .bp3-spinner .bp3-spinner-track{
    stroke:rgba(92, 112, 128, 0.2); }

.bp3-spinner-animation{
  -webkit-animation:pt-spinner-animation 500ms linear infinite;
          animation:pt-spinner-animation 500ms linear infinite; }
  .bp3-no-spin > .bp3-spinner-animation{
    -webkit-animation:none;
            animation:none; }

.bp3-dark .bp3-spinner .bp3-spinner-head{
  stroke:#8a9ba8; }

.bp3-dark .bp3-spinner .bp3-spinner-track{
  stroke:rgba(16, 22, 26, 0.5); }

.bp3-spinner.bp3-intent-primary .bp3-spinner-head{
  stroke:#137cbd; }

.bp3-spinner.bp3-intent-success .bp3-spinner-head{
  stroke:#0f9960; }

.bp3-spinner.bp3-intent-warning .bp3-spinner-head{
  stroke:#d9822b; }

.bp3-spinner.bp3-intent-danger .bp3-spinner-head{
  stroke:#db3737; }
.bp3-tabs.bp3-vertical{
  display:-webkit-box;
  display:-ms-flexbox;
  display:flex; }
  .bp3-tabs.bp3-vertical > .bp3-tab-list{
    -webkit-box-align:start;
        -ms-flex-align:start;
            align-items:flex-start;
    -webkit-box-orient:vertical;
    -webkit-box-direction:normal;
        -ms-flex-direction:column;
            flex-direction:column; }
    .bp3-tabs.bp3-vertical > .bp3-tab-list .bp3-tab{
      border-radius:3px;
      padding:0 10px;
      width:100%; }
      .bp3-tabs.bp3-vertical > .bp3-tab-list .bp3-tab[aria-selected="true"]{
        background-color:rgba(19, 124, 189, 0.2);
        -webkit-box-shadow:none;
                box-shadow:none; }
    .bp3-tabs.bp3-vertical > .bp3-tab-list .bp3-tab-indicator-wrapper .bp3-tab-indicator{
      background-color:rgba(19, 124, 189, 0.2);
      border-radius:3px;
      bottom:0;
      height:auto;
      left:0;
      right:0;
      top:0; }
  .bp3-tabs.bp3-vertical > .bp3-tab-panel{
    margin-top:0;
    padding-left:20px; }

.bp3-tab-list{
  -webkit-box-align:end;
      -ms-flex-align:end;
          align-items:flex-end;
  border:none;
  display:-webkit-box;
  display:-ms-flexbox;
  display:flex;
  -webkit-box-flex:0;
      -ms-flex:0 0 auto;
          flex:0 0 auto;
  list-style:none;
  margin:0;
  padding:0;
  position:relative; }
  .bp3-tab-list > *:not(:last-child){
    margin-right:20px; }

.bp3-tab{
  overflow:hidden;
  text-overflow:ellipsis;
  white-space:nowrap;
  word-wrap:normal;
  color:#182026;
  cursor:pointer;
  -webkit-box-flex:0;
      -ms-flex:0 0 auto;
          flex:0 0 auto;
  font-size:14px;
  line-height:30px;
  max-width:100%;
  position:relative;
  vertical-align:top; }
  .bp3-tab a{
    color:inherit;
    display:block;
    text-decoration:none; }
  .bp3-tab-indicator-wrapper ~ .bp3-tab{
    background-color:transparent !important;
    -webkit-box-shadow:none !important;
            box-shadow:none !important; }
  .bp3-tab[aria-disabled="true"]{
    color:rgba(92, 112, 128, 0.6);
    cursor:not-allowed; }
  .bp3-tab[aria-selected="true"]{
    border-radius:0;
    -webkit-box-shadow:inset 0 -3px 0 #106ba3;
            box-shadow:inset 0 -3px 0 #106ba3; }
  .bp3-tab[aria-selected="true"], .bp3-tab:not([aria-disabled="true"]):hover{
    color:#106ba3; }
  .bp3-tab:focus{
    -moz-outline-radius:0; }
  .bp3-large > .bp3-tab{
    font-size:16px;
    line-height:40px; }

.bp3-tab-panel{
  margin-top:20px; }
  .bp3-tab-panel[aria-hidden="true"]{
    display:none; }

.bp3-tab-indicator-wrapper{
  left:0;
  pointer-events:none;
  position:absolute;
  top:0;
  -webkit-transform:translateX(0), translateY(0);
          transform:translateX(0), translateY(0);
  -webkit-transition:height, width, -webkit-transform;
  transition:height, width, -webkit-transform;
  transition:height, transform, width;
  transition:height, transform, width, -webkit-transform;
  -webkit-transition-duration:200ms;
          transition-duration:200ms;
  -webkit-transition-timing-function:cubic-bezier(0.4, 1, 0.75, 0.9);
          transition-timing-function:cubic-bezier(0.4, 1, 0.75, 0.9); }
  .bp3-tab-indicator-wrapper .bp3-tab-indicator{
    background-color:#106ba3;
    bottom:0;
    height:3px;
    left:0;
    position:absolute;
    right:0; }
  .bp3-tab-indicator-wrapper.bp3-no-animation{
    -webkit-transition:none;
    transition:none; }

.bp3-dark .bp3-tab{
  color:#f5f8fa; }
  .bp3-dark .bp3-tab[aria-disabled="true"]{
    color:rgba(167, 182, 194, 0.6); }
  .bp3-dark .bp3-tab[aria-selected="true"]{
    -webkit-box-shadow:inset 0 -3px 0 #48aff0;
            box-shadow:inset 0 -3px 0 #48aff0; }
  .bp3-dark .bp3-tab[aria-selected="true"], .bp3-dark .bp3-tab:not([aria-disabled="true"]):hover{
    color:#48aff0; }

.bp3-dark .bp3-tab-indicator{
  background-color:#48aff0; }

.bp3-flex-expander{
  -webkit-box-flex:1;
      -ms-flex:1 1;
          flex:1 1; }
.bp3-tag{
  display:-webkit-inline-box;
  display:-ms-inline-flexbox;
  display:inline-flex;
  -webkit-box-orient:horizontal;
  -webkit-box-direction:normal;
      -ms-flex-direction:row;
          flex-direction:row;
  -webkit-box-align:center;
      -ms-flex-align:center;
          align-items:center;
  background-color:#5c7080;
  border:none;
  border-radius:3px;
  -webkit-box-shadow:none;
          box-shadow:none;
  color:#f5f8fa;
  font-size:12px;
  line-height:16px;
  max-width:100%;
  min-height:20px;
  min-width:20px;
  padding:2px 6px;
  position:relative; }
  .bp3-tag.bp3-interactive{
    cursor:pointer; }
    .bp3-tag.bp3-interactive:hover{
      background-color:rgba(92, 112, 128, 0.85); }
    .bp3-tag.bp3-interactive.bp3-active, .bp3-tag.bp3-interactive:active{
      background-color:rgba(92, 112, 128, 0.7); }
  .bp3-tag > *{
    -webkit-box-flex:0;
        -ms-flex-positive:0;
            flex-grow:0;
    -ms-flex-negative:0;
        flex-shrink:0; }
  .bp3-tag > .bp3-fill{
    -webkit-box-flex:1;
        -ms-flex-positive:1;
            flex-grow:1;
    -ms-flex-negative:1;
        flex-shrink:1; }
  .bp3-tag::before,
  .bp3-tag > *{
    margin-right:4px; }
  .bp3-tag:empty::before,
  .bp3-tag > :last-child{
    margin-right:0; }
  .bp3-tag:focus{
    outline:rgba(19, 124, 189, 0.6) auto 2px;
    outline-offset:0;
    -moz-outline-radius:6px; }
  .bp3-tag.bp3-round{
    border-radius:30px;
    padding-left:8px;
    padding-right:8px; }
  .bp3-dark .bp3-tag{
    background-color:#bfccd6;
    color:#182026; }
    .bp3-dark .bp3-tag.bp3-interactive{
      cursor:pointer; }
      .bp3-dark .bp3-tag.bp3-interactive:hover{
        background-color:rgba(191, 204, 214, 0.85); }
      .bp3-dark .bp3-tag.bp3-interactive.bp3-active, .bp3-dark .bp3-tag.bp3-interactive:active{
        background-color:rgba(191, 204, 214, 0.7); }
    .bp3-dark .bp3-tag > .bp3-icon, .bp3-dark .bp3-tag .bp3-icon-standard, .bp3-dark .bp3-tag .bp3-icon-large{
      fill:currentColor; }
  .bp3-tag > .bp3-icon, .bp3-tag .bp3-icon-standard, .bp3-tag .bp3-icon-large{
    fill:#ffffff; }
  .bp3-tag.bp3-large,
  .bp3-large .bp3-tag{
    font-size:14px;
    line-height:20px;
    min-height:30px;
    min-width:30px;
    padding:5px 10px; }
    .bp3-tag.bp3-large::before,
    .bp3-tag.bp3-large > *,
    .bp3-large .bp3-tag::before,
    .bp3-large .bp3-tag > *{
      margin-right:7px; }
    .bp3-tag.bp3-large:empty::before,
    .bp3-tag.bp3-large > :last-child,
    .bp3-large .bp3-tag:empty::before,
    .bp3-large .bp3-tag > :last-child{
      margin-right:0; }
    .bp3-tag.bp3-large.bp3-round,
    .bp3-large .bp3-tag.bp3-round{
      padding-left:12px;
      padding-right:12px; }
  .bp3-tag.bp3-intent-primary{
    background:#137cbd;
    color:#ffffff; }
    .bp3-tag.bp3-intent-primary.bp3-interactive{
      cursor:pointer; }
      .bp3-tag.bp3-intent-primary.bp3-interactive:hover{
        background-color:rgba(19, 124, 189, 0.85); }
      .bp3-tag.bp3-intent-primary.bp3-interactive.bp3-active, .bp3-tag.bp3-intent-primary.bp3-interactive:active{
        background-color:rgba(19, 124, 189, 0.7); }
  .bp3-tag.bp3-intent-success{
    background:#0f9960;
    color:#ffffff; }
    .bp3-tag.bp3-intent-success.bp3-interactive{
      cursor:pointer; }
      .bp3-tag.bp3-intent-success.bp3-interactive:hover{
        background-color:rgba(15, 153, 96, 0.85); }
      .bp3-tag.bp3-intent-success.bp3-interactive.bp3-active, .bp3-tag.bp3-intent-success.bp3-interactive:active{
        background-color:rgba(15, 153, 96, 0.7); }
  .bp3-tag.bp3-intent-warning{
    background:#d9822b;
    color:#ffffff; }
    .bp3-tag.bp3-intent-warning.bp3-interactive{
      cursor:pointer; }
      .bp3-tag.bp3-intent-warning.bp3-interactive:hover{
        background-color:rgba(217, 130, 43, 0.85); }
      .bp3-tag.bp3-intent-warning.bp3-interactive.bp3-active, .bp3-tag.bp3-intent-warning.bp3-interactive:active{
        background-color:rgba(217, 130, 43, 0.7); }
  .bp3-tag.bp3-intent-danger{
    background:#db3737;
    color:#ffffff; }
    .bp3-tag.bp3-intent-danger.bp3-interactive{
      cursor:pointer; }
      .bp3-tag.bp3-intent-danger.bp3-interactive:hover{
        background-color:rgba(219, 55, 55, 0.85); }
      .bp3-tag.bp3-intent-danger.bp3-interactive.bp3-active, .bp3-tag.bp3-intent-danger.bp3-interactive:active{
        background-color:rgba(219, 55, 55, 0.7); }
  .bp3-tag.bp3-fill{
    display:-webkit-box;
    display:-ms-flexbox;
    display:flex;
    width:100%; }
  .bp3-tag.bp3-minimal > .bp3-icon, .bp3-tag.bp3-minimal .bp3-icon-standard, .bp3-tag.bp3-minimal .bp3-icon-large{
    fill:#5c7080; }
  .bp3-tag.bp3-minimal:not([class*="bp3-intent-"]){
    background-color:rgba(138, 155, 168, 0.2);
    color:#182026; }
    .bp3-tag.bp3-minimal:not([class*="bp3-intent-"]).bp3-interactive{
      cursor:pointer; }
      .bp3-tag.bp3-minimal:not([class*="bp3-intent-"]).bp3-interactive:hover{
        background-color:rgba(92, 112, 128, 0.3); }
      .bp3-tag.bp3-minimal:not([class*="bp3-intent-"]).bp3-interactive.bp3-active, .bp3-tag.bp3-minimal:not([class*="bp3-intent-"]).bp3-interactive:active{
        background-color:rgba(92, 112, 128, 0.4); }
    .bp3-dark .bp3-tag.bp3-minimal:not([class*="bp3-intent-"]){
      color:#f5f8fa; }
      .bp3-dark .bp3-tag.bp3-minimal:not([class*="bp3-intent-"]).bp3-interactive{
        cursor:pointer; }
        .bp3-dark .bp3-tag.bp3-minimal:not([class*="bp3-intent-"]).bp3-interactive:hover{
          background-color:rgba(191, 204, 214, 0.3); }
        .bp3-dark .bp3-tag.bp3-minimal:not([class*="bp3-intent-"]).bp3-interactive.bp3-active, .bp3-dark .bp3-tag.bp3-minimal:not([class*="bp3-intent-"]).bp3-interactive:active{
          background-color:rgba(191, 204, 214, 0.4); }
      .bp3-dark .bp3-tag.bp3-minimal:not([class*="bp3-intent-"]) > .bp3-icon, .bp3-dark .bp3-tag.bp3-minimal:not([class*="bp3-intent-"]) .bp3-icon-standard, .bp3-dark .bp3-tag.bp3-minimal:not([class*="bp3-intent-"]) .bp3-icon-large{
        fill:#a7b6c2; }
  .bp3-tag.bp3-minimal.bp3-intent-primary{
    background-color:rgba(19, 124, 189, 0.15);
    color:#106ba3; }
    .bp3-tag.bp3-minimal.bp3-intent-primary.bp3-interactive{
      cursor:pointer; }
      .bp3-tag.bp3-minimal.bp3-intent-primary.bp3-interactive:hover{
        background-color:rgba(19, 124, 189, 0.25); }
      .bp3-tag.bp3-minimal.bp3-intent-primary.bp3-interactive.bp3-active, .bp3-tag.bp3-minimal.bp3-intent-primary.bp3-interactive:active{
        background-color:rgba(19, 124, 189, 0.35); }
    .bp3-tag.bp3-minimal.bp3-intent-primary > .bp3-icon, .bp3-tag.bp3-minimal.bp3-intent-primary .bp3-icon-standard, .bp3-tag.bp3-minimal.bp3-intent-primary .bp3-icon-large{
      fill:#137cbd; }
    .bp3-dark .bp3-tag.bp3-minimal.bp3-intent-primary{
      background-color:rgba(19, 124, 189, 0.25);
      color:#48aff0; }
      .bp3-dark .bp3-tag.bp3-minimal.bp3-intent-primary.bp3-interactive{
        cursor:pointer; }
        .bp3-dark .bp3-tag.bp3-minimal.bp3-intent-primary.bp3-interactive:hover{
          background-color:rgba(19, 124, 189, 0.35); }
        .bp3-dark .bp3-tag.bp3-minimal.bp3-intent-primary.bp3-interactive.bp3-active, .bp3-dark .bp3-tag.bp3-minimal.bp3-intent-primary.bp3-interactive:active{
          background-color:rgba(19, 124, 189, 0.45); }
  .bp3-tag.bp3-minimal.bp3-intent-success{
    background-color:rgba(15, 153, 96, 0.15);
    color:#0d8050; }
    .bp3-tag.bp3-minimal.bp3-intent-success.bp3-interactive{
      cursor:pointer; }
      .bp3-tag.bp3-minimal.bp3-intent-success.bp3-interactive:hover{
        background-color:rgba(15, 153, 96, 0.25); }
      .bp3-tag.bp3-minimal.bp3-intent-success.bp3-interactive.bp3-active, .bp3-tag.bp3-minimal.bp3-intent-success.bp3-interactive:active{
        background-color:rgba(15, 153, 96, 0.35); }
    .bp3-tag.bp3-minimal.bp3-intent-success > .bp3-icon, .bp3-tag.bp3-minimal.bp3-intent-success .bp3-icon-standard, .bp3-tag.bp3-minimal.bp3-intent-success .bp3-icon-large{
      fill:#0f9960; }
    .bp3-dark .bp3-tag.bp3-minimal.bp3-intent-success{
      background-color:rgba(15, 153, 96, 0.25);
      color:#3dcc91; }
      .bp3-dark .bp3-tag.bp3-minimal.bp3-intent-success.bp3-interactive{
        cursor:pointer; }
        .bp3-dark .bp3-tag.bp3-minimal.bp3-intent-success.bp3-interactive:hover{
          background-color:rgba(15, 153, 96, 0.35); }
        .bp3-dark .bp3-tag.bp3-minimal.bp3-intent-success.bp3-interactive.bp3-active, .bp3-dark .bp3-tag.bp3-minimal.bp3-intent-success.bp3-interactive:active{
          background-color:rgba(15, 153, 96, 0.45); }
  .bp3-tag.bp3-minimal.bp3-intent-warning{
    background-color:rgba(217, 130, 43, 0.15);
    color:#bf7326; }
    .bp3-tag.bp3-minimal.bp3-intent-warning.bp3-interactive{
      cursor:pointer; }
      .bp3-tag.bp3-minimal.bp3-intent-warning.bp3-interactive:hover{
        background-color:rgba(217, 130, 43, 0.25); }
      .bp3-tag.bp3-minimal.bp3-intent-warning.bp3-interactive.bp3-active, .bp3-tag.bp3-minimal.bp3-intent-warning.bp3-interactive:active{
        background-color:rgba(217, 130, 43, 0.35); }
    .bp3-tag.bp3-minimal.bp3-intent-warning > .bp3-icon, .bp3-tag.bp3-minimal.bp3-intent-warning .bp3-icon-standard, .bp3-tag.bp3-minimal.bp3-intent-warning .bp3-icon-large{
      fill:#d9822b; }
    .bp3-dark .bp3-tag.bp3-minimal.bp3-intent-warning{
      background-color:rgba(217, 130, 43, 0.25);
      color:#ffb366; }
      .bp3-dark .bp3-tag.bp3-minimal.bp3-intent-warning.bp3-interactive{
        cursor:pointer; }
        .bp3-dark .bp3-tag.bp3-minimal.bp3-intent-warning.bp3-interactive:hover{
          background-color:rgba(217, 130, 43, 0.35); }
        .bp3-dark .bp3-tag.bp3-minimal.bp3-intent-warning.bp3-interactive.bp3-active, .bp3-dark .bp3-tag.bp3-minimal.bp3-intent-warning.bp3-interactive:active{
          background-color:rgba(217, 130, 43, 0.45); }
  .bp3-tag.bp3-minimal.bp3-intent-danger{
    background-color:rgba(219, 55, 55, 0.15);
    color:#c23030; }
    .bp3-tag.bp3-minimal.bp3-intent-danger.bp3-interactive{
      cursor:pointer; }
      .bp3-tag.bp3-minimal.bp3-intent-danger.bp3-interactive:hover{
        background-color:rgba(219, 55, 55, 0.25); }
      .bp3-tag.bp3-minimal.bp3-intent-danger.bp3-interactive.bp3-active, .bp3-tag.bp3-minimal.bp3-intent-danger.bp3-interactive:active{
        background-color:rgba(219, 55, 55, 0.35); }
    .bp3-tag.bp3-minimal.bp3-intent-danger > .bp3-icon, .bp3-tag.bp3-minimal.bp3-intent-danger .bp3-icon-standard, .bp3-tag.bp3-minimal.bp3-intent-danger .bp3-icon-large{
      fill:#db3737; }
    .bp3-dark .bp3-tag.bp3-minimal.bp3-intent-danger{
      background-color:rgba(219, 55, 55, 0.25);
      color:#ff7373; }
      .bp3-dark .bp3-tag.bp3-minimal.bp3-intent-danger.bp3-interactive{
        cursor:pointer; }
        .bp3-dark .bp3-tag.bp3-minimal.bp3-intent-danger.bp3-interactive:hover{
          background-color:rgba(219, 55, 55, 0.35); }
        .bp3-dark .bp3-tag.bp3-minimal.bp3-intent-danger.bp3-interactive.bp3-active, .bp3-dark .bp3-tag.bp3-minimal.bp3-intent-danger.bp3-interactive:active{
          background-color:rgba(219, 55, 55, 0.45); }

.bp3-tag-remove{
  background:none;
  border:none;
  color:inherit;
  cursor:pointer;
  display:-webkit-box;
  display:-ms-flexbox;
  display:flex;
  margin-bottom:-2px;
  margin-right:-6px !important;
  margin-top:-2px;
  opacity:0.5;
  padding:2px;
  padding-left:0; }
  .bp3-tag-remove:hover{
    background:none;
    opacity:0.8;
    text-decoration:none; }
  .bp3-tag-remove:active{
    opacity:1; }
  .bp3-tag-remove:empty::before{
    font-family:"Icons16", sans-serif;
    font-size:16px;
    font-style:normal;
    font-weight:400;
    line-height:1;
    -moz-osx-font-smoothing:grayscale;
    -webkit-font-smoothing:antialiased;
    content:""; }
  .bp3-large .bp3-tag-remove{
    margin-right:-10px !important;
    padding:0 5px 0 0; }
    .bp3-large .bp3-tag-remove:empty::before{
      font-family:"Icons20", sans-serif;
      font-size:20px;
      font-style:normal;
      font-weight:400;
      line-height:1; }
.bp3-tag-input{
  display:-webkit-box;
  display:-ms-flexbox;
  display:flex;
  -webkit-box-orient:horizontal;
  -webkit-box-direction:normal;
      -ms-flex-direction:row;
          flex-direction:row;
  -webkit-box-align:start;
      -ms-flex-align:start;
          align-items:flex-start;
  cursor:text;
  height:auto;
  line-height:inherit;
  min-height:30px;
  padding-left:5px;
  padding-right:0; }
  .bp3-tag-input > *{
    -webkit-box-flex:0;
        -ms-flex-positive:0;
            flex-grow:0;
    -ms-flex-negative:0;
        flex-shrink:0; }
  .bp3-tag-input > .bp3-tag-input-values{
    -webkit-box-flex:1;
        -ms-flex-positive:1;
            flex-grow:1;
    -ms-flex-negative:1;
        flex-shrink:1; }
  .bp3-tag-input .bp3-tag-input-icon{
    color:#5c7080;
    margin-left:2px;
    margin-right:7px;
    margin-top:7px; }
  .bp3-tag-input .bp3-tag-input-values{
    display:-webkit-box;
    display:-ms-flexbox;
    display:flex;
    -webkit-box-orient:horizontal;
    -webkit-box-direction:normal;
        -ms-flex-direction:row;
            flex-direction:row;
    -webkit-box-align:center;
        -ms-flex-align:center;
            align-items:center;
    -ms-flex-item-align:stretch;
        align-self:stretch;
    -ms-flex-wrap:wrap;
        flex-wrap:wrap;
    margin-right:7px;
    margin-top:5px;
    min-width:0; }
    .bp3-tag-input .bp3-tag-input-values > *{
      -webkit-box-flex:0;
          -ms-flex-positive:0;
              flex-grow:0;
      -ms-flex-negative:0;
          flex-shrink:0; }
    .bp3-tag-input .bp3-tag-input-values > .bp3-fill{
      -webkit-box-flex:1;
          -ms-flex-positive:1;
              flex-grow:1;
      -ms-flex-negative:1;
          flex-shrink:1; }
    .bp3-tag-input .bp3-tag-input-values::before,
    .bp3-tag-input .bp3-tag-input-values > *{
      margin-right:5px; }
    .bp3-tag-input .bp3-tag-input-values:empty::before,
    .bp3-tag-input .bp3-tag-input-values > :last-child{
      margin-right:0; }
    .bp3-tag-input .bp3-tag-input-values:first-child .bp3-input-ghost:first-child{
      padding-left:5px; }
    .bp3-tag-input .bp3-tag-input-values > *{
      margin-bottom:5px; }
  .bp3-tag-input .bp3-tag{
    overflow-wrap:break-word; }
    .bp3-tag-input .bp3-tag.bp3-active{
      outline:rgba(19, 124, 189, 0.6) auto 2px;
      outline-offset:0;
      -moz-outline-radius:6px; }
  .bp3-tag-input .bp3-input-ghost{
    -webkit-box-flex:1;
        -ms-flex:1 1 auto;
            flex:1 1 auto;
    line-height:20px;
    width:80px; }
    .bp3-tag-input .bp3-input-ghost:disabled, .bp3-tag-input .bp3-input-ghost.bp3-disabled{
      cursor:not-allowed; }
  .bp3-tag-input .bp3-button,
  .bp3-tag-input .bp3-spinner{
    margin:3px;
    margin-left:0; }
  .bp3-tag-input .bp3-button{
    min-height:24px;
    min-width:24px;
    padding:0 7px; }
  .bp3-tag-input.bp3-large{
    height:auto;
    min-height:40px; }
    .bp3-tag-input.bp3-large::before,
    .bp3-tag-input.bp3-large > *{
      margin-right:10px; }
    .bp3-tag-input.bp3-large:empty::before,
    .bp3-tag-input.bp3-large > :last-child{
      margin-right:0; }
    .bp3-tag-input.bp3-large .bp3-tag-input-icon{
      margin-left:5px;
      margin-top:10px; }
    .bp3-tag-input.bp3-large .bp3-input-ghost{
      line-height:30px; }
    .bp3-tag-input.bp3-large .bp3-button{
      min-height:30px;
      min-width:30px;
      padding:5px 10px;
      margin:5px;
      margin-left:0; }
    .bp3-tag-input.bp3-large .bp3-spinner{
      margin:8px;
      margin-left:0; }
  .bp3-tag-input.bp3-active{
    background-color:#ffffff;
    -webkit-box-shadow:0 0 0 1px #137cbd, 0 0 0 3px rgba(19, 124, 189, 0.3), inset 0 1px 1px rgba(16, 22, 26, 0.2);
            box-shadow:0 0 0 1px #137cbd, 0 0 0 3px rgba(19, 124, 189, 0.3), inset 0 1px 1px rgba(16, 22, 26, 0.2); }
    .bp3-tag-input.bp3-active.bp3-intent-primary{
      -webkit-box-shadow:0 0 0 1px #106ba3, 0 0 0 3px rgba(16, 107, 163, 0.3), inset 0 1px 1px rgba(16, 22, 26, 0.2);
              box-shadow:0 0 0 1px #106ba3, 0 0 0 3px rgba(16, 107, 163, 0.3), inset 0 1px 1px rgba(16, 22, 26, 0.2); }
    .bp3-tag-input.bp3-active.bp3-intent-success{
      -webkit-box-shadow:0 0 0 1px #0d8050, 0 0 0 3px rgba(13, 128, 80, 0.3), inset 0 1px 1px rgba(16, 22, 26, 0.2);
              box-shadow:0 0 0 1px #0d8050, 0 0 0 3px rgba(13, 128, 80, 0.3), inset 0 1px 1px rgba(16, 22, 26, 0.2); }
    .bp3-tag-input.bp3-active.bp3-intent-warning{
      -webkit-box-shadow:0 0 0 1px #bf7326, 0 0 0 3px rgba(191, 115, 38, 0.3), inset 0 1px 1px rgba(16, 22, 26, 0.2);
              box-shadow:0 0 0 1px #bf7326, 0 0 0 3px rgba(191, 115, 38, 0.3), inset 0 1px 1px rgba(16, 22, 26, 0.2); }
    .bp3-tag-input.bp3-active.bp3-intent-danger{
      -webkit-box-shadow:0 0 0 1px #c23030, 0 0 0 3px rgba(194, 48, 48, 0.3), inset 0 1px 1px rgba(16, 22, 26, 0.2);
              box-shadow:0 0 0 1px #c23030, 0 0 0 3px rgba(194, 48, 48, 0.3), inset 0 1px 1px rgba(16, 22, 26, 0.2); }
  .bp3-dark .bp3-tag-input .bp3-tag-input-icon, .bp3-tag-input.bp3-dark .bp3-tag-input-icon{
    color:#a7b6c2; }
  .bp3-dark .bp3-tag-input .bp3-input-ghost, .bp3-tag-input.bp3-dark .bp3-input-ghost{
    color:#f5f8fa; }
    .bp3-dark .bp3-tag-input .bp3-input-ghost::-webkit-input-placeholder, .bp3-tag-input.bp3-dark .bp3-input-ghost::-webkit-input-placeholder{
      color:rgba(167, 182, 194, 0.6); }
    .bp3-dark .bp3-tag-input .bp3-input-ghost::-moz-placeholder, .bp3-tag-input.bp3-dark .bp3-input-ghost::-moz-placeholder{
      color:rgba(167, 182, 194, 0.6); }
    .bp3-dark .bp3-tag-input .bp3-input-ghost:-ms-input-placeholder, .bp3-tag-input.bp3-dark .bp3-input-ghost:-ms-input-placeholder{
      color:rgba(167, 182, 194, 0.6); }
    .bp3-dark .bp3-tag-input .bp3-input-ghost::-ms-input-placeholder, .bp3-tag-input.bp3-dark .bp3-input-ghost::-ms-input-placeholder{
      color:rgba(167, 182, 194, 0.6); }
    .bp3-dark .bp3-tag-input .bp3-input-ghost::placeholder, .bp3-tag-input.bp3-dark .bp3-input-ghost::placeholder{
      color:rgba(167, 182, 194, 0.6); }
  .bp3-dark .bp3-tag-input.bp3-active, .bp3-tag-input.bp3-dark.bp3-active{
    background-color:rgba(16, 22, 26, 0.3);
    -webkit-box-shadow:0 0 0 1px #137cbd, 0 0 0 1px #137cbd, 0 0 0 3px rgba(19, 124, 189, 0.3), inset 0 0 0 1px rgba(16, 22, 26, 0.3), inset 0 1px 1px rgba(16, 22, 26, 0.4);
            box-shadow:0 0 0 1px #137cbd, 0 0 0 1px #137cbd, 0 0 0 3px rgba(19, 124, 189, 0.3), inset 0 0 0 1px rgba(16, 22, 26, 0.3), inset 0 1px 1px rgba(16, 22, 26, 0.4); }
    .bp3-dark .bp3-tag-input.bp3-active.bp3-intent-primary, .bp3-tag-input.bp3-dark.bp3-active.bp3-intent-primary{
      -webkit-box-shadow:0 0 0 1px #106ba3, 0 0 0 3px rgba(16, 107, 163, 0.3), inset 0 0 0 1px rgba(16, 22, 26, 0.3), inset 0 1px 1px rgba(16, 22, 26, 0.4);
              box-shadow:0 0 0 1px #106ba3, 0 0 0 3px rgba(16, 107, 163, 0.3), inset 0 0 0 1px rgba(16, 22, 26, 0.3), inset 0 1px 1px rgba(16, 22, 26, 0.4); }
    .bp3-dark .bp3-tag-input.bp3-active.bp3-intent-success, .bp3-tag-input.bp3-dark.bp3-active.bp3-intent-success{
      -webkit-box-shadow:0 0 0 1px #0d8050, 0 0 0 3px rgba(13, 128, 80, 0.3), inset 0 0 0 1px rgba(16, 22, 26, 0.3), inset 0 1px 1px rgba(16, 22, 26, 0.4);
              box-shadow:0 0 0 1px #0d8050, 0 0 0 3px rgba(13, 128, 80, 0.3), inset 0 0 0 1px rgba(16, 22, 26, 0.3), inset 0 1px 1px rgba(16, 22, 26, 0.4); }
    .bp3-dark .bp3-tag-input.bp3-active.bp3-intent-warning, .bp3-tag-input.bp3-dark.bp3-active.bp3-intent-warning{
      -webkit-box-shadow:0 0 0 1px #bf7326, 0 0 0 3px rgba(191, 115, 38, 0.3), inset 0 0 0 1px rgba(16, 22, 26, 0.3), inset 0 1px 1px rgba(16, 22, 26, 0.4);
              box-shadow:0 0 0 1px #bf7326, 0 0 0 3px rgba(191, 115, 38, 0.3), inset 0 0 0 1px rgba(16, 22, 26, 0.3), inset 0 1px 1px rgba(16, 22, 26, 0.4); }
    .bp3-dark .bp3-tag-input.bp3-active.bp3-intent-danger, .bp3-tag-input.bp3-dark.bp3-active.bp3-intent-danger{
      -webkit-box-shadow:0 0 0 1px #c23030, 0 0 0 3px rgba(194, 48, 48, 0.3), inset 0 0 0 1px rgba(16, 22, 26, 0.3), inset 0 1px 1px rgba(16, 22, 26, 0.4);
              box-shadow:0 0 0 1px #c23030, 0 0 0 3px rgba(194, 48, 48, 0.3), inset 0 0 0 1px rgba(16, 22, 26, 0.3), inset 0 1px 1px rgba(16, 22, 26, 0.4); }

.bp3-input-ghost{
  background:none;
  border:none;
  -webkit-box-shadow:none;
          box-shadow:none;
  padding:0; }
  .bp3-input-ghost::-webkit-input-placeholder{
    color:rgba(92, 112, 128, 0.6);
    opacity:1; }
  .bp3-input-ghost::-moz-placeholder{
    color:rgba(92, 112, 128, 0.6);
    opacity:1; }
  .bp3-input-ghost:-ms-input-placeholder{
    color:rgba(92, 112, 128, 0.6);
    opacity:1; }
  .bp3-input-ghost::-ms-input-placeholder{
    color:rgba(92, 112, 128, 0.6);
    opacity:1; }
  .bp3-input-ghost::placeholder{
    color:rgba(92, 112, 128, 0.6);
    opacity:1; }
  .bp3-input-ghost:focus{
    outline:none !important; }
.bp3-toast{
  -webkit-box-align:start;
      -ms-flex-align:start;
          align-items:flex-start;
  background-color:#ffffff;
  border-radius:3px;
  -webkit-box-shadow:0 0 0 1px rgba(16, 22, 26, 0.1), 0 2px 4px rgba(16, 22, 26, 0.2), 0 8px 24px rgba(16, 22, 26, 0.2);
          box-shadow:0 0 0 1px rgba(16, 22, 26, 0.1), 0 2px 4px rgba(16, 22, 26, 0.2), 0 8px 24px rgba(16, 22, 26, 0.2);
  display:-webkit-box;
  display:-ms-flexbox;
  display:flex;
  margin:20px 0 0;
  max-width:500px;
  min-width:300px;
  pointer-events:all;
  position:relative !important; }
  .bp3-toast.bp3-toast-enter, .bp3-toast.bp3-toast-appear{
    -webkit-transform:translateY(-40px);
            transform:translateY(-40px); }
  .bp3-toast.bp3-toast-enter-active, .bp3-toast.bp3-toast-appear-active{
    -webkit-transform:translateY(0);
            transform:translateY(0);
    -webkit-transition-delay:0;
            transition-delay:0;
    -webkit-transition-duration:300ms;
            transition-duration:300ms;
    -webkit-transition-property:-webkit-transform;
    transition-property:-webkit-transform;
    transition-property:transform;
    transition-property:transform, -webkit-transform;
    -webkit-transition-timing-function:cubic-bezier(0.54, 1.12, 0.38, 1.11);
            transition-timing-function:cubic-bezier(0.54, 1.12, 0.38, 1.11); }
  .bp3-toast.bp3-toast-enter ~ .bp3-toast, .bp3-toast.bp3-toast-appear ~ .bp3-toast{
    -webkit-transform:translateY(-40px);
            transform:translateY(-40px); }
  .bp3-toast.bp3-toast-enter-active ~ .bp3-toast, .bp3-toast.bp3-toast-appear-active ~ .bp3-toast{
    -webkit-transform:translateY(0);
            transform:translateY(0);
    -webkit-transition-delay:0;
            transition-delay:0;
    -webkit-transition-duration:300ms;
            transition-duration:300ms;
    -webkit-transition-property:-webkit-transform;
    transition-property:-webkit-transform;
    transition-property:transform;
    transition-property:transform, -webkit-transform;
    -webkit-transition-timing-function:cubic-bezier(0.54, 1.12, 0.38, 1.11);
            transition-timing-function:cubic-bezier(0.54, 1.12, 0.38, 1.11); }
  .bp3-toast.bp3-toast-exit{
    opacity:1;
    -webkit-filter:blur(0);
            filter:blur(0); }
  .bp3-toast.bp3-toast-exit-active{
    opacity:0;
    -webkit-filter:blur(10px);
            filter:blur(10px);
    -webkit-transition-delay:0;
            transition-delay:0;
    -webkit-transition-duration:300ms;
            transition-duration:300ms;
    -webkit-transition-property:opacity, -webkit-filter;
    transition-property:opacity, -webkit-filter;
    transition-property:opacity, filter;
    transition-property:opacity, filter, -webkit-filter;
    -webkit-transition-timing-function:cubic-bezier(0.4, 1, 0.75, 0.9);
            transition-timing-function:cubic-bezier(0.4, 1, 0.75, 0.9); }
  .bp3-toast.bp3-toast-exit ~ .bp3-toast{
    -webkit-transform:translateY(0);
            transform:translateY(0); }
  .bp3-toast.bp3-toast-exit-active ~ .bp3-toast{
    -webkit-transform:translateY(-40px);
            transform:translateY(-40px);
    -webkit-transition-delay:50ms;
            transition-delay:50ms;
    -webkit-transition-duration:100ms;
            transition-duration:100ms;
    -webkit-transition-property:-webkit-transform;
    transition-property:-webkit-transform;
    transition-property:transform;
    transition-property:transform, -webkit-transform;
    -webkit-transition-timing-function:cubic-bezier(0.4, 1, 0.75, 0.9);
            transition-timing-function:cubic-bezier(0.4, 1, 0.75, 0.9); }
  .bp3-toast .bp3-button-group{
    -webkit-box-flex:0;
        -ms-flex:0 0 auto;
            flex:0 0 auto;
    padding:5px;
    padding-left:0; }
  .bp3-toast > .bp3-icon{
    color:#5c7080;
    margin:12px;
    margin-right:0; }
  .bp3-toast.bp3-dark,
  .bp3-dark .bp3-toast{
    background-color:#394b59;
    -webkit-box-shadow:0 0 0 1px rgba(16, 22, 26, 0.2), 0 2px 4px rgba(16, 22, 26, 0.4), 0 8px 24px rgba(16, 22, 26, 0.4);
            box-shadow:0 0 0 1px rgba(16, 22, 26, 0.2), 0 2px 4px rgba(16, 22, 26, 0.4), 0 8px 24px rgba(16, 22, 26, 0.4); }
    .bp3-toast.bp3-dark > .bp3-icon,
    .bp3-dark .bp3-toast > .bp3-icon{
      color:#a7b6c2; }
  .bp3-toast[class*="bp3-intent-"] a{
    color:rgba(255, 255, 255, 0.7); }
    .bp3-toast[class*="bp3-intent-"] a:hover{
      color:#ffffff; }
  .bp3-toast[class*="bp3-intent-"] > .bp3-icon{
    color:#ffffff; }
  .bp3-toast[class*="bp3-intent-"] .bp3-button, .bp3-toast[class*="bp3-intent-"] .bp3-button::before,
  .bp3-toast[class*="bp3-intent-"] .bp3-button .bp3-icon, .bp3-toast[class*="bp3-intent-"] .bp3-button:active{
    color:rgba(255, 255, 255, 0.7) !important; }
  .bp3-toast[class*="bp3-intent-"] .bp3-button:focus{
    outline-color:rgba(255, 255, 255, 0.5); }
  .bp3-toast[class*="bp3-intent-"] .bp3-button:hover{
    background-color:rgba(255, 255, 255, 0.15) !important;
    color:#ffffff !important; }
  .bp3-toast[class*="bp3-intent-"] .bp3-button:active{
    background-color:rgba(255, 255, 255, 0.3) !important;
    color:#ffffff !important; }
  .bp3-toast[class*="bp3-intent-"] .bp3-button::after{
    background:rgba(255, 255, 255, 0.3) !important; }
  .bp3-toast.bp3-intent-primary{
    background-color:#137cbd;
    color:#ffffff; }
  .bp3-toast.bp3-intent-success{
    background-color:#0f9960;
    color:#ffffff; }
  .bp3-toast.bp3-intent-warning{
    background-color:#d9822b;
    color:#ffffff; }
  .bp3-toast.bp3-intent-danger{
    background-color:#db3737;
    color:#ffffff; }

.bp3-toast-message{
  -webkit-box-flex:1;
      -ms-flex:1 1 auto;
          flex:1 1 auto;
  padding:11px;
  word-break:break-word; }

.bp3-toast-container{
  -webkit-box-align:center;
      -ms-flex-align:center;
          align-items:center;
  display:-webkit-box !important;
  display:-ms-flexbox !important;
  display:flex !important;
  -webkit-box-orient:vertical;
  -webkit-box-direction:normal;
      -ms-flex-direction:column;
          flex-direction:column;
  left:0;
  overflow:hidden;
  padding:0 20px 20px;
  pointer-events:none;
  right:0;
  z-index:40; }
  .bp3-toast-container.bp3-toast-container-in-portal{
    position:fixed; }
  .bp3-toast-container.bp3-toast-container-inline{
    position:absolute; }
  .bp3-toast-container.bp3-toast-container-top{
    top:0; }
  .bp3-toast-container.bp3-toast-container-bottom{
    bottom:0;
    -webkit-box-orient:vertical;
    -webkit-box-direction:reverse;
        -ms-flex-direction:column-reverse;
            flex-direction:column-reverse;
    top:auto; }
  .bp3-toast-container.bp3-toast-container-left{
    -webkit-box-align:start;
        -ms-flex-align:start;
            align-items:flex-start; }
  .bp3-toast-container.bp3-toast-container-right{
    -webkit-box-align:end;
        -ms-flex-align:end;
            align-items:flex-end; }

.bp3-toast-container-bottom .bp3-toast.bp3-toast-enter:not(.bp3-toast-enter-active),
.bp3-toast-container-bottom .bp3-toast.bp3-toast-enter:not(.bp3-toast-enter-active) ~ .bp3-toast, .bp3-toast-container-bottom .bp3-toast.bp3-toast-appear:not(.bp3-toast-appear-active),
.bp3-toast-container-bottom .bp3-toast.bp3-toast-appear:not(.bp3-toast-appear-active) ~ .bp3-toast,
.bp3-toast-container-bottom .bp3-toast.bp3-toast-exit-active ~ .bp3-toast,
.bp3-toast-container-bottom .bp3-toast.bp3-toast-leave-active ~ .bp3-toast{
  -webkit-transform:translateY(60px);
          transform:translateY(60px); }
.bp3-tooltip{
  -webkit-box-shadow:0 0 0 1px rgba(16, 22, 26, 0.1), 0 2px 4px rgba(16, 22, 26, 0.2), 0 8px 24px rgba(16, 22, 26, 0.2);
          box-shadow:0 0 0 1px rgba(16, 22, 26, 0.1), 0 2px 4px rgba(16, 22, 26, 0.2), 0 8px 24px rgba(16, 22, 26, 0.2);
  -webkit-transform:scale(1);
          transform:scale(1); }
  .bp3-tooltip .bp3-popover-arrow{
    height:22px;
    position:absolute;
    width:22px; }
    .bp3-tooltip .bp3-popover-arrow::before{
      height:14px;
      margin:4px;
      width:14px; }
  .bp3-tether-element-attached-bottom.bp3-tether-target-attached-top > .bp3-tooltip{
    margin-bottom:11px;
    margin-top:-11px; }
    .bp3-tether-element-attached-bottom.bp3-tether-target-attached-top > .bp3-tooltip > .bp3-popover-arrow{
      bottom:-8px; }
      .bp3-tether-element-attached-bottom.bp3-tether-target-attached-top > .bp3-tooltip > .bp3-popover-arrow svg{
        -webkit-transform:rotate(-90deg);
                transform:rotate(-90deg); }
  .bp3-tether-element-attached-left.bp3-tether-target-attached-right > .bp3-tooltip{
    margin-left:11px; }
    .bp3-tether-element-attached-left.bp3-tether-target-attached-right > .bp3-tooltip > .bp3-popover-arrow{
      left:-8px; }
      .bp3-tether-element-attached-left.bp3-tether-target-attached-right > .bp3-tooltip > .bp3-popover-arrow svg{
        -webkit-transform:rotate(0);
                transform:rotate(0); }
  .bp3-tether-element-attached-top.bp3-tether-target-attached-bottom > .bp3-tooltip{
    margin-top:11px; }
    .bp3-tether-element-attached-top.bp3-tether-target-attached-bottom > .bp3-tooltip > .bp3-popover-arrow{
      top:-8px; }
      .bp3-tether-element-attached-top.bp3-tether-target-attached-bottom > .bp3-tooltip > .bp3-popover-arrow svg{
        -webkit-transform:rotate(90deg);
                transform:rotate(90deg); }
  .bp3-tether-element-attached-right.bp3-tether-target-attached-left > .bp3-tooltip{
    margin-left:-11px;
    margin-right:11px; }
    .bp3-tether-element-attached-right.bp3-tether-target-attached-left > .bp3-tooltip > .bp3-popover-arrow{
      right:-8px; }
      .bp3-tether-element-attached-right.bp3-tether-target-attached-left > .bp3-tooltip > .bp3-popover-arrow svg{
        -webkit-transform:rotate(180deg);
                transform:rotate(180deg); }
  .bp3-tether-element-attached-middle > .bp3-tooltip > .bp3-popover-arrow{
    top:50%;
    -webkit-transform:translateY(-50%);
            transform:translateY(-50%); }
  .bp3-tether-element-attached-center > .bp3-tooltip > .bp3-popover-arrow{
    right:50%;
    -webkit-transform:translateX(50%);
            transform:translateX(50%); }
  .bp3-tether-element-attached-top.bp3-tether-target-attached-top > .bp3-tooltip > .bp3-popover-arrow{
    top:-0.22183px; }
  .bp3-tether-element-attached-right.bp3-tether-target-attached-right > .bp3-tooltip > .bp3-popover-arrow{
    right:-0.22183px; }
  .bp3-tether-element-attached-left.bp3-tether-target-attached-left > .bp3-tooltip > .bp3-popover-arrow{
    left:-0.22183px; }
  .bp3-tether-element-attached-bottom.bp3-tether-target-attached-bottom > .bp3-tooltip > .bp3-popover-arrow{
    bottom:-0.22183px; }
  .bp3-tether-element-attached-top.bp3-tether-element-attached-left > .bp3-tooltip{
    -webkit-transform-origin:top left;
            transform-origin:top left; }
  .bp3-tether-element-attached-top.bp3-tether-element-attached-center > .bp3-tooltip{
    -webkit-transform-origin:top center;
            transform-origin:top center; }
  .bp3-tether-element-attached-top.bp3-tether-element-attached-right > .bp3-tooltip{
    -webkit-transform-origin:top right;
            transform-origin:top right; }
  .bp3-tether-element-attached-middle.bp3-tether-element-attached-left > .bp3-tooltip{
    -webkit-transform-origin:center left;
            transform-origin:center left; }
  .bp3-tether-element-attached-middle.bp3-tether-element-attached-center > .bp3-tooltip{
    -webkit-transform-origin:center center;
            transform-origin:center center; }
  .bp3-tether-element-attached-middle.bp3-tether-element-attached-right > .bp3-tooltip{
    -webkit-transform-origin:center right;
            transform-origin:center right; }
  .bp3-tether-element-attached-bottom.bp3-tether-element-attached-left > .bp3-tooltip{
    -webkit-transform-origin:bottom left;
            transform-origin:bottom left; }
  .bp3-tether-element-attached-bottom.bp3-tether-element-attached-center > .bp3-tooltip{
    -webkit-transform-origin:bottom center;
            transform-origin:bottom center; }
  .bp3-tether-element-attached-bottom.bp3-tether-element-attached-right > .bp3-tooltip{
    -webkit-transform-origin:bottom right;
            transform-origin:bottom right; }
  .bp3-tooltip .bp3-popover-content{
    background:#394b59;
    color:#f5f8fa; }
  .bp3-tooltip .bp3-popover-arrow::before{
    -webkit-box-shadow:1px 1px 6px rgba(16, 22, 26, 0.2);
            box-shadow:1px 1px 6px rgba(16, 22, 26, 0.2); }
  .bp3-tooltip .bp3-popover-arrow-border{
    fill:#10161a;
    fill-opacity:0.1; }
  .bp3-tooltip .bp3-popover-arrow-fill{
    fill:#394b59; }
  .bp3-popover-enter > .bp3-tooltip, .bp3-popover-appear > .bp3-tooltip{
    -webkit-transform:scale(0.8);
            transform:scale(0.8); }
  .bp3-popover-enter-active > .bp3-tooltip, .bp3-popover-appear-active > .bp3-tooltip{
    -webkit-transform:scale(1);
            transform:scale(1);
    -webkit-transition-delay:0;
            transition-delay:0;
    -webkit-transition-duration:100ms;
            transition-duration:100ms;
    -webkit-transition-property:-webkit-transform;
    transition-property:-webkit-transform;
    transition-property:transform;
    transition-property:transform, -webkit-transform;
    -webkit-transition-timing-function:cubic-bezier(0.4, 1, 0.75, 0.9);
            transition-timing-function:cubic-bezier(0.4, 1, 0.75, 0.9); }
  .bp3-popover-exit > .bp3-tooltip{
    -webkit-transform:scale(1);
            transform:scale(1); }
  .bp3-popover-exit-active > .bp3-tooltip{
    -webkit-transform:scale(0.8);
            transform:scale(0.8);
    -webkit-transition-delay:0;
            transition-delay:0;
    -webkit-transition-duration:100ms;
            transition-duration:100ms;
    -webkit-transition-property:-webkit-transform;
    transition-property:-webkit-transform;
    transition-property:transform;
    transition-property:transform, -webkit-transform;
    -webkit-transition-timing-function:cubic-bezier(0.4, 1, 0.75, 0.9);
            transition-timing-function:cubic-bezier(0.4, 1, 0.75, 0.9); }
  .bp3-tooltip .bp3-popover-content{
    padding:10px 12px; }
  .bp3-tooltip.bp3-dark,
  .bp3-dark .bp3-tooltip{
    -webkit-box-shadow:0 0 0 1px rgba(16, 22, 26, 0.2), 0 2px 4px rgba(16, 22, 26, 0.4), 0 8px 24px rgba(16, 22, 26, 0.4);
            box-shadow:0 0 0 1px rgba(16, 22, 26, 0.2), 0 2px 4px rgba(16, 22, 26, 0.4), 0 8px 24px rgba(16, 22, 26, 0.4); }
    .bp3-tooltip.bp3-dark .bp3-popover-content,
    .bp3-dark .bp3-tooltip .bp3-popover-content{
      background:#e1e8ed;
      color:#394b59; }
    .bp3-tooltip.bp3-dark .bp3-popover-arrow::before,
    .bp3-dark .bp3-tooltip .bp3-popover-arrow::before{
      -webkit-box-shadow:1px 1px 6px rgba(16, 22, 26, 0.4);
              box-shadow:1px 1px 6px rgba(16, 22, 26, 0.4); }
    .bp3-tooltip.bp3-dark .bp3-popover-arrow-border,
    .bp3-dark .bp3-tooltip .bp3-popover-arrow-border{
      fill:#10161a;
      fill-opacity:0.2; }
    .bp3-tooltip.bp3-dark .bp3-popover-arrow-fill,
    .bp3-dark .bp3-tooltip .bp3-popover-arrow-fill{
      fill:#e1e8ed; }
  .bp3-tooltip.bp3-intent-primary .bp3-popover-content{
    background:#137cbd;
    color:#ffffff; }
  .bp3-tooltip.bp3-intent-primary .bp3-popover-arrow-fill{
    fill:#137cbd; }
  .bp3-tooltip.bp3-intent-success .bp3-popover-content{
    background:#0f9960;
    color:#ffffff; }
  .bp3-tooltip.bp3-intent-success .bp3-popover-arrow-fill{
    fill:#0f9960; }
  .bp3-tooltip.bp3-intent-warning .bp3-popover-content{
    background:#d9822b;
    color:#ffffff; }
  .bp3-tooltip.bp3-intent-warning .bp3-popover-arrow-fill{
    fill:#d9822b; }
  .bp3-tooltip.bp3-intent-danger .bp3-popover-content{
    background:#db3737;
    color:#ffffff; }
  .bp3-tooltip.bp3-intent-danger .bp3-popover-arrow-fill{
    fill:#db3737; }

.bp3-tooltip-indicator{
  border-bottom:dotted 1px;
  cursor:help; }
.bp3-tree .bp3-icon, .bp3-tree .bp3-icon-standard, .bp3-tree .bp3-icon-large{
  color:#5c7080; }
  .bp3-tree .bp3-icon.bp3-intent-primary, .bp3-tree .bp3-icon-standard.bp3-intent-primary, .bp3-tree .bp3-icon-large.bp3-intent-primary{
    color:#137cbd; }
  .bp3-tree .bp3-icon.bp3-intent-success, .bp3-tree .bp3-icon-standard.bp3-intent-success, .bp3-tree .bp3-icon-large.bp3-intent-success{
    color:#0f9960; }
  .bp3-tree .bp3-icon.bp3-intent-warning, .bp3-tree .bp3-icon-standard.bp3-intent-warning, .bp3-tree .bp3-icon-large.bp3-intent-warning{
    color:#d9822b; }
  .bp3-tree .bp3-icon.bp3-intent-danger, .bp3-tree .bp3-icon-standard.bp3-intent-danger, .bp3-tree .bp3-icon-large.bp3-intent-danger{
    color:#db3737; }

.bp3-tree-node-list{
  list-style:none;
  margin:0;
  padding-left:0; }

.bp3-tree-root{
  background-color:transparent;
  cursor:default;
  padding-left:0;
  position:relative; }

.bp3-tree-node-content-0{
  padding-left:0px; }

.bp3-tree-node-content-1{
  padding-left:23px; }

.bp3-tree-node-content-2{
  padding-left:46px; }

.bp3-tree-node-content-3{
  padding-left:69px; }

.bp3-tree-node-content-4{
  padding-left:92px; }

.bp3-tree-node-content-5{
  padding-left:115px; }

.bp3-tree-node-content-6{
  padding-left:138px; }

.bp3-tree-node-content-7{
  padding-left:161px; }

.bp3-tree-node-content-8{
  padding-left:184px; }

.bp3-tree-node-content-9{
  padding-left:207px; }

.bp3-tree-node-content-10{
  padding-left:230px; }

.bp3-tree-node-content-11{
  padding-left:253px; }

.bp3-tree-node-content-12{
  padding-left:276px; }

.bp3-tree-node-content-13{
  padding-left:299px; }

.bp3-tree-node-content-14{
  padding-left:322px; }

.bp3-tree-node-content-15{
  padding-left:345px; }

.bp3-tree-node-content-16{
  padding-left:368px; }

.bp3-tree-node-content-17{
  padding-left:391px; }

.bp3-tree-node-content-18{
  padding-left:414px; }

.bp3-tree-node-content-19{
  padding-left:437px; }

.bp3-tree-node-content-20{
  padding-left:460px; }

.bp3-tree-node-content{
  -webkit-box-align:center;
      -ms-flex-align:center;
          align-items:center;
  display:-webkit-box;
  display:-ms-flexbox;
  display:flex;
  height:30px;
  padding-right:5px;
  width:100%; }
  .bp3-tree-node-content:hover{
    background-color:rgba(191, 204, 214, 0.4); }

.bp3-tree-node-caret,
.bp3-tree-node-caret-none{
  min-width:30px; }

.bp3-tree-node-caret{
  color:#5c7080;
  cursor:pointer;
  padding:7px;
  -webkit-transform:rotate(0deg);
          transform:rotate(0deg);
  -webkit-transition:-webkit-transform 200ms cubic-bezier(0.4, 1, 0.75, 0.9);
  transition:-webkit-transform 200ms cubic-bezier(0.4, 1, 0.75, 0.9);
  transition:transform 200ms cubic-bezier(0.4, 1, 0.75, 0.9);
  transition:transform 200ms cubic-bezier(0.4, 1, 0.75, 0.9), -webkit-transform 200ms cubic-bezier(0.4, 1, 0.75, 0.9); }
  .bp3-tree-node-caret:hover{
    color:#182026; }
  .bp3-dark .bp3-tree-node-caret{
    color:#a7b6c2; }
    .bp3-dark .bp3-tree-node-caret:hover{
      color:#f5f8fa; }
  .bp3-tree-node-caret.bp3-tree-node-caret-open{
    -webkit-transform:rotate(90deg);
            transform:rotate(90deg); }
  .bp3-tree-node-caret.bp3-icon-standard::before{
    content:""; }

.bp3-tree-node-icon{
  margin-right:7px;
  position:relative; }

.bp3-tree-node-label{
  overflow:hidden;
  text-overflow:ellipsis;
  white-space:nowrap;
  word-wrap:normal;
  -webkit-box-flex:1;
      -ms-flex:1 1 auto;
          flex:1 1 auto;
  position:relative;
  -webkit-user-select:none;
     -moz-user-select:none;
      -ms-user-select:none;
          user-select:none; }
  .bp3-tree-node-label span{
    display:inline; }

.bp3-tree-node-secondary-label{
  padding:0 5px;
  -webkit-user-select:none;
     -moz-user-select:none;
      -ms-user-select:none;
          user-select:none; }
  .bp3-tree-node-secondary-label .bp3-popover-wrapper,
  .bp3-tree-node-secondary-label .bp3-popover-target{
    -webkit-box-align:center;
        -ms-flex-align:center;
            align-items:center;
    display:-webkit-box;
    display:-ms-flexbox;
    display:flex; }

.bp3-tree-node.bp3-disabled .bp3-tree-node-content{
  background-color:inherit;
  color:rgba(92, 112, 128, 0.6);
  cursor:not-allowed; }

.bp3-tree-node.bp3-disabled .bp3-tree-node-caret,
.bp3-tree-node.bp3-disabled .bp3-tree-node-icon{
  color:rgba(92, 112, 128, 0.6);
  cursor:not-allowed; }

.bp3-tree-node.bp3-tree-node-selected > .bp3-tree-node-content{
  background-color:#137cbd; }
  .bp3-tree-node.bp3-tree-node-selected > .bp3-tree-node-content,
  .bp3-tree-node.bp3-tree-node-selected > .bp3-tree-node-content .bp3-icon, .bp3-tree-node.bp3-tree-node-selected > .bp3-tree-node-content .bp3-icon-standard, .bp3-tree-node.bp3-tree-node-selected > .bp3-tree-node-content .bp3-icon-large{
    color:#ffffff; }
  .bp3-tree-node.bp3-tree-node-selected > .bp3-tree-node-content .bp3-tree-node-caret::before{
    color:rgba(255, 255, 255, 0.7); }
  .bp3-tree-node.bp3-tree-node-selected > .bp3-tree-node-content .bp3-tree-node-caret:hover::before{
    color:#ffffff; }

.bp3-dark .bp3-tree-node-content:hover{
  background-color:rgba(92, 112, 128, 0.3); }

.bp3-dark .bp3-tree .bp3-icon, .bp3-dark .bp3-tree .bp3-icon-standard, .bp3-dark .bp3-tree .bp3-icon-large{
  color:#a7b6c2; }
  .bp3-dark .bp3-tree .bp3-icon.bp3-intent-primary, .bp3-dark .bp3-tree .bp3-icon-standard.bp3-intent-primary, .bp3-dark .bp3-tree .bp3-icon-large.bp3-intent-primary{
    color:#137cbd; }
  .bp3-dark .bp3-tree .bp3-icon.bp3-intent-success, .bp3-dark .bp3-tree .bp3-icon-standard.bp3-intent-success, .bp3-dark .bp3-tree .bp3-icon-large.bp3-intent-success{
    color:#0f9960; }
  .bp3-dark .bp3-tree .bp3-icon.bp3-intent-warning, .bp3-dark .bp3-tree .bp3-icon-standard.bp3-intent-warning, .bp3-dark .bp3-tree .bp3-icon-large.bp3-intent-warning{
    color:#d9822b; }
  .bp3-dark .bp3-tree .bp3-icon.bp3-intent-danger, .bp3-dark .bp3-tree .bp3-icon-standard.bp3-intent-danger, .bp3-dark .bp3-tree .bp3-icon-large.bp3-intent-danger{
    color:#db3737; }

.bp3-dark .bp3-tree-node.bp3-tree-node-selected > .bp3-tree-node-content{
  background-color:#137cbd; }
.bp3-omnibar{
  -webkit-filter:blur(0);
          filter:blur(0);
  opacity:1;
  background-color:#ffffff;
  border-radius:3px;
  -webkit-box-shadow:0 0 0 1px rgba(16, 22, 26, 0.1), 0 4px 8px rgba(16, 22, 26, 0.2), 0 18px 46px 6px rgba(16, 22, 26, 0.2);
          box-shadow:0 0 0 1px rgba(16, 22, 26, 0.1), 0 4px 8px rgba(16, 22, 26, 0.2), 0 18px 46px 6px rgba(16, 22, 26, 0.2);
  left:calc(50% - 250px);
  top:20vh;
  width:500px;
  z-index:21; }
  .bp3-omnibar.bp3-overlay-enter, .bp3-omnibar.bp3-overlay-appear{
    -webkit-filter:blur(20px);
            filter:blur(20px);
    opacity:0.2; }
  .bp3-omnibar.bp3-overlay-enter-active, .bp3-omnibar.bp3-overlay-appear-active{
    -webkit-filter:blur(0);
            filter:blur(0);
    opacity:1;
    -webkit-transition-delay:0;
            transition-delay:0;
    -webkit-transition-duration:200ms;
            transition-duration:200ms;
    -webkit-transition-property:opacity, -webkit-filter;
    transition-property:opacity, -webkit-filter;
    transition-property:filter, opacity;
    transition-property:filter, opacity, -webkit-filter;
    -webkit-transition-timing-function:cubic-bezier(0.4, 1, 0.75, 0.9);
            transition-timing-function:cubic-bezier(0.4, 1, 0.75, 0.9); }
  .bp3-omnibar.bp3-overlay-exit{
    -webkit-filter:blur(0);
            filter:blur(0);
    opacity:1; }
  .bp3-omnibar.bp3-overlay-exit-active{
    -webkit-filter:blur(20px);
            filter:blur(20px);
    opacity:0.2;
    -webkit-transition-delay:0;
            transition-delay:0;
    -webkit-transition-duration:200ms;
            transition-duration:200ms;
    -webkit-transition-property:opacity, -webkit-filter;
    transition-property:opacity, -webkit-filter;
    transition-property:filter, opacity;
    transition-property:filter, opacity, -webkit-filter;
    -webkit-transition-timing-function:cubic-bezier(0.4, 1, 0.75, 0.9);
            transition-timing-function:cubic-bezier(0.4, 1, 0.75, 0.9); }
  .bp3-omnibar .bp3-input{
    background-color:transparent;
    border-radius:0; }
    .bp3-omnibar .bp3-input, .bp3-omnibar .bp3-input:focus{
      -webkit-box-shadow:none;
              box-shadow:none; }
  .bp3-omnibar .bp3-menu{
    background-color:transparent;
    border-radius:0;
    -webkit-box-shadow:inset 0 1px 0 rgba(16, 22, 26, 0.15);
            box-shadow:inset 0 1px 0 rgba(16, 22, 26, 0.15);
    max-height:calc(60vh - 40px);
    overflow:auto; }
    .bp3-omnibar .bp3-menu:empty{
      display:none; }
  .bp3-dark .bp3-omnibar, .bp3-omnibar.bp3-dark{
    background-color:#30404d;
    -webkit-box-shadow:0 0 0 1px rgba(16, 22, 26, 0.2), 0 4px 8px rgba(16, 22, 26, 0.4), 0 18px 46px 6px rgba(16, 22, 26, 0.4);
            box-shadow:0 0 0 1px rgba(16, 22, 26, 0.2), 0 4px 8px rgba(16, 22, 26, 0.4), 0 18px 46px 6px rgba(16, 22, 26, 0.4); }

.bp3-omnibar-overlay .bp3-overlay-backdrop{
  background-color:rgba(16, 22, 26, 0.2); }

.bp3-select-popover .bp3-popover-content{
  padding:5px; }

.bp3-select-popover .bp3-input-group{
  margin-bottom:0; }

.bp3-select-popover .bp3-menu{
  max-height:300px;
  max-width:400px;
  overflow:auto;
  padding:0; }
  .bp3-select-popover .bp3-menu:not(:first-child){
    padding-top:5px; }

.bp3-multi-select{
  min-width:150px; }

.bp3-multi-select-popover .bp3-menu{
  max-height:300px;
  max-width:400px;
  overflow:auto; }

.bp3-select-popover .bp3-popover-content{
  padding:5px; }

.bp3-select-popover .bp3-input-group{
  margin-bottom:0; }

.bp3-select-popover .bp3-menu{
  max-height:300px;
  max-width:400px;
  overflow:auto;
  padding:0; }
  .bp3-select-popover .bp3-menu:not(:first-child){
    padding-top:5px; }
/*-----------------------------------------------------------------------------
| Copyright (c) Jupyter Development Team.
| Distributed under the terms of the Modified BSD License.
|----------------------------------------------------------------------------*/

/* This file was auto-generated by ensureUiComponents() in @jupyterlab/buildutils */

/**
 * (DEPRECATED) Support for consuming icons as CSS background images
 */

/* Icons urls */

:root {
  --jp-icon-add: url(data:image/svg+xml;base64,PHN2ZyB4bWxucz0iaHR0cDovL3d3dy53My5vcmcvMjAwMC9zdmciIHdpZHRoPSIxNiIgdmlld0JveD0iMCAwIDI0IDI0Ij4KICA8ZyBjbGFzcz0ianAtaWNvbjMiIGZpbGw9IiM2MTYxNjEiPgogICAgPHBhdGggZD0iTTE5IDEzaC02djZoLTJ2LTZINXYtMmg2VjVoMnY2aDZ2MnoiLz4KICA8L2c+Cjwvc3ZnPgo=);
  --jp-icon-bug: url(data:image/svg+xml;base64,PHN2ZyB2aWV3Qm94PSIwIDAgMjQgMjQiIHdpZHRoPSIxNiIgeG1sbnM9Imh0dHA6Ly93d3cudzMub3JnLzIwMDAvc3ZnIj4KICA8ZyBjbGFzcz0ianAtaWNvbjMganAtaWNvbi1zZWxlY3RhYmxlIiBmaWxsPSIjNjE2MTYxIj4KICAgIDxwYXRoIGQ9Ik0yMCA4aC0yLjgxYy0uNDUtLjc4LTEuMDctMS40NS0xLjgyLTEuOTZMMTcgNC40MSAxNS41OSAzbC0yLjE3IDIuMTdDMTIuOTYgNS4wNiAxMi40OSA1IDEyIDVjLS40OSAwLS45Ni4wNi0xLjQxLjE3TDguNDEgMyA3IDQuNDFsMS42MiAxLjYzQzcuODggNi41NSA3LjI2IDcuMjIgNi44MSA4SDR2MmgyLjA5Yy0uMDUuMzMtLjA5LjY2LS4wOSAxdjFINHYyaDJ2MWMwIC4zNC4wNC42Ny4wOSAxSDR2MmgyLjgxYzEuMDQgMS43OSAyLjk3IDMgNS4xOSAzczQuMTUtMS4yMSA1LjE5LTNIMjB2LTJoLTIuMDljLjA1LS4zMy4wOS0uNjYuMDktMXYtMWgydi0yaC0ydi0xYzAtLjM0LS4wNC0uNjctLjA5LTFIMjBWOHptLTYgOGgtNHYtMmg0djJ6bTAtNGgtNHYtMmg0djJ6Ii8+CiAgPC9nPgo8L3N2Zz4K);
  --jp-icon-build: url(data:image/svg+xml;base64,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);
  --jp-icon-caret-down-empty-thin: url(data:image/svg+xml;base64,PHN2ZyB4bWxucz0iaHR0cDovL3d3dy53My5vcmcvMjAwMC9zdmciIHdpZHRoPSIxNiIgdmlld0JveD0iMCAwIDIwIDIwIj4KCTxnIGNsYXNzPSJqcC1pY29uMyIgZmlsbD0iIzYxNjE2MSIgc2hhcGUtcmVuZGVyaW5nPSJnZW9tZXRyaWNQcmVjaXNpb24iPgoJCTxwb2x5Z29uIGNsYXNzPSJzdDEiIHBvaW50cz0iOS45LDEzLjYgMy42LDcuNCA0LjQsNi42IDkuOSwxMi4yIDE1LjQsNi43IDE2LjEsNy40ICIvPgoJPC9nPgo8L3N2Zz4K);
  --jp-icon-caret-down-empty: url(data:image/svg+xml;base64,PHN2ZyB4bWxucz0iaHR0cDovL3d3dy53My5vcmcvMjAwMC9zdmciIHdpZHRoPSIxNiIgdmlld0JveD0iMCAwIDE4IDE4Ij4KICA8ZyBjbGFzcz0ianAtaWNvbjMiIGZpbGw9IiM2MTYxNjEiIHNoYXBlLXJlbmRlcmluZz0iZ2VvbWV0cmljUHJlY2lzaW9uIj4KICAgIDxwYXRoIGQ9Ik01LjIsNS45TDksOS43bDMuOC0zLjhsMS4yLDEuMmwtNC45LDVsLTQuOS01TDUuMiw1Ljl6Ii8+CiAgPC9nPgo8L3N2Zz4K);
  --jp-icon-caret-down: url(data:image/svg+xml;base64,PHN2ZyB4bWxucz0iaHR0cDovL3d3dy53My5vcmcvMjAwMC9zdmciIHdpZHRoPSIxNiIgdmlld0JveD0iMCAwIDE4IDE4Ij4KICA8ZyBjbGFzcz0ianAtaWNvbjMiIGZpbGw9IiM2MTYxNjEiIHNoYXBlLXJlbmRlcmluZz0iZ2VvbWV0cmljUHJlY2lzaW9uIj4KICAgIDxwYXRoIGQ9Ik01LjIsNy41TDksMTEuMmwzLjgtMy44SDUuMnoiLz4KICA8L2c+Cjwvc3ZnPgo=);
  --jp-icon-caret-left: url(data:image/svg+xml;base64,PHN2ZyB4bWxucz0iaHR0cDovL3d3dy53My5vcmcvMjAwMC9zdmciIHdpZHRoPSIxNiIgdmlld0JveD0iMCAwIDE4IDE4Ij4KCTxnIGNsYXNzPSJqcC1pY29uMyIgZmlsbD0iIzYxNjE2MSIgc2hhcGUtcmVuZGVyaW5nPSJnZW9tZXRyaWNQcmVjaXNpb24iPgoJCTxwYXRoIGQ9Ik0xMC44LDEyLjhMNy4xLDlsMy44LTMuOGwwLDcuNkgxMC44eiIvPgogIDwvZz4KPC9zdmc+Cg==);
  --jp-icon-caret-right: url(data:image/svg+xml;base64,PHN2ZyB4bWxucz0iaHR0cDovL3d3dy53My5vcmcvMjAwMC9zdmciIHdpZHRoPSIxNiIgdmlld0JveD0iMCAwIDE4IDE4Ij4KICA8ZyBjbGFzcz0ianAtaWNvbjMiIGZpbGw9IiM2MTYxNjEiIHNoYXBlLXJlbmRlcmluZz0iZ2VvbWV0cmljUHJlY2lzaW9uIj4KICAgIDxwYXRoIGQ9Ik03LjIsNS4yTDEwLjksOWwtMy44LDMuOFY1LjJINy4yeiIvPgogIDwvZz4KPC9zdmc+Cg==);
  --jp-icon-caret-up-empty-thin: url(data:image/svg+xml;base64,PHN2ZyB4bWxucz0iaHR0cDovL3d3dy53My5vcmcvMjAwMC9zdmciIHdpZHRoPSIxNiIgdmlld0JveD0iMCAwIDIwIDIwIj4KCTxnIGNsYXNzPSJqcC1pY29uMyIgZmlsbD0iIzYxNjE2MSIgc2hhcGUtcmVuZGVyaW5nPSJnZW9tZXRyaWNQcmVjaXNpb24iPgoJCTxwb2x5Z29uIGNsYXNzPSJzdDEiIHBvaW50cz0iMTUuNCwxMy4zIDkuOSw3LjcgNC40LDEzLjIgMy42LDEyLjUgOS45LDYuMyAxNi4xLDEyLjYgIi8+Cgk8L2c+Cjwvc3ZnPgo=);
  --jp-icon-caret-up: url(data:image/svg+xml;base64,PHN2ZyB4bWxucz0iaHR0cDovL3d3dy53My5vcmcvMjAwMC9zdmciIHdpZHRoPSIxNiIgdmlld0JveD0iMCAwIDE4IDE4Ij4KCTxnIGNsYXNzPSJqcC1pY29uMyIgZmlsbD0iIzYxNjE2MSIgc2hhcGUtcmVuZGVyaW5nPSJnZW9tZXRyaWNQcmVjaXNpb24iPgoJCTxwYXRoIGQ9Ik01LjIsMTAuNUw5LDYuOGwzLjgsMy44SDUuMnoiLz4KICA8L2c+Cjwvc3ZnPgo=);
  --jp-icon-case-sensitive: url(data:image/svg+xml;base64,PHN2ZyB4bWxucz0iaHR0cDovL3d3dy53My5vcmcvMjAwMC9zdmciIHdpZHRoPSIxNiIgdmlld0JveD0iMCAwIDIwIDIwIj4KICA8ZyBjbGFzcz0ianAtaWNvbjIiIGZpbGw9IiM0MTQxNDEiPgogICAgPHJlY3QgeD0iMiIgeT0iMiIgd2lkdGg9IjE2IiBoZWlnaHQ9IjE2Ii8+CiAgPC9nPgogIDxnIGNsYXNzPSJqcC1pY29uLWFjY2VudDIiIGZpbGw9IiNGRkYiPgogICAgPHBhdGggZD0iTTcuNiw4aDAuOWwzLjUsOGgtMS4xTDEwLDE0SDZsLTAuOSwySDRMNy42LDh6IE04LDkuMUw2LjQsMTNoMy4yTDgsOS4xeiIvPgogICAgPHBhdGggZD0iTTE2LjYsOS44Yy0wLjIsMC4xLTAuNCwwLjEtMC43LDAuMWMtMC4yLDAtMC40LTAuMS0wLjYtMC4yYy0wLjEtMC4xLTAuMi0wLjQtMC4yLTAuNyBjLTAuMywwLjMtMC42LDAuNS0wLjksMC43Yy0wLjMsMC4xLTAuNywwLjItMS4xLDAuMmMtMC4zLDAtMC41LDAtMC43LTAuMWMtMC4yLTAuMS0wLjQtMC4yLTAuNi0wLjNjLTAuMi0wLjEtMC4zLTAuMy0wLjQtMC41IGMtMC4xLTAuMi0wLjEtMC40LTAuMS0wLjdjMC0wLjMsMC4xLTAuNiwwLjItMC44YzAuMS0wLjIsMC4zLTAuNCwwLjQtMC41QzEyLDcsMTIuMiw2LjksMTIuNSw2LjhjMC4yLTAuMSwwLjUtMC4xLDAuNy0wLjIgYzAuMy0wLjEsMC41LTAuMSwwLjctMC4xYzAuMiwwLDAuNC0wLjEsMC42LTAuMWMwLjIsMCwwLjMtMC4xLDAuNC0wLjJjMC4xLTAuMSwwLjItMC4yLDAuMi0wLjRjMC0xLTEuMS0xLTEuMy0xIGMtMC40LDAtMS40LDAtMS40LDEuMmgtMC45YzAtMC40LDAuMS0wLjcsMC4yLTFjMC4xLTAuMiwwLjMtMC40LDAuNS0wLjZjMC4yLTAuMiwwLjUtMC4zLDAuOC0wLjNDMTMuMyw0LDEzLjYsNCwxMy45LDQgYzAuMywwLDAuNSwwLDAuOCwwLjFjMC4zLDAsMC41LDAuMSwwLjcsMC4yYzAuMiwwLjEsMC40LDAuMywwLjUsMC41QzE2LDUsMTYsNS4yLDE2LDUuNnYyLjljMCwwLjIsMCwwLjQsMCwwLjUgYzAsMC4xLDAuMSwwLjIsMC4zLDAuMmMwLjEsMCwwLjIsMCwwLjMsMFY5Ljh6IE0xNS4yLDYuOWMtMS4yLDAuNi0zLjEsMC4yLTMuMSwxLjRjMCwxLjQsMy4xLDEsMy4xLTAuNVY2Ljl6Ii8+CiAgPC9nPgo8L3N2Zz4K);
  --jp-icon-check: url(data:image/svg+xml;base64,PHN2ZyB4bWxucz0iaHR0cDovL3d3dy53My5vcmcvMjAwMC9zdmciIHdpZHRoPSIxNiIgdmlld0JveD0iMCAwIDI0IDI0Ij4KICA8ZyBjbGFzcz0ianAtaWNvbjMganAtaWNvbi1zZWxlY3RhYmxlIiBmaWxsPSIjNjE2MTYxIj4KICAgIDxwYXRoIGQ9Ik05IDE2LjE3TDQuODMgMTJsLTEuNDIgMS40MUw5IDE5IDIxIDdsLTEuNDEtMS40MXoiLz4KICA8L2c+Cjwvc3ZnPgo=);
  --jp-icon-circle-empty: url(data:image/svg+xml;base64,PHN2ZyB4bWxucz0iaHR0cDovL3d3dy53My5vcmcvMjAwMC9zdmciIHdpZHRoPSIxNiIgdmlld0JveD0iMCAwIDI0IDI0Ij4KICA8ZyBjbGFzcz0ianAtaWNvbjMiIGZpbGw9IiM2MTYxNjEiPgogICAgPHBhdGggZD0iTTEyIDJDNi40NyAyIDIgNi40NyAyIDEyczQuNDcgMTAgMTAgMTAgMTAtNC40NyAxMC0xMFMxNy41MyAyIDEyIDJ6bTAgMThjLTQuNDEgMC04LTMuNTktOC04czMuNTktOCA4LTggOCAzLjU5IDggOC0zLjU5IDgtOCA4eiIvPgogIDwvZz4KPC9zdmc+Cg==);
  --jp-icon-circle: url(data:image/svg+xml;base64,PHN2ZyB2aWV3Qm94PSIwIDAgMTggMTgiIHdpZHRoPSIxNiIgeG1sbnM9Imh0dHA6Ly93d3cudzMub3JnLzIwMDAvc3ZnIj4KICA8ZyBjbGFzcz0ianAtaWNvbjMiIGZpbGw9IiM2MTYxNjEiPgogICAgPGNpcmNsZSBjeD0iOSIgY3k9IjkiIHI9IjgiLz4KICA8L2c+Cjwvc3ZnPgo=);
  --jp-icon-clear: url(data:image/svg+xml;base64,PHN2ZyB4bWxucz0iaHR0cDovL3d3dy53My5vcmcvMjAwMC9zdmciIHdpZHRoPSIxNiIgdmlld0JveD0iMCAwIDI0IDI0Ij4KICA8bWFzayBpZD0iZG9udXRIb2xlIj4KICAgIDxyZWN0IHdpZHRoPSIyNCIgaGVpZ2h0PSIyNCIgZmlsbD0id2hpdGUiIC8+CiAgICA8Y2lyY2xlIGN4PSIxMiIgY3k9IjEyIiByPSI4IiBmaWxsPSJibGFjayIvPgogIDwvbWFzaz4KCiAgPGcgY2xhc3M9ImpwLWljb24zIiBmaWxsPSIjNjE2MTYxIj4KICAgIDxyZWN0IGhlaWdodD0iMTgiIHdpZHRoPSIyIiB4PSIxMSIgeT0iMyIgdHJhbnNmb3JtPSJyb3RhdGUoMzE1LCAxMiwgMTIpIi8+CiAgICA8Y2lyY2xlIGN4PSIxMiIgY3k9IjEyIiByPSIxMCIgbWFzaz0idXJsKCNkb251dEhvbGUpIi8+CiAgPC9nPgo8L3N2Zz4K);
  --jp-icon-close: url(data:image/svg+xml;base64,PHN2ZyB2aWV3Qm94PSIwIDAgMjQgMjQiIHdpZHRoPSIxNiIgeG1sbnM9Imh0dHA6Ly93d3cudzMub3JnLzIwMDAvc3ZnIj4KICA8ZyBjbGFzcz0ianAtaWNvbi1ub25lIGpwLWljb24tc2VsZWN0YWJsZS1pbnZlcnNlIGpwLWljb24zLWhvdmVyIiBmaWxsPSJub25lIj4KICAgIDxjaXJjbGUgY3g9IjEyIiBjeT0iMTIiIHI9IjExIi8+CiAgPC9nPgoKICA8ZyBjbGFzcz0ianAtaWNvbjMganAtaWNvbi1zZWxlY3RhYmxlIGpwLWljb24tYWNjZW50Mi1ob3ZlciIgZmlsbD0iIzYxNjE2MSI+CiAgICA8cGF0aCBkPSJNMTkgNi40MUwxNy41OSA1IDEyIDEwLjU5IDYuNDEgNSA1IDYuNDEgMTAuNTkgMTIgNSAxNy41OSA2LjQxIDE5IDEyIDEzLjQxIDE3LjU5IDE5IDE5IDE3LjU5IDEzLjQxIDEyeiIvPgogIDwvZz4KCiAgPGcgY2xhc3M9ImpwLWljb24tbm9uZSBqcC1pY29uLWJ1c3kiIGZpbGw9Im5vbmUiPgogICAgPGNpcmNsZSBjeD0iMTIiIGN5PSIxMiIgcj0iNyIvPgogIDwvZz4KPC9zdmc+Cg==);
  --jp-icon-code: url(data:image/svg+xml;base64,PHN2ZyB3aWR0aD0iMjIiIGhlaWdodD0iMjIiIHZpZXdCb3g9IjAgMCAyOCAyOCIgeG1sbnM9Imh0dHA6Ly93d3cudzMub3JnLzIwMDAvc3ZnIj4KCTxnIGNsYXNzPSJqcC1pY29uMyIgZmlsbD0iIzYxNjE2MSI+CgkJPHBhdGggZD0iTTExLjQgMTguNkw2LjggMTRMMTEuNCA5LjRMMTAgOEw0IDE0TDEwIDIwTDExLjQgMTguNlpNMTYuNiAxOC42TDIxLjIgMTRMMTYuNiA5LjRMMTggOEwyNCAxNEwxOCAyMEwxNi42IDE4LjZWMTguNloiLz4KCTwvZz4KPC9zdmc+Cg==);
  --jp-icon-console: url(data:image/svg+xml;base64,PHN2ZyB4bWxucz0iaHR0cDovL3d3dy53My5vcmcvMjAwMC9zdmciIHdpZHRoPSIxNiIgdmlld0JveD0iMCAwIDIwMCAyMDAiPgogIDxnIGNsYXNzPSJqcC1pY29uLWJyYW5kMSBqcC1pY29uLXNlbGVjdGFibGUiIGZpbGw9IiMwMjg4RDEiPgogICAgPHBhdGggZD0iTTIwIDE5LjhoMTYwdjE1OS45SDIweiIvPgogIDwvZz4KICA8ZyBjbGFzcz0ianAtaWNvbi1zZWxlY3RhYmxlLWludmVyc2UiIGZpbGw9IiNmZmYiPgogICAgPHBhdGggZD0iTTEwNSAxMjcuM2g0MHYxMi44aC00MHpNNTEuMSA3N0w3NCA5OS45bC0yMy4zIDIzLjMgMTAuNSAxMC41IDIzLjMtMjMuM0w5NSA5OS45IDg0LjUgODkuNCA2MS42IDY2LjV6Ii8+CiAgPC9nPgo8L3N2Zz4K);
  --jp-icon-copy: url(data:image/svg+xml;base64,PHN2ZyB2aWV3Qm94PSIwIDAgMTggMTgiIHdpZHRoPSIxNiIgeG1sbnM9Imh0dHA6Ly93d3cudzMub3JnLzIwMDAvc3ZnIj4KICA8ZyBjbGFzcz0ianAtaWNvbjMiIGZpbGw9IiM2MTYxNjEiPgogICAgPHBhdGggZD0iTTExLjksMUgzLjJDMi40LDEsMS43LDEuNywxLjcsMi41djEwLjJoMS41VjIuNWg4LjdWMXogTTE0LjEsMy45aC04Yy0wLjgsMC0xLjUsMC43LTEuNSwxLjV2MTAuMmMwLDAuOCwwLjcsMS41LDEuNSwxLjVoOCBjMC44LDAsMS41LTAuNywxLjUtMS41VjUuNEMxNS41LDQuNiwxNC45LDMuOSwxNC4xLDMuOXogTTE0LjEsMTUuNWgtOFY1LjRoOFYxNS41eiIvPgogIDwvZz4KPC9zdmc+Cg==);
  --jp-icon-copyright: url(data:image/svg+xml;base64,PHN2ZyB4bWxucz0iaHR0cDovL3d3dy53My5vcmcvMjAwMC9zdmciIGVuYWJsZS1iYWNrZ3JvdW5kPSJuZXcgMCAwIDI0IDI0IiBoZWlnaHQ9IjI0IiB2aWV3Qm94PSIwIDAgMjQgMjQiIHdpZHRoPSIyNCI+CiAgPGcgY2xhc3M9ImpwLWljb24zIiBmaWxsPSIjNjE2MTYxIj4KICAgIDxwYXRoIGQ9Ik0xMS44OCw5LjE0YzEuMjgsMC4wNiwxLjYxLDEuMTUsMS42MywxLjY2aDEuNzljLTAuMDgtMS45OC0xLjQ5LTMuMTktMy40NS0zLjE5QzkuNjQsNy42MSw4LDksOCwxMi4xNCBjMCwxLjk0LDAuOTMsNC4yNCwzLjg0LDQuMjRjMi4yMiwwLDMuNDEtMS42NSwzLjQ0LTIuOTVoLTEuNzljLTAuMDMsMC41OS0wLjQ1LDEuMzgtMS42MywxLjQ0QzEwLjU1LDE0LjgzLDEwLDEzLjgxLDEwLDEyLjE0IEMxMCw5LjI1LDExLjI4LDkuMTYsMTEuODgsOS4xNHogTTEyLDJDNi40OCwyLDIsNi40OCwyLDEyczQuNDgsMTAsMTAsMTBzMTAtNC40OCwxMC0xMFMxNy41MiwyLDEyLDJ6IE0xMiwyMGMtNC40MSwwLTgtMy41OS04LTggczMuNTktOCw4LThzOCwzLjU5LDgsOFMxNi40MSwyMCwxMiwyMHoiLz4KICA8L2c+Cjwvc3ZnPgo=);
  --jp-icon-cut: url(data:image/svg+xml;base64,PHN2ZyB2aWV3Qm94PSIwIDAgMjQgMjQiIHdpZHRoPSIxNiIgeG1sbnM9Imh0dHA6Ly93d3cudzMub3JnLzIwMDAvc3ZnIj4KICA8ZyBjbGFzcz0ianAtaWNvbjMiIGZpbGw9IiM2MTYxNjEiPgogICAgPHBhdGggZD0iTTkuNjQgNy42NGMuMjMtLjUuMzYtMS4wNS4zNi0xLjY0IDAtMi4yMS0xLjc5LTQtNC00UzIgMy43OSAyIDZzMS43OSA0IDQgNGMuNTkgMCAxLjE0LS4xMyAxLjY0LS4zNkwxMCAxMmwtMi4zNiAyLjM2QzcuMTQgMTQuMTMgNi41OSAxNCA2IDE0Yy0yLjIxIDAtNCAxLjc5LTQgNHMxLjc5IDQgNCA0IDQtMS43OSA0LTRjMC0uNTktLjEzLTEuMTQtLjM2LTEuNjRMMTIgMTRsNyA3aDN2LTFMOS42NCA3LjY0ek02IDhjLTEuMSAwLTItLjg5LTItMnMuOS0yIDItMiAyIC44OSAyIDItLjkgMi0yIDJ6bTAgMTJjLTEuMSAwLTItLjg5LTItMnMuOS0yIDItMiAyIC44OSAyIDItLjkgMi0yIDJ6bTYtNy41Yy0uMjggMC0uNS0uMjItLjUtLjVzLjIyLS41LjUtLjUuNS4yMi41LjUtLjIyLjUtLjUuNXpNMTkgM2wtNiA2IDIgMiA3LTdWM3oiLz4KICA8L2c+Cjwvc3ZnPgo=);
  --jp-icon-download: url(data:image/svg+xml;base64,PHN2ZyB2aWV3Qm94PSIwIDAgMjQgMjQiIHdpZHRoPSIxNiIgeG1sbnM9Imh0dHA6Ly93d3cudzMub3JnLzIwMDAvc3ZnIj4KICA8ZyBjbGFzcz0ianAtaWNvbjMiIGZpbGw9IiM2MTYxNjEiPgogICAgPHBhdGggZD0iTTE5IDloLTRWM0g5djZINWw3IDcgNy03ek01IDE4djJoMTR2LTJINXoiLz4KICA8L2c+Cjwvc3ZnPgo=);
  --jp-icon-edit: url(data:image/svg+xml;base64,PHN2ZyB2aWV3Qm94PSIwIDAgMjQgMjQiIHdpZHRoPSIxNiIgeG1sbnM9Imh0dHA6Ly93d3cudzMub3JnLzIwMDAvc3ZnIj4KICA8ZyBjbGFzcz0ianAtaWNvbjMiIGZpbGw9IiM2MTYxNjEiPgogICAgPHBhdGggZD0iTTMgMTcuMjVWMjFoMy43NUwxNy44MSA5Ljk0bC0zLjc1LTMuNzVMMyAxNy4yNXpNMjAuNzEgNy4wNGMuMzktLjM5LjM5LTEuMDIgMC0xLjQxbC0yLjM0LTIuMzRjLS4zOS0uMzktMS4wMi0uMzktMS40MSAwbC0xLjgzIDEuODMgMy43NSAzLjc1IDEuODMtMS44M3oiLz4KICA8L2c+Cjwvc3ZnPgo=);
  --jp-icon-ellipses: url(data:image/svg+xml;base64,PHN2ZyB2aWV3Qm94PSIwIDAgMjQgMjQiIHdpZHRoPSIxNiIgeG1sbnM9Imh0dHA6Ly93d3cudzMub3JnLzIwMDAvc3ZnIj4KICA8ZyBjbGFzcz0ianAtaWNvbjMiIGZpbGw9IiM2MTYxNjEiPgogICAgPGNpcmNsZSBjeD0iNSIgY3k9IjEyIiByPSIyIi8+CiAgICA8Y2lyY2xlIGN4PSIxMiIgY3k9IjEyIiByPSIyIi8+CiAgICA8Y2lyY2xlIGN4PSIxOSIgY3k9IjEyIiByPSIyIi8+CiAgPC9nPgo8L3N2Zz4K);
  --jp-icon-extension: url(data:image/svg+xml;base64,PHN2ZyB4bWxucz0iaHR0cDovL3d3dy53My5vcmcvMjAwMC9zdmciIHdpZHRoPSIxNiIgdmlld0JveD0iMCAwIDI0IDI0Ij4KICA8ZyBjbGFzcz0ianAtaWNvbjMiIGZpbGw9IiM2MTYxNjEiPgogICAgPHBhdGggZD0iTTIwLjUgMTFIMTlWN2MwLTEuMS0uOS0yLTItMmgtNFYzLjVDMTMgMi4xMiAxMS44OCAxIDEwLjUgMVM4IDIuMTIgOCAzLjVWNUg0Yy0xLjEgMC0xLjk5LjktMS45OSAydjMuOEgzLjVjMS40OSAwIDIuNyAxLjIxIDIuNyAyLjdzLTEuMjEgMi43LTIuNyAyLjdIMlYyMGMwIDEuMS45IDIgMiAyaDMuOHYtMS41YzAtMS40OSAxLjIxLTIuNyAyLjctMi43IDEuNDkgMCAyLjcgMS4yMSAyLjcgMi43VjIySDE3YzEuMSAwIDItLjkgMi0ydi00aDEuNWMxLjM4IDAgMi41LTEuMTIgMi41LTIuNVMyMS44OCAxMSAyMC41IDExeiIvPgogIDwvZz4KPC9zdmc+Cg==);
  --jp-icon-fast-forward: url(data:image/svg+xml;base64,PHN2ZyB4bWxucz0iaHR0cDovL3d3dy53My5vcmcvMjAwMC9zdmciIHdpZHRoPSIyNCIgaGVpZ2h0PSIyNCIgdmlld0JveD0iMCAwIDI0IDI0Ij4KICAgIDxnIGNsYXNzPSJqcC1pY29uMyIgZmlsbD0iIzYxNjE2MSI+CiAgICAgICAgPHBhdGggZD0iTTQgMThsOC41LTZMNCA2djEyem05LTEydjEybDguNS02TDEzIDZ6Ii8+CiAgICA8L2c+Cjwvc3ZnPgo=);
  --jp-icon-file-upload: url(data:image/svg+xml;base64,PHN2ZyB4bWxucz0iaHR0cDovL3d3dy53My5vcmcvMjAwMC9zdmciIHdpZHRoPSIxNiIgdmlld0JveD0iMCAwIDI0IDI0Ij4KICA8ZyBjbGFzcz0ianAtaWNvbjMiIGZpbGw9IiM2MTYxNjEiPgogICAgPHBhdGggZD0iTTkgMTZoNnYtNmg0bC03LTctNyA3aDR6bS00IDJoMTR2Mkg1eiIvPgogIDwvZz4KPC9zdmc+Cg==);
  --jp-icon-file: url(data:image/svg+xml;base64,PHN2ZyB4bWxucz0iaHR0cDovL3d3dy53My5vcmcvMjAwMC9zdmciIHdpZHRoPSIxNiIgdmlld0JveD0iMCAwIDIyIDIyIj4KICA8cGF0aCBjbGFzcz0ianAtaWNvbjMganAtaWNvbi1zZWxlY3RhYmxlIiBmaWxsPSIjNjE2MTYxIiBkPSJNMTkuMyA4LjJsLTUuNS01LjVjLS4zLS4zLS43LS41LTEuMi0uNUgzLjljLS44LjEtMS42LjktMS42IDEuOHYxNC4xYzAgLjkuNyAxLjYgMS42IDEuNmgxNC4yYy45IDAgMS42LS43IDEuNi0xLjZWOS40Yy4xLS41LS4xLS45LS40LTEuMnptLTUuOC0zLjNsMy40IDMuNmgtMy40VjQuOXptMy45IDEyLjdINC43Yy0uMSAwLS4yIDAtLjItLjJWNC43YzAtLjIuMS0uMy4yLS4zaDcuMnY0LjRzMCAuOC4zIDEuMWMuMy4zIDEuMS4zIDEuMS4zaDQuM3Y3LjJzLS4xLjItLjIuMnoiLz4KPC9zdmc+Cg==);
  --jp-icon-filter-list: url(data:image/svg+xml;base64,PHN2ZyB4bWxucz0iaHR0cDovL3d3dy53My5vcmcvMjAwMC9zdmciIHdpZHRoPSIxNiIgdmlld0JveD0iMCAwIDI0IDI0Ij4KICA8ZyBjbGFzcz0ianAtaWNvbjMiIGZpbGw9IiM2MTYxNjEiPgogICAgPHBhdGggZD0iTTEwIDE4aDR2LTJoLTR2MnpNMyA2djJoMThWNkgzem0zIDdoMTJ2LTJINnYyeiIvPgogIDwvZz4KPC9zdmc+Cg==);
  --jp-icon-folder: url(data:image/svg+xml;base64,PHN2ZyB4bWxucz0iaHR0cDovL3d3dy53My5vcmcvMjAwMC9zdmciIHdpZHRoPSIxNiIgdmlld0JveD0iMCAwIDI0IDI0Ij4KICA8cGF0aCBjbGFzcz0ianAtaWNvbjMganAtaWNvbi1zZWxlY3RhYmxlIiBmaWxsPSIjNjE2MTYxIiBkPSJNMTAgNEg0Yy0xLjEgMC0xLjk5LjktMS45OSAyTDIgMThjMCAxLjEuOSAyIDIgMmgxNmMxLjEgMCAyLS45IDItMlY4YzAtMS4xLS45LTItMi0yaC04bC0yLTJ6Ii8+Cjwvc3ZnPgo=);
  --jp-icon-html5: url(data:image/svg+xml;base64,PHN2ZyB4bWxucz0iaHR0cDovL3d3dy53My5vcmcvMjAwMC9zdmciIHdpZHRoPSIxNiIgdmlld0JveD0iMCAwIDUxMiA1MTIiPgogIDxwYXRoIGNsYXNzPSJqcC1pY29uMCBqcC1pY29uLXNlbGVjdGFibGUiIGZpbGw9IiMwMDAiIGQ9Ik0xMDguNCAwaDIzdjIyLjhoMjEuMlYwaDIzdjY5aC0yM1Y0NmgtMjF2MjNoLTIzLjJNMjA2IDIzaC0yMC4zVjBoNjMuN3YyM0gyMjl2NDZoLTIzbTUzLjUtNjloMjQuMWwxNC44IDI0LjNMMzEzLjIgMGgyNC4xdjY5aC0yM1YzNC44bC0xNi4xIDI0LjgtMTYuMS0yNC44VjY5aC0yMi42bTg5LjItNjloMjN2NDYuMmgzMi42VjY5aC01NS42Ii8+CiAgPHBhdGggY2xhc3M9ImpwLWljb24tc2VsZWN0YWJsZSIgZmlsbD0iI2U0NGQyNiIgZD0iTTEwNy42IDQ3MWwtMzMtMzcwLjRoMzYyLjhsLTMzIDM3MC4yTDI1NS43IDUxMiIvPgogIDxwYXRoIGNsYXNzPSJqcC1pY29uLXNlbGVjdGFibGUiIGZpbGw9IiNmMTY1MjkiIGQ9Ik0yNTYgNDgwLjVWMTMxaDE0OC4zTDM3NiA0NDciLz4KICA8cGF0aCBjbGFzcz0ianAtaWNvbi1zZWxlY3RhYmxlLWludmVyc2UiIGZpbGw9IiNlYmViZWIiIGQ9Ik0xNDIgMTc2LjNoMTE0djQ1LjRoLTY0LjJsNC4yIDQ2LjVoNjB2NDUuM0gxNTQuNG0yIDIyLjhIMjAybDMuMiAzNi4zIDUwLjggMTMuNnY0Ny40bC05My4yLTI2Ii8+CiAgPHBhdGggY2xhc3M9ImpwLWljb24tc2VsZWN0YWJsZS1pbnZlcnNlIiBmaWxsPSIjZmZmIiBkPSJNMzY5LjYgMTc2LjNIMjU1Ljh2NDUuNGgxMDkuNm0tNC4xIDQ2LjVIMjU1Ljh2NDUuNGg1NmwtNS4zIDU5LTUwLjcgMTMuNnY0Ny4ybDkzLTI1LjgiLz4KPC9zdmc+Cg==);
  --jp-icon-image: url(data:image/svg+xml;base64,PHN2ZyB4bWxucz0iaHR0cDovL3d3dy53My5vcmcvMjAwMC9zdmciIHdpZHRoPSIxNiIgdmlld0JveD0iMCAwIDIyIDIyIj4KICA8cGF0aCBjbGFzcz0ianAtaWNvbi1icmFuZDQganAtaWNvbi1zZWxlY3RhYmxlLWludmVyc2UiIGZpbGw9IiNGRkYiIGQ9Ik0yLjIgMi4yaDE3LjV2MTcuNUgyLjJ6Ii8+CiAgPHBhdGggY2xhc3M9ImpwLWljb24tYnJhbmQwIGpwLWljb24tc2VsZWN0YWJsZSIgZmlsbD0iIzNGNTFCNSIgZD0iTTIuMiAyLjJ2MTcuNWgxNy41bC4xLTE3LjVIMi4yem0xMi4xIDIuMmMxLjIgMCAyLjIgMSAyLjIgMi4ycy0xIDIuMi0yLjIgMi4yLTIuMi0xLTIuMi0yLjIgMS0yLjIgMi4yLTIuMnpNNC40IDE3LjZsMy4zLTguOCAzLjMgNi42IDIuMi0zLjIgNC40IDUuNEg0LjR6Ii8+Cjwvc3ZnPgo=);
  --jp-icon-inspector: url(data:image/svg+xml;base64,PHN2ZyB4bWxucz0iaHR0cDovL3d3dy53My5vcmcvMjAwMC9zdmciIHdpZHRoPSIxNiIgdmlld0JveD0iMCAwIDI0IDI0Ij4KICA8cGF0aCBjbGFzcz0ianAtaWNvbjMganAtaWNvbi1zZWxlY3RhYmxlIiBmaWxsPSIjNjE2MTYxIiBkPSJNMjAgNEg0Yy0xLjEgMC0xLjk5LjktMS45OSAyTDIgMThjMCAxLjEuOSAyIDIgMmgxNmMxLjEgMCAyLS45IDItMlY2YzAtMS4xLS45LTItMi0yem0tNSAxNEg0di00aDExdjR6bTAtNUg0VjloMTF2NHptNSA1aC00VjloNHY5eiIvPgo8L3N2Zz4K);
  --jp-icon-json: url(data:image/svg+xml;base64,PHN2ZyB4bWxucz0iaHR0cDovL3d3dy53My5vcmcvMjAwMC9zdmciIHdpZHRoPSIxNiIgdmlld0JveD0iMCAwIDIyIDIyIj4KICA8ZyBjbGFzcz0ianAtaWNvbi13YXJuMSBqcC1pY29uLXNlbGVjdGFibGUiIGZpbGw9IiNGOUE4MjUiPgogICAgPHBhdGggZD0iTTIwLjIgMTEuOGMtMS42IDAtMS43LjUtMS43IDEgMCAuNC4xLjkuMSAxLjMuMS41LjEuOS4xIDEuMyAwIDEuNy0xLjQgMi4zLTMuNSAyLjNoLS45di0xLjloLjVjMS4xIDAgMS40IDAgMS40LS44IDAtLjMgMC0uNi0uMS0xIDAtLjQtLjEtLjgtLjEtMS4yIDAtMS4zIDAtMS44IDEuMy0yLTEuMy0uMi0xLjMtLjctMS4zLTIgMC0uNC4xLS44LjEtMS4yLjEtLjQuMS0uNy4xLTEgMC0uOC0uNC0uNy0xLjQtLjhoLS41VjQuMWguOWMyLjIgMCAzLjUuNyAzLjUgMi4zIDAgLjQtLjEuOS0uMSAxLjMtLjEuNS0uMS45LS4xIDEuMyAwIC41LjIgMSAxLjcgMXYxLjh6TTEuOCAxMC4xYzEuNiAwIDEuNy0uNSAxLjctMSAwLS40LS4xLS45LS4xLTEuMy0uMS0uNS0uMS0uOS0uMS0xLjMgMC0xLjYgMS40LTIuMyAzLjUtMi4zaC45djEuOWgtLjVjLTEgMC0xLjQgMC0xLjQuOCAwIC4zIDAgLjYuMSAxIDAgLjIuMS42LjEgMSAwIDEuMyAwIDEuOC0xLjMgMkM2IDExLjIgNiAxMS43IDYgMTNjMCAuNC0uMS44LS4xIDEuMi0uMS4zLS4xLjctLjEgMSAwIC44LjMuOCAxLjQuOGguNXYxLjloLS45Yy0yLjEgMC0zLjUtLjYtMy41LTIuMyAwLS40LjEtLjkuMS0xLjMuMS0uNS4xLS45LjEtMS4zIDAtLjUtLjItMS0xLjctMXYtMS45eiIvPgogICAgPGNpcmNsZSBjeD0iMTEiIGN5PSIxMy44IiByPSIyLjEiLz4KICAgIDxjaXJjbGUgY3g9IjExIiBjeT0iOC4yIiByPSIyLjEiLz4KICA8L2c+Cjwvc3ZnPgo=);
  --jp-icon-julia: url(data:image/svg+xml;base64,PHN2ZyB4bWxucz0iaHR0cDovL3d3dy53My5vcmcvMjAwMC9zdmciIHdpZHRoPSIxNiIgdmlld0JveD0iMCAwIDMyNSAzMDAiPgogIDxnIGNsYXNzPSJqcC1icmFuZDAganAtaWNvbi1zZWxlY3RhYmxlIiBmaWxsPSIjY2IzYzMzIj4KICAgIDxwYXRoIGQ9Ik0gMTUwLjg5ODQzOCAyMjUgQyAxNTAuODk4NDM4IDI2Ni40MjE4NzUgMTE3LjMyMDMxMiAzMDAgNzUuODk4NDM4IDMwMCBDIDM0LjQ3NjU2MiAzMDAgMC44OTg0MzggMjY2LjQyMTg3NSAwLjg5ODQzOCAyMjUgQyAwLjg5ODQzOCAxODMuNTc4MTI1IDM0LjQ3NjU2MiAxNTAgNzUuODk4NDM4IDE1MCBDIDExNy4zMjAzMTIgMTUwIDE1MC44OTg0MzggMTgzLjU3ODEyNSAxNTAuODk4NDM4IDIyNSIvPgogIDwvZz4KICA8ZyBjbGFzcz0ianAtYnJhbmQwIGpwLWljb24tc2VsZWN0YWJsZSIgZmlsbD0iIzM4OTgyNiI+CiAgICA8cGF0aCBkPSJNIDIzNy41IDc1IEMgMjM3LjUgMTE2LjQyMTg3NSAyMDMuOTIxODc1IDE1MCAxNjIuNSAxNTAgQyAxMjEuMDc4MTI1IDE1MCA4Ny41IDExNi40MjE4NzUgODcuNSA3NSBDIDg3LjUgMzMuNTc4MTI1IDEyMS4wNzgxMjUgMCAxNjIuNSAwIEMgMjAzLjkyMTg3NSAwIDIzNy41IDMzLjU3ODEyNSAyMzcuNSA3NSIvPgogIDwvZz4KICA8ZyBjbGFzcz0ianAtYnJhbmQwIGpwLWljb24tc2VsZWN0YWJsZSIgZmlsbD0iIzk1NThiMiI+CiAgICA8cGF0aCBkPSJNIDMyNC4xMDE1NjIgMjI1IEMgMzI0LjEwMTU2MiAyNjYuNDIxODc1IDI5MC41MjM0MzggMzAwIDI0OS4xMDE1NjIgMzAwIEMgMjA3LjY3OTY4OCAzMDAgMTc0LjEwMTU2MiAyNjYuNDIxODc1IDE3NC4xMDE1NjIgMjI1IEMgMTc0LjEwMTU2MiAxODMuNTc4MTI1IDIwNy42Nzk2ODggMTUwIDI0OS4xMDE1NjIgMTUwIEMgMjkwLjUyMzQzOCAxNTAgMzI0LjEwMTU2MiAxODMuNTc4MTI1IDMyNC4xMDE1NjIgMjI1Ii8+CiAgPC9nPgo8L3N2Zz4K);
  --jp-icon-jupyter-favicon: url(data:image/svg+xml;base64,PHN2ZyB3aWR0aD0iMTUyIiBoZWlnaHQ9IjE2NSIgdmlld0JveD0iMCAwIDE1MiAxNjUiIHZlcnNpb249IjEuMSIgeG1sbnM9Imh0dHA6Ly93d3cudzMub3JnLzIwMDAvc3ZnIj4KICA8ZyBjbGFzcz0ianAtaWNvbi13YXJuMCIgZmlsbD0iI0YzNzcyNiI+CiAgICA8cGF0aCB0cmFuc2Zvcm09InRyYW5zbGF0ZSgwLjA3ODk0NywgMTEwLjU4MjkyNykiIGQ9Ik03NS45NDIyODQyLDI5LjU4MDQ1NjEgQzQzLjMwMjM5NDcsMjkuNTgwNDU2MSAxNC43OTY3ODMyLDE3LjY1MzQ2MzQgMCwwIEM1LjUxMDgzMjExLDE1Ljg0MDY4MjkgMTUuNzgxNTM4OSwyOS41NjY3NzMyIDI5LjM5MDQ5NDcsMzkuMjc4NDE3MSBDNDIuOTk5Nyw0OC45ODk4NTM3IDU5LjI3MzcsNTQuMjA2NzgwNSA3NS45NjA1Nzg5LDU0LjIwNjc4MDUgQzkyLjY0NzQ1NzksNTQuMjA2NzgwNSAxMDguOTIxNDU4LDQ4Ljk4OTg1MzcgMTIyLjUzMDY2MywzOS4yNzg0MTcxIEMxMzYuMTM5NDUzLDI5LjU2Njc3MzIgMTQ2LjQxMDI4NCwxNS44NDA2ODI5IDE1MS45MjExNTgsMCBDMTM3LjA4Nzg2OCwxNy42NTM0NjM0IDEwOC41ODI1ODksMjkuNTgwNDU2MSA3NS45NDIyODQyLDI5LjU4MDQ1NjEgTDc1Ljk0MjI4NDIsMjkuNTgwNDU2MSBaIiAvPgogICAgPHBhdGggdHJhbnNmb3JtPSJ0cmFuc2xhdGUoMC4wMzczNjgsIDAuNzA0ODc4KSIgZD0iTTc1Ljk3ODQ1NzksMjQuNjI2NDA3MyBDMTA4LjYxODc2MywyNC42MjY0MDczIDEzNy4xMjQ0NTgsMzYuNTUzNDQxNSAxNTEuOTIxMTU4LDU0LjIwNjc4MDUgQzE0Ni40MTAyODQsMzguMzY2MjIyIDEzNi4xMzk0NTMsMjQuNjQwMTMxNyAxMjIuNTMwNjYzLDE0LjkyODQ4NzggQzEwOC45MjE0NTgsNS4yMTY4NDM5IDkyLjY0NzQ1NzksMCA3NS45NjA1Nzg5LDAgQzU5LjI3MzcsMCA0Mi45OTk3LDUuMjE2ODQzOSAyOS4zOTA0OTQ3LDE0LjkyODQ4NzggQzE1Ljc4MTUzODksMjQuNjQwMTMxNyA1LjUxMDgzMjExLDM4LjM2NjIyMiAwLDU0LjIwNjc4MDUgQzE0LjgzMzA4MTYsMzYuNTg5OTI5MyA0My4zMzg1Njg0LDI0LjYyNjQwNzMgNzUuOTc4NDU3OSwyNC42MjY0MDczIEw3NS45Nzg0NTc5LDI0LjYyNjQwNzMgWiIgLz4KICA8L2c+Cjwvc3ZnPgo=);
  --jp-icon-jupyter: url(data:image/svg+xml;base64,PHN2ZyB3aWR0aD0iMzkiIGhlaWdodD0iNTEiIHZpZXdCb3g9IjAgMCAzOSA1MSIgeG1sbnM9Imh0dHA6Ly93d3cudzMub3JnLzIwMDAvc3ZnIj4KICA8ZyB0cmFuc2Zvcm09InRyYW5zbGF0ZSgtMTYzOCAtMjI4MSkiPgogICAgPGcgY2xhc3M9ImpwLWljb24td2FybjAiIGZpbGw9IiNGMzc3MjYiPgogICAgICA8cGF0aCB0cmFuc2Zvcm09InRyYW5zbGF0ZSgxNjM5Ljc0IDIzMTEuOTgpIiBkPSJNIDE4LjI2NDYgNy4xMzQxMUMgMTAuNDE0NSA3LjEzNDExIDMuNTU4NzIgNC4yNTc2IDAgMEMgMS4zMjUzOSAzLjgyMDQgMy43OTU1NiA3LjEzMDgxIDcuMDY4NiA5LjQ3MzAzQyAxMC4zNDE3IDExLjgxNTIgMTQuMjU1NyAxMy4wNzM0IDE4LjI2OSAxMy4wNzM0QyAyMi4yODIzIDEzLjA3MzQgMjYuMTk2MyAxMS44MTUyIDI5LjQ2OTQgOS40NzMwM0MgMzIuNzQyNCA3LjEzMDgxIDM1LjIxMjYgMy44MjA0IDM2LjUzOCAwQyAzMi45NzA1IDQuMjU3NiAyNi4xMTQ4IDcuMTM0MTEgMTguMjY0NiA3LjEzNDExWiIvPgogICAgICA8cGF0aCB0cmFuc2Zvcm09InRyYW5zbGF0ZSgxNjM5LjczIDIyODUuNDgpIiBkPSJNIDE4LjI3MzMgNS45MzkzMUMgMjYuMTIzNSA1LjkzOTMxIDMyLjk3OTMgOC44MTU4MyAzNi41MzggMTMuMDczNEMgMzUuMjEyNiA5LjI1MzAzIDMyLjc0MjQgNS45NDI2MiAyOS40Njk0IDMuNjAwNEMgMjYuMTk2MyAxLjI1ODE4IDIyLjI4MjMgMCAxOC4yNjkgMEMgMTQuMjU1NyAwIDEwLjM0MTcgMS4yNTgxOCA3LjA2ODYgMy42MDA0QyAzLjc5NTU2IDUuOTQyNjIgMS4zMjUzOSA5LjI1MzAzIDAgMTMuMDczNEMgMy41Njc0NSA4LjgyNDYzIDEwLjQyMzIgNS45MzkzMSAxOC4yNzMzIDUuOTM5MzFaIi8+CiAgICA8L2c+CiAgICA8ZyBjbGFzcz0ianAtaWNvbjMiIGZpbGw9IiM2MTYxNjEiPgogICAgICA8cGF0aCB0cmFuc2Zvcm09InRyYW5zbGF0ZSgxNjY5LjMgMjI4MS4zMSkiIGQ9Ik0gNS44OTM1MyAyLjg0NEMgNS45MTg4OSAzLjQzMTY1IDUuNzcwODUgNC4wMTM2NyA1LjQ2ODE1IDQuNTE2NDVDIDUuMTY1NDUgNS4wMTkyMiA0LjcyMTY4IDUuNDIwMTUgNC4xOTI5OSA1LjY2ODUxQyAzLjY2NDMgNS45MTY4OCAzLjA3NDQ0IDYuMDAxNTEgMi40OTgwNSA1LjkxMTcxQyAxLjkyMTY2IDUuODIxOSAxLjM4NDYzIDUuNTYxNyAwLjk1NDg5OCA1LjE2NDAxQyAwLjUyNTE3IDQuNzY2MzMgMC4yMjIwNTYgNC4yNDkwMyAwLjA4MzkwMzcgMy42Nzc1N0MgLTAuMDU0MjQ4MyAzLjEwNjExIC0wLjAyMTIzIDIuNTA2MTcgMC4xNzg3ODEgMS45NTM2NEMgMC4zNzg3OTMgMS40MDExIDAuNzM2ODA5IDAuOTIwODE3IDEuMjA3NTQgMC41NzM1MzhDIDEuNjc4MjYgMC4yMjYyNTkgMi4yNDA1NSAwLjAyNzU5MTkgMi44MjMyNiAwLjAwMjY3MjI5QyAzLjYwMzg5IC0wLjAzMDcxMTUgNC4zNjU3MyAwLjI0OTc4OSA0Ljk0MTQyIDAuNzgyNTUxQyA1LjUxNzExIDEuMzE1MzEgNS44NTk1NiAyLjA1Njc2IDUuODkzNTMgMi44NDRaIi8+CiAgICAgIDxwYXRoIHRyYW5zZm9ybT0idHJhbnNsYXRlKDE2MzkuOCAyMzIzLjgxKSIgZD0iTSA3LjQyNzg5IDMuNTgzMzhDIDcuNDYwMDggNC4zMjQzIDcuMjczNTUgNS4wNTgxOSA2Ljg5MTkzIDUuNjkyMTNDIDYuNTEwMzEgNi4zMjYwNyA1Ljk1MDc1IDYuODMxNTYgNS4yODQxMSA3LjE0NDZDIDQuNjE3NDcgNy40NTc2MyAzLjg3MzcxIDcuNTY0MTQgMy4xNDcwMiA3LjQ1MDYzQyAyLjQyMDMyIDcuMzM3MTIgMS43NDMzNiA3LjAwODcgMS4yMDE4NCA2LjUwNjk1QyAwLjY2MDMyOCA2LjAwNTIgMC4yNzg2MSA1LjM1MjY4IDAuMTA1MDE3IDQuNjMyMDJDIC0wLjA2ODU3NTcgMy45MTEzNSAtMC4wMjYyMzYxIDMuMTU0OTQgMC4yMjY2NzUgMi40NTg1NkMgMC40Nzk1ODcgMS43NjIxNyAwLjkzMTY5NyAxLjE1NzEzIDEuNTI1NzYgMC43MjAwMzNDIDIuMTE5ODMgMC4yODI5MzUgMi44MjkxNCAwLjAzMzQzOTUgMy41NjM4OSAwLjAwMzEzMzQ0QyA0LjU0NjY3IC0wLjAzNzQwMzMgNS41MDUyOSAwLjMxNjcwNiA2LjIyOTYxIDAuOTg3ODM1QyA2Ljk1MzkzIDEuNjU4OTYgNy4zODQ4NCAyLjU5MjM1IDcuNDI3ODkgMy41ODMzOEwgNy40Mjc4OSAzLjU4MzM4WiIvPgogICAgICA8cGF0aCB0cmFuc2Zvcm09InRyYW5zbGF0ZSgxNjM4LjM2IDIyODYuMDYpIiBkPSJNIDIuMjc0NzEgNC4zOTYyOUMgMS44NDM2MyA0LjQxNTA4IDEuNDE2NzEgNC4zMDQ0NSAxLjA0Nzk5IDQuMDc4NDNDIDAuNjc5MjY4IDMuODUyNCAwLjM4NTMyOCAzLjUyMTE0IDAuMjAzMzcxIDMuMTI2NTZDIDAuMDIxNDEzNiAyLjczMTk4IC0wLjA0MDM3OTggMi4yOTE4MyAwLjAyNTgxMTYgMS44NjE4MUMgMC4wOTIwMDMxIDEuNDMxOCAwLjI4MzIwNCAxLjAzMTI2IDAuNTc1MjEzIDAuNzEwODgzQyAwLjg2NzIyMiAwLjM5MDUxIDEuMjQ2OTEgMC4xNjQ3MDggMS42NjYyMiAwLjA2MjA1OTJDIDIuMDg1NTMgLTAuMDQwNTg5NyAyLjUyNTYxIC0wLjAxNTQ3MTQgMi45MzA3NiAwLjEzNDIzNUMgMy4zMzU5MSAwLjI4Mzk0MSAzLjY4NzkyIDAuNTUxNTA1IDMuOTQyMjIgMC45MDMwNkMgNC4xOTY1MiAxLjI1NDYyIDQuMzQxNjkgMS42NzQzNiA0LjM1OTM1IDIuMTA5MTZDIDQuMzgyOTkgMi42OTEwNyA0LjE3Njc4IDMuMjU4NjkgMy43ODU5NyAzLjY4NzQ2QyAzLjM5NTE2IDQuMTE2MjQgMi44NTE2NiA0LjM3MTE2IDIuMjc0NzEgNC4zOTYyOUwgMi4yNzQ3MSA0LjM5NjI5WiIvPgogICAgPC9nPgogIDwvZz4+Cjwvc3ZnPgo=);
  --jp-icon-jupyterlab-wordmark: url(data:image/svg+xml;base64,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);
  --jp-icon-kernel: url(data:image/svg+xml;base64,PHN2ZyB4bWxucz0iaHR0cDovL3d3dy53My5vcmcvMjAwMC9zdmciIHdpZHRoPSIxNiIgdmlld0JveD0iMCAwIDI0IDI0Ij4KICAgIDxwYXRoIGNsYXNzPSJqcC1pY29uMiIgZmlsbD0iIzYxNjE2MSIgZD0iTTE1IDlIOXY2aDZWOXptLTIgNGgtMnYtMmgydjJ6bTgtMlY5aC0yVjdjMC0xLjEtLjktMi0yLTJoLTJWM2gtMnYyaC0yVjNIOXYySDdjLTEuMSAwLTIgLjktMiAydjJIM3YyaDJ2MkgzdjJoMnYyYzAgMS4xLjkgMiAyIDJoMnYyaDJ2LTJoMnYyaDJ2LTJoMmMxLjEgMCAyLS45IDItMnYtMmgydi0yaC0ydi0yaDJ6bS00IDZIN1Y3aDEwdjEweiIvPgo8L3N2Zz4K);
  --jp-icon-keyboard: url(data:image/svg+xml;base64,PHN2ZyB4bWxucz0iaHR0cDovL3d3dy53My5vcmcvMjAwMC9zdmciIHdpZHRoPSIxNiIgdmlld0JveD0iMCAwIDI0IDI0Ij4KICA8cGF0aCBjbGFzcz0ianAtaWNvbjMganAtaWNvbi1zZWxlY3RhYmxlIiBmaWxsPSIjNjE2MTYxIiBkPSJNMjAgNUg0Yy0xLjEgMC0xLjk5LjktMS45OSAyTDIgMTdjMCAxLjEuOSAyIDIgMmgxNmMxLjEgMCAyLS45IDItMlY3YzAtMS4xLS45LTItMi0yem0tOSAzaDJ2MmgtMlY4em0wIDNoMnYyaC0ydi0yek04IDhoMnYySDhWOHptMCAzaDJ2Mkg4di0yem0tMSAySDV2LTJoMnYyem0wLTNINVY4aDJ2MnptOSA3SDh2LTJoOHYyem0wLTRoLTJ2LTJoMnYyem0wLTNoLTJWOGgydjJ6bTMgM2gtMnYtMmgydjJ6bTAtM2gtMlY4aDJ2MnoiLz4KPC9zdmc+Cg==);
  --jp-icon-launcher: url(data:image/svg+xml;base64,PHN2ZyB4bWxucz0iaHR0cDovL3d3dy53My5vcmcvMjAwMC9zdmciIHdpZHRoPSIxNiIgdmlld0JveD0iMCAwIDI0IDI0Ij4KICA8cGF0aCBjbGFzcz0ianAtaWNvbjMganAtaWNvbi1zZWxlY3RhYmxlIiBmaWxsPSIjNjE2MTYxIiBkPSJNMTkgMTlINVY1aDdWM0g1YTIgMiAwIDAwLTIgMnYxNGEyIDIgMCAwMDIgMmgxNGMxLjEgMCAyLS45IDItMnYtN2gtMnY3ek0xNCAzdjJoMy41OWwtOS44MyA5LjgzIDEuNDEgMS40MUwxOSA2LjQxVjEwaDJWM2gtN3oiLz4KPC9zdmc+Cg==);
  --jp-icon-line-form: url(data:image/svg+xml;base64,PHN2ZyB4bWxucz0iaHR0cDovL3d3dy53My5vcmcvMjAwMC9zdmciIHdpZHRoPSIxNiIgdmlld0JveD0iMCAwIDI0IDI0Ij4KICAgIDxwYXRoIGZpbGw9IndoaXRlIiBkPSJNNS44OCA0LjEyTDEzLjc2IDEybC03Ljg4IDcuODhMOCAyMmwxMC0xMEw4IDJ6Ii8+Cjwvc3ZnPgo=);
  --jp-icon-link: url(data:image/svg+xml;base64,PHN2ZyB2aWV3Qm94PSIwIDAgMjQgMjQiIHdpZHRoPSIxNiIgeG1sbnM9Imh0dHA6Ly93d3cudzMub3JnLzIwMDAvc3ZnIj4KICA8ZyBjbGFzcz0ianAtaWNvbjMiIGZpbGw9IiM2MTYxNjEiPgogICAgPHBhdGggZD0iTTMuOSAxMmMwLTEuNzEgMS4zOS0zLjEgMy4xLTMuMWg0VjdIN2MtMi43NiAwLTUgMi4yNC01IDVzMi4yNCA1IDUgNWg0di0xLjlIN2MtMS43MSAwLTMuMS0xLjM5LTMuMS0zLjF6TTggMTNoOHYtMkg4djJ6bTktNmgtNHYxLjloNGMxLjcxIDAgMy4xIDEuMzkgMy4xIDMuMXMtMS4zOSAzLjEtMy4xIDMuMWgtNFYxN2g0YzIuNzYgMCA1LTIuMjQgNS01cy0yLjI0LTUtNS01eiIvPgogIDwvZz4KPC9zdmc+Cg==);
  --jp-icon-list: url(data:image/svg+xml;base64,PHN2ZyB4bWxucz0iaHR0cDovL3d3dy53My5vcmcvMjAwMC9zdmciIHdpZHRoPSIxNiIgdmlld0JveD0iMCAwIDI0IDI0Ij4KICAgIDxwYXRoIGNsYXNzPSJqcC1pY29uMiBqcC1pY29uLXNlbGVjdGFibGUiIGZpbGw9IiM2MTYxNjEiIGQ9Ik0xOSA1djE0SDVWNWgxNG0xLjEtMkgzLjljLS41IDAtLjkuNC0uOS45djE2LjJjMCAuNC40LjkuOS45aDE2LjJjLjQgMCAuOS0uNS45LS45VjMuOWMwLS41LS41LS45LS45LS45ek0xMSA3aDZ2MmgtNlY3em0wIDRoNnYyaC02di0yem0wIDRoNnYyaC02ek03IDdoMnYySDd6bTAgNGgydjJIN3ptMCA0aDJ2Mkg3eiIvPgo8L3N2Zz4=);
  --jp-icon-listings-info: url(data:image/svg+xml;base64,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);
  --jp-icon-markdown: url(data:image/svg+xml;base64,PHN2ZyB4bWxucz0iaHR0cDovL3d3dy53My5vcmcvMjAwMC9zdmciIHdpZHRoPSIxNiIgdmlld0JveD0iMCAwIDIyIDIyIj4KICA8cGF0aCBjbGFzcz0ianAtaWNvbi1jb250cmFzdDAganAtaWNvbi1zZWxlY3RhYmxlIiBmaWxsPSIjN0IxRkEyIiBkPSJNNSAxNC45aDEybC02LjEgNnptOS40LTYuOGMwLTEuMy0uMS0yLjktLjEtNC41LS40IDEuNC0uOSAyLjktMS4zIDQuM2wtMS4zIDQuM2gtMkw4LjUgNy45Yy0uNC0xLjMtLjctMi45LTEtNC4zLS4xIDEuNi0uMSAzLjItLjIgNC42TDcgMTIuNEg0LjhsLjctMTFoMy4zTDEwIDVjLjQgMS4yLjcgMi43IDEgMy45LjMtMS4yLjctMi42IDEtMy45bDEuMi0zLjdoMy4zbC42IDExaC0yLjRsLS4zLTQuMnoiLz4KPC9zdmc+Cg==);
  --jp-icon-new-folder: url(data:image/svg+xml;base64,PHN2ZyB4bWxucz0iaHR0cDovL3d3dy53My5vcmcvMjAwMC9zdmciIHdpZHRoPSIxNiIgdmlld0JveD0iMCAwIDI0IDI0Ij4KICA8ZyBjbGFzcz0ianAtaWNvbjMiIGZpbGw9IiM2MTYxNjEiPgogICAgPHBhdGggZD0iTTIwIDZoLThsLTItMkg0Yy0xLjExIDAtMS45OS44OS0xLjk5IDJMMiAxOGMwIDEuMTEuODkgMiAyIDJoMTZjMS4xMSAwIDItLjg5IDItMlY4YzAtMS4xMS0uODktMi0yLTJ6bS0xIDhoLTN2M2gtMnYtM2gtM3YtMmgzVjloMnYzaDN2MnoiLz4KICA8L2c+Cjwvc3ZnPgo=);
  --jp-icon-not-trusted: url(data:image/svg+xml;base64,PHN2ZyBmaWxsPSJub25lIiB4bWxucz0iaHR0cDovL3d3dy53My5vcmcvMjAwMC9zdmciIHdpZHRoPSIxNiIgdmlld0JveD0iMCAwIDI1IDI1Ij4KICAgIDxwYXRoIGNsYXNzPSJqcC1pY29uMiIgc3Ryb2tlPSIjMzMzMzMzIiBzdHJva2Utd2lkdGg9IjIiIHRyYW5zZm9ybT0idHJhbnNsYXRlKDMgMykiIGQ9Ik0xLjg2MDk0IDExLjQ0MDlDMC44MjY0NDggOC43NzAyNyAwLjg2Mzc3OSA2LjA1NzY0IDEuMjQ5MDcgNC4xOTkzMkMyLjQ4MjA2IDMuOTMzNDcgNC4wODA2OCAzLjQwMzQ3IDUuNjAxMDIgMi44NDQ5QzcuMjM1NDkgMi4yNDQ0IDguODU2NjYgMS41ODE1IDkuOTg3NiAxLjA5NTM5QzExLjA1OTcgMS41ODM0MSAxMi42MDk0IDIuMjQ0NCAxNC4yMTggMi44NDMzOUMxNS43NTAzIDMuNDEzOTQgMTcuMzk5NSAzLjk1MjU4IDE4Ljc1MzkgNC4yMTM4NUMxOS4xMzY0IDYuMDcxNzcgMTkuMTcwOSA4Ljc3NzIyIDE4LjEzOSAxMS40NDA5QzE3LjAzMDMgMTQuMzAzMiAxNC42NjY4IDE3LjE4NDQgOS45OTk5OSAxOC45MzU0QzUuMzMzMTkgMTcuMTg0NCAyLjk2OTY4IDE0LjMwMzIgMS44NjA5NCAxMS40NDA5WiIvPgogICAgPHBhdGggY2xhc3M9ImpwLWljb24yIiBzdHJva2U9IiMzMzMzMzMiIHN0cm9rZS13aWR0aD0iMiIgdHJhbnNmb3JtPSJ0cmFuc2xhdGUoOS4zMTU5MiA5LjMyMDMxKSIgZD0iTTcuMzY4NDIgMEwwIDcuMzY0NzkiLz4KICAgIDxwYXRoIGNsYXNzPSJqcC1pY29uMiIgc3Ryb2tlPSIjMzMzMzMzIiBzdHJva2Utd2lkdGg9IjIiIHRyYW5zZm9ybT0idHJhbnNsYXRlKDkuMzE1OTIgMTYuNjgzNikgc2NhbGUoMSAtMSkiIGQ9Ik03LjM2ODQyIDBMMCA3LjM2NDc5Ii8+Cjwvc3ZnPgo=);
  --jp-icon-notebook: url(data:image/svg+xml;base64,PHN2ZyB4bWxucz0iaHR0cDovL3d3dy53My5vcmcvMjAwMC9zdmciIHdpZHRoPSIxNiIgdmlld0JveD0iMCAwIDIyIDIyIj4KICA8ZyBjbGFzcz0ianAtaWNvbi13YXJuMCBqcC1pY29uLXNlbGVjdGFibGUiIGZpbGw9IiNFRjZDMDAiPgogICAgPHBhdGggZD0iTTE4LjcgMy4zdjE1LjRIMy4zVjMuM2gxNS40bTEuNS0xLjVIMS44djE4LjNoMTguM2wuMS0xOC4zeiIvPgogICAgPHBhdGggZD0iTTE2LjUgMTYuNWwtNS40LTQuMy01LjYgNC4zdi0xMWgxMXoiLz4KICA8L2c+Cjwvc3ZnPgo=);
  --jp-icon-numbering: url(data:image/svg+xml;base64,PHN2ZyB3aWR0aD0iMjIiIGhlaWdodD0iMjIiIHZpZXdCb3g9IjAgMCAyOCAyOCIgeG1sbnM9Imh0dHA6Ly93d3cudzMub3JnLzIwMDAvc3ZnIj4KCTxnIGNsYXNzPSJqcC1pY29uMyIgZmlsbD0iIzYxNjE2MSI+CgkJPHBhdGggZD0iTTQgMTlINlYxOS41SDVWMjAuNUg2VjIxSDRWMjJIN1YxOEg0VjE5Wk01IDEwSDZWNkg0VjdINVYxMFpNNCAxM0g1LjhMNCAxNS4xVjE2SDdWMTVINS4yTDcgMTIuOVYxMkg0VjEzWk05IDdWOUgyM1Y3SDlaTTkgMjFIMjNWMTlIOVYyMVpNOSAxNUgyM1YxM0g5VjE1WiIvPgoJPC9nPgo8L3N2Zz4K);
  --jp-icon-offline-bolt: url(data:image/svg+xml;base64,PHN2ZyB4bWxucz0iaHR0cDovL3d3dy53My5vcmcvMjAwMC9zdmciIHZpZXdCb3g9IjAgMCAyNCAyNCIgd2lkdGg9IjE2Ij4KICA8ZyBjbGFzcz0ianAtaWNvbjMiIGZpbGw9IiM2MTYxNjEiPgogICAgPHBhdGggZD0iTTEyIDIuMDJjLTUuNTEgMC05Ljk4IDQuNDctOS45OCA5Ljk4czQuNDcgOS45OCA5Ljk4IDkuOTggOS45OC00LjQ3IDkuOTgtOS45OFMxNy41MSAyLjAyIDEyIDIuMDJ6TTExLjQ4IDIwdi02LjI2SDhMMTMgNHY2LjI2aDMuMzVMMTEuNDggMjB6Ii8+CiAgPC9nPgo8L3N2Zz4K);
  --jp-icon-palette: url(data:image/svg+xml;base64,PHN2ZyB4bWxucz0iaHR0cDovL3d3dy53My5vcmcvMjAwMC9zdmciIHdpZHRoPSIxNiIgdmlld0JveD0iMCAwIDI0IDI0Ij4KICA8ZyBjbGFzcz0ianAtaWNvbjMiIGZpbGw9IiM2MTYxNjEiPgogICAgPHBhdGggZD0iTTE4IDEzVjIwSDRWNkg5LjAyQzkuMDcgNS4yOSA5LjI0IDQuNjIgOS41IDRINEMyLjkgNCAyIDQuOSAyIDZWMjBDMiAyMS4xIDIuOSAyMiA0IDIySDE4QzE5LjEgMjIgMjAgMjEuMSAyMCAyMFYxNUwxOCAxM1pNMTkuMyA4Ljg5QzE5Ljc0IDguMTkgMjAgNy4zOCAyMCA2LjVDMjAgNC4wMSAxNy45OSAyIDE1LjUgMkMxMy4wMSAyIDExIDQuMDEgMTEgNi41QzExIDguOTkgMTMuMDEgMTEgMTUuNDkgMTFDMTYuMzcgMTEgMTcuMTkgMTAuNzQgMTcuODggMTAuM0wyMSAxMy40MkwyMi40MiAxMkwxOS4zIDguODlaTTE1LjUgOUMxNC4xMiA5IDEzIDcuODggMTMgNi41QzEzIDUuMTIgMTQuMTIgNCAxNS41IDRDMTYuODggNCAxOCA1LjEyIDE4IDYuNUMxOCA3Ljg4IDE2Ljg4IDkgMTUuNSA5WiIvPgogICAgPHBhdGggZmlsbC1ydWxlPSJldmVub2RkIiBjbGlwLXJ1bGU9ImV2ZW5vZGQiIGQ9Ik00IDZIOS4wMTg5NEM5LjAwNjM5IDYuMTY1MDIgOSA2LjMzMTc2IDkgNi41QzkgOC44MTU3NyAxMC4yMTEgMTAuODQ4NyAxMi4wMzQzIDEySDlWMTRIMTZWMTIuOTgxMUMxNi41NzAzIDEyLjkzNzcgMTcuMTIgMTIuODIwNyAxNy42Mzk2IDEyLjYzOTZMMTggMTNWMjBINFY2Wk04IDhINlYxMEg4VjhaTTYgMTJIOFYxNEg2VjEyWk04IDE2SDZWMThIOFYxNlpNOSAxNkgxNlYxOEg5VjE2WiIvPgogIDwvZz4KPC9zdmc+Cg==);
  --jp-icon-paste: url(data:image/svg+xml;base64,PHN2ZyBoZWlnaHQ9IjI0IiB2aWV3Qm94PSIwIDAgMjQgMjQiIHdpZHRoPSIyNCIgeG1sbnM9Imh0dHA6Ly93d3cudzMub3JnLzIwMDAvc3ZnIj4KICAgIDxnIGNsYXNzPSJqcC1pY29uMyIgZmlsbD0iIzYxNjE2MSI+CiAgICAgICAgPHBhdGggZD0iTTE5IDJoLTQuMThDMTQuNC44NCAxMy4zIDAgMTIgMGMtMS4zIDAtMi40Ljg0LTIuODIgMkg1Yy0xLjEgMC0yIC45LTIgMnYxNmMwIDEuMS45IDIgMiAyaDE0YzEuMSAwIDItLjkgMi0yVjRjMC0xLjEtLjktMi0yLTJ6bS03IDBjLjU1IDAgMSAuNDUgMSAxcy0uNDUgMS0xIDEtMS0uNDUtMS0xIC40NS0xIDEtMXptNyAxOEg1VjRoMnYzaDEwVjRoMnYxNnoiLz4KICAgIDwvZz4KPC9zdmc+Cg==);
  --jp-icon-pdf: url(data:image/svg+xml;base64,PHN2ZwogICB4bWxucz0iaHR0cDovL3d3dy53My5vcmcvMjAwMC9zdmciIHZpZXdCb3g9IjAgMCAyMiAyMiIgd2lkdGg9IjE2Ij4KICAgIDxwYXRoIHRyYW5zZm9ybT0icm90YXRlKDQ1KSIgY2xhc3M9ImpwLWljb24tc2VsZWN0YWJsZSIgZmlsbD0iI0ZGMkEyQSIKICAgICAgIGQ9Im0gMjIuMzQ0MzY5LC0zLjAxNjM2NDIgaCA1LjYzODYwNCB2IDEuNTc5MjQzMyBoIC0zLjU0OTIyNyB2IDEuNTA4NjkyOTkgaCAzLjMzNzU3NiBWIDEuNjUwODE1NCBoIC0zLjMzNzU3NiB2IDMuNDM1MjYxMyBoIC0yLjA4OTM3NyB6IG0gLTcuMTM2NDQ0LDEuNTc5MjQzMyB2IDQuOTQzOTU0MyBoIDAuNzQ4OTIgcSAxLjI4MDc2MSwwIDEuOTUzNzAzLC0wLjYzNDk1MzUgMC42NzgzNjksLTAuNjM0OTUzNSAwLjY3ODM2OSwtMS44NDUxNjQxIDAsLTEuMjA0NzgzNTUgLTAuNjcyOTQyLC0xLjgzNDMxMDExIC0wLjY3Mjk0MiwtMC42Mjk1MjY1OSAtMS45NTkxMywtMC42Mjk1MjY1OSB6IG0gLTIuMDg5Mzc3LC0xLjU3OTI0MzMgaCAyLjIwMzM0MyBxIDEuODQ1MTY0LDAgMi43NDYwMzksMC4yNjU5MjA3IDAuOTA2MzAxLDAuMjYwNDkzNyAxLjU1MjEwOCwwLjg5MDAyMDMgMC41Njk4MywwLjU0ODEyMjMgMC44NDY2MDUsMS4yNjQ0ODAwNiAwLjI3Njc3NCwwLjcxNjM1NzgxIDAuMjc2Nzc0LDEuNjIyNjU4OTQgMCwwLjkxNzE1NTEgLTAuMjc2Nzc0LDEuNjM4OTM5OSAtMC4yNzY3NzUsMC43MTYzNTc4IC0wLjg0NjYwNSwxLjI2NDQ4IC0wLjY1MTIzNCwwLjYyOTUyNjYgLTEuNTYyOTYyLDAuODk1NDQ3MyAtMC45MTE3MjgsMC4yNjA0OTM3IC0yLjczNTE4NSwwLjI2MDQ5MzcgaCAtMi4yMDMzNDMgeiBtIC04LjE0NTg1NjUsMCBoIDMuNDY3ODIzIHEgMS41NDY2ODE2LDAgMi4zNzE1Nzg1LDAuNjg5MjIzIDAuODMwMzI0LDAuNjgzNzk2MSAwLjgzMDMyNCwxLjk1MzcwMzE0IDAsMS4yNzUzMzM5NyAtMC44MzAzMjQsMS45NjQ1NTcwNiBRIDkuOTg3MTk2MSwyLjI3NDkxNSA4LjQ0MDUxNDUsMi4yNzQ5MTUgSCA3LjA2MjA2ODQgViA1LjA4NjA3NjcgSCA0Ljk3MjY5MTUgWiBtIDIuMDg5Mzc2OSwxLjUxNDExOTkgdiAyLjI2MzAzOTQzIGggMS4xNTU5NDEgcSAwLjYwNzgxODgsMCAwLjkzODg2MjksLTAuMjkzMDU1NDcgMC4zMzEwNDQxLC0wLjI5ODQ4MjQxIDAuMzMxMDQ0MSwtMC44NDExNzc3MiAwLC0wLjU0MjY5NTMxIC0wLjMzMTA0NDEsLTAuODM1NzUwNzQgLTAuMzMxMDQ0MSwtMC4yOTMwNTU1IC0wLjkzODg2MjksLTAuMjkzMDU1NSB6IgovPgo8L3N2Zz4K);
  --jp-icon-python: url(data:image/svg+xml;base64,PHN2ZyB4bWxucz0iaHR0cDovL3d3dy53My5vcmcvMjAwMC9zdmciIHdpZHRoPSIxNiIgdmlld0JveD0iMCAwIDIyIDIyIj4KICA8ZyBjbGFzcz0ianAtaWNvbi1icmFuZDAganAtaWNvbi1zZWxlY3RhYmxlIiBmaWxsPSIjMEQ0N0ExIj4KICAgIDxwYXRoIGQ9Ik0xMS4xIDYuOVY1LjhINi45YzAtLjUgMC0xLjMuMi0xLjYuNC0uNy44LTEuMSAxLjctMS40IDEuNy0uMyAyLjUtLjMgMy45LS4xIDEgLjEgMS45LjkgMS45IDEuOXY0LjJjMCAuNS0uOSAxLjYtMiAxLjZIOC44Yy0xLjUgMC0yLjQgMS40LTIuNCAyLjh2Mi4ySDQuN0MzLjUgMTUuMSAzIDE0IDMgMTMuMVY5Yy0uMS0xIC42LTIgMS44LTIgMS41LS4xIDYuMy0uMSA2LjMtLjF6Ii8+CiAgICA8cGF0aCBkPSJNMTAuOSAxNS4xdjEuMWg0LjJjMCAuNSAwIDEuMy0uMiAxLjYtLjQuNy0uOCAxLjEtMS43IDEuNC0xLjcuMy0yLjUuMy0zLjkuMS0xLS4xLTEuOS0uOS0xLjktMS45di00LjJjMC0uNS45LTEuNiAyLTEuNmgzLjhjMS41IDAgMi40LTEuNCAyLjQtMi44VjYuNmgxLjdDMTguNSA2LjkgMTkgOCAxOSA4LjlWMTNjMCAxLS43IDIuMS0xLjkgMi4xaC02LjJ6Ii8+CiAgPC9nPgo8L3N2Zz4K);
  --jp-icon-r-kernel: url(data:image/svg+xml;base64,PHN2ZyB4bWxucz0iaHR0cDovL3d3dy53My5vcmcvMjAwMC9zdmciIHdpZHRoPSIxNiIgdmlld0JveD0iMCAwIDIyIDIyIj4KICA8cGF0aCBjbGFzcz0ianAtaWNvbi1jb250cmFzdDMganAtaWNvbi1zZWxlY3RhYmxlIiBmaWxsPSIjMjE5NkYzIiBkPSJNNC40IDIuNWMxLjItLjEgMi45LS4zIDQuOS0uMyAyLjUgMCA0LjEuNCA1LjIgMS4zIDEgLjcgMS41IDEuOSAxLjUgMy41IDAgMi0xLjQgMy41LTIuOSA0LjEgMS4yLjQgMS43IDEuNiAyLjIgMyAuNiAxLjkgMSAzLjkgMS4zIDQuNmgtMy44Yy0uMy0uNC0uOC0xLjctMS4yLTMuN3MtMS4yLTIuNi0yLjYtMi42aC0uOXY2LjRINC40VjIuNXptMy43IDYuOWgxLjRjMS45IDAgMi45LS45IDIuOS0yLjNzLTEtMi4zLTIuOC0yLjNjLS43IDAtMS4zIDAtMS42LjJ2NC41aC4xdi0uMXoiLz4KPC9zdmc+Cg==);
  --jp-icon-react: url(data:image/svg+xml;base64,PHN2ZyB4bWxucz0iaHR0cDovL3d3dy53My5vcmcvMjAwMC9zdmciIHdpZHRoPSIxNiIgdmlld0JveD0iMTUwIDE1MCA1NDEuOSAyOTUuMyI+CiAgPGcgY2xhc3M9ImpwLWljb24tYnJhbmQyIGpwLWljb24tc2VsZWN0YWJsZSIgZmlsbD0iIzYxREFGQiI+CiAgICA8cGF0aCBkPSJNNjY2LjMgMjk2LjVjMC0zMi41LTQwLjctNjMuMy0xMDMuMS04Mi40IDE0LjQtNjMuNiA4LTExNC4yLTIwLjItMTMwLjQtNi41LTMuOC0xNC4xLTUuNi0yMi40LTUuNnYyMi4zYzQuNiAwIDguMy45IDExLjQgMi42IDEzLjYgNy44IDE5LjUgMzcuNSAxNC45IDc1LjctMS4xIDkuNC0yLjkgMTkuMy01LjEgMjkuNC0xOS42LTQuOC00MS04LjUtNjMuNS0xMC45LTEzLjUtMTguNS0yNy41LTM1LjMtNDEuNi01MCAzMi42LTMwLjMgNjMuMi00Ni45IDg0LTQ2LjlWNzhjLTI3LjUgMC02My41IDE5LjYtOTkuOSA1My42LTM2LjQtMzMuOC03Mi40LTUzLjItOTkuOS01My4ydjIyLjNjMjAuNyAwIDUxLjQgMTYuNSA4NCA0Ni42LTE0IDE0LjctMjggMzEuNC00MS4zIDQ5LjktMjIuNiAyLjQtNDQgNi4xLTYzLjYgMTEtMi4zLTEwLTQtMTkuNy01LjItMjktNC43LTM4LjIgMS4xLTY3LjkgMTQuNi03NS44IDMtMS44IDYuOS0yLjYgMTEuNS0yLjZWNzguNWMtOC40IDAtMTYgMS44LTIyLjYgNS42LTI4LjEgMTYuMi0zNC40IDY2LjctMTkuOSAxMzAuMS02Mi4yIDE5LjItMTAyLjcgNDkuOS0xMDIuNyA4Mi4zIDAgMzIuNSA0MC43IDYzLjMgMTAzLjEgODIuNC0xNC40IDYzLjYtOCAxMTQuMiAyMC4yIDEzMC40IDYuNSAzLjggMTQuMSA1LjYgMjIuNSA1LjYgMjcuNSAwIDYzLjUtMTkuNiA5OS45LTUzLjYgMzYuNCAzMy44IDcyLjQgNTMuMiA5OS45IDUzLjIgOC40IDAgMTYtMS44IDIyLjYtNS42IDI4LjEtMTYuMiAzNC40LTY2LjcgMTkuOS0xMzAuMSA2Mi0xOS4xIDEwMi41LTQ5LjkgMTAyLjUtODIuM3ptLTEzMC4yLTY2LjdjLTMuNyAxMi45LTguMyAyNi4yLTEzLjUgMzkuNS00LjEtOC04LjQtMTYtMTMuMS0yNC00LjYtOC05LjUtMTUuOC0xNC40LTIzLjQgMTQuMiAyLjEgMjcuOSA0LjcgNDEgNy45em0tNDUuOCAxMDYuNWMtNy44IDEzLjUtMTUuOCAyNi4zLTI0LjEgMzguMi0xNC45IDEuMy0zMCAyLTQ1LjIgMi0xNS4xIDAtMzAuMi0uNy00NS0xLjktOC4zLTExLjktMTYuNC0yNC42LTI0LjItMzgtNy42LTEzLjEtMTQuNS0yNi40LTIwLjgtMzkuOCA2LjItMTMuNCAxMy4yLTI2LjggMjAuNy0zOS45IDcuOC0xMy41IDE1LjgtMjYuMyAyNC4xLTM4LjIgMTQuOS0xLjMgMzAtMiA0NS4yLTIgMTUuMSAwIDMwLjIuNyA0NSAxLjkgOC4zIDExLjkgMTYuNCAyNC42IDI0LjIgMzggNy42IDEzLjEgMTQuNSAyNi40IDIwLjggMzkuOC02LjMgMTMuNC0xMy4yIDI2LjgtMjAuNyAzOS45em0zMi4zLTEzYzUuNCAxMy40IDEwIDI2LjggMTMuOCAzOS44LTEzLjEgMy4yLTI2LjkgNS45LTQxLjIgOCA0LjktNy43IDkuOC0xNS42IDE0LjQtMjMuNyA0LjYtOCA4LjktMTYuMSAxMy0yNC4xek00MjEuMiA0MzBjLTkuMy05LjYtMTguNi0yMC4zLTI3LjgtMzIgOSAuNCAxOC4yLjcgMjcuNS43IDkuNCAwIDE4LjctLjIgMjcuOC0uNy05IDExLjctMTguMyAyMi40LTI3LjUgMzJ6bS03NC40LTU4LjljLTE0LjItMi4xLTI3LjktNC43LTQxLTcuOSAzLjctMTIuOSA4LjMtMjYuMiAxMy41LTM5LjUgNC4xIDggOC40IDE2IDEzLjEgMjQgNC43IDggOS41IDE1LjggMTQuNCAyMy40ek00MjAuNyAxNjNjOS4zIDkuNiAxOC42IDIwLjMgMjcuOCAzMi05LS40LTE4LjItLjctMjcuNS0uNy05LjQgMC0xOC43LjItMjcuOC43IDktMTEuNyAxOC4zLTIyLjQgMjcuNS0zMnptLTc0IDU4LjljLTQuOSA3LjctOS44IDE1LjYtMTQuNCAyMy43LTQuNiA4LTguOSAxNi0xMyAyNC01LjQtMTMuNC0xMC0yNi44LTEzLjgtMzkuOCAxMy4xLTMuMSAyNi45LTUuOCA0MS4yLTcuOXptLTkwLjUgMTI1LjJjLTM1LjQtMTUuMS01OC4zLTM0LjktNTguMy01MC42IDAtMTUuNyAyMi45LTM1LjYgNTguMy01MC42IDguNi0zLjcgMTgtNyAyNy43LTEwLjEgNS43IDE5LjYgMTMuMiA0MCAyMi41IDYwLjktOS4yIDIwLjgtMTYuNiA0MS4xLTIyLjIgNjAuNi05LjktMy4xLTE5LjMtNi41LTI4LTEwLjJ6TTMxMCA0OTBjLTEzLjYtNy44LTE5LjUtMzcuNS0xNC45LTc1LjcgMS4xLTkuNCAyLjktMTkuMyA1LjEtMjkuNCAxOS42IDQuOCA0MSA4LjUgNjMuNSAxMC45IDEzLjUgMTguNSAyNy41IDM1LjMgNDEuNiA1MC0zMi42IDMwLjMtNjMuMiA0Ni45LTg0IDQ2LjktNC41LS4xLTguMy0xLTExLjMtMi43em0yMzcuMi03Ni4yYzQuNyAzOC4yLTEuMSA2Ny45LTE0LjYgNzUuOC0zIDEuOC02LjkgMi42LTExLjUgMi42LTIwLjcgMC01MS40LTE2LjUtODQtNDYuNiAxNC0xNC43IDI4LTMxLjQgNDEuMy00OS45IDIyLjYtMi40IDQ0LTYuMSA2My42LTExIDIuMyAxMC4xIDQuMSAxOS44IDUuMiAyOS4xem0zOC41LTY2LjdjLTguNiAzLjctMTggNy0yNy43IDEwLjEtNS43LTE5LjYtMTMuMi00MC0yMi41LTYwLjkgOS4yLTIwLjggMTYuNi00MS4xIDIyLjItNjAuNiA5LjkgMy4xIDE5LjMgNi41IDI4LjEgMTAuMiAzNS40IDE1LjEgNTguMyAzNC45IDU4LjMgNTAuNi0uMSAxNS43LTIzIDM1LjYtNTguNCA1MC42ek0zMjAuOCA3OC40eiIvPgogICAgPGNpcmNsZSBjeD0iNDIwLjkiIGN5PSIyOTYuNSIgcj0iNDUuNyIvPgogIDwvZz4KPC9zdmc+Cg==);
  --jp-icon-redo: url(data:image/svg+xml;base64,PHN2ZyB4bWxucz0iaHR0cDovL3d3dy53My5vcmcvMjAwMC9zdmciIGhlaWdodD0iMjQiIHZpZXdCb3g9IjAgMCAyNCAyNCIgd2lkdGg9IjE2Ij4KICA8ZyBjbGFzcz0ianAtaWNvbjMiIGZpbGw9IiM2MTYxNjEiPgogICAgICA8cGF0aCBkPSJNMCAwaDI0djI0SDB6IiBmaWxsPSJub25lIi8+PHBhdGggZD0iTTE4LjQgMTAuNkMxNi41NSA4Ljk5IDE0LjE1IDggMTEuNSA4Yy00LjY1IDAtOC41OCAzLjAzLTkuOTYgNy4yMkwzLjkgMTZjMS4wNS0zLjE5IDQuMDUtNS41IDcuNi01LjUgMS45NSAwIDMuNzMuNzIgNS4xMiAxLjg4TDEzIDE2aDlWN2wtMy42IDMuNnoiLz4KICA8L2c+Cjwvc3ZnPgo=);
  --jp-icon-refresh: url(data:image/svg+xml;base64,PHN2ZyB4bWxucz0iaHR0cDovL3d3dy53My5vcmcvMjAwMC9zdmciIHdpZHRoPSIxNiIgdmlld0JveD0iMCAwIDE4IDE4Ij4KICAgIDxnIGNsYXNzPSJqcC1pY29uMyIgZmlsbD0iIzYxNjE2MSI+CiAgICAgICAgPHBhdGggZD0iTTkgMTMuNWMtMi40OSAwLTQuNS0yLjAxLTQuNS00LjVTNi41MSA0LjUgOSA0LjVjMS4yNCAwIDIuMzYuNTIgMy4xNyAxLjMzTDEwIDhoNVYzbC0xLjc2IDEuNzZDMTIuMTUgMy42OCAxMC42NiAzIDkgMyA1LjY5IDMgMy4wMSA1LjY5IDMuMDEgOVM1LjY5IDE1IDkgMTVjMi45NyAwIDUuNDMtMi4xNiA1LjktNWgtMS41MmMtLjQ2IDItMi4yNCAzLjUtNC4zOCAzLjV6Ii8+CiAgICA8L2c+Cjwvc3ZnPgo=);
  --jp-icon-regex: url(data:image/svg+xml;base64,PHN2ZyB4bWxucz0iaHR0cDovL3d3dy53My5vcmcvMjAwMC9zdmciIHdpZHRoPSIxNiIgdmlld0JveD0iMCAwIDIwIDIwIj4KICA8ZyBjbGFzcz0ianAtaWNvbjIiIGZpbGw9IiM0MTQxNDEiPgogICAgPHJlY3QgeD0iMiIgeT0iMiIgd2lkdGg9IjE2IiBoZWlnaHQ9IjE2Ii8+CiAgPC9nPgoKICA8ZyBjbGFzcz0ianAtaWNvbi1hY2NlbnQyIiBmaWxsPSIjRkZGIj4KICAgIDxjaXJjbGUgY2xhc3M9InN0MiIgY3g9IjUuNSIgY3k9IjE0LjUiIHI9IjEuNSIvPgogICAgPHJlY3QgeD0iMTIiIHk9IjQiIGNsYXNzPSJzdDIiIHdpZHRoPSIxIiBoZWlnaHQ9IjgiLz4KICAgIDxyZWN0IHg9IjguNSIgeT0iNy41IiB0cmFuc2Zvcm09Im1hdHJpeCgwLjg2NiAtMC41IDAuNSAwLjg2NiAtMi4zMjU1IDcuMzIxOSkiIGNsYXNzPSJzdDIiIHdpZHRoPSI4IiBoZWlnaHQ9IjEiLz4KICAgIDxyZWN0IHg9IjEyIiB5PSI0IiB0cmFuc2Zvcm09Im1hdHJpeCgwLjUgLTAuODY2IDAuODY2IDAuNSAtMC42Nzc5IDE0LjgyNTIpIiBjbGFzcz0ic3QyIiB3aWR0aD0iMSIgaGVpZ2h0PSI4Ii8+CiAgPC9nPgo8L3N2Zz4K);
  --jp-icon-run: url(data:image/svg+xml;base64,PHN2ZyBoZWlnaHQ9IjI0IiB2aWV3Qm94PSIwIDAgMjQgMjQiIHdpZHRoPSIyNCIgeG1sbnM9Imh0dHA6Ly93d3cudzMub3JnLzIwMDAvc3ZnIj4KICAgIDxnIGNsYXNzPSJqcC1pY29uMyIgZmlsbD0iIzYxNjE2MSI+CiAgICAgICAgPHBhdGggZD0iTTggNXYxNGwxMS03eiIvPgogICAgPC9nPgo8L3N2Zz4K);
  --jp-icon-running: url(data:image/svg+xml;base64,PHN2ZyB4bWxucz0iaHR0cDovL3d3dy53My5vcmcvMjAwMC9zdmciIHdpZHRoPSIxNiIgdmlld0JveD0iMCAwIDUxMiA1MTIiPgogIDxnIGNsYXNzPSJqcC1pY29uMyIgZmlsbD0iIzYxNjE2MSI+CiAgICA8cGF0aCBkPSJNMjU2IDhDMTE5IDggOCAxMTkgOCAyNTZzMTExIDI0OCAyNDggMjQ4IDI0OC0xMTEgMjQ4LTI0OFMzOTMgOCAyNTYgOHptOTYgMzI4YzAgOC44LTcuMiAxNi0xNiAxNkgxNzZjLTguOCAwLTE2LTcuMi0xNi0xNlYxNzZjMC04LjggNy4yLTE2IDE2LTE2aDE2MGM4LjggMCAxNiA3LjIgMTYgMTZ2MTYweiIvPgogIDwvZz4KPC9zdmc+Cg==);
  --jp-icon-save: url(data:image/svg+xml;base64,PHN2ZyBoZWlnaHQ9IjI0IiB2aWV3Qm94PSIwIDAgMjQgMjQiIHdpZHRoPSIyNCIgeG1sbnM9Imh0dHA6Ly93d3cudzMub3JnLzIwMDAvc3ZnIj4KICAgIDxnIGNsYXNzPSJqcC1pY29uMyIgZmlsbD0iIzYxNjE2MSI+CiAgICAgICAgPHBhdGggZD0iTTE3IDNINWMtMS4xMSAwLTIgLjktMiAydjE0YzAgMS4xLjg5IDIgMiAyaDE0YzEuMSAwIDItLjkgMi0yVjdsLTQtNHptLTUgMTZjLTEuNjYgMC0zLTEuMzQtMy0zczEuMzQtMyAzLTMgMyAxLjM0IDMgMy0xLjM0IDMtMyAzem0zLTEwSDVWNWgxMHY0eiIvPgogICAgPC9nPgo8L3N2Zz4K);
  --jp-icon-search: url(data:image/svg+xml;base64,PHN2ZyB2aWV3Qm94PSIwIDAgMTggMTgiIHdpZHRoPSIxNiIgeG1sbnM9Imh0dHA6Ly93d3cudzMub3JnLzIwMDAvc3ZnIj4KICA8ZyBjbGFzcz0ianAtaWNvbjMiIGZpbGw9IiM2MTYxNjEiPgogICAgPHBhdGggZD0iTTEyLjEsMTAuOWgtMC43bC0wLjItMC4yYzAuOC0wLjksMS4zLTIuMiwxLjMtMy41YzAtMy0yLjQtNS40LTUuNC01LjRTMS44LDQuMiwxLjgsNy4xczIuNCw1LjQsNS40LDUuNCBjMS4zLDAsMi41LTAuNSwzLjUtMS4zbDAuMiwwLjJ2MC43bDQuMSw0LjFsMS4yLTEuMkwxMi4xLDEwLjl6IE03LjEsMTAuOWMtMi4xLDAtMy43LTEuNy0zLjctMy43czEuNy0zLjcsMy43LTMuN3MzLjcsMS43LDMuNywzLjcgUzkuMiwxMC45LDcuMSwxMC45eiIvPgogIDwvZz4KPC9zdmc+Cg==);
  --jp-icon-settings: url(data:image/svg+xml;base64,PHN2ZyB4bWxucz0iaHR0cDovL3d3dy53My5vcmcvMjAwMC9zdmciIHdpZHRoPSIxNiIgdmlld0JveD0iMCAwIDI0IDI0Ij4KICA8cGF0aCBjbGFzcz0ianAtaWNvbjMganAtaWNvbi1zZWxlY3RhYmxlIiBmaWxsPSIjNjE2MTYxIiBkPSJNMTkuNDMgMTIuOThjLjA0LS4zMi4wNy0uNjQuMDctLjk4cy0uMDMtLjY2LS4wNy0uOThsMi4xMS0xLjY1Yy4xOS0uMTUuMjQtLjQyLjEyLS42NGwtMi0zLjQ2Yy0uMTItLjIyLS4zOS0uMy0uNjEtLjIybC0yLjQ5IDFjLS41Mi0uNC0xLjA4LS43My0xLjY5LS45OGwtLjM4LTIuNjVBLjQ4OC40ODggMCAwMDE0IDJoLTRjLS4yNSAwLS40Ni4xOC0uNDkuNDJsLS4zOCAyLjY1Yy0uNjEuMjUtMS4xNy41OS0xLjY5Ljk4bC0yLjQ5LTFjLS4yMy0uMDktLjQ5IDAtLjYxLjIybC0yIDMuNDZjLS4xMy4yMi0uMDcuNDkuMTIuNjRsMi4xMSAxLjY1Yy0uMDQuMzItLjA3LjY1LS4wNy45OHMuMDMuNjYuMDcuOThsLTIuMTEgMS42NWMtLjE5LjE1LS4yNC40Mi0uMTIuNjRsMiAzLjQ2Yy4xMi4yMi4zOS4zLjYxLjIybDIuNDktMWMuNTIuNCAxLjA4LjczIDEuNjkuOThsLjM4IDIuNjVjLjAzLjI0LjI0LjQyLjQ5LjQyaDRjLjI1IDAgLjQ2LS4xOC40OS0uNDJsLjM4LTIuNjVjLjYxLS4yNSAxLjE3LS41OSAxLjY5LS45OGwyLjQ5IDFjLjIzLjA5LjQ5IDAgLjYxLS4yMmwyLTMuNDZjLjEyLS4yMi4wNy0uNDktLjEyLS42NGwtMi4xMS0xLjY1ek0xMiAxNS41Yy0xLjkzIDAtMy41LTEuNTctMy41LTMuNXMxLjU3LTMuNSAzLjUtMy41IDMuNSAxLjU3IDMuNSAzLjUtMS41NyAzLjUtMy41IDMuNXoiLz4KPC9zdmc+Cg==);
  --jp-icon-spreadsheet: url(data:image/svg+xml;base64,PHN2ZyB4bWxucz0iaHR0cDovL3d3dy53My5vcmcvMjAwMC9zdmciIHdpZHRoPSIxNiIgdmlld0JveD0iMCAwIDIyIDIyIj4KICA8cGF0aCBjbGFzcz0ianAtaWNvbi1jb250cmFzdDEganAtaWNvbi1zZWxlY3RhYmxlIiBmaWxsPSIjNENBRjUwIiBkPSJNMi4yIDIuMnYxNy42aDE3LjZWMi4ySDIuMnptMTUuNCA3LjdoLTUuNVY0LjRoNS41djUuNXpNOS45IDQuNHY1LjVINC40VjQuNGg1LjV6bS01LjUgNy43aDUuNXY1LjVINC40di01LjV6bTcuNyA1LjV2LTUuNWg1LjV2NS41aC01LjV6Ii8+Cjwvc3ZnPgo=);
  --jp-icon-stop: url(data:image/svg+xml;base64,PHN2ZyBoZWlnaHQ9IjI0IiB2aWV3Qm94PSIwIDAgMjQgMjQiIHdpZHRoPSIyNCIgeG1sbnM9Imh0dHA6Ly93d3cudzMub3JnLzIwMDAvc3ZnIj4KICAgIDxnIGNsYXNzPSJqcC1pY29uMyIgZmlsbD0iIzYxNjE2MSI+CiAgICAgICAgPHBhdGggZD0iTTAgMGgyNHYyNEgweiIgZmlsbD0ibm9uZSIvPgogICAgICAgIDxwYXRoIGQ9Ik02IDZoMTJ2MTJINnoiLz4KICAgIDwvZz4KPC9zdmc+Cg==);
  --jp-icon-tab: url(data:image/svg+xml;base64,PHN2ZyB4bWxucz0iaHR0cDovL3d3dy53My5vcmcvMjAwMC9zdmciIHdpZHRoPSIxNiIgdmlld0JveD0iMCAwIDI0IDI0Ij4KICA8ZyBjbGFzcz0ianAtaWNvbjMiIGZpbGw9IiM2MTYxNjEiPgogICAgPHBhdGggZD0iTTIxIDNIM2MtMS4xIDAtMiAuOS0yIDJ2MTRjMCAxLjEuOSAyIDIgMmgxOGMxLjEgMCAyLS45IDItMlY1YzAtMS4xLS45LTItMi0yem0wIDE2SDNWNWgxMHY0aDh2MTB6Ii8+CiAgPC9nPgo8L3N2Zz4K);
  --jp-icon-table-rows: url(data:image/svg+xml;base64,PHN2ZyBoZWlnaHQ9IjI0IiB2aWV3Qm94PSIwIDAgMjQgMjQiIHdpZHRoPSIyNCIgeG1sbnM9Imh0dHA6Ly93d3cudzMub3JnLzIwMDAvc3ZnIj4KICAgIDxnIGNsYXNzPSJqcC1pY29uMyIgZmlsbD0iIzYxNjE2MSI+CiAgICAgICAgPHBhdGggZD0iTTAgMGgyNHYyNEgweiIgZmlsbD0ibm9uZSIvPgogICAgICAgIDxwYXRoIGQ9Ik0yMSw4SDNWNGgxOFY4eiBNMjEsMTBIM3Y0aDE4VjEweiBNMjEsMTZIM3Y0aDE4VjE2eiIvPgogICAgPC9nPgo8L3N2Zz4=);
  --jp-icon-tag: url(data:image/svg+xml;base64,PHN2ZyB3aWR0aD0iMjgiIGhlaWdodD0iMjgiIHZpZXdCb3g9IjAgMCA0MyAyOCIgeG1sbnM9Imh0dHA6Ly93d3cudzMub3JnLzIwMDAvc3ZnIj4KCTxnIGNsYXNzPSJqcC1pY29uMyIgZmlsbD0iIzYxNjE2MSI+CgkJPHBhdGggZD0iTTI4LjgzMzIgMTIuMzM0TDMyLjk5OTggMTYuNTAwN0wzNy4xNjY1IDEyLjMzNEgyOC44MzMyWiIvPgoJCTxwYXRoIGQ9Ik0xNi4yMDk1IDIxLjYxMDRDMTUuNjg3MyAyMi4xMjk5IDE0Ljg0NDMgMjIuMTI5OSAxNC4zMjQ4IDIxLjYxMDRMNi45ODI5IDE0LjcyNDVDNi41NzI0IDE0LjMzOTQgNi4wODMxMyAxMy42MDk4IDYuMDQ3ODYgMTMuMDQ4MkM1Ljk1MzQ3IDExLjUyODggNi4wMjAwMiA4LjYxOTQ0IDYuMDY2MjEgNy4wNzY5NUM2LjA4MjgxIDYuNTE0NzcgNi41NTU0OCA2LjA0MzQ3IDcuMTE4MDQgNi4wMzA1NUM5LjA4ODYzIDUuOTg0NzMgMTMuMjYzOCA1LjkzNTc5IDEzLjY1MTggNi4zMjQyNUwyMS43MzY5IDEzLjYzOUMyMi4yNTYgMTQuMTU4NSAyMS43ODUxIDE1LjQ3MjQgMjEuMjYyIDE1Ljk5NDZMMTYuMjA5NSAyMS42MTA0Wk05Ljc3NTg1IDguMjY1QzkuMzM1NTEgNy44MjU2NiA4LjYyMzUxIDcuODI1NjYgOC4xODI4IDguMjY1QzcuNzQzNDYgOC43MDU3MSA3Ljc0MzQ2IDkuNDE3MzMgOC4xODI4IDkuODU2NjdDOC42MjM4MiAxMC4yOTY0IDkuMzM1ODIgMTAuMjk2NCA5Ljc3NTg1IDkuODU2NjdDMTAuMjE1NiA5LjQxNzMzIDEwLjIxNTYgOC43MDUzMyA5Ljc3NTg1IDguMjY1WiIvPgoJPC9nPgo8L3N2Zz4K);
  --jp-icon-terminal: url(data:image/svg+xml;base64,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);
  --jp-icon-text-editor: url(data:image/svg+xml;base64,PHN2ZyB4bWxucz0iaHR0cDovL3d3dy53My5vcmcvMjAwMC9zdmciIHdpZHRoPSIxNiIgdmlld0JveD0iMCAwIDI0IDI0Ij4KICA8cGF0aCBjbGFzcz0ianAtaWNvbjMganAtaWNvbi1zZWxlY3RhYmxlIiBmaWxsPSIjNjE2MTYxIiBkPSJNMTUgMTVIM3YyaDEydi0yem0wLThIM3YyaDEyVjd6TTMgMTNoMTh2LTJIM3Yyem0wIDhoMTh2LTJIM3Yyek0zIDN2MmgxOFYzSDN6Ii8+Cjwvc3ZnPgo=);
  --jp-icon-toc: url(data:image/svg+xml;base64,PHN2ZyB4bWxucz0iaHR0cDovL3d3dy53My5vcmcvMjAwMC9zdmciIHdpZHRoPSIyNCIgaGVpZ2h0PSIyNCIgdmlld0JveD0iMCAwIDI0IDI0Ij4KICA8ZyBjbGFzcz0ianAtaWNvbjMganAtaWNvbi1zZWxlY3RhYmxlIiBmaWxsPSIjNjE2MTYxIj4KICAgIDxwYXRoIGQ9Ik03LDVIMjFWN0g3VjVNNywxM1YxMUgyMVYxM0g3TTQsNC41QTEuNSwxLjUgMCAwLDEgNS41LDZBMS41LDEuNSAwIDAsMSA0LDcuNUExLjUsMS41IDAgMCwxIDIuNSw2QTEuNSwxLjUgMCAwLDEgNCw0LjVNNCwxMC41QTEuNSwxLjUgMCAwLDEgNS41LDEyQTEuNSwxLjUgMCAwLDEgNCwxMy41QTEuNSwxLjUgMCAwLDEgMi41LDEyQTEuNSwxLjUgMCAwLDEgNCwxMC41TTcsMTlWMTdIMjFWMTlIN000LDE2LjVBMS41LDEuNSAwIDAsMSA1LjUsMThBMS41LDEuNSAwIDAsMSA0LDE5LjVBMS41LDEuNSAwIDAsMSAyLjUsMThBMS41LDEuNSAwIDAsMSA0LDE2LjVaIiAvPgogIDwvZz4KPC9zdmc+Cg==);
  --jp-icon-tree-view: url(data:image/svg+xml;base64,PHN2ZyBoZWlnaHQ9IjI0IiB2aWV3Qm94PSIwIDAgMjQgMjQiIHdpZHRoPSIyNCIgeG1sbnM9Imh0dHA6Ly93d3cudzMub3JnLzIwMDAvc3ZnIj4KICAgIDxnIGNsYXNzPSJqcC1pY29uMyIgZmlsbD0iIzYxNjE2MSI+CiAgICAgICAgPHBhdGggZD0iTTAgMGgyNHYyNEgweiIgZmlsbD0ibm9uZSIvPgogICAgICAgIDxwYXRoIGQ9Ik0yMiAxMVYzaC03djNIOVYzSDJ2OGg3VjhoMnYxMGg0djNoN3YtOGgtN3YzaC0yVjhoMnYzeiIvPgogICAgPC9nPgo8L3N2Zz4=);
  --jp-icon-trusted: url(data:image/svg+xml;base64,PHN2ZyBmaWxsPSJub25lIiB4bWxucz0iaHR0cDovL3d3dy53My5vcmcvMjAwMC9zdmciIHdpZHRoPSIxNiIgdmlld0JveD0iMCAwIDI0IDI1Ij4KICAgIDxwYXRoIGNsYXNzPSJqcC1pY29uMiIgc3Ryb2tlPSIjMzMzMzMzIiBzdHJva2Utd2lkdGg9IjIiIHRyYW5zZm9ybT0idHJhbnNsYXRlKDIgMykiIGQ9Ik0xLjg2MDk0IDExLjQ0MDlDMC44MjY0NDggOC43NzAyNyAwLjg2Mzc3OSA2LjA1NzY0IDEuMjQ5MDcgNC4xOTkzMkMyLjQ4MjA2IDMuOTMzNDcgNC4wODA2OCAzLjQwMzQ3IDUuNjAxMDIgMi44NDQ5QzcuMjM1NDkgMi4yNDQ0IDguODU2NjYgMS41ODE1IDkuOTg3NiAxLjA5NTM5QzExLjA1OTcgMS41ODM0MSAxMi42MDk0IDIuMjQ0NCAxNC4yMTggMi44NDMzOUMxNS43NTAzIDMuNDEzOTQgMTcuMzk5NSAzLjk1MjU4IDE4Ljc1MzkgNC4yMTM4NUMxOS4xMzY0IDYuMDcxNzcgMTkuMTcwOSA4Ljc3NzIyIDE4LjEzOSAxMS40NDA5QzE3LjAzMDMgMTQuMzAzMiAxNC42NjY4IDE3LjE4NDQgOS45OTk5OSAxOC45MzU0QzUuMzMzMiAxNy4xODQ0IDIuOTY5NjggMTQuMzAzMiAxLjg2MDk0IDExLjQ0MDlaIi8+CiAgICA8cGF0aCBjbGFzcz0ianAtaWNvbjIiIGZpbGw9IiMzMzMzMzMiIHN0cm9rZT0iIzMzMzMzMyIgdHJhbnNmb3JtPSJ0cmFuc2xhdGUoOCA5Ljg2NzE5KSIgZD0iTTIuODYwMTUgNC44NjUzNUwwLjcyNjU0OSAyLjk5OTU5TDAgMy42MzA0NUwyLjg2MDE1IDYuMTMxNTdMOCAwLjYzMDg3Mkw3LjI3ODU3IDBMMi44NjAxNSA0Ljg2NTM1WiIvPgo8L3N2Zz4K);
  --jp-icon-undo: url(data:image/svg+xml;base64,PHN2ZyB2aWV3Qm94PSIwIDAgMjQgMjQiIHdpZHRoPSIxNiIgeG1sbnM9Imh0dHA6Ly93d3cudzMub3JnLzIwMDAvc3ZnIj4KICA8ZyBjbGFzcz0ianAtaWNvbjMiIGZpbGw9IiM2MTYxNjEiPgogICAgPHBhdGggZD0iTTEyLjUgOGMtMi42NSAwLTUuMDUuOTktNi45IDIuNkwyIDd2OWg5bC0zLjYyLTMuNjJjMS4zOS0xLjE2IDMuMTYtMS44OCA1LjEyLTEuODggMy41NCAwIDYuNTUgMi4zMSA3LjYgNS41bDIuMzctLjc4QzIxLjA4IDExLjAzIDE3LjE1IDggMTIuNSA4eiIvPgogIDwvZz4KPC9zdmc+Cg==);
  --jp-icon-vega: url(data:image/svg+xml;base64,PHN2ZyB4bWxucz0iaHR0cDovL3d3dy53My5vcmcvMjAwMC9zdmciIHdpZHRoPSIxNiIgdmlld0JveD0iMCAwIDIyIDIyIj4KICA8ZyBjbGFzcz0ianAtaWNvbjEganAtaWNvbi1zZWxlY3RhYmxlIiBmaWxsPSIjMjEyMTIxIj4KICAgIDxwYXRoIGQ9Ik0xMC42IDUuNGwyLjItMy4ySDIuMnY3LjNsNC02LjZ6Ii8+CiAgICA8cGF0aCBkPSJNMTUuOCAyLjJsLTQuNCA2LjZMNyA2LjNsLTQuOCA4djUuNWgxNy42VjIuMmgtNHptLTcgMTUuNEg1LjV2LTQuNGgzLjN2NC40em00LjQgMEg5LjhWOS44aDMuNHY3Ljh6bTQuNCAwaC0zLjRWNi41aDMuNHYxMS4xeiIvPgogIDwvZz4KPC9zdmc+Cg==);
  --jp-icon-yaml: url(data:image/svg+xml;base64,PHN2ZyB4bWxucz0iaHR0cDovL3d3dy53My5vcmcvMjAwMC9zdmciIHdpZHRoPSIxNiIgdmlld0JveD0iMCAwIDIyIDIyIj4KICA8ZyBjbGFzcz0ianAtaWNvbi1jb250cmFzdDIganAtaWNvbi1zZWxlY3RhYmxlIiBmaWxsPSIjRDgxQjYwIj4KICAgIDxwYXRoIGQ9Ik03LjIgMTguNnYtNS40TDMgNS42aDMuM2wxLjQgMy4xYy4zLjkuNiAxLjYgMSAyLjUuMy0uOC42LTEuNiAxLTIuNWwxLjQtMy4xaDMuNGwtNC40IDcuNnY1LjVsLTIuOS0uMXoiLz4KICAgIDxjaXJjbGUgY2xhc3M9InN0MCIgY3g9IjE3LjYiIGN5PSIxNi41IiByPSIyLjEiLz4KICAgIDxjaXJjbGUgY2xhc3M9InN0MCIgY3g9IjE3LjYiIGN5PSIxMSIgcj0iMi4xIi8+CiAgPC9nPgo8L3N2Zz4K);
}

/* Icon CSS class declarations */

.jp-AddIcon {
  background-image: var(--jp-icon-add);
}
.jp-BugIcon {
  background-image: var(--jp-icon-bug);
}
.jp-BuildIcon {
  background-image: var(--jp-icon-build);
}
.jp-CaretDownEmptyIcon {
  background-image: var(--jp-icon-caret-down-empty);
}
.jp-CaretDownEmptyThinIcon {
  background-image: var(--jp-icon-caret-down-empty-thin);
}
.jp-CaretDownIcon {
  background-image: var(--jp-icon-caret-down);
}
.jp-CaretLeftIcon {
  background-image: var(--jp-icon-caret-left);
}
.jp-CaretRightIcon {
  background-image: var(--jp-icon-caret-right);
}
.jp-CaretUpEmptyThinIcon {
  background-image: var(--jp-icon-caret-up-empty-thin);
}
.jp-CaretUpIcon {
  background-image: var(--jp-icon-caret-up);
}
.jp-CaseSensitiveIcon {
  background-image: var(--jp-icon-case-sensitive);
}
.jp-CheckIcon {
  background-image: var(--jp-icon-check);
}
.jp-CircleEmptyIcon {
  background-image: var(--jp-icon-circle-empty);
}
.jp-CircleIcon {
  background-image: var(--jp-icon-circle);
}
.jp-ClearIcon {
  background-image: var(--jp-icon-clear);
}
.jp-CloseIcon {
  background-image: var(--jp-icon-close);
}
.jp-CodeIcon {
  background-image: var(--jp-icon-code);
}
.jp-ConsoleIcon {
  background-image: var(--jp-icon-console);
}
.jp-CopyIcon {
  background-image: var(--jp-icon-copy);
}
.jp-CopyrightIcon {
  background-image: var(--jp-icon-copyright);
}
.jp-CutIcon {
  background-image: var(--jp-icon-cut);
}
.jp-DownloadIcon {
  background-image: var(--jp-icon-download);
}
.jp-EditIcon {
  background-image: var(--jp-icon-edit);
}
.jp-EllipsesIcon {
  background-image: var(--jp-icon-ellipses);
}
.jp-ExtensionIcon {
  background-image: var(--jp-icon-extension);
}
.jp-FastForwardIcon {
  background-image: var(--jp-icon-fast-forward);
}
.jp-FileIcon {
  background-image: var(--jp-icon-file);
}
.jp-FileUploadIcon {
  background-image: var(--jp-icon-file-upload);
}
.jp-FilterListIcon {
  background-image: var(--jp-icon-filter-list);
}
.jp-FolderIcon {
  background-image: var(--jp-icon-folder);
}
.jp-Html5Icon {
  background-image: var(--jp-icon-html5);
}
.jp-ImageIcon {
  background-image: var(--jp-icon-image);
}
.jp-InspectorIcon {
  background-image: var(--jp-icon-inspector);
}
.jp-JsonIcon {
  background-image: var(--jp-icon-json);
}
.jp-JuliaIcon {
  background-image: var(--jp-icon-julia);
}
.jp-JupyterFaviconIcon {
  background-image: var(--jp-icon-jupyter-favicon);
}
.jp-JupyterIcon {
  background-image: var(--jp-icon-jupyter);
}
.jp-JupyterlabWordmarkIcon {
  background-image: var(--jp-icon-jupyterlab-wordmark);
}
.jp-KernelIcon {
  background-image: var(--jp-icon-kernel);
}
.jp-KeyboardIcon {
  background-image: var(--jp-icon-keyboard);
}
.jp-LauncherIcon {
  background-image: var(--jp-icon-launcher);
}
.jp-LineFormIcon {
  background-image: var(--jp-icon-line-form);
}
.jp-LinkIcon {
  background-image: var(--jp-icon-link);
}
.jp-ListIcon {
  background-image: var(--jp-icon-list);
}
.jp-ListingsInfoIcon {
  background-image: var(--jp-icon-listings-info);
}
.jp-MarkdownIcon {
  background-image: var(--jp-icon-markdown);
}
.jp-NewFolderIcon {
  background-image: var(--jp-icon-new-folder);
}
.jp-NotTrustedIcon {
  background-image: var(--jp-icon-not-trusted);
}
.jp-NotebookIcon {
  background-image: var(--jp-icon-notebook);
}
.jp-NumberingIcon {
  background-image: var(--jp-icon-numbering);
}
.jp-OfflineBoltIcon {
  background-image: var(--jp-icon-offline-bolt);
}
.jp-PaletteIcon {
  background-image: var(--jp-icon-palette);
}
.jp-PasteIcon {
  background-image: var(--jp-icon-paste);
}
.jp-PdfIcon {
  background-image: var(--jp-icon-pdf);
}
.jp-PythonIcon {
  background-image: var(--jp-icon-python);
}
.jp-RKernelIcon {
  background-image: var(--jp-icon-r-kernel);
}
.jp-ReactIcon {
  background-image: var(--jp-icon-react);
}
.jp-RedoIcon {
  background-image: var(--jp-icon-redo);
}
.jp-RefreshIcon {
  background-image: var(--jp-icon-refresh);
}
.jp-RegexIcon {
  background-image: var(--jp-icon-regex);
}
.jp-RunIcon {
  background-image: var(--jp-icon-run);
}
.jp-RunningIcon {
  background-image: var(--jp-icon-running);
}
.jp-SaveIcon {
  background-image: var(--jp-icon-save);
}
.jp-SearchIcon {
  background-image: var(--jp-icon-search);
}
.jp-SettingsIcon {
  background-image: var(--jp-icon-settings);
}
.jp-SpreadsheetIcon {
  background-image: var(--jp-icon-spreadsheet);
}
.jp-StopIcon {
  background-image: var(--jp-icon-stop);
}
.jp-TabIcon {
  background-image: var(--jp-icon-tab);
}
.jp-TableRowsIcon {
  background-image: var(--jp-icon-table-rows);
}
.jp-TagIcon {
  background-image: var(--jp-icon-tag);
}
.jp-TerminalIcon {
  background-image: var(--jp-icon-terminal);
}
.jp-TextEditorIcon {
  background-image: var(--jp-icon-text-editor);
}
.jp-TocIcon {
  background-image: var(--jp-icon-toc);
}
.jp-TreeViewIcon {
  background-image: var(--jp-icon-tree-view);
}
.jp-TrustedIcon {
  background-image: var(--jp-icon-trusted);
}
.jp-UndoIcon {
  background-image: var(--jp-icon-undo);
}
.jp-VegaIcon {
  background-image: var(--jp-icon-vega);
}
.jp-YamlIcon {
  background-image: var(--jp-icon-yaml);
}

/*-----------------------------------------------------------------------------
| Copyright (c) Jupyter Development Team.
| Distributed under the terms of the Modified BSD License.
|----------------------------------------------------------------------------*/

/**
 * (DEPRECATED) Support for consuming icons as CSS background images
 */

.jp-Icon,
.jp-MaterialIcon {
  background-position: center;
  background-repeat: no-repeat;
  background-size: 16px;
  min-width: 16px;
  min-height: 16px;
}

.jp-Icon-cover {
  background-position: center;
  background-repeat: no-repeat;
  background-size: cover;
}

/**
 * (DEPRECATED) Support for specific CSS icon sizes
 */

.jp-Icon-16 {
  background-size: 16px;
  min-width: 16px;
  min-height: 16px;
}

.jp-Icon-18 {
  background-size: 18px;
  min-width: 18px;
  min-height: 18px;
}

.jp-Icon-20 {
  background-size: 20px;
  min-width: 20px;
  min-height: 20px;
}

/*-----------------------------------------------------------------------------
| Copyright (c) Jupyter Development Team.
| Distributed under the terms of the Modified BSD License.
|----------------------------------------------------------------------------*/

/**
 * Support for icons as inline SVG HTMLElements
 */

/* recolor the primary elements of an icon */
.jp-icon0[fill] {
  fill: var(--jp-inverse-layout-color0);
}
.jp-icon1[fill] {
  fill: var(--jp-inverse-layout-color1);
}
.jp-icon2[fill] {
  fill: var(--jp-inverse-layout-color2);
}
.jp-icon3[fill] {
  fill: var(--jp-inverse-layout-color3);
}
.jp-icon4[fill] {
  fill: var(--jp-inverse-layout-color4);
}

.jp-icon0[stroke] {
  stroke: var(--jp-inverse-layout-color0);
}
.jp-icon1[stroke] {
  stroke: var(--jp-inverse-layout-color1);
}
.jp-icon2[stroke] {
  stroke: var(--jp-inverse-layout-color2);
}
.jp-icon3[stroke] {
  stroke: var(--jp-inverse-layout-color3);
}
.jp-icon4[stroke] {
  stroke: var(--jp-inverse-layout-color4);
}
/* recolor the accent elements of an icon */
.jp-icon-accent0[fill] {
  fill: var(--jp-layout-color0);
}
.jp-icon-accent1[fill] {
  fill: var(--jp-layout-color1);
}
.jp-icon-accent2[fill] {
  fill: var(--jp-layout-color2);
}
.jp-icon-accent3[fill] {
  fill: var(--jp-layout-color3);
}
.jp-icon-accent4[fill] {
  fill: var(--jp-layout-color4);
}

.jp-icon-accent0[stroke] {
  stroke: var(--jp-layout-color0);
}
.jp-icon-accent1[stroke] {
  stroke: var(--jp-layout-color1);
}
.jp-icon-accent2[stroke] {
  stroke: var(--jp-layout-color2);
}
.jp-icon-accent3[stroke] {
  stroke: var(--jp-layout-color3);
}
.jp-icon-accent4[stroke] {
  stroke: var(--jp-layout-color4);
}
/* set the color of an icon to transparent */
.jp-icon-none[fill] {
  fill: none;
}

.jp-icon-none[stroke] {
  stroke: none;
}
/* brand icon colors. Same for light and dark */
.jp-icon-brand0[fill] {
  fill: var(--jp-brand-color0);
}
.jp-icon-brand1[fill] {
  fill: var(--jp-brand-color1);
}
.jp-icon-brand2[fill] {
  fill: var(--jp-brand-color2);
}
.jp-icon-brand3[fill] {
  fill: var(--jp-brand-color3);
}
.jp-icon-brand4[fill] {
  fill: var(--jp-brand-color4);
}

.jp-icon-brand0[stroke] {
  stroke: var(--jp-brand-color0);
}
.jp-icon-brand1[stroke] {
  stroke: var(--jp-brand-color1);
}
.jp-icon-brand2[stroke] {
  stroke: var(--jp-brand-color2);
}
.jp-icon-brand3[stroke] {
  stroke: var(--jp-brand-color3);
}
.jp-icon-brand4[stroke] {
  stroke: var(--jp-brand-color4);
}
/* warn icon colors. Same for light and dark */
.jp-icon-warn0[fill] {
  fill: var(--jp-warn-color0);
}
.jp-icon-warn1[fill] {
  fill: var(--jp-warn-color1);
}
.jp-icon-warn2[fill] {
  fill: var(--jp-warn-color2);
}
.jp-icon-warn3[fill] {
  fill: var(--jp-warn-color3);
}

.jp-icon-warn0[stroke] {
  stroke: var(--jp-warn-color0);
}
.jp-icon-warn1[stroke] {
  stroke: var(--jp-warn-color1);
}
.jp-icon-warn2[stroke] {
  stroke: var(--jp-warn-color2);
}
.jp-icon-warn3[stroke] {
  stroke: var(--jp-warn-color3);
}
/* icon colors that contrast well with each other and most backgrounds */
.jp-icon-contrast0[fill] {
  fill: var(--jp-icon-contrast-color0);
}
.jp-icon-contrast1[fill] {
  fill: var(--jp-icon-contrast-color1);
}
.jp-icon-contrast2[fill] {
  fill: var(--jp-icon-contrast-color2);
}
.jp-icon-contrast3[fill] {
  fill: var(--jp-icon-contrast-color3);
}

.jp-icon-contrast0[stroke] {
  stroke: var(--jp-icon-contrast-color0);
}
.jp-icon-contrast1[stroke] {
  stroke: var(--jp-icon-contrast-color1);
}
.jp-icon-contrast2[stroke] {
  stroke: var(--jp-icon-contrast-color2);
}
.jp-icon-contrast3[stroke] {
  stroke: var(--jp-icon-contrast-color3);
}

/* CSS for icons in selected items in the settings editor */
#setting-editor .jp-PluginList .jp-mod-selected .jp-icon-selectable[fill] {
  fill: #fff;
}
#setting-editor
  .jp-PluginList
  .jp-mod-selected
  .jp-icon-selectable-inverse[fill] {
  fill: var(--jp-brand-color1);
}

/* CSS for icons in selected filebrowser listing items */
.jp-DirListing-item.jp-mod-selected .jp-icon-selectable[fill] {
  fill: #fff;
}
.jp-DirListing-item.jp-mod-selected .jp-icon-selectable-inverse[fill] {
  fill: var(--jp-brand-color1);
}

/* CSS for icons in selected tabs in the sidebar tab manager */
#tab-manager .lm-TabBar-tab.jp-mod-active .jp-icon-selectable[fill] {
  fill: #fff;
}

#tab-manager .lm-TabBar-tab.jp-mod-active .jp-icon-selectable-inverse[fill] {
  fill: var(--jp-brand-color1);
}
#tab-manager
  .lm-TabBar-tab.jp-mod-active
  .jp-icon-hover
  :hover
  .jp-icon-selectable[fill] {
  fill: var(--jp-brand-color1);
}

#tab-manager
  .lm-TabBar-tab.jp-mod-active
  .jp-icon-hover
  :hover
  .jp-icon-selectable-inverse[fill] {
  fill: #fff;
}

/**
 * TODO: come up with non css-hack solution for showing the busy icon on top
 *  of the close icon
 * CSS for complex behavior of close icon of tabs in the sidebar tab manager
 */
#tab-manager
  .lm-TabBar-tab.jp-mod-dirty
  > .lm-TabBar-tabCloseIcon
  > :not(:hover)
  > .jp-icon3[fill] {
  fill: none;
}
#tab-manager
  .lm-TabBar-tab.jp-mod-dirty
  > .lm-TabBar-tabCloseIcon
  > :not(:hover)
  > .jp-icon-busy[fill] {
  fill: var(--jp-inverse-layout-color3);
}

#tab-manager
  .lm-TabBar-tab.jp-mod-dirty.jp-mod-active
  > .lm-TabBar-tabCloseIcon
  > :not(:hover)
  > .jp-icon-busy[fill] {
  fill: #fff;
}

/**
* TODO: come up with non css-hack solution for showing the busy icon on top
*  of the close icon
* CSS for complex behavior of close icon of tabs in the main area tabbar
*/
.lm-DockPanel-tabBar
  .lm-TabBar-tab.lm-mod-closable.jp-mod-dirty
  > .lm-TabBar-tabCloseIcon
  > :not(:hover)
  > .jp-icon3[fill] {
  fill: none;
}
.lm-DockPanel-tabBar
  .lm-TabBar-tab.lm-mod-closable.jp-mod-dirty
  > .lm-TabBar-tabCloseIcon
  > :not(:hover)
  > .jp-icon-busy[fill] {
  fill: var(--jp-inverse-layout-color3);
}

/* CSS for icons in status bar */
#jp-main-statusbar .jp-mod-selected .jp-icon-selectable[fill] {
  fill: #fff;
}

#jp-main-statusbar .jp-mod-selected .jp-icon-selectable-inverse[fill] {
  fill: var(--jp-brand-color1);
}
/* special handling for splash icon CSS. While the theme CSS reloads during
   splash, the splash icon can loose theming. To prevent that, we set a
   default for its color variable */
:root {
  --jp-warn-color0: var(--md-orange-700);
}

/* not sure what to do with this one, used in filebrowser listing */
.jp-DragIcon {
  margin-right: 4px;
}

/*-----------------------------------------------------------------------------
| Copyright (c) Jupyter Development Team.
| Distributed under the terms of the Modified BSD License.
|----------------------------------------------------------------------------*/

/**
 * Support for alt colors for icons as inline SVG HTMLElements
 */

/* alt recolor the primary elements of an icon */
.jp-icon-alt .jp-icon0[fill] {
  fill: var(--jp-layout-color0);
}
.jp-icon-alt .jp-icon1[fill] {
  fill: var(--jp-layout-color1);
}
.jp-icon-alt .jp-icon2[fill] {
  fill: var(--jp-layout-color2);
}
.jp-icon-alt .jp-icon3[fill] {
  fill: var(--jp-layout-color3);
}
.jp-icon-alt .jp-icon4[fill] {
  fill: var(--jp-layout-color4);
}

.jp-icon-alt .jp-icon0[stroke] {
  stroke: var(--jp-layout-color0);
}
.jp-icon-alt .jp-icon1[stroke] {
  stroke: var(--jp-layout-color1);
}
.jp-icon-alt .jp-icon2[stroke] {
  stroke: var(--jp-layout-color2);
}
.jp-icon-alt .jp-icon3[stroke] {
  stroke: var(--jp-layout-color3);
}
.jp-icon-alt .jp-icon4[stroke] {
  stroke: var(--jp-layout-color4);
}

/* alt recolor the accent elements of an icon */
.jp-icon-alt .jp-icon-accent0[fill] {
  fill: var(--jp-inverse-layout-color0);
}
.jp-icon-alt .jp-icon-accent1[fill] {
  fill: var(--jp-inverse-layout-color1);
}
.jp-icon-alt .jp-icon-accent2[fill] {
  fill: var(--jp-inverse-layout-color2);
}
.jp-icon-alt .jp-icon-accent3[fill] {
  fill: var(--jp-inverse-layout-color3);
}
.jp-icon-alt .jp-icon-accent4[fill] {
  fill: var(--jp-inverse-layout-color4);
}

.jp-icon-alt .jp-icon-accent0[stroke] {
  stroke: var(--jp-inverse-layout-color0);
}
.jp-icon-alt .jp-icon-accent1[stroke] {
  stroke: var(--jp-inverse-layout-color1);
}
.jp-icon-alt .jp-icon-accent2[stroke] {
  stroke: var(--jp-inverse-layout-color2);
}
.jp-icon-alt .jp-icon-accent3[stroke] {
  stroke: var(--jp-inverse-layout-color3);
}
.jp-icon-alt .jp-icon-accent4[stroke] {
  stroke: var(--jp-inverse-layout-color4);
}

/*-----------------------------------------------------------------------------
| Copyright (c) Jupyter Development Team.
| Distributed under the terms of the Modified BSD License.
|----------------------------------------------------------------------------*/

.jp-icon-hoverShow:not(:hover) svg {
  display: none !important;
}

/**
 * Support for hover colors for icons as inline SVG HTMLElements
 */

/**
 * regular colors
 */

/* recolor the primary elements of an icon */
.jp-icon-hover :hover .jp-icon0-hover[fill] {
  fill: var(--jp-inverse-layout-color0);
}
.jp-icon-hover :hover .jp-icon1-hover[fill] {
  fill: var(--jp-inverse-layout-color1);
}
.jp-icon-hover :hover .jp-icon2-hover[fill] {
  fill: var(--jp-inverse-layout-color2);
}
.jp-icon-hover :hover .jp-icon3-hover[fill] {
  fill: var(--jp-inverse-layout-color3);
}
.jp-icon-hover :hover .jp-icon4-hover[fill] {
  fill: var(--jp-inverse-layout-color4);
}

.jp-icon-hover :hover .jp-icon0-hover[stroke] {
  stroke: var(--jp-inverse-layout-color0);
}
.jp-icon-hover :hover .jp-icon1-hover[stroke] {
  stroke: var(--jp-inverse-layout-color1);
}
.jp-icon-hover :hover .jp-icon2-hover[stroke] {
  stroke: var(--jp-inverse-layout-color2);
}
.jp-icon-hover :hover .jp-icon3-hover[stroke] {
  stroke: var(--jp-inverse-layout-color3);
}
.jp-icon-hover :hover .jp-icon4-hover[stroke] {
  stroke: var(--jp-inverse-layout-color4);
}

/* recolor the accent elements of an icon */
.jp-icon-hover :hover .jp-icon-accent0-hover[fill] {
  fill: var(--jp-layout-color0);
}
.jp-icon-hover :hover .jp-icon-accent1-hover[fill] {
  fill: var(--jp-layout-color1);
}
.jp-icon-hover :hover .jp-icon-accent2-hover[fill] {
  fill: var(--jp-layout-color2);
}
.jp-icon-hover :hover .jp-icon-accent3-hover[fill] {
  fill: var(--jp-layout-color3);
}
.jp-icon-hover :hover .jp-icon-accent4-hover[fill] {
  fill: var(--jp-layout-color4);
}

.jp-icon-hover :hover .jp-icon-accent0-hover[stroke] {
  stroke: var(--jp-layout-color0);
}
.jp-icon-hover :hover .jp-icon-accent1-hover[stroke] {
  stroke: var(--jp-layout-color1);
}
.jp-icon-hover :hover .jp-icon-accent2-hover[stroke] {
  stroke: var(--jp-layout-color2);
}
.jp-icon-hover :hover .jp-icon-accent3-hover[stroke] {
  stroke: var(--jp-layout-color3);
}
.jp-icon-hover :hover .jp-icon-accent4-hover[stroke] {
  stroke: var(--jp-layout-color4);
}

/* set the color of an icon to transparent */
.jp-icon-hover :hover .jp-icon-none-hover[fill] {
  fill: none;
}

.jp-icon-hover :hover .jp-icon-none-hover[stroke] {
  stroke: none;
}

/**
 * inverse colors
 */

/* inverse recolor the primary elements of an icon */
.jp-icon-hover.jp-icon-alt :hover .jp-icon0-hover[fill] {
  fill: var(--jp-layout-color0);
}
.jp-icon-hover.jp-icon-alt :hover .jp-icon1-hover[fill] {
  fill: var(--jp-layout-color1);
}
.jp-icon-hover.jp-icon-alt :hover .jp-icon2-hover[fill] {
  fill: var(--jp-layout-color2);
}
.jp-icon-hover.jp-icon-alt :hover .jp-icon3-hover[fill] {
  fill: var(--jp-layout-color3);
}
.jp-icon-hover.jp-icon-alt :hover .jp-icon4-hover[fill] {
  fill: var(--jp-layout-color4);
}

.jp-icon-hover.jp-icon-alt :hover .jp-icon0-hover[stroke] {
  stroke: var(--jp-layout-color0);
}
.jp-icon-hover.jp-icon-alt :hover .jp-icon1-hover[stroke] {
  stroke: var(--jp-layout-color1);
}
.jp-icon-hover.jp-icon-alt :hover .jp-icon2-hover[stroke] {
  stroke: var(--jp-layout-color2);
}
.jp-icon-hover.jp-icon-alt :hover .jp-icon3-hover[stroke] {
  stroke: var(--jp-layout-color3);
}
.jp-icon-hover.jp-icon-alt :hover .jp-icon4-hover[stroke] {
  stroke: var(--jp-layout-color4);
}

/* inverse recolor the accent elements of an icon */
.jp-icon-hover.jp-icon-alt :hover .jp-icon-accent0-hover[fill] {
  fill: var(--jp-inverse-layout-color0);
}
.jp-icon-hover.jp-icon-alt :hover .jp-icon-accent1-hover[fill] {
  fill: var(--jp-inverse-layout-color1);
}
.jp-icon-hover.jp-icon-alt :hover .jp-icon-accent2-hover[fill] {
  fill: var(--jp-inverse-layout-color2);
}
.jp-icon-hover.jp-icon-alt :hover .jp-icon-accent3-hover[fill] {
  fill: var(--jp-inverse-layout-color3);
}
.jp-icon-hover.jp-icon-alt :hover .jp-icon-accent4-hover[fill] {
  fill: var(--jp-inverse-layout-color4);
}

.jp-icon-hover.jp-icon-alt :hover .jp-icon-accent0-hover[stroke] {
  stroke: var(--jp-inverse-layout-color0);
}
.jp-icon-hover.jp-icon-alt :hover .jp-icon-accent1-hover[stroke] {
  stroke: var(--jp-inverse-layout-color1);
}
.jp-icon-hover.jp-icon-alt :hover .jp-icon-accent2-hover[stroke] {
  stroke: var(--jp-inverse-layout-color2);
}
.jp-icon-hover.jp-icon-alt :hover .jp-icon-accent3-hover[stroke] {
  stroke: var(--jp-inverse-layout-color3);
}
.jp-icon-hover.jp-icon-alt :hover .jp-icon-accent4-hover[stroke] {
  stroke: var(--jp-inverse-layout-color4);
}

/*-----------------------------------------------------------------------------
| Copyright (c) Jupyter Development Team.
| Distributed under the terms of the Modified BSD License.
|----------------------------------------------------------------------------*/

.jp-switch {
  display: flex;
  align-items: center;
  padding-left: 4px;
  padding-right: 4px;
  font-size: var(--jp-ui-font-size1);
  background-color: transparent;
  color: var(--jp-ui-font-color1);
  border: none;
  height: 20px;
}

.jp-switch:hover {
  background-color: var(--jp-layout-color2);
}

.jp-switch-label {
  margin-right: 5px;
}

.jp-switch-track {
  cursor: pointer;
  background-color: var(--jp-border-color1);
  -webkit-transition: 0.4s;
  transition: 0.4s;
  border-radius: 34px;
  height: 16px;
  width: 35px;
  position: relative;
}

.jp-switch-track::before {
  content: '';
  position: absolute;
  height: 10px;
  width: 10px;
  margin: 3px;
  left: 0px;
  background-color: var(--jp-ui-inverse-font-color1);
  -webkit-transition: 0.4s;
  transition: 0.4s;
  border-radius: 50%;
}

.jp-switch[aria-checked='true'] .jp-switch-track {
  background-color: var(--jp-warn-color0);
}

.jp-switch[aria-checked='true'] .jp-switch-track::before {
  /* track width (35) - margins (3 + 3) - thumb width (10) */
  left: 19px;
}

/*-----------------------------------------------------------------------------
| Copyright (c) Jupyter Development Team.
| Distributed under the terms of the Modified BSD License.
|----------------------------------------------------------------------------*/

/* Sibling imports */

/* Override Blueprint's _reset.scss styles */
html {
  box-sizing: unset;
}

*,
*::before,
*::after {
  box-sizing: unset;
}

body {
  color: unset;
  font-family: var(--jp-ui-font-family);
}

p {
  margin-top: unset;
  margin-bottom: unset;
}

small {
  font-size: unset;
}

strong {
  font-weight: unset;
}

/* Override Blueprint's _typography.scss styles */
a {
  text-decoration: unset;
  color: unset;
}
a:hover {
  text-decoration: unset;
  color: unset;
}

/* Override Blueprint's _accessibility.scss styles */
:focus {
  outline: unset;
  outline-offset: unset;
  -moz-outline-radius: unset;
}

/* Styles for ui-components */
.jp-Button {
  border-radius: var(--jp-border-radius);
  padding: 0px 12px;
  font-size: var(--jp-ui-font-size1);
}

/* Use our own theme for hover styles */
button.jp-Button.bp3-button.bp3-minimal:hover {
  background-color: var(--jp-layout-color2);
}
.jp-Button.minimal {
  color: unset !important;
}

.jp-Button.jp-ToolbarButtonComponent {
  text-transform: none;
}

.jp-InputGroup input {
  box-sizing: border-box;
  border-radius: 0;
  background-color: transparent;
  color: var(--jp-ui-font-color0);
  box-shadow: inset 0 0 0 var(--jp-border-width) var(--jp-input-border-color);
}

.jp-InputGroup input:focus {
  box-shadow: inset 0 0 0 var(--jp-border-width)
      var(--jp-input-active-box-shadow-color),
    inset 0 0 0 3px var(--jp-input-active-box-shadow-color);
}

.jp-InputGroup input::placeholder,
input::placeholder {
  color: var(--jp-ui-font-color3);
}

.jp-BPIcon {
  display: inline-block;
  vertical-align: middle;
  margin: auto;
}

/* Stop blueprint futzing with our icon fills */
.bp3-icon.jp-BPIcon > svg:not([fill]) {
  fill: var(--jp-inverse-layout-color3);
}

.jp-InputGroupAction {
  padding: 6px;
}

.jp-HTMLSelect.jp-DefaultStyle select {
  background-color: initial;
  border: none;
  border-radius: 0;
  box-shadow: none;
  color: var(--jp-ui-font-color0);
  display: block;
  font-size: var(--jp-ui-font-size1);
  height: 24px;
  line-height: 14px;
  padding: 0 25px 0 10px;
  text-align: left;
  -moz-appearance: none;
  -webkit-appearance: none;
}

/* Use our own theme for hover and option styles */
.jp-HTMLSelect.jp-DefaultStyle select:hover,
.jp-HTMLSelect.jp-DefaultStyle select > option {
  background-color: var(--jp-layout-color2);
  color: var(--jp-ui-font-color0);
}
select {
  box-sizing: border-box;
}

/*-----------------------------------------------------------------------------
| Copyright (c) Jupyter Development Team.
| Distributed under the terms of the Modified BSD License.
|----------------------------------------------------------------------------*/

.jp-Collapse {
  display: flex;
  flex-direction: column;
  align-items: stretch;
  border-top: 1px solid var(--jp-border-color2);
  border-bottom: 1px solid var(--jp-border-color2);
}

.jp-Collapse-header {
  padding: 1px 12px;
  color: var(--jp-ui-font-color1);
  background-color: var(--jp-layout-color1);
  font-size: var(--jp-ui-font-size2);
}

.jp-Collapse-header:hover {
  background-color: var(--jp-layout-color2);
}

.jp-Collapse-contents {
  padding: 0px 12px 0px 12px;
  background-color: var(--jp-layout-color1);
  color: var(--jp-ui-font-color1);
  overflow: auto;
}

/*-----------------------------------------------------------------------------
| Copyright (c) Jupyter Development Team.
| Distributed under the terms of the Modified BSD License.
|----------------------------------------------------------------------------*/

/*-----------------------------------------------------------------------------
| Variables
|----------------------------------------------------------------------------*/

:root {
  --jp-private-commandpalette-search-height: 28px;
}

/*-----------------------------------------------------------------------------
| Overall styles
|----------------------------------------------------------------------------*/

.lm-CommandPalette {
  padding-bottom: 0px;
  color: var(--jp-ui-font-color1);
  background: var(--jp-layout-color1);
  /* This is needed so that all font sizing of children done in ems is
   * relative to this base size */
  font-size: var(--jp-ui-font-size1);
}

/*-----------------------------------------------------------------------------
| Modal variant
|----------------------------------------------------------------------------*/

.jp-ModalCommandPalette {
  position: absolute;
  z-index: 10000;
  top: 38px;
  left: 30%;
  margin: 0;
  padding: 4px;
  width: 40%;
  box-shadow: var(--jp-elevation-z4);
  border-radius: 4px;
  background: var(--jp-layout-color0);
}

.jp-ModalCommandPalette .lm-CommandPalette {
  max-height: 40vh;
}

.jp-ModalCommandPalette .lm-CommandPalette .lm-close-icon::after {
  display: none;
}

.jp-ModalCommandPalette .lm-CommandPalette .lm-CommandPalette-header {
  display: none;
}

.jp-ModalCommandPalette .lm-CommandPalette .lm-CommandPalette-item {
  margin-left: 4px;
  margin-right: 4px;
}

.jp-ModalCommandPalette
  .lm-CommandPalette
  .lm-CommandPalette-item.lm-mod-disabled {
  display: none;
}

/*-----------------------------------------------------------------------------
| Search
|----------------------------------------------------------------------------*/

.lm-CommandPalette-search {
  padding: 4px;
  background-color: var(--jp-layout-color1);
  z-index: 2;
}

.lm-CommandPalette-wrapper {
  overflow: overlay;
  padding: 0px 9px;
  background-color: var(--jp-input-active-background);
  height: 30px;
  box-shadow: inset 0 0 0 var(--jp-border-width) var(--jp-input-border-color);
}

.lm-CommandPalette.lm-mod-focused .lm-CommandPalette-wrapper {
  box-shadow: inset 0 0 0 1px var(--jp-input-active-box-shadow-color),
    inset 0 0 0 3px var(--jp-input-active-box-shadow-color);
}

.jp-SearchIconGroup {
  color: white;
  background-color: var(--jp-brand-color1);
  position: absolute;
  top: 4px;
  right: 4px;
  padding: 5px 5px 1px 5px;
}

.jp-SearchIconGroup svg {
  height: 20px;
  width: 20px;
}

.jp-SearchIconGroup .jp-icon3[fill] {
  fill: var(--jp-layout-color0);
}

.lm-CommandPalette-input {
  background: transparent;
  width: calc(100% - 18px);
  float: left;
  border: none;
  outline: none;
  font-size: var(--jp-ui-font-size1);
  color: var(--jp-ui-font-color0);
  line-height: var(--jp-private-commandpalette-search-height);
}

.lm-CommandPalette-input::-webkit-input-placeholder,
.lm-CommandPalette-input::-moz-placeholder,
.lm-CommandPalette-input:-ms-input-placeholder {
  color: var(--jp-ui-font-color2);
  font-size: var(--jp-ui-font-size1);
}

/*-----------------------------------------------------------------------------
| Results
|----------------------------------------------------------------------------*/

.lm-CommandPalette-header:first-child {
  margin-top: 0px;
}

.lm-CommandPalette-header {
  border-bottom: solid var(--jp-border-width) var(--jp-border-color2);
  color: var(--jp-ui-font-color1);
  cursor: pointer;
  display: flex;
  font-size: var(--jp-ui-font-size0);
  font-weight: 600;
  letter-spacing: 1px;
  margin-top: 8px;
  padding: 8px 0 8px 12px;
  text-transform: uppercase;
}

.lm-CommandPalette-header.lm-mod-active {
  background: var(--jp-layout-color2);
}

.lm-CommandPalette-header > mark {
  background-color: transparent;
  font-weight: bold;
  color: var(--jp-ui-font-color1);
}

.lm-CommandPalette-item {
  padding: 4px 12px 4px 4px;
  color: var(--jp-ui-font-color1);
  font-size: var(--jp-ui-font-size1);
  font-weight: 400;
  display: flex;
}

.lm-CommandPalette-item.lm-mod-disabled {
  color: var(--jp-ui-font-color2);
}

.lm-CommandPalette-item.lm-mod-active {
  color: var(--jp-ui-inverse-font-color1);
  background: var(--jp-brand-color1);
}

.lm-CommandPalette-item.lm-mod-active .lm-CommandPalette-itemLabel > mark {
  color: var(--jp-ui-inverse-font-color0);
}

.lm-CommandPalette-item.lm-mod-active .jp-icon-selectable[fill] {
  fill: var(--jp-layout-color0);
}

.lm-CommandPalette-item.lm-mod-active .lm-CommandPalette-itemLabel > mark {
  color: var(--jp-ui-inverse-font-color0);
}

.lm-CommandPalette-item.lm-mod-active:hover:not(.lm-mod-disabled) {
  color: var(--jp-ui-inverse-font-color1);
  background: var(--jp-brand-color1);
}

.lm-CommandPalette-item:hover:not(.lm-mod-active):not(.lm-mod-disabled) {
  background: var(--jp-layout-color2);
}

.lm-CommandPalette-itemContent {
  overflow: hidden;
}

.lm-CommandPalette-itemLabel > mark {
  color: var(--jp-ui-font-color0);
  background-color: transparent;
  font-weight: bold;
}

.lm-CommandPalette-item.lm-mod-disabled mark {
  color: var(--jp-ui-font-color2);
}

.lm-CommandPalette-item .lm-CommandPalette-itemIcon {
  margin: 0 4px 0 0;
  position: relative;
  width: 16px;
  top: 2px;
  flex: 0 0 auto;
}

.lm-CommandPalette-item.lm-mod-disabled .lm-CommandPalette-itemIcon {
  opacity: 0.6;
}

.lm-CommandPalette-item .lm-CommandPalette-itemShortcut {
  flex: 0 0 auto;
}

.lm-CommandPalette-itemCaption {
  display: none;
}

.lm-CommandPalette-content {
  background-color: var(--jp-layout-color1);
}

.lm-CommandPalette-content:empty:after {
  content: 'No results';
  margin: auto;
  margin-top: 20px;
  width: 100px;
  display: block;
  font-size: var(--jp-ui-font-size2);
  font-family: var(--jp-ui-font-family);
  font-weight: lighter;
}

.lm-CommandPalette-emptyMessage {
  text-align: center;
  margin-top: 24px;
  line-height: 1.32;
  padding: 0px 8px;
  color: var(--jp-content-font-color3);
}

/*-----------------------------------------------------------------------------
| Copyright (c) 2014-2017, Jupyter Development Team.
|
| Distributed under the terms of the Modified BSD License.
|----------------------------------------------------------------------------*/

.jp-Dialog {
  position: absolute;
  z-index: 10000;
  display: flex;
  flex-direction: column;
  align-items: center;
  justify-content: center;
  top: 0px;
  left: 0px;
  margin: 0;
  padding: 0;
  width: 100%;
  height: 100%;
  background: var(--jp-dialog-background);
}

.jp-Dialog-content {
  display: flex;
  flex-direction: column;
  margin-left: auto;
  margin-right: auto;
  background: var(--jp-layout-color1);
  padding: 24px;
  padding-bottom: 12px;
  min-width: 300px;
  min-height: 150px;
  max-width: 1000px;
  max-height: 500px;
  box-sizing: border-box;
  box-shadow: var(--jp-elevation-z20);
  word-wrap: break-word;
  border-radius: var(--jp-border-radius);
  /* This is needed so that all font sizing of children done in ems is
   * relative to this base size */
  font-size: var(--jp-ui-font-size1);
  color: var(--jp-ui-font-color1);
  resize: both;
}

.jp-Dialog-button {
  overflow: visible;
}

button.jp-Dialog-button:focus {
  outline: 1px solid var(--jp-brand-color1);
  outline-offset: 4px;
  -moz-outline-radius: 0px;
}

button.jp-Dialog-button:focus::-moz-focus-inner {
  border: 0;
}

button.jp-Dialog-close-button {
  padding: 0;
  height: 100%;
  min-width: unset;
  min-height: unset;
}

.jp-Dialog-header {
  display: flex;
  justify-content: space-between;
  flex: 0 0 auto;
  padding-bottom: 12px;
  font-size: var(--jp-ui-font-size3);
  font-weight: 400;
  color: var(--jp-ui-font-color0);
}

.jp-Dialog-body {
  display: flex;
  flex-direction: column;
  flex: 1 1 auto;
  font-size: var(--jp-ui-font-size1);
  background: var(--jp-layout-color1);
  overflow: auto;
}

.jp-Dialog-footer {
  display: flex;
  flex-direction: row;
  justify-content: flex-end;
  flex: 0 0 auto;
  margin-left: -12px;
  margin-right: -12px;
  padding: 12px;
}

.jp-Dialog-title {
  overflow: hidden;
  white-space: nowrap;
  text-overflow: ellipsis;
}

.jp-Dialog-body > .jp-select-wrapper {
  width: 100%;
}

.jp-Dialog-body > button {
  padding: 0px 16px;
}

.jp-Dialog-body > label {
  line-height: 1.4;
  color: var(--jp-ui-font-color0);
}

.jp-Dialog-button.jp-mod-styled:not(:last-child) {
  margin-right: 12px;
}

/*-----------------------------------------------------------------------------
| Copyright (c) 2014-2016, Jupyter Development Team.
|
| Distributed under the terms of the Modified BSD License.
|----------------------------------------------------------------------------*/

.jp-HoverBox {
  position: fixed;
}

.jp-HoverBox.jp-mod-outofview {
  display: none;
}

/*-----------------------------------------------------------------------------
| Copyright (c) Jupyter Development Team.
| Distributed under the terms of the Modified BSD License.
|----------------------------------------------------------------------------*/

.jp-IFrame {
  width: 100%;
  height: 100%;
}

.jp-IFrame > iframe {
  border: none;
}

/*
When drag events occur, `p-mod-override-cursor` is added to the body.
Because iframes steal all cursor events, the following two rules are necessary
to suppress pointer events while resize drags are occurring. There may be a
better solution to this problem.
*/
body.lm-mod-override-cursor .jp-IFrame {
  position: relative;
}

body.lm-mod-override-cursor .jp-IFrame:before {
  content: '';
  position: absolute;
  top: 0;
  left: 0;
  right: 0;
  bottom: 0;
  background: transparent;
}

.jp-Input-Boolean-Dialog {
  flex-direction: row-reverse;
  align-items: end;
  width: 100%;
}

.jp-Input-Boolean-Dialog > label {
  flex: 1 1 auto;
}

/*-----------------------------------------------------------------------------
| Copyright (c) 2014-2016, Jupyter Development Team.
|
| Distributed under the terms of the Modified BSD License.
|----------------------------------------------------------------------------*/

.jp-MainAreaWidget > :focus {
  outline: none;
}

/**
 * google-material-color v1.2.6
 * https://github.com/danlevan/google-material-color
 */
:root {
  --md-red-50: #ffebee;
  --md-red-100: #ffcdd2;
  --md-red-200: #ef9a9a;
  --md-red-300: #e57373;
  --md-red-400: #ef5350;
  --md-red-500: #f44336;
  --md-red-600: #e53935;
  --md-red-700: #d32f2f;
  --md-red-800: #c62828;
  --md-red-900: #b71c1c;
  --md-red-A100: #ff8a80;
  --md-red-A200: #ff5252;
  --md-red-A400: #ff1744;
  --md-red-A700: #d50000;

  --md-pink-50: #fce4ec;
  --md-pink-100: #f8bbd0;
  --md-pink-200: #f48fb1;
  --md-pink-300: #f06292;
  --md-pink-400: #ec407a;
  --md-pink-500: #e91e63;
  --md-pink-600: #d81b60;
  --md-pink-700: #c2185b;
  --md-pink-800: #ad1457;
  --md-pink-900: #880e4f;
  --md-pink-A100: #ff80ab;
  --md-pink-A200: #ff4081;
  --md-pink-A400: #f50057;
  --md-pink-A700: #c51162;

  --md-purple-50: #f3e5f5;
  --md-purple-100: #e1bee7;
  --md-purple-200: #ce93d8;
  --md-purple-300: #ba68c8;
  --md-purple-400: #ab47bc;
  --md-purple-500: #9c27b0;
  --md-purple-600: #8e24aa;
  --md-purple-700: #7b1fa2;
  --md-purple-800: #6a1b9a;
  --md-purple-900: #4a148c;
  --md-purple-A100: #ea80fc;
  --md-purple-A200: #e040fb;
  --md-purple-A400: #d500f9;
  --md-purple-A700: #aa00ff;

  --md-deep-purple-50: #ede7f6;
  --md-deep-purple-100: #d1c4e9;
  --md-deep-purple-200: #b39ddb;
  --md-deep-purple-300: #9575cd;
  --md-deep-purple-400: #7e57c2;
  --md-deep-purple-500: #673ab7;
  --md-deep-purple-600: #5e35b1;
  --md-deep-purple-700: #512da8;
  --md-deep-purple-800: #4527a0;
  --md-deep-purple-900: #311b92;
  --md-deep-purple-A100: #b388ff;
  --md-deep-purple-A200: #7c4dff;
  --md-deep-purple-A400: #651fff;
  --md-deep-purple-A700: #6200ea;

  --md-indigo-50: #e8eaf6;
  --md-indigo-100: #c5cae9;
  --md-indigo-200: #9fa8da;
  --md-indigo-300: #7986cb;
  --md-indigo-400: #5c6bc0;
  --md-indigo-500: #3f51b5;
  --md-indigo-600: #3949ab;
  --md-indigo-700: #303f9f;
  --md-indigo-800: #283593;
  --md-indigo-900: #1a237e;
  --md-indigo-A100: #8c9eff;
  --md-indigo-A200: #536dfe;
  --md-indigo-A400: #3d5afe;
  --md-indigo-A700: #304ffe;

  --md-blue-50: #e3f2fd;
  --md-blue-100: #bbdefb;
  --md-blue-200: #90caf9;
  --md-blue-300: #64b5f6;
  --md-blue-400: #42a5f5;
  --md-blue-500: #2196f3;
  --md-blue-600: #1e88e5;
  --md-blue-700: #1976d2;
  --md-blue-800: #1565c0;
  --md-blue-900: #0d47a1;
  --md-blue-A100: #82b1ff;
  --md-blue-A200: #448aff;
  --md-blue-A400: #2979ff;
  --md-blue-A700: #2962ff;

  --md-light-blue-50: #e1f5fe;
  --md-light-blue-100: #b3e5fc;
  --md-light-blue-200: #81d4fa;
  --md-light-blue-300: #4fc3f7;
  --md-light-blue-400: #29b6f6;
  --md-light-blue-500: #03a9f4;
  --md-light-blue-600: #039be5;
  --md-light-blue-700: #0288d1;
  --md-light-blue-800: #0277bd;
  --md-light-blue-900: #01579b;
  --md-light-blue-A100: #80d8ff;
  --md-light-blue-A200: #40c4ff;
  --md-light-blue-A400: #00b0ff;
  --md-light-blue-A700: #0091ea;

  --md-cyan-50: #e0f7fa;
  --md-cyan-100: #b2ebf2;
  --md-cyan-200: #80deea;
  --md-cyan-300: #4dd0e1;
  --md-cyan-400: #26c6da;
  --md-cyan-500: #00bcd4;
  --md-cyan-600: #00acc1;
  --md-cyan-700: #0097a7;
  --md-cyan-800: #00838f;
  --md-cyan-900: #006064;
  --md-cyan-A100: #84ffff;
  --md-cyan-A200: #18ffff;
  --md-cyan-A400: #00e5ff;
  --md-cyan-A700: #00b8d4;

  --md-teal-50: #e0f2f1;
  --md-teal-100: #b2dfdb;
  --md-teal-200: #80cbc4;
  --md-teal-300: #4db6ac;
  --md-teal-400: #26a69a;
  --md-teal-500: #009688;
  --md-teal-600: #00897b;
  --md-teal-700: #00796b;
  --md-teal-800: #00695c;
  --md-teal-900: #004d40;
  --md-teal-A100: #a7ffeb;
  --md-teal-A200: #64ffda;
  --md-teal-A400: #1de9b6;
  --md-teal-A700: #00bfa5;

  --md-green-50: #e8f5e9;
  --md-green-100: #c8e6c9;
  --md-green-200: #a5d6a7;
  --md-green-300: #81c784;
  --md-green-400: #66bb6a;
  --md-green-500: #4caf50;
  --md-green-600: #43a047;
  --md-green-700: #388e3c;
  --md-green-800: #2e7d32;
  --md-green-900: #1b5e20;
  --md-green-A100: #b9f6ca;
  --md-green-A200: #69f0ae;
  --md-green-A400: #00e676;
  --md-green-A700: #00c853;

  --md-light-green-50: #f1f8e9;
  --md-light-green-100: #dcedc8;
  --md-light-green-200: #c5e1a5;
  --md-light-green-300: #aed581;
  --md-light-green-400: #9ccc65;
  --md-light-green-500: #8bc34a;
  --md-light-green-600: #7cb342;
  --md-light-green-700: #689f38;
  --md-light-green-800: #558b2f;
  --md-light-green-900: #33691e;
  --md-light-green-A100: #ccff90;
  --md-light-green-A200: #b2ff59;
  --md-light-green-A400: #76ff03;
  --md-light-green-A700: #64dd17;

  --md-lime-50: #f9fbe7;
  --md-lime-100: #f0f4c3;
  --md-lime-200: #e6ee9c;
  --md-lime-300: #dce775;
  --md-lime-400: #d4e157;
  --md-lime-500: #cddc39;
  --md-lime-600: #c0ca33;
  --md-lime-700: #afb42b;
  --md-lime-800: #9e9d24;
  --md-lime-900: #827717;
  --md-lime-A100: #f4ff81;
  --md-lime-A200: #eeff41;
  --md-lime-A400: #c6ff00;
  --md-lime-A700: #aeea00;

  --md-yellow-50: #fffde7;
  --md-yellow-100: #fff9c4;
  --md-yellow-200: #fff59d;
  --md-yellow-300: #fff176;
  --md-yellow-400: #ffee58;
  --md-yellow-500: #ffeb3b;
  --md-yellow-600: #fdd835;
  --md-yellow-700: #fbc02d;
  --md-yellow-800: #f9a825;
  --md-yellow-900: #f57f17;
  --md-yellow-A100: #ffff8d;
  --md-yellow-A200: #ffff00;
  --md-yellow-A400: #ffea00;
  --md-yellow-A700: #ffd600;

  --md-amber-50: #fff8e1;
  --md-amber-100: #ffecb3;
  --md-amber-200: #ffe082;
  --md-amber-300: #ffd54f;
  --md-amber-400: #ffca28;
  --md-amber-500: #ffc107;
  --md-amber-600: #ffb300;
  --md-amber-700: #ffa000;
  --md-amber-800: #ff8f00;
  --md-amber-900: #ff6f00;
  --md-amber-A100: #ffe57f;
  --md-amber-A200: #ffd740;
  --md-amber-A400: #ffc400;
  --md-amber-A700: #ffab00;

  --md-orange-50: #fff3e0;
  --md-orange-100: #ffe0b2;
  --md-orange-200: #ffcc80;
  --md-orange-300: #ffb74d;
  --md-orange-400: #ffa726;
  --md-orange-500: #ff9800;
  --md-orange-600: #fb8c00;
  --md-orange-700: #f57c00;
  --md-orange-800: #ef6c00;
  --md-orange-900: #e65100;
  --md-orange-A100: #ffd180;
  --md-orange-A200: #ffab40;
  --md-orange-A400: #ff9100;
  --md-orange-A700: #ff6d00;

  --md-deep-orange-50: #fbe9e7;
  --md-deep-orange-100: #ffccbc;
  --md-deep-orange-200: #ffab91;
  --md-deep-orange-300: #ff8a65;
  --md-deep-orange-400: #ff7043;
  --md-deep-orange-500: #ff5722;
  --md-deep-orange-600: #f4511e;
  --md-deep-orange-700: #e64a19;
  --md-deep-orange-800: #d84315;
  --md-deep-orange-900: #bf360c;
  --md-deep-orange-A100: #ff9e80;
  --md-deep-orange-A200: #ff6e40;
  --md-deep-orange-A400: #ff3d00;
  --md-deep-orange-A700: #dd2c00;

  --md-brown-50: #efebe9;
  --md-brown-100: #d7ccc8;
  --md-brown-200: #bcaaa4;
  --md-brown-300: #a1887f;
  --md-brown-400: #8d6e63;
  --md-brown-500: #795548;
  --md-brown-600: #6d4c41;
  --md-brown-700: #5d4037;
  --md-brown-800: #4e342e;
  --md-brown-900: #3e2723;

  --md-grey-50: #fafafa;
  --md-grey-100: #f5f5f5;
  --md-grey-200: #eeeeee;
  --md-grey-300: #e0e0e0;
  --md-grey-400: #bdbdbd;
  --md-grey-500: #9e9e9e;
  --md-grey-600: #757575;
  --md-grey-700: #616161;
  --md-grey-800: #424242;
  --md-grey-900: #212121;

  --md-blue-grey-50: #eceff1;
  --md-blue-grey-100: #cfd8dc;
  --md-blue-grey-200: #b0bec5;
  --md-blue-grey-300: #90a4ae;
  --md-blue-grey-400: #78909c;
  --md-blue-grey-500: #607d8b;
  --md-blue-grey-600: #546e7a;
  --md-blue-grey-700: #455a64;
  --md-blue-grey-800: #37474f;
  --md-blue-grey-900: #263238;
}

/*-----------------------------------------------------------------------------
| Copyright (c) 2017, Jupyter Development Team.
|
| Distributed under the terms of the Modified BSD License.
|----------------------------------------------------------------------------*/

.jp-Spinner {
  position: absolute;
  display: flex;
  justify-content: center;
  align-items: center;
  z-index: 10;
  left: 0;
  top: 0;
  width: 100%;
  height: 100%;
  background: var(--jp-layout-color0);
  outline: none;
}

.jp-SpinnerContent {
  font-size: 10px;
  margin: 50px auto;
  text-indent: -9999em;
  width: 3em;
  height: 3em;
  border-radius: 50%;
  background: var(--jp-brand-color3);
  background: linear-gradient(
    to right,
    #f37626 10%,
    rgba(255, 255, 255, 0) 42%
  );
  position: relative;
  animation: load3 1s infinite linear, fadeIn 1s;
}

.jp-SpinnerContent:before {
  width: 50%;
  height: 50%;
  background: #f37626;
  border-radius: 100% 0 0 0;
  position: absolute;
  top: 0;
  left: 0;
  content: '';
}

.jp-SpinnerContent:after {
  background: var(--jp-layout-color0);
  width: 75%;
  height: 75%;
  border-radius: 50%;
  content: '';
  margin: auto;
  position: absolute;
  top: 0;
  left: 0;
  bottom: 0;
  right: 0;
}

@keyframes fadeIn {
  0% {
    opacity: 0;
  }
  100% {
    opacity: 1;
  }
}

@keyframes load3 {
  0% {
    transform: rotate(0deg);
  }
  100% {
    transform: rotate(360deg);
  }
}

/*-----------------------------------------------------------------------------
| Copyright (c) 2014-2017, Jupyter Development Team.
|
| Distributed under the terms of the Modified BSD License.
|----------------------------------------------------------------------------*/

button.jp-mod-styled {
  font-size: var(--jp-ui-font-size1);
  color: var(--jp-ui-font-color0);
  border: none;
  box-sizing: border-box;
  text-align: center;
  line-height: 32px;
  height: 32px;
  padding: 0px 12px;
  letter-spacing: 0.8px;
  outline: none;
  appearance: none;
  -webkit-appearance: none;
  -moz-appearance: none;
}

input.jp-mod-styled {
  background: var(--jp-input-background);
  height: 28px;
  box-sizing: border-box;
  border: var(--jp-border-width) solid var(--jp-border-color1);
  padding-left: 7px;
  padding-right: 7px;
  font-size: var(--jp-ui-font-size2);
  color: var(--jp-ui-font-color0);
  outline: none;
  appearance: none;
  -webkit-appearance: none;
  -moz-appearance: none;
}

input[type='checkbox'].jp-mod-styled {
  appearance: checkbox;
  -webkit-appearance: checkbox;
  -moz-appearance: checkbox;
  height: auto;
}

input.jp-mod-styled:focus {
  border: var(--jp-border-width) solid var(--md-blue-500);
  box-shadow: inset 0 0 4px var(--md-blue-300);
}

.jp-FileDialog-Checkbox {
  margin-top: 35px;
  display: flex;
  flex-direction: row;
  align-items: end;
  width: 100%;
}

.jp-FileDialog-Checkbox > label {
  flex: 1 1 auto;
}

.jp-select-wrapper {
  display: flex;
  position: relative;
  flex-direction: column;
  padding: 1px;
  background-color: var(--jp-layout-color1);
  height: 28px;
  box-sizing: border-box;
  margin-bottom: 12px;
}

.jp-select-wrapper.jp-mod-focused select.jp-mod-styled {
  border: var(--jp-border-width) solid var(--jp-input-active-border-color);
  box-shadow: var(--jp-input-box-shadow);
  background-color: var(--jp-input-active-background);
}

select.jp-mod-styled:hover {
  background-color: var(--jp-layout-color1);
  cursor: pointer;
  color: var(--jp-ui-font-color0);
  background-color: var(--jp-input-hover-background);
  box-shadow: inset 0 0px 1px rgba(0, 0, 0, 0.5);
}

select.jp-mod-styled {
  flex: 1 1 auto;
  height: 32px;
  width: 100%;
  font-size: var(--jp-ui-font-size2);
  background: var(--jp-input-background);
  color: var(--jp-ui-font-color0);
  padding: 0 25px 0 8px;
  border: var(--jp-border-width) solid var(--jp-input-border-color);
  border-radius: 0px;
  outline: none;
  appearance: none;
  -webkit-appearance: none;
  -moz-appearance: none;
}

/*-----------------------------------------------------------------------------
| Copyright (c) 2014-2016, Jupyter Development Team.
|
| Distributed under the terms of the Modified BSD License.
|----------------------------------------------------------------------------*/

:root {
  --jp-private-toolbar-height: calc(
    28px + var(--jp-border-width)
  ); /* leave 28px for content */
}

.jp-Toolbar {
  color: var(--jp-ui-font-color1);
  flex: 0 0 auto;
  display: flex;
  flex-direction: row;
  border-bottom: var(--jp-border-width) solid var(--jp-toolbar-border-color);
  box-shadow: var(--jp-toolbar-box-shadow);
  background: var(--jp-toolbar-background);
  min-height: var(--jp-toolbar-micro-height);
  padding: 2px;
  z-index: 1;
  overflow-x: auto;
}

/* Toolbar items */

.jp-Toolbar > .jp-Toolbar-item.jp-Toolbar-spacer {
  flex-grow: 1;
  flex-shrink: 1;
}

.jp-Toolbar-item.jp-Toolbar-kernelStatus {
  display: inline-block;
  width: 32px;
  background-repeat: no-repeat;
  background-position: center;
  background-size: 16px;
}

.jp-Toolbar > .jp-Toolbar-item {
  flex: 0 0 auto;
  display: flex;
  padding-left: 1px;
  padding-right: 1px;
  font-size: var(--jp-ui-font-size1);
  line-height: var(--jp-private-toolbar-height);
  height: 100%;
}

/* Toolbar buttons */

/* This is the div we use to wrap the react component into a Widget */
div.jp-ToolbarButton {
  color: transparent;
  border: none;
  box-sizing: border-box;
  outline: none;
  appearance: none;
  -webkit-appearance: none;
  -moz-appearance: none;
  padding: 0px;
  margin: 0px;
}

button.jp-ToolbarButtonComponent {
  background: var(--jp-layout-color1);
  border: none;
  box-sizing: border-box;
  outline: none;
  appearance: none;
  -webkit-appearance: none;
  -moz-appearance: none;
  padding: 0px 6px;
  margin: 0px;
  height: 24px;
  border-radius: var(--jp-border-radius);
  display: flex;
  align-items: center;
  text-align: center;
  font-size: 14px;
  min-width: unset;
  min-height: unset;
}

button.jp-ToolbarButtonComponent:disabled {
  opacity: 0.4;
}

button.jp-ToolbarButtonComponent span {
  padding: 0px;
  flex: 0 0 auto;
}

button.jp-ToolbarButtonComponent .jp-ToolbarButtonComponent-label {
  font-size: var(--jp-ui-font-size1);
  line-height: 100%;
  padding-left: 2px;
  color: var(--jp-ui-font-color1);
}

#jp-main-dock-panel[data-mode='single-document']
  .jp-MainAreaWidget
  > .jp-Toolbar.jp-Toolbar-micro {
  padding: 0;
  min-height: 0;
}

#jp-main-dock-panel[data-mode='single-document']
  .jp-MainAreaWidget
  > .jp-Toolbar {
  border: none;
  box-shadow: none;
}

/*-----------------------------------------------------------------------------
| Copyright (c) 2014-2017, Jupyter Development Team.
|
| Distributed under the terms of the Modified BSD License.
|----------------------------------------------------------------------------*/

/*-----------------------------------------------------------------------------
| Copyright (c) Jupyter Development Team.
| Copyright (c) 2014-2017, PhosphorJS Contributors
|
| Distributed under the terms of the BSD 3-Clause License.
|
| The full license is in the file LICENSE, distributed with this software.
|----------------------------------------------------------------------------*/


/* <DEPRECATED> */ body.p-mod-override-cursor *, /* </DEPRECATED> */
body.lm-mod-override-cursor * {
  cursor: inherit !important;
}

/*-----------------------------------------------------------------------------
| Copyright (c) 2014-2016, Jupyter Development Team.
|
| Distributed under the terms of the Modified BSD License.
|----------------------------------------------------------------------------*/

.jp-JSONEditor {
  display: flex;
  flex-direction: column;
  width: 100%;
}

.jp-JSONEditor-host {
  flex: 1 1 auto;
  border: var(--jp-border-width) solid var(--jp-input-border-color);
  border-radius: 0px;
  background: var(--jp-layout-color0);
  min-height: 50px;
  padding: 1px;
}

.jp-JSONEditor.jp-mod-error .jp-JSONEditor-host {
  border-color: red;
  outline-color: red;
}

.jp-JSONEditor-header {
  display: flex;
  flex: 1 0 auto;
  padding: 0 0 0 12px;
}

.jp-JSONEditor-header label {
  flex: 0 0 auto;
}

.jp-JSONEditor-commitButton {
  height: 16px;
  width: 16px;
  background-size: 18px;
  background-repeat: no-repeat;
  background-position: center;
}

.jp-JSONEditor-host.jp-mod-focused {
  background-color: var(--jp-input-active-background);
  border: 1px solid var(--jp-input-active-border-color);
  box-shadow: var(--jp-input-box-shadow);
}

.jp-Editor.jp-mod-dropTarget {
  border: var(--jp-border-width) solid var(--jp-input-active-border-color);
  box-shadow: var(--jp-input-box-shadow);
}

/* BASICS */

.CodeMirror {
  /* Set height, width, borders, and global font properties here */
  font-family: monospace;
  height: 300px;
  color: black;
  direction: ltr;
}

/* PADDING */

.CodeMirror-lines {
  padding: 4px 0; /* Vertical padding around content */
}
.CodeMirror pre.CodeMirror-line,
.CodeMirror pre.CodeMirror-line-like {
  padding: 0 4px; /* Horizontal padding of content */
}

.CodeMirror-scrollbar-filler, .CodeMirror-gutter-filler {
  background-color: white; /* The little square between H and V scrollbars */
}

/* GUTTER */

.CodeMirror-gutters {
  border-right: 1px solid #ddd;
  background-color: #f7f7f7;
  white-space: nowrap;
}
.CodeMirror-linenumbers {}
.CodeMirror-linenumber {
  padding: 0 3px 0 5px;
  min-width: 20px;
  text-align: right;
  color: #999;
  white-space: nowrap;
}

.CodeMirror-guttermarker { color: black; }
.CodeMirror-guttermarker-subtle { color: #999; }

/* CURSOR */

.CodeMirror-cursor {
  border-left: 1px solid black;
  border-right: none;
  width: 0;
}
/* Shown when moving in bi-directional text */
.CodeMirror div.CodeMirror-secondarycursor {
  border-left: 1px solid silver;
}
.cm-fat-cursor .CodeMirror-cursor {
  width: auto;
  border: 0 !important;
  background: #7e7;
}
.cm-fat-cursor div.CodeMirror-cursors {
  z-index: 1;
}
.cm-fat-cursor-mark {
  background-color: rgba(20, 255, 20, 0.5);
  -webkit-animation: blink 1.06s steps(1) infinite;
  -moz-animation: blink 1.06s steps(1) infinite;
  animation: blink 1.06s steps(1) infinite;
}
.cm-animate-fat-cursor {
  width: auto;
  border: 0;
  -webkit-animation: blink 1.06s steps(1) infinite;
  -moz-animation: blink 1.06s steps(1) infinite;
  animation: blink 1.06s steps(1) infinite;
  background-color: #7e7;
}
@-moz-keyframes blink {
  0% {}
  50% { background-color: transparent; }
  100% {}
}
@-webkit-keyframes blink {
  0% {}
  50% { background-color: transparent; }
  100% {}
}
@keyframes blink {
  0% {}
  50% { background-color: transparent; }
  100% {}
}

/* Can style cursor different in overwrite (non-insert) mode */
.CodeMirror-overwrite .CodeMirror-cursor {}

.cm-tab { display: inline-block; text-decoration: inherit; }

.CodeMirror-rulers {
  position: absolute;
  left: 0; right: 0; top: -50px; bottom: 0;
  overflow: hidden;
}
.CodeMirror-ruler {
  border-left: 1px solid #ccc;
  top: 0; bottom: 0;
  position: absolute;
}

/* DEFAULT THEME */

.cm-s-default .cm-header {color: blue;}
.cm-s-default .cm-quote {color: #090;}
.cm-negative {color: #d44;}
.cm-positive {color: #292;}
.cm-header, .cm-strong {font-weight: bold;}
.cm-em {font-style: italic;}
.cm-link {text-decoration: underline;}
.cm-strikethrough {text-decoration: line-through;}

.cm-s-default .cm-keyword {color: #708;}
.cm-s-default .cm-atom {color: #219;}
.cm-s-default .cm-number {color: #164;}
.cm-s-default .cm-def {color: #00f;}
.cm-s-default .cm-variable,
.cm-s-default .cm-punctuation,
.cm-s-default .cm-property,
.cm-s-default .cm-operator {}
.cm-s-default .cm-variable-2 {color: #05a;}
.cm-s-default .cm-variable-3, .cm-s-default .cm-type {color: #085;}
.cm-s-default .cm-comment {color: #a50;}
.cm-s-default .cm-string {color: #a11;}
.cm-s-default .cm-string-2 {color: #f50;}
.cm-s-default .cm-meta {color: #555;}
.cm-s-default .cm-qualifier {color: #555;}
.cm-s-default .cm-builtin {color: #30a;}
.cm-s-default .cm-bracket {color: #997;}
.cm-s-default .cm-tag {color: #170;}
.cm-s-default .cm-attribute {color: #00c;}
.cm-s-default .cm-hr {color: #999;}
.cm-s-default .cm-link {color: #00c;}

.cm-s-default .cm-error {color: #f00;}
.cm-invalidchar {color: #f00;}

.CodeMirror-composing { border-bottom: 2px solid; }

/* Default styles for common addons */

div.CodeMirror span.CodeMirror-matchingbracket {color: #0b0;}
div.CodeMirror span.CodeMirror-nonmatchingbracket {color: #a22;}
.CodeMirror-matchingtag { background: rgba(255, 150, 0, .3); }
.CodeMirror-activeline-background {background: #e8f2ff;}

/* STOP */

/* The rest of this file contains styles related to the mechanics of
   the editor. You probably shouldn't touch them. */

.CodeMirror {
  position: relative;
  overflow: hidden;
  background: white;
}

.CodeMirror-scroll {
  overflow: scroll !important; /* Things will break if this is overridden */
  /* 50px is the magic margin used to hide the element's real scrollbars */
  /* See overflow: hidden in .CodeMirror */
  margin-bottom: -50px; margin-right: -50px;
  padding-bottom: 50px;
  height: 100%;
  outline: none; /* Prevent dragging from highlighting the element */
  position: relative;
}
.CodeMirror-sizer {
  position: relative;
  border-right: 50px solid transparent;
}

/* The fake, visible scrollbars. Used to force redraw during scrolling
   before actual scrolling happens, thus preventing shaking and
   flickering artifacts. */
.CodeMirror-vscrollbar, .CodeMirror-hscrollbar, .CodeMirror-scrollbar-filler, .CodeMirror-gutter-filler {
  position: absolute;
  z-index: 6;
  display: none;
  outline: none;
}
.CodeMirror-vscrollbar {
  right: 0; top: 0;
  overflow-x: hidden;
  overflow-y: scroll;
}
.CodeMirror-hscrollbar {
  bottom: 0; left: 0;
  overflow-y: hidden;
  overflow-x: scroll;
}
.CodeMirror-scrollbar-filler {
  right: 0; bottom: 0;
}
.CodeMirror-gutter-filler {
  left: 0; bottom: 0;
}

.CodeMirror-gutters {
  position: absolute; left: 0; top: 0;
  min-height: 100%;
  z-index: 3;
}
.CodeMirror-gutter {
  white-space: normal;
  height: 100%;
  display: inline-block;
  vertical-align: top;
  margin-bottom: -50px;
}
.CodeMirror-gutter-wrapper {
  position: absolute;
  z-index: 4;
  background: none !important;
  border: none !important;
}
.CodeMirror-gutter-background {
  position: absolute;
  top: 0; bottom: 0;
  z-index: 4;
}
.CodeMirror-gutter-elt {
  position: absolute;
  cursor: default;
  z-index: 4;
}
.CodeMirror-gutter-wrapper ::selection { background-color: transparent }
.CodeMirror-gutter-wrapper ::-moz-selection { background-color: transparent }

.CodeMirror-lines {
  cursor: text;
  min-height: 1px; /* prevents collapsing before first draw */
}
.CodeMirror pre.CodeMirror-line,
.CodeMirror pre.CodeMirror-line-like {
  /* Reset some styles that the rest of the page might have set */
  -moz-border-radius: 0; -webkit-border-radius: 0; border-radius: 0;
  border-width: 0;
  background: transparent;
  font-family: inherit;
  font-size: inherit;
  margin: 0;
  white-space: pre;
  word-wrap: normal;
  line-height: inherit;
  color: inherit;
  z-index: 2;
  position: relative;
  overflow: visible;
  -webkit-tap-highlight-color: transparent;
  -webkit-font-variant-ligatures: contextual;
  font-variant-ligatures: contextual;
}
.CodeMirror-wrap pre.CodeMirror-line,
.CodeMirror-wrap pre.CodeMirror-line-like {
  word-wrap: break-word;
  white-space: pre-wrap;
  word-break: normal;
}

.CodeMirror-linebackground {
  position: absolute;
  left: 0; right: 0; top: 0; bottom: 0;
  z-index: 0;
}

.CodeMirror-linewidget {
  position: relative;
  z-index: 2;
  padding: 0.1px; /* Force widget margins to stay inside of the container */
}

.CodeMirror-widget {}

.CodeMirror-rtl pre { direction: rtl; }

.CodeMirror-code {
  outline: none;
}

/* Force content-box sizing for the elements where we expect it */
.CodeMirror-scroll,
.CodeMirror-sizer,
.CodeMirror-gutter,
.CodeMirror-gutters,
.CodeMirror-linenumber {
  -moz-box-sizing: content-box;
  box-sizing: content-box;
}

.CodeMirror-measure {
  position: absolute;
  width: 100%;
  height: 0;
  overflow: hidden;
  visibility: hidden;
}

.CodeMirror-cursor {
  position: absolute;
  pointer-events: none;
}
.CodeMirror-measure pre { position: static; }

div.CodeMirror-cursors {
  visibility: hidden;
  position: relative;
  z-index: 3;
}
div.CodeMirror-dragcursors {
  visibility: visible;
}

.CodeMirror-focused div.CodeMirror-cursors {
  visibility: visible;
}

.CodeMirror-selected { background: #d9d9d9; }
.CodeMirror-focused .CodeMirror-selected { background: #d7d4f0; }
.CodeMirror-crosshair { cursor: crosshair; }
.CodeMirror-line::selection, .CodeMirror-line > span::selection, .CodeMirror-line > span > span::selection { background: #d7d4f0; }
.CodeMirror-line::-moz-selection, .CodeMirror-line > span::-moz-selection, .CodeMirror-line > span > span::-moz-selection { background: #d7d4f0; }

.cm-searching {
  background-color: #ffa;
  background-color: rgba(255, 255, 0, .4);
}

/* Used to force a border model for a node */
.cm-force-border { padding-right: .1px; }

@media print {
  /* Hide the cursor when printing */
  .CodeMirror div.CodeMirror-cursors {
    visibility: hidden;
  }
}

/* See issue #2901 */
.cm-tab-wrap-hack:after { content: ''; }

/* Help users use markselection to safely style text background */
span.CodeMirror-selectedtext { background: none; }

.CodeMirror-dialog {
  position: absolute;
  left: 0; right: 0;
  background: inherit;
  z-index: 15;
  padding: .1em .8em;
  overflow: hidden;
  color: inherit;
}

.CodeMirror-dialog-top {
  border-bottom: 1px solid #eee;
  top: 0;
}

.CodeMirror-dialog-bottom {
  border-top: 1px solid #eee;
  bottom: 0;
}

.CodeMirror-dialog input {
  border: none;
  outline: none;
  background: transparent;
  width: 20em;
  color: inherit;
  font-family: monospace;
}

.CodeMirror-dialog button {
  font-size: 70%;
}

.CodeMirror-foldmarker {
  color: blue;
  text-shadow: #b9f 1px 1px 2px, #b9f -1px -1px 2px, #b9f 1px -1px 2px, #b9f -1px 1px 2px;
  font-family: arial;
  line-height: .3;
  cursor: pointer;
}
.CodeMirror-foldgutter {
  width: .7em;
}
.CodeMirror-foldgutter-open,
.CodeMirror-foldgutter-folded {
  cursor: pointer;
}
.CodeMirror-foldgutter-open:after {
  content: "\25BE";
}
.CodeMirror-foldgutter-folded:after {
  content: "\25B8";
}

/*-----------------------------------------------------------------------------
| Copyright (c) Jupyter Development Team.
| Distributed under the terms of the Modified BSD License.
|----------------------------------------------------------------------------*/

.CodeMirror {
  line-height: var(--jp-code-line-height);
  font-size: var(--jp-code-font-size);
  font-family: var(--jp-code-font-family);
  border: 0;
  border-radius: 0;
  height: auto;
  /* Changed to auto to autogrow */
}

.CodeMirror pre {
  padding: 0 var(--jp-code-padding);
}

.jp-CodeMirrorEditor[data-type='inline'] .CodeMirror-dialog {
  background-color: var(--jp-layout-color0);
  color: var(--jp-content-font-color1);
}

/* This causes https://github.com/jupyter/jupyterlab/issues/522 */
/* May not cause it not because we changed it! */
.CodeMirror-lines {
  padding: var(--jp-code-padding) 0;
}

.CodeMirror-linenumber {
  padding: 0 8px;
}

.jp-CodeMirrorEditor {
  cursor: text;
}

.jp-CodeMirrorEditor[data-type='inline'] .CodeMirror-cursor {
  border-left: var(--jp-code-cursor-width0) solid var(--jp-editor-cursor-color);
}

/* When zoomed out 67% and 33% on a screen of 1440 width x 900 height */
@media screen and (min-width: 2138px) and (max-width: 4319px) {
  .jp-CodeMirrorEditor[data-type='inline'] .CodeMirror-cursor {
    border-left: var(--jp-code-cursor-width1) solid
      var(--jp-editor-cursor-color);
  }
}

/* When zoomed out less than 33% */
@media screen and (min-width: 4320px) {
  .jp-CodeMirrorEditor[data-type='inline'] .CodeMirror-cursor {
    border-left: var(--jp-code-cursor-width2) solid
      var(--jp-editor-cursor-color);
  }
}

.CodeMirror.jp-mod-readOnly .CodeMirror-cursor {
  display: none;
}

.CodeMirror-gutters {
  border-right: 1px solid var(--jp-border-color2);
  background-color: var(--jp-layout-color0);
}

.jp-CollaboratorCursor {
  border-left: 5px solid transparent;
  border-right: 5px solid transparent;
  border-top: none;
  border-bottom: 3px solid;
  background-clip: content-box;
  margin-left: -5px;
  margin-right: -5px;
}

.CodeMirror-selectedtext.cm-searching {
  background-color: var(--jp-search-selected-match-background-color) !important;
  color: var(--jp-search-selected-match-color) !important;
}

.cm-searching {
  background-color: var(
    --jp-search-unselected-match-background-color
  ) !important;
  color: var(--jp-search-unselected-match-color) !important;
}

.CodeMirror-focused .CodeMirror-selected {
  background-color: var(--jp-editor-selected-focused-background);
}

.CodeMirror-selected {
  background-color: var(--jp-editor-selected-background);
}

.jp-CollaboratorCursor-hover {
  position: absolute;
  z-index: 1;
  transform: translateX(-50%);
  color: white;
  border-radius: 3px;
  padding-left: 4px;
  padding-right: 4px;
  padding-top: 1px;
  padding-bottom: 1px;
  text-align: center;
  font-size: var(--jp-ui-font-size1);
  white-space: nowrap;
}

.jp-CodeMirror-ruler {
  border-left: 1px dashed var(--jp-border-color2);
}

/**
 * Here is our jupyter theme for CodeMirror syntax highlighting
 * This is used in our marked.js syntax highlighting and CodeMirror itself
 * The string "jupyter" is set in ../codemirror/widget.DEFAULT_CODEMIRROR_THEME
 * This came from the classic notebook, which came form highlight.js/GitHub
 */

/**
 * CodeMirror themes are handling the background/color in this way. This works
 * fine for CodeMirror editors outside the notebook, but the notebook styles
 * these things differently.
 */
.CodeMirror.cm-s-jupyter {
  background: var(--jp-layout-color0);
  color: var(--jp-content-font-color1);
}

/* In the notebook, we want this styling to be handled by its container */
.jp-CodeConsole .CodeMirror.cm-s-jupyter,
.jp-Notebook .CodeMirror.cm-s-jupyter {
  background: transparent;
}

.cm-s-jupyter .CodeMirror-cursor {
  border-left: var(--jp-code-cursor-width0) solid var(--jp-editor-cursor-color);
}
.cm-s-jupyter span.cm-keyword {
  color: var(--jp-mirror-editor-keyword-color);
  font-weight: bold;
}
.cm-s-jupyter span.cm-atom {
  color: var(--jp-mirror-editor-atom-color);
}
.cm-s-jupyter span.cm-number {
  color: var(--jp-mirror-editor-number-color);
}
.cm-s-jupyter span.cm-def {
  color: var(--jp-mirror-editor-def-color);
}
.cm-s-jupyter span.cm-variable {
  color: var(--jp-mirror-editor-variable-color);
}
.cm-s-jupyter span.cm-variable-2 {
  color: var(--jp-mirror-editor-variable-2-color);
}
.cm-s-jupyter span.cm-variable-3 {
  color: var(--jp-mirror-editor-variable-3-color);
}
.cm-s-jupyter span.cm-punctuation {
  color: var(--jp-mirror-editor-punctuation-color);
}
.cm-s-jupyter span.cm-property {
  color: var(--jp-mirror-editor-property-color);
}
.cm-s-jupyter span.cm-operator {
  color: var(--jp-mirror-editor-operator-color);
  font-weight: bold;
}
.cm-s-jupyter span.cm-comment {
  color: var(--jp-mirror-editor-comment-color);
  font-style: italic;
}
.cm-s-jupyter span.cm-string {
  color: var(--jp-mirror-editor-string-color);
}
.cm-s-jupyter span.cm-string-2 {
  color: var(--jp-mirror-editor-string-2-color);
}
.cm-s-jupyter span.cm-meta {
  color: var(--jp-mirror-editor-meta-color);
}
.cm-s-jupyter span.cm-qualifier {
  color: var(--jp-mirror-editor-qualifier-color);
}
.cm-s-jupyter span.cm-builtin {
  color: var(--jp-mirror-editor-builtin-color);
}
.cm-s-jupyter span.cm-bracket {
  color: var(--jp-mirror-editor-bracket-color);
}
.cm-s-jupyter span.cm-tag {
  color: var(--jp-mirror-editor-tag-color);
}
.cm-s-jupyter span.cm-attribute {
  color: var(--jp-mirror-editor-attribute-color);
}
.cm-s-jupyter span.cm-header {
  color: var(--jp-mirror-editor-header-color);
}
.cm-s-jupyter span.cm-quote {
  color: var(--jp-mirror-editor-quote-color);
}
.cm-s-jupyter span.cm-link {
  color: var(--jp-mirror-editor-link-color);
}
.cm-s-jupyter span.cm-error {
  color: var(--jp-mirror-editor-error-color);
}
.cm-s-jupyter span.cm-hr {
  color: #999;
}

.cm-s-jupyter span.cm-tab {
  background: url(data:image/png;base64,iVBORw0KGgoAAAANSUhEUgAAADAAAAAMCAYAAAAkuj5RAAAAAXNSR0IArs4c6QAAAGFJREFUSMft1LsRQFAQheHPowAKoACx3IgEKtaEHujDjORSgWTH/ZOdnZOcM/sgk/kFFWY0qV8foQwS4MKBCS3qR6ixBJvElOobYAtivseIE120FaowJPN75GMu8j/LfMwNjh4HUpwg4LUAAAAASUVORK5CYII=);
  background-position: right;
  background-repeat: no-repeat;
}

.cm-s-jupyter .CodeMirror-activeline-background,
.cm-s-jupyter .CodeMirror-gutter {
  background-color: var(--jp-layout-color2);
}

/* Styles for shared cursors (remote cursor locations and selected ranges) */
.jp-CodeMirrorEditor .remote-caret {
  position: relative;
  border-left: 2px solid black;
  margin-left: -1px;
  margin-right: -1px;
  box-sizing: border-box;
}

.jp-CodeMirrorEditor .remote-caret > div {
  white-space: nowrap;
  position: absolute;
  top: -1.15em;
  padding-bottom: 0.05em;
  left: -2px;
  font-size: 0.95em;
  background-color: rgb(250, 129, 0);
  font-family: var(--jp-ui-font-family);
  font-weight: bold;
  line-height: normal;
  user-select: none;
  color: white;
  padding-left: 2px;
  padding-right: 2px;
  z-index: 3;
  transition: opacity 0.3s ease-in-out;
}

.jp-CodeMirrorEditor .remote-caret.hide-name > div {
  transition-delay: 0.7s;
  opacity: 0;
}

.jp-CodeMirrorEditor .remote-caret:hover > div {
  opacity: 1;
  transition-delay: 0s;
}

/*-----------------------------------------------------------------------------
| Copyright (c) Jupyter Development Team.
| Distributed under the terms of the Modified BSD License.
|----------------------------------------------------------------------------*/

/*-----------------------------------------------------------------------------
| RenderedText
|----------------------------------------------------------------------------*/

:root {
  /* This is the padding value to fill the gaps between lines containing spans with background color. */
  --jp-private-code-span-padding: calc(
    (var(--jp-code-line-height) - 1) * var(--jp-code-font-size) / 2
  );
}

.jp-RenderedText {
  text-align: left;
  padding-left: var(--jp-code-padding);
  line-height: var(--jp-code-line-height);
  font-family: var(--jp-code-font-family);
}

.jp-RenderedText pre,
.jp-RenderedJavaScript pre,
.jp-RenderedHTMLCommon pre {
  color: var(--jp-content-font-color1);
  font-size: var(--jp-code-font-size);
  border: none;
  margin: 0px;
  padding: 0px;
}

.jp-RenderedText pre a:link {
  text-decoration: none;
  color: var(--jp-content-link-color);
}
.jp-RenderedText pre a:hover {
  text-decoration: underline;
  color: var(--jp-content-link-color);
}
.jp-RenderedText pre a:visited {
  text-decoration: none;
  color: var(--jp-content-link-color);
}

/* console foregrounds and backgrounds */
.jp-RenderedText pre .ansi-black-fg {
  color: #3e424d;
}
.jp-RenderedText pre .ansi-red-fg {
  color: #e75c58;
}
.jp-RenderedText pre .ansi-green-fg {
  color: #00a250;
}
.jp-RenderedText pre .ansi-yellow-fg {
  color: #ddb62b;
}
.jp-RenderedText pre .ansi-blue-fg {
  color: #208ffb;
}
.jp-RenderedText pre .ansi-magenta-fg {
  color: #d160c4;
}
.jp-RenderedText pre .ansi-cyan-fg {
  color: #60c6c8;
}
.jp-RenderedText pre .ansi-white-fg {
  color: #c5c1b4;
}

.jp-RenderedText pre .ansi-black-bg {
  background-color: #3e424d;
  padding: var(--jp-private-code-span-padding) 0;
}
.jp-RenderedText pre .ansi-red-bg {
  background-color: #e75c58;
  padding: var(--jp-private-code-span-padding) 0;
}
.jp-RenderedText pre .ansi-green-bg {
  background-color: #00a250;
  padding: var(--jp-private-code-span-padding) 0;
}
.jp-RenderedText pre .ansi-yellow-bg {
  background-color: #ddb62b;
  padding: var(--jp-private-code-span-padding) 0;
}
.jp-RenderedText pre .ansi-blue-bg {
  background-color: #208ffb;
  padding: var(--jp-private-code-span-padding) 0;
}
.jp-RenderedText pre .ansi-magenta-bg {
  background-color: #d160c4;
  padding: var(--jp-private-code-span-padding) 0;
}
.jp-RenderedText pre .ansi-cyan-bg {
  background-color: #60c6c8;
  padding: var(--jp-private-code-span-padding) 0;
}
.jp-RenderedText pre .ansi-white-bg {
  background-color: #c5c1b4;
  padding: var(--jp-private-code-span-padding) 0;
}

.jp-RenderedText pre .ansi-black-intense-fg {
  color: #282c36;
}
.jp-RenderedText pre .ansi-red-intense-fg {
  color: #b22b31;
}
.jp-RenderedText pre .ansi-green-intense-fg {
  color: #007427;
}
.jp-RenderedText pre .ansi-yellow-intense-fg {
  color: #b27d12;
}
.jp-RenderedText pre .ansi-blue-intense-fg {
  color: #0065ca;
}
.jp-RenderedText pre .ansi-magenta-intense-fg {
  color: #a03196;
}
.jp-RenderedText pre .ansi-cyan-intense-fg {
  color: #258f8f;
}
.jp-RenderedText pre .ansi-white-intense-fg {
  color: #a1a6b2;
}

.jp-RenderedText pre .ansi-black-intense-bg {
  background-color: #282c36;
  padding: var(--jp-private-code-span-padding) 0;
}
.jp-RenderedText pre .ansi-red-intense-bg {
  background-color: #b22b31;
  padding: var(--jp-private-code-span-padding) 0;
}
.jp-RenderedText pre .ansi-green-intense-bg {
  background-color: #007427;
  padding: var(--jp-private-code-span-padding) 0;
}
.jp-RenderedText pre .ansi-yellow-intense-bg {
  background-color: #b27d12;
  padding: var(--jp-private-code-span-padding) 0;
}
.jp-RenderedText pre .ansi-blue-intense-bg {
  background-color: #0065ca;
  padding: var(--jp-private-code-span-padding) 0;
}
.jp-RenderedText pre .ansi-magenta-intense-bg {
  background-color: #a03196;
  padding: var(--jp-private-code-span-padding) 0;
}
.jp-RenderedText pre .ansi-cyan-intense-bg {
  background-color: #258f8f;
  padding: var(--jp-private-code-span-padding) 0;
}
.jp-RenderedText pre .ansi-white-intense-bg {
  background-color: #a1a6b2;
  padding: var(--jp-private-code-span-padding) 0;
}

.jp-RenderedText pre .ansi-default-inverse-fg {
  color: var(--jp-ui-inverse-font-color0);
}
.jp-RenderedText pre .ansi-default-inverse-bg {
  background-color: var(--jp-inverse-layout-color0);
  padding: var(--jp-private-code-span-padding) 0;
}

.jp-RenderedText pre .ansi-bold {
  font-weight: bold;
}
.jp-RenderedText pre .ansi-underline {
  text-decoration: underline;
}

.jp-RenderedText[data-mime-type='application/vnd.jupyter.stderr'] {
  background: var(--jp-rendermime-error-background);
  padding-top: var(--jp-code-padding);
}

/*-----------------------------------------------------------------------------
| RenderedLatex
|----------------------------------------------------------------------------*/

.jp-RenderedLatex {
  color: var(--jp-content-font-color1);
  font-size: var(--jp-content-font-size1);
  line-height: var(--jp-content-line-height);
}

/* Left-justify outputs.*/
.jp-OutputArea-output.jp-RenderedLatex {
  padding: var(--jp-code-padding);
  text-align: left;
}

/*-----------------------------------------------------------------------------
| RenderedHTML
|----------------------------------------------------------------------------*/

.jp-RenderedHTMLCommon {
  color: var(--jp-content-font-color1);
  font-family: var(--jp-content-font-family);
  font-size: var(--jp-content-font-size1);
  line-height: var(--jp-content-line-height);
  /* Give a bit more R padding on Markdown text to keep line lengths reasonable */
  padding-right: 20px;
}

.jp-RenderedHTMLCommon em {
  font-style: italic;
}

.jp-RenderedHTMLCommon strong {
  font-weight: bold;
}

.jp-RenderedHTMLCommon u {
  text-decoration: underline;
}

.jp-RenderedHTMLCommon a:link {
  text-decoration: none;
  color: var(--jp-content-link-color);
}

.jp-RenderedHTMLCommon a:hover {
  text-decoration: underline;
  color: var(--jp-content-link-color);
}

.jp-RenderedHTMLCommon a:visited {
  text-decoration: none;
  color: var(--jp-content-link-color);
}

/* Headings */

.jp-RenderedHTMLCommon h1,
.jp-RenderedHTMLCommon h2,
.jp-RenderedHTMLCommon h3,
.jp-RenderedHTMLCommon h4,
.jp-RenderedHTMLCommon h5,
.jp-RenderedHTMLCommon h6 {
  line-height: var(--jp-content-heading-line-height);
  font-weight: var(--jp-content-heading-font-weight);
  font-style: normal;
  margin: var(--jp-content-heading-margin-top) 0
    var(--jp-content-heading-margin-bottom) 0;
}

.jp-RenderedHTMLCommon h1:first-child,
.jp-RenderedHTMLCommon h2:first-child,
.jp-RenderedHTMLCommon h3:first-child,
.jp-RenderedHTMLCommon h4:first-child,
.jp-RenderedHTMLCommon h5:first-child,
.jp-RenderedHTMLCommon h6:first-child {
  margin-top: calc(0.5 * var(--jp-content-heading-margin-top));
}

.jp-RenderedHTMLCommon h1:last-child,
.jp-RenderedHTMLCommon h2:last-child,
.jp-RenderedHTMLCommon h3:last-child,
.jp-RenderedHTMLCommon h4:last-child,
.jp-RenderedHTMLCommon h5:last-child,
.jp-RenderedHTMLCommon h6:last-child {
  margin-bottom: calc(0.5 * var(--jp-content-heading-margin-bottom));
}

.jp-RenderedHTMLCommon h1 {
  font-size: var(--jp-content-font-size5);
}

.jp-RenderedHTMLCommon h2 {
  font-size: var(--jp-content-font-size4);
}

.jp-RenderedHTMLCommon h3 {
  font-size: var(--jp-content-font-size3);
}

.jp-RenderedHTMLCommon h4 {
  font-size: var(--jp-content-font-size2);
}

.jp-RenderedHTMLCommon h5 {
  font-size: var(--jp-content-font-size1);
}

.jp-RenderedHTMLCommon h6 {
  font-size: var(--jp-content-font-size0);
}

/* Lists */

.jp-RenderedHTMLCommon ul:not(.list-inline),
.jp-RenderedHTMLCommon ol:not(.list-inline) {
  padding-left: 2em;
}

.jp-RenderedHTMLCommon ul {
  list-style: disc;
}

.jp-RenderedHTMLCommon ul ul {
  list-style: square;
}

.jp-RenderedHTMLCommon ul ul ul {
  list-style: circle;
}

.jp-RenderedHTMLCommon ol {
  list-style: decimal;
}

.jp-RenderedHTMLCommon ol ol {
  list-style: upper-alpha;
}

.jp-RenderedHTMLCommon ol ol ol {
  list-style: lower-alpha;
}

.jp-RenderedHTMLCommon ol ol ol ol {
  list-style: lower-roman;
}

.jp-RenderedHTMLCommon ol ol ol ol ol {
  list-style: decimal;
}

.jp-RenderedHTMLCommon ol,
.jp-RenderedHTMLCommon ul {
  margin-bottom: 1em;
}

.jp-RenderedHTMLCommon ul ul,
.jp-RenderedHTMLCommon ul ol,
.jp-RenderedHTMLCommon ol ul,
.jp-RenderedHTMLCommon ol ol {
  margin-bottom: 0em;
}

.jp-RenderedHTMLCommon hr {
  color: var(--jp-border-color2);
  background-color: var(--jp-border-color1);
  margin-top: 1em;
  margin-bottom: 1em;
}

.jp-RenderedHTMLCommon > pre {
  margin: 1.5em 2em;
}

.jp-RenderedHTMLCommon pre,
.jp-RenderedHTMLCommon code {
  border: 0;
  background-color: var(--jp-layout-color0);
  color: var(--jp-content-font-color1);
  font-family: var(--jp-code-font-family);
  font-size: inherit;
  line-height: var(--jp-code-line-height);
  padding: 0;
  white-space: pre-wrap;
}

.jp-RenderedHTMLCommon :not(pre) > code {
  background-color: var(--jp-layout-color2);
  padding: 1px 5px;
}

/* Tables */

.jp-RenderedHTMLCommon table {
  border-collapse: collapse;
  border-spacing: 0;
  border: none;
  color: var(--jp-ui-font-color1);
  font-size: 12px;
  table-layout: fixed;
  margin-left: auto;
  margin-right: auto;
}

.jp-RenderedHTMLCommon thead {
  border-bottom: var(--jp-border-width) solid var(--jp-border-color1);
  vertical-align: bottom;
}

.jp-RenderedHTMLCommon td,
.jp-RenderedHTMLCommon th,
.jp-RenderedHTMLCommon tr {
  vertical-align: middle;
  padding: 0.5em 0.5em;
  line-height: normal;
  white-space: normal;
  max-width: none;
  border: none;
}

.jp-RenderedMarkdown.jp-RenderedHTMLCommon td,
.jp-RenderedMarkdown.jp-RenderedHTMLCommon th {
  max-width: none;
}

:not(.jp-RenderedMarkdown).jp-RenderedHTMLCommon td,
:not(.jp-RenderedMarkdown).jp-RenderedHTMLCommon th,
:not(.jp-RenderedMarkdown).jp-RenderedHTMLCommon tr {
  text-align: right;
}

.jp-RenderedHTMLCommon th {
  font-weight: bold;
}

.jp-RenderedHTMLCommon tbody tr:nth-child(odd) {
  background: var(--jp-layout-color0);
}

.jp-RenderedHTMLCommon tbody tr:nth-child(even) {
  background: var(--jp-rendermime-table-row-background);
}

.jp-RenderedHTMLCommon tbody tr:hover {
  background: var(--jp-rendermime-table-row-hover-background);
}

.jp-RenderedHTMLCommon table {
  margin-bottom: 1em;
}

.jp-RenderedHTMLCommon p {
  text-align: left;
  margin: 0px;
}

.jp-RenderedHTMLCommon p {
  margin-bottom: 1em;
}

.jp-RenderedHTMLCommon img {
  -moz-force-broken-image-icon: 1;
}

/* Restrict to direct children as other images could be nested in other content. */
.jp-RenderedHTMLCommon > img {
  display: block;
  margin-left: 0;
  margin-right: 0;
  margin-bottom: 1em;
}

/* Change color behind transparent images if they need it... */
[data-jp-theme-light='false'] .jp-RenderedImage img.jp-needs-light-background {
  background-color: var(--jp-inverse-layout-color1);
}
[data-jp-theme-light='true'] .jp-RenderedImage img.jp-needs-dark-background {
  background-color: var(--jp-inverse-layout-color1);
}
/* ...or leave it untouched if they don't */
[data-jp-theme-light='false'] .jp-RenderedImage img.jp-needs-dark-background {
}
[data-jp-theme-light='true'] .jp-RenderedImage img.jp-needs-light-background {
}

.jp-RenderedHTMLCommon img,
.jp-RenderedImage img,
.jp-RenderedHTMLCommon svg,
.jp-RenderedSVG svg {
  max-width: 100%;
  height: auto;
}

.jp-RenderedHTMLCommon img.jp-mod-unconfined,
.jp-RenderedImage img.jp-mod-unconfined,
.jp-RenderedHTMLCommon svg.jp-mod-unconfined,
.jp-RenderedSVG svg.jp-mod-unconfined {
  max-width: none;
}

.jp-RenderedHTMLCommon .alert {
  padding: var(--jp-notebook-padding);
  border: var(--jp-border-width) solid transparent;
  border-radius: var(--jp-border-radius);
  margin-bottom: 1em;
}

.jp-RenderedHTMLCommon .alert-info {
  color: var(--jp-info-color0);
  background-color: var(--jp-info-color3);
  border-color: var(--jp-info-color2);
}
.jp-RenderedHTMLCommon .alert-info hr {
  border-color: var(--jp-info-color3);
}
.jp-RenderedHTMLCommon .alert-info > p:last-child,
.jp-RenderedHTMLCommon .alert-info > ul:last-child {
  margin-bottom: 0;
}

.jp-RenderedHTMLCommon .alert-warning {
  color: var(--jp-warn-color0);
  background-color: var(--jp-warn-color3);
  border-color: var(--jp-warn-color2);
}
.jp-RenderedHTMLCommon .alert-warning hr {
  border-color: var(--jp-warn-color3);
}
.jp-RenderedHTMLCommon .alert-warning > p:last-child,
.jp-RenderedHTMLCommon .alert-warning > ul:last-child {
  margin-bottom: 0;
}

.jp-RenderedHTMLCommon .alert-success {
  color: var(--jp-success-color0);
  background-color: var(--jp-success-color3);
  border-color: var(--jp-success-color2);
}
.jp-RenderedHTMLCommon .alert-success hr {
  border-color: var(--jp-success-color3);
}
.jp-RenderedHTMLCommon .alert-success > p:last-child,
.jp-RenderedHTMLCommon .alert-success > ul:last-child {
  margin-bottom: 0;
}

.jp-RenderedHTMLCommon .alert-danger {
  color: var(--jp-error-color0);
  background-color: var(--jp-error-color3);
  border-color: var(--jp-error-color2);
}
.jp-RenderedHTMLCommon .alert-danger hr {
  border-color: var(--jp-error-color3);
}
.jp-RenderedHTMLCommon .alert-danger > p:last-child,
.jp-RenderedHTMLCommon .alert-danger > ul:last-child {
  margin-bottom: 0;
}

.jp-RenderedHTMLCommon blockquote {
  margin: 1em 2em;
  padding: 0 1em;
  border-left: 5px solid var(--jp-border-color2);
}

a.jp-InternalAnchorLink {
  visibility: hidden;
  margin-left: 8px;
  color: var(--md-blue-800);
}

h1:hover .jp-InternalAnchorLink,
h2:hover .jp-InternalAnchorLink,
h3:hover .jp-InternalAnchorLink,
h4:hover .jp-InternalAnchorLink,
h5:hover .jp-InternalAnchorLink,
h6:hover .jp-InternalAnchorLink {
  visibility: visible;
}

.jp-RenderedHTMLCommon kbd {
  background-color: var(--jp-rendermime-table-row-background);
  border: 1px solid var(--jp-border-color0);
  border-bottom-color: var(--jp-border-color2);
  border-radius: 3px;
  box-shadow: inset 0 -1px 0 rgba(0, 0, 0, 0.25);
  display: inline-block;
  font-size: 0.8em;
  line-height: 1em;
  padding: 0.2em 0.5em;
}

/* Most direct children of .jp-RenderedHTMLCommon have a margin-bottom of 1.0.
 * At the bottom of cells this is a bit too much as there is also spacing
 * between cells. Going all the way to 0 gets too tight between markdown and
 * code cells.
 */
.jp-RenderedHTMLCommon > *:last-child {
  margin-bottom: 0.5em;
}

/*-----------------------------------------------------------------------------
| Copyright (c) Jupyter Development Team.
| Distributed under the terms of the Modified BSD License.
|----------------------------------------------------------------------------*/

.jp-MimeDocument {
  outline: none;
}

/*-----------------------------------------------------------------------------
| Copyright (c) Jupyter Development Team.
| Distributed under the terms of the Modified BSD License.
|----------------------------------------------------------------------------*/

/*-----------------------------------------------------------------------------
| Variables
|----------------------------------------------------------------------------*/

:root {
  --jp-private-filebrowser-button-height: 28px;
  --jp-private-filebrowser-button-width: 48px;
}

/*-----------------------------------------------------------------------------
| Copyright (c) Jupyter Development Team.
| Distributed under the terms of the Modified BSD License.
|----------------------------------------------------------------------------*/

.jp-FileBrowser {
  display: flex;
  flex-direction: column;
  color: var(--jp-ui-font-color1);
  background: var(--jp-layout-color1);
  /* This is needed so that all font sizing of children done in ems is
   * relative to this base size */
  font-size: var(--jp-ui-font-size1);
}

.jp-FileBrowser-toolbar.jp-Toolbar {
  border-bottom: none;
  height: auto;
  margin: var(--jp-toolbar-header-margin);
  box-shadow: none;
}

.jp-BreadCrumbs {
  flex: 0 0 auto;
  margin: 8px 12px 8px 12px;
}

.jp-BreadCrumbs-item {
  margin: 0px 2px;
  padding: 0px 2px;
  border-radius: var(--jp-border-radius);
  cursor: pointer;
}

.jp-BreadCrumbs-item:hover {
  background-color: var(--jp-layout-color2);
}

.jp-BreadCrumbs-item:first-child {
  margin-left: 0px;
}

.jp-BreadCrumbs-item.jp-mod-dropTarget {
  background-color: var(--jp-brand-color2);
  opacity: 0.7;
}

/*-----------------------------------------------------------------------------
| Buttons
|----------------------------------------------------------------------------*/

.jp-FileBrowser-toolbar.jp-Toolbar {
  padding: 0px;
  margin: 8px 12px 0px 12px;
}

.jp-FileBrowser-toolbar.jp-Toolbar {
  justify-content: flex-start;
}

.jp-FileBrowser-toolbar.jp-Toolbar .jp-Toolbar-item {
  flex: 0 0 auto;
  padding-left: 0px;
  padding-right: 2px;
}

.jp-FileBrowser-toolbar.jp-Toolbar .jp-ToolbarButtonComponent {
  width: 40px;
}

.jp-FileBrowser-toolbar.jp-Toolbar
  .jp-Toolbar-item:first-child
  .jp-ToolbarButtonComponent {
  width: 72px;
  background: var(--jp-brand-color1);
}

.jp-FileBrowser-toolbar.jp-Toolbar
  .jp-Toolbar-item:first-child
  .jp-ToolbarButtonComponent:focus-visible {
  background-color: var(--jp-brand-color0);
}

.jp-FileBrowser-toolbar.jp-Toolbar
  .jp-Toolbar-item:first-child
  .jp-ToolbarButtonComponent
  .jp-icon3 {
  fill: white;
}

/*-----------------------------------------------------------------------------
| Other styles
|----------------------------------------------------------------------------*/

.jp-FileDialog.jp-mod-conflict input {
  color: var(--jp-error-color1);
}

.jp-FileDialog .jp-new-name-title {
  margin-top: 12px;
}

.jp-LastModified-hidden {
  display: none;
}

.jp-FileBrowser-filterBox {
  padding: 0px;
  flex: 0 0 auto;
  margin: 8px 12px 0px 12px;
}

/*-----------------------------------------------------------------------------
| DirListing
|----------------------------------------------------------------------------*/

.jp-DirListing {
  flex: 1 1 auto;
  display: flex;
  flex-direction: column;
  outline: 0;
}

.jp-DirListing:focus-visible {
  border: 1px solid var(--jp-brand-color1);
}

.jp-DirListing-header {
  flex: 0 0 auto;
  display: flex;
  flex-direction: row;
  overflow: hidden;
  border-top: var(--jp-border-width) solid var(--jp-border-color2);
  border-bottom: var(--jp-border-width) solid var(--jp-border-color1);
  box-shadow: var(--jp-toolbar-box-shadow);
  z-index: 2;
}

.jp-DirListing-headerItem {
  padding: 4px 12px 2px 12px;
  font-weight: 500;
}

.jp-DirListing-headerItem:hover {
  background: var(--jp-layout-color2);
}

.jp-DirListing-headerItem.jp-id-name {
  flex: 1 0 84px;
}

.jp-DirListing-headerItem.jp-id-modified {
  flex: 0 0 112px;
  border-left: var(--jp-border-width) solid var(--jp-border-color2);
  text-align: right;
}

.jp-id-narrow {
  display: none;
  flex: 0 0 5px;
  padding: 4px 4px;
  border-left: var(--jp-border-width) solid var(--jp-border-color2);
  text-align: right;
  color: var(--jp-border-color2);
}

.jp-DirListing-narrow .jp-id-narrow {
  display: block;
}

.jp-DirListing-narrow .jp-id-modified,
.jp-DirListing-narrow .jp-DirListing-itemModified {
  display: none;
}

.jp-DirListing-headerItem.jp-mod-selected {
  font-weight: 600;
}

/* increase specificity to override bundled default */
.jp-DirListing-content {
  flex: 1 1 auto;
  margin: 0;
  padding: 0;
  list-style-type: none;
  overflow: auto;
  background-color: var(--jp-layout-color1);
}

.jp-DirListing-content mark {
  color: var(--jp-ui-font-color0);
  background-color: transparent;
  font-weight: bold;
}

.jp-DirListing-content .jp-DirListing-item.jp-mod-selected mark {
  color: var(--jp-ui-inverse-font-color0);
}

/* Style the directory listing content when a user drops a file to upload */
.jp-DirListing.jp-mod-native-drop .jp-DirListing-content {
  outline: 5px dashed rgba(128, 128, 128, 0.5);
  outline-offset: -10px;
  cursor: copy;
}

.jp-DirListing-item {
  display: flex;
  flex-direction: row;
  padding: 4px 12px;
  -webkit-user-select: none;
  -moz-user-select: none;
  -ms-user-select: none;
  user-select: none;
}

.jp-DirListing-item[data-is-dot] {
  opacity: 75%;
}

.jp-DirListing-item.jp-mod-selected {
  color: var(--jp-ui-inverse-font-color1);
  background: var(--jp-brand-color1);
}

.jp-DirListing-item.jp-mod-dropTarget {
  background: var(--jp-brand-color3);
}

.jp-DirListing-item:hover:not(.jp-mod-selected) {
  background: var(--jp-layout-color2);
}

.jp-DirListing-itemIcon {
  flex: 0 0 20px;
  margin-right: 4px;
}

.jp-DirListing-itemText {
  flex: 1 0 64px;
  white-space: nowrap;
  overflow: hidden;
  text-overflow: ellipsis;
  user-select: none;
}

.jp-DirListing-itemModified {
  flex: 0 0 125px;
  text-align: right;
}

.jp-DirListing-editor {
  flex: 1 0 64px;
  outline: none;
  border: none;
}

.jp-DirListing-item.jp-mod-running .jp-DirListing-itemIcon:before {
  color: var(--jp-success-color1);
  content: '\25CF';
  font-size: 8px;
  position: absolute;
  left: -8px;
}

.jp-DirListing-item.jp-mod-running.jp-mod-selected
  .jp-DirListing-itemIcon:before {
  color: var(--jp-ui-inverse-font-color1);
}

.jp-DirListing-item.lm-mod-drag-image,
.jp-DirListing-item.jp-mod-selected.lm-mod-drag-image {
  font-size: var(--jp-ui-font-size1);
  padding-left: 4px;
  margin-left: 4px;
  width: 160px;
  background-color: var(--jp-ui-inverse-font-color2);
  box-shadow: var(--jp-elevation-z2);
  border-radius: 0px;
  color: var(--jp-ui-font-color1);
  transform: translateX(-40%) translateY(-58%);
}

.jp-DirListing-deadSpace {
  flex: 1 1 auto;
  margin: 0;
  padding: 0;
  list-style-type: none;
  overflow: auto;
  background-color: var(--jp-layout-color1);
}

.jp-Document {
  min-width: 120px;
  min-height: 120px;
  outline: none;
}

/*-----------------------------------------------------------------------------
| Copyright (c) Jupyter Development Team.
| Distributed under the terms of the Modified BSD License.
|----------------------------------------------------------------------------*/

/*-----------------------------------------------------------------------------
| Private CSS variables
|----------------------------------------------------------------------------*/

:root {
}

/*-----------------------------------------------------------------------------
| Main OutputArea
| OutputArea has a list of Outputs
|----------------------------------------------------------------------------*/

.jp-OutputArea {
  overflow-y: auto;
}

.jp-OutputArea-child {
  display: flex;
  flex-direction: row;
}

body[data-format='mobile'] .jp-OutputArea-child {
  flex-direction: column;
}

.jp-OutputPrompt {
  flex: 0 0 var(--jp-cell-prompt-width);
  color: var(--jp-cell-outprompt-font-color);
  font-family: var(--jp-cell-prompt-font-family);
  padding: var(--jp-code-padding);
  letter-spacing: var(--jp-cell-prompt-letter-spacing);
  line-height: var(--jp-code-line-height);
  font-size: var(--jp-code-font-size);
  border: var(--jp-border-width) solid transparent;
  opacity: var(--jp-cell-prompt-opacity);
  /* Right align prompt text, don't wrap to handle large prompt numbers */
  text-align: right;
  white-space: nowrap;
  overflow: hidden;
  text-overflow: ellipsis;
  /* Disable text selection */
  -webkit-user-select: none;
  -moz-user-select: none;
  -ms-user-select: none;
  user-select: none;
}

body[data-format='mobile'] .jp-OutputPrompt {
  flex: 0 0 auto;
  text-align: left;
}

.jp-OutputArea-output {
  height: auto;
  overflow: auto;
  user-select: text;
  -moz-user-select: text;
  -webkit-user-select: text;
  -ms-user-select: text;
}

.jp-OutputArea-child .jp-OutputArea-output {
  flex-grow: 1;
  flex-shrink: 1;
}

body[data-format='mobile'] .jp-OutputArea-child .jp-OutputArea-output {
  margin-left: var(--jp-notebook-padding);
}

/**
 * Isolated output.
 */
.jp-OutputArea-output.jp-mod-isolated {
  width: 100%;
  display: block;
}

/*
When drag events occur, `p-mod-override-cursor` is added to the body.
Because iframes steal all cursor events, the following two rules are necessary
to suppress pointer events while resize drags are occurring. There may be a
better solution to this problem.
*/
body.lm-mod-override-cursor .jp-OutputArea-output.jp-mod-isolated {
  position: relative;
}

body.lm-mod-override-cursor .jp-OutputArea-output.jp-mod-isolated:before {
  content: '';
  position: absolute;
  top: 0;
  left: 0;
  right: 0;
  bottom: 0;
  background: transparent;
}

/* pre */

.jp-OutputArea-output pre {
  border: none;
  margin: 0px;
  padding: 0px;
  overflow-x: auto;
  overflow-y: auto;
  word-break: break-all;
  word-wrap: break-word;
  white-space: pre-wrap;
}

/* tables */

.jp-OutputArea-output.jp-RenderedHTMLCommon table {
  margin-left: 0;
  margin-right: 0;
}

/* description lists */

.jp-OutputArea-output dl,
.jp-OutputArea-output dt,
.jp-OutputArea-output dd {
  display: block;
}

.jp-OutputArea-output dl {
  width: 100%;
  overflow: hidden;
  padding: 0;
  margin: 0;
}

.jp-OutputArea-output dt {
  font-weight: bold;
  float: left;
  width: 20%;
  padding: 0;
  margin: 0;
}

.jp-OutputArea-output dd {
  float: left;
  width: 80%;
  padding: 0;
  margin: 0;
}

/* Hide the gutter in case of
 *  - nested output areas (e.g. in the case of output widgets)
 *  - mirrored output areas
 */
.jp-OutputArea .jp-OutputArea .jp-OutputArea-prompt {
  display: none;
}

/*-----------------------------------------------------------------------------
| executeResult is added to any Output-result for the display of the object
| returned by a cell
|----------------------------------------------------------------------------*/

.jp-OutputArea-output.jp-OutputArea-executeResult {
  margin-left: 0px;
  flex: 1 1 auto;
}

/* Text output with the Out[] prompt needs a top padding to match the
 * alignment of the Out[] prompt itself.
 */
.jp-OutputArea-executeResult .jp-RenderedText.jp-OutputArea-output {
  padding-top: var(--jp-code-padding);
  border-top: var(--jp-border-width) solid transparent;
}

/*-----------------------------------------------------------------------------
| The Stdin output
|----------------------------------------------------------------------------*/

.jp-OutputArea-stdin {
  line-height: var(--jp-code-line-height);
  padding-top: var(--jp-code-padding);
  display: flex;
}

.jp-Stdin-prompt {
  color: var(--jp-content-font-color0);
  padding-right: var(--jp-code-padding);
  vertical-align: baseline;
  flex: 0 0 auto;
}

.jp-Stdin-input {
  font-family: var(--jp-code-font-family);
  font-size: inherit;
  color: inherit;
  background-color: inherit;
  width: 42%;
  min-width: 200px;
  /* make sure input baseline aligns with prompt */
  vertical-align: baseline;
  /* padding + margin = 0.5em between prompt and cursor */
  padding: 0em 0.25em;
  margin: 0em 0.25em;
  flex: 0 0 70%;
}

.jp-Stdin-input:focus {
  box-shadow: none;
}

/*-----------------------------------------------------------------------------
| Output Area View
|----------------------------------------------------------------------------*/

.jp-LinkedOutputView .jp-OutputArea {
  height: 100%;
  display: block;
}

.jp-LinkedOutputView .jp-OutputArea-output:only-child {
  height: 100%;
}

/*-----------------------------------------------------------------------------
| Copyright (c) Jupyter Development Team.
| Distributed under the terms of the Modified BSD License.
|----------------------------------------------------------------------------*/

.jp-Collapser {
  flex: 0 0 var(--jp-cell-collapser-width);
  padding: 0px;
  margin: 0px;
  border: none;
  outline: none;
  background: transparent;
  border-radius: var(--jp-border-radius);
  opacity: 1;
}

.jp-Collapser-child {
  display: block;
  width: 100%;
  box-sizing: border-box;
  /* height: 100% doesn't work because the height of its parent is computed from content */
  position: absolute;
  top: 0px;
  bottom: 0px;
}

/*-----------------------------------------------------------------------------
| Copyright (c) Jupyter Development Team.
| Distributed under the terms of the Modified BSD License.
|----------------------------------------------------------------------------*/

/*-----------------------------------------------------------------------------
| Header/Footer
|----------------------------------------------------------------------------*/

/* Hidden by zero height by default */
.jp-CellHeader,
.jp-CellFooter {
  height: 0px;
  width: 100%;
  padding: 0px;
  margin: 0px;
  border: none;
  outline: none;
  background: transparent;
}

/*-----------------------------------------------------------------------------
| Copyright (c) Jupyter Development Team.
| Distributed under the terms of the Modified BSD License.
|----------------------------------------------------------------------------*/

/*-----------------------------------------------------------------------------
| Input
|----------------------------------------------------------------------------*/

/* All input areas */
.jp-InputArea {
  display: flex;
  flex-direction: row;
  overflow: hidden;
}

body[data-format='mobile'] .jp-InputArea {
  flex-direction: column;
}

.jp-InputArea-editor {
  flex: 1 1 auto;
  overflow: hidden;
}

.jp-InputArea-editor {
  /* This is the non-active, default styling */
  border: var(--jp-border-width) solid var(--jp-cell-editor-border-color);
  border-radius: 0px;
  background: var(--jp-cell-editor-background);
}

body[data-format='mobile'] .jp-InputArea-editor {
  margin-left: var(--jp-notebook-padding);
}

.jp-InputPrompt {
  flex: 0 0 var(--jp-cell-prompt-width);
  color: var(--jp-cell-inprompt-font-color);
  font-family: var(--jp-cell-prompt-font-family);
  padding: var(--jp-code-padding);
  letter-spacing: var(--jp-cell-prompt-letter-spacing);
  opacity: var(--jp-cell-prompt-opacity);
  line-height: var(--jp-code-line-height);
  font-size: var(--jp-code-font-size);
  border: var(--jp-border-width) solid transparent;
  opacity: var(--jp-cell-prompt-opacity);
  /* Right align prompt text, don't wrap to handle large prompt numbers */
  text-align: right;
  white-space: nowrap;
  overflow: hidden;
  text-overflow: ellipsis;
  /* Disable text selection */
  -webkit-user-select: none;
  -moz-user-select: none;
  -ms-user-select: none;
  user-select: none;
}

body[data-format='mobile'] .jp-InputPrompt {
  flex: 0 0 auto;
  text-align: left;
}

/*-----------------------------------------------------------------------------
| Copyright (c) Jupyter Development Team.
| Distributed under the terms of the Modified BSD License.
|----------------------------------------------------------------------------*/

/*-----------------------------------------------------------------------------
| Placeholder
|----------------------------------------------------------------------------*/

.jp-Placeholder {
  display: flex;
  flex-direction: row;
  flex: 1 1 auto;
}

.jp-Placeholder-prompt {
  box-sizing: border-box;
}

.jp-Placeholder-content {
  flex: 1 1 auto;
  border: none;
  background: transparent;
  height: 20px;
  box-sizing: border-box;
}

.jp-Placeholder-content .jp-MoreHorizIcon {
  width: 32px;
  height: 16px;
  border: 1px solid transparent;
  border-radius: var(--jp-border-radius);
}

.jp-Placeholder-content .jp-MoreHorizIcon:hover {
  border: 1px solid var(--jp-border-color1);
  box-shadow: 0px 0px 2px 0px rgba(0, 0, 0, 0.25);
  background-color: var(--jp-layout-color0);
}

/*-----------------------------------------------------------------------------
| Copyright (c) Jupyter Development Team.
| Distributed under the terms of the Modified BSD License.
|----------------------------------------------------------------------------*/

/*-----------------------------------------------------------------------------
| Private CSS variables
|----------------------------------------------------------------------------*/

:root {
  --jp-private-cell-scrolling-output-offset: 5px;
}

/*-----------------------------------------------------------------------------
| Cell
|----------------------------------------------------------------------------*/

.jp-Cell {
  padding: var(--jp-cell-padding);
  margin: 0px;
  border: none;
  outline: none;
  background: transparent;
}

/*-----------------------------------------------------------------------------
| Common input/output
|----------------------------------------------------------------------------*/

.jp-Cell-inputWrapper,
.jp-Cell-outputWrapper {
  display: flex;
  flex-direction: row;
  padding: 0px;
  margin: 0px;
  /* Added to reveal the box-shadow on the input and output collapsers. */
  overflow: visible;
}

/* Only input/output areas inside cells */
.jp-Cell-inputArea,
.jp-Cell-outputArea {
  flex: 1 1 auto;
}

/*-----------------------------------------------------------------------------
| Collapser
|----------------------------------------------------------------------------*/

/* Make the output collapser disappear when there is not output, but do so
 * in a manner that leaves it in the layout and preserves its width.
 */
.jp-Cell.jp-mod-noOutputs .jp-Cell-outputCollapser {
  border: none !important;
  background: transparent !important;
}

.jp-Cell:not(.jp-mod-noOutputs) .jp-Cell-outputCollapser {
  min-height: var(--jp-cell-collapser-min-height);
}

/*-----------------------------------------------------------------------------
| Output
|----------------------------------------------------------------------------*/

/* Put a space between input and output when there IS output */
.jp-Cell:not(.jp-mod-noOutputs) .jp-Cell-outputWrapper {
  margin-top: 5px;
}

.jp-CodeCell.jp-mod-outputsScrolled .jp-Cell-outputArea {
  overflow-y: auto;
  max-height: 200px;
  box-shadow: inset 0 0 6px 2px rgba(0, 0, 0, 0.3);
  margin-left: var(--jp-private-cell-scrolling-output-offset);
}

.jp-CodeCell.jp-mod-outputsScrolled .jp-OutputArea-prompt {
  flex: 0 0
    calc(
      var(--jp-cell-prompt-width) -
        var(--jp-private-cell-scrolling-output-offset)
    );
}

/*-----------------------------------------------------------------------------
| CodeCell
|----------------------------------------------------------------------------*/

/*-----------------------------------------------------------------------------
| MarkdownCell
|----------------------------------------------------------------------------*/

.jp-MarkdownOutput {
  flex: 1 1 auto;
  margin-top: 0;
  margin-bottom: 0;
  padding-left: var(--jp-code-padding);
}

.jp-MarkdownOutput.jp-RenderedHTMLCommon {
  overflow: auto;
}

.jp-showHiddenCellsButton {
  margin-left: calc(var(--jp-cell-prompt-width) + 2 * var(--jp-code-padding));
  margin-top: var(--jp-code-padding);
  border: 1px solid var(--jp-border-color2);
  background-color: var(--jp-border-color3) !important;
  color: var(--jp-content-font-color0) !important;
}

.jp-showHiddenCellsButton:hover {
  background-color: var(--jp-border-color2) !important;
}

.jp-collapseHeadingButton {
  display: none;
}

.jp-MarkdownCell:hover .jp-collapseHeadingButton {
  display: flex;
  min-height: var(--jp-cell-collapser-min-height);
  position: absolute;
  right: 0;
  top: 0;
  bottom: 0;
}

/*-----------------------------------------------------------------------------
| Copyright (c) Jupyter Development Team.
| Distributed under the terms of the Modified BSD License.
|----------------------------------------------------------------------------*/

/*-----------------------------------------------------------------------------
| Copyright (c) Jupyter Development Team.
| Distributed under the terms of the Modified BSD License.
|----------------------------------------------------------------------------*/

/*-----------------------------------------------------------------------------
| Variables
|----------------------------------------------------------------------------*/

/*-----------------------------------------------------------------------------

/*-----------------------------------------------------------------------------
| Styles
|----------------------------------------------------------------------------*/

.jp-NotebookPanel-toolbar {
  padding: 2px;
}

.jp-Toolbar-item.jp-Notebook-toolbarCellType .jp-select-wrapper.jp-mod-focused {
  border: none;
  box-shadow: none;
}

.jp-Notebook-toolbarCellTypeDropdown select {
  height: 24px;
  font-size: var(--jp-ui-font-size1);
  line-height: 14px;
  border-radius: 0;
  display: block;
}

.jp-Notebook-toolbarCellTypeDropdown span {
  top: 5px !important;
}

/*-----------------------------------------------------------------------------
| Copyright (c) Jupyter Development Team.
| Distributed under the terms of the Modified BSD License.
|----------------------------------------------------------------------------*/

/*-----------------------------------------------------------------------------
| Private CSS variables
|----------------------------------------------------------------------------*/

:root {
  --jp-private-notebook-dragImage-width: 304px;
  --jp-private-notebook-dragImage-height: 36px;
  --jp-private-notebook-selected-color: var(--md-blue-400);
  --jp-private-notebook-active-color: var(--md-green-400);
}

/*-----------------------------------------------------------------------------
| Imports
|----------------------------------------------------------------------------*/

/*-----------------------------------------------------------------------------
| Notebook
|----------------------------------------------------------------------------*/

.jp-NotebookPanel {
  display: block;
  height: 100%;
}

.jp-NotebookPanel.jp-Document {
  min-width: 240px;
  min-height: 120px;
}

.jp-Notebook {
  padding: var(--jp-notebook-padding);
  outline: none;
  overflow: auto;
  background: var(--jp-layout-color0);
}

.jp-Notebook.jp-mod-scrollPastEnd::after {
  display: block;
  content: '';
  min-height: var(--jp-notebook-scroll-padding);
}

.jp-MainAreaWidget-ContainStrict .jp-Notebook * {
  contain: strict;
}

.jp-Notebook-render * {
  contain: none !important;
}

.jp-Notebook .jp-Cell {
  overflow: visible;
}

.jp-Notebook .jp-Cell .jp-InputPrompt {
  cursor: move;
  float: left;
}

/*-----------------------------------------------------------------------------
| Notebook state related styling
|
| The notebook and cells each have states, here are the possibilities:
|
| - Notebook
|   - Command
|   - Edit
| - Cell
|   - None
|   - Active (only one can be active)
|   - Selected (the cells actions are applied to)
|   - Multiselected (when multiple selected, the cursor)
|   - No outputs
|----------------------------------------------------------------------------*/

/* Command or edit modes */

.jp-Notebook .jp-Cell:not(.jp-mod-active) .jp-InputPrompt {
  opacity: var(--jp-cell-prompt-not-active-opacity);
  color: var(--jp-cell-prompt-not-active-font-color);
}

.jp-Notebook .jp-Cell:not(.jp-mod-active) .jp-OutputPrompt {
  opacity: var(--jp-cell-prompt-not-active-opacity);
  color: var(--jp-cell-prompt-not-active-font-color);
}

/* cell is active */
.jp-Notebook .jp-Cell.jp-mod-active .jp-Collapser {
  background: var(--jp-brand-color1);
}

/* cell is dirty */
.jp-Notebook .jp-Cell.jp-mod-dirty .jp-InputPrompt {
  color: var(--jp-warn-color1);
}
.jp-Notebook .jp-Cell.jp-mod-dirty .jp-InputPrompt:before {
  color: var(--jp-warn-color1);
  content: '•';
}

.jp-Notebook .jp-Cell.jp-mod-active.jp-mod-dirty .jp-Collapser {
  background: var(--jp-warn-color1);
}

/* collapser is hovered */
.jp-Notebook .jp-Cell .jp-Collapser:hover {
  box-shadow: var(--jp-elevation-z2);
  background: var(--jp-brand-color1);
  opacity: var(--jp-cell-collapser-not-active-hover-opacity);
}

/* cell is active and collapser is hovered */
.jp-Notebook .jp-Cell.jp-mod-active .jp-Collapser:hover {
  background: var(--jp-brand-color0);
  opacity: 1;
}

/* Command mode */

.jp-Notebook.jp-mod-commandMode .jp-Cell.jp-mod-selected {
  background: var(--jp-notebook-multiselected-color);
}

.jp-Notebook.jp-mod-commandMode
  .jp-Cell.jp-mod-active.jp-mod-selected:not(.jp-mod-multiSelected) {
  background: transparent;
}

/* Edit mode */

.jp-Notebook.jp-mod-editMode .jp-Cell.jp-mod-active .jp-InputArea-editor {
  border: var(--jp-border-width) solid var(--jp-cell-editor-active-border-color);
  box-shadow: var(--jp-input-box-shadow);
  background-color: var(--jp-cell-editor-active-background);
}

/*-----------------------------------------------------------------------------
| Notebook drag and drop
|----------------------------------------------------------------------------*/

.jp-Notebook-cell.jp-mod-dropSource {
  opacity: 0.5;
}

.jp-Notebook-cell.jp-mod-dropTarget,
.jp-Notebook.jp-mod-commandMode
  .jp-Notebook-cell.jp-mod-active.jp-mod-selected.jp-mod-dropTarget {
  border-top-color: var(--jp-private-notebook-selected-color);
  border-top-style: solid;
  border-top-width: 2px;
}

.jp-dragImage {
  display: block;
  flex-direction: row;
  width: var(--jp-private-notebook-dragImage-width);
  height: var(--jp-private-notebook-dragImage-height);
  border: var(--jp-border-width) solid var(--jp-cell-editor-border-color);
  background: var(--jp-cell-editor-background);
  overflow: visible;
}

.jp-dragImage-singlePrompt {
  box-shadow: 2px 2px 4px 0px rgba(0, 0, 0, 0.12);
}

.jp-dragImage .jp-dragImage-content {
  flex: 1 1 auto;
  z-index: 2;
  font-size: var(--jp-code-font-size);
  font-family: var(--jp-code-font-family);
  line-height: var(--jp-code-line-height);
  padding: var(--jp-code-padding);
  border: var(--jp-border-width) solid var(--jp-cell-editor-border-color);
  background: var(--jp-cell-editor-background-color);
  color: var(--jp-content-font-color3);
  text-align: left;
  margin: 4px 4px 4px 0px;
}

.jp-dragImage .jp-dragImage-prompt {
  flex: 0 0 auto;
  min-width: 36px;
  color: var(--jp-cell-inprompt-font-color);
  padding: var(--jp-code-padding);
  padding-left: 12px;
  font-family: var(--jp-cell-prompt-font-family);
  letter-spacing: var(--jp-cell-prompt-letter-spacing);
  line-height: 1.9;
  font-size: var(--jp-code-font-size);
  border: var(--jp-border-width) solid transparent;
}

.jp-dragImage-multipleBack {
  z-index: -1;
  position: absolute;
  height: 32px;
  width: 300px;
  top: 8px;
  left: 8px;
  background: var(--jp-layout-color2);
  border: var(--jp-border-width) solid var(--jp-input-border-color);
  box-shadow: 2px 2px 4px 0px rgba(0, 0, 0, 0.12);
}

/*-----------------------------------------------------------------------------
| Cell toolbar
|----------------------------------------------------------------------------*/

.jp-NotebookTools {
  display: block;
  min-width: var(--jp-sidebar-min-width);
  color: var(--jp-ui-font-color1);
  background: var(--jp-layout-color1);
  /* This is needed so that all font sizing of children done in ems is
    * relative to this base size */
  font-size: var(--jp-ui-font-size1);
  overflow: auto;
}

.jp-NotebookTools-tool {
  padding: 0px 12px 0 12px;
}

.jp-ActiveCellTool {
  padding: 12px;
  background-color: var(--jp-layout-color1);
  border-top: none !important;
}

.jp-ActiveCellTool .jp-InputArea-prompt {
  flex: 0 0 auto;
  padding-left: 0px;
}

.jp-ActiveCellTool .jp-InputArea-editor {
  flex: 1 1 auto;
  background: var(--jp-cell-editor-background);
  border-color: var(--jp-cell-editor-border-color);
}

.jp-ActiveCellTool .jp-InputArea-editor .CodeMirror {
  background: transparent;
}

.jp-MetadataEditorTool {
  flex-direction: column;
  padding: 12px 0px 12px 0px;
}

.jp-RankedPanel > :not(:first-child) {
  margin-top: 12px;
}

.jp-KeySelector select.jp-mod-styled {
  font-size: var(--jp-ui-font-size1);
  color: var(--jp-ui-font-color0);
  border: var(--jp-border-width) solid var(--jp-border-color1);
}

.jp-KeySelector label,
.jp-MetadataEditorTool label {
  line-height: 1.4;
}

.jp-NotebookTools .jp-select-wrapper {
  margin-top: 4px;
  margin-bottom: 0px;
}

.jp-NotebookTools .jp-Collapse {
  margin-top: 16px;
}

/*-----------------------------------------------------------------------------
| Presentation Mode (.jp-mod-presentationMode)
|----------------------------------------------------------------------------*/

.jp-mod-presentationMode .jp-Notebook {
  --jp-content-font-size1: var(--jp-content-presentation-font-size1);
  --jp-code-font-size: var(--jp-code-presentation-font-size);
}

.jp-mod-presentationMode .jp-Notebook .jp-Cell .jp-InputPrompt,
.jp-mod-presentationMode .jp-Notebook .jp-Cell .jp-OutputPrompt {
  flex: 0 0 110px;
}

/*-----------------------------------------------------------------------------
| Placeholder
|----------------------------------------------------------------------------*/

.jp-Cell-Placeholder {
  padding-left: 55px;
}

.jp-Cell-Placeholder-wrapper {
  background: #fff;
  border: 1px solid;
  border-color: #e5e6e9 #dfe0e4 #d0d1d5;
  border-radius: 4px;
  -webkit-border-radius: 4px;
  margin: 10px 15px;
}

.jp-Cell-Placeholder-wrapper-inner {
  padding: 15px;
  position: relative;
}

.jp-Cell-Placeholder-wrapper-body {
  background-repeat: repeat;
  background-size: 50% auto;
}

.jp-Cell-Placeholder-wrapper-body div {
  background: #f6f7f8;
  background-image: -webkit-linear-gradient(
    left,
    #f6f7f8 0%,
    #edeef1 20%,
    #f6f7f8 40%,
    #f6f7f8 100%
  );
  background-repeat: no-repeat;
  background-size: 800px 104px;
  height: 104px;
  position: relative;
}

.jp-Cell-Placeholder-wrapper-body div {
  position: absolute;
  right: 15px;
  left: 15px;
  top: 15px;
}

div.jp-Cell-Placeholder-h1 {
  top: 20px;
  height: 20px;
  left: 15px;
  width: 150px;
}

div.jp-Cell-Placeholder-h2 {
  left: 15px;
  top: 50px;
  height: 10px;
  width: 100px;
}

div.jp-Cell-Placeholder-content-1,
div.jp-Cell-Placeholder-content-2,
div.jp-Cell-Placeholder-content-3 {
  left: 15px;
  right: 15px;
  height: 10px;
}

div.jp-Cell-Placeholder-content-1 {
  top: 100px;
}

div.jp-Cell-Placeholder-content-2 {
  top: 120px;
}

div.jp-Cell-Placeholder-content-3 {
  top: 140px;
}

</style>

    <style type="text/css">
/*-----------------------------------------------------------------------------
| Copyright (c) Jupyter Development Team.
| Distributed under the terms of the Modified BSD License.
|----------------------------------------------------------------------------*/

/*
The following CSS variables define the main, public API for styling JupyterLab.
These variables should be used by all plugins wherever possible. In other
words, plugins should not define custom colors, sizes, etc unless absolutely
necessary. This enables users to change the visual theme of JupyterLab
by changing these variables.

Many variables appear in an ordered sequence (0,1,2,3). These sequences
are designed to work well together, so for example, `--jp-border-color1` should
be used with `--jp-layout-color1`. The numbers have the following meanings:

* 0: super-primary, reserved for special emphasis
* 1: primary, most important under normal situations
* 2: secondary, next most important under normal situations
* 3: tertiary, next most important under normal situations

Throughout JupyterLab, we are mostly following principles from Google's
Material Design when selecting colors. We are not, however, following
all of MD as it is not optimized for dense, information rich UIs.
*/

:root {
  /* Elevation
   *
   * We style box-shadows using Material Design's idea of elevation. These particular numbers are taken from here:
   *
   * https://github.com/material-components/material-components-web
   * https://material-components-web.appspot.com/elevation.html
   */

  --jp-shadow-base-lightness: 0;
  --jp-shadow-umbra-color: rgba(
    var(--jp-shadow-base-lightness),
    var(--jp-shadow-base-lightness),
    var(--jp-shadow-base-lightness),
    0.2
  );
  --jp-shadow-penumbra-color: rgba(
    var(--jp-shadow-base-lightness),
    var(--jp-shadow-base-lightness),
    var(--jp-shadow-base-lightness),
    0.14
  );
  --jp-shadow-ambient-color: rgba(
    var(--jp-shadow-base-lightness),
    var(--jp-shadow-base-lightness),
    var(--jp-shadow-base-lightness),
    0.12
  );
  --jp-elevation-z0: none;
  --jp-elevation-z1: 0px 2px 1px -1px var(--jp-shadow-umbra-color),
    0px 1px 1px 0px var(--jp-shadow-penumbra-color),
    0px 1px 3px 0px var(--jp-shadow-ambient-color);
  --jp-elevation-z2: 0px 3px 1px -2px var(--jp-shadow-umbra-color),
    0px 2px 2px 0px var(--jp-shadow-penumbra-color),
    0px 1px 5px 0px var(--jp-shadow-ambient-color);
  --jp-elevation-z4: 0px 2px 4px -1px var(--jp-shadow-umbra-color),
    0px 4px 5px 0px var(--jp-shadow-penumbra-color),
    0px 1px 10px 0px var(--jp-shadow-ambient-color);
  --jp-elevation-z6: 0px 3px 5px -1px var(--jp-shadow-umbra-color),
    0px 6px 10px 0px var(--jp-shadow-penumbra-color),
    0px 1px 18px 0px var(--jp-shadow-ambient-color);
  --jp-elevation-z8: 0px 5px 5px -3px var(--jp-shadow-umbra-color),
    0px 8px 10px 1px var(--jp-shadow-penumbra-color),
    0px 3px 14px 2px var(--jp-shadow-ambient-color);
  --jp-elevation-z12: 0px 7px 8px -4px var(--jp-shadow-umbra-color),
    0px 12px 17px 2px var(--jp-shadow-penumbra-color),
    0px 5px 22px 4px var(--jp-shadow-ambient-color);
  --jp-elevation-z16: 0px 8px 10px -5px var(--jp-shadow-umbra-color),
    0px 16px 24px 2px var(--jp-shadow-penumbra-color),
    0px 6px 30px 5px var(--jp-shadow-ambient-color);
  --jp-elevation-z20: 0px 10px 13px -6px var(--jp-shadow-umbra-color),
    0px 20px 31px 3px var(--jp-shadow-penumbra-color),
    0px 8px 38px 7px var(--jp-shadow-ambient-color);
  --jp-elevation-z24: 0px 11px 15px -7px var(--jp-shadow-umbra-color),
    0px 24px 38px 3px var(--jp-shadow-penumbra-color),
    0px 9px 46px 8px var(--jp-shadow-ambient-color);

  /* Borders
   *
   * The following variables, specify the visual styling of borders in JupyterLab.
   */

  --jp-border-width: 1px;
  --jp-border-color0: var(--md-grey-400);
  --jp-border-color1: var(--md-grey-400);
  --jp-border-color2: var(--md-grey-300);
  --jp-border-color3: var(--md-grey-200);
  --jp-border-radius: 2px;

  /* UI Fonts
   *
   * The UI font CSS variables are used for the typography all of the JupyterLab
   * user interface elements that are not directly user generated content.
   *
   * The font sizing here is done assuming that the body font size of --jp-ui-font-size1
   * is applied to a parent element. When children elements, such as headings, are sized
   * in em all things will be computed relative to that body size.
   */

  --jp-ui-font-scale-factor: 1.2;
  --jp-ui-font-size0: 0.83333em;
  --jp-ui-font-size1: 13px; /* Base font size */
  --jp-ui-font-size2: 1.2em;
  --jp-ui-font-size3: 1.44em;

  --jp-ui-font-family: -apple-system, BlinkMacSystemFont, 'Segoe UI', Helvetica,
    Arial, sans-serif, 'Apple Color Emoji', 'Segoe UI Emoji', 'Segoe UI Symbol';

  /*
   * Use these font colors against the corresponding main layout colors.
   * In a light theme, these go from dark to light.
   */

  /* Defaults use Material Design specification */
  --jp-ui-font-color0: rgba(0, 0, 0, 1);
  --jp-ui-font-color1: rgba(0, 0, 0, 0.87);
  --jp-ui-font-color2: rgba(0, 0, 0, 0.54);
  --jp-ui-font-color3: rgba(0, 0, 0, 0.38);

  /*
   * Use these against the brand/accent/warn/error colors.
   * These will typically go from light to darker, in both a dark and light theme.
   */

  --jp-ui-inverse-font-color0: rgba(255, 255, 255, 1);
  --jp-ui-inverse-font-color1: rgba(255, 255, 255, 1);
  --jp-ui-inverse-font-color2: rgba(255, 255, 255, 0.7);
  --jp-ui-inverse-font-color3: rgba(255, 255, 255, 0.5);

  /* Content Fonts
   *
   * Content font variables are used for typography of user generated content.
   *
   * The font sizing here is done assuming that the body font size of --jp-content-font-size1
   * is applied to a parent element. When children elements, such as headings, are sized
   * in em all things will be computed relative to that body size.
   */

  --jp-content-line-height: 1.6;
  --jp-content-font-scale-factor: 1.2;
  --jp-content-font-size0: 0.83333em;
  --jp-content-font-size1: 14px; /* Base font size */
  --jp-content-font-size2: 1.2em;
  --jp-content-font-size3: 1.44em;
  --jp-content-font-size4: 1.728em;
  --jp-content-font-size5: 2.0736em;

  /* This gives a magnification of about 125% in presentation mode over normal. */
  --jp-content-presentation-font-size1: 17px;

  --jp-content-heading-line-height: 1;
  --jp-content-heading-margin-top: 1.2em;
  --jp-content-heading-margin-bottom: 0.8em;
  --jp-content-heading-font-weight: 500;

  /* Defaults use Material Design specification */
  --jp-content-font-color0: rgba(0, 0, 0, 1);
  --jp-content-font-color1: rgba(0, 0, 0, 0.87);
  --jp-content-font-color2: rgba(0, 0, 0, 0.54);
  --jp-content-font-color3: rgba(0, 0, 0, 0.38);

  --jp-content-link-color: var(--md-blue-700);

  --jp-content-font-family: -apple-system, BlinkMacSystemFont, 'Segoe UI',
    Helvetica, Arial, sans-serif, 'Apple Color Emoji', 'Segoe UI Emoji',
    'Segoe UI Symbol';

  /*
   * Code Fonts
   *
   * Code font variables are used for typography of code and other monospaces content.
   */

  --jp-code-font-size: 13px;
  --jp-code-line-height: 1.3077; /* 17px for 13px base */
  --jp-code-padding: 5px; /* 5px for 13px base, codemirror highlighting needs integer px value */
  --jp-code-font-family-default: Menlo, Consolas, 'DejaVu Sans Mono', monospace;
  --jp-code-font-family: var(--jp-code-font-family-default);

  /* This gives a magnification of about 125% in presentation mode over normal. */
  --jp-code-presentation-font-size: 16px;

  /* may need to tweak cursor width if you change font size */
  --jp-code-cursor-width0: 1.4px;
  --jp-code-cursor-width1: 2px;
  --jp-code-cursor-width2: 4px;

  /* Layout
   *
   * The following are the main layout colors use in JupyterLab. In a light
   * theme these would go from light to dark.
   */

  --jp-layout-color0: white;
  --jp-layout-color1: white;
  --jp-layout-color2: var(--md-grey-200);
  --jp-layout-color3: var(--md-grey-400);
  --jp-layout-color4: var(--md-grey-600);

  /* Inverse Layout
   *
   * The following are the inverse layout colors use in JupyterLab. In a light
   * theme these would go from dark to light.
   */

  --jp-inverse-layout-color0: #111111;
  --jp-inverse-layout-color1: var(--md-grey-900);
  --jp-inverse-layout-color2: var(--md-grey-800);
  --jp-inverse-layout-color3: var(--md-grey-700);
  --jp-inverse-layout-color4: var(--md-grey-600);

  /* Brand/accent */

  --jp-brand-color0: var(--md-blue-900);
  --jp-brand-color1: var(--md-blue-700);
  --jp-brand-color2: var(--md-blue-300);
  --jp-brand-color3: var(--md-blue-100);
  --jp-brand-color4: var(--md-blue-50);

  --jp-accent-color0: var(--md-green-900);
  --jp-accent-color1: var(--md-green-700);
  --jp-accent-color2: var(--md-green-300);
  --jp-accent-color3: var(--md-green-100);

  /* State colors (warn, error, success, info) */

  --jp-warn-color0: var(--md-orange-900);
  --jp-warn-color1: var(--md-orange-700);
  --jp-warn-color2: var(--md-orange-300);
  --jp-warn-color3: var(--md-orange-100);

  --jp-error-color0: var(--md-red-900);
  --jp-error-color1: var(--md-red-700);
  --jp-error-color2: var(--md-red-300);
  --jp-error-color3: var(--md-red-100);

  --jp-success-color0: var(--md-green-900);
  --jp-success-color1: var(--md-green-700);
  --jp-success-color2: var(--md-green-300);
  --jp-success-color3: var(--md-green-100);

  --jp-info-color0: var(--md-cyan-900);
  --jp-info-color1: var(--md-cyan-700);
  --jp-info-color2: var(--md-cyan-300);
  --jp-info-color3: var(--md-cyan-100);

  /* Cell specific styles */

  --jp-cell-padding: 5px;

  --jp-cell-collapser-width: 8px;
  --jp-cell-collapser-min-height: 20px;
  --jp-cell-collapser-not-active-hover-opacity: 0.6;

  --jp-cell-editor-background: var(--md-grey-100);
  --jp-cell-editor-border-color: var(--md-grey-300);
  --jp-cell-editor-box-shadow: inset 0 0 2px var(--md-blue-300);
  --jp-cell-editor-active-background: var(--jp-layout-color0);
  --jp-cell-editor-active-border-color: var(--jp-brand-color1);

  --jp-cell-prompt-width: 64px;
  --jp-cell-prompt-font-family: var(--jp-code-font-family-default);
  --jp-cell-prompt-letter-spacing: 0px;
  --jp-cell-prompt-opacity: 1;
  --jp-cell-prompt-not-active-opacity: 0.5;
  --jp-cell-prompt-not-active-font-color: var(--md-grey-700);
  /* A custom blend of MD grey and blue 600
   * See https://meyerweb.com/eric/tools/color-blend/#546E7A:1E88E5:5:hex */
  --jp-cell-inprompt-font-color: #307fc1;
  /* A custom blend of MD grey and orange 600
   * https://meyerweb.com/eric/tools/color-blend/#546E7A:F4511E:5:hex */
  --jp-cell-outprompt-font-color: #bf5b3d;

  /* Notebook specific styles */

  --jp-notebook-padding: 10px;
  --jp-notebook-select-background: var(--jp-layout-color1);
  --jp-notebook-multiselected-color: var(--md-blue-50);

  /* The scroll padding is calculated to fill enough space at the bottom of the
  notebook to show one single-line cell (with appropriate padding) at the top
  when the notebook is scrolled all the way to the bottom. We also subtract one
  pixel so that no scrollbar appears if we have just one single-line cell in the
  notebook. This padding is to enable a 'scroll past end' feature in a notebook.
  */
  --jp-notebook-scroll-padding: calc(
    100% - var(--jp-code-font-size) * var(--jp-code-line-height) -
      var(--jp-code-padding) - var(--jp-cell-padding) - 1px
  );

  /* Rendermime styles */

  --jp-rendermime-error-background: #fdd;
  --jp-rendermime-table-row-background: var(--md-grey-100);
  --jp-rendermime-table-row-hover-background: var(--md-light-blue-50);

  /* Dialog specific styles */

  --jp-dialog-background: rgba(0, 0, 0, 0.25);

  /* Console specific styles */

  --jp-console-padding: 10px;

  /* Toolbar specific styles */

  --jp-toolbar-border-color: var(--jp-border-color1);
  --jp-toolbar-micro-height: 8px;
  --jp-toolbar-background: var(--jp-layout-color1);
  --jp-toolbar-box-shadow: 0px 0px 2px 0px rgba(0, 0, 0, 0.24);
  --jp-toolbar-header-margin: 4px 4px 0px 4px;
  --jp-toolbar-active-background: var(--md-grey-300);

  /* Statusbar specific styles */

  --jp-statusbar-height: 24px;

  /* Input field styles */

  --jp-input-box-shadow: inset 0 0 2px var(--md-blue-300);
  --jp-input-active-background: var(--jp-layout-color1);
  --jp-input-hover-background: var(--jp-layout-color1);
  --jp-input-background: var(--md-grey-100);
  --jp-input-border-color: var(--jp-border-color1);
  --jp-input-active-border-color: var(--jp-brand-color1);
  --jp-input-active-box-shadow-color: rgba(19, 124, 189, 0.3);

  /* General editor styles */

  --jp-editor-selected-background: #d9d9d9;
  --jp-editor-selected-focused-background: #d7d4f0;
  --jp-editor-cursor-color: var(--jp-ui-font-color0);

  /* Code mirror specific styles */

  --jp-mirror-editor-keyword-color: #008000;
  --jp-mirror-editor-atom-color: #88f;
  --jp-mirror-editor-number-color: #080;
  --jp-mirror-editor-def-color: #00f;
  --jp-mirror-editor-variable-color: var(--md-grey-900);
  --jp-mirror-editor-variable-2-color: #05a;
  --jp-mirror-editor-variable-3-color: #085;
  --jp-mirror-editor-punctuation-color: #05a;
  --jp-mirror-editor-property-color: #05a;
  --jp-mirror-editor-operator-color: #aa22ff;
  --jp-mirror-editor-comment-color: #408080;
  --jp-mirror-editor-string-color: #ba2121;
  --jp-mirror-editor-string-2-color: #708;
  --jp-mirror-editor-meta-color: #aa22ff;
  --jp-mirror-editor-qualifier-color: #555;
  --jp-mirror-editor-builtin-color: #008000;
  --jp-mirror-editor-bracket-color: #997;
  --jp-mirror-editor-tag-color: #170;
  --jp-mirror-editor-attribute-color: #00c;
  --jp-mirror-editor-header-color: blue;
  --jp-mirror-editor-quote-color: #090;
  --jp-mirror-editor-link-color: #00c;
  --jp-mirror-editor-error-color: #f00;
  --jp-mirror-editor-hr-color: #999;

  /* Vega extension styles */

  --jp-vega-background: white;

  /* Sidebar-related styles */

  --jp-sidebar-min-width: 250px;

  /* Search-related styles */

  --jp-search-toggle-off-opacity: 0.5;
  --jp-search-toggle-hover-opacity: 0.8;
  --jp-search-toggle-on-opacity: 1;
  --jp-search-selected-match-background-color: rgb(245, 200, 0);
  --jp-search-selected-match-color: black;
  --jp-search-unselected-match-background-color: var(
    --jp-inverse-layout-color0
  );
  --jp-search-unselected-match-color: var(--jp-ui-inverse-font-color0);

  /* Icon colors that work well with light or dark backgrounds */
  --jp-icon-contrast-color0: var(--md-purple-600);
  --jp-icon-contrast-color1: var(--md-green-600);
  --jp-icon-contrast-color2: var(--md-pink-600);
  --jp-icon-contrast-color3: var(--md-blue-600);
}
</style>

<style type="text/css">
/* Force rendering true colors when outputing to pdf */
* {
  -webkit-print-color-adjust: exact;
}

/* Misc */
a.anchor-link {
  display: none;
}

/* Input area styling */
.jp-InputArea {
  overflow: hidden;
}

.jp-InputArea-editor {
  overflow: hidden;
}

.CodeMirror.cm-s-jupyter .highlight pre {
/* weird, but --jp-code-padding defined to be 5px but 4px horizontal padding is hardcoded for pre.CodeMirror-line */
  padding: var(--jp-code-padding) 4px;
  margin: 0;

  font-family: inherit;
  font-size: inherit;
  line-height: inherit;
  color: inherit;

}

.jp-OutputArea-output pre {
  line-height: inherit;
  font-family: inherit;
}

.jp-RenderedText pre {
  color: var(--jp-content-font-color1);
  font-size: var(--jp-code-font-size);
}

/* Using table instead of flexbox so that we can use break-inside property */
/* CSS rules under this comment should not be required anymore after we move to the JupyterLab 4.0 CSS */


.jp-CodeCell.jp-mod-outputsScrolled .jp-OutputArea-prompt {
  min-width: calc(
    var(--jp-cell-prompt-width) - var(--jp-private-cell-scrolling-output-offset)
  );
}

.jp-OutputArea-child {
  display: table;
  width: 100%;
}

.jp-OutputPrompt {
  display: table-cell;
  vertical-align: top;
  min-width: var(--jp-cell-prompt-width);
}

body[data-format='mobile'] .jp-OutputPrompt {
  display: table-row;
}

.jp-OutputArea-output {
  display: table-cell;
  width: 100%;
}

body[data-format='mobile'] .jp-OutputArea-child .jp-OutputArea-output {
  display: table-row;
}

.jp-OutputArea-output.jp-OutputArea-executeResult {
  width: 100%;
}

/* Hiding the collapser by default */
.jp-Collapser {
  display: none;
}

@media print {
  .jp-Cell-inputWrapper,
  .jp-Cell-outputWrapper {
    display: block;
  }

  .jp-OutputArea-child {
    break-inside: avoid-page;
  }
}
</style>

<!-- Load mathjax -->
    <script src="https://cdnjs.cloudflare.com/ajax/libs/mathjax/2.7.7/latest.js?config=TeX-AMS_CHTML-full,Safe"> </script>
    <!-- MathJax configuration -->
    <script type="text/x-mathjax-config">
    init_mathjax = function() {
        if (window.MathJax) {
        // MathJax loaded
            MathJax.Hub.Config({
                TeX: {
                    equationNumbers: {
                    autoNumber: "AMS",
                    useLabelIds: true
                    }
                },
                tex2jax: {
                    inlineMath: [ ['$','$'], ["\\(","\\)"] ],
                    displayMath: [ ['$$','$$'], ["\\[","\\]"] ],
                    processEscapes: true,
                    processEnvironments: true
                },
                displayAlign: 'center',
                CommonHTML: {
                    linebreaks: {
                    automatic: true
                    }
                }
            });

            MathJax.Hub.Queue(["Typeset", MathJax.Hub]);
        }
    }
    init_mathjax();
    </script>
    <!-- End of mathjax configuration --></head>
<body class="jp-Notebook" data-jp-theme-light="true" data-jp-theme-name="JupyterLab Light">

<div class="jp-Cell jp-MarkdownCell jp-Notebook-cell">
<div class="jp-Cell-inputWrapper">
<div class="jp-Collapser jp-InputCollapser jp-Cell-inputCollapser">
</div>
<div class="jp-InputArea jp-Cell-inputArea"><div class="jp-InputPrompt jp-InputArea-prompt">
</div><div class="jp-RenderedHTMLCommon jp-RenderedMarkdown jp-MarkdownOutput " data-mime-type="text/markdown">
<p><img src="http://dask.readthedocs.io/en/latest/_images/dask_horizontal.svg"
     align="right"
     width="30%"
     alt="Dask logo\"></p>
<h1 id="Parallelize-code-with-dask.delayed">Parallelize code with <code>dask.delayed</code><a class="anchor-link" href="#Parallelize-code-with-dask.delayed">&#182;</a></h1><p>We will parallelize simple for-loop style code with Dask and <code>dask.delayed</code>. Often, this is the only function that you will need to convert functions for use with Dask.</p>
<p><strong>Adapted From:</strong></p>
<ul>
<li><a href="https://github.com/dask/dask-tutorial">Official Dask Tutorial</a></li>
</ul>

</div>
</div>
</div>
</div>
<div class="jp-Cell jp-MarkdownCell jp-Notebook-cell">
<div class="jp-Cell-inputWrapper">
<div class="jp-Collapser jp-InputCollapser jp-Cell-inputCollapser">
</div>
<div class="jp-InputArea jp-Cell-inputArea"><div class="jp-InputPrompt jp-InputArea-prompt">
</div><div class="jp-RenderedHTMLCommon jp-RenderedMarkdown jp-MarkdownOutput " data-mime-type="text/markdown">
<h2 id="Basics">Basics<a class="anchor-link" href="#Basics">&#182;</a></h2><p>First let's make some toy functions, <code>inc</code> and <code>add</code>, that sleep for a while to simulate work. We'll then time running these functions normally.</p>
<p>In the next part we'll parallelize this code.</p>

</div>
</div>
</div>
</div><div class="jp-Cell jp-CodeCell jp-Notebook-cell jp-mod-noOutputs  ">
<div class="jp-Cell-inputWrapper">
<div class="jp-Collapser jp-InputCollapser jp-Cell-inputCollapser">
</div>
<div class="jp-InputArea jp-Cell-inputArea">
<div class="jp-InputPrompt jp-InputArea-prompt">In&nbsp;[0]:</div>
<div class="jp-CodeMirrorEditor jp-Editor jp-InputArea-editor" data-type="inline">
     <div class="CodeMirror cm-s-jupyter">
<div class=" highlight hl-ipython3"><pre><span></span><span class="kn">from</span> <span class="nn">time</span> <span class="kn">import</span> <span class="n">sleep</span>

<span class="k">def</span> <span class="nf">inc</span><span class="p">(</span><span class="n">x</span><span class="p">):</span>
    <span class="n">sleep</span><span class="p">(</span><span class="mi">1</span><span class="p">)</span>
    <span class="k">return</span> <span class="n">x</span> <span class="o">+</span> <span class="mi">1</span>

<span class="k">def</span> <span class="nf">add</span><span class="p">(</span><span class="n">x</span><span class="p">,</span> <span class="n">y</span><span class="p">):</span>
    <span class="n">sleep</span><span class="p">(</span><span class="mi">1</span><span class="p">)</span>
    <span class="k">return</span> <span class="n">x</span> <span class="o">+</span> <span class="n">y</span>
</pre></div>

     </div>
</div>
</div>
</div>

</div><div class="jp-Cell jp-CodeCell jp-Notebook-cell   ">
<div class="jp-Cell-inputWrapper">
<div class="jp-Collapser jp-InputCollapser jp-Cell-inputCollapser">
</div>
<div class="jp-InputArea jp-Cell-inputArea">
<div class="jp-InputPrompt jp-InputArea-prompt">In&nbsp;[127]:</div>
<div class="jp-CodeMirrorEditor jp-Editor jp-InputArea-editor" data-type="inline">
     <div class="CodeMirror cm-s-jupyter">
<div class=" highlight hl-ipython3"><pre><span></span><span class="o">%%time</span>

<span class="n">x</span> <span class="o">=</span> <span class="n">inc</span><span class="p">(</span><span class="mi">1</span><span class="p">)</span>
<span class="n">y</span> <span class="o">=</span> <span class="n">inc</span><span class="p">(</span><span class="mi">2</span><span class="p">)</span>
<span class="n">z</span> <span class="o">=</span> <span class="n">add</span><span class="p">(</span><span class="n">x</span><span class="p">,</span> <span class="n">y</span><span class="p">)</span>
</pre></div>

     </div>
</div>
</div>
</div>

<div class="jp-Cell-outputWrapper">
<div class="jp-Collapser jp-OutputCollapser jp-Cell-outputCollapser">
</div>


<div class="jp-OutputArea jp-Cell-outputArea">
<div class="jp-OutputArea-child">
    
    <div class="jp-OutputPrompt jp-OutputArea-prompt"></div>


<div class="jp-RenderedText jp-OutputArea-output" data-mime-type="text/plain">
<pre>CPU times: user 1.89 ms, sys: 3.04 ms, total: 4.93 ms
Wall time: 3 s
</pre>
</div>
</div>

</div>

</div>

</div>
<div class="jp-Cell jp-MarkdownCell jp-Notebook-cell">
<div class="jp-Cell-inputWrapper">
<div class="jp-Collapser jp-InputCollapser jp-Cell-inputCollapser">
</div>
<div class="jp-InputArea jp-Cell-inputArea"><div class="jp-InputPrompt jp-InputArea-prompt">
</div><div class="jp-RenderedHTMLCommon jp-RenderedMarkdown jp-MarkdownOutput " data-mime-type="text/markdown">
<p>This takes three seconds to run because we call each function sequentially</p>

</div>
</div>
</div>
</div>
<div class="jp-Cell jp-MarkdownCell jp-Notebook-cell">
<div class="jp-Cell-inputWrapper">
<div class="jp-Collapser jp-InputCollapser jp-Cell-inputCollapser">
</div>
<div class="jp-InputArea jp-Cell-inputArea"><div class="jp-InputPrompt jp-InputArea-prompt">
</div><div class="jp-RenderedHTMLCommon jp-RenderedMarkdown jp-MarkdownOutput " data-mime-type="text/markdown">
<h3 id="Parallelize-with-the-dask.delayed">Parallelize with the <code>dask.delayed</code><a class="anchor-link" href="#Parallelize-with-the-dask.delayed">&#182;</a></h3><p>Those two increment calls <em>could</em> be called in parallel, because they are totally independent of one-another.</p>

</div>
</div>
</div>
</div><div class="jp-Cell jp-CodeCell jp-Notebook-cell jp-mod-noOutputs  ">
<div class="jp-Cell-inputWrapper">
<div class="jp-Collapser jp-InputCollapser jp-Cell-inputCollapser">
</div>
<div class="jp-InputArea jp-Cell-inputArea">
<div class="jp-InputPrompt jp-InputArea-prompt">In&nbsp;[0]:</div>
<div class="jp-CodeMirrorEditor jp-Editor jp-InputArea-editor" data-type="inline">
     <div class="CodeMirror cm-s-jupyter">
<div class=" highlight hl-ipython3"><pre><span></span><span class="kn">from</span> <span class="nn">dask</span> <span class="kn">import</span> <span class="n">delayed</span>
</pre></div>

     </div>
</div>
</div>
</div>

</div>
<div class="jp-Cell jp-MarkdownCell jp-Notebook-cell">
<div class="jp-Cell-inputWrapper">
<div class="jp-Collapser jp-InputCollapser jp-Cell-inputCollapser">
</div>
<div class="jp-InputArea jp-Cell-inputArea"><div class="jp-InputPrompt jp-InputArea-prompt">
</div><div class="jp-RenderedHTMLCommon jp-RenderedMarkdown jp-MarkdownOutput " data-mime-type="text/markdown">
<p>the delayed function is meant to be used as a decorator like so:</p>
<pre><code>@delayed
def inc(x):
    sleep(1)
    return x + 1

@delayed
def add(x, y):
    sleep(1)
    return x + y
</code></pre>
<p>but since I want to keep the original functions for comparison, I'll call it directly</p>

</div>
</div>
</div>
</div><div class="jp-Cell jp-CodeCell jp-Notebook-cell   ">
<div class="jp-Cell-inputWrapper">
<div class="jp-Collapser jp-InputCollapser jp-Cell-inputCollapser">
</div>
<div class="jp-InputArea jp-Cell-inputArea">
<div class="jp-InputPrompt jp-InputArea-prompt">In&nbsp;[128]:</div>
<div class="jp-CodeMirrorEditor jp-Editor jp-InputArea-editor" data-type="inline">
     <div class="CodeMirror cm-s-jupyter">
<div class=" highlight hl-ipython3"><pre><span></span><span class="o">%%time</span>

<span class="n">x</span> <span class="o">=</span> <span class="n">delayed</span><span class="p">(</span><span class="n">inc</span><span class="p">)(</span><span class="mi">1</span><span class="p">)</span>
<span class="n">y</span> <span class="o">=</span> <span class="n">delayed</span><span class="p">(</span><span class="n">inc</span><span class="p">)(</span><span class="mi">2</span><span class="p">)</span>
<span class="n">z</span> <span class="o">=</span> <span class="n">delayed</span><span class="p">(</span><span class="n">add</span><span class="p">)(</span><span class="n">x</span><span class="p">,</span> <span class="n">y</span><span class="p">)</span>
</pre></div>

     </div>
</div>
</div>
</div>

<div class="jp-Cell-outputWrapper">
<div class="jp-Collapser jp-OutputCollapser jp-Cell-outputCollapser">
</div>


<div class="jp-OutputArea jp-Cell-outputArea">
<div class="jp-OutputArea-child">
    
    <div class="jp-OutputPrompt jp-OutputArea-prompt"></div>


<div class="jp-RenderedText jp-OutputArea-output" data-mime-type="text/plain">
<pre>CPU times: user 1.74 ms, sys: 34 µs, total: 1.77 ms
Wall time: 1.4 ms
</pre>
</div>
</div>

</div>

</div>

</div>
<div class="jp-Cell jp-MarkdownCell jp-Notebook-cell">
<div class="jp-Cell-inputWrapper">
<div class="jp-Collapser jp-InputCollapser jp-Cell-inputCollapser">
</div>
<div class="jp-InputArea jp-Cell-inputArea"><div class="jp-InputPrompt jp-InputArea-prompt">
</div><div class="jp-RenderedHTMLCommon jp-RenderedMarkdown jp-MarkdownOutput " data-mime-type="text/markdown">
<p><strong>This ran immediately, since nothing has really happened yet.</strong> <br>
The <code>z</code> object is a lazy <code>Delayed</code> object.  This object holds everything we need to compute the final result, including references to all of the functions that are required and their inputs and relationship to one-another.</p>

</div>
</div>
</div>
</div><div class="jp-Cell jp-CodeCell jp-Notebook-cell   ">
<div class="jp-Cell-inputWrapper">
<div class="jp-Collapser jp-InputCollapser jp-Cell-inputCollapser">
</div>
<div class="jp-InputArea jp-Cell-inputArea">
<div class="jp-InputPrompt jp-InputArea-prompt">In&nbsp;[129]:</div>
<div class="jp-CodeMirrorEditor jp-Editor jp-InputArea-editor" data-type="inline">
     <div class="CodeMirror cm-s-jupyter">
<div class=" highlight hl-ipython3"><pre><span></span><span class="n">z</span>
</pre></div>

     </div>
</div>
</div>
</div>

<div class="jp-Cell-outputWrapper">
<div class="jp-Collapser jp-OutputCollapser jp-Cell-outputCollapser">
</div>


<div class="jp-OutputArea jp-Cell-outputArea">
<div class="jp-OutputArea-child jp-OutputArea-executeResult">
    
    <div class="jp-OutputPrompt jp-OutputArea-prompt">Out[129]:</div>




<div class="jp-RenderedText jp-OutputArea-output jp-OutputArea-executeResult" data-mime-type="text/plain">
<pre>Delayed(&#39;add-5bd505b1-8762-4d58-8490-e98187920ab1&#39;)</pre>
</div>

</div>

</div>

</div>

</div>
<div class="jp-Cell jp-MarkdownCell jp-Notebook-cell">
<div class="jp-Cell-inputWrapper">
<div class="jp-Collapser jp-InputCollapser jp-Cell-inputCollapser">
</div>
<div class="jp-InputArea jp-Cell-inputArea"><div class="jp-InputPrompt jp-InputArea-prompt">
</div><div class="jp-RenderedHTMLCommon jp-RenderedMarkdown jp-MarkdownOutput " data-mime-type="text/markdown">
<p>We can visualize the task graph for this value with <code>.visualize()</code>:</p>

</div>
</div>
</div>
</div><div class="jp-Cell jp-CodeCell jp-Notebook-cell   ">
<div class="jp-Cell-inputWrapper">
<div class="jp-Collapser jp-InputCollapser jp-Cell-inputCollapser">
</div>
<div class="jp-InputArea jp-Cell-inputArea">
<div class="jp-InputPrompt jp-InputArea-prompt">In&nbsp;[130]:</div>
<div class="jp-CodeMirrorEditor jp-Editor jp-InputArea-editor" data-type="inline">
     <div class="CodeMirror cm-s-jupyter">
<div class=" highlight hl-ipython3"><pre><span></span><span class="n">z</span><span class="o">.</span><span class="n">visualize</span><span class="p">()</span>
</pre></div>

     </div>
</div>
</div>
</div>

<div class="jp-Cell-outputWrapper">
<div class="jp-Collapser jp-OutputCollapser jp-Cell-outputCollapser">
</div>


<div class="jp-OutputArea jp-Cell-outputArea">
<div class="jp-OutputArea-child jp-OutputArea-executeResult">
    
    <div class="jp-OutputPrompt jp-OutputArea-prompt">Out[130]:</div>




<div class="jp-RenderedImage jp-OutputArea-output jp-OutputArea-executeResult">
<img src="data:image/png;base64,iVBORw0KGgoAAAANSUhEUgAAALMAAAF3CAYAAADuGnrlAAAABmJLR0QA/wD/AP+gvaeTAAAgAElE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=
"
class="
"
>
</div>

</div>

</div>

</div>

</div>
<div class="jp-Cell jp-MarkdownCell jp-Notebook-cell">
<div class="jp-Cell-inputWrapper">
<div class="jp-Collapser jp-InputCollapser jp-Cell-inputCollapser">
</div>
<div class="jp-InputArea jp-Cell-inputArea"><div class="jp-InputPrompt jp-InputArea-prompt">
</div><div class="jp-RenderedHTMLCommon jp-RenderedMarkdown jp-MarkdownOutput " data-mime-type="text/markdown">
<p>To get the result, call <code>compute</code>. Notice that this runs faster than the original code.</p>

</div>
</div>
</div>
</div><div class="jp-Cell jp-CodeCell jp-Notebook-cell   ">
<div class="jp-Cell-inputWrapper">
<div class="jp-Collapser jp-InputCollapser jp-Cell-inputCollapser">
</div>
<div class="jp-InputArea jp-Cell-inputArea">
<div class="jp-InputPrompt jp-InputArea-prompt">In&nbsp;[131]:</div>
<div class="jp-CodeMirrorEditor jp-Editor jp-InputArea-editor" data-type="inline">
     <div class="CodeMirror cm-s-jupyter">
<div class=" highlight hl-ipython3"><pre><span></span><span class="o">%%time</span>

<span class="n">z</span><span class="o">.</span><span class="n">compute</span><span class="p">()</span>
</pre></div>

     </div>
</div>
</div>
</div>

<div class="jp-Cell-outputWrapper">
<div class="jp-Collapser jp-OutputCollapser jp-Cell-outputCollapser">
</div>


<div class="jp-OutputArea jp-Cell-outputArea">
<div class="jp-OutputArea-child">
    
    <div class="jp-OutputPrompt jp-OutputArea-prompt"></div>


<div class="jp-RenderedText jp-OutputArea-output" data-mime-type="text/plain">
<pre>CPU times: user 3.05 ms, sys: 2.89 ms, total: 5.94 ms
Wall time: 2.01 s
</pre>
</div>
</div>
<div class="jp-OutputArea-child jp-OutputArea-executeResult">
    
    <div class="jp-OutputPrompt jp-OutputArea-prompt">Out[131]:</div>




<div class="jp-RenderedText jp-OutputArea-output jp-OutputArea-executeResult" data-mime-type="text/plain">
<pre>5</pre>
</div>

</div>

</div>

</div>

</div>
<div class="jp-Cell jp-MarkdownCell jp-Notebook-cell">
<div class="jp-Cell-inputWrapper">
<div class="jp-Collapser jp-InputCollapser jp-Cell-inputCollapser">
</div>
<div class="jp-InputArea jp-Cell-inputArea"><div class="jp-InputPrompt jp-InputArea-prompt">
</div><div class="jp-RenderedHTMLCommon jp-RenderedMarkdown jp-MarkdownOutput " data-mime-type="text/markdown">
<h3 id="Parallelizing-a-for-loop">Parallelizing a <code>for</code> loop<a class="anchor-link" href="#Parallelizing-a-for-loop">&#182;</a></h3>
</div>
</div>
</div>
</div><div class="jp-Cell jp-CodeCell jp-Notebook-cell jp-mod-noOutputs  ">
<div class="jp-Cell-inputWrapper">
<div class="jp-Collapser jp-InputCollapser jp-Cell-inputCollapser">
</div>
<div class="jp-InputArea jp-Cell-inputArea">
<div class="jp-InputPrompt jp-InputArea-prompt">In&nbsp;[0]:</div>
<div class="jp-CodeMirrorEditor jp-Editor jp-InputArea-editor" data-type="inline">
     <div class="CodeMirror cm-s-jupyter">
<div class=" highlight hl-ipython3"><pre><span></span><span class="n">data</span> <span class="o">=</span> <span class="p">[</span><span class="mi">1</span><span class="p">,</span> <span class="mi">2</span><span class="p">,</span> <span class="mi">3</span><span class="p">,</span> <span class="mi">4</span><span class="p">,</span> <span class="mi">5</span><span class="p">,</span> <span class="mi">6</span><span class="p">,</span> <span class="mi">7</span><span class="p">,</span> <span class="mi">8</span><span class="p">]</span>
</pre></div>

     </div>
</div>
</div>
</div>

</div><div class="jp-Cell jp-CodeCell jp-Notebook-cell   ">
<div class="jp-Cell-inputWrapper">
<div class="jp-Collapser jp-InputCollapser jp-Cell-inputCollapser">
</div>
<div class="jp-InputArea jp-Cell-inputArea">
<div class="jp-InputPrompt jp-InputArea-prompt">In&nbsp;[143]:</div>
<div class="jp-CodeMirrorEditor jp-Editor jp-InputArea-editor" data-type="inline">
     <div class="CodeMirror cm-s-jupyter">
<div class=" highlight hl-ipython3"><pre><span></span><span class="o">%%time</span>

<span class="n">results</span> <span class="o">=</span> <span class="p">[]</span>
<span class="k">for</span> <span class="n">x</span> <span class="ow">in</span> <span class="n">data</span><span class="p">:</span>
    <span class="n">y</span> <span class="o">=</span> <span class="n">inc</span><span class="p">(</span><span class="n">x</span><span class="p">)</span>
    <span class="n">results</span><span class="o">.</span><span class="n">append</span><span class="p">(</span><span class="n">y</span><span class="p">)</span>
    
<span class="n">total</span> <span class="o">=</span> <span class="nb">sum</span><span class="p">(</span><span class="n">results</span><span class="p">)</span>
</pre></div>

     </div>
</div>
</div>
</div>

<div class="jp-Cell-outputWrapper">
<div class="jp-Collapser jp-OutputCollapser jp-Cell-outputCollapser">
</div>


<div class="jp-OutputArea jp-Cell-outputArea">
<div class="jp-OutputArea-child">
    
    <div class="jp-OutputPrompt jp-OutputArea-prompt"></div>


<div class="jp-RenderedText jp-OutputArea-output" data-mime-type="text/plain">
<pre>CPU times: user 7.14 ms, sys: 4.89 ms, total: 12 ms
Wall time: 8.01 s
</pre>
</div>
</div>

</div>

</div>

</div><div class="jp-Cell jp-CodeCell jp-Notebook-cell   ">
<div class="jp-Cell-inputWrapper">
<div class="jp-Collapser jp-InputCollapser jp-Cell-inputCollapser">
</div>
<div class="jp-InputArea jp-Cell-inputArea">
<div class="jp-InputPrompt jp-InputArea-prompt">In&nbsp;[144]:</div>
<div class="jp-CodeMirrorEditor jp-Editor jp-InputArea-editor" data-type="inline">
     <div class="CodeMirror cm-s-jupyter">
<div class=" highlight hl-ipython3"><pre><span></span><span class="o">%%time</span>
<span class="n">results</span> <span class="o">=</span> <span class="p">[]</span>

<span class="k">for</span> <span class="n">x</span> <span class="ow">in</span> <span class="n">data</span><span class="p">:</span>
    <span class="n">y</span> <span class="o">=</span> <span class="n">delayed</span><span class="p">(</span><span class="n">inc</span><span class="p">)(</span><span class="n">x</span><span class="p">)</span>
    <span class="n">results</span><span class="o">.</span><span class="n">append</span><span class="p">(</span><span class="n">y</span><span class="p">)</span>
    
<span class="n">total</span> <span class="o">=</span> <span class="n">delayed</span><span class="p">(</span><span class="nb">sum</span><span class="p">)(</span><span class="n">results</span><span class="p">)</span>

<span class="n">total</span><span class="o">.</span><span class="n">compute</span><span class="p">()</span>
</pre></div>

     </div>
</div>
</div>
</div>

<div class="jp-Cell-outputWrapper">
<div class="jp-Collapser jp-OutputCollapser jp-Cell-outputCollapser">
</div>


<div class="jp-OutputArea jp-Cell-outputArea">
<div class="jp-OutputArea-child">
    
    <div class="jp-OutputPrompt jp-OutputArea-prompt"></div>


<div class="jp-RenderedText jp-OutputArea-output" data-mime-type="text/plain">
<pre>CPU times: user 8.33 ms, sys: 3.89 ms, total: 12.2 ms
Wall time: 4.01 s
</pre>
</div>
</div>

</div>

</div>

</div><div class="jp-Cell jp-CodeCell jp-Notebook-cell   ">
<div class="jp-Cell-inputWrapper">
<div class="jp-Collapser jp-InputCollapser jp-Cell-inputCollapser">
</div>
<div class="jp-InputArea jp-Cell-inputArea">
<div class="jp-InputPrompt jp-InputArea-prompt">In&nbsp;[145]:</div>
<div class="jp-CodeMirrorEditor jp-Editor jp-InputArea-editor" data-type="inline">
     <div class="CodeMirror cm-s-jupyter">
<div class=" highlight hl-ipython3"><pre><span></span><span class="n">total</span><span class="o">.</span><span class="n">visualize</span><span class="p">()</span>
</pre></div>

     </div>
</div>
</div>
</div>

<div class="jp-Cell-outputWrapper">
<div class="jp-Collapser jp-OutputCollapser jp-Cell-outputCollapser">
</div>


<div class="jp-OutputArea jp-Cell-outputArea">
<div class="jp-OutputArea-child jp-OutputArea-executeResult">
    
    <div class="jp-OutputPrompt jp-OutputArea-prompt">Out[145]:</div>




<div class="jp-RenderedImage jp-OutputArea-output jp-OutputArea-executeResult">
<img src="data:image/png;base64,iVBORw0KGgoAAAANSUhEUgAAAvMAAAF9CAYAAACJV+fiAAAABmJLR0QA/wD/AP+gvaeTAAAgAElE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"
class="
"
>
</div>

</div>

</div>

</div>

</div>
<div class="jp-Cell jp-MarkdownCell jp-Notebook-cell">
<div class="jp-Cell-inputWrapper">
<div class="jp-Collapser jp-InputCollapser jp-Cell-inputCollapser">
</div>
<div class="jp-InputArea jp-Cell-inputArea"><div class="jp-InputPrompt jp-InputArea-prompt">
</div><div class="jp-RenderedHTMLCommon jp-RenderedMarkdown jp-MarkdownOutput " data-mime-type="text/markdown">
<h1 id="Dask-DataFrame">Dask DataFrame<a class="anchor-link" href="#Dask-DataFrame">&#182;</a></h1><p>Pandas is great for tabular datasets that fit in memory. Dask becomes useful when the dataset you want to analyze is larger than your machine's RAM. <code>dask.dataframe</code> will scale to datasets much larger than memory. <br></p>
<br>
The `dask.dataframe` module implements a blocked parallel `DataFrame` object that mimics a large subset of the Pandas `DataFrame`. One Dask `DataFrame` is comprised of many in-memory pandas `DataFrames` separated along the index. One operation on a Dask `DataFrame` triggers many pandas operations on the constituent pandas `DataFrame`s in a way that is mindful of potential parallelism and memory constraints.
<br>
<br>
Lets try this with an extract of flights in the USA across several years. This data is specific to flights out of the three airports in the New York City area.

</div>
</div>
</div>
</div><div class="jp-Cell jp-CodeCell jp-Notebook-cell   ">
<div class="jp-Cell-inputWrapper">
<div class="jp-Collapser jp-InputCollapser jp-Cell-inputCollapser">
</div>
<div class="jp-InputArea jp-Cell-inputArea">
<div class="jp-InputPrompt jp-InputArea-prompt">In&nbsp;[154]:</div>
<div class="jp-CodeMirrorEditor jp-Editor jp-InputArea-editor" data-type="inline">
     <div class="CodeMirror cm-s-jupyter">
<div class=" highlight hl-ipython3"><pre><span></span><span class="c1"># download the NYC Flights dataset to our workspace</span>
<span class="kn">import</span> <span class="nn">urllib</span>

<span class="nb">print</span><span class="p">(</span><span class="s2">&quot;- Downloading NYC Flights dataset... &quot;</span><span class="p">,</span> <span class="n">end</span><span class="o">=</span><span class="s1">&#39;&#39;</span><span class="p">,</span> <span class="n">flush</span><span class="o">=</span><span class="kc">True</span><span class="p">)</span>
<span class="n">url</span> <span class="o">=</span> <span class="s2">&quot;https://storage.googleapis.com/dask-tutorial-data/nycflights.tar.gz&quot;</span>
<span class="n">filename</span><span class="p">,</span> <span class="n">headers</span> <span class="o">=</span> <span class="n">urllib</span><span class="o">.</span><span class="n">request</span><span class="o">.</span><span class="n">urlretrieve</span><span class="p">(</span><span class="n">url</span><span class="p">,</span> <span class="s1">&#39;nycflights.tar.gz&#39;</span><span class="p">)</span>
<span class="nb">print</span><span class="p">(</span><span class="s2">&quot;Done!&quot;</span><span class="p">,</span> <span class="n">flush</span><span class="o">=</span><span class="kc">True</span><span class="p">)</span>
</pre></div>

     </div>
</div>
</div>
</div>

<div class="jp-Cell-outputWrapper">
<div class="jp-Collapser jp-OutputCollapser jp-Cell-outputCollapser">
</div>


<div class="jp-OutputArea jp-Cell-outputArea">
<div class="jp-OutputArea-child">
    
    <div class="jp-OutputPrompt jp-OutputArea-prompt"></div>


<div class="jp-RenderedText jp-OutputArea-output" data-mime-type="text/plain">
<pre>- Downloading NYC Flights dataset... Done!
</pre>
</div>
</div>

</div>

</div>

</div><div class="jp-Cell jp-CodeCell jp-Notebook-cell jp-mod-noOutputs  ">
<div class="jp-Cell-inputWrapper">
<div class="jp-Collapser jp-InputCollapser jp-Cell-inputCollapser">
</div>
<div class="jp-InputArea jp-Cell-inputArea">
<div class="jp-InputPrompt jp-InputArea-prompt">In&nbsp;[0]:</div>
<div class="jp-CodeMirrorEditor jp-Editor jp-InputArea-editor" data-type="inline">
     <div class="CodeMirror cm-s-jupyter">
<div class=" highlight hl-ipython3"><pre><span></span><span class="kn">import</span> <span class="nn">tarfile</span>

<span class="c1"># extract the .csv files from the tar file</span>
<span class="k">with</span> <span class="n">tarfile</span><span class="o">.</span><span class="n">open</span><span class="p">(</span><span class="n">filename</span><span class="p">,</span> <span class="n">mode</span><span class="o">=</span><span class="s1">&#39;r:gz&#39;</span><span class="p">)</span> <span class="k">as</span> <span class="n">flights</span><span class="p">:</span>
            <span class="n">flights</span><span class="o">.</span><span class="n">extractall</span><span class="p">(</span><span class="s1">&#39;data/&#39;</span><span class="p">)</span>
</pre></div>

     </div>
</div>
</div>
</div>

</div><div class="jp-Cell jp-CodeCell jp-Notebook-cell   ">
<div class="jp-Cell-inputWrapper">
<div class="jp-Collapser jp-InputCollapser jp-Cell-inputCollapser">
</div>
<div class="jp-InputArea jp-Cell-inputArea">
<div class="jp-InputPrompt jp-InputArea-prompt">In&nbsp;[156]:</div>
<div class="jp-CodeMirrorEditor jp-Editor jp-InputArea-editor" data-type="inline">
     <div class="CodeMirror cm-s-jupyter">
<div class=" highlight hl-ipython3"><pre><span></span><span class="kn">import</span> <span class="nn">os</span>
<span class="kn">import</span> <span class="nn">dask.dataframe</span> <span class="k">as</span> <span class="nn">dd</span>

<span class="n">df</span> <span class="o">=</span> <span class="n">dd</span><span class="o">.</span><span class="n">read_csv</span><span class="p">(</span><span class="n">os</span><span class="o">.</span><span class="n">path</span><span class="o">.</span><span class="n">join</span><span class="p">(</span><span class="s1">&#39;data&#39;</span><span class="p">,</span> <span class="s1">&#39;nycflights&#39;</span><span class="p">,</span> <span class="s1">&#39;*.csv&#39;</span><span class="p">),</span>
                 <span class="n">parse_dates</span><span class="o">=</span><span class="p">{</span><span class="s1">&#39;Date&#39;</span><span class="p">:</span> <span class="p">[</span><span class="mi">0</span><span class="p">,</span> <span class="mi">1</span><span class="p">,</span> <span class="mi">2</span><span class="p">]})</span>

<span class="n">df</span>
</pre></div>

     </div>
</div>
</div>
</div>

<div class="jp-Cell-outputWrapper">
<div class="jp-Collapser jp-OutputCollapser jp-Cell-outputCollapser">
</div>


<div class="jp-OutputArea jp-Cell-outputArea">
<div class="jp-OutputArea-child jp-OutputArea-executeResult">
    
    <div class="jp-OutputPrompt jp-OutputArea-prompt">Out[156]:</div>



<div class="jp-RenderedHTMLCommon jp-RenderedHTML jp-OutputArea-output jp-OutputArea-executeResult" data-mime-type="text/html">
<div><strong>Dask DataFrame Structure:</strong></div>
<div>
<style scoped>
    .dataframe tbody tr th:only-of-type {
        vertical-align: middle;
    }

    .dataframe tbody tr th {
        vertical-align: top;
    }

    .dataframe thead th {
        text-align: right;
    }
</style>
<table border="1" class="dataframe">
  <thead>
    <tr style="text-align: right;">
      <th></th>
      <th>Date</th>
      <th>DayOfWeek</th>
      <th>DepTime</th>
      <th>CRSDepTime</th>
      <th>ArrTime</th>
      <th>CRSArrTime</th>
      <th>UniqueCarrier</th>
      <th>FlightNum</th>
      <th>TailNum</th>
      <th>ActualElapsedTime</th>
      <th>CRSElapsedTime</th>
      <th>AirTime</th>
      <th>ArrDelay</th>
      <th>DepDelay</th>
      <th>Origin</th>
      <th>Dest</th>
      <th>Distance</th>
      <th>TaxiIn</th>
      <th>TaxiOut</th>
      <th>Cancelled</th>
      <th>Diverted</th>
    </tr>
    <tr>
      <th>npartitions=10</th>
      <th></th>
      <th></th>
      <th></th>
      <th></th>
      <th></th>
      <th></th>
      <th></th>
      <th></th>
      <th></th>
      <th></th>
      <th></th>
      <th></th>
      <th></th>
      <th></th>
      <th></th>
      <th></th>
      <th></th>
      <th></th>
      <th></th>
      <th></th>
      <th></th>
    </tr>
  </thead>
  <tbody>
    <tr>
      <th></th>
      <td>datetime64[ns]</td>
      <td>int64</td>
      <td>float64</td>
      <td>int64</td>
      <td>float64</td>
      <td>int64</td>
      <td>object</td>
      <td>int64</td>
      <td>float64</td>
      <td>float64</td>
      <td>int64</td>
      <td>float64</td>
      <td>float64</td>
      <td>float64</td>
      <td>object</td>
      <td>object</td>
      <td>float64</td>
      <td>float64</td>
      <td>float64</td>
      <td>int64</td>
      <td>int64</td>
    </tr>
    <tr>
      <th></th>
      <td>...</td>
      <td>...</td>
      <td>...</td>
      <td>...</td>
      <td>...</td>
      <td>...</td>
      <td>...</td>
      <td>...</td>
      <td>...</td>
      <td>...</td>
      <td>...</td>
      <td>...</td>
      <td>...</td>
      <td>...</td>
      <td>...</td>
      <td>...</td>
      <td>...</td>
      <td>...</td>
      <td>...</td>
      <td>...</td>
      <td>...</td>
    </tr>
    <tr>
      <th>...</th>
      <td>...</td>
      <td>...</td>
      <td>...</td>
      <td>...</td>
      <td>...</td>
      <td>...</td>
      <td>...</td>
      <td>...</td>
      <td>...</td>
      <td>...</td>
      <td>...</td>
      <td>...</td>
      <td>...</td>
      <td>...</td>
      <td>...</td>
      <td>...</td>
      <td>...</td>
      <td>...</td>
      <td>...</td>
      <td>...</td>
      <td>...</td>
    </tr>
    <tr>
      <th></th>
      <td>...</td>
      <td>...</td>
      <td>...</td>
      <td>...</td>
      <td>...</td>
      <td>...</td>
      <td>...</td>
      <td>...</td>
      <td>...</td>
      <td>...</td>
      <td>...</td>
      <td>...</td>
      <td>...</td>
      <td>...</td>
      <td>...</td>
      <td>...</td>
      <td>...</td>
      <td>...</td>
      <td>...</td>
      <td>...</td>
      <td>...</td>
    </tr>
    <tr>
      <th></th>
      <td>...</td>
      <td>...</td>
      <td>...</td>
      <td>...</td>
      <td>...</td>
      <td>...</td>
      <td>...</td>
      <td>...</td>
      <td>...</td>
      <td>...</td>
      <td>...</td>
      <td>...</td>
      <td>...</td>
      <td>...</td>
      <td>...</td>
      <td>...</td>
      <td>...</td>
      <td>...</td>
      <td>...</td>
      <td>...</td>
      <td>...</td>
    </tr>
  </tbody>
</table>
</div>
<div>Dask Name: from-delayed, 30 tasks</div>
</div>

</div>

</div>

</div>

</div>
<div class="jp-Cell jp-MarkdownCell jp-Notebook-cell">
<div class="jp-Cell-inputWrapper">
<div class="jp-Collapser jp-InputCollapser jp-Cell-inputCollapser">
</div>
<div class="jp-InputArea jp-Cell-inputArea"><div class="jp-InputPrompt jp-InputArea-prompt">
</div><div class="jp-RenderedHTMLCommon jp-RenderedMarkdown jp-MarkdownOutput " data-mime-type="text/markdown">
<p>Notice that the respresentation of the dataframe object contains no data - Dask has just done enough to read the start of the first file, and infer the column names and dtypes.</p>

</div>
</div>
</div>
</div><div class="jp-Cell jp-CodeCell jp-Notebook-cell   ">
<div class="jp-Cell-inputWrapper">
<div class="jp-Collapser jp-InputCollapser jp-Cell-inputCollapser">
</div>
<div class="jp-InputArea jp-Cell-inputArea">
<div class="jp-InputPrompt jp-InputArea-prompt">In&nbsp;[159]:</div>
<div class="jp-CodeMirrorEditor jp-Editor jp-InputArea-editor" data-type="inline">
     <div class="CodeMirror cm-s-jupyter">
<div class=" highlight hl-ipython3"><pre><span></span><span class="n">df</span><span class="o">.</span><span class="n">head</span><span class="p">()</span>
</pre></div>

     </div>
</div>
</div>
</div>

<div class="jp-Cell-outputWrapper">
<div class="jp-Collapser jp-OutputCollapser jp-Cell-outputCollapser">
</div>


<div class="jp-OutputArea jp-Cell-outputArea">
<div class="jp-OutputArea-child jp-OutputArea-executeResult">
    
    <div class="jp-OutputPrompt jp-OutputArea-prompt">Out[159]:</div>



<div class="jp-RenderedHTMLCommon jp-RenderedHTML jp-OutputArea-output jp-OutputArea-executeResult" data-mime-type="text/html">
<div>
<style scoped>
    .dataframe tbody tr th:only-of-type {
        vertical-align: middle;
    }

    .dataframe tbody tr th {
        vertical-align: top;
    }

    .dataframe thead th {
        text-align: right;
    }
</style>
<table border="1" class="dataframe">
  <thead>
    <tr style="text-align: right;">
      <th></th>
      <th>Date</th>
      <th>DayOfWeek</th>
      <th>DepTime</th>
      <th>CRSDepTime</th>
      <th>ArrTime</th>
      <th>CRSArrTime</th>
      <th>UniqueCarrier</th>
      <th>FlightNum</th>
      <th>TailNum</th>
      <th>ActualElapsedTime</th>
      <th>CRSElapsedTime</th>
      <th>AirTime</th>
      <th>ArrDelay</th>
      <th>DepDelay</th>
      <th>Origin</th>
      <th>Dest</th>
      <th>Distance</th>
      <th>TaxiIn</th>
      <th>TaxiOut</th>
      <th>Cancelled</th>
      <th>Diverted</th>
    </tr>
  </thead>
  <tbody>
    <tr>
      <th>0</th>
      <td>1990-01-01</td>
      <td>1</td>
      <td>1621.0</td>
      <td>1540</td>
      <td>1747.0</td>
      <td>1701</td>
      <td>US</td>
      <td>33</td>
      <td>NaN</td>
      <td>86.0</td>
      <td>81</td>
      <td>NaN</td>
      <td>46.0</td>
      <td>41.0</td>
      <td>EWR</td>
      <td>PIT</td>
      <td>319.0</td>
      <td>NaN</td>
      <td>NaN</td>
      <td>0</td>
      <td>0</td>
    </tr>
    <tr>
      <th>1</th>
      <td>1990-01-02</td>
      <td>2</td>
      <td>1547.0</td>
      <td>1540</td>
      <td>1700.0</td>
      <td>1701</td>
      <td>US</td>
      <td>33</td>
      <td>NaN</td>
      <td>73.0</td>
      <td>81</td>
      <td>NaN</td>
      <td>-1.0</td>
      <td>7.0</td>
      <td>EWR</td>
      <td>PIT</td>
      <td>319.0</td>
      <td>NaN</td>
      <td>NaN</td>
      <td>0</td>
      <td>0</td>
    </tr>
    <tr>
      <th>2</th>
      <td>1990-01-03</td>
      <td>3</td>
      <td>1546.0</td>
      <td>1540</td>
      <td>1710.0</td>
      <td>1701</td>
      <td>US</td>
      <td>33</td>
      <td>NaN</td>
      <td>84.0</td>
      <td>81</td>
      <td>NaN</td>
      <td>9.0</td>
      <td>6.0</td>
      <td>EWR</td>
      <td>PIT</td>
      <td>319.0</td>
      <td>NaN</td>
      <td>NaN</td>
      <td>0</td>
      <td>0</td>
    </tr>
    <tr>
      <th>3</th>
      <td>1990-01-04</td>
      <td>4</td>
      <td>1542.0</td>
      <td>1540</td>
      <td>1710.0</td>
      <td>1701</td>
      <td>US</td>
      <td>33</td>
      <td>NaN</td>
      <td>88.0</td>
      <td>81</td>
      <td>NaN</td>
      <td>9.0</td>
      <td>2.0</td>
      <td>EWR</td>
      <td>PIT</td>
      <td>319.0</td>
      <td>NaN</td>
      <td>NaN</td>
      <td>0</td>
      <td>0</td>
    </tr>
    <tr>
      <th>4</th>
      <td>1990-01-05</td>
      <td>5</td>
      <td>1549.0</td>
      <td>1540</td>
      <td>1706.0</td>
      <td>1701</td>
      <td>US</td>
      <td>33</td>
      <td>NaN</td>
      <td>77.0</td>
      <td>81</td>
      <td>NaN</td>
      <td>5.0</td>
      <td>9.0</td>
      <td>EWR</td>
      <td>PIT</td>
      <td>319.0</td>
      <td>NaN</td>
      <td>NaN</td>
      <td>0</td>
      <td>0</td>
    </tr>
  </tbody>
</table>
</div>
</div>

</div>

</div>

</div>

</div><div class="jp-Cell jp-CodeCell jp-Notebook-cell   ">
<div class="jp-Cell-inputWrapper">
<div class="jp-Collapser jp-InputCollapser jp-Cell-inputCollapser">
</div>
<div class="jp-InputArea jp-Cell-inputArea">
<div class="jp-InputPrompt jp-InputArea-prompt">In&nbsp;[160]:</div>
<div class="jp-CodeMirrorEditor jp-Editor jp-InputArea-editor" data-type="inline">
     <div class="CodeMirror cm-s-jupyter">
<div class=" highlight hl-ipython3"><pre><span></span><span class="n">df</span><span class="o">.</span><span class="n">tail</span><span class="p">()</span>
</pre></div>

     </div>
</div>
</div>
</div>

<div class="jp-Cell-outputWrapper">
<div class="jp-Collapser jp-OutputCollapser jp-Cell-outputCollapser">
</div>


<div class="jp-OutputArea jp-Cell-outputArea">
<div class="jp-OutputArea-child">
    
    <div class="jp-OutputPrompt jp-OutputArea-prompt"></div>


<div class="jp-RenderedText jp-OutputArea-output" data-mime-type="application/vnd.jupyter.stderr">
<pre>
<span class="ansi-red-fg">---------------------------------------------------------------------------</span>
<span class="ansi-red-fg">ValueError</span>                                Traceback (most recent call last)
<span class="ansi-green-fg">&lt;ipython-input-160-4add252522c8&gt;</span> in <span class="ansi-cyan-fg">&lt;module&gt;</span><span class="ansi-blue-fg">()</span>
<span class="ansi-green-fg">----&gt; 1</span><span class="ansi-red-fg"> </span>df<span class="ansi-blue-fg">.</span>tail<span class="ansi-blue-fg">(</span><span class="ansi-blue-fg">)</span>

<span class="ansi-green-fg">/usr/local/lib/python3.6/dist-packages/dask/dataframe/core.py</span> in <span class="ansi-cyan-fg">tail</span><span class="ansi-blue-fg">(self, n, compute)</span>
<span class="ansi-green-intense-fg ansi-bold">   1017</span> 
<span class="ansi-green-intense-fg ansi-bold">   1018</span>         <span class="ansi-green-fg">if</span> compute<span class="ansi-blue-fg">:</span>
<span class="ansi-green-fg">-&gt; 1019</span><span class="ansi-red-fg">             </span>result <span class="ansi-blue-fg">=</span> result<span class="ansi-blue-fg">.</span>compute<span class="ansi-blue-fg">(</span><span class="ansi-blue-fg">)</span>
<span class="ansi-green-intense-fg ansi-bold">   1020</span>         <span class="ansi-green-fg">return</span> result
<span class="ansi-green-intense-fg ansi-bold">   1021</span> 

<span class="ansi-green-fg">/usr/local/lib/python3.6/dist-packages/dask/base.py</span> in <span class="ansi-cyan-fg">compute</span><span class="ansi-blue-fg">(self, **kwargs)</span>
<span class="ansi-green-intense-fg ansi-bold">    163</span>         dask<span class="ansi-blue-fg">.</span>base<span class="ansi-blue-fg">.</span>compute
<span class="ansi-green-intense-fg ansi-bold">    164</span>         &#34;&#34;&#34;
<span class="ansi-green-fg">--&gt; 165</span><span class="ansi-red-fg">         </span><span class="ansi-blue-fg">(</span>result<span class="ansi-blue-fg">,</span><span class="ansi-blue-fg">)</span> <span class="ansi-blue-fg">=</span> compute<span class="ansi-blue-fg">(</span>self<span class="ansi-blue-fg">,</span> traverse<span class="ansi-blue-fg">=</span><span class="ansi-green-fg">False</span><span class="ansi-blue-fg">,</span> <span class="ansi-blue-fg">**</span>kwargs<span class="ansi-blue-fg">)</span>
<span class="ansi-green-intense-fg ansi-bold">    166</span>         <span class="ansi-green-fg">return</span> result
<span class="ansi-green-intense-fg ansi-bold">    167</span> 

<span class="ansi-green-fg">/usr/local/lib/python3.6/dist-packages/dask/base.py</span> in <span class="ansi-cyan-fg">compute</span><span class="ansi-blue-fg">(*args, **kwargs)</span>
<span class="ansi-green-intense-fg ansi-bold">    434</span>     keys <span class="ansi-blue-fg">=</span> <span class="ansi-blue-fg">[</span>x<span class="ansi-blue-fg">.</span>__dask_keys__<span class="ansi-blue-fg">(</span><span class="ansi-blue-fg">)</span> <span class="ansi-green-fg">for</span> x <span class="ansi-green-fg">in</span> collections<span class="ansi-blue-fg">]</span>
<span class="ansi-green-intense-fg ansi-bold">    435</span>     postcomputes <span class="ansi-blue-fg">=</span> <span class="ansi-blue-fg">[</span>x<span class="ansi-blue-fg">.</span>__dask_postcompute__<span class="ansi-blue-fg">(</span><span class="ansi-blue-fg">)</span> <span class="ansi-green-fg">for</span> x <span class="ansi-green-fg">in</span> collections<span class="ansi-blue-fg">]</span>
<span class="ansi-green-fg">--&gt; 436</span><span class="ansi-red-fg">     </span>results <span class="ansi-blue-fg">=</span> schedule<span class="ansi-blue-fg">(</span>dsk<span class="ansi-blue-fg">,</span> keys<span class="ansi-blue-fg">,</span> <span class="ansi-blue-fg">**</span>kwargs<span class="ansi-blue-fg">)</span>
<span class="ansi-green-intense-fg ansi-bold">    437</span>     <span class="ansi-green-fg">return</span> repack<span class="ansi-blue-fg">(</span><span class="ansi-blue-fg">[</span>f<span class="ansi-blue-fg">(</span>r<span class="ansi-blue-fg">,</span> <span class="ansi-blue-fg">*</span>a<span class="ansi-blue-fg">)</span> <span class="ansi-green-fg">for</span> r<span class="ansi-blue-fg">,</span> <span class="ansi-blue-fg">(</span>f<span class="ansi-blue-fg">,</span> a<span class="ansi-blue-fg">)</span> <span class="ansi-green-fg">in</span> zip<span class="ansi-blue-fg">(</span>results<span class="ansi-blue-fg">,</span> postcomputes<span class="ansi-blue-fg">)</span><span class="ansi-blue-fg">]</span><span class="ansi-blue-fg">)</span>
<span class="ansi-green-intense-fg ansi-bold">    438</span> 

<span class="ansi-green-fg">/usr/local/lib/python3.6/dist-packages/dask/threaded.py</span> in <span class="ansi-cyan-fg">get</span><span class="ansi-blue-fg">(dsk, result, cache, num_workers, pool, **kwargs)</span>
<span class="ansi-green-intense-fg ansi-bold">     79</span>         get_id<span class="ansi-blue-fg">=</span>_thread_get_id<span class="ansi-blue-fg">,</span>
<span class="ansi-green-intense-fg ansi-bold">     80</span>         pack_exception<span class="ansi-blue-fg">=</span>pack_exception<span class="ansi-blue-fg">,</span>
<span class="ansi-green-fg">---&gt; 81</span><span class="ansi-red-fg">         </span><span class="ansi-blue-fg">**</span>kwargs
<span class="ansi-green-intense-fg ansi-bold">     82</span>     )
<span class="ansi-green-intense-fg ansi-bold">     83</span> 

<span class="ansi-green-fg">/usr/local/lib/python3.6/dist-packages/dask/local.py</span> in <span class="ansi-cyan-fg">get_async</span><span class="ansi-blue-fg">(apply_async, num_workers, dsk, result, cache, get_id, rerun_exceptions_locally, pack_exception, raise_exception, callbacks, dumps, loads, **kwargs)</span>
<span class="ansi-green-intense-fg ansi-bold">    484</span>                         _execute_task<span class="ansi-blue-fg">(</span>task<span class="ansi-blue-fg">,</span> data<span class="ansi-blue-fg">)</span>  <span class="ansi-red-fg"># Re-execute locally</span>
<span class="ansi-green-intense-fg ansi-bold">    485</span>                     <span class="ansi-green-fg">else</span><span class="ansi-blue-fg">:</span>
<span class="ansi-green-fg">--&gt; 486</span><span class="ansi-red-fg">                         </span>raise_exception<span class="ansi-blue-fg">(</span>exc<span class="ansi-blue-fg">,</span> tb<span class="ansi-blue-fg">)</span>
<span class="ansi-green-intense-fg ansi-bold">    487</span>                 res<span class="ansi-blue-fg">,</span> worker_id <span class="ansi-blue-fg">=</span> loads<span class="ansi-blue-fg">(</span>res_info<span class="ansi-blue-fg">)</span>
<span class="ansi-green-intense-fg ansi-bold">    488</span>                 state<span class="ansi-blue-fg">[</span><span class="ansi-blue-fg">&#34;cache&#34;</span><span class="ansi-blue-fg">]</span><span class="ansi-blue-fg">[</span>key<span class="ansi-blue-fg">]</span> <span class="ansi-blue-fg">=</span> res

<span class="ansi-green-fg">/usr/local/lib/python3.6/dist-packages/dask/local.py</span> in <span class="ansi-cyan-fg">reraise</span><span class="ansi-blue-fg">(exc, tb)</span>
<span class="ansi-green-intense-fg ansi-bold">    314</span>     <span class="ansi-green-fg">if</span> exc<span class="ansi-blue-fg">.</span>__traceback__ <span class="ansi-green-fg">is</span> <span class="ansi-green-fg">not</span> tb<span class="ansi-blue-fg">:</span>
<span class="ansi-green-intense-fg ansi-bold">    315</span>         <span class="ansi-green-fg">raise</span> exc<span class="ansi-blue-fg">.</span>with_traceback<span class="ansi-blue-fg">(</span>tb<span class="ansi-blue-fg">)</span>
<span class="ansi-green-fg">--&gt; 316</span><span class="ansi-red-fg">     </span><span class="ansi-green-fg">raise</span> exc
<span class="ansi-green-intense-fg ansi-bold">    317</span> 
<span class="ansi-green-intense-fg ansi-bold">    318</span> 

<span class="ansi-green-fg">/usr/local/lib/python3.6/dist-packages/dask/local.py</span> in <span class="ansi-cyan-fg">execute_task</span><span class="ansi-blue-fg">(key, task_info, dumps, loads, get_id, pack_exception)</span>
<span class="ansi-green-intense-fg ansi-bold">    220</span>     <span class="ansi-green-fg">try</span><span class="ansi-blue-fg">:</span>
<span class="ansi-green-intense-fg ansi-bold">    221</span>         task<span class="ansi-blue-fg">,</span> data <span class="ansi-blue-fg">=</span> loads<span class="ansi-blue-fg">(</span>task_info<span class="ansi-blue-fg">)</span>
<span class="ansi-green-fg">--&gt; 222</span><span class="ansi-red-fg">         </span>result <span class="ansi-blue-fg">=</span> _execute_task<span class="ansi-blue-fg">(</span>task<span class="ansi-blue-fg">,</span> data<span class="ansi-blue-fg">)</span>
<span class="ansi-green-intense-fg ansi-bold">    223</span>         id <span class="ansi-blue-fg">=</span> get_id<span class="ansi-blue-fg">(</span><span class="ansi-blue-fg">)</span>
<span class="ansi-green-intense-fg ansi-bold">    224</span>         result <span class="ansi-blue-fg">=</span> dumps<span class="ansi-blue-fg">(</span><span class="ansi-blue-fg">(</span>result<span class="ansi-blue-fg">,</span> id<span class="ansi-blue-fg">)</span><span class="ansi-blue-fg">)</span>

<span class="ansi-green-fg">/usr/local/lib/python3.6/dist-packages/dask/core.py</span> in <span class="ansi-cyan-fg">_execute_task</span><span class="ansi-blue-fg">(arg, cache, dsk)</span>
<span class="ansi-green-intense-fg ansi-bold">    116</span>     <span class="ansi-green-fg">elif</span> istask<span class="ansi-blue-fg">(</span>arg<span class="ansi-blue-fg">)</span><span class="ansi-blue-fg">:</span>
<span class="ansi-green-intense-fg ansi-bold">    117</span>         func<span class="ansi-blue-fg">,</span> args <span class="ansi-blue-fg">=</span> arg<span class="ansi-blue-fg">[</span><span class="ansi-cyan-fg">0</span><span class="ansi-blue-fg">]</span><span class="ansi-blue-fg">,</span> arg<span class="ansi-blue-fg">[</span><span class="ansi-cyan-fg">1</span><span class="ansi-blue-fg">:</span><span class="ansi-blue-fg">]</span>
<span class="ansi-green-fg">--&gt; 118</span><span class="ansi-red-fg">         </span>args2 <span class="ansi-blue-fg">=</span> <span class="ansi-blue-fg">[</span>_execute_task<span class="ansi-blue-fg">(</span>a<span class="ansi-blue-fg">,</span> cache<span class="ansi-blue-fg">)</span> <span class="ansi-green-fg">for</span> a <span class="ansi-green-fg">in</span> args<span class="ansi-blue-fg">]</span>
<span class="ansi-green-intense-fg ansi-bold">    119</span>         <span class="ansi-green-fg">return</span> func<span class="ansi-blue-fg">(</span><span class="ansi-blue-fg">*</span>args2<span class="ansi-blue-fg">)</span>
<span class="ansi-green-intense-fg ansi-bold">    120</span>     <span class="ansi-green-fg">elif</span> <span class="ansi-green-fg">not</span> ishashable<span class="ansi-blue-fg">(</span>arg<span class="ansi-blue-fg">)</span><span class="ansi-blue-fg">:</span>

<span class="ansi-green-fg">/usr/local/lib/python3.6/dist-packages/dask/core.py</span> in <span class="ansi-cyan-fg">&lt;listcomp&gt;</span><span class="ansi-blue-fg">(.0)</span>
<span class="ansi-green-intense-fg ansi-bold">    116</span>     <span class="ansi-green-fg">elif</span> istask<span class="ansi-blue-fg">(</span>arg<span class="ansi-blue-fg">)</span><span class="ansi-blue-fg">:</span>
<span class="ansi-green-intense-fg ansi-bold">    117</span>         func<span class="ansi-blue-fg">,</span> args <span class="ansi-blue-fg">=</span> arg<span class="ansi-blue-fg">[</span><span class="ansi-cyan-fg">0</span><span class="ansi-blue-fg">]</span><span class="ansi-blue-fg">,</span> arg<span class="ansi-blue-fg">[</span><span class="ansi-cyan-fg">1</span><span class="ansi-blue-fg">:</span><span class="ansi-blue-fg">]</span>
<span class="ansi-green-fg">--&gt; 118</span><span class="ansi-red-fg">         </span>args2 <span class="ansi-blue-fg">=</span> <span class="ansi-blue-fg">[</span>_execute_task<span class="ansi-blue-fg">(</span>a<span class="ansi-blue-fg">,</span> cache<span class="ansi-blue-fg">)</span> <span class="ansi-green-fg">for</span> a <span class="ansi-green-fg">in</span> args<span class="ansi-blue-fg">]</span>
<span class="ansi-green-intense-fg ansi-bold">    119</span>         <span class="ansi-green-fg">return</span> func<span class="ansi-blue-fg">(</span><span class="ansi-blue-fg">*</span>args2<span class="ansi-blue-fg">)</span>
<span class="ansi-green-intense-fg ansi-bold">    120</span>     <span class="ansi-green-fg">elif</span> <span class="ansi-green-fg">not</span> ishashable<span class="ansi-blue-fg">(</span>arg<span class="ansi-blue-fg">)</span><span class="ansi-blue-fg">:</span>

<span class="ansi-green-fg">/usr/local/lib/python3.6/dist-packages/dask/core.py</span> in <span class="ansi-cyan-fg">_execute_task</span><span class="ansi-blue-fg">(arg, cache, dsk)</span>
<span class="ansi-green-intense-fg ansi-bold">    116</span>     <span class="ansi-green-fg">elif</span> istask<span class="ansi-blue-fg">(</span>arg<span class="ansi-blue-fg">)</span><span class="ansi-blue-fg">:</span>
<span class="ansi-green-intense-fg ansi-bold">    117</span>         func<span class="ansi-blue-fg">,</span> args <span class="ansi-blue-fg">=</span> arg<span class="ansi-blue-fg">[</span><span class="ansi-cyan-fg">0</span><span class="ansi-blue-fg">]</span><span class="ansi-blue-fg">,</span> arg<span class="ansi-blue-fg">[</span><span class="ansi-cyan-fg">1</span><span class="ansi-blue-fg">:</span><span class="ansi-blue-fg">]</span>
<span class="ansi-green-fg">--&gt; 118</span><span class="ansi-red-fg">         </span>args2 <span class="ansi-blue-fg">=</span> <span class="ansi-blue-fg">[</span>_execute_task<span class="ansi-blue-fg">(</span>a<span class="ansi-blue-fg">,</span> cache<span class="ansi-blue-fg">)</span> <span class="ansi-green-fg">for</span> a <span class="ansi-green-fg">in</span> args<span class="ansi-blue-fg">]</span>
<span class="ansi-green-intense-fg ansi-bold">    119</span>         <span class="ansi-green-fg">return</span> func<span class="ansi-blue-fg">(</span><span class="ansi-blue-fg">*</span>args2<span class="ansi-blue-fg">)</span>
<span class="ansi-green-intense-fg ansi-bold">    120</span>     <span class="ansi-green-fg">elif</span> <span class="ansi-green-fg">not</span> ishashable<span class="ansi-blue-fg">(</span>arg<span class="ansi-blue-fg">)</span><span class="ansi-blue-fg">:</span>

<span class="ansi-green-fg">/usr/local/lib/python3.6/dist-packages/dask/core.py</span> in <span class="ansi-cyan-fg">&lt;listcomp&gt;</span><span class="ansi-blue-fg">(.0)</span>
<span class="ansi-green-intense-fg ansi-bold">    116</span>     <span class="ansi-green-fg">elif</span> istask<span class="ansi-blue-fg">(</span>arg<span class="ansi-blue-fg">)</span><span class="ansi-blue-fg">:</span>
<span class="ansi-green-intense-fg ansi-bold">    117</span>         func<span class="ansi-blue-fg">,</span> args <span class="ansi-blue-fg">=</span> arg<span class="ansi-blue-fg">[</span><span class="ansi-cyan-fg">0</span><span class="ansi-blue-fg">]</span><span class="ansi-blue-fg">,</span> arg<span class="ansi-blue-fg">[</span><span class="ansi-cyan-fg">1</span><span class="ansi-blue-fg">:</span><span class="ansi-blue-fg">]</span>
<span class="ansi-green-fg">--&gt; 118</span><span class="ansi-red-fg">         </span>args2 <span class="ansi-blue-fg">=</span> <span class="ansi-blue-fg">[</span>_execute_task<span class="ansi-blue-fg">(</span>a<span class="ansi-blue-fg">,</span> cache<span class="ansi-blue-fg">)</span> <span class="ansi-green-fg">for</span> a <span class="ansi-green-fg">in</span> args<span class="ansi-blue-fg">]</span>
<span class="ansi-green-intense-fg ansi-bold">    119</span>         <span class="ansi-green-fg">return</span> func<span class="ansi-blue-fg">(</span><span class="ansi-blue-fg">*</span>args2<span class="ansi-blue-fg">)</span>
<span class="ansi-green-intense-fg ansi-bold">    120</span>     <span class="ansi-green-fg">elif</span> <span class="ansi-green-fg">not</span> ishashable<span class="ansi-blue-fg">(</span>arg<span class="ansi-blue-fg">)</span><span class="ansi-blue-fg">:</span>

<span class="ansi-green-fg">/usr/local/lib/python3.6/dist-packages/dask/core.py</span> in <span class="ansi-cyan-fg">_execute_task</span><span class="ansi-blue-fg">(arg, cache, dsk)</span>
<span class="ansi-green-intense-fg ansi-bold">    117</span>         func<span class="ansi-blue-fg">,</span> args <span class="ansi-blue-fg">=</span> arg<span class="ansi-blue-fg">[</span><span class="ansi-cyan-fg">0</span><span class="ansi-blue-fg">]</span><span class="ansi-blue-fg">,</span> arg<span class="ansi-blue-fg">[</span><span class="ansi-cyan-fg">1</span><span class="ansi-blue-fg">:</span><span class="ansi-blue-fg">]</span>
<span class="ansi-green-intense-fg ansi-bold">    118</span>         args2 <span class="ansi-blue-fg">=</span> <span class="ansi-blue-fg">[</span>_execute_task<span class="ansi-blue-fg">(</span>a<span class="ansi-blue-fg">,</span> cache<span class="ansi-blue-fg">)</span> <span class="ansi-green-fg">for</span> a <span class="ansi-green-fg">in</span> args<span class="ansi-blue-fg">]</span>
<span class="ansi-green-fg">--&gt; 119</span><span class="ansi-red-fg">         </span><span class="ansi-green-fg">return</span> func<span class="ansi-blue-fg">(</span><span class="ansi-blue-fg">*</span>args2<span class="ansi-blue-fg">)</span>
<span class="ansi-green-intense-fg ansi-bold">    120</span>     <span class="ansi-green-fg">elif</span> <span class="ansi-green-fg">not</span> ishashable<span class="ansi-blue-fg">(</span>arg<span class="ansi-blue-fg">)</span><span class="ansi-blue-fg">:</span>
<span class="ansi-green-intense-fg ansi-bold">    121</span>         <span class="ansi-green-fg">return</span> arg

<span class="ansi-green-fg">/usr/local/lib/python3.6/dist-packages/dask/utils.py</span> in <span class="ansi-cyan-fg">apply</span><span class="ansi-blue-fg">(func, args, kwargs)</span>
<span class="ansi-green-intense-fg ansi-bold">     27</span> <span class="ansi-green-fg">def</span> apply<span class="ansi-blue-fg">(</span>func<span class="ansi-blue-fg">,</span> args<span class="ansi-blue-fg">,</span> kwargs<span class="ansi-blue-fg">=</span><span class="ansi-green-fg">None</span><span class="ansi-blue-fg">)</span><span class="ansi-blue-fg">:</span>
<span class="ansi-green-intense-fg ansi-bold">     28</span>     <span class="ansi-green-fg">if</span> kwargs<span class="ansi-blue-fg">:</span>
<span class="ansi-green-fg">---&gt; 29</span><span class="ansi-red-fg">         </span><span class="ansi-green-fg">return</span> func<span class="ansi-blue-fg">(</span><span class="ansi-blue-fg">*</span>args<span class="ansi-blue-fg">,</span> <span class="ansi-blue-fg">**</span>kwargs<span class="ansi-blue-fg">)</span>
<span class="ansi-green-intense-fg ansi-bold">     30</span>     <span class="ansi-green-fg">else</span><span class="ansi-blue-fg">:</span>
<span class="ansi-green-intense-fg ansi-bold">     31</span>         <span class="ansi-green-fg">return</span> func<span class="ansi-blue-fg">(</span><span class="ansi-blue-fg">*</span>args<span class="ansi-blue-fg">)</span>

<span class="ansi-green-fg">/usr/local/lib/python3.6/dist-packages/dask/dataframe/io/csv.py</span> in <span class="ansi-cyan-fg">pandas_read_text</span><span class="ansi-blue-fg">(reader, b, header, kwargs, dtypes, columns, write_header, enforce, path)</span>
<span class="ansi-green-intense-fg ansi-bold">     68</span>     df <span class="ansi-blue-fg">=</span> reader<span class="ansi-blue-fg">(</span>bio<span class="ansi-blue-fg">,</span> <span class="ansi-blue-fg">**</span>kwargs<span class="ansi-blue-fg">)</span>
<span class="ansi-green-intense-fg ansi-bold">     69</span>     <span class="ansi-green-fg">if</span> dtypes<span class="ansi-blue-fg">:</span>
<span class="ansi-green-fg">---&gt; 70</span><span class="ansi-red-fg">         </span>coerce_dtypes<span class="ansi-blue-fg">(</span>df<span class="ansi-blue-fg">,</span> dtypes<span class="ansi-blue-fg">)</span>
<span class="ansi-green-intense-fg ansi-bold">     71</span> 
<span class="ansi-green-intense-fg ansi-bold">     72</span>     <span class="ansi-green-fg">if</span> enforce <span class="ansi-green-fg">and</span> columns <span class="ansi-green-fg">and</span> <span class="ansi-blue-fg">(</span>list<span class="ansi-blue-fg">(</span>df<span class="ansi-blue-fg">.</span>columns<span class="ansi-blue-fg">)</span> <span class="ansi-blue-fg">!=</span> list<span class="ansi-blue-fg">(</span>columns<span class="ansi-blue-fg">)</span><span class="ansi-blue-fg">)</span><span class="ansi-blue-fg">:</span>

<span class="ansi-green-fg">/usr/local/lib/python3.6/dist-packages/dask/dataframe/io/csv.py</span> in <span class="ansi-cyan-fg">coerce_dtypes</span><span class="ansi-blue-fg">(df, dtypes)</span>
<span class="ansi-green-intense-fg ansi-bold">    172</span>             rule<span class="ansi-blue-fg">.</span>join<span class="ansi-blue-fg">(</span>filter<span class="ansi-blue-fg">(</span><span class="ansi-green-fg">None</span><span class="ansi-blue-fg">,</span> <span class="ansi-blue-fg">[</span>dtype_msg<span class="ansi-blue-fg">,</span> date_msg<span class="ansi-blue-fg">]</span><span class="ansi-blue-fg">)</span><span class="ansi-blue-fg">)</span>
<span class="ansi-green-intense-fg ansi-bold">    173</span>         )
<span class="ansi-green-fg">--&gt; 174</span><span class="ansi-red-fg">         </span><span class="ansi-green-fg">raise</span> ValueError<span class="ansi-blue-fg">(</span>msg<span class="ansi-blue-fg">)</span>
<span class="ansi-green-intense-fg ansi-bold">    175</span> 
<span class="ansi-green-intense-fg ansi-bold">    176</span> 

<span class="ansi-red-fg">ValueError</span>: Mismatched dtypes found in `pd.read_csv`/`pd.read_table`.

+----------------+---------+----------+
| Column         | Found   | Expected |
+----------------+---------+----------+
| CRSElapsedTime | float64 | int64    |
| TailNum        | object  | float64  |
+----------------+---------+----------+

The following columns also raised exceptions on conversion:

- TailNum
  ValueError(&#34;could not convert string to float: &#39;N54711&#39;&#34;,)

Usually this is due to dask&#39;s dtype inference failing, and
*may* be fixed by specifying dtypes manually by adding:

dtype={&#39;CRSElapsedTime&#39;: &#39;float64&#39;,
       &#39;TailNum&#39;: &#39;object&#39;}

to the call to `read_csv`/`read_table`.</pre>
</div>
</div>

</div>

</div>

</div><div class="jp-Cell jp-CodeCell jp-Notebook-cell jp-mod-noOutputs  ">
<div class="jp-Cell-inputWrapper">
<div class="jp-Collapser jp-InputCollapser jp-Cell-inputCollapser">
</div>
<div class="jp-InputArea jp-Cell-inputArea">
<div class="jp-InputPrompt jp-InputArea-prompt">In&nbsp;[0]:</div>
<div class="jp-CodeMirrorEditor jp-Editor jp-InputArea-editor" data-type="inline">
     <div class="CodeMirror cm-s-jupyter">
<div class=" highlight hl-ipython3"><pre><span></span><span class="c1"># for coloumns with mixed dtypes we have to infer the correct type</span>
<span class="n">df</span> <span class="o">=</span> <span class="n">dd</span><span class="o">.</span><span class="n">read_csv</span><span class="p">(</span><span class="n">os</span><span class="o">.</span><span class="n">path</span><span class="o">.</span><span class="n">join</span><span class="p">(</span><span class="s1">&#39;data&#39;</span><span class="p">,</span> <span class="s1">&#39;nycflights&#39;</span><span class="p">,</span> <span class="s1">&#39;*.csv&#39;</span><span class="p">),</span>
                 <span class="n">parse_dates</span><span class="o">=</span><span class="p">{</span><span class="s1">&#39;Date&#39;</span><span class="p">:</span> <span class="p">[</span><span class="mi">0</span><span class="p">,</span> <span class="mi">1</span><span class="p">,</span> <span class="mi">2</span><span class="p">]},</span>
                 <span class="n">dtype</span><span class="o">=</span><span class="p">{</span><span class="s1">&#39;TailNum&#39;</span><span class="p">:</span> <span class="nb">str</span><span class="p">,</span>
                        <span class="s1">&#39;CRSElapsedTime&#39;</span><span class="p">:</span> <span class="nb">float</span><span class="p">,</span>
                        <span class="s1">&#39;Cancelled&#39;</span><span class="p">:</span> <span class="nb">bool</span><span class="p">})</span>
</pre></div>

     </div>
</div>
</div>
</div>

</div><div class="jp-Cell jp-CodeCell jp-Notebook-cell   ">
<div class="jp-Cell-inputWrapper">
<div class="jp-Collapser jp-InputCollapser jp-Cell-inputCollapser">
</div>
<div class="jp-InputArea jp-Cell-inputArea">
<div class="jp-InputPrompt jp-InputArea-prompt">In&nbsp;[162]:</div>
<div class="jp-CodeMirrorEditor jp-Editor jp-InputArea-editor" data-type="inline">
     <div class="CodeMirror cm-s-jupyter">
<div class=" highlight hl-ipython3"><pre><span></span><span class="n">df</span><span class="o">.</span><span class="n">tail</span><span class="p">()</span>
</pre></div>

     </div>
</div>
</div>
</div>

<div class="jp-Cell-outputWrapper">
<div class="jp-Collapser jp-OutputCollapser jp-Cell-outputCollapser">
</div>


<div class="jp-OutputArea jp-Cell-outputArea">
<div class="jp-OutputArea-child jp-OutputArea-executeResult">
    
    <div class="jp-OutputPrompt jp-OutputArea-prompt">Out[162]:</div>



<div class="jp-RenderedHTMLCommon jp-RenderedHTML jp-OutputArea-output jp-OutputArea-executeResult" data-mime-type="text/html">
<div>
<style scoped>
    .dataframe tbody tr th:only-of-type {
        vertical-align: middle;
    }

    .dataframe tbody tr th {
        vertical-align: top;
    }

    .dataframe thead th {
        text-align: right;
    }
</style>
<table border="1" class="dataframe">
  <thead>
    <tr style="text-align: right;">
      <th></th>
      <th>Date</th>
      <th>DayOfWeek</th>
      <th>DepTime</th>
      <th>CRSDepTime</th>
      <th>ArrTime</th>
      <th>CRSArrTime</th>
      <th>UniqueCarrier</th>
      <th>FlightNum</th>
      <th>TailNum</th>
      <th>ActualElapsedTime</th>
      <th>CRSElapsedTime</th>
      <th>AirTime</th>
      <th>ArrDelay</th>
      <th>DepDelay</th>
      <th>Origin</th>
      <th>Dest</th>
      <th>Distance</th>
      <th>TaxiIn</th>
      <th>TaxiOut</th>
      <th>Cancelled</th>
      <th>Diverted</th>
    </tr>
  </thead>
  <tbody>
    <tr>
      <th>269176</th>
      <td>1999-12-27</td>
      <td>1</td>
      <td>1645.0</td>
      <td>1645</td>
      <td>1830.0</td>
      <td>1901</td>
      <td>UA</td>
      <td>1753</td>
      <td>N516UA</td>
      <td>225.0</td>
      <td>256.0</td>
      <td>205.0</td>
      <td>-31.0</td>
      <td>0.0</td>
      <td>LGA</td>
      <td>DEN</td>
      <td>1619.0</td>
      <td>7.0</td>
      <td>13.0</td>
      <td>False</td>
      <td>0</td>
    </tr>
    <tr>
      <th>269177</th>
      <td>1999-12-28</td>
      <td>2</td>
      <td>1726.0</td>
      <td>1645</td>
      <td>1928.0</td>
      <td>1901</td>
      <td>UA</td>
      <td>1753</td>
      <td>N504UA</td>
      <td>242.0</td>
      <td>256.0</td>
      <td>214.0</td>
      <td>27.0</td>
      <td>41.0</td>
      <td>LGA</td>
      <td>DEN</td>
      <td>1619.0</td>
      <td>5.0</td>
      <td>23.0</td>
      <td>False</td>
      <td>0</td>
    </tr>
    <tr>
      <th>269178</th>
      <td>1999-12-29</td>
      <td>3</td>
      <td>1646.0</td>
      <td>1645</td>
      <td>1846.0</td>
      <td>1901</td>
      <td>UA</td>
      <td>1753</td>
      <td>N592UA</td>
      <td>240.0</td>
      <td>256.0</td>
      <td>220.0</td>
      <td>-15.0</td>
      <td>1.0</td>
      <td>LGA</td>
      <td>DEN</td>
      <td>1619.0</td>
      <td>5.0</td>
      <td>15.0</td>
      <td>False</td>
      <td>0</td>
    </tr>
    <tr>
      <th>269179</th>
      <td>1999-12-30</td>
      <td>4</td>
      <td>1651.0</td>
      <td>1645</td>
      <td>1908.0</td>
      <td>1901</td>
      <td>UA</td>
      <td>1753</td>
      <td>N575UA</td>
      <td>257.0</td>
      <td>256.0</td>
      <td>233.0</td>
      <td>7.0</td>
      <td>6.0</td>
      <td>LGA</td>
      <td>DEN</td>
      <td>1619.0</td>
      <td>5.0</td>
      <td>19.0</td>
      <td>False</td>
      <td>0</td>
    </tr>
    <tr>
      <th>269180</th>
      <td>1999-12-31</td>
      <td>5</td>
      <td>1642.0</td>
      <td>1645</td>
      <td>1851.0</td>
      <td>1901</td>
      <td>UA</td>
      <td>1753</td>
      <td>N539UA</td>
      <td>249.0</td>
      <td>256.0</td>
      <td>232.0</td>
      <td>-10.0</td>
      <td>-3.0</td>
      <td>LGA</td>
      <td>DEN</td>
      <td>1619.0</td>
      <td>6.0</td>
      <td>11.0</td>
      <td>False</td>
      <td>0</td>
    </tr>
  </tbody>
</table>
</div>
</div>

</div>

</div>

</div>

</div>
<div class="jp-Cell jp-MarkdownCell jp-Notebook-cell">
<div class="jp-Cell-inputWrapper">
<div class="jp-Collapser jp-InputCollapser jp-Cell-inputCollapser">
</div>
<div class="jp-InputArea jp-Cell-inputArea"><div class="jp-InputPrompt jp-InputArea-prompt">
</div><div class="jp-RenderedHTMLCommon jp-RenderedMarkdown jp-MarkdownOutput " data-mime-type="text/markdown">
<h2 id="Computations-with-dask.dataframe">Computations with <code>dask.dataframe</code><a class="anchor-link" href="#Computations-with-dask.dataframe">&#182;</a></h2><p>We want to compute the maximum of the <code>DepDelay</code> column. With just pandas, we would loop over each file to find the individual maximums, then find the final maximum over all the individual maximums. Quite cumbersome. <br></p>
<br>
`dask.dataframe` lets us write pandas-like code, that operates on larger than memory datasets in parallel:

</div>
</div>
</div>
</div><div class="jp-Cell jp-CodeCell jp-Notebook-cell   ">
<div class="jp-Cell-inputWrapper">
<div class="jp-Collapser jp-InputCollapser jp-Cell-inputCollapser">
</div>
<div class="jp-InputArea jp-Cell-inputArea">
<div class="jp-InputPrompt jp-InputArea-prompt">In&nbsp;[164]:</div>
<div class="jp-CodeMirrorEditor jp-Editor jp-InputArea-editor" data-type="inline">
     <div class="CodeMirror cm-s-jupyter">
<div class=" highlight hl-ipython3"><pre><span></span><span class="o">%</span><span class="k">time</span> df.DepDelay.max().compute()
</pre></div>

     </div>
</div>
</div>
</div>

<div class="jp-Cell-outputWrapper">
<div class="jp-Collapser jp-OutputCollapser jp-Cell-outputCollapser">
</div>


<div class="jp-OutputArea jp-Cell-outputArea">
<div class="jp-OutputArea-child">
    
    <div class="jp-OutputPrompt jp-OutputArea-prompt"></div>


<div class="jp-RenderedText jp-OutputArea-output" data-mime-type="text/plain">
<pre>CPU times: user 8.95 s, sys: 253 ms, total: 9.2 s
Wall time: 5.7 s
</pre>
</div>
</div>
<div class="jp-OutputArea-child jp-OutputArea-executeResult">
    
    <div class="jp-OutputPrompt jp-OutputArea-prompt">Out[164]:</div>




<div class="jp-RenderedText jp-OutputArea-output jp-OutputArea-executeResult" data-mime-type="text/plain">
<pre>1435.0</pre>
</div>

</div>

</div>

</div>

</div>
<div class="jp-Cell jp-MarkdownCell jp-Notebook-cell">
<div class="jp-Cell-inputWrapper">
<div class="jp-Collapser jp-InputCollapser jp-Cell-inputCollapser">
</div>
<div class="jp-InputArea jp-Cell-inputArea"><div class="jp-InputPrompt jp-InputArea-prompt">
</div><div class="jp-RenderedHTMLCommon jp-RenderedMarkdown jp-MarkdownOutput " data-mime-type="text/markdown">
<p>As with <code>Delayed</code> objects, you can view the underlying task graph using the <code>.visualize</code> method:</p>

</div>
</div>
</div>
</div><div class="jp-Cell jp-CodeCell jp-Notebook-cell   ">
<div class="jp-Cell-inputWrapper">
<div class="jp-Collapser jp-InputCollapser jp-Cell-inputCollapser">
</div>
<div class="jp-InputArea jp-Cell-inputArea">
<div class="jp-InputPrompt jp-InputArea-prompt">In&nbsp;[165]:</div>
<div class="jp-CodeMirrorEditor jp-Editor jp-InputArea-editor" data-type="inline">
     <div class="CodeMirror cm-s-jupyter">
<div class=" highlight hl-ipython3"><pre><span></span><span class="n">df</span><span class="o">.</span><span class="n">DepDelay</span><span class="o">.</span><span class="n">max</span><span class="p">()</span><span class="o">.</span><span class="n">visualize</span><span class="p">(</span><span class="n">rankdir</span><span class="o">=</span><span class="s2">&quot;LR&quot;</span><span class="p">,</span> <span class="n">size</span><span class="o">=</span><span class="s2">&quot;12, 12!&quot;</span><span class="p">)</span>
</pre></div>

     </div>
</div>
</div>
</div>

<div class="jp-Cell-outputWrapper">
<div class="jp-Collapser jp-OutputCollapser jp-Cell-outputCollapser">
</div>


<div class="jp-OutputArea jp-Cell-outputArea">
<div class="jp-OutputArea-child jp-OutputArea-executeResult">
    
    <div class="jp-OutputPrompt jp-OutputArea-prompt">Out[165]:</div>




<div class="jp-RenderedImage jp-OutputArea-output jp-OutputArea-executeResult">
<img src="data:image/png;base64,iVBORw0KGgoAAAANSUhEUgAAA+oAAASACAIAAADnNCA3AAAABmJLR0QA/wD/AP+gvaeTAAAgAElE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"
class="
"
>
</div>

</div>

</div>

</div>

</div>
<div class="jp-Cell jp-MarkdownCell jp-Notebook-cell">
<div class="jp-Cell-inputWrapper">
<div class="jp-Collapser jp-InputCollapser jp-Cell-inputCollapser">
</div>
<div class="jp-InputArea jp-Cell-inputArea"><div class="jp-InputPrompt jp-InputArea-prompt">
</div><div class="jp-RenderedHTMLCommon jp-RenderedMarkdown jp-MarkdownOutput " data-mime-type="text/markdown">
<h1 id="Machine-Learning-with-Dask">Machine Learning with Dask<a class="anchor-link" href="#Machine-Learning-with-Dask">&#182;</a></h1>
</div>
</div>
</div>
</div><div class="jp-Cell jp-CodeCell jp-Notebook-cell jp-mod-noOutputs  ">
<div class="jp-Cell-inputWrapper">
<div class="jp-Collapser jp-InputCollapser jp-Cell-inputCollapser">
</div>
<div class="jp-InputArea jp-Cell-inputArea">
<div class="jp-InputPrompt jp-InputArea-prompt">In&nbsp;[0]:</div>
<div class="jp-CodeMirrorEditor jp-Editor jp-InputArea-editor" data-type="inline">
     <div class="CodeMirror cm-s-jupyter">
<div class=" highlight hl-ipython3"><pre><span></span><span class="c1"># You can grab columns from the Dask DataFrame just as you would with Pandas</span>
<span class="n">df_train</span> <span class="o">=</span> <span class="n">df</span><span class="p">[[</span><span class="s1">&#39;CRSDepTime&#39;</span><span class="p">,</span>  <span class="s1">&#39;CRSArrTime&#39;</span><span class="p">,</span> <span class="s1">&#39;Cancelled&#39;</span><span class="p">]]</span>
</pre></div>

     </div>
</div>
</div>
</div>

</div><div class="jp-Cell jp-CodeCell jp-Notebook-cell   ">
<div class="jp-Cell-inputWrapper">
<div class="jp-Collapser jp-InputCollapser jp-Cell-inputCollapser">
</div>
<div class="jp-InputArea jp-Cell-inputArea">
<div class="jp-InputPrompt jp-InputArea-prompt">In&nbsp;[181]:</div>
<div class="jp-CodeMirrorEditor jp-Editor jp-InputArea-editor" data-type="inline">
     <div class="CodeMirror cm-s-jupyter">
<div class=" highlight hl-ipython3"><pre><span></span><span class="c1"># you can query the shape (note delayed # of samples)</span>
<span class="n">df_train</span><span class="o">.</span><span class="n">shape</span>
</pre></div>

     </div>
</div>
</div>
</div>

<div class="jp-Cell-outputWrapper">
<div class="jp-Collapser jp-OutputCollapser jp-Cell-outputCollapser">
</div>


<div class="jp-OutputArea jp-Cell-outputArea">
<div class="jp-OutputArea-child jp-OutputArea-executeResult">
    
    <div class="jp-OutputPrompt jp-OutputArea-prompt">Out[181]:</div>




<div class="jp-RenderedText jp-OutputArea-output jp-OutputArea-executeResult" data-mime-type="text/plain">
<pre>(Delayed(&#39;int-a74dbd0f-b240-41cb-b538-4f020f45c6ea&#39;), 3)</pre>
</div>

</div>

</div>

</div>

</div><div class="jp-Cell jp-CodeCell jp-Notebook-cell   ">
<div class="jp-Cell-inputWrapper">
<div class="jp-Collapser jp-InputCollapser jp-Cell-inputCollapser">
</div>
<div class="jp-InputArea jp-Cell-inputArea">
<div class="jp-InputPrompt jp-InputArea-prompt">In&nbsp;[182]:</div>
<div class="jp-CodeMirrorEditor jp-Editor jp-InputArea-editor" data-type="inline">
     <div class="CodeMirror cm-s-jupyter">
<div class=" highlight hl-ipython3"><pre><span></span><span class="c1"># perform searches and operations on the data</span>
<span class="n">df_train</span><span class="o">.</span><span class="n">isnull</span><span class="p">()</span><span class="o">.</span><span class="n">sum</span><span class="p">()</span><span class="o">.</span><span class="n">compute</span><span class="p">()</span>
</pre></div>

     </div>
</div>
</div>
</div>

<div class="jp-Cell-outputWrapper">
<div class="jp-Collapser jp-OutputCollapser jp-Cell-outputCollapser">
</div>


<div class="jp-OutputArea jp-Cell-outputArea">
<div class="jp-OutputArea-child jp-OutputArea-executeResult">
    
    <div class="jp-OutputPrompt jp-OutputArea-prompt">Out[182]:</div>




<div class="jp-RenderedText jp-OutputArea-output jp-OutputArea-executeResult" data-mime-type="text/plain">
<pre>CRSDepTime    0
CRSArrTime    0
Cancelled     0
dtype: int64</pre>
</div>

</div>

</div>

</div>

</div><div class="jp-Cell jp-CodeCell jp-Notebook-cell jp-mod-noOutputs  ">
<div class="jp-Cell-inputWrapper">
<div class="jp-Collapser jp-InputCollapser jp-Cell-inputCollapser">
</div>
<div class="jp-InputArea jp-Cell-inputArea">
<div class="jp-InputPrompt jp-InputArea-prompt">In&nbsp;[0]:</div>
<div class="jp-CodeMirrorEditor jp-Editor jp-InputArea-editor" data-type="inline">
     <div class="CodeMirror cm-s-jupyter">
<div class=" highlight hl-ipython3"><pre><span></span><span class="kn">from</span> <span class="nn">keras.models</span> <span class="kn">import</span> <span class="n">Sequential</span>
<span class="kn">from</span> <span class="nn">keras.layers</span> <span class="kn">import</span> <span class="n">Dense</span>

<span class="c1"># Build a simple Keras Model</span>
<span class="n">model</span> <span class="o">=</span> <span class="n">Sequential</span><span class="p">()</span>
<span class="n">model</span><span class="o">.</span><span class="n">add</span><span class="p">(</span><span class="n">Dense</span><span class="p">(</span><span class="mi">20</span><span class="p">,</span> <span class="n">input_dim</span><span class="o">=</span><span class="n">X</span><span class="o">.</span><span class="n">shape</span><span class="p">[</span><span class="mi">1</span><span class="p">],</span> <span class="n">activation</span><span class="o">=</span><span class="s1">&#39;relu&#39;</span><span class="p">))</span>
<span class="n">model</span><span class="o">.</span><span class="n">add</span><span class="p">(</span><span class="n">Dense</span><span class="p">(</span><span class="mi">1</span><span class="p">,</span><span class="n">activation</span><span class="o">=</span><span class="s1">&#39;sigmoid&#39;</span><span class="p">))</span>

<span class="n">model</span><span class="o">.</span><span class="n">compile</span><span class="p">(</span><span class="n">loss</span><span class="o">=</span><span class="s1">&#39;binary_crossentropy&#39;</span><span class="p">,</span> <span class="n">optimizer</span><span class="o">=</span><span class="s1">&#39;sgd&#39;</span><span class="p">,)</span>
</pre></div>

     </div>
</div>
</div>
</div>

</div><div class="jp-Cell jp-CodeCell jp-Notebook-cell jp-mod-noOutputs  ">
<div class="jp-Cell-inputWrapper">
<div class="jp-Collapser jp-InputCollapser jp-Cell-inputCollapser">
</div>
<div class="jp-InputArea jp-Cell-inputArea">
<div class="jp-InputPrompt jp-InputArea-prompt">In&nbsp;[0]:</div>
<div class="jp-CodeMirrorEditor jp-Editor jp-InputArea-editor" data-type="inline">
     <div class="CodeMirror cm-s-jupyter">
<div class=" highlight hl-ipython3"><pre><span></span><span class="c1"># generate batches of data from our dask dataframe</span>
<span class="k">def</span> <span class="nf">dask_data_generator</span><span class="p">(</span><span class="n">df</span><span class="p">,</span> <span class="n">fraction</span><span class="o">=</span><span class="mf">0.01</span><span class="p">):</span>
  <span class="k">while</span> <span class="kc">True</span><span class="p">:</span>
    <span class="n">batch</span> <span class="o">=</span> <span class="n">df</span><span class="o">.</span><span class="n">sample</span><span class="p">(</span><span class="n">frac</span><span class="o">=</span><span class="n">fraction</span><span class="p">)</span>
    <span class="n">X</span> <span class="o">=</span> <span class="n">batch</span><span class="o">.</span><span class="n">iloc</span><span class="p">[:,</span> <span class="p">:</span><span class="o">-</span><span class="mi">1</span><span class="p">]</span>
    <span class="n">y</span> <span class="o">=</span> <span class="n">batch</span><span class="o">.</span><span class="n">iloc</span><span class="p">[:,</span> <span class="o">-</span><span class="mi">1</span><span class="p">]</span>
    <span class="k">yield</span> <span class="p">(</span><span class="n">X</span><span class="o">.</span><span class="n">compute</span><span class="p">(),</span> <span class="n">y</span><span class="o">.</span><span class="n">compute</span><span class="p">())</span>
</pre></div>

     </div>
</div>
</div>
</div>

</div><div class="jp-Cell jp-CodeCell jp-Notebook-cell   ">
<div class="jp-Cell-inputWrapper">
<div class="jp-Collapser jp-InputCollapser jp-Cell-inputCollapser">
</div>
<div class="jp-InputArea jp-Cell-inputArea">
<div class="jp-InputPrompt jp-InputArea-prompt">In&nbsp;[185]:</div>
<div class="jp-CodeMirrorEditor jp-Editor jp-InputArea-editor" data-type="inline">
     <div class="CodeMirror cm-s-jupyter">
<div class=" highlight hl-ipython3"><pre><span></span><span class="c1"># never run out-of-memory while training</span>
<span class="n">model</span><span class="o">.</span><span class="n">fit_generator</span><span class="p">(</span><span class="n">generator</span><span class="o">=</span><span class="n">dask_data_generator</span><span class="p">(</span><span class="n">df_train</span><span class="p">),</span>
                    <span class="n">steps_per_epoch</span><span class="o">=</span><span class="mi">100</span><span class="p">)</span>
</pre></div>

     </div>
</div>
</div>
</div>

<div class="jp-Cell-outputWrapper">
<div class="jp-Collapser jp-OutputCollapser jp-Cell-outputCollapser">
</div>


<div class="jp-OutputArea jp-Cell-outputArea">
<div class="jp-OutputArea-child">
    
    <div class="jp-OutputPrompt jp-OutputArea-prompt"></div>


<div class="jp-RenderedText jp-OutputArea-output" data-mime-type="text/plain">
<pre>Epoch 1/1
  9/100 [=&gt;............................] - ETA: 18:51 - loss: 0.4344</pre>
</div>
</div>
<div class="jp-OutputArea-child">
    
    <div class="jp-OutputPrompt jp-OutputArea-prompt"></div>


<div class="jp-RenderedText jp-OutputArea-output" data-mime-type="application/vnd.jupyter.stderr">
<pre>
<span class="ansi-red-fg">---------------------------------------------------------------------------</span>
<span class="ansi-red-fg">KeyboardInterrupt</span>                         Traceback (most recent call last)
<span class="ansi-green-fg">&lt;ipython-input-185-f84f63c2fa84&gt;</span> in <span class="ansi-cyan-fg">&lt;module&gt;</span><span class="ansi-blue-fg">()</span>
<span class="ansi-green-intense-fg ansi-bold">      1</span> model.fit_generator(generator=dask_data_generator(df_train),
<span class="ansi-green-fg">----&gt; 2</span><span class="ansi-red-fg">                     steps_per_epoch=100)
</span>
<span class="ansi-green-fg">/usr/local/lib/python3.6/dist-packages/keras/legacy/interfaces.py</span> in <span class="ansi-cyan-fg">wrapper</span><span class="ansi-blue-fg">(*args, **kwargs)</span>
<span class="ansi-green-intense-fg ansi-bold">     89</span>                 warnings.warn(&#39;Update your `&#39; + object_name + &#39;` call to the &#39; +
<span class="ansi-green-intense-fg ansi-bold">     90</span>                               &#39;Keras 2 API: &#39; + signature, stacklevel=2)
<span class="ansi-green-fg">---&gt; 91</span><span class="ansi-red-fg">             </span><span class="ansi-green-fg">return</span> func<span class="ansi-blue-fg">(</span><span class="ansi-blue-fg">*</span>args<span class="ansi-blue-fg">,</span> <span class="ansi-blue-fg">**</span>kwargs<span class="ansi-blue-fg">)</span>
<span class="ansi-green-intense-fg ansi-bold">     92</span>         wrapper<span class="ansi-blue-fg">.</span>_original_function <span class="ansi-blue-fg">=</span> func
<span class="ansi-green-intense-fg ansi-bold">     93</span>         <span class="ansi-green-fg">return</span> wrapper

<span class="ansi-green-fg">/usr/local/lib/python3.6/dist-packages/keras/engine/training.py</span> in <span class="ansi-cyan-fg">fit_generator</span><span class="ansi-blue-fg">(self, generator, steps_per_epoch, epochs, verbose, callbacks, validation_data, validation_steps, validation_freq, class_weight, max_queue_size, workers, use_multiprocessing, shuffle, initial_epoch)</span>
<span class="ansi-green-intense-fg ansi-bold">   1656</span>             use_multiprocessing<span class="ansi-blue-fg">=</span>use_multiprocessing<span class="ansi-blue-fg">,</span>
<span class="ansi-green-intense-fg ansi-bold">   1657</span>             shuffle<span class="ansi-blue-fg">=</span>shuffle<span class="ansi-blue-fg">,</span>
<span class="ansi-green-fg">-&gt; 1658</span><span class="ansi-red-fg">             initial_epoch=initial_epoch)
</span><span class="ansi-green-intense-fg ansi-bold">   1659</span> 
<span class="ansi-green-intense-fg ansi-bold">   1660</span>     <span class="ansi-blue-fg">@</span>interfaces<span class="ansi-blue-fg">.</span>legacy_generator_methods_support

<span class="ansi-green-fg">/usr/local/lib/python3.6/dist-packages/keras/engine/training_generator.py</span> in <span class="ansi-cyan-fg">fit_generator</span><span class="ansi-blue-fg">(model, generator, steps_per_epoch, epochs, verbose, callbacks, validation_data, validation_steps, validation_freq, class_weight, max_queue_size, workers, use_multiprocessing, shuffle, initial_epoch)</span>
<span class="ansi-green-intense-fg ansi-bold">    179</span>             batch_index <span class="ansi-blue-fg">=</span> <span class="ansi-cyan-fg">0</span>
<span class="ansi-green-intense-fg ansi-bold">    180</span>             <span class="ansi-green-fg">while</span> steps_done <span class="ansi-blue-fg">&lt;</span> steps_per_epoch<span class="ansi-blue-fg">:</span>
<span class="ansi-green-fg">--&gt; 181</span><span class="ansi-red-fg">                 </span>generator_output <span class="ansi-blue-fg">=</span> next<span class="ansi-blue-fg">(</span>output_generator<span class="ansi-blue-fg">)</span>
<span class="ansi-green-intense-fg ansi-bold">    182</span> 
<span class="ansi-green-intense-fg ansi-bold">    183</span>                 <span class="ansi-green-fg">if</span> <span class="ansi-green-fg">not</span> hasattr<span class="ansi-blue-fg">(</span>generator_output<span class="ansi-blue-fg">,</span> <span class="ansi-blue-fg">&#39;__len__&#39;</span><span class="ansi-blue-fg">)</span><span class="ansi-blue-fg">:</span>

<span class="ansi-green-fg">/usr/local/lib/python3.6/dist-packages/keras/utils/data_utils.py</span> in <span class="ansi-cyan-fg">get</span><span class="ansi-blue-fg">(self)</span>
<span class="ansi-green-intense-fg ansi-bold">    700</span>                 <span class="ansi-green-fg">try</span><span class="ansi-blue-fg">:</span>
<span class="ansi-green-intense-fg ansi-bold">    701</span>                     future <span class="ansi-blue-fg">=</span> self<span class="ansi-blue-fg">.</span>queue<span class="ansi-blue-fg">.</span>get<span class="ansi-blue-fg">(</span>block<span class="ansi-blue-fg">=</span><span class="ansi-green-fg">True</span><span class="ansi-blue-fg">)</span>
<span class="ansi-green-fg">--&gt; 702</span><span class="ansi-red-fg">                     </span>inputs <span class="ansi-blue-fg">=</span> future<span class="ansi-blue-fg">.</span>get<span class="ansi-blue-fg">(</span>timeout<span class="ansi-blue-fg">=</span><span class="ansi-cyan-fg">30</span><span class="ansi-blue-fg">)</span>
<span class="ansi-green-intense-fg ansi-bold">    703</span>                     self<span class="ansi-blue-fg">.</span>queue<span class="ansi-blue-fg">.</span>task_done<span class="ansi-blue-fg">(</span><span class="ansi-blue-fg">)</span>
<span class="ansi-green-intense-fg ansi-bold">    704</span>                 <span class="ansi-green-fg">except</span> mp<span class="ansi-blue-fg">.</span>TimeoutError<span class="ansi-blue-fg">:</span>

<span class="ansi-green-fg">/usr/lib/python3.6/multiprocessing/pool.py</span> in <span class="ansi-cyan-fg">get</span><span class="ansi-blue-fg">(self, timeout)</span>
<span class="ansi-green-intense-fg ansi-bold">    636</span> 
<span class="ansi-green-intense-fg ansi-bold">    637</span>     <span class="ansi-green-fg">def</span> get<span class="ansi-blue-fg">(</span>self<span class="ansi-blue-fg">,</span> timeout<span class="ansi-blue-fg">=</span><span class="ansi-green-fg">None</span><span class="ansi-blue-fg">)</span><span class="ansi-blue-fg">:</span>
<span class="ansi-green-fg">--&gt; 638</span><span class="ansi-red-fg">         </span>self<span class="ansi-blue-fg">.</span>wait<span class="ansi-blue-fg">(</span>timeout<span class="ansi-blue-fg">)</span>
<span class="ansi-green-intense-fg ansi-bold">    639</span>         <span class="ansi-green-fg">if</span> <span class="ansi-green-fg">not</span> self<span class="ansi-blue-fg">.</span>ready<span class="ansi-blue-fg">(</span><span class="ansi-blue-fg">)</span><span class="ansi-blue-fg">:</span>
<span class="ansi-green-intense-fg ansi-bold">    640</span>             <span class="ansi-green-fg">raise</span> TimeoutError

<span class="ansi-green-fg">/usr/lib/python3.6/multiprocessing/pool.py</span> in <span class="ansi-cyan-fg">wait</span><span class="ansi-blue-fg">(self, timeout)</span>
<span class="ansi-green-intense-fg ansi-bold">    633</span> 
<span class="ansi-green-intense-fg ansi-bold">    634</span>     <span class="ansi-green-fg">def</span> wait<span class="ansi-blue-fg">(</span>self<span class="ansi-blue-fg">,</span> timeout<span class="ansi-blue-fg">=</span><span class="ansi-green-fg">None</span><span class="ansi-blue-fg">)</span><span class="ansi-blue-fg">:</span>
<span class="ansi-green-fg">--&gt; 635</span><span class="ansi-red-fg">         </span>self<span class="ansi-blue-fg">.</span>_event<span class="ansi-blue-fg">.</span>wait<span class="ansi-blue-fg">(</span>timeout<span class="ansi-blue-fg">)</span>
<span class="ansi-green-intense-fg ansi-bold">    636</span> 
<span class="ansi-green-intense-fg ansi-bold">    637</span>     <span class="ansi-green-fg">def</span> get<span class="ansi-blue-fg">(</span>self<span class="ansi-blue-fg">,</span> timeout<span class="ansi-blue-fg">=</span><span class="ansi-green-fg">None</span><span class="ansi-blue-fg">)</span><span class="ansi-blue-fg">:</span>

<span class="ansi-green-fg">/usr/lib/python3.6/threading.py</span> in <span class="ansi-cyan-fg">wait</span><span class="ansi-blue-fg">(self, timeout)</span>
<span class="ansi-green-intense-fg ansi-bold">    549</span>             signaled <span class="ansi-blue-fg">=</span> self<span class="ansi-blue-fg">.</span>_flag
<span class="ansi-green-intense-fg ansi-bold">    550</span>             <span class="ansi-green-fg">if</span> <span class="ansi-green-fg">not</span> signaled<span class="ansi-blue-fg">:</span>
<span class="ansi-green-fg">--&gt; 551</span><span class="ansi-red-fg">                 </span>signaled <span class="ansi-blue-fg">=</span> self<span class="ansi-blue-fg">.</span>_cond<span class="ansi-blue-fg">.</span>wait<span class="ansi-blue-fg">(</span>timeout<span class="ansi-blue-fg">)</span>
<span class="ansi-green-intense-fg ansi-bold">    552</span>             <span class="ansi-green-fg">return</span> signaled
<span class="ansi-green-intense-fg ansi-bold">    553</span> 

<span class="ansi-green-fg">/usr/lib/python3.6/threading.py</span> in <span class="ansi-cyan-fg">wait</span><span class="ansi-blue-fg">(self, timeout)</span>
<span class="ansi-green-intense-fg ansi-bold">    297</span>             <span class="ansi-green-fg">else</span><span class="ansi-blue-fg">:</span>
<span class="ansi-green-intense-fg ansi-bold">    298</span>                 <span class="ansi-green-fg">if</span> timeout <span class="ansi-blue-fg">&gt;</span> <span class="ansi-cyan-fg">0</span><span class="ansi-blue-fg">:</span>
<span class="ansi-green-fg">--&gt; 299</span><span class="ansi-red-fg">                     </span>gotit <span class="ansi-blue-fg">=</span> waiter<span class="ansi-blue-fg">.</span>acquire<span class="ansi-blue-fg">(</span><span class="ansi-green-fg">True</span><span class="ansi-blue-fg">,</span> timeout<span class="ansi-blue-fg">)</span>
<span class="ansi-green-intense-fg ansi-bold">    300</span>                 <span class="ansi-green-fg">else</span><span class="ansi-blue-fg">:</span>
<span class="ansi-green-intense-fg ansi-bold">    301</span>                     gotit <span class="ansi-blue-fg">=</span> waiter<span class="ansi-blue-fg">.</span>acquire<span class="ansi-blue-fg">(</span><span class="ansi-green-fg">False</span><span class="ansi-blue-fg">)</span>

<span class="ansi-red-fg">KeyboardInterrupt</span>: </pre>
</div>
</div>

</div>

</div>

</div><div class="jp-Cell jp-CodeCell jp-Notebook-cell jp-mod-noOutputs  ">
<div class="jp-Cell-inputWrapper">
<div class="jp-Collapser jp-InputCollapser jp-Cell-inputCollapser">
</div>
<div class="jp-InputArea jp-Cell-inputArea">
<div class="jp-InputPrompt jp-InputArea-prompt">In&nbsp;[0]:</div>
<div class="jp-CodeMirrorEditor jp-Editor jp-InputArea-editor" data-type="inline">
     <div class="CodeMirror cm-s-jupyter">
<div class=" highlight hl-ipython3"><pre><span></span> 
</pre></div>

     </div>
</div>
</div>
</div>

</div>
</body>







</html>

  <!-- end block body safe notebook.html -->

  </div>


  
    <footer class="footer hidden-print">
      <div class="container">
        <div class="col-md-4">
          <p>
            This website does not host notebooks, it only renders notebooks
            available on other websites.
          </p>
        </div>

        <div class="col-md-4">
          <p>
            Delivered by <a href="http://www.fastly.com/">Fastly</a>,
            Rendered by <a href="https://ovhcloud.com">OVHcloud</a>
          </p>
          <p>
            nbviewer GitHub <a href="https://github.com/jupyter/nbviewer">repository</a>.
          </p>
        </div>

        <div class="col-md-4">
          
  
            
              <p>
                nbviewer version:
                <a href="https://github.com/jupyter/nbviewer/commit/8b013f79afa22d2ed627fa234783b66fde5690de">
                  8b013f7
                </a>
              </p>
            
          
  
  <p>
    nbconvert version: <a href="https://github.com/jupyter/nbconvert/releases/tag/7.2.3">
      7.2.3
    </a>
  </p>
  

          
  
  
  <p>
    Rendered
    <span class='date' data-date='Wed, 23 Oct 2024 19:48:50 UTC' title='Wed, 23 Oct 2024 19:48:50 UTC'>(Wed, 23 Oct 2024 19:48:50 UTC)</span>
  </p>
<style>
 /* I did not found other ways to override CSS for now */
div.reveal { font-size: 12px; } 
</style>
  

        </div>
      </div>
    </footer>
  

  <script src="/static/components/bootstrap/js/bootstrap.min.js"></script>
  <script src="/static/components/headroom.js/dist/headroom.min.js"></script>
  <script src="/static/components/headroom.js/dist/jQuery.headroom.min.js"></script>

  
  
  <script>
    $(function(){ $("#menubar").headroom({
      tolerance: 5,
      offset: 205,
      classes: {
        initial: "animated",
        pinned: "slideInDown",
        unpinned: "slideOutUp"
      }
    })});
  </script>


  
  <script>
    (function(i,s,o,g,r,a,m){i['GoogleAnalyticsObject']=r;i[r]=i[r]||function(){
      (i[r].q=i[r].q||[]).push(arguments)},i[r].l=1*new Date();a=s.createElement(o),
      m=s.getElementsByTagName(o)[0];a.async=1;a.src=g;m.parentNode.insertBefore(a,m)
    })(window,document,'script','https://www.google-analytics.com/analytics.js','ga');
    ga('create', 'UA-52617120-5', 'auto',
       {'storage': 'none'});
    ga('set', 'anonymizeIp', true);
    ga('send', 'pageview');
  </script>
  
  <script>
    require({
        paths: {
          moment: "/static/components/moment/min/moment.min.js"
        }
      }, ["moment"], function(moment){
      var date = $("footer .date"),
        m = moment(new Date(date.data('date'))),
        update = function(){ date.text(m.fromNow()); };
      setInterval(update, 61*1000);
      update();
      var w = $(window).scroll(function(event){
        $("body").toggleClass("scrolled", w.scrollTop() > 0);
      });
    });
  </script>

  <!--NEW RELIC Stop Perf Measurement-->
  
  <!--NEW RELIC End-->
</body>
</html>